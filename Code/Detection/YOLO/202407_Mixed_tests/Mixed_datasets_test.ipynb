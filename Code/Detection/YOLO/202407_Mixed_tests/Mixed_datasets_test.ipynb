{
 "cells": [
  {
   "cell_type": "markdown",
   "metadata": {},
   "source": [
    "# 1 Processing"
   ]
  },
  {
   "cell_type": "markdown",
   "metadata": {},
   "source": [
    "## Praperation"
   ]
  },
  {
   "cell_type": "code",
   "execution_count": 1,
   "metadata": {},
   "outputs": [
    {
     "name": "stdout",
     "output_type": "stream",
     "text": [
      "/home/jpan/xAI_Masterthesis_Pan/Code/Detection/YOLO/202407_Mixed_tests\n"
     ]
    }
   ],
   "source": [
    "import os\n",
    "HOME = os.getcwd()\n",
    "print(HOME)\n",
    "\n",
    "os.environ['KMP_DUPLICATE_LIB_OK']='TRUE'"
   ]
  },
  {
   "cell_type": "code",
   "execution_count": 2,
   "metadata": {},
   "outputs": [
    {
     "name": "stdout",
     "output_type": "stream",
     "text": [
      "env: CLEARML_WEB_HOST=https://app.clear.ml\n",
      "env: CLEARML_API_HOST=https://api.clear.ml\n",
      "env: CLEARML_FILES_HOST=https://files.clear.ml\n",
      "env: CLEARML_API_ACCESS_KEY=Z4YDBU13VPOFHBHF8667\n",
      "env: CLEARML_API_SECRET_KEY=JMzvRXn76AT83WuFJfS0FBGCY8c5TccbH5XboTYztrWqwzDdyn\n"
     ]
    }
   ],
   "source": [
    "#clearml mac\n",
    "# %env CLEARML_WEB_HOST=https://app.clear.ml\n",
    "# %env CLEARML_API_HOST=https://api.clear.ml\n",
    "# %env CLEARML_FILES_HOST=https://files.clear.ml\n",
    "# %env CLEARML_API_ACCESS_KEY=QO1VBBX9J2S2VYILQTGI\n",
    "# %env CLEARML_API_SECRET_KEY=ERuc1S6o5SirQGugvYXDFjH9b9aNi0u8S3rpALzXMa8YPSLDMW\n",
    "\n",
    "# clearml win\n",
    "%env CLEARML_WEB_HOST=https://app.clear.ml\n",
    "%env CLEARML_API_HOST=https://api.clear.ml\n",
    "%env CLEARML_FILES_HOST=https://files.clear.ml\n",
    "%env CLEARML_API_ACCESS_KEY=Z4YDBU13VPOFHBHF8667\n",
    "%env CLEARML_API_SECRET_KEY=JMzvRXn76AT83WuFJfS0FBGCY8c5TccbH5XboTYztrWqwzDdyn"
   ]
  },
  {
   "cell_type": "code",
   "execution_count": 3,
   "metadata": {},
   "outputs": [
    {
     "name": "stdout",
     "output_type": "stream",
     "text": [
      "Ultralytics YOLOv8.2.41 🚀 Python-3.12.2 torch-2.3.1+cu121 CUDA:0 (NVIDIA RTX A5000, 24241MiB)\n",
      "Setup complete ✅ (24 CPUs, 125.5 GB RAM, 320.9/459.6 GB disk)\n"
     ]
    },
    {
     "name": "stderr",
     "output_type": "stream",
     "text": [
      "/home/jpan/miniconda3/lib/python3.12/site-packages/torch/cuda/__init__.py:619: UserWarning: Can't initialize NVML\n",
      "  warnings.warn(\"Can't initialize NVML\")\n"
     ]
    }
   ],
   "source": [
    "# Pip install method (recommended)\n",
    "\n",
    "!pip install ultralytics\n",
    "\n",
    "from IPython import display\n",
    "display.clear_output()\n",
    "\n",
    "import ultralytics\n",
    "ultralytics.checks()"
   ]
  },
  {
   "cell_type": "markdown",
   "metadata": {},
   "source": [
    "## Config"
   ]
  },
  {
   "cell_type": "code",
   "execution_count": 4,
   "metadata": {},
   "outputs": [
    {
     "name": "stdout",
     "output_type": "stream",
     "text": [
      "{'project': 'Uni-Wood', 'name': 'Mixed_YOLO_d1+sf1_test_1', 'exist_ok': False, 'data_server': '/mnt/data/backup_pan/Dataset/Mixed_datasets/Det-dominik_v1-sf_v1.v2i.yolov8', 'data_yaml': '/mnt/data/backup_pan/Dataset/Mixed_datasets/Det-dominik_v1-sf_v1.v2i.yolov8/data.yaml', 'test_data': '/path/to/test_data.txt', 'imgsz': 640, 'model': 'yolov8m.yaml', 'task': 'detect', 'mode': 'train', 'device_mac': 'mps', 'device_win': 0, 'epochs': 200, 'batch': 16, 'lr0': 0.001, 'cos_lr': True, 'weight_decay': 0.0005, 'dropout': 0.0, 'optimizer': 'Adam', 'momentum': 0.9, 'seed': 42, 'save': False, 'save_period': -1, 'plots': True, 'test_output': '/path/to/test_output'}\n"
     ]
    }
   ],
   "source": [
    "# read config file\n",
    "import yaml\n",
    "\n",
    "def load_config(config_file):\n",
    "    with open(config_file, 'r') as f:\n",
    "        config = yaml.safe_load(f)\n",
    "    return config\n",
    "\n",
    "config = load_config('Mixed_d1+sf1_config_1.yaml')\n",
    "\n",
    "print(config)\n",
    "\n",
    "# project\n",
    "project = config['project']\n",
    "name = config['name']\n",
    "exist_ok = config['exist_ok']\n",
    "\n",
    "# dataset\n",
    "data_folder = config['data_server']\n",
    "data = config['data_yaml']\n",
    "test_data = config['test_data']\n",
    "imgsz = config['imgsz']\n",
    "\n",
    "# model\n",
    "model = config['model']\n",
    "task = config['task']\n",
    "mode = config['mode']\n",
    "# device = config['device_mac']\n",
    "device = config['device_win']\n",
    "\n",
    "# Training parameters\n",
    "epochs = config['epochs']\n",
    "batch = config['batch']\n",
    "lr0 = config['lr0']\n",
    "cos_lr = config['cos_lr']\n",
    "weight_decay = config['weight_decay']\n",
    "dropout = config['dropout']\n",
    "optimizer = config['optimizer']\n",
    "momentum = config['momentum']\n",
    "seed = config['seed']\n",
    "\n",
    "# Output configuration\n",
    "# save = config['save']\n",
    "# save_period = config['save_period']\n",
    "plots = config['plots']\n",
    "test_output = config['test_output']\n"
   ]
  },
  {
   "cell_type": "markdown",
   "metadata": {},
   "source": [
    "## Split data"
   ]
  },
  {
   "cell_type": "code",
   "execution_count": 5,
   "metadata": {},
   "outputs": [],
   "source": [
    "import os\n",
    "import shutil\n",
    "import random\n",
    "\n",
    "train_dir = os.path.join(data_folder, \"train\")\n",
    "val_dir = os.path.join(data_folder, \"valid\")\n",
    "test_dir = os.path.join(data_folder, \"test\")\n",
    "\n",
    "os.makedirs(os.path.join(val_dir, \"images\"), exist_ok=True)\n",
    "os.makedirs(os.path.join(val_dir, \"labels\"), exist_ok=True)\n",
    "os.makedirs(os.path.join(test_dir, \"images\"), exist_ok=True)\n",
    "os.makedirs(os.path.join(test_dir, \"labels\"), exist_ok=True)\n",
    "\n",
    "val_ratio = 0.1\n",
    "test_ratio = 0.05\n",
    "\n",
    "random.seed(seed)\n",
    "\n",
    "image_files = os.listdir(os.path.join(train_dir, \"images\"))\n",
    "label_files = os.listdir(os.path.join(train_dir, \"labels\"))\n",
    "\n",
    "image_files.sort()\n",
    "label_files.sort()\n",
    "\n",
    "data_pairs = list(zip(image_files, label_files))\n",
    "\n",
    "random.shuffle(data_pairs)\n",
    "\n",
    "total_files = len(data_pairs)\n",
    "val_count = int(total_files * val_ratio)\n",
    "test_count = int(total_files * test_ratio)\n",
    "\n",
    "val_data = data_pairs[:val_count]\n",
    "test_data = data_pairs[val_count:val_count+test_count]\n",
    "train_data = data_pairs[val_count+test_count:]\n",
    "\n"
   ]
  },
  {
   "cell_type": "code",
   "execution_count": 6,
   "metadata": {},
   "outputs": [
    {
     "name": "stdout",
     "output_type": "stream",
     "text": [
      "Split done!\n"
     ]
    }
   ],
   "source": [
    "def move_files(data, src_dir, dest_dir):\n",
    "    for img_file, lbl_file in data:\n",
    "        shutil.move(os.path.join(src_dir, \"images\", img_file), os.path.join(dest_dir, \"images\", img_file))\n",
    "        shutil.move(os.path.join(src_dir, \"labels\", lbl_file), os.path.join(dest_dir, \"labels\", lbl_file))\n",
    "\n",
    "move_files(val_data, train_dir, val_dir)\n",
    "move_files(test_data, train_dir, test_dir)\n",
    "\n",
    "print(\"Split done!\")"
   ]
  },
  {
   "cell_type": "code",
   "execution_count": 6,
   "metadata": {},
   "outputs": [
    {
     "name": "stdout",
     "output_type": "stream",
     "text": [
      "Train set: 3145 images, 3145 labels\n",
      "Validation set: 370 images, 370 labels\n",
      "Test set: 185 images, 185 labels\n"
     ]
    }
   ],
   "source": [
    "def count_files(directory):\n",
    "    images_count = len(os.listdir(os.path.join(directory, \"images\")))\n",
    "    labels_count = len(os.listdir(os.path.join(directory, \"labels\")))\n",
    "    return images_count, labels_count\n",
    "\n",
    "train_images_count, train_labels_count = count_files(train_dir)\n",
    "val_images_count, val_labels_count = count_files(val_dir)\n",
    "test_images_count, test_labels_count = count_files(test_dir)\n",
    "\n",
    "print(f\"Train set: {train_images_count} images, {train_labels_count} labels\")\n",
    "print(f\"Validation set: {val_images_count} images, {val_labels_count} labels\")\n",
    "print(f\"Test set: {test_images_count} images, {test_labels_count} labels\")"
   ]
  },
  {
   "cell_type": "code",
   "execution_count": null,
   "metadata": {},
   "outputs": [],
   "source": [
    "def move_back_files(src_dir, dest_dir):\n",
    "    for file_name in os.listdir(os.path.join(src_dir, \"images\")):\n",
    "        shutil.move(os.path.join(src_dir, \"images\", file_name), os.path.join(dest_dir, \"images\", file_name))\n",
    "    for file_name in os.listdir(os.path.join(src_dir, \"labels\")):\n",
    "        shutil.move(os.path.join(src_dir, \"labels\", file_name), os.path.join(dest_dir, \"labels\", file_name))\n",
    "\n",
    "move_back_files(val_dir, train_dir)\n",
    "move_back_files(test_dir, train_dir)\n",
    "\n",
    "print(\"Recovered!\")\n"
   ]
  },
  {
   "cell_type": "markdown",
   "metadata": {},
   "source": [
    "## Clearml"
   ]
  },
  {
   "cell_type": "code",
   "execution_count": 7,
   "metadata": {},
   "outputs": [
    {
     "name": "stdout",
     "output_type": "stream",
     "text": [
      "ClearML Task: created new task id=490d779af03247e0ba096f45ee46b6e0\n",
      "2024-07-18 14:37:29,672 - clearml.Task - INFO - Storing jupyter notebook directly as code\n",
      "ClearML results page: https://app.clear.ml/projects/6708949aad9b465d9cd5d827c7bdec1e/experiments/490d779af03247e0ba096f45ee46b6e0/output/log\n"
     ]
    },
    {
     "name": "stdout",
     "output_type": "stream",
     "text": [
      "ClearML Monitor: GPU monitoring failed getting GPU reading, switching off GPU monitoring\n"
     ]
    }
   ],
   "source": [
    "from clearml import Task\n",
    "\n",
    "#Clear ML Initialization\n",
    "cl_task = Task.init(project_name=project,task_name=name)\n",
    "logger = cl_task.get_logger()"
   ]
  },
  {
   "cell_type": "markdown",
   "metadata": {},
   "source": [
    "# 2 Training"
   ]
  },
  {
   "cell_type": "code",
   "execution_count": 8,
   "metadata": {},
   "outputs": [
    {
     "name": "stdout",
     "output_type": "stream",
     "text": [
      "New https://pypi.org/project/ultralytics/8.2.59 available 😃 Update with 'pip install -U ultralytics'\n",
      "Ultralytics YOLOv8.2.41 🚀 Python-3.12.2 torch-2.3.1+cu121 CUDA:0 (NVIDIA RTX A5000, 24241MiB)\n",
      "\u001b[34m\u001b[1mengine/trainer: \u001b[0mtask=detect, mode=train, model=yolov8m.yaml, data=/mnt/data/backup_pan/Dataset/Mixed_datasets/Det-dominik_v1-sf_v1.v2i.yolov8/data.yaml, epochs=200, time=None, patience=100, batch=16, imgsz=640, save=True, save_period=-1, cache=False, device=0, workers=8, project=Uni-Wood, name=Mixed_YOLO_d1+sf1_test_12, exist_ok=False, pretrained=True, optimizer=Adam, verbose=True, seed=42, deterministic=True, single_cls=False, rect=False, cos_lr=True, close_mosaic=10, resume=False, amp=True, fraction=1.0, profile=False, freeze=None, multi_scale=False, overlap_mask=True, mask_ratio=4, dropout=0.0, val=True, split=val, save_json=False, save_hybrid=False, conf=None, iou=0.7, max_det=300, half=False, dnn=False, plots=True, source=None, vid_stride=1, stream_buffer=False, visualize=False, augment=False, agnostic_nms=False, classes=None, retina_masks=False, embed=None, show=False, save_frames=False, save_txt=False, save_conf=False, save_crop=False, show_labels=True, show_conf=True, show_boxes=True, line_width=None, format=torchscript, keras=False, optimize=False, int8=False, dynamic=False, simplify=False, opset=None, workspace=4, nms=False, lr0=0.001, lrf=0.01, momentum=0.9, weight_decay=0.0005, warmup_epochs=3.0, warmup_momentum=0.8, warmup_bias_lr=0.1, box=7.5, cls=0.5, dfl=1.5, pose=12.0, kobj=1.0, label_smoothing=0.0, nbs=64, hsv_h=0.015, hsv_s=0.7, hsv_v=0.4, degrees=0.0, translate=0.1, scale=0.5, shear=0.0, perspective=0.0, flipud=0.0, fliplr=0.5, bgr=0.0, mosaic=1.0, mixup=0.0, copy_paste=0.0, auto_augment=randaugment, erasing=0.4, crop_fraction=1.0, cfg=None, tracker=botsort.yaml, save_dir=Uni-Wood/Mixed_YOLO_d1+sf1_test_12\n",
      "Overriding model.yaml nc=80 with nc=2\n",
      "\n",
      "                   from  n    params  module                                       arguments                     \n",
      "  0                  -1  1      1392  ultralytics.nn.modules.conv.Conv             [3, 48, 3, 2]                 \n",
      "  1                  -1  1     41664  ultralytics.nn.modules.conv.Conv             [48, 96, 3, 2]                \n",
      "  2                  -1  2    111360  ultralytics.nn.modules.block.C2f             [96, 96, 2, True]             \n",
      "  3                  -1  1    166272  ultralytics.nn.modules.conv.Conv             [96, 192, 3, 2]               \n",
      "  4                  -1  4    813312  ultralytics.nn.modules.block.C2f             [192, 192, 4, True]           \n",
      "  5                  -1  1    664320  ultralytics.nn.modules.conv.Conv             [192, 384, 3, 2]              \n",
      "  6                  -1  4   3248640  ultralytics.nn.modules.block.C2f             [384, 384, 4, True]           \n",
      "  7                  -1  1   1991808  ultralytics.nn.modules.conv.Conv             [384, 576, 3, 2]              \n",
      "  8                  -1  2   3985920  ultralytics.nn.modules.block.C2f             [576, 576, 2, True]           \n",
      "  9                  -1  1    831168  ultralytics.nn.modules.block.SPPF            [576, 576, 5]                 \n",
      " 10                  -1  1         0  torch.nn.modules.upsampling.Upsample         [None, 2, 'nearest']          \n",
      " 11             [-1, 6]  1         0  ultralytics.nn.modules.conv.Concat           [1]                           \n",
      " 12                  -1  2   1993728  ultralytics.nn.modules.block.C2f             [960, 384, 2]                 \n",
      " 13                  -1  1         0  torch.nn.modules.upsampling.Upsample         [None, 2, 'nearest']          \n",
      " 14             [-1, 4]  1         0  ultralytics.nn.modules.conv.Concat           [1]                           \n",
      " 15                  -1  2    517632  ultralytics.nn.modules.block.C2f             [576, 192, 2]                 \n",
      " 16                  -1  1    332160  ultralytics.nn.modules.conv.Conv             [192, 192, 3, 2]              \n",
      " 17            [-1, 12]  1         0  ultralytics.nn.modules.conv.Concat           [1]                           \n",
      " 18                  -1  2   1846272  ultralytics.nn.modules.block.C2f             [576, 384, 2]                 \n",
      " 19                  -1  1   1327872  ultralytics.nn.modules.conv.Conv             [384, 384, 3, 2]              \n",
      " 20             [-1, 9]  1         0  ultralytics.nn.modules.conv.Concat           [1]                           \n",
      " 21                  -1  2   4207104  ultralytics.nn.modules.block.C2f             [960, 576, 2]                 \n",
      " 22        [15, 18, 21]  1   3776854  ultralytics.nn.modules.head.Detect           [2, [192, 384, 576]]          \n",
      "YOLOv8m summary: 295 layers, 25857478 parameters, 25857462 gradients, 79.1 GFLOPs\n",
      "\n",
      "\u001b[34m\u001b[1mTensorBoard: \u001b[0mStart with 'tensorboard --logdir Uni-Wood/Mixed_YOLO_d1+sf1_test_12', view at http://localhost:6006/\n",
      "Freezing layer 'model.22.dfl.conv.weight'\n",
      "\u001b[34m\u001b[1mAMP: \u001b[0mrunning Automatic Mixed Precision (AMP) checks with YOLOv8n...\n",
      "\u001b[34m\u001b[1mAMP: \u001b[0mchecks passed ✅\n"
     ]
    },
    {
     "name": "stderr",
     "output_type": "stream",
     "text": [
      "\u001b[34m\u001b[1mtrain: \u001b[0mScanning /mnt/data/backup_pan/Dataset/Mixed_datasets/Det-dominik_v1-sf_v1.v2i.yolov8/train/labels.cache... 3145 images, 12 backgrounds, 0 corrupt: 100%|██████████| 3145/3145 [00:00<?, ?it/s]"
     ]
    },
    {
     "name": "stdout",
     "output_type": "stream",
     "text": [
      "WARNING ⚠️ Box and segment counts should be equal, but got len(segments) = 6, len(boxes) = 4310. To resolve this only boxes will be used and all segments will be removed. To avoid this please supply either a detect or segment dataset, not a detect-segment mixed dataset.\n"
     ]
    },
    {
     "name": "stderr",
     "output_type": "stream",
     "text": [
      "\n",
      "\u001b[34m\u001b[1mval: \u001b[0mScanning /mnt/data/backup_pan/Dataset/Mixed_datasets/Det-dominik_v1-sf_v1.v2i.yolov8/valid/labels.cache... 370 images, 1 backgrounds, 0 corrupt: 100%|██████████| 370/370 [00:00<?, ?it/s]\n"
     ]
    },
    {
     "name": "stdout",
     "output_type": "stream",
     "text": [
      "Plotting labels to Uni-Wood/Mixed_YOLO_d1+sf1_test_12/labels.jpg... \n",
      "\u001b[34m\u001b[1moptimizer:\u001b[0m Adam(lr=0.001, momentum=0.9) with parameter groups 77 weight(decay=0.0), 84 weight(decay=0.0005), 83 bias(decay=0.0)\n",
      "\u001b[34m\u001b[1mTensorBoard: \u001b[0mmodel graph visualization added ✅\n",
      "Image sizes 640 train, 640 val\n",
      "Using 8 dataloader workers\n",
      "Logging results to \u001b[1mUni-Wood/Mixed_YOLO_d1+sf1_test_12\u001b[0m\n",
      "Starting training for 200 epochs...\n",
      "\n",
      "      Epoch    GPU_mem   box_loss   cls_loss   dfl_loss  Instances       Size\n"
     ]
    },
    {
     "name": "stderr",
     "output_type": "stream",
     "text": [
      "      1/200      6.83G      2.891      3.335      2.663         17        640: 100%|██████████| 197/197 [00:38<00:00,  5.08it/s]\n",
      "                 Class     Images  Instances      Box(P          R      mAP50  mAP50-95): 100%|██████████| 12/12 [00:02<00:00,  5.77it/s]\n"
     ]
    },
    {
     "name": "stdout",
     "output_type": "stream",
     "text": [
      "                   all        370        522      0.326       0.29      0.209     0.0675\n",
      "\n",
      "      Epoch    GPU_mem   box_loss   cls_loss   dfl_loss  Instances       Size\n"
     ]
    },
    {
     "name": "stderr",
     "output_type": "stream",
     "text": [
      "      2/200       6.7G      2.114       2.18      2.035         19        640: 100%|██████████| 197/197 [00:37<00:00,  5.30it/s]\n",
      "                 Class     Images  Instances      Box(P          R      mAP50  mAP50-95): 100%|██████████| 12/12 [00:01<00:00,  6.08it/s]"
     ]
    },
    {
     "name": "stdout",
     "output_type": "stream",
     "text": [
      "                   all        370        522      0.269      0.383      0.284      0.119\n"
     ]
    },
    {
     "name": "stderr",
     "output_type": "stream",
     "text": [
      "\n"
     ]
    },
    {
     "name": "stdout",
     "output_type": "stream",
     "text": [
      "\n",
      "      Epoch    GPU_mem   box_loss   cls_loss   dfl_loss  Instances       Size\n"
     ]
    },
    {
     "name": "stderr",
     "output_type": "stream",
     "text": [
      "      3/200      6.71G      1.968      1.987      1.906         24        640: 100%|██████████| 197/197 [00:36<00:00,  5.34it/s]\n",
      "                 Class     Images  Instances      Box(P          R      mAP50  mAP50-95): 100%|██████████| 12/12 [00:01<00:00,  6.01it/s]"
     ]
    },
    {
     "name": "stdout",
     "output_type": "stream",
     "text": [
      "                   all        370        522      0.374      0.346       0.34      0.161\n"
     ]
    },
    {
     "name": "stderr",
     "output_type": "stream",
     "text": [
      "\n"
     ]
    },
    {
     "name": "stdout",
     "output_type": "stream",
     "text": [
      "\n",
      "      Epoch    GPU_mem   box_loss   cls_loss   dfl_loss  Instances       Size\n"
     ]
    },
    {
     "name": "stderr",
     "output_type": "stream",
     "text": [
      "      4/200       6.8G      1.871      1.852      1.847         17        640: 100%|██████████| 197/197 [00:36<00:00,  5.38it/s]\n",
      "                 Class     Images  Instances      Box(P          R      mAP50  mAP50-95): 100%|██████████| 12/12 [00:01<00:00,  6.12it/s]"
     ]
    },
    {
     "name": "stdout",
     "output_type": "stream",
     "text": [
      "                   all        370        522      0.859      0.302      0.384      0.179\n"
     ]
    },
    {
     "name": "stderr",
     "output_type": "stream",
     "text": [
      "\n"
     ]
    },
    {
     "name": "stdout",
     "output_type": "stream",
     "text": [
      "\n",
      "      Epoch    GPU_mem   box_loss   cls_loss   dfl_loss  Instances       Size\n"
     ]
    },
    {
     "name": "stderr",
     "output_type": "stream",
     "text": [
      "      5/200      6.77G      1.816       1.76        1.8         14        640: 100%|██████████| 197/197 [00:36<00:00,  5.38it/s]\n",
      "                 Class     Images  Instances      Box(P          R      mAP50  mAP50-95): 100%|██████████| 12/12 [00:01<00:00,  6.15it/s]"
     ]
    },
    {
     "name": "stdout",
     "output_type": "stream",
     "text": [
      "                   all        370        522      0.325      0.539      0.385      0.193\n"
     ]
    },
    {
     "name": "stderr",
     "output_type": "stream",
     "text": [
      "\n"
     ]
    },
    {
     "name": "stdout",
     "output_type": "stream",
     "text": [
      "\n",
      "      Epoch    GPU_mem   box_loss   cls_loss   dfl_loss  Instances       Size\n"
     ]
    },
    {
     "name": "stderr",
     "output_type": "stream",
     "text": [
      "      6/200       6.7G      1.772      1.714      1.757         18        640: 100%|██████████| 197/197 [00:36<00:00,  5.37it/s]\n",
      "                 Class     Images  Instances      Box(P          R      mAP50  mAP50-95): 100%|██████████| 12/12 [00:01<00:00,  6.13it/s]"
     ]
    },
    {
     "name": "stdout",
     "output_type": "stream",
     "text": [
      "                   all        370        522      0.868      0.324        0.4      0.206\n"
     ]
    },
    {
     "name": "stderr",
     "output_type": "stream",
     "text": [
      "\n"
     ]
    },
    {
     "name": "stdout",
     "output_type": "stream",
     "text": [
      "\n",
      "      Epoch    GPU_mem   box_loss   cls_loss   dfl_loss  Instances       Size\n"
     ]
    },
    {
     "name": "stderr",
     "output_type": "stream",
     "text": [
      "      7/200      6.81G       1.75      1.669      1.761         23        640: 100%|██████████| 197/197 [00:36<00:00,  5.38it/s]\n",
      "                 Class     Images  Instances      Box(P          R      mAP50  mAP50-95): 100%|██████████| 12/12 [00:02<00:00,  5.96it/s]"
     ]
    },
    {
     "name": "stdout",
     "output_type": "stream",
     "text": [
      "                   all        370        522      0.318       0.49      0.421      0.207\n"
     ]
    },
    {
     "name": "stderr",
     "output_type": "stream",
     "text": [
      "\n"
     ]
    },
    {
     "name": "stdout",
     "output_type": "stream",
     "text": [
      "\n",
      "      Epoch    GPU_mem   box_loss   cls_loss   dfl_loss  Instances       Size\n"
     ]
    },
    {
     "name": "stderr",
     "output_type": "stream",
     "text": [
      "      8/200      6.77G      1.702      1.652      1.724         19        640: 100%|██████████| 197/197 [00:36<00:00,  5.37it/s]\n",
      "                 Class     Images  Instances      Box(P          R      mAP50  mAP50-95): 100%|██████████| 12/12 [00:02<00:00,  5.98it/s]"
     ]
    },
    {
     "name": "stdout",
     "output_type": "stream",
     "text": [
      "                   all        370        522      0.378      0.426      0.399      0.178\n"
     ]
    },
    {
     "name": "stderr",
     "output_type": "stream",
     "text": [
      "\n"
     ]
    },
    {
     "name": "stdout",
     "output_type": "stream",
     "text": [
      "\n",
      "      Epoch    GPU_mem   box_loss   cls_loss   dfl_loss  Instances       Size\n"
     ]
    },
    {
     "name": "stderr",
     "output_type": "stream",
     "text": [
      "      9/200      6.76G      1.686       1.54      1.712         27        640: 100%|██████████| 197/197 [00:36<00:00,  5.38it/s]\n",
      "                 Class     Images  Instances      Box(P          R      mAP50  mAP50-95): 100%|██████████| 12/12 [00:01<00:00,  6.13it/s]"
     ]
    },
    {
     "name": "stdout",
     "output_type": "stream",
     "text": [
      "                   all        370        522       0.44      0.402      0.423      0.229\n"
     ]
    },
    {
     "name": "stderr",
     "output_type": "stream",
     "text": [
      "\n"
     ]
    },
    {
     "name": "stdout",
     "output_type": "stream",
     "text": [
      "\n",
      "      Epoch    GPU_mem   box_loss   cls_loss   dfl_loss  Instances       Size\n"
     ]
    },
    {
     "name": "stderr",
     "output_type": "stream",
     "text": [
      "     10/200      6.71G      1.659      1.545      1.708         15        640: 100%|██████████| 197/197 [00:36<00:00,  5.38it/s]\n",
      "                 Class     Images  Instances      Box(P          R      mAP50  mAP50-95): 100%|██████████| 12/12 [00:01<00:00,  6.07it/s]"
     ]
    },
    {
     "name": "stdout",
     "output_type": "stream",
     "text": [
      "                   all        370        522      0.864      0.348      0.472      0.222\n"
     ]
    },
    {
     "name": "stderr",
     "output_type": "stream",
     "text": [
      "\n"
     ]
    },
    {
     "name": "stdout",
     "output_type": "stream",
     "text": [
      "\n",
      "      Epoch    GPU_mem   box_loss   cls_loss   dfl_loss  Instances       Size\n"
     ]
    },
    {
     "name": "stderr",
     "output_type": "stream",
     "text": [
      "     11/200       6.8G      1.645      1.499      1.681         13        640: 100%|██████████| 197/197 [00:36<00:00,  5.37it/s]\n",
      "                 Class     Images  Instances      Box(P          R      mAP50  mAP50-95): 100%|██████████| 12/12 [00:01<00:00,  6.11it/s]"
     ]
    },
    {
     "name": "stdout",
     "output_type": "stream",
     "text": [
      "                   all        370        522      0.464      0.462      0.444      0.237\n"
     ]
    },
    {
     "name": "stderr",
     "output_type": "stream",
     "text": [
      "\n"
     ]
    },
    {
     "name": "stdout",
     "output_type": "stream",
     "text": [
      "\n",
      "      Epoch    GPU_mem   box_loss   cls_loss   dfl_loss  Instances       Size\n"
     ]
    },
    {
     "name": "stderr",
     "output_type": "stream",
     "text": [
      "     12/200      6.78G      1.628      1.487      1.677         24        640: 100%|██████████| 197/197 [00:36<00:00,  5.38it/s]\n",
      "                 Class     Images  Instances      Box(P          R      mAP50  mAP50-95): 100%|██████████| 12/12 [00:01<00:00,  6.15it/s]"
     ]
    },
    {
     "name": "stdout",
     "output_type": "stream",
     "text": [
      "                   all        370        522      0.394        0.6      0.525      0.283\n"
     ]
    },
    {
     "name": "stderr",
     "output_type": "stream",
     "text": [
      "\n"
     ]
    },
    {
     "name": "stdout",
     "output_type": "stream",
     "text": [
      "\n",
      "      Epoch    GPU_mem   box_loss   cls_loss   dfl_loss  Instances       Size\n"
     ]
    },
    {
     "name": "stderr",
     "output_type": "stream",
     "text": [
      "     13/200      6.75G      1.615      1.452      1.682         19        640: 100%|██████████| 197/197 [00:36<00:00,  5.36it/s]\n",
      "                 Class     Images  Instances      Box(P          R      mAP50  mAP50-95): 100%|██████████| 12/12 [00:01<00:00,  6.15it/s]"
     ]
    },
    {
     "name": "stdout",
     "output_type": "stream",
     "text": [
      "                   all        370        522      0.437      0.564      0.562      0.309\n"
     ]
    },
    {
     "name": "stderr",
     "output_type": "stream",
     "text": [
      "\n"
     ]
    },
    {
     "name": "stdout",
     "output_type": "stream",
     "text": [
      "\n",
      "      Epoch    GPU_mem   box_loss   cls_loss   dfl_loss  Instances       Size\n"
     ]
    },
    {
     "name": "stderr",
     "output_type": "stream",
     "text": [
      "     14/200      6.71G      1.596      1.435      1.664         19        640: 100%|██████████| 197/197 [00:36<00:00,  5.38it/s]\n",
      "                 Class     Images  Instances      Box(P          R      mAP50  mAP50-95): 100%|██████████| 12/12 [00:01<00:00,  6.16it/s]"
     ]
    },
    {
     "name": "stdout",
     "output_type": "stream",
     "text": [
      "                   all        370        522      0.532      0.445      0.476      0.248\n"
     ]
    },
    {
     "name": "stderr",
     "output_type": "stream",
     "text": [
      "\n"
     ]
    },
    {
     "name": "stdout",
     "output_type": "stream",
     "text": [
      "\n",
      "      Epoch    GPU_mem   box_loss   cls_loss   dfl_loss  Instances       Size\n"
     ]
    },
    {
     "name": "stderr",
     "output_type": "stream",
     "text": [
      "     15/200      6.81G      1.601      1.417      1.669         24        640: 100%|██████████| 197/197 [00:36<00:00,  5.38it/s]\n",
      "                 Class     Images  Instances      Box(P          R      mAP50  mAP50-95): 100%|██████████| 12/12 [00:01<00:00,  6.16it/s]"
     ]
    },
    {
     "name": "stdout",
     "output_type": "stream",
     "text": [
      "                   all        370        522      0.505      0.626      0.549      0.297\n"
     ]
    },
    {
     "name": "stderr",
     "output_type": "stream",
     "text": [
      "\n"
     ]
    },
    {
     "name": "stdout",
     "output_type": "stream",
     "text": [
      "\n",
      "      Epoch    GPU_mem   box_loss   cls_loss   dfl_loss  Instances       Size\n"
     ]
    },
    {
     "name": "stderr",
     "output_type": "stream",
     "text": [
      "     16/200      6.79G      1.578       1.41      1.667         21        640: 100%|██████████| 197/197 [00:36<00:00,  5.36it/s]\n",
      "                 Class     Images  Instances      Box(P          R      mAP50  mAP50-95): 100%|██████████| 12/12 [00:01<00:00,  6.04it/s]"
     ]
    },
    {
     "name": "stdout",
     "output_type": "stream",
     "text": [
      "                   all        370        522      0.498      0.521      0.537       0.28\n"
     ]
    },
    {
     "name": "stderr",
     "output_type": "stream",
     "text": [
      "\n"
     ]
    },
    {
     "name": "stdout",
     "output_type": "stream",
     "text": [
      "\n",
      "      Epoch    GPU_mem   box_loss   cls_loss   dfl_loss  Instances       Size\n"
     ]
    },
    {
     "name": "stderr",
     "output_type": "stream",
     "text": [
      "     17/200      6.76G      1.564      1.379      1.661         26        640: 100%|██████████| 197/197 [00:36<00:00,  5.35it/s]\n",
      "                 Class     Images  Instances      Box(P          R      mAP50  mAP50-95): 100%|██████████| 12/12 [00:01<00:00,  6.03it/s]"
     ]
    },
    {
     "name": "stdout",
     "output_type": "stream",
     "text": [
      "                   all        370        522      0.527       0.49      0.495      0.266\n"
     ]
    },
    {
     "name": "stderr",
     "output_type": "stream",
     "text": [
      "\n"
     ]
    },
    {
     "name": "stdout",
     "output_type": "stream",
     "text": [
      "\n",
      "      Epoch    GPU_mem   box_loss   cls_loss   dfl_loss  Instances       Size\n"
     ]
    },
    {
     "name": "stderr",
     "output_type": "stream",
     "text": [
      "     18/200       6.7G      1.571      1.381       1.66         14        640: 100%|██████████| 197/197 [00:36<00:00,  5.37it/s]\n",
      "                 Class     Images  Instances      Box(P          R      mAP50  mAP50-95): 100%|██████████| 12/12 [00:01<00:00,  6.05it/s]"
     ]
    },
    {
     "name": "stdout",
     "output_type": "stream",
     "text": [
      "                   all        370        522      0.529      0.606      0.536      0.302\n"
     ]
    },
    {
     "name": "stderr",
     "output_type": "stream",
     "text": [
      "\n"
     ]
    },
    {
     "name": "stdout",
     "output_type": "stream",
     "text": [
      "\n",
      "      Epoch    GPU_mem   box_loss   cls_loss   dfl_loss  Instances       Size\n"
     ]
    },
    {
     "name": "stderr",
     "output_type": "stream",
     "text": [
      "     19/200       6.8G      1.562      1.342      1.674         24        640: 100%|██████████| 197/197 [00:36<00:00,  5.36it/s]\n",
      "                 Class     Images  Instances      Box(P          R      mAP50  mAP50-95): 100%|██████████| 12/12 [00:01<00:00,  6.19it/s]"
     ]
    },
    {
     "name": "stdout",
     "output_type": "stream",
     "text": [
      "                   all        370        522      0.545      0.641      0.603      0.327\n"
     ]
    },
    {
     "name": "stderr",
     "output_type": "stream",
     "text": [
      "\n"
     ]
    },
    {
     "name": "stdout",
     "output_type": "stream",
     "text": [
      "\n",
      "      Epoch    GPU_mem   box_loss   cls_loss   dfl_loss  Instances       Size\n"
     ]
    },
    {
     "name": "stderr",
     "output_type": "stream",
     "text": [
      "     20/200      6.78G      1.531      1.334      1.637         11        640: 100%|██████████| 197/197 [00:36<00:00,  5.37it/s]\n",
      "                 Class     Images  Instances      Box(P          R      mAP50  mAP50-95): 100%|██████████| 12/12 [00:01<00:00,  6.18it/s]"
     ]
    },
    {
     "name": "stdout",
     "output_type": "stream",
     "text": [
      "                   all        370        522      0.605      0.674      0.633      0.371\n"
     ]
    },
    {
     "name": "stderr",
     "output_type": "stream",
     "text": [
      "\n"
     ]
    },
    {
     "name": "stdout",
     "output_type": "stream",
     "text": [
      "\n",
      "      Epoch    GPU_mem   box_loss   cls_loss   dfl_loss  Instances       Size\n"
     ]
    },
    {
     "name": "stderr",
     "output_type": "stream",
     "text": [
      "     21/200      6.77G      1.553      1.336      1.656         24        640: 100%|██████████| 197/197 [00:36<00:00,  5.36it/s]\n",
      "                 Class     Images  Instances      Box(P          R      mAP50  mAP50-95): 100%|██████████| 12/12 [00:01<00:00,  6.18it/s]"
     ]
    },
    {
     "name": "stdout",
     "output_type": "stream",
     "text": [
      "                   all        370        522       0.59      0.657      0.602      0.344\n"
     ]
    },
    {
     "name": "stderr",
     "output_type": "stream",
     "text": [
      "\n"
     ]
    },
    {
     "name": "stdout",
     "output_type": "stream",
     "text": [
      "\n",
      "      Epoch    GPU_mem   box_loss   cls_loss   dfl_loss  Instances       Size\n"
     ]
    },
    {
     "name": "stderr",
     "output_type": "stream",
     "text": [
      "     22/200      6.71G      1.524       1.31      1.622         18        640: 100%|██████████| 197/197 [00:36<00:00,  5.38it/s]\n",
      "                 Class     Images  Instances      Box(P          R      mAP50  mAP50-95): 100%|██████████| 12/12 [00:01<00:00,  6.05it/s]"
     ]
    },
    {
     "name": "stdout",
     "output_type": "stream",
     "text": [
      "                   all        370        522       0.69      0.586       0.64      0.356\n"
     ]
    },
    {
     "name": "stderr",
     "output_type": "stream",
     "text": [
      "\n"
     ]
    },
    {
     "name": "stdout",
     "output_type": "stream",
     "text": [
      "\n",
      "      Epoch    GPU_mem   box_loss   cls_loss   dfl_loss  Instances       Size\n"
     ]
    },
    {
     "name": "stderr",
     "output_type": "stream",
     "text": [
      "     23/200      6.81G      1.524      1.294      1.636         26        640: 100%|██████████| 197/197 [00:36<00:00,  5.37it/s]\n",
      "                 Class     Images  Instances      Box(P          R      mAP50  mAP50-95): 100%|██████████| 12/12 [00:01<00:00,  6.10it/s]"
     ]
    },
    {
     "name": "stdout",
     "output_type": "stream",
     "text": [
      "                   all        370        522      0.702      0.548      0.628      0.373\n"
     ]
    },
    {
     "name": "stderr",
     "output_type": "stream",
     "text": [
      "\n"
     ]
    },
    {
     "name": "stdout",
     "output_type": "stream",
     "text": [
      "\n",
      "      Epoch    GPU_mem   box_loss   cls_loss   dfl_loss  Instances       Size\n"
     ]
    },
    {
     "name": "stderr",
     "output_type": "stream",
     "text": [
      "     24/200      6.78G      1.519       1.28      1.626         27        640: 100%|██████████| 197/197 [00:36<00:00,  5.38it/s]\n",
      "                 Class     Images  Instances      Box(P          R      mAP50  mAP50-95): 100%|██████████| 12/12 [00:01<00:00,  6.03it/s]"
     ]
    },
    {
     "name": "stdout",
     "output_type": "stream",
     "text": [
      "                   all        370        522      0.656      0.593      0.628      0.362\n"
     ]
    },
    {
     "name": "stderr",
     "output_type": "stream",
     "text": [
      "\n"
     ]
    },
    {
     "name": "stdout",
     "output_type": "stream",
     "text": [
      "\n",
      "      Epoch    GPU_mem   box_loss   cls_loss   dfl_loss  Instances       Size\n"
     ]
    },
    {
     "name": "stderr",
     "output_type": "stream",
     "text": [
      "     25/200      6.77G      1.494      1.267       1.62         20        640: 100%|██████████| 197/197 [00:36<00:00,  5.35it/s]\n",
      "                 Class     Images  Instances      Box(P          R      mAP50  mAP50-95): 100%|██████████| 12/12 [00:01<00:00,  6.15it/s]"
     ]
    },
    {
     "name": "stdout",
     "output_type": "stream",
     "text": [
      "                   all        370        522      0.548       0.67       0.63      0.356\n"
     ]
    },
    {
     "name": "stderr",
     "output_type": "stream",
     "text": [
      "\n"
     ]
    },
    {
     "name": "stdout",
     "output_type": "stream",
     "text": [
      "\n",
      "      Epoch    GPU_mem   box_loss   cls_loss   dfl_loss  Instances       Size\n"
     ]
    },
    {
     "name": "stderr",
     "output_type": "stream",
     "text": [
      "     26/200       6.7G      1.496      1.258      1.623         16        640: 100%|██████████| 197/197 [00:36<00:00,  5.36it/s]\n",
      "                 Class     Images  Instances      Box(P          R      mAP50  mAP50-95): 100%|██████████| 12/12 [00:01<00:00,  6.10it/s]"
     ]
    },
    {
     "name": "stdout",
     "output_type": "stream",
     "text": [
      "                   all        370        522      0.641      0.708        0.7      0.417\n"
     ]
    },
    {
     "name": "stderr",
     "output_type": "stream",
     "text": [
      "\n"
     ]
    },
    {
     "name": "stdout",
     "output_type": "stream",
     "text": [
      "\n",
      "      Epoch    GPU_mem   box_loss   cls_loss   dfl_loss  Instances       Size\n"
     ]
    },
    {
     "name": "stderr",
     "output_type": "stream",
     "text": [
      "     27/200      6.81G      1.501      1.237      1.617         19        640: 100%|██████████| 197/197 [00:36<00:00,  5.37it/s]\n",
      "                 Class     Images  Instances      Box(P          R      mAP50  mAP50-95): 100%|██████████| 12/12 [00:01<00:00,  6.09it/s]"
     ]
    },
    {
     "name": "stdout",
     "output_type": "stream",
     "text": [
      "                   all        370        522      0.697      0.664      0.688      0.416\n"
     ]
    },
    {
     "name": "stderr",
     "output_type": "stream",
     "text": [
      "\n"
     ]
    },
    {
     "name": "stdout",
     "output_type": "stream",
     "text": [
      "\n",
      "      Epoch    GPU_mem   box_loss   cls_loss   dfl_loss  Instances       Size\n"
     ]
    },
    {
     "name": "stderr",
     "output_type": "stream",
     "text": [
      "     28/200      6.79G      1.473      1.206       1.59         12        640: 100%|██████████| 197/197 [00:36<00:00,  5.36it/s]\n",
      "                 Class     Images  Instances      Box(P          R      mAP50  mAP50-95): 100%|██████████| 12/12 [00:01<00:00,  6.03it/s]"
     ]
    },
    {
     "name": "stdout",
     "output_type": "stream",
     "text": [
      "                   all        370        522      0.641      0.593      0.637      0.321\n"
     ]
    },
    {
     "name": "stderr",
     "output_type": "stream",
     "text": [
      "\n"
     ]
    },
    {
     "name": "stdout",
     "output_type": "stream",
     "text": [
      "\n",
      "      Epoch    GPU_mem   box_loss   cls_loss   dfl_loss  Instances       Size\n"
     ]
    },
    {
     "name": "stderr",
     "output_type": "stream",
     "text": [
      "     29/200      6.75G      1.472      1.189      1.603         21        640: 100%|██████████| 197/197 [00:36<00:00,  5.36it/s]\n",
      "                 Class     Images  Instances      Box(P          R      mAP50  mAP50-95): 100%|██████████| 12/12 [00:01<00:00,  6.07it/s]"
     ]
    },
    {
     "name": "stdout",
     "output_type": "stream",
     "text": [
      "                   all        370        522      0.676       0.67      0.691      0.423\n"
     ]
    },
    {
     "name": "stderr",
     "output_type": "stream",
     "text": [
      "\n"
     ]
    },
    {
     "name": "stdout",
     "output_type": "stream",
     "text": [
      "\n",
      "      Epoch    GPU_mem   box_loss   cls_loss   dfl_loss  Instances       Size\n"
     ]
    },
    {
     "name": "stderr",
     "output_type": "stream",
     "text": [
      "     30/200      6.71G      1.458      1.182      1.593         19        640: 100%|██████████| 197/197 [00:36<00:00,  5.39it/s]\n",
      "                 Class     Images  Instances      Box(P          R      mAP50  mAP50-95): 100%|██████████| 12/12 [00:01<00:00,  6.09it/s]"
     ]
    },
    {
     "name": "stdout",
     "output_type": "stream",
     "text": [
      "                   all        370        522      0.792      0.642      0.751      0.444\n"
     ]
    },
    {
     "name": "stderr",
     "output_type": "stream",
     "text": [
      "\n"
     ]
    },
    {
     "name": "stdout",
     "output_type": "stream",
     "text": [
      "\n",
      "      Epoch    GPU_mem   box_loss   cls_loss   dfl_loss  Instances       Size\n"
     ]
    },
    {
     "name": "stderr",
     "output_type": "stream",
     "text": [
      "     31/200      6.81G       1.46      1.172      1.598         17        640: 100%|██████████| 197/197 [00:36<00:00,  5.41it/s]\n",
      "                 Class     Images  Instances      Box(P          R      mAP50  mAP50-95): 100%|██████████| 12/12 [00:01<00:00,  6.01it/s]"
     ]
    },
    {
     "name": "stdout",
     "output_type": "stream",
     "text": [
      "                   all        370        522      0.622      0.666      0.667      0.397\n"
     ]
    },
    {
     "name": "stderr",
     "output_type": "stream",
     "text": [
      "\n"
     ]
    },
    {
     "name": "stdout",
     "output_type": "stream",
     "text": [
      "\n",
      "      Epoch    GPU_mem   box_loss   cls_loss   dfl_loss  Instances       Size\n"
     ]
    },
    {
     "name": "stderr",
     "output_type": "stream",
     "text": [
      "     32/200      6.78G       1.45      1.178      1.583         17        640: 100%|██████████| 197/197 [00:36<00:00,  5.37it/s]\n",
      "                 Class     Images  Instances      Box(P          R      mAP50  mAP50-95): 100%|██████████| 12/12 [00:01<00:00,  6.10it/s]"
     ]
    },
    {
     "name": "stdout",
     "output_type": "stream",
     "text": [
      "                   all        370        522      0.703      0.703      0.722      0.428\n"
     ]
    },
    {
     "name": "stderr",
     "output_type": "stream",
     "text": [
      "\n"
     ]
    },
    {
     "name": "stdout",
     "output_type": "stream",
     "text": [
      "\n",
      "      Epoch    GPU_mem   box_loss   cls_loss   dfl_loss  Instances       Size\n"
     ]
    },
    {
     "name": "stderr",
     "output_type": "stream",
     "text": [
      "     33/200      6.75G      1.434      1.141      1.588         16        640: 100%|██████████| 197/197 [00:36<00:00,  5.37it/s]\n",
      "                 Class     Images  Instances      Box(P          R      mAP50  mAP50-95): 100%|██████████| 12/12 [00:01<00:00,  6.15it/s]"
     ]
    },
    {
     "name": "stdout",
     "output_type": "stream",
     "text": [
      "                   all        370        522      0.766      0.681      0.729      0.443\n"
     ]
    },
    {
     "name": "stderr",
     "output_type": "stream",
     "text": [
      "\n"
     ]
    },
    {
     "name": "stdout",
     "output_type": "stream",
     "text": [
      "\n",
      "      Epoch    GPU_mem   box_loss   cls_loss   dfl_loss  Instances       Size\n"
     ]
    },
    {
     "name": "stderr",
     "output_type": "stream",
     "text": [
      "     34/200      6.71G      1.444      1.153      1.595         23        640: 100%|██████████| 197/197 [00:36<00:00,  5.37it/s]\n",
      "                 Class     Images  Instances      Box(P          R      mAP50  mAP50-95): 100%|██████████| 12/12 [00:01<00:00,  6.17it/s]"
     ]
    },
    {
     "name": "stdout",
     "output_type": "stream",
     "text": [
      "                   all        370        522      0.668      0.622      0.665      0.372\n"
     ]
    },
    {
     "name": "stderr",
     "output_type": "stream",
     "text": [
      "\n"
     ]
    },
    {
     "name": "stdout",
     "output_type": "stream",
     "text": [
      "\n",
      "      Epoch    GPU_mem   box_loss   cls_loss   dfl_loss  Instances       Size\n"
     ]
    },
    {
     "name": "stderr",
     "output_type": "stream",
     "text": [
      "     35/200       6.8G      1.449      1.134      1.588         18        640: 100%|██████████| 197/197 [00:36<00:00,  5.38it/s]\n",
      "                 Class     Images  Instances      Box(P          R      mAP50  mAP50-95): 100%|██████████| 12/12 [00:01<00:00,  6.08it/s]"
     ]
    },
    {
     "name": "stdout",
     "output_type": "stream",
     "text": [
      "                   all        370        522       0.67      0.743      0.774      0.461\n"
     ]
    },
    {
     "name": "stderr",
     "output_type": "stream",
     "text": [
      "\n"
     ]
    },
    {
     "name": "stdout",
     "output_type": "stream",
     "text": [
      "\n",
      "      Epoch    GPU_mem   box_loss   cls_loss   dfl_loss  Instances       Size\n"
     ]
    },
    {
     "name": "stderr",
     "output_type": "stream",
     "text": [
      "     36/200      6.78G      1.423      1.119      1.577         21        640: 100%|██████████| 197/197 [00:36<00:00,  5.38it/s]\n",
      "                 Class     Images  Instances      Box(P          R      mAP50  mAP50-95): 100%|██████████| 12/12 [00:02<00:00,  5.98it/s]"
     ]
    },
    {
     "name": "stdout",
     "output_type": "stream",
     "text": [
      "                   all        370        522      0.657      0.647       0.66      0.359\n"
     ]
    },
    {
     "name": "stderr",
     "output_type": "stream",
     "text": [
      "\n"
     ]
    },
    {
     "name": "stdout",
     "output_type": "stream",
     "text": [
      "\n",
      "      Epoch    GPU_mem   box_loss   cls_loss   dfl_loss  Instances       Size\n"
     ]
    },
    {
     "name": "stderr",
     "output_type": "stream",
     "text": [
      "     37/200      6.77G      1.428      1.117      1.579         19        640: 100%|██████████| 197/197 [00:36<00:00,  5.38it/s]\n",
      "                 Class     Images  Instances      Box(P          R      mAP50  mAP50-95): 100%|██████████| 12/12 [00:01<00:00,  6.21it/s]"
     ]
    },
    {
     "name": "stdout",
     "output_type": "stream",
     "text": [
      "                   all        370        522      0.751       0.62      0.719      0.442\n"
     ]
    },
    {
     "name": "stderr",
     "output_type": "stream",
     "text": [
      "\n"
     ]
    },
    {
     "name": "stdout",
     "output_type": "stream",
     "text": [
      "\n",
      "      Epoch    GPU_mem   box_loss   cls_loss   dfl_loss  Instances       Size\n"
     ]
    },
    {
     "name": "stderr",
     "output_type": "stream",
     "text": [
      "     38/200       6.7G      1.398       1.07      1.564         13        640: 100%|██████████| 197/197 [00:36<00:00,  5.37it/s]\n",
      "                 Class     Images  Instances      Box(P          R      mAP50  mAP50-95): 100%|██████████| 12/12 [00:02<00:00,  5.96it/s]"
     ]
    },
    {
     "name": "stdout",
     "output_type": "stream",
     "text": [
      "                   all        370        522      0.715      0.696       0.71      0.413\n"
     ]
    },
    {
     "name": "stderr",
     "output_type": "stream",
     "text": [
      "\n"
     ]
    },
    {
     "name": "stdout",
     "output_type": "stream",
     "text": [
      "\n",
      "      Epoch    GPU_mem   box_loss   cls_loss   dfl_loss  Instances       Size\n"
     ]
    },
    {
     "name": "stderr",
     "output_type": "stream",
     "text": [
      "     39/200      6.81G      1.407      1.074      1.557         17        640: 100%|██████████| 197/197 [00:36<00:00,  5.36it/s]\n",
      "                 Class     Images  Instances      Box(P          R      mAP50  mAP50-95): 100%|██████████| 12/12 [00:01<00:00,  6.17it/s]"
     ]
    },
    {
     "name": "stdout",
     "output_type": "stream",
     "text": [
      "                   all        370        522      0.751      0.735      0.765      0.485\n"
     ]
    },
    {
     "name": "stderr",
     "output_type": "stream",
     "text": [
      "\n"
     ]
    },
    {
     "name": "stdout",
     "output_type": "stream",
     "text": [
      "\n",
      "      Epoch    GPU_mem   box_loss   cls_loss   dfl_loss  Instances       Size\n"
     ]
    },
    {
     "name": "stderr",
     "output_type": "stream",
     "text": [
      "     40/200      6.79G        1.4      1.073      1.562         16        640: 100%|██████████| 197/197 [00:36<00:00,  5.38it/s]\n",
      "                 Class     Images  Instances      Box(P          R      mAP50  mAP50-95): 100%|██████████| 12/12 [00:01<00:00,  6.20it/s]"
     ]
    },
    {
     "name": "stdout",
     "output_type": "stream",
     "text": [
      "                   all        370        522      0.719      0.704      0.774      0.484\n"
     ]
    },
    {
     "name": "stderr",
     "output_type": "stream",
     "text": [
      "\n"
     ]
    },
    {
     "name": "stdout",
     "output_type": "stream",
     "text": [
      "\n",
      "      Epoch    GPU_mem   box_loss   cls_loss   dfl_loss  Instances       Size\n"
     ]
    },
    {
     "name": "stderr",
     "output_type": "stream",
     "text": [
      "     41/200      6.75G        1.4      1.076      1.567         11        640: 100%|██████████| 197/197 [00:36<00:00,  5.35it/s]\n",
      "                 Class     Images  Instances      Box(P          R      mAP50  mAP50-95): 100%|██████████| 12/12 [00:02<00:00,  5.99it/s]"
     ]
    },
    {
     "name": "stdout",
     "output_type": "stream",
     "text": [
      "                   all        370        522      0.734      0.676      0.746      0.439\n"
     ]
    },
    {
     "name": "stderr",
     "output_type": "stream",
     "text": [
      "\n"
     ]
    },
    {
     "name": "stdout",
     "output_type": "stream",
     "text": [
      "\n",
      "      Epoch    GPU_mem   box_loss   cls_loss   dfl_loss  Instances       Size\n"
     ]
    },
    {
     "name": "stderr",
     "output_type": "stream",
     "text": [
      "     42/200      6.71G      1.401      1.058      1.556         19        640: 100%|██████████| 197/197 [00:36<00:00,  5.37it/s]\n",
      "                 Class     Images  Instances      Box(P          R      mAP50  mAP50-95): 100%|██████████| 12/12 [00:01<00:00,  6.09it/s]"
     ]
    },
    {
     "name": "stdout",
     "output_type": "stream",
     "text": [
      "                   all        370        522      0.756      0.743      0.777      0.482\n"
     ]
    },
    {
     "name": "stderr",
     "output_type": "stream",
     "text": [
      "\n"
     ]
    },
    {
     "name": "stdout",
     "output_type": "stream",
     "text": [
      "\n",
      "      Epoch    GPU_mem   box_loss   cls_loss   dfl_loss  Instances       Size\n"
     ]
    },
    {
     "name": "stderr",
     "output_type": "stream",
     "text": [
      "     43/200      6.81G      1.379      1.028      1.541         15        640: 100%|██████████| 197/197 [00:36<00:00,  5.36it/s]\n",
      "                 Class     Images  Instances      Box(P          R      mAP50  mAP50-95): 100%|██████████| 12/12 [00:01<00:00,  6.05it/s]"
     ]
    },
    {
     "name": "stdout",
     "output_type": "stream",
     "text": [
      "                   all        370        522      0.698      0.723      0.785      0.474\n"
     ]
    },
    {
     "name": "stderr",
     "output_type": "stream",
     "text": [
      "\n"
     ]
    },
    {
     "name": "stdout",
     "output_type": "stream",
     "text": [
      "\n",
      "      Epoch    GPU_mem   box_loss   cls_loss   dfl_loss  Instances       Size\n"
     ]
    },
    {
     "name": "stderr",
     "output_type": "stream",
     "text": [
      "     44/200      6.78G      1.366      1.004      1.549         24        640: 100%|██████████| 197/197 [00:36<00:00,  5.38it/s]\n",
      "                 Class     Images  Instances      Box(P          R      mAP50  mAP50-95): 100%|██████████| 12/12 [00:01<00:00,  6.14it/s]"
     ]
    },
    {
     "name": "stdout",
     "output_type": "stream",
     "text": [
      "                   all        370        522      0.754      0.645      0.742      0.473\n"
     ]
    },
    {
     "name": "stderr",
     "output_type": "stream",
     "text": [
      "\n"
     ]
    },
    {
     "name": "stdout",
     "output_type": "stream",
     "text": [
      "\n",
      "      Epoch    GPU_mem   box_loss   cls_loss   dfl_loss  Instances       Size\n"
     ]
    },
    {
     "name": "stderr",
     "output_type": "stream",
     "text": [
      "     45/200      6.75G      1.368      1.026      1.541         22        640: 100%|██████████| 197/197 [00:36<00:00,  5.35it/s]\n",
      "                 Class     Images  Instances      Box(P          R      mAP50  mAP50-95): 100%|██████████| 12/12 [00:01<00:00,  6.19it/s]"
     ]
    },
    {
     "name": "stdout",
     "output_type": "stream",
     "text": [
      "                   all        370        522      0.732      0.728      0.777      0.438\n"
     ]
    },
    {
     "name": "stderr",
     "output_type": "stream",
     "text": [
      "\n"
     ]
    },
    {
     "name": "stdout",
     "output_type": "stream",
     "text": [
      "\n",
      "      Epoch    GPU_mem   box_loss   cls_loss   dfl_loss  Instances       Size\n"
     ]
    },
    {
     "name": "stderr",
     "output_type": "stream",
     "text": [
      "     46/200      6.69G      1.353      1.011      1.543         14        640: 100%|██████████| 197/197 [00:36<00:00,  5.38it/s]\n",
      "                 Class     Images  Instances      Box(P          R      mAP50  mAP50-95): 100%|██████████| 12/12 [00:01<00:00,  6.03it/s]"
     ]
    },
    {
     "name": "stdout",
     "output_type": "stream",
     "text": [
      "                   all        370        522      0.729      0.796      0.808      0.495\n"
     ]
    },
    {
     "name": "stderr",
     "output_type": "stream",
     "text": [
      "\n"
     ]
    },
    {
     "name": "stdout",
     "output_type": "stream",
     "text": [
      "\n",
      "      Epoch    GPU_mem   box_loss   cls_loss   dfl_loss  Instances       Size\n"
     ]
    },
    {
     "name": "stderr",
     "output_type": "stream",
     "text": [
      "     47/200      6.81G      1.351     0.9779      1.536         26        640: 100%|██████████| 197/197 [00:36<00:00,  5.37it/s]\n",
      "                 Class     Images  Instances      Box(P          R      mAP50  mAP50-95): 100%|██████████| 12/12 [00:01<00:00,  6.03it/s]"
     ]
    },
    {
     "name": "stdout",
     "output_type": "stream",
     "text": [
      "                   all        370        522      0.713        0.7      0.761       0.48\n"
     ]
    },
    {
     "name": "stderr",
     "output_type": "stream",
     "text": [
      "\n"
     ]
    },
    {
     "name": "stdout",
     "output_type": "stream",
     "text": [
      "\n",
      "      Epoch    GPU_mem   box_loss   cls_loss   dfl_loss  Instances       Size\n"
     ]
    },
    {
     "name": "stderr",
     "output_type": "stream",
     "text": [
      "     48/200      6.78G      1.339     0.9821      1.528         21        640: 100%|██████████| 197/197 [00:36<00:00,  5.38it/s]\n",
      "                 Class     Images  Instances      Box(P          R      mAP50  mAP50-95): 100%|██████████| 12/12 [00:01<00:00,  6.14it/s]"
     ]
    },
    {
     "name": "stdout",
     "output_type": "stream",
     "text": [
      "                   all        370        522      0.818      0.757      0.799      0.507\n"
     ]
    },
    {
     "name": "stderr",
     "output_type": "stream",
     "text": [
      "\n"
     ]
    },
    {
     "name": "stdout",
     "output_type": "stream",
     "text": [
      "\n",
      "      Epoch    GPU_mem   box_loss   cls_loss   dfl_loss  Instances       Size\n"
     ]
    },
    {
     "name": "stderr",
     "output_type": "stream",
     "text": [
      "     49/200      6.75G      1.328     0.9435      1.512         21        640: 100%|██████████| 197/197 [00:36<00:00,  5.38it/s]\n",
      "                 Class     Images  Instances      Box(P          R      mAP50  mAP50-95): 100%|██████████| 12/12 [00:01<00:00,  6.07it/s]"
     ]
    },
    {
     "name": "stdout",
     "output_type": "stream",
     "text": [
      "                   all        370        522      0.809      0.665      0.773      0.474\n"
     ]
    },
    {
     "name": "stderr",
     "output_type": "stream",
     "text": [
      "\n"
     ]
    },
    {
     "name": "stdout",
     "output_type": "stream",
     "text": [
      "\n",
      "      Epoch    GPU_mem   box_loss   cls_loss   dfl_loss  Instances       Size\n"
     ]
    },
    {
     "name": "stderr",
     "output_type": "stream",
     "text": [
      "     50/200       6.7G      1.329     0.9466      1.515         20        640: 100%|██████████| 197/197 [00:36<00:00,  5.37it/s]\n",
      "                 Class     Images  Instances      Box(P          R      mAP50  mAP50-95): 100%|██████████| 12/12 [00:01<00:00,  6.08it/s]"
     ]
    },
    {
     "name": "stdout",
     "output_type": "stream",
     "text": [
      "                   all        370        522      0.836      0.746      0.836       0.54\n"
     ]
    },
    {
     "name": "stderr",
     "output_type": "stream",
     "text": [
      "\n"
     ]
    },
    {
     "name": "stdout",
     "output_type": "stream",
     "text": [
      "\n",
      "      Epoch    GPU_mem   box_loss   cls_loss   dfl_loss  Instances       Size\n"
     ]
    },
    {
     "name": "stderr",
     "output_type": "stream",
     "text": [
      "     51/200      6.82G      1.323     0.9357      1.519         21        640: 100%|██████████| 197/197 [00:36<00:00,  5.38it/s]\n",
      "                 Class     Images  Instances      Box(P          R      mAP50  mAP50-95): 100%|██████████| 12/12 [00:01<00:00,  6.21it/s]"
     ]
    },
    {
     "name": "stdout",
     "output_type": "stream",
     "text": [
      "                   all        370        522      0.762      0.733      0.813      0.494\n"
     ]
    },
    {
     "name": "stderr",
     "output_type": "stream",
     "text": [
      "\n"
     ]
    },
    {
     "name": "stdout",
     "output_type": "stream",
     "text": [
      "\n",
      "      Epoch    GPU_mem   box_loss   cls_loss   dfl_loss  Instances       Size\n"
     ]
    },
    {
     "name": "stderr",
     "output_type": "stream",
     "text": [
      "     52/200      6.78G      1.324     0.9511      1.511         18        640: 100%|██████████| 197/197 [00:36<00:00,  5.37it/s]\n",
      "                 Class     Images  Instances      Box(P          R      mAP50  mAP50-95): 100%|██████████| 12/12 [00:01<00:00,  6.14it/s]"
     ]
    },
    {
     "name": "stdout",
     "output_type": "stream",
     "text": [
      "                   all        370        522      0.802      0.815       0.84      0.544\n"
     ]
    },
    {
     "name": "stderr",
     "output_type": "stream",
     "text": [
      "\n"
     ]
    },
    {
     "name": "stdout",
     "output_type": "stream",
     "text": [
      "\n",
      "      Epoch    GPU_mem   box_loss   cls_loss   dfl_loss  Instances       Size\n"
     ]
    },
    {
     "name": "stderr",
     "output_type": "stream",
     "text": [
      "     53/200      6.77G      1.301     0.9316      1.496         30        640: 100%|██████████| 197/197 [00:36<00:00,  5.37it/s]\n",
      "                 Class     Images  Instances      Box(P          R      mAP50  mAP50-95): 100%|██████████| 12/12 [00:01<00:00,  6.16it/s]"
     ]
    },
    {
     "name": "stdout",
     "output_type": "stream",
     "text": [
      "                   all        370        522      0.776       0.82      0.865      0.565\n"
     ]
    },
    {
     "name": "stderr",
     "output_type": "stream",
     "text": [
      "\n"
     ]
    },
    {
     "name": "stdout",
     "output_type": "stream",
     "text": [
      "\n",
      "      Epoch    GPU_mem   box_loss   cls_loss   dfl_loss  Instances       Size\n"
     ]
    },
    {
     "name": "stderr",
     "output_type": "stream",
     "text": [
      "     54/200       6.7G      1.298     0.9043      1.493         13        640: 100%|██████████| 197/197 [00:36<00:00,  5.37it/s]\n",
      "                 Class     Images  Instances      Box(P          R      mAP50  mAP50-95): 100%|██████████| 12/12 [00:01<00:00,  6.08it/s]"
     ]
    },
    {
     "name": "stdout",
     "output_type": "stream",
     "text": [
      "                   all        370        522      0.837      0.738      0.832      0.525\n"
     ]
    },
    {
     "name": "stderr",
     "output_type": "stream",
     "text": [
      "\n"
     ]
    },
    {
     "name": "stdout",
     "output_type": "stream",
     "text": [
      "\n",
      "      Epoch    GPU_mem   box_loss   cls_loss   dfl_loss  Instances       Size\n"
     ]
    },
    {
     "name": "stderr",
     "output_type": "stream",
     "text": [
      "     55/200      6.81G      1.295     0.8996      1.498         23        640: 100%|██████████| 197/197 [00:36<00:00,  5.37it/s]\n",
      "                 Class     Images  Instances      Box(P          R      mAP50  mAP50-95): 100%|██████████| 12/12 [00:01<00:00,  6.16it/s]"
     ]
    },
    {
     "name": "stdout",
     "output_type": "stream",
     "text": [
      "                   all        370        522      0.849      0.707      0.836      0.517\n"
     ]
    },
    {
     "name": "stderr",
     "output_type": "stream",
     "text": [
      "\n"
     ]
    },
    {
     "name": "stdout",
     "output_type": "stream",
     "text": [
      "\n",
      "      Epoch    GPU_mem   box_loss   cls_loss   dfl_loss  Instances       Size\n"
     ]
    },
    {
     "name": "stderr",
     "output_type": "stream",
     "text": [
      "     56/200      6.77G       1.28     0.8865      1.476         24        640: 100%|██████████| 197/197 [00:36<00:00,  5.39it/s]\n",
      "                 Class     Images  Instances      Box(P          R      mAP50  mAP50-95): 100%|██████████| 12/12 [00:01<00:00,  6.19it/s]"
     ]
    },
    {
     "name": "stdout",
     "output_type": "stream",
     "text": [
      "                   all        370        522      0.789      0.744      0.812      0.521\n"
     ]
    },
    {
     "name": "stderr",
     "output_type": "stream",
     "text": [
      "\n"
     ]
    },
    {
     "name": "stdout",
     "output_type": "stream",
     "text": [
      "\n",
      "      Epoch    GPU_mem   box_loss   cls_loss   dfl_loss  Instances       Size\n"
     ]
    },
    {
     "name": "stderr",
     "output_type": "stream",
     "text": [
      "     57/200      6.76G      1.274     0.8869      1.475         14        640: 100%|██████████| 197/197 [00:36<00:00,  5.37it/s]\n",
      "                 Class     Images  Instances      Box(P          R      mAP50  mAP50-95): 100%|██████████| 12/12 [00:01<00:00,  6.25it/s]"
     ]
    },
    {
     "name": "stdout",
     "output_type": "stream",
     "text": [
      "                   all        370        522      0.886      0.738      0.861       0.54\n"
     ]
    },
    {
     "name": "stderr",
     "output_type": "stream",
     "text": [
      "\n"
     ]
    },
    {
     "name": "stdout",
     "output_type": "stream",
     "text": [
      "\n",
      "      Epoch    GPU_mem   box_loss   cls_loss   dfl_loss  Instances       Size\n"
     ]
    },
    {
     "name": "stderr",
     "output_type": "stream",
     "text": [
      "     58/200       6.7G      1.284     0.8815      1.477         25        640: 100%|██████████| 197/197 [00:36<00:00,  5.37it/s]\n",
      "                 Class     Images  Instances      Box(P          R      mAP50  mAP50-95): 100%|██████████| 12/12 [00:01<00:00,  6.22it/s]"
     ]
    },
    {
     "name": "stdout",
     "output_type": "stream",
     "text": [
      "                   all        370        522      0.817      0.747      0.823      0.526\n"
     ]
    },
    {
     "name": "stderr",
     "output_type": "stream",
     "text": [
      "\n"
     ]
    },
    {
     "name": "stdout",
     "output_type": "stream",
     "text": [
      "\n",
      "      Epoch    GPU_mem   box_loss   cls_loss   dfl_loss  Instances       Size\n"
     ]
    },
    {
     "name": "stderr",
     "output_type": "stream",
     "text": [
      "     59/200       6.8G      1.256     0.8639      1.465          8        640: 100%|██████████| 197/197 [00:36<00:00,  5.36it/s]\n",
      "                 Class     Images  Instances      Box(P          R      mAP50  mAP50-95): 100%|██████████| 12/12 [00:01<00:00,  6.13it/s]"
     ]
    },
    {
     "name": "stdout",
     "output_type": "stream",
     "text": [
      "                   all        370        522      0.843      0.784      0.847      0.538\n"
     ]
    },
    {
     "name": "stderr",
     "output_type": "stream",
     "text": [
      "\n"
     ]
    },
    {
     "name": "stdout",
     "output_type": "stream",
     "text": [
      "\n",
      "      Epoch    GPU_mem   box_loss   cls_loss   dfl_loss  Instances       Size\n"
     ]
    },
    {
     "name": "stderr",
     "output_type": "stream",
     "text": [
      "     60/200      6.79G      1.258     0.8606      1.471         22        640: 100%|██████████| 197/197 [00:36<00:00,  5.37it/s]\n",
      "                 Class     Images  Instances      Box(P          R      mAP50  mAP50-95): 100%|██████████| 12/12 [00:02<00:00,  5.98it/s]"
     ]
    },
    {
     "name": "stdout",
     "output_type": "stream",
     "text": [
      "                   all        370        522       0.77      0.816      0.845      0.551\n"
     ]
    },
    {
     "name": "stderr",
     "output_type": "stream",
     "text": [
      "\n"
     ]
    },
    {
     "name": "stdout",
     "output_type": "stream",
     "text": [
      "\n",
      "      Epoch    GPU_mem   box_loss   cls_loss   dfl_loss  Instances       Size\n"
     ]
    },
    {
     "name": "stderr",
     "output_type": "stream",
     "text": [
      "     61/200      6.77G      1.262     0.8521      1.474         27        640: 100%|██████████| 197/197 [00:36<00:00,  5.38it/s]\n",
      "                 Class     Images  Instances      Box(P          R      mAP50  mAP50-95): 100%|██████████| 12/12 [00:01<00:00,  6.15it/s]"
     ]
    },
    {
     "name": "stdout",
     "output_type": "stream",
     "text": [
      "                   all        370        522      0.834      0.804      0.866      0.549\n"
     ]
    },
    {
     "name": "stderr",
     "output_type": "stream",
     "text": [
      "\n"
     ]
    },
    {
     "name": "stdout",
     "output_type": "stream",
     "text": [
      "\n",
      "      Epoch    GPU_mem   box_loss   cls_loss   dfl_loss  Instances       Size\n"
     ]
    },
    {
     "name": "stderr",
     "output_type": "stream",
     "text": [
      "     62/200       6.7G      1.241     0.8417       1.45         20        640: 100%|██████████| 197/197 [00:36<00:00,  5.38it/s]\n",
      "                 Class     Images  Instances      Box(P          R      mAP50  mAP50-95): 100%|██████████| 12/12 [00:01<00:00,  6.22it/s]"
     ]
    },
    {
     "name": "stdout",
     "output_type": "stream",
     "text": [
      "                   all        370        522       0.78      0.792      0.828      0.532\n"
     ]
    },
    {
     "name": "stderr",
     "output_type": "stream",
     "text": [
      "\n"
     ]
    },
    {
     "name": "stdout",
     "output_type": "stream",
     "text": [
      "\n",
      "      Epoch    GPU_mem   box_loss   cls_loss   dfl_loss  Instances       Size\n"
     ]
    },
    {
     "name": "stderr",
     "output_type": "stream",
     "text": [
      "     63/200      6.81G      1.244     0.8333      1.456         18        640: 100%|██████████| 197/197 [00:36<00:00,  5.38it/s]\n",
      "                 Class     Images  Instances      Box(P          R      mAP50  mAP50-95): 100%|██████████| 12/12 [00:01<00:00,  6.01it/s]"
     ]
    },
    {
     "name": "stdout",
     "output_type": "stream",
     "text": [
      "                   all        370        522      0.845      0.802      0.873      0.559\n"
     ]
    },
    {
     "name": "stderr",
     "output_type": "stream",
     "text": [
      "\n"
     ]
    },
    {
     "name": "stdout",
     "output_type": "stream",
     "text": [
      "\n",
      "      Epoch    GPU_mem   box_loss   cls_loss   dfl_loss  Instances       Size\n"
     ]
    },
    {
     "name": "stderr",
     "output_type": "stream",
     "text": [
      "     64/200      6.77G      1.209     0.8184      1.435         22        640: 100%|██████████| 197/197 [00:36<00:00,  5.38it/s]\n",
      "                 Class     Images  Instances      Box(P          R      mAP50  mAP50-95): 100%|██████████| 12/12 [00:01<00:00,  6.08it/s]"
     ]
    },
    {
     "name": "stdout",
     "output_type": "stream",
     "text": [
      "                   all        370        522      0.892      0.711      0.848      0.545\n"
     ]
    },
    {
     "name": "stderr",
     "output_type": "stream",
     "text": [
      "\n"
     ]
    },
    {
     "name": "stdout",
     "output_type": "stream",
     "text": [
      "\n",
      "      Epoch    GPU_mem   box_loss   cls_loss   dfl_loss  Instances       Size\n"
     ]
    },
    {
     "name": "stderr",
     "output_type": "stream",
     "text": [
      "     65/200      6.76G      1.224     0.8281       1.44         28        640: 100%|██████████| 197/197 [00:36<00:00,  5.38it/s]\n",
      "                 Class     Images  Instances      Box(P          R      mAP50  mAP50-95): 100%|██████████| 12/12 [00:01<00:00,  6.17it/s]"
     ]
    },
    {
     "name": "stdout",
     "output_type": "stream",
     "text": [
      "                   all        370        522      0.824        0.8      0.871      0.542\n"
     ]
    },
    {
     "name": "stderr",
     "output_type": "stream",
     "text": [
      "\n"
     ]
    },
    {
     "name": "stdout",
     "output_type": "stream",
     "text": [
      "\n",
      "      Epoch    GPU_mem   box_loss   cls_loss   dfl_loss  Instances       Size\n"
     ]
    },
    {
     "name": "stderr",
     "output_type": "stream",
     "text": [
      "     66/200       6.7G       1.22     0.8252      1.436         20        640: 100%|██████████| 197/197 [00:36<00:00,  5.37it/s]\n",
      "                 Class     Images  Instances      Box(P          R      mAP50  mAP50-95): 100%|██████████| 12/12 [00:01<00:00,  6.13it/s]"
     ]
    },
    {
     "name": "stdout",
     "output_type": "stream",
     "text": [
      "                   all        370        522      0.879      0.762      0.855      0.564\n"
     ]
    },
    {
     "name": "stderr",
     "output_type": "stream",
     "text": [
      "\n"
     ]
    },
    {
     "name": "stdout",
     "output_type": "stream",
     "text": [
      "\n",
      "      Epoch    GPU_mem   box_loss   cls_loss   dfl_loss  Instances       Size\n"
     ]
    },
    {
     "name": "stderr",
     "output_type": "stream",
     "text": [
      "     67/200      6.82G      1.192     0.8165      1.424         15        640: 100%|██████████| 197/197 [00:36<00:00,  5.37it/s]\n",
      "                 Class     Images  Instances      Box(P          R      mAP50  mAP50-95): 100%|██████████| 12/12 [00:01<00:00,  6.23it/s]"
     ]
    },
    {
     "name": "stdout",
     "output_type": "stream",
     "text": [
      "                   all        370        522      0.808      0.806      0.887      0.583\n"
     ]
    },
    {
     "name": "stderr",
     "output_type": "stream",
     "text": [
      "\n"
     ]
    },
    {
     "name": "stdout",
     "output_type": "stream",
     "text": [
      "\n",
      "      Epoch    GPU_mem   box_loss   cls_loss   dfl_loss  Instances       Size\n"
     ]
    },
    {
     "name": "stderr",
     "output_type": "stream",
     "text": [
      "     68/200      6.78G      1.192     0.7819      1.416         38        640: 100%|██████████| 197/197 [00:36<00:00,  5.37it/s]\n",
      "                 Class     Images  Instances      Box(P          R      mAP50  mAP50-95): 100%|██████████| 12/12 [00:01<00:00,  6.17it/s]"
     ]
    },
    {
     "name": "stdout",
     "output_type": "stream",
     "text": [
      "                   all        370        522      0.913      0.827        0.9      0.582\n"
     ]
    },
    {
     "name": "stderr",
     "output_type": "stream",
     "text": [
      "\n"
     ]
    },
    {
     "name": "stdout",
     "output_type": "stream",
     "text": [
      "\n",
      "      Epoch    GPU_mem   box_loss   cls_loss   dfl_loss  Instances       Size\n"
     ]
    },
    {
     "name": "stderr",
     "output_type": "stream",
     "text": [
      "     69/200      6.76G      1.201     0.7805      1.424         13        640: 100%|██████████| 197/197 [00:36<00:00,  5.36it/s]\n",
      "                 Class     Images  Instances      Box(P          R      mAP50  mAP50-95): 100%|██████████| 12/12 [00:01<00:00,  6.20it/s]"
     ]
    },
    {
     "name": "stdout",
     "output_type": "stream",
     "text": [
      "                   all        370        522      0.889       0.85      0.938      0.641\n"
     ]
    },
    {
     "name": "stderr",
     "output_type": "stream",
     "text": [
      "\n"
     ]
    },
    {
     "name": "stdout",
     "output_type": "stream",
     "text": [
      "\n",
      "      Epoch    GPU_mem   box_loss   cls_loss   dfl_loss  Instances       Size\n"
     ]
    },
    {
     "name": "stderr",
     "output_type": "stream",
     "text": [
      "     70/200       6.7G      1.172     0.7787      1.404         19        640: 100%|██████████| 197/197 [00:36<00:00,  5.38it/s]\n",
      "                 Class     Images  Instances      Box(P          R      mAP50  mAP50-95): 100%|██████████| 12/12 [00:01<00:00,  6.27it/s]"
     ]
    },
    {
     "name": "stdout",
     "output_type": "stream",
     "text": [
      "                   all        370        522      0.786      0.828      0.895      0.581\n"
     ]
    },
    {
     "name": "stderr",
     "output_type": "stream",
     "text": [
      "\n"
     ]
    },
    {
     "name": "stdout",
     "output_type": "stream",
     "text": [
      "\n",
      "      Epoch    GPU_mem   box_loss   cls_loss   dfl_loss  Instances       Size\n"
     ]
    },
    {
     "name": "stderr",
     "output_type": "stream",
     "text": [
      "     71/200       6.8G      1.187     0.7777      1.409         19        640: 100%|██████████| 197/197 [00:36<00:00,  5.37it/s]\n",
      "                 Class     Images  Instances      Box(P          R      mAP50  mAP50-95): 100%|██████████| 12/12 [00:01<00:00,  6.05it/s]"
     ]
    },
    {
     "name": "stdout",
     "output_type": "stream",
     "text": [
      "                   all        370        522      0.945      0.727      0.888      0.587\n"
     ]
    },
    {
     "name": "stderr",
     "output_type": "stream",
     "text": [
      "\n"
     ]
    },
    {
     "name": "stdout",
     "output_type": "stream",
     "text": [
      "\n",
      "      Epoch    GPU_mem   box_loss   cls_loss   dfl_loss  Instances       Size\n"
     ]
    },
    {
     "name": "stderr",
     "output_type": "stream",
     "text": [
      "     72/200      6.78G      1.166     0.7528      1.395         18        640: 100%|██████████| 197/197 [00:36<00:00,  5.37it/s]\n",
      "                 Class     Images  Instances      Box(P          R      mAP50  mAP50-95): 100%|██████████| 12/12 [00:01<00:00,  6.21it/s]"
     ]
    },
    {
     "name": "stdout",
     "output_type": "stream",
     "text": [
      "                   all        370        522       0.86      0.896      0.932      0.637\n"
     ]
    },
    {
     "name": "stderr",
     "output_type": "stream",
     "text": [
      "\n"
     ]
    },
    {
     "name": "stdout",
     "output_type": "stream",
     "text": [
      "\n",
      "      Epoch    GPU_mem   box_loss   cls_loss   dfl_loss  Instances       Size\n"
     ]
    },
    {
     "name": "stderr",
     "output_type": "stream",
     "text": [
      "     73/200      6.74G      1.179     0.7705      1.411         16        640: 100%|██████████| 197/197 [00:36<00:00,  5.36it/s]\n",
      "                 Class     Images  Instances      Box(P          R      mAP50  mAP50-95): 100%|██████████| 12/12 [00:01<00:00,  6.06it/s]"
     ]
    },
    {
     "name": "stdout",
     "output_type": "stream",
     "text": [
      "                   all        370        522      0.835       0.87      0.899      0.587\n"
     ]
    },
    {
     "name": "stderr",
     "output_type": "stream",
     "text": [
      "\n"
     ]
    },
    {
     "name": "stdout",
     "output_type": "stream",
     "text": [
      "\n",
      "      Epoch    GPU_mem   box_loss   cls_loss   dfl_loss  Instances       Size\n"
     ]
    },
    {
     "name": "stderr",
     "output_type": "stream",
     "text": [
      "     74/200       6.7G      1.177     0.7834      1.411         18        640: 100%|██████████| 197/197 [00:36<00:00,  5.37it/s]\n",
      "                 Class     Images  Instances      Box(P          R      mAP50  mAP50-95): 100%|██████████| 12/12 [00:01<00:00,  6.09it/s]"
     ]
    },
    {
     "name": "stdout",
     "output_type": "stream",
     "text": [
      "                   all        370        522      0.876      0.829      0.917      0.606\n"
     ]
    },
    {
     "name": "stderr",
     "output_type": "stream",
     "text": [
      "\n"
     ]
    },
    {
     "name": "stdout",
     "output_type": "stream",
     "text": [
      "\n",
      "      Epoch    GPU_mem   box_loss   cls_loss   dfl_loss  Instances       Size\n"
     ]
    },
    {
     "name": "stderr",
     "output_type": "stream",
     "text": [
      "     75/200      6.82G      1.155     0.7623      1.401         15        640: 100%|██████████| 197/197 [00:36<00:00,  5.40it/s]\n",
      "                 Class     Images  Instances      Box(P          R      mAP50  mAP50-95): 100%|██████████| 12/12 [00:01<00:00,  6.20it/s]"
     ]
    },
    {
     "name": "stdout",
     "output_type": "stream",
     "text": [
      "                   all        370        522      0.882      0.843      0.919      0.629\n"
     ]
    },
    {
     "name": "stderr",
     "output_type": "stream",
     "text": [
      "\n"
     ]
    },
    {
     "name": "stdout",
     "output_type": "stream",
     "text": [
      "\n",
      "      Epoch    GPU_mem   box_loss   cls_loss   dfl_loss  Instances       Size\n"
     ]
    },
    {
     "name": "stderr",
     "output_type": "stream",
     "text": [
      "     76/200      6.78G       1.14     0.7526      1.391         24        640: 100%|██████████| 197/197 [00:36<00:00,  5.38it/s]\n",
      "                 Class     Images  Instances      Box(P          R      mAP50  mAP50-95): 100%|██████████| 12/12 [00:01<00:00,  6.19it/s]"
     ]
    },
    {
     "name": "stdout",
     "output_type": "stream",
     "text": [
      "                   all        370        522      0.936      0.836      0.926      0.621\n"
     ]
    },
    {
     "name": "stderr",
     "output_type": "stream",
     "text": [
      "\n"
     ]
    },
    {
     "name": "stdout",
     "output_type": "stream",
     "text": [
      "\n",
      "      Epoch    GPU_mem   box_loss   cls_loss   dfl_loss  Instances       Size\n"
     ]
    },
    {
     "name": "stderr",
     "output_type": "stream",
     "text": [
      "     77/200      6.77G      1.125      0.742       1.37         21        640: 100%|██████████| 197/197 [00:36<00:00,  5.36it/s]\n",
      "                 Class     Images  Instances      Box(P          R      mAP50  mAP50-95): 100%|██████████| 12/12 [00:01<00:00,  6.24it/s]"
     ]
    },
    {
     "name": "stdout",
     "output_type": "stream",
     "text": [
      "                   all        370        522      0.881      0.885      0.945      0.647\n"
     ]
    },
    {
     "name": "stderr",
     "output_type": "stream",
     "text": [
      "\n"
     ]
    },
    {
     "name": "stdout",
     "output_type": "stream",
     "text": [
      "\n",
      "      Epoch    GPU_mem   box_loss   cls_loss   dfl_loss  Instances       Size\n"
     ]
    },
    {
     "name": "stderr",
     "output_type": "stream",
     "text": [
      "     78/200      6.72G      1.128      0.748      1.367         21        640: 100%|██████████| 197/197 [00:36<00:00,  5.37it/s]\n",
      "                 Class     Images  Instances      Box(P          R      mAP50  mAP50-95): 100%|██████████| 12/12 [00:01<00:00,  6.10it/s]"
     ]
    },
    {
     "name": "stdout",
     "output_type": "stream",
     "text": [
      "                   all        370        522      0.885      0.823      0.933       0.64\n"
     ]
    },
    {
     "name": "stderr",
     "output_type": "stream",
     "text": [
      "\n"
     ]
    },
    {
     "name": "stdout",
     "output_type": "stream",
     "text": [
      "\n",
      "      Epoch    GPU_mem   box_loss   cls_loss   dfl_loss  Instances       Size\n"
     ]
    },
    {
     "name": "stderr",
     "output_type": "stream",
     "text": [
      "     79/200       6.8G      1.111     0.7281      1.356         21        640: 100%|██████████| 197/197 [00:36<00:00,  5.37it/s]\n",
      "                 Class     Images  Instances      Box(P          R      mAP50  mAP50-95): 100%|██████████| 12/12 [00:01<00:00,  6.12it/s]"
     ]
    },
    {
     "name": "stdout",
     "output_type": "stream",
     "text": [
      "                   all        370        522      0.878      0.877      0.933       0.65\n"
     ]
    },
    {
     "name": "stderr",
     "output_type": "stream",
     "text": [
      "\n"
     ]
    },
    {
     "name": "stdout",
     "output_type": "stream",
     "text": [
      "\n",
      "      Epoch    GPU_mem   box_loss   cls_loss   dfl_loss  Instances       Size\n"
     ]
    },
    {
     "name": "stderr",
     "output_type": "stream",
     "text": [
      "     80/200      6.79G      1.109     0.7299      1.357         17        640: 100%|██████████| 197/197 [00:36<00:00,  5.39it/s]\n",
      "                 Class     Images  Instances      Box(P          R      mAP50  mAP50-95): 100%|██████████| 12/12 [00:01<00:00,  6.08it/s]"
     ]
    },
    {
     "name": "stdout",
     "output_type": "stream",
     "text": [
      "                   all        370        522      0.882      0.861       0.93      0.647\n"
     ]
    },
    {
     "name": "stderr",
     "output_type": "stream",
     "text": [
      "\n"
     ]
    },
    {
     "name": "stdout",
     "output_type": "stream",
     "text": [
      "\n",
      "      Epoch    GPU_mem   box_loss   cls_loss   dfl_loss  Instances       Size\n"
     ]
    },
    {
     "name": "stderr",
     "output_type": "stream",
     "text": [
      "     81/200      6.77G      1.104     0.7164      1.362         20        640: 100%|██████████| 197/197 [00:36<00:00,  5.37it/s]\n",
      "                 Class     Images  Instances      Box(P          R      mAP50  mAP50-95): 100%|██████████| 12/12 [00:01<00:00,  6.23it/s]"
     ]
    },
    {
     "name": "stdout",
     "output_type": "stream",
     "text": [
      "                   all        370        522      0.907      0.881       0.95      0.662\n"
     ]
    },
    {
     "name": "stderr",
     "output_type": "stream",
     "text": [
      "\n"
     ]
    },
    {
     "name": "stdout",
     "output_type": "stream",
     "text": [
      "\n",
      "      Epoch    GPU_mem   box_loss   cls_loss   dfl_loss  Instances       Size\n"
     ]
    },
    {
     "name": "stderr",
     "output_type": "stream",
     "text": [
      "     82/200       6.7G      1.098     0.7213      1.351         16        640: 100%|██████████| 197/197 [00:36<00:00,  5.38it/s]\n",
      "                 Class     Images  Instances      Box(P          R      mAP50  mAP50-95): 100%|██████████| 12/12 [00:01<00:00,  6.20it/s]"
     ]
    },
    {
     "name": "stdout",
     "output_type": "stream",
     "text": [
      "                   all        370        522      0.846      0.868      0.911      0.616\n"
     ]
    },
    {
     "name": "stderr",
     "output_type": "stream",
     "text": [
      "\n"
     ]
    },
    {
     "name": "stdout",
     "output_type": "stream",
     "text": [
      "\n",
      "      Epoch    GPU_mem   box_loss   cls_loss   dfl_loss  Instances       Size\n"
     ]
    },
    {
     "name": "stderr",
     "output_type": "stream",
     "text": [
      "     83/200       6.8G      1.104     0.7122       1.35         20        640: 100%|██████████| 197/197 [00:36<00:00,  5.38it/s]\n",
      "                 Class     Images  Instances      Box(P          R      mAP50  mAP50-95): 100%|██████████| 12/12 [00:01<00:00,  6.16it/s]"
     ]
    },
    {
     "name": "stdout",
     "output_type": "stream",
     "text": [
      "                   all        370        522       0.92      0.859      0.935      0.657\n"
     ]
    },
    {
     "name": "stderr",
     "output_type": "stream",
     "text": [
      "\n"
     ]
    },
    {
     "name": "stdout",
     "output_type": "stream",
     "text": [
      "\n",
      "      Epoch    GPU_mem   box_loss   cls_loss   dfl_loss  Instances       Size\n"
     ]
    },
    {
     "name": "stderr",
     "output_type": "stream",
     "text": [
      "     84/200      6.78G      1.092     0.6988      1.343         16        640: 100%|██████████| 197/197 [00:36<00:00,  5.38it/s]\n",
      "                 Class     Images  Instances      Box(P          R      mAP50  mAP50-95): 100%|██████████| 12/12 [00:01<00:00,  6.17it/s]"
     ]
    },
    {
     "name": "stdout",
     "output_type": "stream",
     "text": [
      "                   all        370        522       0.94      0.828      0.921      0.653\n"
     ]
    },
    {
     "name": "stderr",
     "output_type": "stream",
     "text": [
      "\n"
     ]
    },
    {
     "name": "stdout",
     "output_type": "stream",
     "text": [
      "\n",
      "      Epoch    GPU_mem   box_loss   cls_loss   dfl_loss  Instances       Size\n"
     ]
    },
    {
     "name": "stderr",
     "output_type": "stream",
     "text": [
      "     85/200      6.77G      1.076     0.6945      1.333         17        640: 100%|██████████| 197/197 [00:36<00:00,  5.35it/s]\n",
      "                 Class     Images  Instances      Box(P          R      mAP50  mAP50-95): 100%|██████████| 12/12 [00:01<00:00,  6.23it/s]"
     ]
    },
    {
     "name": "stdout",
     "output_type": "stream",
     "text": [
      "                   all        370        522      0.905      0.823      0.902      0.614\n"
     ]
    },
    {
     "name": "stderr",
     "output_type": "stream",
     "text": [
      "\n"
     ]
    },
    {
     "name": "stdout",
     "output_type": "stream",
     "text": [
      "\n",
      "      Epoch    GPU_mem   box_loss   cls_loss   dfl_loss  Instances       Size\n"
     ]
    },
    {
     "name": "stderr",
     "output_type": "stream",
     "text": [
      "     86/200       6.7G      1.075      0.684       1.33         19        640: 100%|██████████| 197/197 [00:36<00:00,  5.37it/s]\n",
      "                 Class     Images  Instances      Box(P          R      mAP50  mAP50-95): 100%|██████████| 12/12 [00:01<00:00,  6.19it/s]"
     ]
    },
    {
     "name": "stdout",
     "output_type": "stream",
     "text": [
      "                   all        370        522      0.938      0.815      0.925      0.646\n"
     ]
    },
    {
     "name": "stderr",
     "output_type": "stream",
     "text": [
      "\n"
     ]
    },
    {
     "name": "stdout",
     "output_type": "stream",
     "text": [
      "\n",
      "      Epoch    GPU_mem   box_loss   cls_loss   dfl_loss  Instances       Size\n"
     ]
    },
    {
     "name": "stderr",
     "output_type": "stream",
     "text": [
      "     87/200      6.79G      1.068     0.6856      1.331         15        640: 100%|██████████| 197/197 [00:36<00:00,  5.37it/s]\n",
      "                 Class     Images  Instances      Box(P          R      mAP50  mAP50-95): 100%|██████████| 12/12 [00:01<00:00,  6.17it/s]"
     ]
    },
    {
     "name": "stdout",
     "output_type": "stream",
     "text": [
      "                   all        370        522      0.873      0.868      0.943      0.652\n"
     ]
    },
    {
     "name": "stderr",
     "output_type": "stream",
     "text": [
      "\n"
     ]
    },
    {
     "name": "stdout",
     "output_type": "stream",
     "text": [
      "\n",
      "      Epoch    GPU_mem   box_loss   cls_loss   dfl_loss  Instances       Size\n"
     ]
    },
    {
     "name": "stderr",
     "output_type": "stream",
     "text": [
      "     88/200      6.78G      1.057     0.6786      1.322         18        640: 100%|██████████| 197/197 [00:36<00:00,  5.37it/s]\n",
      "                 Class     Images  Instances      Box(P          R      mAP50  mAP50-95): 100%|██████████| 12/12 [00:01<00:00,  6.16it/s]"
     ]
    },
    {
     "name": "stdout",
     "output_type": "stream",
     "text": [
      "                   all        370        522      0.912      0.851      0.919      0.631\n"
     ]
    },
    {
     "name": "stderr",
     "output_type": "stream",
     "text": [
      "\n"
     ]
    },
    {
     "name": "stdout",
     "output_type": "stream",
     "text": [
      "\n",
      "      Epoch    GPU_mem   box_loss   cls_loss   dfl_loss  Instances       Size\n"
     ]
    },
    {
     "name": "stderr",
     "output_type": "stream",
     "text": [
      "     89/200      6.75G      1.054     0.6698      1.311         17        640: 100%|██████████| 197/197 [00:36<00:00,  5.36it/s]\n",
      "                 Class     Images  Instances      Box(P          R      mAP50  mAP50-95): 100%|██████████| 12/12 [00:01<00:00,  6.19it/s]"
     ]
    },
    {
     "name": "stdout",
     "output_type": "stream",
     "text": [
      "                   all        370        522      0.948      0.863       0.95      0.681\n"
     ]
    },
    {
     "name": "stderr",
     "output_type": "stream",
     "text": [
      "\n"
     ]
    },
    {
     "name": "stdout",
     "output_type": "stream",
     "text": [
      "\n",
      "      Epoch    GPU_mem   box_loss   cls_loss   dfl_loss  Instances       Size\n"
     ]
    },
    {
     "name": "stderr",
     "output_type": "stream",
     "text": [
      "     90/200      6.71G      1.058     0.6803      1.309         23        640: 100%|██████████| 197/197 [00:36<00:00,  5.39it/s]\n",
      "                 Class     Images  Instances      Box(P          R      mAP50  mAP50-95): 100%|██████████| 12/12 [00:01<00:00,  6.17it/s]"
     ]
    },
    {
     "name": "stdout",
     "output_type": "stream",
     "text": [
      "                   all        370        522      0.824      0.894      0.932       0.64\n"
     ]
    },
    {
     "name": "stderr",
     "output_type": "stream",
     "text": [
      "\n"
     ]
    },
    {
     "name": "stdout",
     "output_type": "stream",
     "text": [
      "\n",
      "      Epoch    GPU_mem   box_loss   cls_loss   dfl_loss  Instances       Size\n"
     ]
    },
    {
     "name": "stderr",
     "output_type": "stream",
     "text": [
      "     91/200      6.81G      1.044     0.6637      1.298         23        640: 100%|██████████| 197/197 [00:36<00:00,  5.36it/s]\n",
      "                 Class     Images  Instances      Box(P          R      mAP50  mAP50-95): 100%|██████████| 12/12 [00:01<00:00,  6.16it/s]"
     ]
    },
    {
     "name": "stdout",
     "output_type": "stream",
     "text": [
      "                   all        370        522       0.92      0.881      0.938      0.674\n"
     ]
    },
    {
     "name": "stderr",
     "output_type": "stream",
     "text": [
      "\n"
     ]
    },
    {
     "name": "stdout",
     "output_type": "stream",
     "text": [
      "\n",
      "      Epoch    GPU_mem   box_loss   cls_loss   dfl_loss  Instances       Size\n"
     ]
    },
    {
     "name": "stderr",
     "output_type": "stream",
     "text": [
      "     92/200      6.79G      1.029     0.6516      1.296         15        640: 100%|██████████| 197/197 [00:36<00:00,  5.38it/s]\n",
      "                 Class     Images  Instances      Box(P          R      mAP50  mAP50-95): 100%|██████████| 12/12 [00:01<00:00,  6.28it/s]"
     ]
    },
    {
     "name": "stdout",
     "output_type": "stream",
     "text": [
      "                   all        370        522       0.91      0.891      0.945      0.653\n"
     ]
    },
    {
     "name": "stderr",
     "output_type": "stream",
     "text": [
      "\n"
     ]
    },
    {
     "name": "stdout",
     "output_type": "stream",
     "text": [
      "\n",
      "      Epoch    GPU_mem   box_loss   cls_loss   dfl_loss  Instances       Size\n"
     ]
    },
    {
     "name": "stderr",
     "output_type": "stream",
     "text": [
      "     93/200      6.74G      1.021     0.6494      1.283         19        640: 100%|██████████| 197/197 [00:36<00:00,  5.36it/s]\n",
      "                 Class     Images  Instances      Box(P          R      mAP50  mAP50-95): 100%|██████████| 12/12 [00:01<00:00,  6.31it/s]"
     ]
    },
    {
     "name": "stdout",
     "output_type": "stream",
     "text": [
      "                   all        370        522      0.925      0.875      0.953      0.692\n"
     ]
    },
    {
     "name": "stderr",
     "output_type": "stream",
     "text": [
      "\n"
     ]
    },
    {
     "name": "stdout",
     "output_type": "stream",
     "text": [
      "\n",
      "      Epoch    GPU_mem   box_loss   cls_loss   dfl_loss  Instances       Size\n"
     ]
    },
    {
     "name": "stderr",
     "output_type": "stream",
     "text": [
      "     94/200      6.71G      1.019     0.6622      1.287         22        640: 100%|██████████| 197/197 [00:36<00:00,  5.38it/s]\n",
      "                 Class     Images  Instances      Box(P          R      mAP50  mAP50-95): 100%|██████████| 12/12 [00:01<00:00,  6.20it/s]"
     ]
    },
    {
     "name": "stdout",
     "output_type": "stream",
     "text": [
      "                   all        370        522      0.927      0.928      0.966       0.69\n"
     ]
    },
    {
     "name": "stderr",
     "output_type": "stream",
     "text": [
      "\n"
     ]
    },
    {
     "name": "stdout",
     "output_type": "stream",
     "text": [
      "\n",
      "      Epoch    GPU_mem   box_loss   cls_loss   dfl_loss  Instances       Size\n"
     ]
    },
    {
     "name": "stderr",
     "output_type": "stream",
     "text": [
      "     95/200       6.8G      1.009     0.6483      1.283         18        640: 100%|██████████| 197/197 [00:36<00:00,  5.39it/s]\n",
      "                 Class     Images  Instances      Box(P          R      mAP50  mAP50-95): 100%|██████████| 12/12 [00:01<00:00,  6.20it/s]"
     ]
    },
    {
     "name": "stdout",
     "output_type": "stream",
     "text": [
      "                   all        370        522      0.944      0.899      0.951      0.677\n"
     ]
    },
    {
     "name": "stderr",
     "output_type": "stream",
     "text": [
      "\n"
     ]
    },
    {
     "name": "stdout",
     "output_type": "stream",
     "text": [
      "\n",
      "      Epoch    GPU_mem   box_loss   cls_loss   dfl_loss  Instances       Size\n"
     ]
    },
    {
     "name": "stderr",
     "output_type": "stream",
     "text": [
      "     96/200      6.78G      1.002     0.6489      1.281         15        640: 100%|██████████| 197/197 [00:36<00:00,  5.39it/s]\n",
      "                 Class     Images  Instances      Box(P          R      mAP50  mAP50-95): 100%|██████████| 12/12 [00:01<00:00,  6.22it/s]"
     ]
    },
    {
     "name": "stdout",
     "output_type": "stream",
     "text": [
      "                   all        370        522      0.936      0.875      0.952      0.681\n"
     ]
    },
    {
     "name": "stderr",
     "output_type": "stream",
     "text": [
      "\n"
     ]
    },
    {
     "name": "stdout",
     "output_type": "stream",
     "text": [
      "\n",
      "      Epoch    GPU_mem   box_loss   cls_loss   dfl_loss  Instances       Size\n"
     ]
    },
    {
     "name": "stderr",
     "output_type": "stream",
     "text": [
      "     97/200      6.79G      1.005     0.6428      1.273         17        640: 100%|██████████| 197/197 [00:36<00:00,  5.37it/s]\n",
      "                 Class     Images  Instances      Box(P          R      mAP50  mAP50-95): 100%|██████████| 12/12 [00:01<00:00,  6.16it/s]"
     ]
    },
    {
     "name": "stdout",
     "output_type": "stream",
     "text": [
      "                   all        370        522      0.914      0.878      0.949      0.664\n"
     ]
    },
    {
     "name": "stderr",
     "output_type": "stream",
     "text": [
      "\n"
     ]
    },
    {
     "name": "stdout",
     "output_type": "stream",
     "text": [
      "\n",
      "      Epoch    GPU_mem   box_loss   cls_loss   dfl_loss  Instances       Size\n"
     ]
    },
    {
     "name": "stderr",
     "output_type": "stream",
     "text": [
      "     98/200      6.71G          1     0.6335      1.272         25        640: 100%|██████████| 197/197 [00:36<00:00,  5.37it/s]\n",
      "                 Class     Images  Instances      Box(P          R      mAP50  mAP50-95): 100%|██████████| 12/12 [00:01<00:00,  6.16it/s]"
     ]
    },
    {
     "name": "stdout",
     "output_type": "stream",
     "text": [
      "                   all        370        522      0.949      0.884      0.951      0.679\n"
     ]
    },
    {
     "name": "stderr",
     "output_type": "stream",
     "text": [
      "\n"
     ]
    },
    {
     "name": "stdout",
     "output_type": "stream",
     "text": [
      "\n",
      "      Epoch    GPU_mem   box_loss   cls_loss   dfl_loss  Instances       Size\n"
     ]
    },
    {
     "name": "stderr",
     "output_type": "stream",
     "text": [
      "     99/200      6.81G     0.9906     0.6373      1.266         18        640: 100%|██████████| 197/197 [00:36<00:00,  5.37it/s]\n",
      "                 Class     Images  Instances      Box(P          R      mAP50  mAP50-95): 100%|██████████| 12/12 [00:01<00:00,  6.25it/s]"
     ]
    },
    {
     "name": "stdout",
     "output_type": "stream",
     "text": [
      "                   all        370        522      0.879        0.9      0.948      0.664\n"
     ]
    },
    {
     "name": "stderr",
     "output_type": "stream",
     "text": [
      "\n"
     ]
    },
    {
     "name": "stdout",
     "output_type": "stream",
     "text": [
      "\n",
      "      Epoch    GPU_mem   box_loss   cls_loss   dfl_loss  Instances       Size\n"
     ]
    },
    {
     "name": "stderr",
     "output_type": "stream",
     "text": [
      "    100/200      6.79G     0.9858     0.6231      1.263         14        640: 100%|██████████| 197/197 [00:36<00:00,  5.36it/s]\n",
      "                 Class     Images  Instances      Box(P          R      mAP50  mAP50-95): 100%|██████████| 12/12 [00:01<00:00,  6.28it/s]"
     ]
    },
    {
     "name": "stdout",
     "output_type": "stream",
     "text": [
      "                   all        370        522      0.944      0.889       0.96      0.694\n"
     ]
    },
    {
     "name": "stderr",
     "output_type": "stream",
     "text": [
      "\n"
     ]
    },
    {
     "name": "stdout",
     "output_type": "stream",
     "text": [
      "\n",
      "      Epoch    GPU_mem   box_loss   cls_loss   dfl_loss  Instances       Size\n"
     ]
    },
    {
     "name": "stderr",
     "output_type": "stream",
     "text": [
      "    101/200      6.77G     0.9645     0.6155      1.245         18        640: 100%|██████████| 197/197 [00:36<00:00,  5.38it/s]\n",
      "                 Class     Images  Instances      Box(P          R      mAP50  mAP50-95): 100%|██████████| 12/12 [00:01<00:00,  6.19it/s]"
     ]
    },
    {
     "name": "stdout",
     "output_type": "stream",
     "text": [
      "                   all        370        522      0.942      0.906      0.975      0.715\n"
     ]
    },
    {
     "name": "stderr",
     "output_type": "stream",
     "text": [
      "\n"
     ]
    },
    {
     "name": "stdout",
     "output_type": "stream",
     "text": [
      "\n",
      "      Epoch    GPU_mem   box_loss   cls_loss   dfl_loss  Instances       Size\n"
     ]
    },
    {
     "name": "stderr",
     "output_type": "stream",
     "text": [
      "    102/200       6.7G     0.9676     0.6236      1.249         23        640: 100%|██████████| 197/197 [00:36<00:00,  5.38it/s]\n",
      "                 Class     Images  Instances      Box(P          R      mAP50  mAP50-95): 100%|██████████| 12/12 [00:01<00:00,  6.20it/s]"
     ]
    },
    {
     "name": "stdout",
     "output_type": "stream",
     "text": [
      "                   all        370        522      0.961      0.915      0.968      0.716\n"
     ]
    },
    {
     "name": "stderr",
     "output_type": "stream",
     "text": [
      "\n"
     ]
    },
    {
     "name": "stdout",
     "output_type": "stream",
     "text": [
      "\n",
      "      Epoch    GPU_mem   box_loss   cls_loss   dfl_loss  Instances       Size\n"
     ]
    },
    {
     "name": "stderr",
     "output_type": "stream",
     "text": [
      "    103/200      6.81G     0.9608     0.6016      1.248         23        640: 100%|██████████| 197/197 [00:36<00:00,  5.37it/s]\n",
      "                 Class     Images  Instances      Box(P          R      mAP50  mAP50-95): 100%|██████████| 12/12 [00:01<00:00,  6.20it/s]"
     ]
    },
    {
     "name": "stdout",
     "output_type": "stream",
     "text": [
      "                   all        370        522      0.953      0.931      0.973      0.718\n"
     ]
    },
    {
     "name": "stderr",
     "output_type": "stream",
     "text": [
      "\n"
     ]
    },
    {
     "name": "stdout",
     "output_type": "stream",
     "text": [
      "\n",
      "      Epoch    GPU_mem   box_loss   cls_loss   dfl_loss  Instances       Size\n"
     ]
    },
    {
     "name": "stderr",
     "output_type": "stream",
     "text": [
      "    104/200      6.79G     0.9497     0.5978      1.243         23        640: 100%|██████████| 197/197 [00:36<00:00,  5.38it/s]\n",
      "                 Class     Images  Instances      Box(P          R      mAP50  mAP50-95): 100%|██████████| 12/12 [00:01<00:00,  6.18it/s]"
     ]
    },
    {
     "name": "stdout",
     "output_type": "stream",
     "text": [
      "                   all        370        522      0.948      0.908      0.971      0.715\n"
     ]
    },
    {
     "name": "stderr",
     "output_type": "stream",
     "text": [
      "\n"
     ]
    },
    {
     "name": "stdout",
     "output_type": "stream",
     "text": [
      "\n",
      "      Epoch    GPU_mem   box_loss   cls_loss   dfl_loss  Instances       Size\n"
     ]
    },
    {
     "name": "stderr",
     "output_type": "stream",
     "text": [
      "    105/200      6.78G     0.9554     0.6063      1.243         21        640: 100%|██████████| 197/197 [00:36<00:00,  5.38it/s]\n",
      "                 Class     Images  Instances      Box(P          R      mAP50  mAP50-95): 100%|██████████| 12/12 [00:01<00:00,  6.13it/s]"
     ]
    },
    {
     "name": "stdout",
     "output_type": "stream",
     "text": [
      "                   all        370        522      0.948      0.907      0.966      0.709\n"
     ]
    },
    {
     "name": "stderr",
     "output_type": "stream",
     "text": [
      "\n"
     ]
    },
    {
     "name": "stdout",
     "output_type": "stream",
     "text": [
      "\n",
      "      Epoch    GPU_mem   box_loss   cls_loss   dfl_loss  Instances       Size\n"
     ]
    },
    {
     "name": "stderr",
     "output_type": "stream",
     "text": [
      "    106/200       6.7G     0.9489     0.6017      1.231         16        640: 100%|██████████| 197/197 [00:36<00:00,  5.38it/s]\n",
      "                 Class     Images  Instances      Box(P          R      mAP50  mAP50-95): 100%|██████████| 12/12 [00:01<00:00,  6.20it/s]"
     ]
    },
    {
     "name": "stdout",
     "output_type": "stream",
     "text": [
      "                   all        370        522      0.936       0.94      0.978      0.732\n"
     ]
    },
    {
     "name": "stderr",
     "output_type": "stream",
     "text": [
      "\n"
     ]
    },
    {
     "name": "stdout",
     "output_type": "stream",
     "text": [
      "\n",
      "      Epoch    GPU_mem   box_loss   cls_loss   dfl_loss  Instances       Size\n"
     ]
    },
    {
     "name": "stderr",
     "output_type": "stream",
     "text": [
      "    107/200      6.81G     0.9496     0.6009      1.233         21        640: 100%|██████████| 197/197 [00:36<00:00,  5.38it/s]\n",
      "                 Class     Images  Instances      Box(P          R      mAP50  mAP50-95): 100%|██████████| 12/12 [00:01<00:00,  6.27it/s]"
     ]
    },
    {
     "name": "stdout",
     "output_type": "stream",
     "text": [
      "                   all        370        522      0.976      0.873      0.964      0.722\n"
     ]
    },
    {
     "name": "stderr",
     "output_type": "stream",
     "text": [
      "\n"
     ]
    },
    {
     "name": "stdout",
     "output_type": "stream",
     "text": [
      "\n",
      "      Epoch    GPU_mem   box_loss   cls_loss   dfl_loss  Instances       Size\n"
     ]
    },
    {
     "name": "stderr",
     "output_type": "stream",
     "text": [
      "    108/200      6.78G     0.9384     0.5889      1.225         19        640: 100%|██████████| 197/197 [00:36<00:00,  5.38it/s]\n",
      "                 Class     Images  Instances      Box(P          R      mAP50  mAP50-95): 100%|██████████| 12/12 [00:01<00:00,  6.14it/s]"
     ]
    },
    {
     "name": "stdout",
     "output_type": "stream",
     "text": [
      "                   all        370        522       0.97      0.887      0.973      0.729\n"
     ]
    },
    {
     "name": "stderr",
     "output_type": "stream",
     "text": [
      "\n"
     ]
    },
    {
     "name": "stdout",
     "output_type": "stream",
     "text": [
      "\n",
      "      Epoch    GPU_mem   box_loss   cls_loss   dfl_loss  Instances       Size\n"
     ]
    },
    {
     "name": "stderr",
     "output_type": "stream",
     "text": [
      "    109/200      6.76G     0.9178     0.5827      1.219         16        640: 100%|██████████| 197/197 [00:36<00:00,  5.37it/s]\n",
      "                 Class     Images  Instances      Box(P          R      mAP50  mAP50-95): 100%|██████████| 12/12 [00:01<00:00,  6.13it/s]"
     ]
    },
    {
     "name": "stdout",
     "output_type": "stream",
     "text": [
      "                   all        370        522      0.968      0.925      0.983       0.74\n"
     ]
    },
    {
     "name": "stderr",
     "output_type": "stream",
     "text": [
      "\n"
     ]
    },
    {
     "name": "stdout",
     "output_type": "stream",
     "text": [
      "\n",
      "      Epoch    GPU_mem   box_loss   cls_loss   dfl_loss  Instances       Size\n"
     ]
    },
    {
     "name": "stderr",
     "output_type": "stream",
     "text": [
      "    110/200       6.7G     0.9323     0.5862      1.226         23        640: 100%|██████████| 197/197 [00:36<00:00,  5.37it/s]\n",
      "                 Class     Images  Instances      Box(P          R      mAP50  mAP50-95): 100%|██████████| 12/12 [00:01<00:00,  6.13it/s]"
     ]
    },
    {
     "name": "stdout",
     "output_type": "stream",
     "text": [
      "                   all        370        522      0.936      0.964       0.98      0.745\n"
     ]
    },
    {
     "name": "stderr",
     "output_type": "stream",
     "text": [
      "\n"
     ]
    },
    {
     "name": "stdout",
     "output_type": "stream",
     "text": [
      "\n",
      "      Epoch    GPU_mem   box_loss   cls_loss   dfl_loss  Instances       Size\n"
     ]
    },
    {
     "name": "stderr",
     "output_type": "stream",
     "text": [
      "    111/200       6.8G     0.9264      0.587      1.228         12        640: 100%|██████████| 197/197 [00:36<00:00,  5.38it/s]\n",
      "                 Class     Images  Instances      Box(P          R      mAP50  mAP50-95): 100%|██████████| 12/12 [00:01<00:00,  6.12it/s]"
     ]
    },
    {
     "name": "stdout",
     "output_type": "stream",
     "text": [
      "                   all        370        522       0.98      0.912      0.977      0.736\n"
     ]
    },
    {
     "name": "stderr",
     "output_type": "stream",
     "text": [
      "\n"
     ]
    },
    {
     "name": "stdout",
     "output_type": "stream",
     "text": [
      "\n",
      "      Epoch    GPU_mem   box_loss   cls_loss   dfl_loss  Instances       Size\n"
     ]
    },
    {
     "name": "stderr",
     "output_type": "stream",
     "text": [
      "    112/200      6.78G     0.9115     0.5836      1.218         16        640: 100%|██████████| 197/197 [00:36<00:00,  5.39it/s]\n",
      "                 Class     Images  Instances      Box(P          R      mAP50  mAP50-95): 100%|██████████| 12/12 [00:01<00:00,  6.22it/s]"
     ]
    },
    {
     "name": "stdout",
     "output_type": "stream",
     "text": [
      "                   all        370        522      0.938      0.938      0.981      0.743\n"
     ]
    },
    {
     "name": "stderr",
     "output_type": "stream",
     "text": [
      "\n"
     ]
    },
    {
     "name": "stdout",
     "output_type": "stream",
     "text": [
      "\n",
      "      Epoch    GPU_mem   box_loss   cls_loss   dfl_loss  Instances       Size\n"
     ]
    },
    {
     "name": "stderr",
     "output_type": "stream",
     "text": [
      "    113/200      6.76G     0.9034     0.5715      1.203         15        640: 100%|██████████| 197/197 [00:36<00:00,  5.37it/s]\n",
      "                 Class     Images  Instances      Box(P          R      mAP50  mAP50-95): 100%|██████████| 12/12 [00:01<00:00,  6.22it/s]"
     ]
    },
    {
     "name": "stdout",
     "output_type": "stream",
     "text": [
      "                   all        370        522      0.935      0.928      0.974      0.738\n"
     ]
    },
    {
     "name": "stderr",
     "output_type": "stream",
     "text": [
      "\n"
     ]
    },
    {
     "name": "stdout",
     "output_type": "stream",
     "text": [
      "\n",
      "      Epoch    GPU_mem   box_loss   cls_loss   dfl_loss  Instances       Size\n"
     ]
    },
    {
     "name": "stderr",
     "output_type": "stream",
     "text": [
      "    114/200      6.71G     0.9076      0.567      1.206         15        640: 100%|██████████| 197/197 [00:36<00:00,  5.36it/s]\n",
      "                 Class     Images  Instances      Box(P          R      mAP50  mAP50-95): 100%|██████████| 12/12 [00:01<00:00,  6.24it/s]"
     ]
    },
    {
     "name": "stdout",
     "output_type": "stream",
     "text": [
      "                   all        370        522      0.932       0.94      0.974      0.735\n"
     ]
    },
    {
     "name": "stderr",
     "output_type": "stream",
     "text": [
      "\n"
     ]
    },
    {
     "name": "stdout",
     "output_type": "stream",
     "text": [
      "\n",
      "      Epoch    GPU_mem   box_loss   cls_loss   dfl_loss  Instances       Size\n"
     ]
    },
    {
     "name": "stderr",
     "output_type": "stream",
     "text": [
      "    115/200      6.81G     0.8952     0.5648      1.203          9        640: 100%|██████████| 197/197 [00:36<00:00,  5.38it/s]\n",
      "                 Class     Images  Instances      Box(P          R      mAP50  mAP50-95): 100%|██████████| 12/12 [00:01<00:00,  6.17it/s]"
     ]
    },
    {
     "name": "stdout",
     "output_type": "stream",
     "text": [
      "                   all        370        522      0.941      0.949      0.977      0.736\n"
     ]
    },
    {
     "name": "stderr",
     "output_type": "stream",
     "text": [
      "\n"
     ]
    },
    {
     "name": "stdout",
     "output_type": "stream",
     "text": [
      "\n",
      "      Epoch    GPU_mem   box_loss   cls_loss   dfl_loss  Instances       Size\n"
     ]
    },
    {
     "name": "stderr",
     "output_type": "stream",
     "text": [
      "    116/200      6.78G     0.8934     0.5652      1.201         11        640: 100%|██████████| 197/197 [00:36<00:00,  5.37it/s]\n",
      "                 Class     Images  Instances      Box(P          R      mAP50  mAP50-95): 100%|██████████| 12/12 [00:01<00:00,  6.15it/s]"
     ]
    },
    {
     "name": "stdout",
     "output_type": "stream",
     "text": [
      "                   all        370        522      0.948      0.927      0.972      0.728\n"
     ]
    },
    {
     "name": "stderr",
     "output_type": "stream",
     "text": [
      "\n"
     ]
    },
    {
     "name": "stdout",
     "output_type": "stream",
     "text": [
      "\n",
      "      Epoch    GPU_mem   box_loss   cls_loss   dfl_loss  Instances       Size\n"
     ]
    },
    {
     "name": "stderr",
     "output_type": "stream",
     "text": [
      "    117/200      6.74G     0.8881      0.566      1.198         11        640: 100%|██████████| 197/197 [00:36<00:00,  5.36it/s]\n",
      "                 Class     Images  Instances      Box(P          R      mAP50  mAP50-95): 100%|██████████| 12/12 [00:01<00:00,  6.23it/s]"
     ]
    },
    {
     "name": "stdout",
     "output_type": "stream",
     "text": [
      "                   all        370        522      0.965      0.936      0.974      0.731\n"
     ]
    },
    {
     "name": "stderr",
     "output_type": "stream",
     "text": [
      "\n"
     ]
    },
    {
     "name": "stdout",
     "output_type": "stream",
     "text": [
      "\n",
      "      Epoch    GPU_mem   box_loss   cls_loss   dfl_loss  Instances       Size\n"
     ]
    },
    {
     "name": "stderr",
     "output_type": "stream",
     "text": [
      "    118/200       6.7G     0.8826     0.5699      1.189         13        640: 100%|██████████| 197/197 [00:36<00:00,  5.37it/s]\n",
      "                 Class     Images  Instances      Box(P          R      mAP50  mAP50-95): 100%|██████████| 12/12 [00:01<00:00,  6.12it/s]"
     ]
    },
    {
     "name": "stdout",
     "output_type": "stream",
     "text": [
      "                   all        370        522      0.911      0.975      0.982      0.757\n"
     ]
    },
    {
     "name": "stderr",
     "output_type": "stream",
     "text": [
      "\n"
     ]
    },
    {
     "name": "stdout",
     "output_type": "stream",
     "text": [
      "\n",
      "      Epoch    GPU_mem   box_loss   cls_loss   dfl_loss  Instances       Size\n"
     ]
    },
    {
     "name": "stderr",
     "output_type": "stream",
     "text": [
      "    119/200      6.81G     0.8771     0.5639      1.188         19        640: 100%|██████████| 197/197 [00:36<00:00,  5.39it/s]\n",
      "                 Class     Images  Instances      Box(P          R      mAP50  mAP50-95): 100%|██████████| 12/12 [00:01<00:00,  6.20it/s]"
     ]
    },
    {
     "name": "stdout",
     "output_type": "stream",
     "text": [
      "                   all        370        522      0.966      0.975      0.985      0.756\n"
     ]
    },
    {
     "name": "stderr",
     "output_type": "stream",
     "text": [
      "\n"
     ]
    },
    {
     "name": "stdout",
     "output_type": "stream",
     "text": [
      "\n",
      "      Epoch    GPU_mem   box_loss   cls_loss   dfl_loss  Instances       Size\n"
     ]
    },
    {
     "name": "stderr",
     "output_type": "stream",
     "text": [
      "    120/200      6.79G     0.8677     0.5467      1.182         14        640: 100%|██████████| 197/197 [00:36<00:00,  5.36it/s]\n",
      "                 Class     Images  Instances      Box(P          R      mAP50  mAP50-95): 100%|██████████| 12/12 [00:01<00:00,  6.12it/s]"
     ]
    },
    {
     "name": "stdout",
     "output_type": "stream",
     "text": [
      "                   all        370        522      0.949      0.941      0.987      0.759\n"
     ]
    },
    {
     "name": "stderr",
     "output_type": "stream",
     "text": [
      "\n"
     ]
    },
    {
     "name": "stdout",
     "output_type": "stream",
     "text": [
      "\n",
      "      Epoch    GPU_mem   box_loss   cls_loss   dfl_loss  Instances       Size\n"
     ]
    },
    {
     "name": "stderr",
     "output_type": "stream",
     "text": [
      "    121/200      6.77G     0.8611     0.5517      1.176         18        640: 100%|██████████| 197/197 [00:36<00:00,  5.38it/s]\n",
      "                 Class     Images  Instances      Box(P          R      mAP50  mAP50-95): 100%|██████████| 12/12 [00:01<00:00,  6.28it/s]"
     ]
    },
    {
     "name": "stdout",
     "output_type": "stream",
     "text": [
      "                   all        370        522      0.982      0.925       0.98      0.747\n"
     ]
    },
    {
     "name": "stderr",
     "output_type": "stream",
     "text": [
      "\n"
     ]
    },
    {
     "name": "stdout",
     "output_type": "stream",
     "text": [
      "\n",
      "      Epoch    GPU_mem   box_loss   cls_loss   dfl_loss  Instances       Size\n"
     ]
    },
    {
     "name": "stderr",
     "output_type": "stream",
     "text": [
      "    122/200       6.7G     0.8588     0.5459      1.178         25        640: 100%|██████████| 197/197 [00:36<00:00,  5.38it/s]\n",
      "                 Class     Images  Instances      Box(P          R      mAP50  mAP50-95): 100%|██████████| 12/12 [00:01<00:00,  6.07it/s]"
     ]
    },
    {
     "name": "stdout",
     "output_type": "stream",
     "text": [
      "                   all        370        522      0.968      0.961      0.981      0.758\n"
     ]
    },
    {
     "name": "stderr",
     "output_type": "stream",
     "text": [
      "\n"
     ]
    },
    {
     "name": "stdout",
     "output_type": "stream",
     "text": [
      "\n",
      "      Epoch    GPU_mem   box_loss   cls_loss   dfl_loss  Instances       Size\n"
     ]
    },
    {
     "name": "stderr",
     "output_type": "stream",
     "text": [
      "    123/200      6.81G     0.8652     0.5484      1.183         12        640: 100%|██████████| 197/197 [00:36<00:00,  5.37it/s]\n",
      "                 Class     Images  Instances      Box(P          R      mAP50  mAP50-95): 100%|██████████| 12/12 [00:01<00:00,  6.25it/s]"
     ]
    },
    {
     "name": "stdout",
     "output_type": "stream",
     "text": [
      "                   all        370        522      0.976      0.958      0.985      0.761\n"
     ]
    },
    {
     "name": "stderr",
     "output_type": "stream",
     "text": [
      "\n"
     ]
    },
    {
     "name": "stdout",
     "output_type": "stream",
     "text": [
      "\n",
      "      Epoch    GPU_mem   box_loss   cls_loss   dfl_loss  Instances       Size\n"
     ]
    },
    {
     "name": "stderr",
     "output_type": "stream",
     "text": [
      "    124/200      6.77G     0.8496     0.5521      1.163         20        640: 100%|██████████| 197/197 [00:36<00:00,  5.41it/s]\n",
      "                 Class     Images  Instances      Box(P          R      mAP50  mAP50-95): 100%|██████████| 12/12 [00:01<00:00,  6.23it/s]"
     ]
    },
    {
     "name": "stdout",
     "output_type": "stream",
     "text": [
      "                   all        370        522      0.969      0.943      0.984      0.767\n"
     ]
    },
    {
     "name": "stderr",
     "output_type": "stream",
     "text": [
      "\n"
     ]
    },
    {
     "name": "stdout",
     "output_type": "stream",
     "text": [
      "\n",
      "      Epoch    GPU_mem   box_loss   cls_loss   dfl_loss  Instances       Size\n"
     ]
    },
    {
     "name": "stderr",
     "output_type": "stream",
     "text": [
      "    125/200      6.75G      0.843     0.5306      1.157         16        640: 100%|██████████| 197/197 [00:36<00:00,  5.42it/s]\n",
      "                 Class     Images  Instances      Box(P          R      mAP50  mAP50-95): 100%|██████████| 12/12 [00:01<00:00,  6.12it/s]"
     ]
    },
    {
     "name": "stdout",
     "output_type": "stream",
     "text": [
      "                   all        370        522       0.97      0.976      0.988      0.776\n"
     ]
    },
    {
     "name": "stderr",
     "output_type": "stream",
     "text": [
      "\n"
     ]
    },
    {
     "name": "stdout",
     "output_type": "stream",
     "text": [
      "\n",
      "      Epoch    GPU_mem   box_loss   cls_loss   dfl_loss  Instances       Size\n"
     ]
    },
    {
     "name": "stderr",
     "output_type": "stream",
     "text": [
      "    126/200       6.7G     0.8341     0.5221      1.149         20        640: 100%|██████████| 197/197 [00:36<00:00,  5.37it/s]\n",
      "                 Class     Images  Instances      Box(P          R      mAP50  mAP50-95): 100%|██████████| 12/12 [00:01<00:00,  6.21it/s]"
     ]
    },
    {
     "name": "stdout",
     "output_type": "stream",
     "text": [
      "                   all        370        522      0.968      0.942      0.983      0.764\n"
     ]
    },
    {
     "name": "stderr",
     "output_type": "stream",
     "text": [
      "\n"
     ]
    },
    {
     "name": "stdout",
     "output_type": "stream",
     "text": [
      "\n",
      "      Epoch    GPU_mem   box_loss   cls_loss   dfl_loss  Instances       Size\n"
     ]
    },
    {
     "name": "stderr",
     "output_type": "stream",
     "text": [
      "    127/200      6.81G      0.823     0.5283      1.147          9        640: 100%|██████████| 197/197 [00:36<00:00,  5.36it/s]\n",
      "                 Class     Images  Instances      Box(P          R      mAP50  mAP50-95): 100%|██████████| 12/12 [00:01<00:00,  6.19it/s]"
     ]
    },
    {
     "name": "stdout",
     "output_type": "stream",
     "text": [
      "                   all        370        522      0.979      0.944      0.985      0.765\n"
     ]
    },
    {
     "name": "stderr",
     "output_type": "stream",
     "text": [
      "\n"
     ]
    },
    {
     "name": "stdout",
     "output_type": "stream",
     "text": [
      "\n",
      "      Epoch    GPU_mem   box_loss   cls_loss   dfl_loss  Instances       Size\n"
     ]
    },
    {
     "name": "stderr",
     "output_type": "stream",
     "text": [
      "    128/200      6.78G     0.8338     0.5284      1.157         18        640: 100%|██████████| 197/197 [00:36<00:00,  5.38it/s]\n",
      "                 Class     Images  Instances      Box(P          R      mAP50  mAP50-95): 100%|██████████| 12/12 [00:01<00:00,  6.20it/s]"
     ]
    },
    {
     "name": "stdout",
     "output_type": "stream",
     "text": [
      "                   all        370        522      0.966      0.946      0.982      0.758\n"
     ]
    },
    {
     "name": "stderr",
     "output_type": "stream",
     "text": [
      "\n"
     ]
    },
    {
     "name": "stdout",
     "output_type": "stream",
     "text": [
      "\n",
      "      Epoch    GPU_mem   box_loss   cls_loss   dfl_loss  Instances       Size\n"
     ]
    },
    {
     "name": "stderr",
     "output_type": "stream",
     "text": [
      "    129/200      6.78G     0.8077     0.5093       1.14         16        640: 100%|██████████| 197/197 [00:36<00:00,  5.37it/s]\n",
      "                 Class     Images  Instances      Box(P          R      mAP50  mAP50-95): 100%|██████████| 12/12 [00:01<00:00,  6.08it/s]"
     ]
    },
    {
     "name": "stdout",
     "output_type": "stream",
     "text": [
      "                   all        370        522      0.982      0.929      0.983      0.772\n"
     ]
    },
    {
     "name": "stderr",
     "output_type": "stream",
     "text": [
      "\n"
     ]
    },
    {
     "name": "stdout",
     "output_type": "stream",
     "text": [
      "\n",
      "      Epoch    GPU_mem   box_loss   cls_loss   dfl_loss  Instances       Size\n"
     ]
    },
    {
     "name": "stderr",
     "output_type": "stream",
     "text": [
      "    130/200      6.71G     0.8106     0.5114       1.14         15        640: 100%|██████████| 197/197 [00:36<00:00,  5.36it/s]\n",
      "                 Class     Images  Instances      Box(P          R      mAP50  mAP50-95): 100%|██████████| 12/12 [00:01<00:00,  6.13it/s]"
     ]
    },
    {
     "name": "stdout",
     "output_type": "stream",
     "text": [
      "                   all        370        522       0.97      0.962      0.984      0.767\n"
     ]
    },
    {
     "name": "stderr",
     "output_type": "stream",
     "text": [
      "\n"
     ]
    },
    {
     "name": "stdout",
     "output_type": "stream",
     "text": [
      "\n",
      "      Epoch    GPU_mem   box_loss   cls_loss   dfl_loss  Instances       Size\n"
     ]
    },
    {
     "name": "stderr",
     "output_type": "stream",
     "text": [
      "    131/200      6.81G     0.8204     0.5205      1.145         18        640: 100%|██████████| 197/197 [00:36<00:00,  5.38it/s]\n",
      "                 Class     Images  Instances      Box(P          R      mAP50  mAP50-95): 100%|██████████| 12/12 [00:01<00:00,  6.27it/s]"
     ]
    },
    {
     "name": "stdout",
     "output_type": "stream",
     "text": [
      "                   all        370        522      0.963      0.963      0.985      0.764\n"
     ]
    },
    {
     "name": "stderr",
     "output_type": "stream",
     "text": [
      "\n"
     ]
    },
    {
     "name": "stdout",
     "output_type": "stream",
     "text": [
      "\n",
      "      Epoch    GPU_mem   box_loss   cls_loss   dfl_loss  Instances       Size\n"
     ]
    },
    {
     "name": "stderr",
     "output_type": "stream",
     "text": [
      "    132/200      6.78G     0.8117     0.5094      1.141         17        640: 100%|██████████| 197/197 [00:36<00:00,  5.37it/s]\n",
      "                 Class     Images  Instances      Box(P          R      mAP50  mAP50-95): 100%|██████████| 12/12 [00:01<00:00,  6.00it/s]"
     ]
    },
    {
     "name": "stdout",
     "output_type": "stream",
     "text": [
      "                   all        370        522      0.979      0.956      0.985      0.773\n"
     ]
    },
    {
     "name": "stderr",
     "output_type": "stream",
     "text": [
      "\n"
     ]
    },
    {
     "name": "stdout",
     "output_type": "stream",
     "text": [
      "\n",
      "      Epoch    GPU_mem   box_loss   cls_loss   dfl_loss  Instances       Size\n"
     ]
    },
    {
     "name": "stderr",
     "output_type": "stream",
     "text": [
      "    133/200      6.77G      0.802     0.5171      1.136         18        640: 100%|██████████| 197/197 [00:36<00:00,  5.37it/s]\n",
      "                 Class     Images  Instances      Box(P          R      mAP50  mAP50-95): 100%|██████████| 12/12 [00:01<00:00,  6.27it/s]"
     ]
    },
    {
     "name": "stdout",
     "output_type": "stream",
     "text": [
      "                   all        370        522      0.977      0.975      0.985      0.773\n"
     ]
    },
    {
     "name": "stderr",
     "output_type": "stream",
     "text": [
      "\n"
     ]
    },
    {
     "name": "stdout",
     "output_type": "stream",
     "text": [
      "\n",
      "      Epoch    GPU_mem   box_loss   cls_loss   dfl_loss  Instances       Size\n"
     ]
    },
    {
     "name": "stderr",
     "output_type": "stream",
     "text": [
      "    134/200      6.71G     0.7904     0.5045      1.125         20        640: 100%|██████████| 197/197 [00:36<00:00,  5.38it/s]\n",
      "                 Class     Images  Instances      Box(P          R      mAP50  mAP50-95): 100%|██████████| 12/12 [00:01<00:00,  6.16it/s]"
     ]
    },
    {
     "name": "stdout",
     "output_type": "stream",
     "text": [
      "                   all        370        522      0.982      0.947      0.986      0.761\n"
     ]
    },
    {
     "name": "stderr",
     "output_type": "stream",
     "text": [
      "\n"
     ]
    },
    {
     "name": "stdout",
     "output_type": "stream",
     "text": [
      "\n",
      "      Epoch    GPU_mem   box_loss   cls_loss   dfl_loss  Instances       Size\n"
     ]
    },
    {
     "name": "stderr",
     "output_type": "stream",
     "text": [
      "    135/200      6.81G     0.7876     0.4859       1.12         27        640: 100%|██████████| 197/197 [00:36<00:00,  5.37it/s]\n",
      "                 Class     Images  Instances      Box(P          R      mAP50  mAP50-95): 100%|██████████| 12/12 [00:01<00:00,  6.24it/s]"
     ]
    },
    {
     "name": "stdout",
     "output_type": "stream",
     "text": [
      "                   all        370        522      0.973      0.964      0.984      0.778\n"
     ]
    },
    {
     "name": "stderr",
     "output_type": "stream",
     "text": [
      "\n"
     ]
    },
    {
     "name": "stdout",
     "output_type": "stream",
     "text": [
      "\n",
      "      Epoch    GPU_mem   box_loss   cls_loss   dfl_loss  Instances       Size\n"
     ]
    },
    {
     "name": "stderr",
     "output_type": "stream",
     "text": [
      "    136/200      6.79G     0.7869     0.5079      1.124         14        640: 100%|██████████| 197/197 [00:36<00:00,  5.37it/s]\n",
      "                 Class     Images  Instances      Box(P          R      mAP50  mAP50-95): 100%|██████████| 12/12 [00:01<00:00,  6.14it/s]"
     ]
    },
    {
     "name": "stdout",
     "output_type": "stream",
     "text": [
      "                   all        370        522       0.98       0.96      0.986      0.773\n"
     ]
    },
    {
     "name": "stderr",
     "output_type": "stream",
     "text": [
      "\n"
     ]
    },
    {
     "name": "stdout",
     "output_type": "stream",
     "text": [
      "\n",
      "      Epoch    GPU_mem   box_loss   cls_loss   dfl_loss  Instances       Size\n"
     ]
    },
    {
     "name": "stderr",
     "output_type": "stream",
     "text": [
      "    137/200      6.75G     0.7891     0.4913      1.127         17        640: 100%|██████████| 197/197 [00:36<00:00,  5.37it/s]\n",
      "                 Class     Images  Instances      Box(P          R      mAP50  mAP50-95): 100%|██████████| 12/12 [00:01<00:00,  6.23it/s]"
     ]
    },
    {
     "name": "stdout",
     "output_type": "stream",
     "text": [
      "                   all        370        522      0.969       0.97      0.987      0.775\n"
     ]
    },
    {
     "name": "stderr",
     "output_type": "stream",
     "text": [
      "\n"
     ]
    },
    {
     "name": "stdout",
     "output_type": "stream",
     "text": [
      "\n",
      "      Epoch    GPU_mem   box_loss   cls_loss   dfl_loss  Instances       Size\n"
     ]
    },
    {
     "name": "stderr",
     "output_type": "stream",
     "text": [
      "    138/200       6.7G      0.794     0.4948      1.126         17        640: 100%|██████████| 197/197 [00:36<00:00,  5.38it/s]\n",
      "                 Class     Images  Instances      Box(P          R      mAP50  mAP50-95): 100%|██████████| 12/12 [00:01<00:00,  6.12it/s]"
     ]
    },
    {
     "name": "stdout",
     "output_type": "stream",
     "text": [
      "                   all        370        522      0.965      0.973      0.988      0.772\n"
     ]
    },
    {
     "name": "stderr",
     "output_type": "stream",
     "text": [
      "\n"
     ]
    },
    {
     "name": "stdout",
     "output_type": "stream",
     "text": [
      "\n",
      "      Epoch    GPU_mem   box_loss   cls_loss   dfl_loss  Instances       Size\n"
     ]
    },
    {
     "name": "stderr",
     "output_type": "stream",
     "text": [
      "    139/200       6.8G     0.7705     0.4896      1.118         18        640: 100%|██████████| 197/197 [00:36<00:00,  5.37it/s]\n",
      "                 Class     Images  Instances      Box(P          R      mAP50  mAP50-95): 100%|██████████| 12/12 [00:01<00:00,  6.07it/s]"
     ]
    },
    {
     "name": "stdout",
     "output_type": "stream",
     "text": [
      "                   all        370        522      0.977      0.958      0.984      0.773\n"
     ]
    },
    {
     "name": "stderr",
     "output_type": "stream",
     "text": [
      "\n"
     ]
    },
    {
     "name": "stdout",
     "output_type": "stream",
     "text": [
      "\n",
      "      Epoch    GPU_mem   box_loss   cls_loss   dfl_loss  Instances       Size\n"
     ]
    },
    {
     "name": "stderr",
     "output_type": "stream",
     "text": [
      "    140/200      6.79G     0.7599      0.477      1.109         21        640: 100%|██████████| 197/197 [00:36<00:00,  5.44it/s]\n",
      "                 Class     Images  Instances      Box(P          R      mAP50  mAP50-95): 100%|██████████| 12/12 [00:01<00:00,  6.23it/s]"
     ]
    },
    {
     "name": "stdout",
     "output_type": "stream",
     "text": [
      "                   all        370        522      0.974      0.962      0.984      0.779\n"
     ]
    },
    {
     "name": "stderr",
     "output_type": "stream",
     "text": [
      "\n"
     ]
    },
    {
     "name": "stdout",
     "output_type": "stream",
     "text": [
      "\n",
      "      Epoch    GPU_mem   box_loss   cls_loss   dfl_loss  Instances       Size\n"
     ]
    },
    {
     "name": "stderr",
     "output_type": "stream",
     "text": [
      "    141/200      6.77G     0.7671     0.4836      1.113         20        640: 100%|██████████| 197/197 [00:36<00:00,  5.39it/s]\n",
      "                 Class     Images  Instances      Box(P          R      mAP50  mAP50-95): 100%|██████████| 12/12 [00:01<00:00,  6.26it/s]"
     ]
    },
    {
     "name": "stdout",
     "output_type": "stream",
     "text": [
      "                   all        370        522      0.975       0.96      0.985      0.778\n"
     ]
    },
    {
     "name": "stderr",
     "output_type": "stream",
     "text": [
      "\n"
     ]
    },
    {
     "name": "stdout",
     "output_type": "stream",
     "text": [
      "\n",
      "      Epoch    GPU_mem   box_loss   cls_loss   dfl_loss  Instances       Size\n"
     ]
    },
    {
     "name": "stderr",
     "output_type": "stream",
     "text": [
      "    142/200       6.7G     0.7659     0.4862      1.112         16        640: 100%|██████████| 197/197 [00:36<00:00,  5.39it/s]\n",
      "                 Class     Images  Instances      Box(P          R      mAP50  mAP50-95): 100%|██████████| 12/12 [00:01<00:00,  6.17it/s]"
     ]
    },
    {
     "name": "stdout",
     "output_type": "stream",
     "text": [
      "                   all        370        522      0.983      0.949      0.987      0.784\n"
     ]
    },
    {
     "name": "stderr",
     "output_type": "stream",
     "text": [
      "\n"
     ]
    },
    {
     "name": "stdout",
     "output_type": "stream",
     "text": [
      "\n",
      "      Epoch    GPU_mem   box_loss   cls_loss   dfl_loss  Instances       Size\n"
     ]
    },
    {
     "name": "stderr",
     "output_type": "stream",
     "text": [
      "    143/200      6.81G     0.7646     0.4863       1.11         22        640: 100%|██████████| 197/197 [00:36<00:00,  5.36it/s]\n",
      "                 Class     Images  Instances      Box(P          R      mAP50  mAP50-95): 100%|██████████| 12/12 [00:01<00:00,  6.15it/s]"
     ]
    },
    {
     "name": "stdout",
     "output_type": "stream",
     "text": [
      "                   all        370        522      0.965      0.974      0.988      0.785\n"
     ]
    },
    {
     "name": "stderr",
     "output_type": "stream",
     "text": [
      "\n"
     ]
    },
    {
     "name": "stdout",
     "output_type": "stream",
     "text": [
      "\n",
      "      Epoch    GPU_mem   box_loss   cls_loss   dfl_loss  Instances       Size\n"
     ]
    },
    {
     "name": "stderr",
     "output_type": "stream",
     "text": [
      "    144/200      6.78G     0.7589     0.4773       1.11         21        640: 100%|██████████| 197/197 [00:36<00:00,  5.39it/s]\n",
      "                 Class     Images  Instances      Box(P          R      mAP50  mAP50-95): 100%|██████████| 12/12 [00:01<00:00,  6.21it/s]"
     ]
    },
    {
     "name": "stdout",
     "output_type": "stream",
     "text": [
      "                   all        370        522       0.98       0.95      0.987      0.776\n"
     ]
    },
    {
     "name": "stderr",
     "output_type": "stream",
     "text": [
      "\n"
     ]
    },
    {
     "name": "stdout",
     "output_type": "stream",
     "text": [
      "\n",
      "      Epoch    GPU_mem   box_loss   cls_loss   dfl_loss  Instances       Size\n"
     ]
    },
    {
     "name": "stderr",
     "output_type": "stream",
     "text": [
      "    145/200      6.76G     0.7414     0.4738      1.092         15        640: 100%|██████████| 197/197 [00:36<00:00,  5.34it/s]\n",
      "                 Class     Images  Instances      Box(P          R      mAP50  mAP50-95): 100%|██████████| 12/12 [00:01<00:00,  6.24it/s]"
     ]
    },
    {
     "name": "stdout",
     "output_type": "stream",
     "text": [
      "                   all        370        522      0.973       0.96      0.987      0.792\n"
     ]
    },
    {
     "name": "stderr",
     "output_type": "stream",
     "text": [
      "\n"
     ]
    },
    {
     "name": "stdout",
     "output_type": "stream",
     "text": [
      "\n",
      "      Epoch    GPU_mem   box_loss   cls_loss   dfl_loss  Instances       Size\n"
     ]
    },
    {
     "name": "stderr",
     "output_type": "stream",
     "text": [
      "    146/200       6.7G     0.7526     0.4685        1.1         22        640: 100%|██████████| 197/197 [00:36<00:00,  5.38it/s]\n",
      "                 Class     Images  Instances      Box(P          R      mAP50  mAP50-95): 100%|██████████| 12/12 [00:01<00:00,  6.03it/s]"
     ]
    },
    {
     "name": "stdout",
     "output_type": "stream",
     "text": [
      "                   all        370        522      0.955      0.973      0.987      0.783\n"
     ]
    },
    {
     "name": "stderr",
     "output_type": "stream",
     "text": [
      "\n"
     ]
    },
    {
     "name": "stdout",
     "output_type": "stream",
     "text": [
      "\n",
      "      Epoch    GPU_mem   box_loss   cls_loss   dfl_loss  Instances       Size\n"
     ]
    },
    {
     "name": "stderr",
     "output_type": "stream",
     "text": [
      "    147/200       6.8G     0.7498     0.4716      1.098         15        640: 100%|██████████| 197/197 [00:36<00:00,  5.37it/s]\n",
      "                 Class     Images  Instances      Box(P          R      mAP50  mAP50-95): 100%|██████████| 12/12 [00:01<00:00,  6.23it/s]"
     ]
    },
    {
     "name": "stdout",
     "output_type": "stream",
     "text": [
      "                   all        370        522      0.967      0.987      0.988      0.792\n"
     ]
    },
    {
     "name": "stderr",
     "output_type": "stream",
     "text": [
      "\n"
     ]
    },
    {
     "name": "stdout",
     "output_type": "stream",
     "text": [
      "\n",
      "      Epoch    GPU_mem   box_loss   cls_loss   dfl_loss  Instances       Size\n"
     ]
    },
    {
     "name": "stderr",
     "output_type": "stream",
     "text": [
      "    148/200      6.77G     0.7437     0.4772      1.094         15        640: 100%|██████████| 197/197 [00:36<00:00,  5.36it/s]\n",
      "                 Class     Images  Instances      Box(P          R      mAP50  mAP50-95): 100%|██████████| 12/12 [00:01<00:00,  6.20it/s]"
     ]
    },
    {
     "name": "stdout",
     "output_type": "stream",
     "text": [
      "                   all        370        522      0.964      0.974      0.987      0.789\n"
     ]
    },
    {
     "name": "stderr",
     "output_type": "stream",
     "text": [
      "\n"
     ]
    },
    {
     "name": "stdout",
     "output_type": "stream",
     "text": [
      "\n",
      "      Epoch    GPU_mem   box_loss   cls_loss   dfl_loss  Instances       Size\n"
     ]
    },
    {
     "name": "stderr",
     "output_type": "stream",
     "text": [
      "    149/200      6.75G     0.7373     0.4716      1.089         24        640: 100%|██████████| 197/197 [00:36<00:00,  5.36it/s]\n",
      "                 Class     Images  Instances      Box(P          R      mAP50  mAP50-95): 100%|██████████| 12/12 [00:01<00:00,  6.23it/s]"
     ]
    },
    {
     "name": "stdout",
     "output_type": "stream",
     "text": [
      "                   all        370        522      0.974      0.981      0.988      0.786\n"
     ]
    },
    {
     "name": "stderr",
     "output_type": "stream",
     "text": [
      "\n"
     ]
    },
    {
     "name": "stdout",
     "output_type": "stream",
     "text": [
      "\n",
      "      Epoch    GPU_mem   box_loss   cls_loss   dfl_loss  Instances       Size\n"
     ]
    },
    {
     "name": "stderr",
     "output_type": "stream",
     "text": [
      "    150/200      6.69G      0.741     0.4715      1.093         21        640: 100%|██████████| 197/197 [00:36<00:00,  5.36it/s]\n",
      "                 Class     Images  Instances      Box(P          R      mAP50  mAP50-95): 100%|██████████| 12/12 [00:01<00:00,  6.14it/s]"
     ]
    },
    {
     "name": "stdout",
     "output_type": "stream",
     "text": [
      "                   all        370        522      0.977       0.98      0.989      0.794\n"
     ]
    },
    {
     "name": "stderr",
     "output_type": "stream",
     "text": [
      "\n"
     ]
    },
    {
     "name": "stdout",
     "output_type": "stream",
     "text": [
      "\n",
      "      Epoch    GPU_mem   box_loss   cls_loss   dfl_loss  Instances       Size\n"
     ]
    },
    {
     "name": "stderr",
     "output_type": "stream",
     "text": [
      "    151/200       6.8G     0.7299     0.4554      1.085         20        640: 100%|██████████| 197/197 [00:36<00:00,  5.38it/s]\n",
      "                 Class     Images  Instances      Box(P          R      mAP50  mAP50-95): 100%|██████████| 12/12 [00:01<00:00,  6.24it/s]"
     ]
    },
    {
     "name": "stdout",
     "output_type": "stream",
     "text": [
      "                   all        370        522      0.974      0.985      0.989      0.796\n"
     ]
    },
    {
     "name": "stderr",
     "output_type": "stream",
     "text": [
      "\n"
     ]
    },
    {
     "name": "stdout",
     "output_type": "stream",
     "text": [
      "\n",
      "      Epoch    GPU_mem   box_loss   cls_loss   dfl_loss  Instances       Size\n"
     ]
    },
    {
     "name": "stderr",
     "output_type": "stream",
     "text": [
      "    152/200      6.79G      0.721     0.4482      1.081         20        640: 100%|██████████| 197/197 [00:36<00:00,  5.38it/s]\n",
      "                 Class     Images  Instances      Box(P          R      mAP50  mAP50-95): 100%|██████████| 12/12 [00:01<00:00,  6.19it/s]"
     ]
    },
    {
     "name": "stdout",
     "output_type": "stream",
     "text": [
      "                   all        370        522      0.944      0.984      0.988      0.796\n"
     ]
    },
    {
     "name": "stderr",
     "output_type": "stream",
     "text": [
      "\n"
     ]
    },
    {
     "name": "stdout",
     "output_type": "stream",
     "text": [
      "\n",
      "      Epoch    GPU_mem   box_loss   cls_loss   dfl_loss  Instances       Size\n"
     ]
    },
    {
     "name": "stderr",
     "output_type": "stream",
     "text": [
      "    153/200      6.75G     0.7167     0.4534      1.075         19        640: 100%|██████████| 197/197 [00:36<00:00,  5.37it/s]\n",
      "                 Class     Images  Instances      Box(P          R      mAP50  mAP50-95): 100%|██████████| 12/12 [00:01<00:00,  6.19it/s]"
     ]
    },
    {
     "name": "stdout",
     "output_type": "stream",
     "text": [
      "                   all        370        522       0.98      0.965      0.988       0.79\n"
     ]
    },
    {
     "name": "stderr",
     "output_type": "stream",
     "text": [
      "\n"
     ]
    },
    {
     "name": "stdout",
     "output_type": "stream",
     "text": [
      "\n",
      "      Epoch    GPU_mem   box_loss   cls_loss   dfl_loss  Instances       Size\n"
     ]
    },
    {
     "name": "stderr",
     "output_type": "stream",
     "text": [
      "    154/200       6.7G     0.7021     0.4494      1.071         19        640: 100%|██████████| 197/197 [00:36<00:00,  5.37it/s]\n",
      "                 Class     Images  Instances      Box(P          R      mAP50  mAP50-95): 100%|██████████| 12/12 [00:01<00:00,  6.09it/s]"
     ]
    },
    {
     "name": "stdout",
     "output_type": "stream",
     "text": [
      "                   all        370        522      0.983      0.963      0.988      0.786\n"
     ]
    },
    {
     "name": "stderr",
     "output_type": "stream",
     "text": [
      "\n"
     ]
    },
    {
     "name": "stdout",
     "output_type": "stream",
     "text": [
      "\n",
      "      Epoch    GPU_mem   box_loss   cls_loss   dfl_loss  Instances       Size\n"
     ]
    },
    {
     "name": "stderr",
     "output_type": "stream",
     "text": [
      "    155/200      6.81G     0.7165     0.4464      1.077         15        640: 100%|██████████| 197/197 [00:36<00:00,  5.36it/s]\n",
      "                 Class     Images  Instances      Box(P          R      mAP50  mAP50-95): 100%|██████████| 12/12 [00:01<00:00,  6.24it/s]"
     ]
    },
    {
     "name": "stdout",
     "output_type": "stream",
     "text": [
      "                   all        370        522      0.975      0.974      0.988      0.788\n"
     ]
    },
    {
     "name": "stderr",
     "output_type": "stream",
     "text": [
      "\n"
     ]
    },
    {
     "name": "stdout",
     "output_type": "stream",
     "text": [
      "\n",
      "      Epoch    GPU_mem   box_loss   cls_loss   dfl_loss  Instances       Size\n"
     ]
    },
    {
     "name": "stderr",
     "output_type": "stream",
     "text": [
      "    156/200      6.78G     0.7066       0.44      1.072         17        640: 100%|██████████| 197/197 [00:36<00:00,  5.36it/s]\n",
      "                 Class     Images  Instances      Box(P          R      mAP50  mAP50-95): 100%|██████████| 12/12 [00:01<00:00,  6.16it/s]"
     ]
    },
    {
     "name": "stdout",
     "output_type": "stream",
     "text": [
      "                   all        370        522      0.986      0.953      0.988      0.787\n"
     ]
    },
    {
     "name": "stderr",
     "output_type": "stream",
     "text": [
      "\n"
     ]
    },
    {
     "name": "stdout",
     "output_type": "stream",
     "text": [
      "\n",
      "      Epoch    GPU_mem   box_loss   cls_loss   dfl_loss  Instances       Size\n"
     ]
    },
    {
     "name": "stderr",
     "output_type": "stream",
     "text": [
      "    157/200      6.75G     0.7085     0.4465      1.071         22        640: 100%|██████████| 197/197 [00:36<00:00,  5.38it/s]\n",
      "                 Class     Images  Instances      Box(P          R      mAP50  mAP50-95): 100%|██████████| 12/12 [00:01<00:00,  6.12it/s]"
     ]
    },
    {
     "name": "stdout",
     "output_type": "stream",
     "text": [
      "                   all        370        522      0.981      0.955      0.988      0.792\n"
     ]
    },
    {
     "name": "stderr",
     "output_type": "stream",
     "text": [
      "\n"
     ]
    },
    {
     "name": "stdout",
     "output_type": "stream",
     "text": [
      "\n",
      "      Epoch    GPU_mem   box_loss   cls_loss   dfl_loss  Instances       Size\n"
     ]
    },
    {
     "name": "stderr",
     "output_type": "stream",
     "text": [
      "    158/200      6.71G     0.7068     0.4544      1.071         19        640: 100%|██████████| 197/197 [00:36<00:00,  5.36it/s]\n",
      "                 Class     Images  Instances      Box(P          R      mAP50  mAP50-95): 100%|██████████| 12/12 [00:01<00:00,  6.12it/s]"
     ]
    },
    {
     "name": "stdout",
     "output_type": "stream",
     "text": [
      "                   all        370        522      0.986      0.952      0.988      0.797\n"
     ]
    },
    {
     "name": "stderr",
     "output_type": "stream",
     "text": [
      "\n"
     ]
    },
    {
     "name": "stdout",
     "output_type": "stream",
     "text": [
      "\n",
      "      Epoch    GPU_mem   box_loss   cls_loss   dfl_loss  Instances       Size\n"
     ]
    },
    {
     "name": "stderr",
     "output_type": "stream",
     "text": [
      "    159/200      6.81G     0.7036     0.4338      1.072         20        640: 100%|██████████| 197/197 [00:36<00:00,  5.38it/s]\n",
      "                 Class     Images  Instances      Box(P          R      mAP50  mAP50-95): 100%|██████████| 12/12 [00:01<00:00,  6.17it/s]"
     ]
    },
    {
     "name": "stdout",
     "output_type": "stream",
     "text": [
      "                   all        370        522      0.988      0.946      0.986      0.795\n"
     ]
    },
    {
     "name": "stderr",
     "output_type": "stream",
     "text": [
      "\n"
     ]
    },
    {
     "name": "stdout",
     "output_type": "stream",
     "text": [
      "\n",
      "      Epoch    GPU_mem   box_loss   cls_loss   dfl_loss  Instances       Size\n"
     ]
    },
    {
     "name": "stderr",
     "output_type": "stream",
     "text": [
      "    160/200      6.78G     0.6994      0.447      1.071         17        640: 100%|██████████| 197/197 [00:36<00:00,  5.38it/s]\n",
      "                 Class     Images  Instances      Box(P          R      mAP50  mAP50-95): 100%|██████████| 12/12 [00:01<00:00,  6.24it/s]"
     ]
    },
    {
     "name": "stdout",
     "output_type": "stream",
     "text": [
      "                   all        370        522      0.974      0.961      0.987       0.79\n"
     ]
    },
    {
     "name": "stderr",
     "output_type": "stream",
     "text": [
      "\n"
     ]
    },
    {
     "name": "stdout",
     "output_type": "stream",
     "text": [
      "\n",
      "      Epoch    GPU_mem   box_loss   cls_loss   dfl_loss  Instances       Size\n"
     ]
    },
    {
     "name": "stderr",
     "output_type": "stream",
     "text": [
      "    161/200      6.76G     0.7009     0.4337      1.067         28        640: 100%|██████████| 197/197 [00:36<00:00,  5.35it/s]\n",
      "                 Class     Images  Instances      Box(P          R      mAP50  mAP50-95): 100%|██████████| 12/12 [00:01<00:00,  6.18it/s]"
     ]
    },
    {
     "name": "stdout",
     "output_type": "stream",
     "text": [
      "                   all        370        522       0.98      0.959      0.986      0.797\n"
     ]
    },
    {
     "name": "stderr",
     "output_type": "stream",
     "text": [
      "\n"
     ]
    },
    {
     "name": "stdout",
     "output_type": "stream",
     "text": [
      "\n",
      "      Epoch    GPU_mem   box_loss   cls_loss   dfl_loss  Instances       Size\n"
     ]
    },
    {
     "name": "stderr",
     "output_type": "stream",
     "text": [
      "    162/200      6.71G     0.6914     0.4402      1.058         16        640: 100%|██████████| 197/197 [00:36<00:00,  5.38it/s]\n",
      "                 Class     Images  Instances      Box(P          R      mAP50  mAP50-95): 100%|██████████| 12/12 [00:01<00:00,  6.11it/s]"
     ]
    },
    {
     "name": "stdout",
     "output_type": "stream",
     "text": [
      "                   all        370        522      0.974      0.966      0.986        0.8\n"
     ]
    },
    {
     "name": "stderr",
     "output_type": "stream",
     "text": [
      "\n"
     ]
    },
    {
     "name": "stdout",
     "output_type": "stream",
     "text": [
      "\n",
      "      Epoch    GPU_mem   box_loss   cls_loss   dfl_loss  Instances       Size\n"
     ]
    },
    {
     "name": "stderr",
     "output_type": "stream",
     "text": [
      "    163/200      6.81G     0.6723      0.429       1.05         10        640: 100%|██████████| 197/197 [00:36<00:00,  5.39it/s]\n",
      "                 Class     Images  Instances      Box(P          R      mAP50  mAP50-95): 100%|██████████| 12/12 [00:01<00:00,  6.14it/s]"
     ]
    },
    {
     "name": "stdout",
     "output_type": "stream",
     "text": [
      "                   all        370        522      0.964      0.978      0.988      0.803\n"
     ]
    },
    {
     "name": "stderr",
     "output_type": "stream",
     "text": [
      "\n"
     ]
    },
    {
     "name": "stdout",
     "output_type": "stream",
     "text": [
      "\n",
      "      Epoch    GPU_mem   box_loss   cls_loss   dfl_loss  Instances       Size\n"
     ]
    },
    {
     "name": "stderr",
     "output_type": "stream",
     "text": [
      "    164/200      6.78G     0.6896     0.4344      1.057         16        640: 100%|██████████| 197/197 [00:36<00:00,  5.36it/s]\n",
      "                 Class     Images  Instances      Box(P          R      mAP50  mAP50-95): 100%|██████████| 12/12 [00:01<00:00,  6.09it/s]"
     ]
    },
    {
     "name": "stdout",
     "output_type": "stream",
     "text": [
      "                   all        370        522      0.972      0.975      0.988      0.806\n"
     ]
    },
    {
     "name": "stderr",
     "output_type": "stream",
     "text": [
      "\n"
     ]
    },
    {
     "name": "stdout",
     "output_type": "stream",
     "text": [
      "\n",
      "      Epoch    GPU_mem   box_loss   cls_loss   dfl_loss  Instances       Size\n"
     ]
    },
    {
     "name": "stderr",
     "output_type": "stream",
     "text": [
      "    165/200      6.75G     0.6816     0.4283      1.054         19        640: 100%|██████████| 197/197 [00:36<00:00,  5.38it/s]\n",
      "                 Class     Images  Instances      Box(P          R      mAP50  mAP50-95): 100%|██████████| 12/12 [00:01<00:00,  6.19it/s]"
     ]
    },
    {
     "name": "stdout",
     "output_type": "stream",
     "text": [
      "                   all        370        522       0.98      0.963      0.988      0.812\n"
     ]
    },
    {
     "name": "stderr",
     "output_type": "stream",
     "text": [
      "\n"
     ]
    },
    {
     "name": "stdout",
     "output_type": "stream",
     "text": [
      "\n",
      "      Epoch    GPU_mem   box_loss   cls_loss   dfl_loss  Instances       Size\n"
     ]
    },
    {
     "name": "stderr",
     "output_type": "stream",
     "text": [
      "    166/200       6.7G     0.6742     0.4322      1.054         11        640: 100%|██████████| 197/197 [00:36<00:00,  5.38it/s]\n",
      "                 Class     Images  Instances      Box(P          R      mAP50  mAP50-95): 100%|██████████| 12/12 [00:01<00:00,  6.13it/s]"
     ]
    },
    {
     "name": "stdout",
     "output_type": "stream",
     "text": [
      "                   all        370        522      0.986      0.972      0.988      0.806\n"
     ]
    },
    {
     "name": "stderr",
     "output_type": "stream",
     "text": [
      "\n"
     ]
    },
    {
     "name": "stdout",
     "output_type": "stream",
     "text": [
      "\n",
      "      Epoch    GPU_mem   box_loss   cls_loss   dfl_loss  Instances       Size\n"
     ]
    },
    {
     "name": "stderr",
     "output_type": "stream",
     "text": [
      "    167/200       6.8G     0.6752     0.4222      1.051         14        640: 100%|██████████| 197/197 [00:36<00:00,  5.38it/s]\n",
      "                 Class     Images  Instances      Box(P          R      mAP50  mAP50-95): 100%|██████████| 12/12 [00:01<00:00,  6.21it/s]"
     ]
    },
    {
     "name": "stdout",
     "output_type": "stream",
     "text": [
      "                   all        370        522      0.981      0.977      0.988        0.8\n"
     ]
    },
    {
     "name": "stderr",
     "output_type": "stream",
     "text": [
      "\n"
     ]
    },
    {
     "name": "stdout",
     "output_type": "stream",
     "text": [
      "\n",
      "      Epoch    GPU_mem   box_loss   cls_loss   dfl_loss  Instances       Size\n"
     ]
    },
    {
     "name": "stderr",
     "output_type": "stream",
     "text": [
      "    168/200      6.78G     0.6686     0.4197      1.046         16        640: 100%|██████████| 197/197 [00:36<00:00,  5.37it/s]\n",
      "                 Class     Images  Instances      Box(P          R      mAP50  mAP50-95): 100%|██████████| 12/12 [00:01<00:00,  6.14it/s]"
     ]
    },
    {
     "name": "stdout",
     "output_type": "stream",
     "text": [
      "                   all        370        522      0.981      0.978      0.988      0.799\n"
     ]
    },
    {
     "name": "stderr",
     "output_type": "stream",
     "text": [
      "\n"
     ]
    },
    {
     "name": "stdout",
     "output_type": "stream",
     "text": [
      "\n",
      "      Epoch    GPU_mem   box_loss   cls_loss   dfl_loss  Instances       Size\n"
     ]
    },
    {
     "name": "stderr",
     "output_type": "stream",
     "text": [
      "    169/200      6.75G     0.6799     0.4286      1.054         21        640: 100%|██████████| 197/197 [00:36<00:00,  5.35it/s]\n",
      "                 Class     Images  Instances      Box(P          R      mAP50  mAP50-95): 100%|██████████| 12/12 [00:01<00:00,  6.26it/s]"
     ]
    },
    {
     "name": "stdout",
     "output_type": "stream",
     "text": [
      "                   all        370        522      0.978      0.982      0.988      0.805\n"
     ]
    },
    {
     "name": "stderr",
     "output_type": "stream",
     "text": [
      "\n"
     ]
    },
    {
     "name": "stdout",
     "output_type": "stream",
     "text": [
      "\n",
      "      Epoch    GPU_mem   box_loss   cls_loss   dfl_loss  Instances       Size\n"
     ]
    },
    {
     "name": "stderr",
     "output_type": "stream",
     "text": [
      "    170/200       6.7G      0.666     0.4188      1.042         20        640: 100%|██████████| 197/197 [00:36<00:00,  5.35it/s]\n",
      "                 Class     Images  Instances      Box(P          R      mAP50  mAP50-95): 100%|██████████| 12/12 [00:01<00:00,  6.03it/s]"
     ]
    },
    {
     "name": "stdout",
     "output_type": "stream",
     "text": [
      "                   all        370        522      0.973      0.984      0.988      0.803\n"
     ]
    },
    {
     "name": "stderr",
     "output_type": "stream",
     "text": [
      "\n"
     ]
    },
    {
     "name": "stdout",
     "output_type": "stream",
     "text": [
      "\n",
      "      Epoch    GPU_mem   box_loss   cls_loss   dfl_loss  Instances       Size\n"
     ]
    },
    {
     "name": "stderr",
     "output_type": "stream",
     "text": [
      "    171/200      6.81G     0.6684     0.4279      1.052         14        640: 100%|██████████| 197/197 [00:36<00:00,  5.36it/s]\n",
      "                 Class     Images  Instances      Box(P          R      mAP50  mAP50-95): 100%|██████████| 12/12 [00:01<00:00,  6.28it/s]"
     ]
    },
    {
     "name": "stdout",
     "output_type": "stream",
     "text": [
      "                   all        370        522      0.978      0.986      0.988      0.807\n"
     ]
    },
    {
     "name": "stderr",
     "output_type": "stream",
     "text": [
      "\n"
     ]
    },
    {
     "name": "stdout",
     "output_type": "stream",
     "text": [
      "\n",
      "      Epoch    GPU_mem   box_loss   cls_loss   dfl_loss  Instances       Size\n"
     ]
    },
    {
     "name": "stderr",
     "output_type": "stream",
     "text": [
      "    172/200      6.78G      0.661      0.415      1.048         23        640: 100%|██████████| 197/197 [00:36<00:00,  5.37it/s]\n",
      "                 Class     Images  Instances      Box(P          R      mAP50  mAP50-95): 100%|██████████| 12/12 [00:01<00:00,  6.06it/s]"
     ]
    },
    {
     "name": "stdout",
     "output_type": "stream",
     "text": [
      "                   all        370        522      0.971      0.987      0.989       0.81\n"
     ]
    },
    {
     "name": "stderr",
     "output_type": "stream",
     "text": [
      "\n"
     ]
    },
    {
     "name": "stdout",
     "output_type": "stream",
     "text": [
      "\n",
      "      Epoch    GPU_mem   box_loss   cls_loss   dfl_loss  Instances       Size\n"
     ]
    },
    {
     "name": "stderr",
     "output_type": "stream",
     "text": [
      "    173/200      6.77G     0.6592     0.4159      1.042         20        640: 100%|██████████| 197/197 [00:36<00:00,  5.36it/s]\n",
      "                 Class     Images  Instances      Box(P          R      mAP50  mAP50-95): 100%|██████████| 12/12 [00:01<00:00,  6.06it/s]"
     ]
    },
    {
     "name": "stdout",
     "output_type": "stream",
     "text": [
      "                   all        370        522      0.977      0.984      0.988      0.811\n"
     ]
    },
    {
     "name": "stderr",
     "output_type": "stream",
     "text": [
      "\n"
     ]
    },
    {
     "name": "stdout",
     "output_type": "stream",
     "text": [
      "\n",
      "      Epoch    GPU_mem   box_loss   cls_loss   dfl_loss  Instances       Size\n"
     ]
    },
    {
     "name": "stderr",
     "output_type": "stream",
     "text": [
      "    174/200       6.7G     0.6571     0.4186       1.04         18        640: 100%|██████████| 197/197 [00:36<00:00,  5.38it/s]\n",
      "                 Class     Images  Instances      Box(P          R      mAP50  mAP50-95): 100%|██████████| 12/12 [00:01<00:00,  6.14it/s]"
     ]
    },
    {
     "name": "stdout",
     "output_type": "stream",
     "text": [
      "                   all        370        522      0.984      0.981      0.988      0.811\n"
     ]
    },
    {
     "name": "stderr",
     "output_type": "stream",
     "text": [
      "\n"
     ]
    },
    {
     "name": "stdout",
     "output_type": "stream",
     "text": [
      "\n",
      "      Epoch    GPU_mem   box_loss   cls_loss   dfl_loss  Instances       Size\n"
     ]
    },
    {
     "name": "stderr",
     "output_type": "stream",
     "text": [
      "    175/200      6.82G     0.6566     0.4109      1.039         21        640: 100%|██████████| 197/197 [00:36<00:00,  5.37it/s]\n",
      "                 Class     Images  Instances      Box(P          R      mAP50  mAP50-95): 100%|██████████| 12/12 [00:01<00:00,  6.16it/s]"
     ]
    },
    {
     "name": "stdout",
     "output_type": "stream",
     "text": [
      "                   all        370        522       0.98      0.984      0.988      0.813\n"
     ]
    },
    {
     "name": "stderr",
     "output_type": "stream",
     "text": [
      "\n"
     ]
    },
    {
     "name": "stdout",
     "output_type": "stream",
     "text": [
      "\n",
      "      Epoch    GPU_mem   box_loss   cls_loss   dfl_loss  Instances       Size\n"
     ]
    },
    {
     "name": "stderr",
     "output_type": "stream",
     "text": [
      "    176/200      6.78G      0.654     0.4204      1.035         22        640: 100%|██████████| 197/197 [00:36<00:00,  5.38it/s]\n",
      "                 Class     Images  Instances      Box(P          R      mAP50  mAP50-95): 100%|██████████| 12/12 [00:01<00:00,  6.25it/s]"
     ]
    },
    {
     "name": "stdout",
     "output_type": "stream",
     "text": [
      "                   all        370        522      0.977      0.985      0.988      0.811\n"
     ]
    },
    {
     "name": "stderr",
     "output_type": "stream",
     "text": [
      "\n"
     ]
    },
    {
     "name": "stdout",
     "output_type": "stream",
     "text": [
      "\n",
      "      Epoch    GPU_mem   box_loss   cls_loss   dfl_loss  Instances       Size\n"
     ]
    },
    {
     "name": "stderr",
     "output_type": "stream",
     "text": [
      "    177/200      6.75G     0.6562     0.4123      1.041         22        640: 100%|██████████| 197/197 [00:36<00:00,  5.38it/s]\n",
      "                 Class     Images  Instances      Box(P          R      mAP50  mAP50-95): 100%|██████████| 12/12 [00:01<00:00,  6.13it/s]"
     ]
    },
    {
     "name": "stdout",
     "output_type": "stream",
     "text": [
      "                   all        370        522      0.982      0.985      0.988      0.811\n"
     ]
    },
    {
     "name": "stderr",
     "output_type": "stream",
     "text": [
      "\n"
     ]
    },
    {
     "name": "stdout",
     "output_type": "stream",
     "text": [
      "\n",
      "      Epoch    GPU_mem   box_loss   cls_loss   dfl_loss  Instances       Size\n"
     ]
    },
    {
     "name": "stderr",
     "output_type": "stream",
     "text": [
      "    178/200       6.7G     0.6414     0.4061      1.034         26        640: 100%|██████████| 197/197 [00:36<00:00,  5.38it/s]\n",
      "                 Class     Images  Instances      Box(P          R      mAP50  mAP50-95): 100%|██████████| 12/12 [00:01<00:00,  6.09it/s]"
     ]
    },
    {
     "name": "stdout",
     "output_type": "stream",
     "text": [
      "                   all        370        522       0.98      0.986      0.988      0.809\n"
     ]
    },
    {
     "name": "stderr",
     "output_type": "stream",
     "text": [
      "\n"
     ]
    },
    {
     "name": "stdout",
     "output_type": "stream",
     "text": [
      "\n",
      "      Epoch    GPU_mem   box_loss   cls_loss   dfl_loss  Instances       Size\n"
     ]
    },
    {
     "name": "stderr",
     "output_type": "stream",
     "text": [
      "    179/200      6.81G     0.6461     0.4107      1.035         24        640: 100%|██████████| 197/197 [00:36<00:00,  5.37it/s]\n",
      "                 Class     Images  Instances      Box(P          R      mAP50  mAP50-95): 100%|██████████| 12/12 [00:01<00:00,  6.15it/s]"
     ]
    },
    {
     "name": "stdout",
     "output_type": "stream",
     "text": [
      "                   all        370        522       0.98      0.987      0.988      0.811\n"
     ]
    },
    {
     "name": "stderr",
     "output_type": "stream",
     "text": [
      "\n"
     ]
    },
    {
     "name": "stdout",
     "output_type": "stream",
     "text": [
      "\n",
      "      Epoch    GPU_mem   box_loss   cls_loss   dfl_loss  Instances       Size\n"
     ]
    },
    {
     "name": "stderr",
     "output_type": "stream",
     "text": [
      "    180/200      6.78G     0.6542     0.4168      1.038         19        640: 100%|██████████| 197/197 [00:36<00:00,  5.37it/s]\n",
      "                 Class     Images  Instances      Box(P          R      mAP50  mAP50-95): 100%|██████████| 12/12 [00:01<00:00,  6.13it/s]"
     ]
    },
    {
     "name": "stdout",
     "output_type": "stream",
     "text": [
      "                   all        370        522      0.976      0.987      0.988      0.813\n"
     ]
    },
    {
     "name": "stderr",
     "output_type": "stream",
     "text": [
      "\n"
     ]
    },
    {
     "name": "stdout",
     "output_type": "stream",
     "text": [
      "\n",
      "      Epoch    GPU_mem   box_loss   cls_loss   dfl_loss  Instances       Size\n"
     ]
    },
    {
     "name": "stderr",
     "output_type": "stream",
     "text": [
      "    181/200      6.78G     0.6494      0.412       1.04         22        640: 100%|██████████| 197/197 [00:36<00:00,  5.36it/s]\n",
      "                 Class     Images  Instances      Box(P          R      mAP50  mAP50-95): 100%|██████████| 12/12 [00:01<00:00,  6.23it/s]"
     ]
    },
    {
     "name": "stdout",
     "output_type": "stream",
     "text": [
      "                   all        370        522      0.973      0.986      0.988      0.813\n"
     ]
    },
    {
     "name": "stderr",
     "output_type": "stream",
     "text": [
      "\n"
     ]
    },
    {
     "name": "stdout",
     "output_type": "stream",
     "text": [
      "\n",
      "      Epoch    GPU_mem   box_loss   cls_loss   dfl_loss  Instances       Size\n"
     ]
    },
    {
     "name": "stderr",
     "output_type": "stream",
     "text": [
      "    182/200       6.7G     0.6499     0.4076      1.033         20        640: 100%|██████████| 197/197 [00:36<00:00,  5.38it/s]\n",
      "                 Class     Images  Instances      Box(P          R      mAP50  mAP50-95): 100%|██████████| 12/12 [00:01<00:00,  6.12it/s]"
     ]
    },
    {
     "name": "stdout",
     "output_type": "stream",
     "text": [
      "                   all        370        522      0.971      0.987      0.988      0.812\n"
     ]
    },
    {
     "name": "stderr",
     "output_type": "stream",
     "text": [
      "\n"
     ]
    },
    {
     "name": "stdout",
     "output_type": "stream",
     "text": [
      "\n",
      "      Epoch    GPU_mem   box_loss   cls_loss   dfl_loss  Instances       Size\n"
     ]
    },
    {
     "name": "stderr",
     "output_type": "stream",
     "text": [
      "    183/200      6.81G     0.6502     0.3963      1.035         24        640: 100%|██████████| 197/197 [00:36<00:00,  5.36it/s]\n",
      "                 Class     Images  Instances      Box(P          R      mAP50  mAP50-95): 100%|██████████| 12/12 [00:01<00:00,  6.17it/s]"
     ]
    },
    {
     "name": "stdout",
     "output_type": "stream",
     "text": [
      "                   all        370        522       0.97      0.987      0.988      0.811\n"
     ]
    },
    {
     "name": "stderr",
     "output_type": "stream",
     "text": [
      "\n"
     ]
    },
    {
     "name": "stdout",
     "output_type": "stream",
     "text": [
      "\n",
      "      Epoch    GPU_mem   box_loss   cls_loss   dfl_loss  Instances       Size\n"
     ]
    },
    {
     "name": "stderr",
     "output_type": "stream",
     "text": [
      "    184/200      6.78G     0.6331     0.3986      1.024         19        640: 100%|██████████| 197/197 [00:36<00:00,  5.38it/s]\n",
      "                 Class     Images  Instances      Box(P          R      mAP50  mAP50-95): 100%|██████████| 12/12 [00:01<00:00,  6.18it/s]"
     ]
    },
    {
     "name": "stdout",
     "output_type": "stream",
     "text": [
      "                   all        370        522       0.97      0.987      0.988       0.81\n"
     ]
    },
    {
     "name": "stderr",
     "output_type": "stream",
     "text": [
      "\n"
     ]
    },
    {
     "name": "stdout",
     "output_type": "stream",
     "text": [
      "\n",
      "      Epoch    GPU_mem   box_loss   cls_loss   dfl_loss  Instances       Size\n"
     ]
    },
    {
     "name": "stderr",
     "output_type": "stream",
     "text": [
      "    185/200      6.75G     0.6323     0.3977      1.027         18        640: 100%|██████████| 197/197 [00:36<00:00,  5.37it/s]\n",
      "                 Class     Images  Instances      Box(P          R      mAP50  mAP50-95): 100%|██████████| 12/12 [00:01<00:00,  6.22it/s]"
     ]
    },
    {
     "name": "stdout",
     "output_type": "stream",
     "text": [
      "                   all        370        522      0.976      0.985      0.988      0.809\n"
     ]
    },
    {
     "name": "stderr",
     "output_type": "stream",
     "text": [
      "\n"
     ]
    },
    {
     "name": "stdout",
     "output_type": "stream",
     "text": [
      "\n",
      "      Epoch    GPU_mem   box_loss   cls_loss   dfl_loss  Instances       Size\n"
     ]
    },
    {
     "name": "stderr",
     "output_type": "stream",
     "text": [
      "    186/200       6.7G     0.6374     0.3987      1.031         14        640: 100%|██████████| 197/197 [00:36<00:00,  5.37it/s]\n",
      "                 Class     Images  Instances      Box(P          R      mAP50  mAP50-95): 100%|██████████| 12/12 [00:01<00:00,  6.16it/s]"
     ]
    },
    {
     "name": "stdout",
     "output_type": "stream",
     "text": [
      "                   all        370        522      0.975      0.984      0.988      0.813\n"
     ]
    },
    {
     "name": "stderr",
     "output_type": "stream",
     "text": [
      "\n"
     ]
    },
    {
     "name": "stdout",
     "output_type": "stream",
     "text": [
      "\n",
      "      Epoch    GPU_mem   box_loss   cls_loss   dfl_loss  Instances       Size\n"
     ]
    },
    {
     "name": "stderr",
     "output_type": "stream",
     "text": [
      "    187/200      6.79G     0.6321     0.3951      1.025         15        640: 100%|██████████| 197/197 [00:36<00:00,  5.36it/s]\n",
      "                 Class     Images  Instances      Box(P          R      mAP50  mAP50-95): 100%|██████████| 12/12 [00:01<00:00,  6.22it/s]"
     ]
    },
    {
     "name": "stdout",
     "output_type": "stream",
     "text": [
      "                   all        370        522      0.968      0.987      0.988      0.811\n"
     ]
    },
    {
     "name": "stderr",
     "output_type": "stream",
     "text": [
      "\n"
     ]
    },
    {
     "name": "stdout",
     "output_type": "stream",
     "text": [
      "\n",
      "      Epoch    GPU_mem   box_loss   cls_loss   dfl_loss  Instances       Size\n"
     ]
    },
    {
     "name": "stderr",
     "output_type": "stream",
     "text": [
      "    188/200      6.81G     0.6367     0.4043      1.025         29        640: 100%|██████████| 197/197 [00:36<00:00,  5.38it/s]\n",
      "                 Class     Images  Instances      Box(P          R      mAP50  mAP50-95): 100%|██████████| 12/12 [00:01<00:00,  6.13it/s]"
     ]
    },
    {
     "name": "stdout",
     "output_type": "stream",
     "text": [
      "                   all        370        522      0.986      0.967      0.988      0.809\n"
     ]
    },
    {
     "name": "stderr",
     "output_type": "stream",
     "text": [
      "\n"
     ]
    },
    {
     "name": "stdout",
     "output_type": "stream",
     "text": [
      "\n",
      "      Epoch    GPU_mem   box_loss   cls_loss   dfl_loss  Instances       Size\n"
     ]
    },
    {
     "name": "stderr",
     "output_type": "stream",
     "text": [
      "    189/200      6.76G     0.6372     0.4024       1.03         15        640: 100%|██████████| 197/197 [00:36<00:00,  5.36it/s]\n",
      "                 Class     Images  Instances      Box(P          R      mAP50  mAP50-95): 100%|██████████| 12/12 [00:01<00:00,  6.08it/s]"
     ]
    },
    {
     "name": "stdout",
     "output_type": "stream",
     "text": [
      "                   all        370        522      0.983      0.968      0.988      0.809\n"
     ]
    },
    {
     "name": "stderr",
     "output_type": "stream",
     "text": [
      "\n"
     ]
    },
    {
     "name": "stdout",
     "output_type": "stream",
     "text": [
      "\n",
      "      Epoch    GPU_mem   box_loss   cls_loss   dfl_loss  Instances       Size\n"
     ]
    },
    {
     "name": "stderr",
     "output_type": "stream",
     "text": [
      "    190/200       6.7G     0.6273     0.3919      1.025         17        640: 100%|██████████| 197/197 [00:36<00:00,  5.36it/s]\n",
      "                 Class     Images  Instances      Box(P          R      mAP50  mAP50-95): 100%|██████████| 12/12 [00:01<00:00,  6.17it/s]"
     ]
    },
    {
     "name": "stdout",
     "output_type": "stream",
     "text": [
      "                   all        370        522      0.979      0.974      0.988      0.812\n"
     ]
    },
    {
     "name": "stderr",
     "output_type": "stream",
     "text": [
      "\n"
     ]
    },
    {
     "name": "stdout",
     "output_type": "stream",
     "text": [
      "Closing dataloader mosaic\n",
      "\n",
      "      Epoch    GPU_mem   box_loss   cls_loss   dfl_loss  Instances       Size\n"
     ]
    },
    {
     "name": "stderr",
     "output_type": "stream",
     "text": [
      "    191/200       6.8G     0.6106      0.352      1.016         15        640: 100%|██████████| 197/197 [00:37<00:00,  5.32it/s]\n",
      "                 Class     Images  Instances      Box(P          R      mAP50  mAP50-95): 100%|██████████| 12/12 [00:01<00:00,  6.11it/s]"
     ]
    },
    {
     "name": "stdout",
     "output_type": "stream",
     "text": [
      "                   all        370        522      0.981      0.984      0.988      0.813\n"
     ]
    },
    {
     "name": "stderr",
     "output_type": "stream",
     "text": [
      "\n"
     ]
    },
    {
     "name": "stdout",
     "output_type": "stream",
     "text": [
      "\n",
      "      Epoch    GPU_mem   box_loss   cls_loss   dfl_loss  Instances       Size\n"
     ]
    },
    {
     "name": "stderr",
     "output_type": "stream",
     "text": [
      "    192/200      6.79G     0.5913     0.3355      1.005         14        640: 100%|██████████| 197/197 [00:36<00:00,  5.37it/s]\n",
      "                 Class     Images  Instances      Box(P          R      mAP50  mAP50-95): 100%|██████████| 12/12 [00:01<00:00,  6.26it/s]"
     ]
    },
    {
     "name": "stdout",
     "output_type": "stream",
     "text": [
      "                   all        370        522      0.978      0.983      0.988       0.81\n"
     ]
    },
    {
     "name": "stderr",
     "output_type": "stream",
     "text": [
      "\n"
     ]
    },
    {
     "name": "stdout",
     "output_type": "stream",
     "text": [
      "\n",
      "      Epoch    GPU_mem   box_loss   cls_loss   dfl_loss  Instances       Size\n"
     ]
    },
    {
     "name": "stderr",
     "output_type": "stream",
     "text": [
      "    193/200      6.78G     0.5787     0.3293          1         11        640: 100%|██████████| 197/197 [00:36<00:00,  5.35it/s]\n",
      "                 Class     Images  Instances      Box(P          R      mAP50  mAP50-95): 100%|██████████| 12/12 [00:01<00:00,  6.29it/s]"
     ]
    },
    {
     "name": "stdout",
     "output_type": "stream",
     "text": [
      "                   all        370        522      0.979      0.984      0.988       0.81\n"
     ]
    },
    {
     "name": "stderr",
     "output_type": "stream",
     "text": [
      "\n"
     ]
    },
    {
     "name": "stdout",
     "output_type": "stream",
     "text": [
      "\n",
      "      Epoch    GPU_mem   box_loss   cls_loss   dfl_loss  Instances       Size\n"
     ]
    },
    {
     "name": "stderr",
     "output_type": "stream",
     "text": [
      "    194/200       6.7G     0.5742     0.3253      1.001         10        640: 100%|██████████| 197/197 [00:36<00:00,  5.38it/s]\n",
      "                 Class     Images  Instances      Box(P          R      mAP50  mAP50-95): 100%|██████████| 12/12 [00:01<00:00,  6.12it/s]"
     ]
    },
    {
     "name": "stdout",
     "output_type": "stream",
     "text": [
      "                   all        370        522      0.979      0.984      0.988      0.812\n"
     ]
    },
    {
     "name": "stderr",
     "output_type": "stream",
     "text": [
      "\n"
     ]
    },
    {
     "name": "stdout",
     "output_type": "stream",
     "text": [
      "\n",
      "      Epoch    GPU_mem   box_loss   cls_loss   dfl_loss  Instances       Size\n"
     ]
    },
    {
     "name": "stderr",
     "output_type": "stream",
     "text": [
      "    195/200       6.8G     0.5675     0.3261     0.9945         14        640: 100%|██████████| 197/197 [00:36<00:00,  5.38it/s]\n",
      "                 Class     Images  Instances      Box(P          R      mAP50  mAP50-95): 100%|██████████| 12/12 [00:01<00:00,  6.05it/s]"
     ]
    },
    {
     "name": "stdout",
     "output_type": "stream",
     "text": [
      "                   all        370        522      0.978      0.984      0.988       0.81\n"
     ]
    },
    {
     "name": "stderr",
     "output_type": "stream",
     "text": [
      "\n"
     ]
    },
    {
     "name": "stdout",
     "output_type": "stream",
     "text": [
      "\n",
      "      Epoch    GPU_mem   box_loss   cls_loss   dfl_loss  Instances       Size\n"
     ]
    },
    {
     "name": "stderr",
     "output_type": "stream",
     "text": [
      "    196/200      6.78G     0.5603     0.3216     0.9891         11        640: 100%|██████████| 197/197 [00:36<00:00,  5.39it/s]\n",
      "                 Class     Images  Instances      Box(P          R      mAP50  mAP50-95): 100%|██████████| 12/12 [00:01<00:00,  6.25it/s]"
     ]
    },
    {
     "name": "stdout",
     "output_type": "stream",
     "text": [
      "                   all        370        522      0.978      0.985      0.988       0.81\n"
     ]
    },
    {
     "name": "stderr",
     "output_type": "stream",
     "text": [
      "\n"
     ]
    },
    {
     "name": "stdout",
     "output_type": "stream",
     "text": [
      "\n",
      "      Epoch    GPU_mem   box_loss   cls_loss   dfl_loss  Instances       Size\n"
     ]
    },
    {
     "name": "stderr",
     "output_type": "stream",
     "text": [
      "    197/200      6.76G     0.5554     0.3174     0.9866         12        640: 100%|██████████| 197/197 [00:36<00:00,  5.38it/s]\n",
      "                 Class     Images  Instances      Box(P          R      mAP50  mAP50-95): 100%|██████████| 12/12 [00:01<00:00,  6.05it/s]"
     ]
    },
    {
     "name": "stdout",
     "output_type": "stream",
     "text": [
      "                   all        370        522      0.978      0.986      0.988       0.81\n"
     ]
    },
    {
     "name": "stderr",
     "output_type": "stream",
     "text": [
      "\n"
     ]
    },
    {
     "name": "stdout",
     "output_type": "stream",
     "text": [
      "\n",
      "      Epoch    GPU_mem   box_loss   cls_loss   dfl_loss  Instances       Size\n"
     ]
    },
    {
     "name": "stderr",
     "output_type": "stream",
     "text": [
      "    198/200      6.71G     0.5527     0.3184     0.9832         10        640: 100%|██████████| 197/197 [00:36<00:00,  5.38it/s]\n",
      "                 Class     Images  Instances      Box(P          R      mAP50  mAP50-95): 100%|██████████| 12/12 [00:01<00:00,  6.12it/s]"
     ]
    },
    {
     "name": "stdout",
     "output_type": "stream",
     "text": [
      "                   all        370        522       0.98      0.986      0.988      0.811\n"
     ]
    },
    {
     "name": "stderr",
     "output_type": "stream",
     "text": [
      "\n"
     ]
    },
    {
     "name": "stdout",
     "output_type": "stream",
     "text": [
      "\n",
      "      Epoch    GPU_mem   box_loss   cls_loss   dfl_loss  Instances       Size\n"
     ]
    },
    {
     "name": "stderr",
     "output_type": "stream",
     "text": [
      "    199/200      6.81G     0.5514      0.314     0.9853         10        640: 100%|██████████| 197/197 [00:36<00:00,  5.37it/s]\n",
      "                 Class     Images  Instances      Box(P          R      mAP50  mAP50-95): 100%|██████████| 12/12 [00:01<00:00,  6.26it/s]"
     ]
    },
    {
     "name": "stdout",
     "output_type": "stream",
     "text": [
      "                   all        370        522      0.982      0.985      0.988      0.812\n"
     ]
    },
    {
     "name": "stderr",
     "output_type": "stream",
     "text": [
      "\n"
     ]
    },
    {
     "name": "stdout",
     "output_type": "stream",
     "text": [
      "\n",
      "      Epoch    GPU_mem   box_loss   cls_loss   dfl_loss  Instances       Size\n"
     ]
    },
    {
     "name": "stderr",
     "output_type": "stream",
     "text": [
      "    200/200      6.78G      0.553     0.3157     0.9852         10        640: 100%|██████████| 197/197 [00:36<00:00,  5.38it/s]\n",
      "                 Class     Images  Instances      Box(P          R      mAP50  mAP50-95): 100%|██████████| 12/12 [00:01<00:00,  6.14it/s]"
     ]
    },
    {
     "name": "stdout",
     "output_type": "stream",
     "text": [
      "                   all        370        522       0.98      0.986      0.989      0.815\n"
     ]
    },
    {
     "name": "stderr",
     "output_type": "stream",
     "text": [
      "\n"
     ]
    },
    {
     "name": "stdout",
     "output_type": "stream",
     "text": [
      "\n",
      "200 epochs completed in 2.420 hours.\n",
      "Optimizer stripped from Uni-Wood/Mixed_YOLO_d1+sf1_test_12/weights/last.pt, 52.1MB\n",
      "Optimizer stripped from Uni-Wood/Mixed_YOLO_d1+sf1_test_12/weights/best.pt, 52.1MB\n",
      "\n",
      "Validating Uni-Wood/Mixed_YOLO_d1+sf1_test_12/weights/best.pt...\n",
      "Ultralytics YOLOv8.2.41 🚀 Python-3.12.2 torch-2.3.1+cu121 CUDA:0 (NVIDIA RTX A5000, 24241MiB)\n",
      "YOLOv8m summary (fused): 218 layers, 25840918 parameters, 0 gradients, 78.7 GFLOPs\n"
     ]
    },
    {
     "name": "stderr",
     "output_type": "stream",
     "text": [
      "                 Class     Images  Instances      Box(P          R      mAP50  mAP50-95): 100%|██████████| 12/12 [00:02<00:00,  5.54it/s]\n"
     ]
    },
    {
     "name": "stdout",
     "output_type": "stream",
     "text": [
      "                   all        370        522      0.982      0.986      0.989      0.814\n",
      "            wood_dowel         44         51          1      0.999      0.995      0.825\n",
      "             wood_knot        332        471      0.964      0.972      0.982      0.803\n",
      "Speed: 0.1ms preprocess, 2.9ms inference, 0.0ms loss, 0.9ms postprocess per image\n",
      "Results saved to \u001b[1mUni-Wood/Mixed_YOLO_d1+sf1_test_12\u001b[0m\n"
     ]
    }
   ],
   "source": [
    "from ultralytics import YOLO\n",
    "\n",
    "model = YOLO(model)\n",
    "\n",
    "results = model.train(project=project, name=name, exist_ok=exist_ok, data=data, imgsz=imgsz, task=task, device=device, epochs=epochs, batch=batch, lr0=lr0, cos_lr=cos_lr, weight_decay=weight_decay, dropout=dropout, optimizer=optimizer, momentum=momentum, seed=seed, plots=plots)\n",
    "\n",
    "cl_task.close()"
   ]
  },
  {
   "cell_type": "markdown",
   "metadata": {},
   "source": [
    "# 3 testing"
   ]
  },
  {
   "cell_type": "markdown",
   "metadata": {},
   "source": [
    "## 3.1 path"
   ]
  },
  {
   "cell_type": "code",
   "execution_count": 5,
   "metadata": {},
   "outputs": [],
   "source": [
    "from ultralytics import YOLO\n",
    "import cv2\n",
    "import os\n",
    "\n",
    "model_path = \"/Users/holmes/Documents/UNI-Bamberg/4.Semester_MA/Masterthesis/xAI_Masterthesis_Pan/Code/Detection/YOLO/202407_Mixed_tests/Uni-Wood/Mixed_YOLO_d1+sf1_test_1/weights/best.pt\"\n",
    "\n",
    "image_folder = \"/Users/holmes/Documents/UNI-Bamberg/Arbeiten/Datensatz/Selfmade/4_Maria_0710/2024_07_09_10_43_56\"\n",
    "\n",
    "save_path = \"/Users/holmes/Documents/UNI-Bamberg/Arbeiten/Datensatz/Selfmade/4_Maria_0710/2024_07_09_10_43_56/test\"\n",
    "\n"
   ]
  },
  {
   "cell_type": "markdown",
   "metadata": {},
   "source": [
    "## 3.2 resize"
   ]
  },
  {
   "cell_type": "code",
   "execution_count": null,
   "metadata": {},
   "outputs": [],
   "source": [
    "# Resize images\n",
    "resized_image_folder = os.path.join(image_folder, \"resized\")\n",
    "os.makedirs(resized_image_folder, exist_ok=True)\n",
    "\n",
    "for file in os.listdir(image_folder):\n",
    "    if file.endswith(('.jpg', '.JPG', '.jpeg', '.png', '.bmp')):\n",
    "        img_path = os.path.join(image_folder, file)\n",
    "        img = cv2.imread(img_path)\n",
    "        img_resized = cv2.resize(img, (640, 640))\n",
    "        resized_img_path = os.path.join(resized_image_folder, os.path.splitext(file)[0] + \"_resize\" + os.path.splitext(file)[1])\n",
    "        cv2.imwrite(resized_img_path, img_resized)\n",
    "image_folder = resized_image_folder\n"
   ]
  },
  {
   "cell_type": "markdown",
   "metadata": {},
   "source": []
  },
  {
   "cell_type": "markdown",
   "metadata": {},
   "source": [
    "## 3.3 test"
   ]
  },
  {
   "cell_type": "markdown",
   "metadata": {},
   "source": []
  },
  {
   "cell_type": "code",
   "execution_count": 6,
   "metadata": {},
   "outputs": [
    {
     "name": "stdout",
     "output_type": "stream",
     "text": [
      "\n",
      "image 1/1 /Users/holmes/Documents/UNI-Bamberg/Arbeiten/Datensatz/Selfmade/4_Maria_0710/2024_07_09_10_43_56/IMG_0170.jpeg: 640x480 1 wood_dowel, 308.5ms\n",
      "Speed: 2.7ms preprocess, 308.5ms inference, 0.4ms postprocess per image at shape (1, 3, 640, 480)\n",
      "Image saved: /Users/holmes/Documents/UNI-Bamberg/Arbeiten/Datensatz/Selfmade/4_Maria_0710/2024_07_09_10_43_56/test/IMG_0170.jpeg\n",
      "\n",
      "image 1/1 /Users/holmes/Documents/UNI-Bamberg/Arbeiten/Datensatz/Selfmade/4_Maria_0710/2024_07_09_10_43_56/IMG_0035.jpeg: 640x480 1 wood_knot, 351.6ms\n",
      "Speed: 2.3ms preprocess, 351.6ms inference, 0.5ms postprocess per image at shape (1, 3, 640, 480)\n",
      "Image saved: /Users/holmes/Documents/UNI-Bamberg/Arbeiten/Datensatz/Selfmade/4_Maria_0710/2024_07_09_10_43_56/test/IMG_0035.jpeg\n",
      "\n",
      "image 1/1 /Users/holmes/Documents/UNI-Bamberg/Arbeiten/Datensatz/Selfmade/4_Maria_0710/2024_07_09_10_43_56/thumb_00000.jpg: 640x512 (no detections), 331.7ms\n",
      "Speed: 2.5ms preprocess, 331.7ms inference, 0.2ms postprocess per image at shape (1, 3, 640, 512)\n",
      "Image saved: /Users/holmes/Documents/UNI-Bamberg/Arbeiten/Datensatz/Selfmade/4_Maria_0710/2024_07_09_10_43_56/test/thumb_00000.jpg\n",
      "\n",
      "image 1/1 /Users/holmes/Documents/UNI-Bamberg/Arbeiten/Datensatz/Selfmade/4_Maria_0710/2024_07_09_10_43_56/IMG_0127.jpeg: 640x480 1 wood_knot, 306.8ms\n",
      "Speed: 2.5ms preprocess, 306.8ms inference, 0.4ms postprocess per image at shape (1, 3, 640, 480)\n",
      "Image saved: /Users/holmes/Documents/UNI-Bamberg/Arbeiten/Datensatz/Selfmade/4_Maria_0710/2024_07_09_10_43_56/test/IMG_0127.jpeg\n",
      "\n",
      "image 1/1 /Users/holmes/Documents/UNI-Bamberg/Arbeiten/Datensatz/Selfmade/4_Maria_0710/2024_07_09_10_43_56/IMG_0062.jpeg: 640x480 1 wood_knot, 303.6ms\n",
      "Speed: 2.1ms preprocess, 303.6ms inference, 0.4ms postprocess per image at shape (1, 3, 640, 480)\n",
      "Image saved: /Users/holmes/Documents/UNI-Bamberg/Arbeiten/Datensatz/Selfmade/4_Maria_0710/2024_07_09_10_43_56/test/IMG_0062.jpeg\n",
      "\n",
      "image 1/1 /Users/holmes/Documents/UNI-Bamberg/Arbeiten/Datensatz/Selfmade/4_Maria_0710/2024_07_09_10_43_56/IMG_0218.jpeg: 640x480 (no detections), 307.7ms\n",
      "Speed: 2.4ms preprocess, 307.7ms inference, 0.3ms postprocess per image at shape (1, 3, 640, 480)\n",
      "Image saved: /Users/holmes/Documents/UNI-Bamberg/Arbeiten/Datensatz/Selfmade/4_Maria_0710/2024_07_09_10_43_56/test/IMG_0218.jpeg\n",
      "\n",
      "image 1/1 /Users/holmes/Documents/UNI-Bamberg/Arbeiten/Datensatz/Selfmade/4_Maria_0710/2024_07_09_10_43_56/IMG_0131.jpeg: 640x480 1 wood_knot, 293.0ms\n",
      "Speed: 2.5ms preprocess, 293.0ms inference, 0.6ms postprocess per image at shape (1, 3, 640, 480)\n",
      "Image saved: /Users/holmes/Documents/UNI-Bamberg/Arbeiten/Datensatz/Selfmade/4_Maria_0710/2024_07_09_10_43_56/test/IMG_0131.jpeg\n",
      "\n",
      "image 1/1 /Users/holmes/Documents/UNI-Bamberg/Arbeiten/Datensatz/Selfmade/4_Maria_0710/2024_07_09_10_43_56/IMG_0074.jpeg: 640x480 (no detections), 303.1ms\n",
      "Speed: 2.6ms preprocess, 303.1ms inference, 0.2ms postprocess per image at shape (1, 3, 640, 480)\n",
      "Image saved: /Users/holmes/Documents/UNI-Bamberg/Arbeiten/Datensatz/Selfmade/4_Maria_0710/2024_07_09_10_43_56/test/IMG_0074.jpeg\n",
      "\n",
      "image 1/1 /Users/holmes/Documents/UNI-Bamberg/Arbeiten/Datensatz/Selfmade/4_Maria_0710/2024_07_09_10_43_56/IMG_0166.jpeg: 640x480 (no detections), 315.5ms\n",
      "Speed: 2.1ms preprocess, 315.5ms inference, 0.2ms postprocess per image at shape (1, 3, 640, 480)\n",
      "Image saved: /Users/holmes/Documents/UNI-Bamberg/Arbeiten/Datensatz/Selfmade/4_Maria_0710/2024_07_09_10_43_56/test/IMG_0166.jpeg\n",
      "\n",
      "image 1/1 /Users/holmes/Documents/UNI-Bamberg/Arbeiten/Datensatz/Selfmade/4_Maria_0710/2024_07_09_10_43_56/IMG_0023.jpeg: 640x480 (no detections), 306.5ms\n",
      "Speed: 2.5ms preprocess, 306.5ms inference, 0.2ms postprocess per image at shape (1, 3, 640, 480)\n",
      "Image saved: /Users/holmes/Documents/UNI-Bamberg/Arbeiten/Datensatz/Selfmade/4_Maria_0710/2024_07_09_10_43_56/test/IMG_0023.jpeg\n",
      "\n",
      "image 1/1 /Users/holmes/Documents/UNI-Bamberg/Arbeiten/Datensatz/Selfmade/4_Maria_0710/2024_07_09_10_43_56/IMG_0189.jpeg: 640x480 (no detections), 307.5ms\n",
      "Speed: 2.3ms preprocess, 307.5ms inference, 0.2ms postprocess per image at shape (1, 3, 640, 480)\n",
      "Image saved: /Users/holmes/Documents/UNI-Bamberg/Arbeiten/Datensatz/Selfmade/4_Maria_0710/2024_07_09_10_43_56/test/IMG_0189.jpeg\n",
      "\n",
      "image 1/1 /Users/holmes/Documents/UNI-Bamberg/Arbeiten/Datensatz/Selfmade/4_Maria_0710/2024_07_09_10_43_56/IMG_0234.jpeg: 640x480 1 wood_dowel, 299.4ms\n",
      "Speed: 2.2ms preprocess, 299.4ms inference, 0.4ms postprocess per image at shape (1, 3, 640, 480)\n",
      "Image saved: /Users/holmes/Documents/UNI-Bamberg/Arbeiten/Datensatz/Selfmade/4_Maria_0710/2024_07_09_10_43_56/test/IMG_0234.jpeg\n",
      "\n",
      "image 1/1 /Users/holmes/Documents/UNI-Bamberg/Arbeiten/Datensatz/Selfmade/4_Maria_0710/2024_07_09_10_43_56/IMG_0058.jpeg: 640x480 (no detections), 314.8ms\n",
      "Speed: 2.2ms preprocess, 314.8ms inference, 0.2ms postprocess per image at shape (1, 3, 640, 480)\n",
      "Image saved: /Users/holmes/Documents/UNI-Bamberg/Arbeiten/Datensatz/Selfmade/4_Maria_0710/2024_07_09_10_43_56/test/IMG_0058.jpeg\n",
      "\n",
      "image 1/1 /Users/holmes/Documents/UNI-Bamberg/Arbeiten/Datensatz/Selfmade/4_Maria_0710/2024_07_09_10_43_56/IMG_0019.jpeg: 640x480 (no detections), 304.9ms\n",
      "Speed: 2.4ms preprocess, 304.9ms inference, 0.2ms postprocess per image at shape (1, 3, 640, 480)\n",
      "Image saved: /Users/holmes/Documents/UNI-Bamberg/Arbeiten/Datensatz/Selfmade/4_Maria_0710/2024_07_09_10_43_56/test/IMG_0019.jpeg\n",
      "\n",
      "image 1/1 /Users/holmes/Documents/UNI-Bamberg/Arbeiten/Datensatz/Selfmade/4_Maria_0710/2024_07_09_10_43_56/IMG_0222.jpeg: 640x480 (no detections), 320.4ms\n",
      "Speed: 2.6ms preprocess, 320.4ms inference, 0.2ms postprocess per image at shape (1, 3, 640, 480)\n",
      "Image saved: /Users/holmes/Documents/UNI-Bamberg/Arbeiten/Datensatz/Selfmade/4_Maria_0710/2024_07_09_10_43_56/test/IMG_0222.jpeg\n",
      "\n",
      "image 1/1 /Users/holmes/Documents/UNI-Bamberg/Arbeiten/Datensatz/Selfmade/4_Maria_0710/2024_07_09_10_43_56/IMG_0039.jpeg: 640x480 (no detections), 300.8ms\n",
      "Speed: 2.6ms preprocess, 300.8ms inference, 0.2ms postprocess per image at shape (1, 3, 640, 480)\n",
      "Image saved: /Users/holmes/Documents/UNI-Bamberg/Arbeiten/Datensatz/Selfmade/4_Maria_0710/2024_07_09_10_43_56/test/IMG_0039.jpeg\n",
      "\n",
      "image 1/1 /Users/holmes/Documents/UNI-Bamberg/Arbeiten/Datensatz/Selfmade/4_Maria_0710/2024_07_09_10_43_56/IMG_0193.jpeg: 640x480 (no detections), 312.1ms\n",
      "Speed: 2.5ms preprocess, 312.1ms inference, 0.2ms postprocess per image at shape (1, 3, 640, 480)\n",
      "Image saved: /Users/holmes/Documents/UNI-Bamberg/Arbeiten/Datensatz/Selfmade/4_Maria_0710/2024_07_09_10_43_56/test/IMG_0193.jpeg\n",
      "\n",
      "image 1/1 /Users/holmes/Documents/UNI-Bamberg/Arbeiten/Datensatz/Selfmade/4_Maria_0710/2024_07_09_10_43_56/IMG_0081.jpeg: 640x480 5 wood_knots, 307.0ms\n",
      "Speed: 2.4ms preprocess, 307.0ms inference, 0.4ms postprocess per image at shape (1, 3, 640, 480)\n",
      "Image saved: /Users/holmes/Documents/UNI-Bamberg/Arbeiten/Datensatz/Selfmade/4_Maria_0710/2024_07_09_10_43_56/test/IMG_0081.jpeg\n",
      "\n",
      "image 1/1 /Users/holmes/Documents/UNI-Bamberg/Arbeiten/Datensatz/Selfmade/4_Maria_0710/2024_07_09_10_43_56/IMG_0202.jpeg: 640x480 (no detections), 296.9ms\n",
      "Speed: 2.2ms preprocess, 296.9ms inference, 0.2ms postprocess per image at shape (1, 3, 640, 480)\n",
      "Image saved: /Users/holmes/Documents/UNI-Bamberg/Arbeiten/Datensatz/Selfmade/4_Maria_0710/2024_07_09_10_43_56/test/IMG_0202.jpeg\n",
      "\n",
      "image 1/1 /Users/holmes/Documents/UNI-Bamberg/Arbeiten/Datensatz/Selfmade/4_Maria_0710/2024_07_09_10_43_56/IMG_0097.jpeg: 640x480 1 wood_knot, 298.9ms\n",
      "Speed: 2.2ms preprocess, 298.9ms inference, 0.4ms postprocess per image at shape (1, 3, 640, 480)\n",
      "Image saved: /Users/holmes/Documents/UNI-Bamberg/Arbeiten/Datensatz/Selfmade/4_Maria_0710/2024_07_09_10_43_56/test/IMG_0097.jpeg\n",
      "\n",
      "image 1/1 /Users/holmes/Documents/UNI-Bamberg/Arbeiten/Datensatz/Selfmade/4_Maria_0710/2024_07_09_10_43_56/IMG_0078.jpeg: 640x480 1 wood_knot, 311.1ms\n",
      "Speed: 2.8ms preprocess, 311.1ms inference, 0.4ms postprocess per image at shape (1, 3, 640, 480)\n",
      "Image saved: /Users/holmes/Documents/UNI-Bamberg/Arbeiten/Datensatz/Selfmade/4_Maria_0710/2024_07_09_10_43_56/test/IMG_0078.jpeg\n",
      "\n",
      "image 1/1 /Users/holmes/Documents/UNI-Bamberg/Arbeiten/Datensatz/Selfmade/4_Maria_0710/2024_07_09_10_43_56/IMG_0214.jpeg: 640x480 (no detections), 303.1ms\n",
      "Speed: 2.1ms preprocess, 303.1ms inference, 0.3ms postprocess per image at shape (1, 3, 640, 480)\n",
      "Image saved: /Users/holmes/Documents/UNI-Bamberg/Arbeiten/Datensatz/Selfmade/4_Maria_0710/2024_07_09_10_43_56/test/IMG_0214.jpeg\n",
      "\n",
      "image 1/1 /Users/holmes/Documents/UNI-Bamberg/Arbeiten/Datensatz/Selfmade/4_Maria_0710/2024_07_09_10_43_56/IMG_0185.jpeg: 640x480 (no detections), 302.9ms\n",
      "Speed: 2.6ms preprocess, 302.9ms inference, 0.3ms postprocess per image at shape (1, 3, 640, 480)\n",
      "Image saved: /Users/holmes/Documents/UNI-Bamberg/Arbeiten/Datensatz/Selfmade/4_Maria_0710/2024_07_09_10_43_56/test/IMG_0185.jpeg\n",
      "\n",
      "image 1/1 /Users/holmes/Documents/UNI-Bamberg/Arbeiten/Datensatz/Selfmade/4_Maria_0710/2024_07_09_10_43_56/IMG_0243.jpeg: 640x480 (no detections), 301.9ms\n",
      "Speed: 2.1ms preprocess, 301.9ms inference, 0.2ms postprocess per image at shape (1, 3, 640, 480)\n",
      "Image saved: /Users/holmes/Documents/UNI-Bamberg/Arbeiten/Datensatz/Selfmade/4_Maria_0710/2024_07_09_10_43_56/test/IMG_0243.jpeg\n",
      "\n",
      "image 1/1 /Users/holmes/Documents/UNI-Bamberg/Arbeiten/Datensatz/Selfmade/4_Maria_0710/2024_07_09_10_43_56/IMG_0054.jpeg: 640x480 1 wood_knot, 298.9ms\n",
      "Speed: 2.2ms preprocess, 298.9ms inference, 0.4ms postprocess per image at shape (1, 3, 640, 480)\n",
      "Image saved: /Users/holmes/Documents/UNI-Bamberg/Arbeiten/Datensatz/Selfmade/4_Maria_0710/2024_07_09_10_43_56/test/IMG_0054.jpeg\n",
      "\n",
      "image 1/1 /Users/holmes/Documents/UNI-Bamberg/Arbeiten/Datensatz/Selfmade/4_Maria_0710/2024_07_09_10_43_56/IMG_0111.jpeg: 640x480 1 wood_knot, 305.7ms\n",
      "Speed: 2.4ms preprocess, 305.7ms inference, 0.4ms postprocess per image at shape (1, 3, 640, 480)\n",
      "Image saved: /Users/holmes/Documents/UNI-Bamberg/Arbeiten/Datensatz/Selfmade/4_Maria_0710/2024_07_09_10_43_56/test/IMG_0111.jpeg\n",
      "\n",
      "image 1/1 /Users/holmes/Documents/UNI-Bamberg/Arbeiten/Datensatz/Selfmade/4_Maria_0710/2024_07_09_10_43_56/IMG_0238.jpeg: 640x480 (no detections), 305.0ms\n",
      "Speed: 2.3ms preprocess, 305.0ms inference, 0.2ms postprocess per image at shape (1, 3, 640, 480)\n",
      "Image saved: /Users/holmes/Documents/UNI-Bamberg/Arbeiten/Datensatz/Selfmade/4_Maria_0710/2024_07_09_10_43_56/test/IMG_0238.jpeg\n",
      "\n",
      "image 1/1 /Users/holmes/Documents/UNI-Bamberg/Arbeiten/Datensatz/Selfmade/4_Maria_0710/2024_07_09_10_43_56/IMG_0003.jpeg: 640x480 (no detections), 304.1ms\n",
      "Speed: 2.5ms preprocess, 304.1ms inference, 0.2ms postprocess per image at shape (1, 3, 640, 480)\n",
      "Image saved: /Users/holmes/Documents/UNI-Bamberg/Arbeiten/Datensatz/Selfmade/4_Maria_0710/2024_07_09_10_43_56/test/IMG_0003.jpeg\n",
      "\n",
      "image 1/1 /Users/holmes/Documents/UNI-Bamberg/Arbeiten/Datensatz/Selfmade/4_Maria_0710/2024_07_09_10_43_56/IMG_0146.jpeg: 640x480 (no detections), 307.7ms\n",
      "Speed: 2.7ms preprocess, 307.7ms inference, 0.2ms postprocess per image at shape (1, 3, 640, 480)\n",
      "Image saved: /Users/holmes/Documents/UNI-Bamberg/Arbeiten/Datensatz/Selfmade/4_Maria_0710/2024_07_09_10_43_56/test/IMG_0146.jpeg\n",
      "\n",
      "image 1/1 /Users/holmes/Documents/UNI-Bamberg/Arbeiten/Datensatz/Selfmade/4_Maria_0710/2024_07_09_10_43_56/IMG_0015.jpeg: 640x480 1 wood_knot, 300.7ms\n",
      "Speed: 2.1ms preprocess, 300.7ms inference, 0.4ms postprocess per image at shape (1, 3, 640, 480)\n",
      "Image saved: /Users/holmes/Documents/UNI-Bamberg/Arbeiten/Datensatz/Selfmade/4_Maria_0710/2024_07_09_10_43_56/test/IMG_0015.jpeg\n",
      "\n",
      "image 1/1 /Users/holmes/Documents/UNI-Bamberg/Arbeiten/Datensatz/Selfmade/4_Maria_0710/2024_07_09_10_43_56/IMG_0150.jpeg: 640x480 1 wood_knot, 306.6ms\n",
      "Speed: 2.5ms preprocess, 306.6ms inference, 0.4ms postprocess per image at shape (1, 3, 640, 480)\n",
      "Image saved: /Users/holmes/Documents/UNI-Bamberg/Arbeiten/Datensatz/Selfmade/4_Maria_0710/2024_07_09_10_43_56/test/IMG_0150.jpeg\n",
      "\n",
      "image 1/1 /Users/holmes/Documents/UNI-Bamberg/Arbeiten/Datensatz/Selfmade/4_Maria_0710/2024_07_09_10_43_56/IMG_0042.jpeg: 640x480 (no detections), 319.5ms\n",
      "Speed: 2.4ms preprocess, 319.5ms inference, 0.2ms postprocess per image at shape (1, 3, 640, 480)\n",
      "Image saved: /Users/holmes/Documents/UNI-Bamberg/Arbeiten/Datensatz/Selfmade/4_Maria_0710/2024_07_09_10_43_56/test/IMG_0042.jpeg\n",
      "\n",
      "image 1/1 /Users/holmes/Documents/UNI-Bamberg/Arbeiten/Datensatz/Selfmade/4_Maria_0710/2024_07_09_10_43_56/IMG_0107.jpeg: 640x480 1 wood_knot, 304.1ms\n",
      "Speed: 2.6ms preprocess, 304.1ms inference, 0.4ms postprocess per image at shape (1, 3, 640, 480)\n",
      "Image saved: /Users/holmes/Documents/UNI-Bamberg/Arbeiten/Datensatz/Selfmade/4_Maria_0710/2024_07_09_10_43_56/test/IMG_0107.jpeg\n",
      "\n",
      "image 1/1 /Users/holmes/Documents/UNI-Bamberg/Arbeiten/Datensatz/Selfmade/4_Maria_0710/2024_07_09_10_43_56/IMG_0043.jpeg: 640x480 (no detections), 298.7ms\n",
      "Speed: 2.2ms preprocess, 298.7ms inference, 0.6ms postprocess per image at shape (1, 3, 640, 480)\n",
      "Image saved: /Users/holmes/Documents/UNI-Bamberg/Arbeiten/Datensatz/Selfmade/4_Maria_0710/2024_07_09_10_43_56/test/IMG_0043.jpeg\n",
      "\n",
      "image 1/1 /Users/holmes/Documents/UNI-Bamberg/Arbeiten/Datensatz/Selfmade/4_Maria_0710/2024_07_09_10_43_56/IMG_0106.jpeg: 640x480 1 wood_knot, 307.4ms\n",
      "Speed: 2.4ms preprocess, 307.4ms inference, 0.3ms postprocess per image at shape (1, 3, 640, 480)\n",
      "Image saved: /Users/holmes/Documents/UNI-Bamberg/Arbeiten/Datensatz/Selfmade/4_Maria_0710/2024_07_09_10_43_56/test/IMG_0106.jpeg\n",
      "\n",
      "image 1/1 /Users/holmes/Documents/UNI-Bamberg/Arbeiten/Datensatz/Selfmade/4_Maria_0710/2024_07_09_10_43_56/IMG_0014.jpeg: 640x480 (no detections), 305.0ms\n",
      "Speed: 2.2ms preprocess, 305.0ms inference, 0.2ms postprocess per image at shape (1, 3, 640, 480)\n",
      "Image saved: /Users/holmes/Documents/UNI-Bamberg/Arbeiten/Datensatz/Selfmade/4_Maria_0710/2024_07_09_10_43_56/test/IMG_0014.jpeg\n",
      "\n",
      "image 1/1 /Users/holmes/Documents/UNI-Bamberg/Arbeiten/Datensatz/Selfmade/4_Maria_0710/2024_07_09_10_43_56/IMG_0151.jpeg: 640x480 1 wood_knot, 303.6ms\n",
      "Speed: 2.4ms preprocess, 303.6ms inference, 0.4ms postprocess per image at shape (1, 3, 640, 480)\n",
      "Image saved: /Users/holmes/Documents/UNI-Bamberg/Arbeiten/Datensatz/Selfmade/4_Maria_0710/2024_07_09_10_43_56/test/IMG_0151.jpeg\n",
      "\n",
      "image 1/1 /Users/holmes/Documents/UNI-Bamberg/Arbeiten/Datensatz/Selfmade/4_Maria_0710/2024_07_09_10_43_56/IMG_0002.jpeg: 640x480 (no detections), 319.8ms\n",
      "Speed: 2.8ms preprocess, 319.8ms inference, 0.2ms postprocess per image at shape (1, 3, 640, 480)\n",
      "Image saved: /Users/holmes/Documents/UNI-Bamberg/Arbeiten/Datensatz/Selfmade/4_Maria_0710/2024_07_09_10_43_56/test/IMG_0002.jpeg\n",
      "\n",
      "image 1/1 /Users/holmes/Documents/UNI-Bamberg/Arbeiten/Datensatz/Selfmade/4_Maria_0710/2024_07_09_10_43_56/IMG_0147.jpeg: 640x480 1 wood_knot, 305.5ms\n",
      "Speed: 2.8ms preprocess, 305.5ms inference, 0.4ms postprocess per image at shape (1, 3, 640, 480)\n",
      "Image saved: /Users/holmes/Documents/UNI-Bamberg/Arbeiten/Datensatz/Selfmade/4_Maria_0710/2024_07_09_10_43_56/test/IMG_0147.jpeg\n",
      "\n",
      "image 1/1 /Users/holmes/Documents/UNI-Bamberg/Arbeiten/Datensatz/Selfmade/4_Maria_0710/2024_07_09_10_43_56/IMG_0239.jpeg: 640x480 (no detections), 329.4ms\n",
      "Speed: 2.1ms preprocess, 329.4ms inference, 0.2ms postprocess per image at shape (1, 3, 640, 480)\n",
      "Image saved: /Users/holmes/Documents/UNI-Bamberg/Arbeiten/Datensatz/Selfmade/4_Maria_0710/2024_07_09_10_43_56/test/IMG_0239.jpeg\n",
      "\n",
      "image 1/1 /Users/holmes/Documents/UNI-Bamberg/Arbeiten/Datensatz/Selfmade/4_Maria_0710/2024_07_09_10_43_56/IMG_0055.jpeg: 640x480 1 wood_knot, 298.0ms\n",
      "Speed: 2.7ms preprocess, 298.0ms inference, 0.4ms postprocess per image at shape (1, 3, 640, 480)\n",
      "Image saved: /Users/holmes/Documents/UNI-Bamberg/Arbeiten/Datensatz/Selfmade/4_Maria_0710/2024_07_09_10_43_56/test/IMG_0055.jpeg\n",
      "\n",
      "image 1/1 /Users/holmes/Documents/UNI-Bamberg/Arbeiten/Datensatz/Selfmade/4_Maria_0710/2024_07_09_10_43_56/IMG_0110.jpeg: 640x480 1 wood_knot, 299.6ms\n",
      "Speed: 2.6ms preprocess, 299.6ms inference, 0.4ms postprocess per image at shape (1, 3, 640, 480)\n",
      "Image saved: /Users/holmes/Documents/UNI-Bamberg/Arbeiten/Datensatz/Selfmade/4_Maria_0710/2024_07_09_10_43_56/test/IMG_0110.jpeg\n",
      "\n",
      "image 1/1 /Users/holmes/Documents/UNI-Bamberg/Arbeiten/Datensatz/Selfmade/4_Maria_0710/2024_07_09_10_43_56/IMG_0242.jpeg: 640x480 (no detections), 303.2ms\n",
      "Speed: 2.7ms preprocess, 303.2ms inference, 0.4ms postprocess per image at shape (1, 3, 640, 480)\n",
      "Image saved: /Users/holmes/Documents/UNI-Bamberg/Arbeiten/Datensatz/Selfmade/4_Maria_0710/2024_07_09_10_43_56/test/IMG_0242.jpeg\n",
      "\n",
      "image 1/1 /Users/holmes/Documents/UNI-Bamberg/Arbeiten/Datensatz/Selfmade/4_Maria_0710/2024_07_09_10_43_56/IMG_0184.jpeg: 640x480 (no detections), 304.2ms\n",
      "Speed: 2.2ms preprocess, 304.2ms inference, 0.2ms postprocess per image at shape (1, 3, 640, 480)\n",
      "Image saved: /Users/holmes/Documents/UNI-Bamberg/Arbeiten/Datensatz/Selfmade/4_Maria_0710/2024_07_09_10_43_56/test/IMG_0184.jpeg\n",
      "\n",
      "image 1/1 /Users/holmes/Documents/UNI-Bamberg/Arbeiten/Datensatz/Selfmade/4_Maria_0710/2024_07_09_10_43_56/IMG_0215.jpeg: 640x480 (no detections), 300.0ms\n",
      "Speed: 2.1ms preprocess, 300.0ms inference, 0.2ms postprocess per image at shape (1, 3, 640, 480)\n",
      "Image saved: /Users/holmes/Documents/UNI-Bamberg/Arbeiten/Datensatz/Selfmade/4_Maria_0710/2024_07_09_10_43_56/test/IMG_0215.jpeg\n",
      "\n",
      "image 1/1 /Users/holmes/Documents/UNI-Bamberg/Arbeiten/Datensatz/Selfmade/4_Maria_0710/2024_07_09_10_43_56/IMG_0096.jpeg: 640x480 1 wood_knot, 304.5ms\n",
      "Speed: 2.5ms preprocess, 304.5ms inference, 0.4ms postprocess per image at shape (1, 3, 640, 480)\n",
      "Image saved: /Users/holmes/Documents/UNI-Bamberg/Arbeiten/Datensatz/Selfmade/4_Maria_0710/2024_07_09_10_43_56/test/IMG_0096.jpeg\n",
      "\n",
      "image 1/1 /Users/holmes/Documents/UNI-Bamberg/Arbeiten/Datensatz/Selfmade/4_Maria_0710/2024_07_09_10_43_56/IMG_0079.jpeg: 640x480 3 wood_knots, 305.1ms\n",
      "Speed: 2.2ms preprocess, 305.1ms inference, 0.4ms postprocess per image at shape (1, 3, 640, 480)\n",
      "Image saved: /Users/holmes/Documents/UNI-Bamberg/Arbeiten/Datensatz/Selfmade/4_Maria_0710/2024_07_09_10_43_56/test/IMG_0079.jpeg\n",
      "\n",
      "image 1/1 /Users/holmes/Documents/UNI-Bamberg/Arbeiten/Datensatz/Selfmade/4_Maria_0710/2024_07_09_10_43_56/IMG_0203.jpeg: 640x480 (no detections), 302.8ms\n",
      "Speed: 2.8ms preprocess, 302.8ms inference, 0.2ms postprocess per image at shape (1, 3, 640, 480)\n",
      "Image saved: /Users/holmes/Documents/UNI-Bamberg/Arbeiten/Datensatz/Selfmade/4_Maria_0710/2024_07_09_10_43_56/test/IMG_0203.jpeg\n",
      "\n",
      "image 1/1 /Users/holmes/Documents/UNI-Bamberg/Arbeiten/Datensatz/Selfmade/4_Maria_0710/2024_07_09_10_43_56/IMG_0080.jpeg: 640x480 12 wood_knots, 301.5ms\n",
      "Speed: 2.2ms preprocess, 301.5ms inference, 0.4ms postprocess per image at shape (1, 3, 640, 480)\n",
      "Image saved: /Users/holmes/Documents/UNI-Bamberg/Arbeiten/Datensatz/Selfmade/4_Maria_0710/2024_07_09_10_43_56/test/IMG_0080.jpeg\n",
      "\n",
      "image 1/1 /Users/holmes/Documents/UNI-Bamberg/Arbeiten/Datensatz/Selfmade/4_Maria_0710/2024_07_09_10_43_56/IMG_0038.jpeg: 640x480 (no detections), 298.0ms\n",
      "Speed: 2.8ms preprocess, 298.0ms inference, 0.2ms postprocess per image at shape (1, 3, 640, 480)\n",
      "Image saved: /Users/holmes/Documents/UNI-Bamberg/Arbeiten/Datensatz/Selfmade/4_Maria_0710/2024_07_09_10_43_56/test/IMG_0038.jpeg\n",
      "\n",
      "image 1/1 /Users/holmes/Documents/UNI-Bamberg/Arbeiten/Datensatz/Selfmade/4_Maria_0710/2024_07_09_10_43_56/IMG_0192.jpeg: 640x480 (no detections), 305.6ms\n",
      "Speed: 2.3ms preprocess, 305.6ms inference, 0.2ms postprocess per image at shape (1, 3, 640, 480)\n",
      "Image saved: /Users/holmes/Documents/UNI-Bamberg/Arbeiten/Datensatz/Selfmade/4_Maria_0710/2024_07_09_10_43_56/test/IMG_0192.jpeg\n",
      "\n",
      "image 1/1 /Users/holmes/Documents/UNI-Bamberg/Arbeiten/Datensatz/Selfmade/4_Maria_0710/2024_07_09_10_43_56/IMG_0223.jpeg: 640x480 (no detections), 297.9ms\n",
      "Speed: 2.1ms preprocess, 297.9ms inference, 0.2ms postprocess per image at shape (1, 3, 640, 480)\n",
      "Image saved: /Users/holmes/Documents/UNI-Bamberg/Arbeiten/Datensatz/Selfmade/4_Maria_0710/2024_07_09_10_43_56/test/IMG_0223.jpeg\n",
      "\n",
      "image 1/1 /Users/holmes/Documents/UNI-Bamberg/Arbeiten/Datensatz/Selfmade/4_Maria_0710/2024_07_09_10_43_56/IMG_0018.jpeg: 640x480 (no detections), 302.3ms\n",
      "Speed: 2.4ms preprocess, 302.3ms inference, 0.3ms postprocess per image at shape (1, 3, 640, 480)\n",
      "Image saved: /Users/holmes/Documents/UNI-Bamberg/Arbeiten/Datensatz/Selfmade/4_Maria_0710/2024_07_09_10_43_56/test/IMG_0018.jpeg\n",
      "\n",
      "image 1/1 /Users/holmes/Documents/UNI-Bamberg/Arbeiten/Datensatz/Selfmade/4_Maria_0710/2024_07_09_10_43_56/IMG_0059.jpeg: 640x480 (no detections), 307.5ms\n",
      "Speed: 2.2ms preprocess, 307.5ms inference, 0.2ms postprocess per image at shape (1, 3, 640, 480)\n",
      "Image saved: /Users/holmes/Documents/UNI-Bamberg/Arbeiten/Datensatz/Selfmade/4_Maria_0710/2024_07_09_10_43_56/test/IMG_0059.jpeg\n",
      "\n",
      "image 1/1 /Users/holmes/Documents/UNI-Bamberg/Arbeiten/Datensatz/Selfmade/4_Maria_0710/2024_07_09_10_43_56/IMG_0235.jpeg: 640x480 1 wood_knot, 307.3ms\n",
      "Speed: 2.1ms preprocess, 307.3ms inference, 0.4ms postprocess per image at shape (1, 3, 640, 480)\n",
      "Image saved: /Users/holmes/Documents/UNI-Bamberg/Arbeiten/Datensatz/Selfmade/4_Maria_0710/2024_07_09_10_43_56/test/IMG_0235.jpeg\n",
      "\n",
      "image 1/1 /Users/holmes/Documents/UNI-Bamberg/Arbeiten/Datensatz/Selfmade/4_Maria_0710/2024_07_09_10_43_56/IMG_0167.jpeg: 640x480 (no detections), 295.4ms\n",
      "Speed: 2.2ms preprocess, 295.4ms inference, 0.2ms postprocess per image at shape (1, 3, 640, 480)\n",
      "Image saved: /Users/holmes/Documents/UNI-Bamberg/Arbeiten/Datensatz/Selfmade/4_Maria_0710/2024_07_09_10_43_56/test/IMG_0167.jpeg\n",
      "\n",
      "image 1/1 /Users/holmes/Documents/UNI-Bamberg/Arbeiten/Datensatz/Selfmade/4_Maria_0710/2024_07_09_10_43_56/IMG_0022.jpeg: 640x480 (no detections), 302.3ms\n",
      "Speed: 2.4ms preprocess, 302.3ms inference, 0.3ms postprocess per image at shape (1, 3, 640, 480)\n",
      "Image saved: /Users/holmes/Documents/UNI-Bamberg/Arbeiten/Datensatz/Selfmade/4_Maria_0710/2024_07_09_10_43_56/test/IMG_0022.jpeg\n",
      "\n",
      "image 1/1 /Users/holmes/Documents/UNI-Bamberg/Arbeiten/Datensatz/Selfmade/4_Maria_0710/2024_07_09_10_43_56/IMG_0188.jpeg: 640x480 (no detections), 302.4ms\n",
      "Speed: 2.5ms preprocess, 302.4ms inference, 0.2ms postprocess per image at shape (1, 3, 640, 480)\n",
      "Image saved: /Users/holmes/Documents/UNI-Bamberg/Arbeiten/Datensatz/Selfmade/4_Maria_0710/2024_07_09_10_43_56/test/IMG_0188.jpeg\n",
      "\n",
      "image 1/1 /Users/holmes/Documents/UNI-Bamberg/Arbeiten/Datensatz/Selfmade/4_Maria_0710/2024_07_09_10_43_56/IMG_0130.jpeg: 640x480 1 wood_knot, 298.6ms\n",
      "Speed: 2.2ms preprocess, 298.6ms inference, 0.7ms postprocess per image at shape (1, 3, 640, 480)\n",
      "Image saved: /Users/holmes/Documents/UNI-Bamberg/Arbeiten/Datensatz/Selfmade/4_Maria_0710/2024_07_09_10_43_56/test/IMG_0130.jpeg\n",
      "\n",
      "image 1/1 /Users/holmes/Documents/UNI-Bamberg/Arbeiten/Datensatz/Selfmade/4_Maria_0710/2024_07_09_10_43_56/IMG_0075.jpeg: 640x480 1 wood_knot, 306.4ms\n",
      "Speed: 2.2ms preprocess, 306.4ms inference, 0.4ms postprocess per image at shape (1, 3, 640, 480)\n",
      "Image saved: /Users/holmes/Documents/UNI-Bamberg/Arbeiten/Datensatz/Selfmade/4_Maria_0710/2024_07_09_10_43_56/test/IMG_0075.jpeg\n",
      "\n",
      "image 1/1 /Users/holmes/Documents/UNI-Bamberg/Arbeiten/Datensatz/Selfmade/4_Maria_0710/2024_07_09_10_43_56/IMG_0219.jpeg: 640x480 1 wood_knot, 306.4ms\n",
      "Speed: 2.5ms preprocess, 306.4ms inference, 0.4ms postprocess per image at shape (1, 3, 640, 480)\n",
      "Image saved: /Users/holmes/Documents/UNI-Bamberg/Arbeiten/Datensatz/Selfmade/4_Maria_0710/2024_07_09_10_43_56/test/IMG_0219.jpeg\n",
      "\n",
      "image 1/1 /Users/holmes/Documents/UNI-Bamberg/Arbeiten/Datensatz/Selfmade/4_Maria_0710/2024_07_09_10_43_56/IMG_0126.jpeg: 640x480 (no detections), 295.0ms\n",
      "Speed: 2.1ms preprocess, 295.0ms inference, 0.2ms postprocess per image at shape (1, 3, 640, 480)\n",
      "Image saved: /Users/holmes/Documents/UNI-Bamberg/Arbeiten/Datensatz/Selfmade/4_Maria_0710/2024_07_09_10_43_56/test/IMG_0126.jpeg\n",
      "\n",
      "image 1/1 /Users/holmes/Documents/UNI-Bamberg/Arbeiten/Datensatz/Selfmade/4_Maria_0710/2024_07_09_10_43_56/IMG_0063.jpeg: 640x480 1 wood_knot, 311.1ms\n",
      "Speed: 2.6ms preprocess, 311.1ms inference, 0.4ms postprocess per image at shape (1, 3, 640, 480)\n",
      "Image saved: /Users/holmes/Documents/UNI-Bamberg/Arbeiten/Datensatz/Selfmade/4_Maria_0710/2024_07_09_10_43_56/test/IMG_0063.jpeg\n",
      "\n",
      "image 1/1 /Users/holmes/Documents/UNI-Bamberg/Arbeiten/Datensatz/Selfmade/4_Maria_0710/2024_07_09_10_43_56/IMG_0171.jpeg: 640x480 (no detections), 309.3ms\n",
      "Speed: 2.2ms preprocess, 309.3ms inference, 0.2ms postprocess per image at shape (1, 3, 640, 480)\n",
      "Image saved: /Users/holmes/Documents/UNI-Bamberg/Arbeiten/Datensatz/Selfmade/4_Maria_0710/2024_07_09_10_43_56/test/IMG_0171.jpeg\n",
      "\n",
      "image 1/1 /Users/holmes/Documents/UNI-Bamberg/Arbeiten/Datensatz/Selfmade/4_Maria_0710/2024_07_09_10_43_56/IMG_0034.jpeg: 640x480 (no detections), 302.4ms\n",
      "Speed: 2.4ms preprocess, 302.4ms inference, 0.5ms postprocess per image at shape (1, 3, 640, 480)\n",
      "Image saved: /Users/holmes/Documents/UNI-Bamberg/Arbeiten/Datensatz/Selfmade/4_Maria_0710/2024_07_09_10_43_56/test/IMG_0034.jpeg\n",
      "\n",
      "image 1/1 /Users/holmes/Documents/UNI-Bamberg/Arbeiten/Datensatz/Selfmade/4_Maria_0710/2024_07_09_10_43_56/IMG_0195.jpeg: 640x480 1 wood_knot, 301.1ms\n",
      "Speed: 2.2ms preprocess, 301.1ms inference, 0.4ms postprocess per image at shape (1, 3, 640, 480)\n",
      "Image saved: /Users/holmes/Documents/UNI-Bamberg/Arbeiten/Datensatz/Selfmade/4_Maria_0710/2024_07_09_10_43_56/test/IMG_0195.jpeg\n",
      "\n",
      "image 1/1 /Users/holmes/Documents/UNI-Bamberg/Arbeiten/Datensatz/Selfmade/4_Maria_0710/2024_07_09_10_43_56/IMG_0087.jpeg: 640x480 6 wood_knots, 305.3ms\n",
      "Speed: 2.7ms preprocess, 305.3ms inference, 0.4ms postprocess per image at shape (1, 3, 640, 480)\n",
      "Image saved: /Users/holmes/Documents/UNI-Bamberg/Arbeiten/Datensatz/Selfmade/4_Maria_0710/2024_07_09_10_43_56/test/IMG_0087.jpeg\n",
      "\n",
      "image 1/1 /Users/holmes/Documents/UNI-Bamberg/Arbeiten/Datensatz/Selfmade/4_Maria_0710/2024_07_09_10_43_56/IMG_0068.jpeg: 640x480 1 wood_knot, 298.7ms\n",
      "Speed: 2.8ms preprocess, 298.7ms inference, 0.5ms postprocess per image at shape (1, 3, 640, 480)\n",
      "Image saved: /Users/holmes/Documents/UNI-Bamberg/Arbeiten/Datensatz/Selfmade/4_Maria_0710/2024_07_09_10_43_56/test/IMG_0068.jpeg\n",
      "\n",
      "image 1/1 /Users/holmes/Documents/UNI-Bamberg/Arbeiten/Datensatz/Selfmade/4_Maria_0710/2024_07_09_10_43_56/IMG_0204.jpeg: 640x480 (no detections), 307.2ms\n",
      "Speed: 2.4ms preprocess, 307.2ms inference, 0.2ms postprocess per image at shape (1, 3, 640, 480)\n",
      "Image saved: /Users/holmes/Documents/UNI-Bamberg/Arbeiten/Datensatz/Selfmade/4_Maria_0710/2024_07_09_10_43_56/test/IMG_0204.jpeg\n",
      "\n",
      "image 1/1 /Users/holmes/Documents/UNI-Bamberg/Arbeiten/Datensatz/Selfmade/4_Maria_0710/2024_07_09_10_43_56/IMG_0091.jpeg: 640x480 2 wood_knots, 314.7ms\n",
      "Speed: 2.8ms preprocess, 314.7ms inference, 0.5ms postprocess per image at shape (1, 3, 640, 480)\n",
      "Image saved: /Users/holmes/Documents/UNI-Bamberg/Arbeiten/Datensatz/Selfmade/4_Maria_0710/2024_07_09_10_43_56/test/IMG_0091.jpeg\n",
      "\n",
      "image 1/1 /Users/holmes/Documents/UNI-Bamberg/Arbeiten/Datensatz/Selfmade/4_Maria_0710/2024_07_09_10_43_56/IMG_0212.jpeg: 640x480 1 wood_knot, 301.2ms\n",
      "Speed: 2.1ms preprocess, 301.2ms inference, 0.4ms postprocess per image at shape (1, 3, 640, 480)\n",
      "Image saved: /Users/holmes/Documents/UNI-Bamberg/Arbeiten/Datensatz/Selfmade/4_Maria_0710/2024_07_09_10_43_56/test/IMG_0212.jpeg\n",
      "\n",
      "image 1/1 /Users/holmes/Documents/UNI-Bamberg/Arbeiten/Datensatz/Selfmade/4_Maria_0710/2024_07_09_10_43_56/IMG_0183.jpeg: 640x480 (no detections), 305.2ms\n",
      "Speed: 2.4ms preprocess, 305.2ms inference, 0.5ms postprocess per image at shape (1, 3, 640, 480)\n",
      "Image saved: /Users/holmes/Documents/UNI-Bamberg/Arbeiten/Datensatz/Selfmade/4_Maria_0710/2024_07_09_10_43_56/test/IMG_0183.jpeg\n",
      "\n",
      "image 1/1 /Users/holmes/Documents/UNI-Bamberg/Arbeiten/Datensatz/Selfmade/4_Maria_0710/2024_07_09_10_43_56/IMG_0029.jpeg: 640x480 (no detections), 300.1ms\n",
      "Speed: 2.2ms preprocess, 300.1ms inference, 0.2ms postprocess per image at shape (1, 3, 640, 480)\n",
      "Image saved: /Users/holmes/Documents/UNI-Bamberg/Arbeiten/Datensatz/Selfmade/4_Maria_0710/2024_07_09_10_43_56/test/IMG_0029.jpeg\n",
      "\n",
      "image 1/1 /Users/holmes/Documents/UNI-Bamberg/Arbeiten/Datensatz/Selfmade/4_Maria_0710/2024_07_09_10_43_56/IMG_0245.jpeg: 640x480 (no detections), 302.7ms\n",
      "Speed: 2.3ms preprocess, 302.7ms inference, 0.2ms postprocess per image at shape (1, 3, 640, 480)\n",
      "Image saved: /Users/holmes/Documents/UNI-Bamberg/Arbeiten/Datensatz/Selfmade/4_Maria_0710/2024_07_09_10_43_56/test/IMG_0245.jpeg\n",
      "\n",
      "image 1/1 /Users/holmes/Documents/UNI-Bamberg/Arbeiten/Datensatz/Selfmade/4_Maria_0710/2024_07_09_10_43_56/IMG_0052.jpeg: 640x480 1 wood_knot, 304.0ms\n",
      "Speed: 2.2ms preprocess, 304.0ms inference, 0.4ms postprocess per image at shape (1, 3, 640, 480)\n",
      "Image saved: /Users/holmes/Documents/UNI-Bamberg/Arbeiten/Datensatz/Selfmade/4_Maria_0710/2024_07_09_10_43_56/test/IMG_0052.jpeg\n",
      "\n",
      "image 1/1 /Users/holmes/Documents/UNI-Bamberg/Arbeiten/Datensatz/Selfmade/4_Maria_0710/2024_07_09_10_43_56/IMG_0117.jpeg: 640x480 (no detections), 299.0ms\n",
      "Speed: 2.4ms preprocess, 299.0ms inference, 0.3ms postprocess per image at shape (1, 3, 640, 480)\n",
      "Image saved: /Users/holmes/Documents/UNI-Bamberg/Arbeiten/Datensatz/Selfmade/4_Maria_0710/2024_07_09_10_43_56/test/IMG_0117.jpeg\n",
      "\n",
      "image 1/1 /Users/holmes/Documents/UNI-Bamberg/Arbeiten/Datensatz/Selfmade/4_Maria_0710/2024_07_09_10_43_56/IMG_0005.jpeg: 640x480 (no detections), 301.4ms\n",
      "Speed: 2.1ms preprocess, 301.4ms inference, 0.2ms postprocess per image at shape (1, 3, 640, 480)\n",
      "Image saved: /Users/holmes/Documents/UNI-Bamberg/Arbeiten/Datensatz/Selfmade/4_Maria_0710/2024_07_09_10_43_56/test/IMG_0005.jpeg\n",
      "\n",
      "image 1/1 /Users/holmes/Documents/UNI-Bamberg/Arbeiten/Datensatz/Selfmade/4_Maria_0710/2024_07_09_10_43_56/IMG_0140.jpeg: 640x480 2 wood_knots, 305.6ms\n",
      "Speed: 2.4ms preprocess, 305.6ms inference, 0.5ms postprocess per image at shape (1, 3, 640, 480)\n",
      "Image saved: /Users/holmes/Documents/UNI-Bamberg/Arbeiten/Datensatz/Selfmade/4_Maria_0710/2024_07_09_10_43_56/test/IMG_0140.jpeg\n",
      "\n",
      "image 1/1 /Users/holmes/Documents/UNI-Bamberg/Arbeiten/Datensatz/Selfmade/4_Maria_0710/2024_07_09_10_43_56/IMG_0013.jpeg: 640x480 (no detections), 293.1ms\n",
      "Speed: 2.4ms preprocess, 293.1ms inference, 0.2ms postprocess per image at shape (1, 3, 640, 480)\n",
      "Image saved: /Users/holmes/Documents/UNI-Bamberg/Arbeiten/Datensatz/Selfmade/4_Maria_0710/2024_07_09_10_43_56/test/IMG_0013.jpeg\n",
      "\n",
      "image 1/1 /Users/holmes/Documents/UNI-Bamberg/Arbeiten/Datensatz/Selfmade/4_Maria_0710/2024_07_09_10_43_56/IMG_0156.jpeg: 640x480 (no detections), 297.0ms\n",
      "Speed: 2.1ms preprocess, 297.0ms inference, 0.5ms postprocess per image at shape (1, 3, 640, 480)\n",
      "Image saved: /Users/holmes/Documents/UNI-Bamberg/Arbeiten/Datensatz/Selfmade/4_Maria_0710/2024_07_09_10_43_56/test/IMG_0156.jpeg\n",
      "\n",
      "image 1/1 /Users/holmes/Documents/UNI-Bamberg/Arbeiten/Datensatz/Selfmade/4_Maria_0710/2024_07_09_10_43_56/IMG_0044.jpeg: 640x480 (no detections), 298.0ms\n",
      "Speed: 2.4ms preprocess, 298.0ms inference, 0.2ms postprocess per image at shape (1, 3, 640, 480)\n",
      "Image saved: /Users/holmes/Documents/UNI-Bamberg/Arbeiten/Datensatz/Selfmade/4_Maria_0710/2024_07_09_10_43_56/test/IMG_0044.jpeg\n",
      "\n",
      "image 1/1 /Users/holmes/Documents/UNI-Bamberg/Arbeiten/Datensatz/Selfmade/4_Maria_0710/2024_07_09_10_43_56/IMG_0101.jpeg: 640x480 2 wood_knots, 299.7ms\n",
      "Speed: 2.1ms preprocess, 299.7ms inference, 0.4ms postprocess per image at shape (1, 3, 640, 480)\n",
      "Image saved: /Users/holmes/Documents/UNI-Bamberg/Arbeiten/Datensatz/Selfmade/4_Maria_0710/2024_07_09_10_43_56/test/IMG_0101.jpeg\n",
      "\n",
      "image 1/1 /Users/holmes/Documents/UNI-Bamberg/Arbeiten/Datensatz/Selfmade/4_Maria_0710/2024_07_09_10_43_56/IMG_0228.jpeg: 640x480 (no detections), 302.0ms\n",
      "Speed: 2.2ms preprocess, 302.0ms inference, 0.2ms postprocess per image at shape (1, 3, 640, 480)\n",
      "Image saved: /Users/holmes/Documents/UNI-Bamberg/Arbeiten/Datensatz/Selfmade/4_Maria_0710/2024_07_09_10_43_56/test/IMG_0228.jpeg\n",
      "\n",
      "image 1/1 /Users/holmes/Documents/UNI-Bamberg/Arbeiten/Datensatz/Selfmade/4_Maria_0710/2024_07_09_10_43_56/IMG_0176.jpeg: 640x480 1 wood_knot, 300.7ms\n",
      "Speed: 2.3ms preprocess, 300.7ms inference, 0.4ms postprocess per image at shape (1, 3, 640, 480)\n",
      "Image saved: /Users/holmes/Documents/UNI-Bamberg/Arbeiten/Datensatz/Selfmade/4_Maria_0710/2024_07_09_10_43_56/test/IMG_0176.jpeg\n",
      "\n",
      "image 1/1 /Users/holmes/Documents/UNI-Bamberg/Arbeiten/Datensatz/Selfmade/4_Maria_0710/2024_07_09_10_43_56/IMG_0199.jpeg: 640x480 (no detections), 300.0ms\n",
      "Speed: 2.6ms preprocess, 300.0ms inference, 0.2ms postprocess per image at shape (1, 3, 640, 480)\n",
      "Image saved: /Users/holmes/Documents/UNI-Bamberg/Arbeiten/Datensatz/Selfmade/4_Maria_0710/2024_07_09_10_43_56/test/IMG_0199.jpeg\n",
      "\n",
      "image 1/1 /Users/holmes/Documents/UNI-Bamberg/Arbeiten/Datensatz/Selfmade/4_Maria_0710/2024_07_09_10_43_56/IMG_0033.jpeg: 640x480 (no detections), 306.0ms\n",
      "Speed: 2.1ms preprocess, 306.0ms inference, 0.2ms postprocess per image at shape (1, 3, 640, 480)\n",
      "Image saved: /Users/holmes/Documents/UNI-Bamberg/Arbeiten/Datensatz/Selfmade/4_Maria_0710/2024_07_09_10_43_56/test/IMG_0033.jpeg\n",
      "\n",
      "image 1/1 /Users/holmes/Documents/UNI-Bamberg/Arbeiten/Datensatz/Selfmade/4_Maria_0710/2024_07_09_10_43_56/IMG_0208.jpeg: 640x480 (no detections), 299.1ms\n",
      "Speed: 2.1ms preprocess, 299.1ms inference, 0.2ms postprocess per image at shape (1, 3, 640, 480)\n",
      "Image saved: /Users/holmes/Documents/UNI-Bamberg/Arbeiten/Datensatz/Selfmade/4_Maria_0710/2024_07_09_10_43_56/test/IMG_0208.jpeg\n",
      "\n",
      "image 1/1 /Users/holmes/Documents/UNI-Bamberg/Arbeiten/Datensatz/Selfmade/4_Maria_0710/2024_07_09_10_43_56/IMG_0121.jpeg: 640x480 1 wood_knot, 303.4ms\n",
      "Speed: 2.1ms preprocess, 303.4ms inference, 0.4ms postprocess per image at shape (1, 3, 640, 480)\n",
      "Image saved: /Users/holmes/Documents/UNI-Bamberg/Arbeiten/Datensatz/Selfmade/4_Maria_0710/2024_07_09_10_43_56/test/IMG_0121.jpeg\n",
      "\n",
      "image 1/1 /Users/holmes/Documents/UNI-Bamberg/Arbeiten/Datensatz/Selfmade/4_Maria_0710/2024_07_09_10_43_56/IMG_0064.jpeg: 640x480 1 wood_knot, 298.0ms\n",
      "Speed: 2.1ms preprocess, 298.0ms inference, 0.4ms postprocess per image at shape (1, 3, 640, 480)\n",
      "Image saved: /Users/holmes/Documents/UNI-Bamberg/Arbeiten/Datensatz/Selfmade/4_Maria_0710/2024_07_09_10_43_56/test/IMG_0064.jpeg\n",
      "\n",
      "image 1/1 /Users/holmes/Documents/UNI-Bamberg/Arbeiten/Datensatz/Selfmade/4_Maria_0710/2024_07_09_10_43_56/IMG_0137.jpeg: 640x480 1 wood_knot, 296.9ms\n",
      "Speed: 2.4ms preprocess, 296.9ms inference, 0.4ms postprocess per image at shape (1, 3, 640, 480)\n",
      "Image saved: /Users/holmes/Documents/UNI-Bamberg/Arbeiten/Datensatz/Selfmade/4_Maria_0710/2024_07_09_10_43_56/test/IMG_0137.jpeg\n",
      "\n",
      "image 1/1 /Users/holmes/Documents/UNI-Bamberg/Arbeiten/Datensatz/Selfmade/4_Maria_0710/2024_07_09_10_43_56/IMG_0072.jpeg: 640x480 (no detections), 299.8ms\n",
      "Speed: 2.2ms preprocess, 299.8ms inference, 0.3ms postprocess per image at shape (1, 3, 640, 480)\n",
      "Image saved: /Users/holmes/Documents/UNI-Bamberg/Arbeiten/Datensatz/Selfmade/4_Maria_0710/2024_07_09_10_43_56/test/IMG_0072.jpeg\n",
      "\n",
      "image 1/1 /Users/holmes/Documents/UNI-Bamberg/Arbeiten/Datensatz/Selfmade/4_Maria_0710/2024_07_09_10_43_56/IMG_0249.jpeg: 640x480 1 wood_knot, 297.9ms\n",
      "Speed: 2.4ms preprocess, 297.9ms inference, 0.4ms postprocess per image at shape (1, 3, 640, 480)\n",
      "Image saved: /Users/holmes/Documents/UNI-Bamberg/Arbeiten/Datensatz/Selfmade/4_Maria_0710/2024_07_09_10_43_56/test/IMG_0249.jpeg\n",
      "\n",
      "image 1/1 /Users/holmes/Documents/UNI-Bamberg/Arbeiten/Datensatz/Selfmade/4_Maria_0710/2024_07_09_10_43_56/IMG_0160.jpeg: 640x480 (no detections), 305.2ms\n",
      "Speed: 2.2ms preprocess, 305.2ms inference, 0.2ms postprocess per image at shape (1, 3, 640, 480)\n",
      "Image saved: /Users/holmes/Documents/UNI-Bamberg/Arbeiten/Datensatz/Selfmade/4_Maria_0710/2024_07_09_10_43_56/test/IMG_0160.jpeg\n",
      "\n",
      "image 1/1 /Users/holmes/Documents/UNI-Bamberg/Arbeiten/Datensatz/Selfmade/4_Maria_0710/2024_07_09_10_43_56/IMG_0025.jpeg: 640x480 1 wood_knot, 304.4ms\n",
      "Speed: 2.1ms preprocess, 304.4ms inference, 0.4ms postprocess per image at shape (1, 3, 640, 480)\n",
      "Image saved: /Users/holmes/Documents/UNI-Bamberg/Arbeiten/Datensatz/Selfmade/4_Maria_0710/2024_07_09_10_43_56/test/IMG_0025.jpeg\n",
      "\n",
      "image 1/1 /Users/holmes/Documents/UNI-Bamberg/Arbeiten/Datensatz/Selfmade/4_Maria_0710/2024_07_09_10_43_56/IMG_0232.jpeg: 640x480 1 wood_knot, 300.0ms\n",
      "Speed: 2.2ms preprocess, 300.0ms inference, 0.4ms postprocess per image at shape (1, 3, 640, 480)\n",
      "Image saved: /Users/holmes/Documents/UNI-Bamberg/Arbeiten/Datensatz/Selfmade/4_Maria_0710/2024_07_09_10_43_56/test/IMG_0232.jpeg\n",
      "\n",
      "image 1/1 /Users/holmes/Documents/UNI-Bamberg/Arbeiten/Datensatz/Selfmade/4_Maria_0710/2024_07_09_10_43_56/IMG_0009.jpeg: 640x480 (no detections), 296.7ms\n",
      "Speed: 2.5ms preprocess, 296.7ms inference, 0.2ms postprocess per image at shape (1, 3, 640, 480)\n",
      "Image saved: /Users/holmes/Documents/UNI-Bamberg/Arbeiten/Datensatz/Selfmade/4_Maria_0710/2024_07_09_10_43_56/test/IMG_0009.jpeg\n",
      "\n",
      "image 1/1 /Users/holmes/Documents/UNI-Bamberg/Arbeiten/Datensatz/Selfmade/4_Maria_0710/2024_07_09_10_43_56/IMG_0224.jpeg: 640x480 1 wood_knot, 301.6ms\n",
      "Speed: 2.2ms preprocess, 301.6ms inference, 0.4ms postprocess per image at shape (1, 3, 640, 480)\n",
      "Image saved: /Users/holmes/Documents/UNI-Bamberg/Arbeiten/Datensatz/Selfmade/4_Maria_0710/2024_07_09_10_43_56/test/IMG_0224.jpeg\n",
      "\n",
      "image 1/1 /Users/holmes/Documents/UNI-Bamberg/Arbeiten/Datensatz/Selfmade/4_Maria_0710/2024_07_09_10_43_56/IMG_0048.jpeg: 640x480 1 wood_knot, 302.1ms\n",
      "Speed: 2.1ms preprocess, 302.1ms inference, 0.4ms postprocess per image at shape (1, 3, 640, 480)\n",
      "Image saved: /Users/holmes/Documents/UNI-Bamberg/Arbeiten/Datensatz/Selfmade/4_Maria_0710/2024_07_09_10_43_56/test/IMG_0048.jpeg\n",
      "\n",
      "image 1/1 /Users/holmes/Documents/UNI-Bamberg/Arbeiten/Datensatz/Selfmade/4_Maria_0710/2024_07_09_10_43_56/IMG_0049.jpeg: 640x480 (no detections), 299.4ms\n",
      "Speed: 3.0ms preprocess, 299.4ms inference, 0.2ms postprocess per image at shape (1, 3, 640, 480)\n",
      "Image saved: /Users/holmes/Documents/UNI-Bamberg/Arbeiten/Datensatz/Selfmade/4_Maria_0710/2024_07_09_10_43_56/test/IMG_0049.jpeg\n",
      "\n",
      "image 1/1 /Users/holmes/Documents/UNI-Bamberg/Arbeiten/Datensatz/Selfmade/4_Maria_0710/2024_07_09_10_43_56/IMG_0225.jpeg: 640x480 1 wood_knot, 301.5ms\n",
      "Speed: 2.4ms preprocess, 301.5ms inference, 0.4ms postprocess per image at shape (1, 3, 640, 480)\n",
      "Image saved: /Users/holmes/Documents/UNI-Bamberg/Arbeiten/Datensatz/Selfmade/4_Maria_0710/2024_07_09_10_43_56/test/IMG_0225.jpeg\n",
      "\n",
      "image 1/1 /Users/holmes/Documents/UNI-Bamberg/Arbeiten/Datensatz/Selfmade/4_Maria_0710/2024_07_09_10_43_56/IMG_0008.jpeg: 640x480 (no detections), 300.0ms\n",
      "Speed: 2.1ms preprocess, 300.0ms inference, 0.3ms postprocess per image at shape (1, 3, 640, 480)\n",
      "Image saved: /Users/holmes/Documents/UNI-Bamberg/Arbeiten/Datensatz/Selfmade/4_Maria_0710/2024_07_09_10_43_56/test/IMG_0008.jpeg\n",
      "\n",
      "image 1/1 /Users/holmes/Documents/UNI-Bamberg/Arbeiten/Datensatz/Selfmade/4_Maria_0710/2024_07_09_10_43_56/IMG_0233.jpeg: 640x480 (no detections), 307.6ms\n",
      "Speed: 2.5ms preprocess, 307.6ms inference, 0.4ms postprocess per image at shape (1, 3, 640, 480)\n",
      "Image saved: /Users/holmes/Documents/UNI-Bamberg/Arbeiten/Datensatz/Selfmade/4_Maria_0710/2024_07_09_10_43_56/test/IMG_0233.jpeg\n",
      "\n",
      "image 1/1 /Users/holmes/Documents/UNI-Bamberg/Arbeiten/Datensatz/Selfmade/4_Maria_0710/2024_07_09_10_43_56/IMG_0161.jpeg: 640x480 (no detections), 305.4ms\n",
      "Speed: 2.2ms preprocess, 305.4ms inference, 0.2ms postprocess per image at shape (1, 3, 640, 480)\n",
      "Image saved: /Users/holmes/Documents/UNI-Bamberg/Arbeiten/Datensatz/Selfmade/4_Maria_0710/2024_07_09_10_43_56/test/IMG_0161.jpeg\n",
      "\n",
      "image 1/1 /Users/holmes/Documents/UNI-Bamberg/Arbeiten/Datensatz/Selfmade/4_Maria_0710/2024_07_09_10_43_56/IMG_0024.jpeg: 640x480 (no detections), 302.3ms\n",
      "Speed: 2.7ms preprocess, 302.3ms inference, 0.2ms postprocess per image at shape (1, 3, 640, 480)\n",
      "Image saved: /Users/holmes/Documents/UNI-Bamberg/Arbeiten/Datensatz/Selfmade/4_Maria_0710/2024_07_09_10_43_56/test/IMG_0024.jpeg\n",
      "\n",
      "image 1/1 /Users/holmes/Documents/UNI-Bamberg/Arbeiten/Datensatz/Selfmade/4_Maria_0710/2024_07_09_10_43_56/IMG_0248.jpeg: 640x480 (no detections), 311.2ms\n",
      "Speed: 2.4ms preprocess, 311.2ms inference, 0.2ms postprocess per image at shape (1, 3, 640, 480)\n",
      "Image saved: /Users/holmes/Documents/UNI-Bamberg/Arbeiten/Datensatz/Selfmade/4_Maria_0710/2024_07_09_10_43_56/test/IMG_0248.jpeg\n",
      "\n",
      "image 1/1 /Users/holmes/Documents/UNI-Bamberg/Arbeiten/Datensatz/Selfmade/4_Maria_0710/2024_07_09_10_43_56/IMG_0136.jpeg: 640x480 (no detections), 306.0ms\n",
      "Speed: 2.4ms preprocess, 306.0ms inference, 0.2ms postprocess per image at shape (1, 3, 640, 480)\n",
      "Image saved: /Users/holmes/Documents/UNI-Bamberg/Arbeiten/Datensatz/Selfmade/4_Maria_0710/2024_07_09_10_43_56/test/IMG_0136.jpeg\n",
      "\n",
      "image 1/1 /Users/holmes/Documents/UNI-Bamberg/Arbeiten/Datensatz/Selfmade/4_Maria_0710/2024_07_09_10_43_56/IMG_0073.jpeg: 640x480 (no detections), 299.7ms\n",
      "Speed: 2.5ms preprocess, 299.7ms inference, 0.2ms postprocess per image at shape (1, 3, 640, 480)\n",
      "Image saved: /Users/holmes/Documents/UNI-Bamberg/Arbeiten/Datensatz/Selfmade/4_Maria_0710/2024_07_09_10_43_56/test/IMG_0073.jpeg\n",
      "\n",
      "image 1/1 /Users/holmes/Documents/UNI-Bamberg/Arbeiten/Datensatz/Selfmade/4_Maria_0710/2024_07_09_10_43_56/IMG_0120.jpeg: 640x480 1 wood_knot, 304.1ms\n",
      "Speed: 2.5ms preprocess, 304.1ms inference, 0.4ms postprocess per image at shape (1, 3, 640, 480)\n",
      "Image saved: /Users/holmes/Documents/UNI-Bamberg/Arbeiten/Datensatz/Selfmade/4_Maria_0710/2024_07_09_10_43_56/test/IMG_0120.jpeg\n",
      "\n",
      "image 1/1 /Users/holmes/Documents/UNI-Bamberg/Arbeiten/Datensatz/Selfmade/4_Maria_0710/2024_07_09_10_43_56/IMG_0065.jpeg: 640x480 1 wood_knot, 298.7ms\n",
      "Speed: 3.0ms preprocess, 298.7ms inference, 0.5ms postprocess per image at shape (1, 3, 640, 480)\n",
      "Image saved: /Users/holmes/Documents/UNI-Bamberg/Arbeiten/Datensatz/Selfmade/4_Maria_0710/2024_07_09_10_43_56/test/IMG_0065.jpeg\n",
      "\n",
      "image 1/1 /Users/holmes/Documents/UNI-Bamberg/Arbeiten/Datensatz/Selfmade/4_Maria_0710/2024_07_09_10_43_56/IMG_0209.jpeg: 640x480 1 wood_knot, 304.9ms\n",
      "Speed: 2.3ms preprocess, 304.9ms inference, 0.7ms postprocess per image at shape (1, 3, 640, 480)\n",
      "Image saved: /Users/holmes/Documents/UNI-Bamberg/Arbeiten/Datensatz/Selfmade/4_Maria_0710/2024_07_09_10_43_56/test/IMG_0209.jpeg\n",
      "\n",
      "image 1/1 /Users/holmes/Documents/UNI-Bamberg/Arbeiten/Datensatz/Selfmade/4_Maria_0710/2024_07_09_10_43_56/IMG_0177.jpeg: 640x480 (no detections), 303.0ms\n",
      "Speed: 2.4ms preprocess, 303.0ms inference, 0.2ms postprocess per image at shape (1, 3, 640, 480)\n",
      "Image saved: /Users/holmes/Documents/UNI-Bamberg/Arbeiten/Datensatz/Selfmade/4_Maria_0710/2024_07_09_10_43_56/test/IMG_0177.jpeg\n",
      "\n",
      "image 1/1 /Users/holmes/Documents/UNI-Bamberg/Arbeiten/Datensatz/Selfmade/4_Maria_0710/2024_07_09_10_43_56/IMG_0198.jpeg: 640x480 (no detections), 292.9ms\n",
      "Speed: 2.1ms preprocess, 292.9ms inference, 0.2ms postprocess per image at shape (1, 3, 640, 480)\n",
      "Image saved: /Users/holmes/Documents/UNI-Bamberg/Arbeiten/Datensatz/Selfmade/4_Maria_0710/2024_07_09_10_43_56/test/IMG_0198.jpeg\n",
      "\n",
      "image 1/1 /Users/holmes/Documents/UNI-Bamberg/Arbeiten/Datensatz/Selfmade/4_Maria_0710/2024_07_09_10_43_56/IMG_0032.jpeg: 640x480 (no detections), 301.7ms\n",
      "Speed: 2.9ms preprocess, 301.7ms inference, 0.5ms postprocess per image at shape (1, 3, 640, 480)\n",
      "Image saved: /Users/holmes/Documents/UNI-Bamberg/Arbeiten/Datensatz/Selfmade/4_Maria_0710/2024_07_09_10_43_56/test/IMG_0032.jpeg\n",
      "\n",
      "image 1/1 /Users/holmes/Documents/UNI-Bamberg/Arbeiten/Datensatz/Selfmade/4_Maria_0710/2024_07_09_10_43_56/IMG_0229.jpeg: 640x480 (no detections), 300.2ms\n",
      "Speed: 2.6ms preprocess, 300.2ms inference, 0.2ms postprocess per image at shape (1, 3, 640, 480)\n",
      "Image saved: /Users/holmes/Documents/UNI-Bamberg/Arbeiten/Datensatz/Selfmade/4_Maria_0710/2024_07_09_10_43_56/test/IMG_0229.jpeg\n",
      "\n",
      "image 1/1 /Users/holmes/Documents/UNI-Bamberg/Arbeiten/Datensatz/Selfmade/4_Maria_0710/2024_07_09_10_43_56/IMG_0045.jpeg: 640x480 1 wood_knot, 312.3ms\n",
      "Speed: 2.5ms preprocess, 312.3ms inference, 0.4ms postprocess per image at shape (1, 3, 640, 480)\n",
      "Image saved: /Users/holmes/Documents/UNI-Bamberg/Arbeiten/Datensatz/Selfmade/4_Maria_0710/2024_07_09_10_43_56/test/IMG_0045.jpeg\n",
      "\n",
      "image 1/1 /Users/holmes/Documents/UNI-Bamberg/Arbeiten/Datensatz/Selfmade/4_Maria_0710/2024_07_09_10_43_56/IMG_0100.jpeg: 640x480 (no detections), 296.7ms\n",
      "Speed: 3.0ms preprocess, 296.7ms inference, 0.5ms postprocess per image at shape (1, 3, 640, 480)\n",
      "Image saved: /Users/holmes/Documents/UNI-Bamberg/Arbeiten/Datensatz/Selfmade/4_Maria_0710/2024_07_09_10_43_56/test/IMG_0100.jpeg\n",
      "\n",
      "image 1/1 /Users/holmes/Documents/UNI-Bamberg/Arbeiten/Datensatz/Selfmade/4_Maria_0710/2024_07_09_10_43_56/IMG_0012.jpeg: 640x480 1 wood_knot, 294.6ms\n",
      "Speed: 2.2ms preprocess, 294.6ms inference, 0.4ms postprocess per image at shape (1, 3, 640, 480)\n",
      "Image saved: /Users/holmes/Documents/UNI-Bamberg/Arbeiten/Datensatz/Selfmade/4_Maria_0710/2024_07_09_10_43_56/test/IMG_0012.jpeg\n",
      "\n",
      "image 1/1 /Users/holmes/Documents/UNI-Bamberg/Arbeiten/Datensatz/Selfmade/4_Maria_0710/2024_07_09_10_43_56/IMG_0157.jpeg: 640x480 1 wood_dowel, 2 wood_knots, 304.8ms\n",
      "Speed: 2.4ms preprocess, 304.8ms inference, 0.4ms postprocess per image at shape (1, 3, 640, 480)\n",
      "Image saved: /Users/holmes/Documents/UNI-Bamberg/Arbeiten/Datensatz/Selfmade/4_Maria_0710/2024_07_09_10_43_56/test/IMG_0157.jpeg\n",
      "\n",
      "image 1/1 /Users/holmes/Documents/UNI-Bamberg/Arbeiten/Datensatz/Selfmade/4_Maria_0710/2024_07_09_10_43_56/IMG_0004.jpeg: 640x480 (no detections), 296.9ms\n",
      "Speed: 2.4ms preprocess, 296.9ms inference, 0.2ms postprocess per image at shape (1, 3, 640, 480)\n",
      "Image saved: /Users/holmes/Documents/UNI-Bamberg/Arbeiten/Datensatz/Selfmade/4_Maria_0710/2024_07_09_10_43_56/test/IMG_0004.jpeg\n",
      "\n",
      "image 1/1 /Users/holmes/Documents/UNI-Bamberg/Arbeiten/Datensatz/Selfmade/4_Maria_0710/2024_07_09_10_43_56/IMG_0141.jpeg: 640x480 (no detections), 295.2ms\n",
      "Speed: 2.3ms preprocess, 295.2ms inference, 0.2ms postprocess per image at shape (1, 3, 640, 480)\n",
      "Image saved: /Users/holmes/Documents/UNI-Bamberg/Arbeiten/Datensatz/Selfmade/4_Maria_0710/2024_07_09_10_43_56/test/IMG_0141.jpeg\n",
      "\n",
      "image 1/1 /Users/holmes/Documents/UNI-Bamberg/Arbeiten/Datensatz/Selfmade/4_Maria_0710/2024_07_09_10_43_56/IMG_0053.jpeg: 640x480 1 wood_knot, 296.7ms\n",
      "Speed: 2.4ms preprocess, 296.7ms inference, 0.4ms postprocess per image at shape (1, 3, 640, 480)\n",
      "Image saved: /Users/holmes/Documents/UNI-Bamberg/Arbeiten/Datensatz/Selfmade/4_Maria_0710/2024_07_09_10_43_56/test/IMG_0053.jpeg\n",
      "\n",
      "image 1/1 /Users/holmes/Documents/UNI-Bamberg/Arbeiten/Datensatz/Selfmade/4_Maria_0710/2024_07_09_10_43_56/IMG_0116.jpeg: 640x480 1 wood_knot, 294.2ms\n",
      "Speed: 4.6ms preprocess, 294.2ms inference, 0.4ms postprocess per image at shape (1, 3, 640, 480)\n",
      "Image saved: /Users/holmes/Documents/UNI-Bamberg/Arbeiten/Datensatz/Selfmade/4_Maria_0710/2024_07_09_10_43_56/test/IMG_0116.jpeg\n",
      "\n",
      "image 1/1 /Users/holmes/Documents/UNI-Bamberg/Arbeiten/Datensatz/Selfmade/4_Maria_0710/2024_07_09_10_43_56/IMG_0244.jpeg: 640x480 (no detections), 310.0ms\n",
      "Speed: 2.2ms preprocess, 310.0ms inference, 0.3ms postprocess per image at shape (1, 3, 640, 480)\n",
      "Image saved: /Users/holmes/Documents/UNI-Bamberg/Arbeiten/Datensatz/Selfmade/4_Maria_0710/2024_07_09_10_43_56/test/IMG_0244.jpeg\n",
      "\n",
      "image 1/1 /Users/holmes/Documents/UNI-Bamberg/Arbeiten/Datensatz/Selfmade/4_Maria_0710/2024_07_09_10_43_56/IMG_0182.jpeg: 640x480 (no detections), 296.6ms\n",
      "Speed: 2.6ms preprocess, 296.6ms inference, 0.2ms postprocess per image at shape (1, 3, 640, 480)\n",
      "Image saved: /Users/holmes/Documents/UNI-Bamberg/Arbeiten/Datensatz/Selfmade/4_Maria_0710/2024_07_09_10_43_56/test/IMG_0182.jpeg\n",
      "\n",
      "image 1/1 /Users/holmes/Documents/UNI-Bamberg/Arbeiten/Datensatz/Selfmade/4_Maria_0710/2024_07_09_10_43_56/IMG_0028.jpeg: 640x480 (no detections), 293.3ms\n",
      "Speed: 2.8ms preprocess, 293.3ms inference, 0.2ms postprocess per image at shape (1, 3, 640, 480)\n",
      "Image saved: /Users/holmes/Documents/UNI-Bamberg/Arbeiten/Datensatz/Selfmade/4_Maria_0710/2024_07_09_10_43_56/test/IMG_0028.jpeg\n",
      "\n",
      "image 1/1 /Users/holmes/Documents/UNI-Bamberg/Arbeiten/Datensatz/Selfmade/4_Maria_0710/2024_07_09_10_43_56/IMG_0213.jpeg: 640x480 (no detections), 296.8ms\n",
      "Speed: 2.8ms preprocess, 296.8ms inference, 0.2ms postprocess per image at shape (1, 3, 640, 480)\n",
      "Image saved: /Users/holmes/Documents/UNI-Bamberg/Arbeiten/Datensatz/Selfmade/4_Maria_0710/2024_07_09_10_43_56/test/IMG_0213.jpeg\n",
      "\n",
      "image 1/1 /Users/holmes/Documents/UNI-Bamberg/Arbeiten/Datensatz/Selfmade/4_Maria_0710/2024_07_09_10_43_56/IMG_0090.jpeg: 640x480 (no detections), 300.9ms\n",
      "Speed: 2.1ms preprocess, 300.9ms inference, 0.2ms postprocess per image at shape (1, 3, 640, 480)\n",
      "Image saved: /Users/holmes/Documents/UNI-Bamberg/Arbeiten/Datensatz/Selfmade/4_Maria_0710/2024_07_09_10_43_56/test/IMG_0090.jpeg\n",
      "\n",
      "image 1/1 /Users/holmes/Documents/UNI-Bamberg/Arbeiten/Datensatz/Selfmade/4_Maria_0710/2024_07_09_10_43_56/IMG_0205.jpeg: 640x480 (no detections), 303.7ms\n",
      "Speed: 2.5ms preprocess, 303.7ms inference, 0.2ms postprocess per image at shape (1, 3, 640, 480)\n",
      "Image saved: /Users/holmes/Documents/UNI-Bamberg/Arbeiten/Datensatz/Selfmade/4_Maria_0710/2024_07_09_10_43_56/test/IMG_0205.jpeg\n",
      "\n",
      "image 1/1 /Users/holmes/Documents/UNI-Bamberg/Arbeiten/Datensatz/Selfmade/4_Maria_0710/2024_07_09_10_43_56/IMG_0086.jpeg: 640x480 (no detections), 302.6ms\n",
      "Speed: 2.1ms preprocess, 302.6ms inference, 0.2ms postprocess per image at shape (1, 3, 640, 480)\n",
      "Image saved: /Users/holmes/Documents/UNI-Bamberg/Arbeiten/Datensatz/Selfmade/4_Maria_0710/2024_07_09_10_43_56/test/IMG_0086.jpeg\n",
      "\n",
      "image 1/1 /Users/holmes/Documents/UNI-Bamberg/Arbeiten/Datensatz/Selfmade/4_Maria_0710/2024_07_09_10_43_56/IMG_0069.jpeg: 640x480 1 wood_knot, 303.8ms\n",
      "Speed: 2.4ms preprocess, 303.8ms inference, 0.4ms postprocess per image at shape (1, 3, 640, 480)\n",
      "Image saved: /Users/holmes/Documents/UNI-Bamberg/Arbeiten/Datensatz/Selfmade/4_Maria_0710/2024_07_09_10_43_56/test/IMG_0069.jpeg\n",
      "\n",
      "image 1/1 /Users/holmes/Documents/UNI-Bamberg/Arbeiten/Datensatz/Selfmade/4_Maria_0710/2024_07_09_10_43_56/IMG_0194.jpeg: 640x480 (no detections), 304.6ms\n",
      "Speed: 2.1ms preprocess, 304.6ms inference, 0.2ms postprocess per image at shape (1, 3, 640, 480)\n",
      "Image saved: /Users/holmes/Documents/UNI-Bamberg/Arbeiten/Datensatz/Selfmade/4_Maria_0710/2024_07_09_10_43_56/test/IMG_0194.jpeg\n",
      "\n",
      "image 1/1 /Users/holmes/Documents/UNI-Bamberg/Arbeiten/Datensatz/Selfmade/4_Maria_0710/2024_07_09_10_43_56/IMG_0103.jpeg: 640x480 (no detections), 300.8ms\n",
      "Speed: 2.5ms preprocess, 300.8ms inference, 0.2ms postprocess per image at shape (1, 3, 640, 480)\n",
      "Image saved: /Users/holmes/Documents/UNI-Bamberg/Arbeiten/Datensatz/Selfmade/4_Maria_0710/2024_07_09_10_43_56/test/IMG_0103.jpeg\n",
      "\n",
      "image 1/1 /Users/holmes/Documents/UNI-Bamberg/Arbeiten/Datensatz/Selfmade/4_Maria_0710/2024_07_09_10_43_56/IMG_0046.jpeg: 640x480 1 wood_knot, 307.7ms\n",
      "Speed: 4.1ms preprocess, 307.7ms inference, 0.3ms postprocess per image at shape (1, 3, 640, 480)\n",
      "Image saved: /Users/holmes/Documents/UNI-Bamberg/Arbeiten/Datensatz/Selfmade/4_Maria_0710/2024_07_09_10_43_56/test/IMG_0046.jpeg\n",
      "\n",
      "image 1/1 /Users/holmes/Documents/UNI-Bamberg/Arbeiten/Datensatz/Selfmade/4_Maria_0710/2024_07_09_10_43_56/IMG_0154.jpeg: 640x480 (no detections), 297.4ms\n",
      "Speed: 2.5ms preprocess, 297.4ms inference, 0.2ms postprocess per image at shape (1, 3, 640, 480)\n",
      "Image saved: /Users/holmes/Documents/UNI-Bamberg/Arbeiten/Datensatz/Selfmade/4_Maria_0710/2024_07_09_10_43_56/test/IMG_0154.jpeg\n",
      "\n",
      "image 1/1 /Users/holmes/Documents/UNI-Bamberg/Arbeiten/Datensatz/Selfmade/4_Maria_0710/2024_07_09_10_43_56/IMG_0011.jpeg: 640x480 2 wood_knots, 301.1ms\n",
      "Speed: 2.4ms preprocess, 301.1ms inference, 0.4ms postprocess per image at shape (1, 3, 640, 480)\n",
      "Image saved: /Users/holmes/Documents/UNI-Bamberg/Arbeiten/Datensatz/Selfmade/4_Maria_0710/2024_07_09_10_43_56/test/IMG_0011.jpeg\n",
      "\n",
      "image 1/1 /Users/holmes/Documents/UNI-Bamberg/Arbeiten/Datensatz/Selfmade/4_Maria_0710/2024_07_09_10_43_56/IMG_0142.jpeg: 640x480 (no detections), 299.1ms\n",
      "Speed: 2.1ms preprocess, 299.1ms inference, 0.2ms postprocess per image at shape (1, 3, 640, 480)\n",
      "Image saved: /Users/holmes/Documents/UNI-Bamberg/Arbeiten/Datensatz/Selfmade/4_Maria_0710/2024_07_09_10_43_56/test/IMG_0142.jpeg\n",
      "\n",
      "image 1/1 /Users/holmes/Documents/UNI-Bamberg/Arbeiten/Datensatz/Selfmade/4_Maria_0710/2024_07_09_10_43_56/IMG_0007.jpeg: 640x480 1 wood_dowel, 1 wood_knot, 326.7ms\n",
      "Speed: 2.1ms preprocess, 326.7ms inference, 0.4ms postprocess per image at shape (1, 3, 640, 480)\n",
      "Image saved: /Users/holmes/Documents/UNI-Bamberg/Arbeiten/Datensatz/Selfmade/4_Maria_0710/2024_07_09_10_43_56/test/IMG_0007.jpeg\n",
      "\n",
      "image 1/1 /Users/holmes/Documents/UNI-Bamberg/Arbeiten/Datensatz/Selfmade/4_Maria_0710/2024_07_09_10_43_56/IMG_0115.jpeg: 640x480 (no detections), 291.2ms\n",
      "Speed: 2.6ms preprocess, 291.2ms inference, 0.2ms postprocess per image at shape (1, 3, 640, 480)\n",
      "Image saved: /Users/holmes/Documents/UNI-Bamberg/Arbeiten/Datensatz/Selfmade/4_Maria_0710/2024_07_09_10_43_56/test/IMG_0115.jpeg\n",
      "\n",
      "image 1/1 /Users/holmes/Documents/UNI-Bamberg/Arbeiten/Datensatz/Selfmade/4_Maria_0710/2024_07_09_10_43_56/IMG_0050.jpeg: 640x480 (no detections), 298.9ms\n",
      "Speed: 3.5ms preprocess, 298.9ms inference, 0.2ms postprocess per image at shape (1, 3, 640, 480)\n",
      "Image saved: /Users/holmes/Documents/UNI-Bamberg/Arbeiten/Datensatz/Selfmade/4_Maria_0710/2024_07_09_10_43_56/test/IMG_0050.jpeg\n",
      "\n",
      "image 1/1 /Users/holmes/Documents/UNI-Bamberg/Arbeiten/Datensatz/Selfmade/4_Maria_0710/2024_07_09_10_43_56/IMG_0247.jpeg: 640x480 (no detections), 317.8ms\n",
      "Speed: 2.5ms preprocess, 317.8ms inference, 0.2ms postprocess per image at shape (1, 3, 640, 480)\n",
      "Image saved: /Users/holmes/Documents/UNI-Bamberg/Arbeiten/Datensatz/Selfmade/4_Maria_0710/2024_07_09_10_43_56/test/IMG_0247.jpeg\n",
      "\n",
      "image 1/1 /Users/holmes/Documents/UNI-Bamberg/Arbeiten/Datensatz/Selfmade/4_Maria_0710/2024_07_09_10_43_56/IMG_0181.jpeg: 640x480 (no detections), 305.5ms\n",
      "Speed: 2.1ms preprocess, 305.5ms inference, 0.2ms postprocess per image at shape (1, 3, 640, 480)\n",
      "Image saved: /Users/holmes/Documents/UNI-Bamberg/Arbeiten/Datensatz/Selfmade/4_Maria_0710/2024_07_09_10_43_56/test/IMG_0181.jpeg\n",
      "\n",
      "image 1/1 /Users/holmes/Documents/UNI-Bamberg/Arbeiten/Datensatz/Selfmade/4_Maria_0710/2024_07_09_10_43_56/IMG_0210.jpeg: 640x480 3 wood_knots, 303.3ms\n",
      "Speed: 2.5ms preprocess, 303.3ms inference, 0.7ms postprocess per image at shape (1, 3, 640, 480)\n",
      "Image saved: /Users/holmes/Documents/UNI-Bamberg/Arbeiten/Datensatz/Selfmade/4_Maria_0710/2024_07_09_10_43_56/test/IMG_0210.jpeg\n",
      "\n",
      "image 1/1 /Users/holmes/Documents/UNI-Bamberg/Arbeiten/Datensatz/Selfmade/4_Maria_0710/2024_07_09_10_43_56/IMG_0139.jpeg: 640x480 (no detections), 297.6ms\n",
      "Speed: 2.2ms preprocess, 297.6ms inference, 0.2ms postprocess per image at shape (1, 3, 640, 480)\n",
      "Image saved: /Users/holmes/Documents/UNI-Bamberg/Arbeiten/Datensatz/Selfmade/4_Maria_0710/2024_07_09_10_43_56/test/IMG_0139.jpeg\n",
      "\n",
      "image 1/1 /Users/holmes/Documents/UNI-Bamberg/Arbeiten/Datensatz/Selfmade/4_Maria_0710/2024_07_09_10_43_56/IMG_0093.jpeg: 640x480 2 wood_knots, 309.4ms\n",
      "Speed: 3.2ms preprocess, 309.4ms inference, 0.6ms postprocess per image at shape (1, 3, 640, 480)\n",
      "Image saved: /Users/holmes/Documents/UNI-Bamberg/Arbeiten/Datensatz/Selfmade/4_Maria_0710/2024_07_09_10_43_56/test/IMG_0093.jpeg\n",
      "\n",
      "image 1/1 /Users/holmes/Documents/UNI-Bamberg/Arbeiten/Datensatz/Selfmade/4_Maria_0710/2024_07_09_10_43_56/IMG_0206.jpeg: 640x480 (no detections), 303.1ms\n",
      "Speed: 2.1ms preprocess, 303.1ms inference, 0.5ms postprocess per image at shape (1, 3, 640, 480)\n",
      "Image saved: /Users/holmes/Documents/UNI-Bamberg/Arbeiten/Datensatz/Selfmade/4_Maria_0710/2024_07_09_10_43_56/test/IMG_0206.jpeg\n",
      "\n",
      "image 1/1 /Users/holmes/Documents/UNI-Bamberg/Arbeiten/Datensatz/Selfmade/4_Maria_0710/2024_07_09_10_43_56/IMG_0085.jpeg: 640x480 (no detections), 292.6ms\n",
      "Speed: 2.4ms preprocess, 292.6ms inference, 0.3ms postprocess per image at shape (1, 3, 640, 480)\n",
      "Image saved: /Users/holmes/Documents/UNI-Bamberg/Arbeiten/Datensatz/Selfmade/4_Maria_0710/2024_07_09_10_43_56/test/IMG_0085.jpeg\n",
      "\n",
      "image 1/1 /Users/holmes/Documents/UNI-Bamberg/Arbeiten/Datensatz/Selfmade/4_Maria_0710/2024_07_09_10_43_56/IMG_0197.jpeg: 640x480 (no detections), 301.9ms\n",
      "Speed: 2.2ms preprocess, 301.9ms inference, 0.2ms postprocess per image at shape (1, 3, 640, 480)\n",
      "Image saved: /Users/holmes/Documents/UNI-Bamberg/Arbeiten/Datensatz/Selfmade/4_Maria_0710/2024_07_09_10_43_56/test/IMG_0197.jpeg\n",
      "\n",
      "image 1/1 /Users/holmes/Documents/UNI-Bamberg/Arbeiten/Datensatz/Selfmade/4_Maria_0710/2024_07_09_10_43_56/IMG_0178.jpeg: 640x480 (no detections), 298.2ms\n",
      "Speed: 2.8ms preprocess, 298.2ms inference, 0.2ms postprocess per image at shape (1, 3, 640, 480)\n",
      "Image saved: /Users/holmes/Documents/UNI-Bamberg/Arbeiten/Datensatz/Selfmade/4_Maria_0710/2024_07_09_10_43_56/test/IMG_0178.jpeg\n",
      "\n",
      "image 1/1 /Users/holmes/Documents/UNI-Bamberg/Arbeiten/Datensatz/Selfmade/4_Maria_0710/2024_07_09_10_43_56/IMG_0226.jpeg: 640x480 1 wood_knot, 294.5ms\n",
      "Speed: 2.4ms preprocess, 294.5ms inference, 0.4ms postprocess per image at shape (1, 3, 640, 480)\n",
      "Image saved: /Users/holmes/Documents/UNI-Bamberg/Arbeiten/Datensatz/Selfmade/4_Maria_0710/2024_07_09_10_43_56/test/IMG_0226.jpeg\n",
      "\n",
      "image 1/1 /Users/holmes/Documents/UNI-Bamberg/Arbeiten/Datensatz/Selfmade/4_Maria_0710/2024_07_09_10_43_56/IMG_0158.jpeg: 640x480 1 wood_dowel, 303.5ms\n",
      "Speed: 2.2ms preprocess, 303.5ms inference, 0.4ms postprocess per image at shape (1, 3, 640, 480)\n",
      "Image saved: /Users/holmes/Documents/UNI-Bamberg/Arbeiten/Datensatz/Selfmade/4_Maria_0710/2024_07_09_10_43_56/test/IMG_0158.jpeg\n",
      "\n",
      "image 1/1 /Users/holmes/Documents/UNI-Bamberg/Arbeiten/Datensatz/Selfmade/4_Maria_0710/2024_07_09_10_43_56/IMG_0119.jpeg: 640x480 1 wood_knot, 305.3ms\n",
      "Speed: 2.1ms preprocess, 305.3ms inference, 0.7ms postprocess per image at shape (1, 3, 640, 480)\n",
      "Image saved: /Users/holmes/Documents/UNI-Bamberg/Arbeiten/Datensatz/Selfmade/4_Maria_0710/2024_07_09_10_43_56/test/IMG_0119.jpeg\n",
      "\n",
      "image 1/1 /Users/holmes/Documents/UNI-Bamberg/Arbeiten/Datensatz/Selfmade/4_Maria_0710/2024_07_09_10_43_56/IMG_0230.jpeg: 640x480 1 wood_knot, 290.4ms\n",
      "Speed: 2.3ms preprocess, 290.4ms inference, 0.4ms postprocess per image at shape (1, 3, 640, 480)\n",
      "Image saved: /Users/holmes/Documents/UNI-Bamberg/Arbeiten/Datensatz/Selfmade/4_Maria_0710/2024_07_09_10_43_56/test/IMG_0230.jpeg\n",
      "\n",
      "image 1/1 /Users/holmes/Documents/UNI-Bamberg/Arbeiten/Datensatz/Selfmade/4_Maria_0710/2024_07_09_10_43_56/IMG_0027.jpeg: 640x480 (no detections), 303.0ms\n",
      "Speed: 2.3ms preprocess, 303.0ms inference, 0.2ms postprocess per image at shape (1, 3, 640, 480)\n",
      "Image saved: /Users/holmes/Documents/UNI-Bamberg/Arbeiten/Datensatz/Selfmade/4_Maria_0710/2024_07_09_10_43_56/test/IMG_0027.jpeg\n",
      "\n",
      "image 1/1 /Users/holmes/Documents/UNI-Bamberg/Arbeiten/Datensatz/Selfmade/4_Maria_0710/2024_07_09_10_43_56/IMG_0162.jpeg: 640x480 1 wood_knot, 295.7ms\n",
      "Speed: 2.2ms preprocess, 295.7ms inference, 0.4ms postprocess per image at shape (1, 3, 640, 480)\n",
      "Image saved: /Users/holmes/Documents/UNI-Bamberg/Arbeiten/Datensatz/Selfmade/4_Maria_0710/2024_07_09_10_43_56/test/IMG_0162.jpeg\n",
      "\n",
      "image 1/1 /Users/holmes/Documents/UNI-Bamberg/Arbeiten/Datensatz/Selfmade/4_Maria_0710/2024_07_09_10_43_56/IMG_0070.jpeg: 640x480 (no detections), 297.9ms\n",
      "Speed: 2.6ms preprocess, 297.9ms inference, 0.2ms postprocess per image at shape (1, 3, 640, 480)\n",
      "Image saved: /Users/holmes/Documents/UNI-Bamberg/Arbeiten/Datensatz/Selfmade/4_Maria_0710/2024_07_09_10_43_56/test/IMG_0070.jpeg\n",
      "\n",
      "image 1/1 /Users/holmes/Documents/UNI-Bamberg/Arbeiten/Datensatz/Selfmade/4_Maria_0710/2024_07_09_10_43_56/IMG_0135.jpeg: 640x480 (no detections), 321.6ms\n",
      "Speed: 2.5ms preprocess, 321.6ms inference, 0.5ms postprocess per image at shape (1, 3, 640, 480)\n",
      "Image saved: /Users/holmes/Documents/UNI-Bamberg/Arbeiten/Datensatz/Selfmade/4_Maria_0710/2024_07_09_10_43_56/test/IMG_0135.jpeg\n",
      "\n",
      "image 1/1 /Users/holmes/Documents/UNI-Bamberg/Arbeiten/Datensatz/Selfmade/4_Maria_0710/2024_07_09_10_43_56/IMG_0066.jpeg: 640x480 1 wood_knot, 304.9ms\n",
      "Speed: 2.2ms preprocess, 304.9ms inference, 0.4ms postprocess per image at shape (1, 3, 640, 480)\n",
      "Image saved: /Users/holmes/Documents/UNI-Bamberg/Arbeiten/Datensatz/Selfmade/4_Maria_0710/2024_07_09_10_43_56/test/IMG_0066.jpeg\n",
      "\n",
      "image 1/1 /Users/holmes/Documents/UNI-Bamberg/Arbeiten/Datensatz/Selfmade/4_Maria_0710/2024_07_09_10_43_56/IMG_0123.jpeg: 640x480 1 wood_knot, 292.4ms\n",
      "Speed: 2.2ms preprocess, 292.4ms inference, 0.4ms postprocess per image at shape (1, 3, 640, 480)\n",
      "Image saved: /Users/holmes/Documents/UNI-Bamberg/Arbeiten/Datensatz/Selfmade/4_Maria_0710/2024_07_09_10_43_56/test/IMG_0123.jpeg\n",
      "\n",
      "image 1/1 /Users/holmes/Documents/UNI-Bamberg/Arbeiten/Datensatz/Selfmade/4_Maria_0710/2024_07_09_10_43_56/IMG_0089.jpeg: 640x480 (no detections), 302.1ms\n",
      "Speed: 2.2ms preprocess, 302.1ms inference, 0.2ms postprocess per image at shape (1, 3, 640, 480)\n",
      "Image saved: /Users/holmes/Documents/UNI-Bamberg/Arbeiten/Datensatz/Selfmade/4_Maria_0710/2024_07_09_10_43_56/test/IMG_0089.jpeg\n",
      "\n",
      "image 1/1 /Users/holmes/Documents/UNI-Bamberg/Arbeiten/Datensatz/Selfmade/4_Maria_0710/2024_07_09_10_43_56/IMG_0031.jpeg: 640x480 (no detections), 304.6ms\n",
      "Speed: 2.1ms preprocess, 304.6ms inference, 0.2ms postprocess per image at shape (1, 3, 640, 480)\n",
      "Image saved: /Users/holmes/Documents/UNI-Bamberg/Arbeiten/Datensatz/Selfmade/4_Maria_0710/2024_07_09_10_43_56/test/IMG_0031.jpeg\n",
      "\n",
      "image 1/1 /Users/holmes/Documents/UNI-Bamberg/Arbeiten/Datensatz/Selfmade/4_Maria_0710/2024_07_09_10_43_56/IMG_0174.jpeg: 640x480 (no detections), 296.7ms\n",
      "Speed: 2.4ms preprocess, 296.7ms inference, 0.3ms postprocess per image at shape (1, 3, 640, 480)\n",
      "Image saved: /Users/holmes/Documents/UNI-Bamberg/Arbeiten/Datensatz/Selfmade/4_Maria_0710/2024_07_09_10_43_56/test/IMG_0174.jpeg\n",
      "\n",
      "image 1/1 /Users/holmes/Documents/UNI-Bamberg/Arbeiten/Datensatz/Selfmade/4_Maria_0710/2024_07_09_10_43_56/IMG_0030.jpeg: 640x480 (no detections), 303.0ms\n",
      "Speed: 2.5ms preprocess, 303.0ms inference, 0.4ms postprocess per image at shape (1, 3, 640, 480)\n",
      "Image saved: /Users/holmes/Documents/UNI-Bamberg/Arbeiten/Datensatz/Selfmade/4_Maria_0710/2024_07_09_10_43_56/test/IMG_0030.jpeg\n",
      "\n",
      "image 1/1 /Users/holmes/Documents/UNI-Bamberg/Arbeiten/Datensatz/Selfmade/4_Maria_0710/2024_07_09_10_43_56/IMG_0175.jpeg: 640x480 (no detections), 301.0ms\n",
      "Speed: 2.1ms preprocess, 301.0ms inference, 0.2ms postprocess per image at shape (1, 3, 640, 480)\n",
      "Image saved: /Users/holmes/Documents/UNI-Bamberg/Arbeiten/Datensatz/Selfmade/4_Maria_0710/2024_07_09_10_43_56/test/IMG_0175.jpeg\n",
      "\n",
      "image 1/1 /Users/holmes/Documents/UNI-Bamberg/Arbeiten/Datensatz/Selfmade/4_Maria_0710/2024_07_09_10_43_56/IMG_0067.jpeg: 640x480 2 wood_knots, 308.1ms\n",
      "Speed: 2.5ms preprocess, 308.1ms inference, 0.8ms postprocess per image at shape (1, 3, 640, 480)\n",
      "Image saved: /Users/holmes/Documents/UNI-Bamberg/Arbeiten/Datensatz/Selfmade/4_Maria_0710/2024_07_09_10_43_56/test/IMG_0067.jpeg\n",
      "\n",
      "image 1/1 /Users/holmes/Documents/UNI-Bamberg/Arbeiten/Datensatz/Selfmade/4_Maria_0710/2024_07_09_10_43_56/IMG_0122.jpeg: 640x480 1 wood_knot, 299.1ms\n",
      "Speed: 2.1ms preprocess, 299.1ms inference, 0.4ms postprocess per image at shape (1, 3, 640, 480)\n",
      "Image saved: /Users/holmes/Documents/UNI-Bamberg/Arbeiten/Datensatz/Selfmade/4_Maria_0710/2024_07_09_10_43_56/test/IMG_0122.jpeg\n",
      "\n",
      "image 1/1 /Users/holmes/Documents/UNI-Bamberg/Arbeiten/Datensatz/Selfmade/4_Maria_0710/2024_07_09_10_43_56/IMG_0088.jpeg: 640x480 (no detections), 293.2ms\n",
      "Speed: 2.2ms preprocess, 293.2ms inference, 0.3ms postprocess per image at shape (1, 3, 640, 480)\n",
      "Image saved: /Users/holmes/Documents/UNI-Bamberg/Arbeiten/Datensatz/Selfmade/4_Maria_0710/2024_07_09_10_43_56/test/IMG_0088.jpeg\n",
      "\n",
      "image 1/1 /Users/holmes/Documents/UNI-Bamberg/Arbeiten/Datensatz/Selfmade/4_Maria_0710/2024_07_09_10_43_56/IMG_0071.jpeg: 640x480 (no detections), 303.4ms\n",
      "Speed: 2.1ms preprocess, 303.4ms inference, 0.2ms postprocess per image at shape (1, 3, 640, 480)\n",
      "Image saved: /Users/holmes/Documents/UNI-Bamberg/Arbeiten/Datensatz/Selfmade/4_Maria_0710/2024_07_09_10_43_56/test/IMG_0071.jpeg\n",
      "\n",
      "image 1/1 /Users/holmes/Documents/UNI-Bamberg/Arbeiten/Datensatz/Selfmade/4_Maria_0710/2024_07_09_10_43_56/IMG_0134.jpeg: 640x480 (no detections), 293.8ms\n",
      "Speed: 2.1ms preprocess, 293.8ms inference, 0.2ms postprocess per image at shape (1, 3, 640, 480)\n",
      "Image saved: /Users/holmes/Documents/UNI-Bamberg/Arbeiten/Datensatz/Selfmade/4_Maria_0710/2024_07_09_10_43_56/test/IMG_0134.jpeg\n",
      "\n",
      "image 1/1 /Users/holmes/Documents/UNI-Bamberg/Arbeiten/Datensatz/Selfmade/4_Maria_0710/2024_07_09_10_43_56/IMG_0026.jpeg: 640x480 2 wood_knots, 298.8ms\n",
      "Speed: 2.3ms preprocess, 298.8ms inference, 0.4ms postprocess per image at shape (1, 3, 640, 480)\n",
      "Image saved: /Users/holmes/Documents/UNI-Bamberg/Arbeiten/Datensatz/Selfmade/4_Maria_0710/2024_07_09_10_43_56/test/IMG_0026.jpeg\n",
      "\n",
      "image 1/1 /Users/holmes/Documents/UNI-Bamberg/Arbeiten/Datensatz/Selfmade/4_Maria_0710/2024_07_09_10_43_56/IMG_0163.jpeg: 640x480 (no detections), 300.1ms\n",
      "Speed: 2.9ms preprocess, 300.1ms inference, 0.2ms postprocess per image at shape (1, 3, 640, 480)\n",
      "Image saved: /Users/holmes/Documents/UNI-Bamberg/Arbeiten/Datensatz/Selfmade/4_Maria_0710/2024_07_09_10_43_56/test/IMG_0163.jpeg\n",
      "\n",
      "image 1/1 /Users/holmes/Documents/UNI-Bamberg/Arbeiten/Datensatz/Selfmade/4_Maria_0710/2024_07_09_10_43_56/IMG_0231.jpeg: 640x480 1 wood_dowel, 2 wood_knots, 301.2ms\n",
      "Speed: 2.2ms preprocess, 301.2ms inference, 0.4ms postprocess per image at shape (1, 3, 640, 480)\n",
      "Image saved: /Users/holmes/Documents/UNI-Bamberg/Arbeiten/Datensatz/Selfmade/4_Maria_0710/2024_07_09_10_43_56/test/IMG_0231.jpeg\n",
      "\n",
      "image 1/1 /Users/holmes/Documents/UNI-Bamberg/Arbeiten/Datensatz/Selfmade/4_Maria_0710/2024_07_09_10_43_56/IMG_0118.jpeg: 640x480 (no detections), 298.5ms\n",
      "Speed: 2.3ms preprocess, 298.5ms inference, 0.2ms postprocess per image at shape (1, 3, 640, 480)\n",
      "Image saved: /Users/holmes/Documents/UNI-Bamberg/Arbeiten/Datensatz/Selfmade/4_Maria_0710/2024_07_09_10_43_56/test/IMG_0118.jpeg\n",
      "\n",
      "image 1/1 /Users/holmes/Documents/UNI-Bamberg/Arbeiten/Datensatz/Selfmade/4_Maria_0710/2024_07_09_10_43_56/IMG_0159.jpeg: 640x480 1 wood_knot, 299.6ms\n",
      "Speed: 2.1ms preprocess, 299.6ms inference, 0.4ms postprocess per image at shape (1, 3, 640, 480)\n",
      "Image saved: /Users/holmes/Documents/UNI-Bamberg/Arbeiten/Datensatz/Selfmade/4_Maria_0710/2024_07_09_10_43_56/test/IMG_0159.jpeg\n",
      "\n",
      "image 1/1 /Users/holmes/Documents/UNI-Bamberg/Arbeiten/Datensatz/Selfmade/4_Maria_0710/2024_07_09_10_43_56/IMG_0227.jpeg: 640x480 (no detections), 299.7ms\n",
      "Speed: 2.1ms preprocess, 299.7ms inference, 0.2ms postprocess per image at shape (1, 3, 640, 480)\n",
      "Image saved: /Users/holmes/Documents/UNI-Bamberg/Arbeiten/Datensatz/Selfmade/4_Maria_0710/2024_07_09_10_43_56/test/IMG_0227.jpeg\n",
      "\n",
      "image 1/1 /Users/holmes/Documents/UNI-Bamberg/Arbeiten/Datensatz/Selfmade/4_Maria_0710/2024_07_09_10_43_56/IMG_0196.jpeg: 640x480 (no detections), 299.4ms\n",
      "Speed: 2.1ms preprocess, 299.4ms inference, 0.2ms postprocess per image at shape (1, 3, 640, 480)\n",
      "Image saved: /Users/holmes/Documents/UNI-Bamberg/Arbeiten/Datensatz/Selfmade/4_Maria_0710/2024_07_09_10_43_56/test/IMG_0196.jpeg\n",
      "\n",
      "image 1/1 /Users/holmes/Documents/UNI-Bamberg/Arbeiten/Datensatz/Selfmade/4_Maria_0710/2024_07_09_10_43_56/IMG_0179.jpeg: 640x480 (no detections), 302.1ms\n",
      "Speed: 2.3ms preprocess, 302.1ms inference, 0.2ms postprocess per image at shape (1, 3, 640, 480)\n",
      "Image saved: /Users/holmes/Documents/UNI-Bamberg/Arbeiten/Datensatz/Selfmade/4_Maria_0710/2024_07_09_10_43_56/test/IMG_0179.jpeg\n",
      "\n",
      "image 1/1 /Users/holmes/Documents/UNI-Bamberg/Arbeiten/Datensatz/Selfmade/4_Maria_0710/2024_07_09_10_43_56/IMG_0250.jpeg: 640x480 1 wood_knot, 302.0ms\n",
      "Speed: 2.1ms preprocess, 302.0ms inference, 0.4ms postprocess per image at shape (1, 3, 640, 480)\n",
      "Image saved: /Users/holmes/Documents/UNI-Bamberg/Arbeiten/Datensatz/Selfmade/4_Maria_0710/2024_07_09_10_43_56/test/IMG_0250.jpeg\n",
      "\n",
      "image 1/1 /Users/holmes/Documents/UNI-Bamberg/Arbeiten/Datensatz/Selfmade/4_Maria_0710/2024_07_09_10_43_56/IMG_0084.jpeg: 640x480 (no detections), 300.3ms\n",
      "Speed: 2.1ms preprocess, 300.3ms inference, 0.2ms postprocess per image at shape (1, 3, 640, 480)\n",
      "Image saved: /Users/holmes/Documents/UNI-Bamberg/Arbeiten/Datensatz/Selfmade/4_Maria_0710/2024_07_09_10_43_56/test/IMG_0084.jpeg\n",
      "\n",
      "image 1/1 /Users/holmes/Documents/UNI-Bamberg/Arbeiten/Datensatz/Selfmade/4_Maria_0710/2024_07_09_10_43_56/IMG_0207.jpeg: 640x480 1 wood_knot, 301.9ms\n",
      "Speed: 2.2ms preprocess, 301.9ms inference, 0.4ms postprocess per image at shape (1, 3, 640, 480)\n",
      "Image saved: /Users/holmes/Documents/UNI-Bamberg/Arbeiten/Datensatz/Selfmade/4_Maria_0710/2024_07_09_10_43_56/test/IMG_0207.jpeg\n",
      "\n",
      "image 1/1 /Users/holmes/Documents/UNI-Bamberg/Arbeiten/Datensatz/Selfmade/4_Maria_0710/2024_07_09_10_43_56/IMG_0138.jpeg: 640x480 1 wood_dowel, 305.9ms\n",
      "Speed: 2.3ms preprocess, 305.9ms inference, 0.7ms postprocess per image at shape (1, 3, 640, 480)\n",
      "Image saved: /Users/holmes/Documents/UNI-Bamberg/Arbeiten/Datensatz/Selfmade/4_Maria_0710/2024_07_09_10_43_56/test/IMG_0138.jpeg\n",
      "\n",
      "image 1/1 /Users/holmes/Documents/UNI-Bamberg/Arbeiten/Datensatz/Selfmade/4_Maria_0710/2024_07_09_10_43_56/IMG_0092.jpeg: 640x480 3 wood_knots, 302.4ms\n",
      "Speed: 2.6ms preprocess, 302.4ms inference, 0.4ms postprocess per image at shape (1, 3, 640, 480)\n",
      "Image saved: /Users/holmes/Documents/UNI-Bamberg/Arbeiten/Datensatz/Selfmade/4_Maria_0710/2024_07_09_10_43_56/test/IMG_0092.jpeg\n",
      "\n",
      "image 1/1 /Users/holmes/Documents/UNI-Bamberg/Arbeiten/Datensatz/Selfmade/4_Maria_0710/2024_07_09_10_43_56/IMG_0211.jpeg: 640x480 (no detections), 298.1ms\n",
      "Speed: 2.3ms preprocess, 298.1ms inference, 0.2ms postprocess per image at shape (1, 3, 640, 480)\n",
      "Image saved: /Users/holmes/Documents/UNI-Bamberg/Arbeiten/Datensatz/Selfmade/4_Maria_0710/2024_07_09_10_43_56/test/IMG_0211.jpeg\n",
      "\n",
      "image 1/1 /Users/holmes/Documents/UNI-Bamberg/Arbeiten/Datensatz/Selfmade/4_Maria_0710/2024_07_09_10_43_56/IMG_0180.jpeg: 640x480 (no detections), 299.8ms\n",
      "Speed: 2.1ms preprocess, 299.8ms inference, 0.2ms postprocess per image at shape (1, 3, 640, 480)\n",
      "Image saved: /Users/holmes/Documents/UNI-Bamberg/Arbeiten/Datensatz/Selfmade/4_Maria_0710/2024_07_09_10_43_56/test/IMG_0180.jpeg\n",
      "\n",
      "image 1/1 /Users/holmes/Documents/UNI-Bamberg/Arbeiten/Datensatz/Selfmade/4_Maria_0710/2024_07_09_10_43_56/IMG_0246.jpeg: 640x480 (no detections), 303.3ms\n",
      "Speed: 2.2ms preprocess, 303.3ms inference, 0.2ms postprocess per image at shape (1, 3, 640, 480)\n",
      "Image saved: /Users/holmes/Documents/UNI-Bamberg/Arbeiten/Datensatz/Selfmade/4_Maria_0710/2024_07_09_10_43_56/test/IMG_0246.jpeg\n",
      "\n",
      "image 1/1 /Users/holmes/Documents/UNI-Bamberg/Arbeiten/Datensatz/Selfmade/4_Maria_0710/2024_07_09_10_43_56/IMG_0114.jpeg: 640x480 (no detections), 305.2ms\n",
      "Speed: 2.9ms preprocess, 305.2ms inference, 0.2ms postprocess per image at shape (1, 3, 640, 480)\n",
      "Image saved: /Users/holmes/Documents/UNI-Bamberg/Arbeiten/Datensatz/Selfmade/4_Maria_0710/2024_07_09_10_43_56/test/IMG_0114.jpeg\n",
      "\n",
      "image 1/1 /Users/holmes/Documents/UNI-Bamberg/Arbeiten/Datensatz/Selfmade/4_Maria_0710/2024_07_09_10_43_56/IMG_0051.jpeg: 640x480 (no detections), 304.6ms\n",
      "Speed: 2.3ms preprocess, 304.6ms inference, 0.2ms postprocess per image at shape (1, 3, 640, 480)\n",
      "Image saved: /Users/holmes/Documents/UNI-Bamberg/Arbeiten/Datensatz/Selfmade/4_Maria_0710/2024_07_09_10_43_56/test/IMG_0051.jpeg\n",
      "\n",
      "image 1/1 /Users/holmes/Documents/UNI-Bamberg/Arbeiten/Datensatz/Selfmade/4_Maria_0710/2024_07_09_10_43_56/IMG_0143.jpeg: 640x480 (no detections), 298.5ms\n",
      "Speed: 2.2ms preprocess, 298.5ms inference, 0.2ms postprocess per image at shape (1, 3, 640, 480)\n",
      "Image saved: /Users/holmes/Documents/UNI-Bamberg/Arbeiten/Datensatz/Selfmade/4_Maria_0710/2024_07_09_10_43_56/test/IMG_0143.jpeg\n",
      "\n",
      "image 1/1 /Users/holmes/Documents/UNI-Bamberg/Arbeiten/Datensatz/Selfmade/4_Maria_0710/2024_07_09_10_43_56/IMG_0006.jpeg: 640x480 1 wood_knot, 311.2ms\n",
      "Speed: 2.4ms preprocess, 311.2ms inference, 0.4ms postprocess per image at shape (1, 3, 640, 480)\n",
      "Image saved: /Users/holmes/Documents/UNI-Bamberg/Arbeiten/Datensatz/Selfmade/4_Maria_0710/2024_07_09_10_43_56/test/IMG_0006.jpeg\n",
      "\n",
      "image 1/1 /Users/holmes/Documents/UNI-Bamberg/Arbeiten/Datensatz/Selfmade/4_Maria_0710/2024_07_09_10_43_56/IMG_0155.jpeg: 640x480 (no detections), 300.0ms\n",
      "Speed: 2.5ms preprocess, 300.0ms inference, 0.2ms postprocess per image at shape (1, 3, 640, 480)\n",
      "Image saved: /Users/holmes/Documents/UNI-Bamberg/Arbeiten/Datensatz/Selfmade/4_Maria_0710/2024_07_09_10_43_56/test/IMG_0155.jpeg\n",
      "\n",
      "image 1/1 /Users/holmes/Documents/UNI-Bamberg/Arbeiten/Datensatz/Selfmade/4_Maria_0710/2024_07_09_10_43_56/IMG_0010.jpeg: 640x480 1 wood_knot, 295.4ms\n",
      "Speed: 2.4ms preprocess, 295.4ms inference, 0.4ms postprocess per image at shape (1, 3, 640, 480)\n",
      "Image saved: /Users/holmes/Documents/UNI-Bamberg/Arbeiten/Datensatz/Selfmade/4_Maria_0710/2024_07_09_10_43_56/test/IMG_0010.jpeg\n",
      "\n",
      "image 1/1 /Users/holmes/Documents/UNI-Bamberg/Arbeiten/Datensatz/Selfmade/4_Maria_0710/2024_07_09_10_43_56/IMG_0102.jpeg: 640x480 1 wood_knot, 303.9ms\n",
      "Speed: 2.2ms preprocess, 303.9ms inference, 0.8ms postprocess per image at shape (1, 3, 640, 480)\n",
      "Image saved: /Users/holmes/Documents/UNI-Bamberg/Arbeiten/Datensatz/Selfmade/4_Maria_0710/2024_07_09_10_43_56/test/IMG_0102.jpeg\n",
      "\n",
      "image 1/1 /Users/holmes/Documents/UNI-Bamberg/Arbeiten/Datensatz/Selfmade/4_Maria_0710/2024_07_09_10_43_56/IMG_0047.jpeg: 640x480 2 wood_knots, 301.6ms\n",
      "Speed: 2.1ms preprocess, 301.6ms inference, 0.7ms postprocess per image at shape (1, 3, 640, 480)\n",
      "Image saved: /Users/holmes/Documents/UNI-Bamberg/Arbeiten/Datensatz/Selfmade/4_Maria_0710/2024_07_09_10_43_56/test/IMG_0047.jpeg\n",
      "\n",
      "image 1/1 /Users/holmes/Documents/UNI-Bamberg/Arbeiten/Datensatz/Selfmade/4_Maria_0710/2024_07_09_10_43_56/IMG_0109.jpeg: 640x480 2 wood_knots, 305.2ms\n",
      "Speed: 2.2ms preprocess, 305.2ms inference, 0.4ms postprocess per image at shape (1, 3, 640, 480)\n",
      "Image saved: /Users/holmes/Documents/UNI-Bamberg/Arbeiten/Datensatz/Selfmade/4_Maria_0710/2024_07_09_10_43_56/test/IMG_0109.jpeg\n",
      "\n",
      "image 1/1 /Users/holmes/Documents/UNI-Bamberg/Arbeiten/Datensatz/Selfmade/4_Maria_0710/2024_07_09_10_43_56/IMG_0220.jpeg: 640x480 1 wood_knot, 304.0ms\n",
      "Speed: 2.7ms preprocess, 304.0ms inference, 0.4ms postprocess per image at shape (1, 3, 640, 480)\n",
      "Image saved: /Users/holmes/Documents/UNI-Bamberg/Arbeiten/Datensatz/Selfmade/4_Maria_0710/2024_07_09_10_43_56/test/IMG_0220.jpeg\n",
      "\n",
      "image 1/1 /Users/holmes/Documents/UNI-Bamberg/Arbeiten/Datensatz/Selfmade/4_Maria_0710/2024_07_09_10_43_56/IMG_0148.jpeg: 640x480 1 wood_knot, 307.0ms\n",
      "Speed: 2.2ms preprocess, 307.0ms inference, 0.7ms postprocess per image at shape (1, 3, 640, 480)\n",
      "Image saved: /Users/holmes/Documents/UNI-Bamberg/Arbeiten/Datensatz/Selfmade/4_Maria_0710/2024_07_09_10_43_56/test/IMG_0148.jpeg\n",
      "\n",
      "image 1/1 /Users/holmes/Documents/UNI-Bamberg/Arbeiten/Datensatz/Selfmade/4_Maria_0710/2024_07_09_10_43_56/IMG_0236.jpeg: 640x480 (no detections), 301.1ms\n",
      "Speed: 2.1ms preprocess, 301.1ms inference, 0.2ms postprocess per image at shape (1, 3, 640, 480)\n",
      "Image saved: /Users/holmes/Documents/UNI-Bamberg/Arbeiten/Datensatz/Selfmade/4_Maria_0710/2024_07_09_10_43_56/test/IMG_0236.jpeg\n",
      "\n",
      "image 1/1 /Users/holmes/Documents/UNI-Bamberg/Arbeiten/Datensatz/Selfmade/4_Maria_0710/2024_07_09_10_43_56/IMG_0021.jpeg: 640x480 (no detections), 307.3ms\n",
      "Speed: 2.4ms preprocess, 307.3ms inference, 0.2ms postprocess per image at shape (1, 3, 640, 480)\n",
      "Image saved: /Users/holmes/Documents/UNI-Bamberg/Arbeiten/Datensatz/Selfmade/4_Maria_0710/2024_07_09_10_43_56/test/IMG_0021.jpeg\n",
      "\n",
      "image 1/1 /Users/holmes/Documents/UNI-Bamberg/Arbeiten/Datensatz/Selfmade/4_Maria_0710/2024_07_09_10_43_56/IMG_0164.jpeg: 640x480 1 wood_knot, 305.6ms\n",
      "Speed: 2.5ms preprocess, 305.6ms inference, 0.4ms postprocess per image at shape (1, 3, 640, 480)\n",
      "Image saved: /Users/holmes/Documents/UNI-Bamberg/Arbeiten/Datensatz/Selfmade/4_Maria_0710/2024_07_09_10_43_56/test/IMG_0164.jpeg\n",
      "\n",
      "image 1/1 /Users/holmes/Documents/UNI-Bamberg/Arbeiten/Datensatz/Selfmade/4_Maria_0710/2024_07_09_10_43_56/IMG_0076.jpeg: 640x480 (no detections), 303.9ms\n",
      "Speed: 3.3ms preprocess, 303.9ms inference, 0.2ms postprocess per image at shape (1, 3, 640, 480)\n",
      "Image saved: /Users/holmes/Documents/UNI-Bamberg/Arbeiten/Datensatz/Selfmade/4_Maria_0710/2024_07_09_10_43_56/test/IMG_0076.jpeg\n",
      "\n",
      "image 1/1 /Users/holmes/Documents/UNI-Bamberg/Arbeiten/Datensatz/Selfmade/4_Maria_0710/2024_07_09_10_43_56/IMG_0099.jpeg: 640x480 (no detections), 306.7ms\n",
      "Speed: 2.3ms preprocess, 306.7ms inference, 0.2ms postprocess per image at shape (1, 3, 640, 480)\n",
      "Image saved: /Users/holmes/Documents/UNI-Bamberg/Arbeiten/Datensatz/Selfmade/4_Maria_0710/2024_07_09_10_43_56/test/IMG_0099.jpeg\n",
      "\n",
      "image 1/1 /Users/holmes/Documents/UNI-Bamberg/Arbeiten/Datensatz/Selfmade/4_Maria_0710/2024_07_09_10_43_56/IMG_0133.jpeg: 640x480 (no detections), 306.6ms\n",
      "Speed: 2.2ms preprocess, 306.6ms inference, 0.3ms postprocess per image at shape (1, 3, 640, 480)\n",
      "Image saved: /Users/holmes/Documents/UNI-Bamberg/Arbeiten/Datensatz/Selfmade/4_Maria_0710/2024_07_09_10_43_56/test/IMG_0133.jpeg\n",
      "\n",
      "image 1/1 /Users/holmes/Documents/UNI-Bamberg/Arbeiten/Datensatz/Selfmade/4_Maria_0710/2024_07_09_10_43_56/IMG_0060.jpeg: 640x480 1 wood_knot, 299.6ms\n",
      "Speed: 2.4ms preprocess, 299.6ms inference, 0.4ms postprocess per image at shape (1, 3, 640, 480)\n",
      "Image saved: /Users/holmes/Documents/UNI-Bamberg/Arbeiten/Datensatz/Selfmade/4_Maria_0710/2024_07_09_10_43_56/test/IMG_0060.jpeg\n",
      "\n",
      "image 1/1 /Users/holmes/Documents/UNI-Bamberg/Arbeiten/Datensatz/Selfmade/4_Maria_0710/2024_07_09_10_43_56/IMG_0125.jpeg: 640x480 1 wood_knot, 304.9ms\n",
      "Speed: 2.4ms preprocess, 304.9ms inference, 0.4ms postprocess per image at shape (1, 3, 640, 480)\n",
      "Image saved: /Users/holmes/Documents/UNI-Bamberg/Arbeiten/Datensatz/Selfmade/4_Maria_0710/2024_07_09_10_43_56/test/IMG_0125.jpeg\n",
      "\n",
      "image 1/1 /Users/holmes/Documents/UNI-Bamberg/Arbeiten/Datensatz/Selfmade/4_Maria_0710/2024_07_09_10_43_56/IMG_0037.jpeg: 640x480 (no detections), 306.8ms\n",
      "Speed: 2.5ms preprocess, 306.8ms inference, 0.2ms postprocess per image at shape (1, 3, 640, 480)\n",
      "Image saved: /Users/holmes/Documents/UNI-Bamberg/Arbeiten/Datensatz/Selfmade/4_Maria_0710/2024_07_09_10_43_56/test/IMG_0037.jpeg\n",
      "\n",
      "image 1/1 /Users/holmes/Documents/UNI-Bamberg/Arbeiten/Datensatz/Selfmade/4_Maria_0710/2024_07_09_10_43_56/IMG_0172.jpeg: 640x480 (no detections), 303.2ms\n",
      "Speed: 2.2ms preprocess, 303.2ms inference, 0.6ms postprocess per image at shape (1, 3, 640, 480)\n",
      "Image saved: /Users/holmes/Documents/UNI-Bamberg/Arbeiten/Datensatz/Selfmade/4_Maria_0710/2024_07_09_10_43_56/test/IMG_0172.jpeg\n",
      "\n",
      "image 1/1 /Users/holmes/Documents/UNI-Bamberg/Arbeiten/Datensatz/Selfmade/4_Maria_0710/2024_07_09_10_43_56/IMG_0105.jpeg: 640x480 1 wood_knot, 313.3ms\n",
      "Speed: 5.2ms preprocess, 313.3ms inference, 0.8ms postprocess per image at shape (1, 3, 640, 480)\n",
      "Image saved: /Users/holmes/Documents/UNI-Bamberg/Arbeiten/Datensatz/Selfmade/4_Maria_0710/2024_07_09_10_43_56/test/IMG_0105.jpeg\n",
      "\n",
      "image 1/1 /Users/holmes/Documents/UNI-Bamberg/Arbeiten/Datensatz/Selfmade/4_Maria_0710/2024_07_09_10_43_56/IMG_0040.jpeg: 640x480 1 wood_knot, 298.5ms\n",
      "Speed: 4.7ms preprocess, 298.5ms inference, 0.4ms postprocess per image at shape (1, 3, 640, 480)\n",
      "Image saved: /Users/holmes/Documents/UNI-Bamberg/Arbeiten/Datensatz/Selfmade/4_Maria_0710/2024_07_09_10_43_56/test/IMG_0040.jpeg\n",
      "\n",
      "image 1/1 /Users/holmes/Documents/UNI-Bamberg/Arbeiten/Datensatz/Selfmade/4_Maria_0710/2024_07_09_10_43_56/IMG_0152.jpeg: 640x480 1 wood_knot, 300.8ms\n",
      "Speed: 2.8ms preprocess, 300.8ms inference, 0.5ms postprocess per image at shape (1, 3, 640, 480)\n",
      "Image saved: /Users/holmes/Documents/UNI-Bamberg/Arbeiten/Datensatz/Selfmade/4_Maria_0710/2024_07_09_10_43_56/test/IMG_0152.jpeg\n",
      "\n",
      "image 1/1 /Users/holmes/Documents/UNI-Bamberg/Arbeiten/Datensatz/Selfmade/4_Maria_0710/2024_07_09_10_43_56/IMG_0017.jpeg: 640x480 1 wood_knot, 296.4ms\n",
      "Speed: 2.4ms preprocess, 296.4ms inference, 0.7ms postprocess per image at shape (1, 3, 640, 480)\n",
      "Image saved: /Users/holmes/Documents/UNI-Bamberg/Arbeiten/Datensatz/Selfmade/4_Maria_0710/2024_07_09_10_43_56/test/IMG_0017.jpeg\n",
      "\n",
      "image 1/1 /Users/holmes/Documents/UNI-Bamberg/Arbeiten/Datensatz/Selfmade/4_Maria_0710/2024_07_09_10_43_56/IMG_0144.jpeg: 640x480 (no detections), 306.1ms\n",
      "Speed: 2.7ms preprocess, 306.1ms inference, 0.2ms postprocess per image at shape (1, 3, 640, 480)\n",
      "Image saved: /Users/holmes/Documents/UNI-Bamberg/Arbeiten/Datensatz/Selfmade/4_Maria_0710/2024_07_09_10_43_56/test/IMG_0144.jpeg\n",
      "\n",
      "image 1/1 /Users/holmes/Documents/UNI-Bamberg/Arbeiten/Datensatz/Selfmade/4_Maria_0710/2024_07_09_10_43_56/IMG_0001.jpeg: 640x480 2 wood_knots, 293.5ms\n",
      "Speed: 2.2ms preprocess, 293.5ms inference, 0.4ms postprocess per image at shape (1, 3, 640, 480)\n",
      "Image saved: /Users/holmes/Documents/UNI-Bamberg/Arbeiten/Datensatz/Selfmade/4_Maria_0710/2024_07_09_10_43_56/test/IMG_0001.jpeg\n",
      "\n",
      "image 1/1 /Users/holmes/Documents/UNI-Bamberg/Arbeiten/Datensatz/Selfmade/4_Maria_0710/2024_07_09_10_43_56/IMG_0113.jpeg: 640x480 1 wood_knot, 299.1ms\n",
      "Speed: 2.4ms preprocess, 299.1ms inference, 0.6ms postprocess per image at shape (1, 3, 640, 480)\n",
      "Image saved: /Users/holmes/Documents/UNI-Bamberg/Arbeiten/Datensatz/Selfmade/4_Maria_0710/2024_07_09_10_43_56/test/IMG_0113.jpeg\n",
      "\n",
      "image 1/1 /Users/holmes/Documents/UNI-Bamberg/Arbeiten/Datensatz/Selfmade/4_Maria_0710/2024_07_09_10_43_56/IMG_0056.jpeg: 640x480 1 wood_knot, 299.7ms\n",
      "Speed: 2.2ms preprocess, 299.7ms inference, 0.6ms postprocess per image at shape (1, 3, 640, 480)\n",
      "Image saved: /Users/holmes/Documents/UNI-Bamberg/Arbeiten/Datensatz/Selfmade/4_Maria_0710/2024_07_09_10_43_56/test/IMG_0056.jpeg\n",
      "\n",
      "image 1/1 /Users/holmes/Documents/UNI-Bamberg/Arbeiten/Datensatz/Selfmade/4_Maria_0710/2024_07_09_10_43_56/IMG_0241.jpeg: 640x480 1 wood_knot, 306.6ms\n",
      "Speed: 2.4ms preprocess, 306.6ms inference, 0.4ms postprocess per image at shape (1, 3, 640, 480)\n",
      "Image saved: /Users/holmes/Documents/UNI-Bamberg/Arbeiten/Datensatz/Selfmade/4_Maria_0710/2024_07_09_10_43_56/test/IMG_0241.jpeg\n",
      "\n",
      "image 1/1 /Users/holmes/Documents/UNI-Bamberg/Arbeiten/Datensatz/Selfmade/4_Maria_0710/2024_07_09_10_43_56/IMG_0187.jpeg: 640x480 1 wood_knot, 293.2ms\n",
      "Speed: 2.2ms preprocess, 293.2ms inference, 0.4ms postprocess per image at shape (1, 3, 640, 480)\n",
      "Image saved: /Users/holmes/Documents/UNI-Bamberg/Arbeiten/Datensatz/Selfmade/4_Maria_0710/2024_07_09_10_43_56/test/IMG_0187.jpeg\n",
      "\n",
      "image 1/1 /Users/holmes/Documents/UNI-Bamberg/Arbeiten/Datensatz/Selfmade/4_Maria_0710/2024_07_09_10_43_56/IMG_0168.jpeg: 640x480 (no detections), 306.3ms\n",
      "Speed: 2.5ms preprocess, 306.3ms inference, 0.2ms postprocess per image at shape (1, 3, 640, 480)\n",
      "Image saved: /Users/holmes/Documents/UNI-Bamberg/Arbeiten/Datensatz/Selfmade/4_Maria_0710/2024_07_09_10_43_56/test/IMG_0168.jpeg\n",
      "\n",
      "image 1/1 /Users/holmes/Documents/UNI-Bamberg/Arbeiten/Datensatz/Selfmade/4_Maria_0710/2024_07_09_10_43_56/IMG_0216.jpeg: 640x480 1 wood_knot, 300.8ms\n",
      "Speed: 2.3ms preprocess, 300.8ms inference, 0.4ms postprocess per image at shape (1, 3, 640, 480)\n",
      "Image saved: /Users/holmes/Documents/UNI-Bamberg/Arbeiten/Datensatz/Selfmade/4_Maria_0710/2024_07_09_10_43_56/test/IMG_0216.jpeg\n",
      "\n",
      "image 1/1 /Users/holmes/Documents/UNI-Bamberg/Arbeiten/Datensatz/Selfmade/4_Maria_0710/2024_07_09_10_43_56/IMG_0095.jpeg: 640x480 2 wood_knots, 298.8ms\n",
      "Speed: 2.3ms preprocess, 298.8ms inference, 0.6ms postprocess per image at shape (1, 3, 640, 480)\n",
      "Image saved: /Users/holmes/Documents/UNI-Bamberg/Arbeiten/Datensatz/Selfmade/4_Maria_0710/2024_07_09_10_43_56/test/IMG_0095.jpeg\n",
      "\n",
      "image 1/1 /Users/holmes/Documents/UNI-Bamberg/Arbeiten/Datensatz/Selfmade/4_Maria_0710/2024_07_09_10_43_56/IMG_0200.jpeg: 640x480 (no detections), 298.5ms\n",
      "Speed: 2.5ms preprocess, 298.5ms inference, 0.2ms postprocess per image at shape (1, 3, 640, 480)\n",
      "Image saved: /Users/holmes/Documents/UNI-Bamberg/Arbeiten/Datensatz/Selfmade/4_Maria_0710/2024_07_09_10_43_56/test/IMG_0200.jpeg\n",
      "\n",
      "image 1/1 /Users/holmes/Documents/UNI-Bamberg/Arbeiten/Datensatz/Selfmade/4_Maria_0710/2024_07_09_10_43_56/IMG_0083.jpeg: 640x480 6 wood_knots, 312.0ms\n",
      "Speed: 2.9ms preprocess, 312.0ms inference, 0.7ms postprocess per image at shape (1, 3, 640, 480)\n",
      "Image saved: /Users/holmes/Documents/UNI-Bamberg/Arbeiten/Datensatz/Selfmade/4_Maria_0710/2024_07_09_10_43_56/test/IMG_0083.jpeg\n",
      "\n",
      "image 1/1 /Users/holmes/Documents/UNI-Bamberg/Arbeiten/Datensatz/Selfmade/4_Maria_0710/2024_07_09_10_43_56/IMG_0129.jpeg: 640x480 1 wood_knot, 298.5ms\n",
      "Speed: 3.0ms preprocess, 298.5ms inference, 0.4ms postprocess per image at shape (1, 3, 640, 480)\n",
      "Image saved: /Users/holmes/Documents/UNI-Bamberg/Arbeiten/Datensatz/Selfmade/4_Maria_0710/2024_07_09_10_43_56/test/IMG_0129.jpeg\n",
      "\n",
      "image 1/1 /Users/holmes/Documents/UNI-Bamberg/Arbeiten/Datensatz/Selfmade/4_Maria_0710/2024_07_09_10_43_56/IMG_0191.jpeg: 640x480 (no detections), 300.4ms\n",
      "Speed: 2.4ms preprocess, 300.4ms inference, 0.2ms postprocess per image at shape (1, 3, 640, 480)\n",
      "Image saved: /Users/holmes/Documents/UNI-Bamberg/Arbeiten/Datensatz/Selfmade/4_Maria_0710/2024_07_09_10_43_56/test/IMG_0191.jpeg\n",
      "\n",
      "image 1/1 /Users/holmes/Documents/UNI-Bamberg/Arbeiten/Datensatz/Selfmade/4_Maria_0710/2024_07_09_10_43_56/IMG_0190.jpeg: 640x480 1 wood_knot, 303.5ms\n",
      "Speed: 2.5ms preprocess, 303.5ms inference, 0.4ms postprocess per image at shape (1, 3, 640, 480)\n",
      "Image saved: /Users/holmes/Documents/UNI-Bamberg/Arbeiten/Datensatz/Selfmade/4_Maria_0710/2024_07_09_10_43_56/test/IMG_0190.jpeg\n",
      "\n",
      "image 1/1 /Users/holmes/Documents/UNI-Bamberg/Arbeiten/Datensatz/Selfmade/4_Maria_0710/2024_07_09_10_43_56/IMG_0082.jpeg: 640x480 8 wood_knots, 304.9ms\n",
      "Speed: 2.5ms preprocess, 304.9ms inference, 0.4ms postprocess per image at shape (1, 3, 640, 480)\n",
      "Image saved: /Users/holmes/Documents/UNI-Bamberg/Arbeiten/Datensatz/Selfmade/4_Maria_0710/2024_07_09_10_43_56/test/IMG_0082.jpeg\n",
      "\n",
      "image 1/1 /Users/holmes/Documents/UNI-Bamberg/Arbeiten/Datensatz/Selfmade/4_Maria_0710/2024_07_09_10_43_56/IMG_0128.jpeg: 640x480 (no detections), 302.6ms\n",
      "Speed: 2.4ms preprocess, 302.6ms inference, 0.2ms postprocess per image at shape (1, 3, 640, 480)\n",
      "Image saved: /Users/holmes/Documents/UNI-Bamberg/Arbeiten/Datensatz/Selfmade/4_Maria_0710/2024_07_09_10_43_56/test/IMG_0128.jpeg\n",
      "\n",
      "image 1/1 /Users/holmes/Documents/UNI-Bamberg/Arbeiten/Datensatz/Selfmade/4_Maria_0710/2024_07_09_10_43_56/IMG_0201.jpeg: 640x480 (no detections), 301.0ms\n",
      "Speed: 2.1ms preprocess, 301.0ms inference, 0.2ms postprocess per image at shape (1, 3, 640, 480)\n",
      "Image saved: /Users/holmes/Documents/UNI-Bamberg/Arbeiten/Datensatz/Selfmade/4_Maria_0710/2024_07_09_10_43_56/test/IMG_0201.jpeg\n",
      "\n",
      "image 1/1 /Users/holmes/Documents/UNI-Bamberg/Arbeiten/Datensatz/Selfmade/4_Maria_0710/2024_07_09_10_43_56/IMG_0094.jpeg: 640x480 1 wood_knot, 303.7ms\n",
      "Speed: 2.1ms preprocess, 303.7ms inference, 0.6ms postprocess per image at shape (1, 3, 640, 480)\n",
      "Image saved: /Users/holmes/Documents/UNI-Bamberg/Arbeiten/Datensatz/Selfmade/4_Maria_0710/2024_07_09_10_43_56/test/IMG_0094.jpeg\n",
      "\n",
      "image 1/1 /Users/holmes/Documents/UNI-Bamberg/Arbeiten/Datensatz/Selfmade/4_Maria_0710/2024_07_09_10_43_56/IMG_0217.jpeg: 640x480 1 wood_knot, 306.5ms\n",
      "Speed: 2.5ms preprocess, 306.5ms inference, 0.6ms postprocess per image at shape (1, 3, 640, 480)\n",
      "Image saved: /Users/holmes/Documents/UNI-Bamberg/Arbeiten/Datensatz/Selfmade/4_Maria_0710/2024_07_09_10_43_56/test/IMG_0217.jpeg\n",
      "\n",
      "image 1/1 /Users/holmes/Documents/UNI-Bamberg/Arbeiten/Datensatz/Selfmade/4_Maria_0710/2024_07_09_10_43_56/IMG_0186.jpeg: 640x480 (no detections), 304.9ms\n",
      "Speed: 2.1ms preprocess, 304.9ms inference, 0.2ms postprocess per image at shape (1, 3, 640, 480)\n",
      "Image saved: /Users/holmes/Documents/UNI-Bamberg/Arbeiten/Datensatz/Selfmade/4_Maria_0710/2024_07_09_10_43_56/test/IMG_0186.jpeg\n",
      "\n",
      "image 1/1 /Users/holmes/Documents/UNI-Bamberg/Arbeiten/Datensatz/Selfmade/4_Maria_0710/2024_07_09_10_43_56/IMG_0169.jpeg: 640x480 (no detections), 302.1ms\n",
      "Speed: 2.2ms preprocess, 302.1ms inference, 0.4ms postprocess per image at shape (1, 3, 640, 480)\n",
      "Image saved: /Users/holmes/Documents/UNI-Bamberg/Arbeiten/Datensatz/Selfmade/4_Maria_0710/2024_07_09_10_43_56/test/IMG_0169.jpeg\n",
      "\n",
      "image 1/1 /Users/holmes/Documents/UNI-Bamberg/Arbeiten/Datensatz/Selfmade/4_Maria_0710/2024_07_09_10_43_56/IMG_0240.jpeg: 640x480 (no detections), 307.1ms\n",
      "Speed: 2.1ms preprocess, 307.1ms inference, 0.2ms postprocess per image at shape (1, 3, 640, 480)\n",
      "Image saved: /Users/holmes/Documents/UNI-Bamberg/Arbeiten/Datensatz/Selfmade/4_Maria_0710/2024_07_09_10_43_56/test/IMG_0240.jpeg\n",
      "\n",
      "image 1/1 /Users/holmes/Documents/UNI-Bamberg/Arbeiten/Datensatz/Selfmade/4_Maria_0710/2024_07_09_10_43_56/IMG_0112.jpeg: 640x480 1 wood_knot, 303.6ms\n",
      "Speed: 2.4ms preprocess, 303.6ms inference, 0.4ms postprocess per image at shape (1, 3, 640, 480)\n",
      "Image saved: /Users/holmes/Documents/UNI-Bamberg/Arbeiten/Datensatz/Selfmade/4_Maria_0710/2024_07_09_10_43_56/test/IMG_0112.jpeg\n",
      "\n",
      "image 1/1 /Users/holmes/Documents/UNI-Bamberg/Arbeiten/Datensatz/Selfmade/4_Maria_0710/2024_07_09_10_43_56/IMG_0057.jpeg: 640x480 1 wood_knot, 311.5ms\n",
      "Speed: 2.4ms preprocess, 311.5ms inference, 0.4ms postprocess per image at shape (1, 3, 640, 480)\n",
      "Image saved: /Users/holmes/Documents/UNI-Bamberg/Arbeiten/Datensatz/Selfmade/4_Maria_0710/2024_07_09_10_43_56/test/IMG_0057.jpeg\n",
      "\n",
      "image 1/1 /Users/holmes/Documents/UNI-Bamberg/Arbeiten/Datensatz/Selfmade/4_Maria_0710/2024_07_09_10_43_56/IMG_0145.jpeg: 640x480 1 wood_knot, 314.2ms\n",
      "Speed: 2.1ms preprocess, 314.2ms inference, 0.6ms postprocess per image at shape (1, 3, 640, 480)\n",
      "Image saved: /Users/holmes/Documents/UNI-Bamberg/Arbeiten/Datensatz/Selfmade/4_Maria_0710/2024_07_09_10_43_56/test/IMG_0145.jpeg\n",
      "\n",
      "image 1/1 /Users/holmes/Documents/UNI-Bamberg/Arbeiten/Datensatz/Selfmade/4_Maria_0710/2024_07_09_10_43_56/IMG_0153.jpeg: 640x480 2 wood_knots, 303.7ms\n",
      "Speed: 2.2ms preprocess, 303.7ms inference, 0.4ms postprocess per image at shape (1, 3, 640, 480)\n",
      "Image saved: /Users/holmes/Documents/UNI-Bamberg/Arbeiten/Datensatz/Selfmade/4_Maria_0710/2024_07_09_10_43_56/test/IMG_0153.jpeg\n",
      "\n",
      "image 1/1 /Users/holmes/Documents/UNI-Bamberg/Arbeiten/Datensatz/Selfmade/4_Maria_0710/2024_07_09_10_43_56/IMG_0016.jpeg: 640x480 (no detections), 300.0ms\n",
      "Speed: 2.2ms preprocess, 300.0ms inference, 0.2ms postprocess per image at shape (1, 3, 640, 480)\n",
      "Image saved: /Users/holmes/Documents/UNI-Bamberg/Arbeiten/Datensatz/Selfmade/4_Maria_0710/2024_07_09_10_43_56/test/IMG_0016.jpeg\n",
      "\n",
      "image 1/1 /Users/holmes/Documents/UNI-Bamberg/Arbeiten/Datensatz/Selfmade/4_Maria_0710/2024_07_09_10_43_56/IMG_0104.jpeg: 640x480 1 wood_knot, 305.4ms\n",
      "Speed: 2.2ms preprocess, 305.4ms inference, 0.4ms postprocess per image at shape (1, 3, 640, 480)\n",
      "Image saved: /Users/holmes/Documents/UNI-Bamberg/Arbeiten/Datensatz/Selfmade/4_Maria_0710/2024_07_09_10_43_56/test/IMG_0104.jpeg\n",
      "\n",
      "image 1/1 /Users/holmes/Documents/UNI-Bamberg/Arbeiten/Datensatz/Selfmade/4_Maria_0710/2024_07_09_10_43_56/IMG_0041.jpeg: 640x480 (no detections), 303.7ms\n",
      "Speed: 2.4ms preprocess, 303.7ms inference, 0.3ms postprocess per image at shape (1, 3, 640, 480)\n",
      "Image saved: /Users/holmes/Documents/UNI-Bamberg/Arbeiten/Datensatz/Selfmade/4_Maria_0710/2024_07_09_10_43_56/test/IMG_0041.jpeg\n",
      "\n",
      "image 1/1 /Users/holmes/Documents/UNI-Bamberg/Arbeiten/Datensatz/Selfmade/4_Maria_0710/2024_07_09_10_43_56/IMG_0036.jpeg: 640x480 1 wood_knot, 307.6ms\n",
      "Speed: 2.6ms preprocess, 307.6ms inference, 0.4ms postprocess per image at shape (1, 3, 640, 480)\n",
      "Image saved: /Users/holmes/Documents/UNI-Bamberg/Arbeiten/Datensatz/Selfmade/4_Maria_0710/2024_07_09_10_43_56/test/IMG_0036.jpeg\n",
      "\n",
      "image 1/1 /Users/holmes/Documents/UNI-Bamberg/Arbeiten/Datensatz/Selfmade/4_Maria_0710/2024_07_09_10_43_56/IMG_0173.jpeg: 640x480 2 wood_knots, 302.1ms\n",
      "Speed: 2.1ms preprocess, 302.1ms inference, 0.4ms postprocess per image at shape (1, 3, 640, 480)\n",
      "Image saved: /Users/holmes/Documents/UNI-Bamberg/Arbeiten/Datensatz/Selfmade/4_Maria_0710/2024_07_09_10_43_56/test/IMG_0173.jpeg\n",
      "\n",
      "image 1/1 /Users/holmes/Documents/UNI-Bamberg/Arbeiten/Datensatz/Selfmade/4_Maria_0710/2024_07_09_10_43_56/IMG_0061.jpeg: 640x480 1 wood_knot, 304.7ms\n",
      "Speed: 2.4ms preprocess, 304.7ms inference, 0.4ms postprocess per image at shape (1, 3, 640, 480)\n",
      "Image saved: /Users/holmes/Documents/UNI-Bamberg/Arbeiten/Datensatz/Selfmade/4_Maria_0710/2024_07_09_10_43_56/test/IMG_0061.jpeg\n",
      "\n",
      "image 1/1 /Users/holmes/Documents/UNI-Bamberg/Arbeiten/Datensatz/Selfmade/4_Maria_0710/2024_07_09_10_43_56/IMG_0124.jpeg: 640x480 1 wood_knot, 306.1ms\n",
      "Speed: 2.1ms preprocess, 306.1ms inference, 0.8ms postprocess per image at shape (1, 3, 640, 480)\n",
      "Image saved: /Users/holmes/Documents/UNI-Bamberg/Arbeiten/Datensatz/Selfmade/4_Maria_0710/2024_07_09_10_43_56/test/IMG_0124.jpeg\n",
      "\n",
      "image 1/1 /Users/holmes/Documents/UNI-Bamberg/Arbeiten/Datensatz/Selfmade/4_Maria_0710/2024_07_09_10_43_56/IMG_0077.jpeg: 640x480 (no detections), 302.2ms\n",
      "Speed: 2.4ms preprocess, 302.2ms inference, 0.2ms postprocess per image at shape (1, 3, 640, 480)\n",
      "Image saved: /Users/holmes/Documents/UNI-Bamberg/Arbeiten/Datensatz/Selfmade/4_Maria_0710/2024_07_09_10_43_56/test/IMG_0077.jpeg\n",
      "\n",
      "image 1/1 /Users/holmes/Documents/UNI-Bamberg/Arbeiten/Datensatz/Selfmade/4_Maria_0710/2024_07_09_10_43_56/IMG_0098.jpeg: 640x480 (no detections), 305.5ms\n",
      "Speed: 2.4ms preprocess, 305.5ms inference, 0.2ms postprocess per image at shape (1, 3, 640, 480)\n",
      "Image saved: /Users/holmes/Documents/UNI-Bamberg/Arbeiten/Datensatz/Selfmade/4_Maria_0710/2024_07_09_10_43_56/test/IMG_0098.jpeg\n",
      "\n",
      "image 1/1 /Users/holmes/Documents/UNI-Bamberg/Arbeiten/Datensatz/Selfmade/4_Maria_0710/2024_07_09_10_43_56/IMG_0132.jpeg: 640x480 (no detections), 299.7ms\n",
      "Speed: 2.2ms preprocess, 299.7ms inference, 0.2ms postprocess per image at shape (1, 3, 640, 480)\n",
      "Image saved: /Users/holmes/Documents/UNI-Bamberg/Arbeiten/Datensatz/Selfmade/4_Maria_0710/2024_07_09_10_43_56/test/IMG_0132.jpeg\n",
      "\n",
      "image 1/1 /Users/holmes/Documents/UNI-Bamberg/Arbeiten/Datensatz/Selfmade/4_Maria_0710/2024_07_09_10_43_56/IMG_0020.jpeg: 640x480 (no detections), 300.7ms\n",
      "Speed: 2.1ms preprocess, 300.7ms inference, 0.2ms postprocess per image at shape (1, 3, 640, 480)\n",
      "Image saved: /Users/holmes/Documents/UNI-Bamberg/Arbeiten/Datensatz/Selfmade/4_Maria_0710/2024_07_09_10_43_56/test/IMG_0020.jpeg\n",
      "\n",
      "image 1/1 /Users/holmes/Documents/UNI-Bamberg/Arbeiten/Datensatz/Selfmade/4_Maria_0710/2024_07_09_10_43_56/IMG_0165.jpeg: 640x480 (no detections), 300.6ms\n",
      "Speed: 2.1ms preprocess, 300.6ms inference, 0.3ms postprocess per image at shape (1, 3, 640, 480)\n",
      "Image saved: /Users/holmes/Documents/UNI-Bamberg/Arbeiten/Datensatz/Selfmade/4_Maria_0710/2024_07_09_10_43_56/test/IMG_0165.jpeg\n",
      "\n",
      "image 1/1 /Users/holmes/Documents/UNI-Bamberg/Arbeiten/Datensatz/Selfmade/4_Maria_0710/2024_07_09_10_43_56/IMG_0237.jpeg: 640x480 (no detections), 302.5ms\n",
      "Speed: 2.3ms preprocess, 302.5ms inference, 0.3ms postprocess per image at shape (1, 3, 640, 480)\n",
      "Image saved: /Users/holmes/Documents/UNI-Bamberg/Arbeiten/Datensatz/Selfmade/4_Maria_0710/2024_07_09_10_43_56/test/IMG_0237.jpeg\n",
      "\n",
      "image 1/1 /Users/holmes/Documents/UNI-Bamberg/Arbeiten/Datensatz/Selfmade/4_Maria_0710/2024_07_09_10_43_56/IMG_0149.jpeg: 640x480 (no detections), 298.4ms\n",
      "Speed: 2.4ms preprocess, 298.4ms inference, 0.2ms postprocess per image at shape (1, 3, 640, 480)\n",
      "Image saved: /Users/holmes/Documents/UNI-Bamberg/Arbeiten/Datensatz/Selfmade/4_Maria_0710/2024_07_09_10_43_56/test/IMG_0149.jpeg\n",
      "\n",
      "image 1/1 /Users/holmes/Documents/UNI-Bamberg/Arbeiten/Datensatz/Selfmade/4_Maria_0710/2024_07_09_10_43_56/IMG_0221.jpeg: 640x480 (no detections), 302.7ms\n",
      "Speed: 2.3ms preprocess, 302.7ms inference, 0.2ms postprocess per image at shape (1, 3, 640, 480)\n",
      "Image saved: /Users/holmes/Documents/UNI-Bamberg/Arbeiten/Datensatz/Selfmade/4_Maria_0710/2024_07_09_10_43_56/test/IMG_0221.jpeg\n",
      "\n",
      "image 1/1 /Users/holmes/Documents/UNI-Bamberg/Arbeiten/Datensatz/Selfmade/4_Maria_0710/2024_07_09_10_43_56/IMG_0108.jpeg: 640x480 1 wood_knot, 300.1ms\n",
      "Speed: 2.3ms preprocess, 300.1ms inference, 0.4ms postprocess per image at shape (1, 3, 640, 480)\n",
      "Image saved: /Users/holmes/Documents/UNI-Bamberg/Arbeiten/Datensatz/Selfmade/4_Maria_0710/2024_07_09_10_43_56/test/IMG_0108.jpeg\n"
     ]
    }
   ],
   "source": [
    "model = YOLO(model_path)\n",
    "\n",
    "if not os.path.exists(save_path):\n",
    "    os.makedirs(save_path)\n",
    "\n",
    "image_files = [os.path.join(image_folder, file) for file in os.listdir(image_folder) if file.endswith(('.jpg', '.jpeg', '.JPG', '.png', '.bmp'))]\n",
    "\n",
    "for img_path in image_files:\n",
    "    results = model(img_path)\n",
    "    img = cv2.imread(img_path)\n",
    "\n",
    "    for result in results:\n",
    "        boxes = result.boxes.cpu().numpy()\n",
    "        for box in boxes:\n",
    "            # box contains prediction information\n",
    "            confidence = box.conf[0]\n",
    "            if confidence > 0.4:\n",
    "                xyxy = box.xyxy[0].astype(int)\n",
    "                confidence_text = f\"{confidence:.2f}\"\n",
    "\n",
    "                cv2.rectangle(img, (xyxy[0], xyxy[1]), (xyxy[2], xyxy[3]), (0, 0, 255), 2)\n",
    "                cv2.putText(img, confidence_text, (xyxy[0], xyxy[1]-10), cv2.FONT_HERSHEY_SIMPLEX, 0.7, (0,0,255), 2)\n",
    "\n",
    "    unique_save_path = os.path.join(save_path, os.path.basename(img_path))\n",
    "    cv2.imwrite(unique_save_path, img)\n",
    "    print(f\"Image saved: {unique_save_path}\")\n"
   ]
  },
  {
   "cell_type": "code",
   "execution_count": null,
   "metadata": {},
   "outputs": [],
   "source": []
  }
 ],
 "metadata": {
  "kernelspec": {
   "display_name": "Python 3 (ipykernel)",
   "language": "python",
   "name": "python3"
  },
  "language_info": {
   "codemirror_mode": {
    "name": "ipython",
    "version": 3
   },
   "file_extension": ".py",
   "mimetype": "text/x-python",
   "name": "python",
   "nbconvert_exporter": "python",
   "pygments_lexer": "ipython3",
   "version": "3.11.5"
  }
 },
 "nbformat": 4,
 "nbformat_minor": 2
}

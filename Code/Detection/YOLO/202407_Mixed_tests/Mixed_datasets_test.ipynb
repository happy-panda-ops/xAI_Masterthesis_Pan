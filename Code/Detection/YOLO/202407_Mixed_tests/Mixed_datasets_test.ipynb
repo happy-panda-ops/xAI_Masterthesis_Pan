{
 "cells": [
  {
   "cell_type": "markdown",
   "metadata": {},
   "source": [
    "# 1 Processing"
   ]
  },
  {
   "cell_type": "markdown",
   "metadata": {},
   "source": [
    "## Praperation"
   ]
  },
  {
   "cell_type": "code",
   "execution_count": 1,
   "metadata": {},
   "outputs": [
    {
     "name": "stdout",
     "output_type": "stream",
     "text": [
      "/home/jpan/xAI_Masterthesis_Pan/Code/Detection/YOLO/202407_Mixed_tests\n"
     ]
    }
   ],
   "source": [
    "import os\n",
    "HOME = os.getcwd()\n",
    "print(HOME)\n",
    "\n",
    "os.environ['KMP_DUPLICATE_LIB_OK']='TRUE'"
   ]
  },
  {
   "cell_type": "code",
   "execution_count": 2,
   "metadata": {},
   "outputs": [
    {
     "name": "stdout",
     "output_type": "stream",
     "text": [
      "env: CLEARML_WEB_HOST=https://app.clear.ml\n",
      "env: CLEARML_API_HOST=https://api.clear.ml\n",
      "env: CLEARML_FILES_HOST=https://files.clear.ml\n",
      "env: CLEARML_API_ACCESS_KEY=Z4YDBU13VPOFHBHF8667\n",
      "env: CLEARML_API_SECRET_KEY=JMzvRXn76AT83WuFJfS0FBGCY8c5TccbH5XboTYztrWqwzDdyn\n"
     ]
    }
   ],
   "source": [
    "#clearml mac\n",
    "# %env CLEARML_WEB_HOST=https://app.clear.ml\n",
    "# %env CLEARML_API_HOST=https://api.clear.ml\n",
    "# %env CLEARML_FILES_HOST=https://files.clear.ml\n",
    "# %env CLEARML_API_ACCESS_KEY=QO1VBBX9J2S2VYILQTGI\n",
    "# %env CLEARML_API_SECRET_KEY=ERuc1S6o5SirQGugvYXDFjH9b9aNi0u8S3rpALzXMa8YPSLDMW\n",
    "\n",
    "# clearml win\n",
    "%env CLEARML_WEB_HOST=https://app.clear.ml\n",
    "%env CLEARML_API_HOST=https://api.clear.ml\n",
    "%env CLEARML_FILES_HOST=https://files.clear.ml\n",
    "%env CLEARML_API_ACCESS_KEY=Z4YDBU13VPOFHBHF8667\n",
    "%env CLEARML_API_SECRET_KEY=JMzvRXn76AT83WuFJfS0FBGCY8c5TccbH5XboTYztrWqwzDdyn"
   ]
  },
  {
   "cell_type": "code",
   "execution_count": 3,
   "metadata": {},
   "outputs": [
    {
     "name": "stdout",
     "output_type": "stream",
     "text": [
      "Ultralytics YOLOv8.2.41 🚀 Python-3.12.2 torch-2.3.1+cu121 CUDA:0 (NVIDIA RTX A5000, 24241MiB)\n",
      "Setup complete ✅ (24 CPUs, 125.5 GB RAM, 321.3/459.6 GB disk)\n"
     ]
    },
    {
     "name": "stderr",
     "output_type": "stream",
     "text": [
      "/home/jpan/miniconda3/lib/python3.12/site-packages/torch/cuda/__init__.py:619: UserWarning: Can't initialize NVML\n",
      "  warnings.warn(\"Can't initialize NVML\")\n"
     ]
    }
   ],
   "source": [
    "# Pip install method (recommended)\n",
    "\n",
    "!pip install ultralytics\n",
    "\n",
    "from IPython import display\n",
    "display.clear_output()\n",
    "\n",
    "import ultralytics\n",
    "ultralytics.checks()"
   ]
  },
  {
   "cell_type": "markdown",
   "metadata": {},
   "source": [
    "## Config"
   ]
  },
  {
   "cell_type": "code",
   "execution_count": 4,
   "metadata": {},
   "outputs": [
    {
     "name": "stdout",
     "output_type": "stream",
     "text": [
      "{'project': 'Uni-Wood', 'name': 'Mixed_YOLO_d2+sf1_test_1', 'exist_ok': False, 'data_server': '/mnt/data/backup_pan/Dataset/Mixed_datasets/Det-dominik_v2-sf_v1.v2i.yolov8', 'data_yaml': '/mnt/data/backup_pan/Dataset/Mixed_datasets/Det-dominik_v2-sf_v1.v2i.yolov8/data.yaml', 'test_data': '/path/to/test_data.txt', 'imgsz': 640, 'model': 'yolov8m.yaml', 'task': 'detect', 'mode': 'train', 'device_mac': 'mps', 'device_win': 0, 'epochs': 200, 'batch': 16, 'lr0': 0.001, 'cos_lr': True, 'weight_decay': 0.0005, 'dropout': 0.0, 'optimizer': 'Adam', 'momentum': 0.9, 'seed': 42, 'save': False, 'save_period': -1, 'plots': True, 'test_output': '/path/to/test_output'}\n"
     ]
    }
   ],
   "source": [
    "# read config file\n",
    "import yaml\n",
    "\n",
    "def load_config(config_file):\n",
    "    with open(config_file, 'r') as f:\n",
    "        config = yaml.safe_load(f)\n",
    "    return config\n",
    "\n",
    "config = load_config('Mixed_d1+d2+sf1_config_1.yaml')\n",
    "\n",
    "print(config)\n",
    "\n",
    "# project\n",
    "project = config['project']\n",
    "name = config['name']\n",
    "exist_ok = config['exist_ok']\n",
    "\n",
    "# dataset\n",
    "data_folder = config['data_server']\n",
    "data = config['data_yaml']\n",
    "test_data = config['test_data']\n",
    "imgsz = config['imgsz']\n",
    "\n",
    "# model\n",
    "model = config['model']\n",
    "task = config['task']\n",
    "mode = config['mode']\n",
    "# device = config['device_mac']\n",
    "device = config['device_win']\n",
    "\n",
    "# Training parameters\n",
    "epochs = config['epochs']\n",
    "batch = config['batch']\n",
    "lr0 = config['lr0']\n",
    "cos_lr = config['cos_lr']\n",
    "weight_decay = config['weight_decay']\n",
    "dropout = config['dropout']\n",
    "optimizer = config['optimizer']\n",
    "momentum = config['momentum']\n",
    "seed = config['seed']\n",
    "\n",
    "# Output configuration\n",
    "# save = config['save']\n",
    "# save_period = config['save_period']\n",
    "plots = config['plots']\n",
    "test_output = config['test_output']\n"
   ]
  },
  {
   "cell_type": "markdown",
   "metadata": {},
   "source": [
    "## Split data"
   ]
  },
  {
   "cell_type": "code",
   "execution_count": 5,
   "metadata": {},
   "outputs": [],
   "source": [
    "import os\n",
    "import shutil\n",
    "import random\n",
    "\n",
    "train_dir = os.path.join(data_folder, \"train\")\n",
    "val_dir = os.path.join(data_folder, \"valid\")\n",
    "test_dir = os.path.join(data_folder, \"test\")\n",
    "\n",
    "os.makedirs(os.path.join(val_dir, \"images\"), exist_ok=True)\n",
    "os.makedirs(os.path.join(val_dir, \"labels\"), exist_ok=True)\n",
    "os.makedirs(os.path.join(test_dir, \"images\"), exist_ok=True)\n",
    "os.makedirs(os.path.join(test_dir, \"labels\"), exist_ok=True)\n",
    "\n",
    "val_ratio = 0.1\n",
    "test_ratio = 0.05\n",
    "\n",
    "random.seed(seed)\n",
    "\n",
    "image_files = os.listdir(os.path.join(train_dir, \"images\"))\n",
    "label_files = os.listdir(os.path.join(train_dir, \"labels\"))\n",
    "\n",
    "image_files.sort()\n",
    "label_files.sort()\n",
    "\n",
    "data_pairs = list(zip(image_files, label_files))\n",
    "\n",
    "random.shuffle(data_pairs)\n",
    "\n",
    "total_files = len(data_pairs)\n",
    "val_count = int(total_files * val_ratio)\n",
    "test_count = int(total_files * test_ratio)\n",
    "\n",
    "val_data = data_pairs[:val_count]\n",
    "test_data = data_pairs[val_count:val_count+test_count]\n",
    "train_data = data_pairs[val_count+test_count:]\n",
    "\n"
   ]
  },
  {
   "cell_type": "code",
   "execution_count": 7,
   "metadata": {},
   "outputs": [
    {
     "name": "stdout",
     "output_type": "stream",
     "text": [
      "Split done!\n"
     ]
    }
   ],
   "source": [
    "def move_files(data, src_dir, dest_dir):\n",
    "    for img_file, lbl_file in data:\n",
    "        shutil.move(os.path.join(src_dir, \"images\", img_file), os.path.join(dest_dir, \"images\", img_file))\n",
    "        shutil.move(os.path.join(src_dir, \"labels\", lbl_file), os.path.join(dest_dir, \"labels\", lbl_file))\n",
    "\n",
    "move_files(val_data, train_dir, val_dir)\n",
    "move_files(test_data, train_dir, test_dir)\n",
    "\n",
    "print(\"Split done!\")"
   ]
  },
  {
   "cell_type": "code",
   "execution_count": 8,
   "metadata": {},
   "outputs": [
    {
     "name": "stdout",
     "output_type": "stream",
     "text": [
      "Train set: 2178 images, 2178 labels\n",
      "Validation set: 256 images, 256 labels\n",
      "Test set: 128 images, 128 labels\n"
     ]
    }
   ],
   "source": [
    "def count_files(directory):\n",
    "    images_count = len(os.listdir(os.path.join(directory, \"images\")))\n",
    "    labels_count = len(os.listdir(os.path.join(directory, \"labels\")))\n",
    "    return images_count, labels_count\n",
    "\n",
    "train_images_count, train_labels_count = count_files(train_dir)\n",
    "val_images_count, val_labels_count = count_files(val_dir)\n",
    "test_images_count, test_labels_count = count_files(test_dir)\n",
    "\n",
    "print(f\"Train set: {train_images_count} images, {train_labels_count} labels\")\n",
    "print(f\"Validation set: {val_images_count} images, {val_labels_count} labels\")\n",
    "print(f\"Test set: {test_images_count} images, {test_labels_count} labels\")"
   ]
  },
  {
   "cell_type": "code",
   "execution_count": null,
   "metadata": {},
   "outputs": [],
   "source": [
    "def move_back_files(src_dir, dest_dir):\n",
    "    for file_name in os.listdir(os.path.join(src_dir, \"images\")):\n",
    "        shutil.move(os.path.join(src_dir, \"images\", file_name), os.path.join(dest_dir, \"images\", file_name))\n",
    "    for file_name in os.listdir(os.path.join(src_dir, \"labels\")):\n",
    "        shutil.move(os.path.join(src_dir, \"labels\", file_name), os.path.join(dest_dir, \"labels\", file_name))\n",
    "\n",
    "move_back_files(val_dir, train_dir)\n",
    "move_back_files(test_dir, train_dir)\n",
    "\n",
    "print(\"Recovered!\")\n"
   ]
  },
  {
   "cell_type": "markdown",
   "metadata": {},
   "source": [
    "## Clearml"
   ]
  },
  {
   "cell_type": "code",
   "execution_count": 9,
   "metadata": {},
   "outputs": [
    {
     "name": "stdout",
     "output_type": "stream",
     "text": [
      "ClearML Task: created new task id=c6ae9110ac62403198eb86edb4c97117\n",
      "2024-07-19 08:10:29,101 - clearml.Task - INFO - Storing jupyter notebook directly as code\n",
      "ClearML results page: https://app.clear.ml/projects/6708949aad9b465d9cd5d827c7bdec1e/experiments/c6ae9110ac62403198eb86edb4c97117/output/log\n"
     ]
    },
    {
     "name": "stdout",
     "output_type": "stream",
     "text": [
      "ClearML Monitor: GPU monitoring failed getting GPU reading, switching off GPU monitoring\n"
     ]
    }
   ],
   "source": [
    "from clearml import Task\n",
    "\n",
    "#Clear ML Initialization\n",
    "cl_task = Task.init(project_name=project,task_name=name)\n",
    "logger = cl_task.get_logger()"
   ]
  },
  {
   "cell_type": "markdown",
   "metadata": {},
   "source": [
    "# 2 Training"
   ]
  },
  {
   "cell_type": "code",
   "execution_count": 10,
   "metadata": {},
   "outputs": [
    {
     "name": "stdout",
     "output_type": "stream",
     "text": [
      "New https://pypi.org/project/ultralytics/8.2.60 available 😃 Update with 'pip install -U ultralytics'\n",
      "Ultralytics YOLOv8.2.41 🚀 Python-3.12.2 torch-2.3.1+cu121 CUDA:0 (NVIDIA RTX A5000, 24241MiB)\n",
      "\u001b[34m\u001b[1mengine/trainer: \u001b[0mtask=detect, mode=train, model=yolov8m.yaml, data=/mnt/data/backup_pan/Dataset/Mixed_datasets/Det-dominik_v2-sf_v1.v2i.yolov8/data.yaml, epochs=200, time=None, patience=100, batch=16, imgsz=640, save=True, save_period=-1, cache=False, device=0, workers=8, project=Uni-Wood, name=Mixed_YOLO_d2+sf1_test_1, exist_ok=False, pretrained=True, optimizer=Adam, verbose=True, seed=42, deterministic=True, single_cls=False, rect=False, cos_lr=True, close_mosaic=10, resume=False, amp=True, fraction=1.0, profile=False, freeze=None, multi_scale=False, overlap_mask=True, mask_ratio=4, dropout=0.0, val=True, split=val, save_json=False, save_hybrid=False, conf=None, iou=0.7, max_det=300, half=False, dnn=False, plots=True, source=None, vid_stride=1, stream_buffer=False, visualize=False, augment=False, agnostic_nms=False, classes=None, retina_masks=False, embed=None, show=False, save_frames=False, save_txt=False, save_conf=False, save_crop=False, show_labels=True, show_conf=True, show_boxes=True, line_width=None, format=torchscript, keras=False, optimize=False, int8=False, dynamic=False, simplify=False, opset=None, workspace=4, nms=False, lr0=0.001, lrf=0.01, momentum=0.9, weight_decay=0.0005, warmup_epochs=3.0, warmup_momentum=0.8, warmup_bias_lr=0.1, box=7.5, cls=0.5, dfl=1.5, pose=12.0, kobj=1.0, label_smoothing=0.0, nbs=64, hsv_h=0.015, hsv_s=0.7, hsv_v=0.4, degrees=0.0, translate=0.1, scale=0.5, shear=0.0, perspective=0.0, flipud=0.0, fliplr=0.5, bgr=0.0, mosaic=1.0, mixup=0.0, copy_paste=0.0, auto_augment=randaugment, erasing=0.4, crop_fraction=1.0, cfg=None, tracker=botsort.yaml, save_dir=Uni-Wood/Mixed_YOLO_d2+sf1_test_1\n",
      "Overriding model.yaml nc=80 with nc=2\n",
      "\n",
      "                   from  n    params  module                                       arguments                     \n",
      "  0                  -1  1      1392  ultralytics.nn.modules.conv.Conv             [3, 48, 3, 2]                 \n",
      "  1                  -1  1     41664  ultralytics.nn.modules.conv.Conv             [48, 96, 3, 2]                \n",
      "  2                  -1  2    111360  ultralytics.nn.modules.block.C2f             [96, 96, 2, True]             \n",
      "  3                  -1  1    166272  ultralytics.nn.modules.conv.Conv             [96, 192, 3, 2]               \n",
      "  4                  -1  4    813312  ultralytics.nn.modules.block.C2f             [192, 192, 4, True]           \n",
      "  5                  -1  1    664320  ultralytics.nn.modules.conv.Conv             [192, 384, 3, 2]              \n",
      "  6                  -1  4   3248640  ultralytics.nn.modules.block.C2f             [384, 384, 4, True]           \n",
      "  7                  -1  1   1991808  ultralytics.nn.modules.conv.Conv             [384, 576, 3, 2]              \n",
      "  8                  -1  2   3985920  ultralytics.nn.modules.block.C2f             [576, 576, 2, True]           \n",
      "  9                  -1  1    831168  ultralytics.nn.modules.block.SPPF            [576, 576, 5]                 \n",
      " 10                  -1  1         0  torch.nn.modules.upsampling.Upsample         [None, 2, 'nearest']          \n",
      " 11             [-1, 6]  1         0  ultralytics.nn.modules.conv.Concat           [1]                           \n",
      " 12                  -1  2   1993728  ultralytics.nn.modules.block.C2f             [960, 384, 2]                 \n",
      " 13                  -1  1         0  torch.nn.modules.upsampling.Upsample         [None, 2, 'nearest']          \n",
      " 14             [-1, 4]  1         0  ultralytics.nn.modules.conv.Concat           [1]                           \n",
      " 15                  -1  2    517632  ultralytics.nn.modules.block.C2f             [576, 192, 2]                 \n",
      " 16                  -1  1    332160  ultralytics.nn.modules.conv.Conv             [192, 192, 3, 2]              \n",
      " 17            [-1, 12]  1         0  ultralytics.nn.modules.conv.Concat           [1]                           \n",
      " 18                  -1  2   1846272  ultralytics.nn.modules.block.C2f             [576, 384, 2]                 \n",
      " 19                  -1  1   1327872  ultralytics.nn.modules.conv.Conv             [384, 384, 3, 2]              \n",
      " 20             [-1, 9]  1         0  ultralytics.nn.modules.conv.Concat           [1]                           \n",
      " 21                  -1  2   4207104  ultralytics.nn.modules.block.C2f             [960, 576, 2]                 \n",
      " 22        [15, 18, 21]  1   3776854  ultralytics.nn.modules.head.Detect           [2, [192, 384, 576]]          \n",
      "YOLOv8m summary: 295 layers, 25857478 parameters, 25857462 gradients, 79.1 GFLOPs\n",
      "\n",
      "\u001b[34m\u001b[1mTensorBoard: \u001b[0mStart with 'tensorboard --logdir Uni-Wood/Mixed_YOLO_d2+sf1_test_1', view at http://localhost:6006/\n",
      "Freezing layer 'model.22.dfl.conv.weight'\n",
      "\u001b[34m\u001b[1mAMP: \u001b[0mrunning Automatic Mixed Precision (AMP) checks with YOLOv8n...\n",
      "\u001b[34m\u001b[1mAMP: \u001b[0mchecks passed ✅\n"
     ]
    },
    {
     "name": "stderr",
     "output_type": "stream",
     "text": [
      "\u001b[34m\u001b[1mtrain: \u001b[0mScanning /mnt/data/backup_pan/Dataset/Mixed_datasets/Det-dominik_v2-sf_v1.v2i.yolov8/train/labels... 2178 images, 11 backgrounds, 0 corrupt: 100%|██████████| 2178/2178 [00:02<00:00, 937.59it/s]\n"
     ]
    },
    {
     "name": "stdout",
     "output_type": "stream",
     "text": [
      "\u001b[34m\u001b[1mtrain: \u001b[0mNew cache created: /mnt/data/backup_pan/Dataset/Mixed_datasets/Det-dominik_v2-sf_v1.v2i.yolov8/train/labels.cache\n"
     ]
    },
    {
     "name": "stderr",
     "output_type": "stream",
     "text": [
      "\u001b[34m\u001b[1mval: \u001b[0mScanning /mnt/data/backup_pan/Dataset/Mixed_datasets/Det-dominik_v2-sf_v1.v2i.yolov8/valid/labels... 256 images, 1 backgrounds, 0 corrupt: 100%|██████████| 256/256 [00:00<00:00, 1203.68it/s]"
     ]
    },
    {
     "name": "stdout",
     "output_type": "stream",
     "text": [
      "\u001b[34m\u001b[1mval: \u001b[0mNew cache created: /mnt/data/backup_pan/Dataset/Mixed_datasets/Det-dominik_v2-sf_v1.v2i.yolov8/valid/labels.cache\n"
     ]
    },
    {
     "name": "stderr",
     "output_type": "stream",
     "text": [
      "\n"
     ]
    },
    {
     "name": "stdout",
     "output_type": "stream",
     "text": [
      "Plotting labels to Uni-Wood/Mixed_YOLO_d2+sf1_test_1/labels.jpg... \n",
      "\u001b[34m\u001b[1moptimizer:\u001b[0m Adam(lr=0.001, momentum=0.9) with parameter groups 77 weight(decay=0.0), 84 weight(decay=0.0005), 83 bias(decay=0.0)\n",
      "\u001b[34m\u001b[1mTensorBoard: \u001b[0mmodel graph visualization added ✅\n",
      "Image sizes 640 train, 640 val\n",
      "Using 8 dataloader workers\n",
      "Logging results to \u001b[1mUni-Wood/Mixed_YOLO_d2+sf1_test_1\u001b[0m\n",
      "Starting training for 200 epochs...\n",
      "\n",
      "      Epoch    GPU_mem   box_loss   cls_loss   dfl_loss  Instances       Size\n"
     ]
    },
    {
     "name": "stderr",
     "output_type": "stream",
     "text": [
      "      1/200       6.9G      2.985      3.409      2.888          5        640: 100%|██████████| 137/137 [00:27<00:00,  4.99it/s]\n",
      "                 Class     Images  Instances      Box(P          R      mAP50  mAP50-95): 100%|██████████| 8/8 [00:01<00:00,  5.55it/s]"
     ]
    },
    {
     "name": "stdout",
     "output_type": "stream",
     "text": [
      "                   all        256        349      0.343      0.281      0.225     0.0772\n"
     ]
    },
    {
     "name": "stderr",
     "output_type": "stream",
     "text": [
      "\n"
     ]
    },
    {
     "name": "stdout",
     "output_type": "stream",
     "text": [
      "\n",
      "      Epoch    GPU_mem   box_loss   cls_loss   dfl_loss  Instances       Size\n"
     ]
    },
    {
     "name": "stderr",
     "output_type": "stream",
     "text": [
      "      2/200      6.74G      2.283      2.302      2.246          5        640: 100%|██████████| 137/137 [00:25<00:00,  5.37it/s]\n",
      "                 Class     Images  Instances      Box(P          R      mAP50  mAP50-95): 100%|██████████| 8/8 [00:01<00:00,  5.86it/s]"
     ]
    },
    {
     "name": "stdout",
     "output_type": "stream",
     "text": [
      "                   all        256        349      0.591       0.47      0.498      0.223\n"
     ]
    },
    {
     "name": "stderr",
     "output_type": "stream",
     "text": [
      "\n"
     ]
    },
    {
     "name": "stdout",
     "output_type": "stream",
     "text": [
      "\n",
      "      Epoch    GPU_mem   box_loss   cls_loss   dfl_loss  Instances       Size\n"
     ]
    },
    {
     "name": "stderr",
     "output_type": "stream",
     "text": [
      "      3/200      6.73G      1.981      1.888      2.027          3        640: 100%|██████████| 137/137 [00:25<00:00,  5.36it/s]\n",
      "                 Class     Images  Instances      Box(P          R      mAP50  mAP50-95): 100%|██████████| 8/8 [00:01<00:00,  5.92it/s]"
     ]
    },
    {
     "name": "stdout",
     "output_type": "stream",
     "text": [
      "                   all        256        349      0.473      0.464      0.425      0.167\n"
     ]
    },
    {
     "name": "stderr",
     "output_type": "stream",
     "text": [
      "\n"
     ]
    },
    {
     "name": "stdout",
     "output_type": "stream",
     "text": [
      "\n",
      "      Epoch    GPU_mem   box_loss   cls_loss   dfl_loss  Instances       Size\n"
     ]
    },
    {
     "name": "stderr",
     "output_type": "stream",
     "text": [
      "      4/200       6.7G      1.854      1.764      1.904          5        640: 100%|██████████| 137/137 [00:25<00:00,  5.39it/s]\n",
      "                 Class     Images  Instances      Box(P          R      mAP50  mAP50-95): 100%|██████████| 8/8 [00:01<00:00,  5.85it/s]"
     ]
    },
    {
     "name": "stdout",
     "output_type": "stream",
     "text": [
      "                   all        256        349      0.649      0.542      0.612        0.3\n"
     ]
    },
    {
     "name": "stderr",
     "output_type": "stream",
     "text": [
      "\n"
     ]
    },
    {
     "name": "stdout",
     "output_type": "stream",
     "text": [
      "\n",
      "      Epoch    GPU_mem   box_loss   cls_loss   dfl_loss  Instances       Size\n"
     ]
    },
    {
     "name": "stderr",
     "output_type": "stream",
     "text": [
      "      5/200      6.84G      1.751      1.625       1.82          3        640: 100%|██████████| 137/137 [00:25<00:00,  5.37it/s]\n",
      "                 Class     Images  Instances      Box(P          R      mAP50  mAP50-95): 100%|██████████| 8/8 [00:01<00:00,  5.85it/s]\n"
     ]
    },
    {
     "name": "stdout",
     "output_type": "stream",
     "text": [
      "                   all        256        349      0.762      0.662      0.721      0.393\n",
      "\n",
      "      Epoch    GPU_mem   box_loss   cls_loss   dfl_loss  Instances       Size\n"
     ]
    },
    {
     "name": "stderr",
     "output_type": "stream",
     "text": [
      "      6/200       6.8G      1.693      1.559      1.765          6        640: 100%|██████████| 137/137 [00:25<00:00,  5.38it/s]\n",
      "                 Class     Images  Instances      Box(P          R      mAP50  mAP50-95): 100%|██████████| 8/8 [00:01<00:00,  5.88it/s]"
     ]
    },
    {
     "name": "stdout",
     "output_type": "stream",
     "text": [
      "                   all        256        349      0.664      0.652      0.703      0.392\n"
     ]
    },
    {
     "name": "stderr",
     "output_type": "stream",
     "text": [
      "\n"
     ]
    },
    {
     "name": "stdout",
     "output_type": "stream",
     "text": [
      "\n",
      "      Epoch    GPU_mem   box_loss   cls_loss   dfl_loss  Instances       Size\n"
     ]
    },
    {
     "name": "stderr",
     "output_type": "stream",
     "text": [
      "      7/200      6.82G      1.647      1.468      1.724          7        640: 100%|██████████| 137/137 [00:25<00:00,  5.36it/s]\n",
      "                 Class     Images  Instances      Box(P          R      mAP50  mAP50-95): 100%|██████████| 8/8 [00:01<00:00,  5.88it/s]"
     ]
    },
    {
     "name": "stdout",
     "output_type": "stream",
     "text": [
      "                   all        256        349      0.823      0.587      0.733      0.442\n"
     ]
    },
    {
     "name": "stderr",
     "output_type": "stream",
     "text": [
      "\n"
     ]
    },
    {
     "name": "stdout",
     "output_type": "stream",
     "text": [
      "\n",
      "      Epoch    GPU_mem   box_loss   cls_loss   dfl_loss  Instances       Size\n"
     ]
    },
    {
     "name": "stderr",
     "output_type": "stream",
     "text": [
      "      8/200      6.71G      1.634      1.473      1.717          1        640: 100%|██████████| 137/137 [00:25<00:00,  5.37it/s]\n",
      "                 Class     Images  Instances      Box(P          R      mAP50  mAP50-95): 100%|██████████| 8/8 [00:01<00:00,  5.79it/s]"
     ]
    },
    {
     "name": "stdout",
     "output_type": "stream",
     "text": [
      "                   all        256        349      0.746      0.688      0.761       0.45\n"
     ]
    },
    {
     "name": "stderr",
     "output_type": "stream",
     "text": [
      "\n"
     ]
    },
    {
     "name": "stdout",
     "output_type": "stream",
     "text": [
      "\n",
      "      Epoch    GPU_mem   box_loss   cls_loss   dfl_loss  Instances       Size\n"
     ]
    },
    {
     "name": "stderr",
     "output_type": "stream",
     "text": [
      "      9/200      6.84G      1.587      1.406      1.685          2        640: 100%|██████████| 137/137 [00:25<00:00,  5.39it/s]\n",
      "                 Class     Images  Instances      Box(P          R      mAP50  mAP50-95): 100%|██████████| 8/8 [00:01<00:00,  5.98it/s]"
     ]
    },
    {
     "name": "stdout",
     "output_type": "stream",
     "text": [
      "                   all        256        349      0.829      0.696      0.802      0.444\n"
     ]
    },
    {
     "name": "stderr",
     "output_type": "stream",
     "text": [
      "\n"
     ]
    },
    {
     "name": "stdout",
     "output_type": "stream",
     "text": [
      "\n",
      "      Epoch    GPU_mem   box_loss   cls_loss   dfl_loss  Instances       Size\n"
     ]
    },
    {
     "name": "stderr",
     "output_type": "stream",
     "text": [
      "     10/200       6.8G      1.548      1.385      1.654          4        640: 100%|██████████| 137/137 [00:25<00:00,  5.37it/s]\n",
      "                 Class     Images  Instances      Box(P          R      mAP50  mAP50-95): 100%|██████████| 8/8 [00:01<00:00,  5.80it/s]"
     ]
    },
    {
     "name": "stdout",
     "output_type": "stream",
     "text": [
      "                   all        256        349      0.794      0.719        0.8      0.473\n"
     ]
    },
    {
     "name": "stderr",
     "output_type": "stream",
     "text": [
      "\n"
     ]
    },
    {
     "name": "stdout",
     "output_type": "stream",
     "text": [
      "\n",
      "      Epoch    GPU_mem   box_loss   cls_loss   dfl_loss  Instances       Size\n"
     ]
    },
    {
     "name": "stderr",
     "output_type": "stream",
     "text": [
      "     11/200      6.79G      1.527      1.351      1.646          1        640: 100%|██████████| 137/137 [00:25<00:00,  5.37it/s]\n",
      "                 Class     Images  Instances      Box(P          R      mAP50  mAP50-95): 100%|██████████| 8/8 [00:01<00:00,  5.85it/s]"
     ]
    },
    {
     "name": "stdout",
     "output_type": "stream",
     "text": [
      "                   all        256        349        0.8      0.725      0.809      0.486\n"
     ]
    },
    {
     "name": "stderr",
     "output_type": "stream",
     "text": [
      "\n"
     ]
    },
    {
     "name": "stdout",
     "output_type": "stream",
     "text": [
      "\n",
      "      Epoch    GPU_mem   box_loss   cls_loss   dfl_loss  Instances       Size\n"
     ]
    },
    {
     "name": "stderr",
     "output_type": "stream",
     "text": [
      "     12/200      6.72G      1.534      1.317      1.652          3        640: 100%|██████████| 137/137 [00:25<00:00,  5.36it/s]\n",
      "                 Class     Images  Instances      Box(P          R      mAP50  mAP50-95): 100%|██████████| 8/8 [00:01<00:00,  5.85it/s]"
     ]
    },
    {
     "name": "stdout",
     "output_type": "stream",
     "text": [
      "                   all        256        349      0.816      0.734      0.825      0.517\n"
     ]
    },
    {
     "name": "stderr",
     "output_type": "stream",
     "text": [
      "\n"
     ]
    },
    {
     "name": "stdout",
     "output_type": "stream",
     "text": [
      "\n",
      "      Epoch    GPU_mem   box_loss   cls_loss   dfl_loss  Instances       Size\n"
     ]
    },
    {
     "name": "stderr",
     "output_type": "stream",
     "text": [
      "     13/200      6.84G      1.498      1.306      1.642          3        640: 100%|██████████| 137/137 [00:25<00:00,  5.37it/s]\n",
      "                 Class     Images  Instances      Box(P          R      mAP50  mAP50-95): 100%|██████████| 8/8 [00:01<00:00,  5.87it/s]"
     ]
    },
    {
     "name": "stdout",
     "output_type": "stream",
     "text": [
      "                   all        256        349      0.808      0.725      0.798      0.473\n"
     ]
    },
    {
     "name": "stderr",
     "output_type": "stream",
     "text": [
      "\n"
     ]
    },
    {
     "name": "stdout",
     "output_type": "stream",
     "text": [
      "\n",
      "      Epoch    GPU_mem   box_loss   cls_loss   dfl_loss  Instances       Size\n"
     ]
    },
    {
     "name": "stderr",
     "output_type": "stream",
     "text": [
      "     14/200      6.82G      1.459      1.241      1.606          2        640: 100%|██████████| 137/137 [00:25<00:00,  5.36it/s]\n",
      "                 Class     Images  Instances      Box(P          R      mAP50  mAP50-95): 100%|██████████| 8/8 [00:01<00:00,  5.80it/s]"
     ]
    },
    {
     "name": "stdout",
     "output_type": "stream",
     "text": [
      "                   all        256        349      0.702      0.742       0.78      0.469\n"
     ]
    },
    {
     "name": "stderr",
     "output_type": "stream",
     "text": [
      "\n"
     ]
    },
    {
     "name": "stdout",
     "output_type": "stream",
     "text": [
      "\n",
      "      Epoch    GPU_mem   box_loss   cls_loss   dfl_loss  Instances       Size\n"
     ]
    },
    {
     "name": "stderr",
     "output_type": "stream",
     "text": [
      "     15/200      6.81G      1.474      1.242      1.605          4        640: 100%|██████████| 137/137 [00:25<00:00,  5.36it/s]\n",
      "                 Class     Images  Instances      Box(P          R      mAP50  mAP50-95): 100%|██████████| 8/8 [00:01<00:00,  5.92it/s]"
     ]
    },
    {
     "name": "stdout",
     "output_type": "stream",
     "text": [
      "                   all        256        349      0.781      0.799      0.846      0.515\n"
     ]
    },
    {
     "name": "stderr",
     "output_type": "stream",
     "text": [
      "\n"
     ]
    },
    {
     "name": "stdout",
     "output_type": "stream",
     "text": [
      "\n",
      "      Epoch    GPU_mem   box_loss   cls_loss   dfl_loss  Instances       Size\n"
     ]
    },
    {
     "name": "stderr",
     "output_type": "stream",
     "text": [
      "     16/200       6.7G      1.459      1.215      1.586          2        640: 100%|██████████| 137/137 [00:25<00:00,  5.34it/s]\n",
      "                 Class     Images  Instances      Box(P          R      mAP50  mAP50-95): 100%|██████████| 8/8 [00:01<00:00,  5.91it/s]"
     ]
    },
    {
     "name": "stdout",
     "output_type": "stream",
     "text": [
      "                   all        256        349      0.775      0.822      0.836      0.492\n"
     ]
    },
    {
     "name": "stderr",
     "output_type": "stream",
     "text": [
      "\n"
     ]
    },
    {
     "name": "stdout",
     "output_type": "stream",
     "text": [
      "\n",
      "      Epoch    GPU_mem   box_loss   cls_loss   dfl_loss  Instances       Size\n"
     ]
    },
    {
     "name": "stderr",
     "output_type": "stream",
     "text": [
      "     17/200      6.83G      1.449      1.222       1.61          3        640: 100%|██████████| 137/137 [00:25<00:00,  5.35it/s]\n",
      "                 Class     Images  Instances      Box(P          R      mAP50  mAP50-95): 100%|██████████| 8/8 [00:01<00:00,  5.89it/s]"
     ]
    },
    {
     "name": "stdout",
     "output_type": "stream",
     "text": [
      "                   all        256        349      0.838      0.757      0.834       0.53\n"
     ]
    },
    {
     "name": "stderr",
     "output_type": "stream",
     "text": [
      "\n"
     ]
    },
    {
     "name": "stdout",
     "output_type": "stream",
     "text": [
      "\n",
      "      Epoch    GPU_mem   box_loss   cls_loss   dfl_loss  Instances       Size\n"
     ]
    },
    {
     "name": "stderr",
     "output_type": "stream",
     "text": [
      "     18/200      6.81G      1.433      1.216      1.584          2        640: 100%|██████████| 137/137 [00:25<00:00,  5.36it/s]\n",
      "                 Class     Images  Instances      Box(P          R      mAP50  mAP50-95): 100%|██████████| 8/8 [00:01<00:00,  5.83it/s]"
     ]
    },
    {
     "name": "stdout",
     "output_type": "stream",
     "text": [
      "                   all        256        349      0.814      0.756      0.828      0.527\n"
     ]
    },
    {
     "name": "stderr",
     "output_type": "stream",
     "text": [
      "\n"
     ]
    },
    {
     "name": "stdout",
     "output_type": "stream",
     "text": [
      "\n",
      "      Epoch    GPU_mem   box_loss   cls_loss   dfl_loss  Instances       Size\n"
     ]
    },
    {
     "name": "stderr",
     "output_type": "stream",
     "text": [
      "     19/200      6.79G       1.42      1.183      1.579          4        640: 100%|██████████| 137/137 [00:25<00:00,  5.36it/s]\n",
      "                 Class     Images  Instances      Box(P          R      mAP50  mAP50-95): 100%|██████████| 8/8 [00:01<00:00,  5.92it/s]"
     ]
    },
    {
     "name": "stdout",
     "output_type": "stream",
     "text": [
      "                   all        256        349      0.811      0.749      0.842      0.511\n"
     ]
    },
    {
     "name": "stderr",
     "output_type": "stream",
     "text": [
      "\n"
     ]
    },
    {
     "name": "stdout",
     "output_type": "stream",
     "text": [
      "\n",
      "      Epoch    GPU_mem   box_loss   cls_loss   dfl_loss  Instances       Size\n"
     ]
    },
    {
     "name": "stderr",
     "output_type": "stream",
     "text": [
      "     20/200      6.72G      1.406      1.173      1.591          4        640: 100%|██████████| 137/137 [00:25<00:00,  5.35it/s]\n",
      "                 Class     Images  Instances      Box(P          R      mAP50  mAP50-95): 100%|██████████| 8/8 [00:01<00:00,  5.95it/s]"
     ]
    },
    {
     "name": "stdout",
     "output_type": "stream",
     "text": [
      "                   all        256        349      0.801      0.765      0.834      0.515\n"
     ]
    },
    {
     "name": "stderr",
     "output_type": "stream",
     "text": [
      "\n"
     ]
    },
    {
     "name": "stdout",
     "output_type": "stream",
     "text": [
      "\n",
      "      Epoch    GPU_mem   box_loss   cls_loss   dfl_loss  Instances       Size\n"
     ]
    },
    {
     "name": "stderr",
     "output_type": "stream",
     "text": [
      "     21/200      6.84G      1.392      1.149      1.559          4        640: 100%|██████████| 137/137 [00:25<00:00,  5.35it/s]\n",
      "                 Class     Images  Instances      Box(P          R      mAP50  mAP50-95): 100%|██████████| 8/8 [00:01<00:00,  5.80it/s]"
     ]
    },
    {
     "name": "stdout",
     "output_type": "stream",
     "text": [
      "                   all        256        349      0.865      0.791      0.875      0.582\n"
     ]
    },
    {
     "name": "stderr",
     "output_type": "stream",
     "text": [
      "\n"
     ]
    },
    {
     "name": "stdout",
     "output_type": "stream",
     "text": [
      "\n",
      "      Epoch    GPU_mem   box_loss   cls_loss   dfl_loss  Instances       Size\n"
     ]
    },
    {
     "name": "stderr",
     "output_type": "stream",
     "text": [
      "     22/200       6.8G      1.383      1.123      1.558          3        640: 100%|██████████| 137/137 [00:25<00:00,  5.35it/s]\n",
      "                 Class     Images  Instances      Box(P          R      mAP50  mAP50-95): 100%|██████████| 8/8 [00:01<00:00,  5.87it/s]"
     ]
    },
    {
     "name": "stdout",
     "output_type": "stream",
     "text": [
      "                   all        256        349       0.82       0.81      0.873       0.56\n"
     ]
    },
    {
     "name": "stderr",
     "output_type": "stream",
     "text": [
      "\n"
     ]
    },
    {
     "name": "stdout",
     "output_type": "stream",
     "text": [
      "\n",
      "      Epoch    GPU_mem   box_loss   cls_loss   dfl_loss  Instances       Size\n"
     ]
    },
    {
     "name": "stderr",
     "output_type": "stream",
     "text": [
      "     23/200       6.8G      1.389      1.119      1.559          3        640: 100%|██████████| 137/137 [00:25<00:00,  5.37it/s]\n",
      "                 Class     Images  Instances      Box(P          R      mAP50  mAP50-95): 100%|██████████| 8/8 [00:01<00:00,  5.80it/s]"
     ]
    },
    {
     "name": "stdout",
     "output_type": "stream",
     "text": [
      "                   all        256        349      0.895      0.832      0.904      0.579\n"
     ]
    },
    {
     "name": "stderr",
     "output_type": "stream",
     "text": [
      "\n"
     ]
    },
    {
     "name": "stdout",
     "output_type": "stream",
     "text": [
      "\n",
      "      Epoch    GPU_mem   box_loss   cls_loss   dfl_loss  Instances       Size\n"
     ]
    },
    {
     "name": "stderr",
     "output_type": "stream",
     "text": [
      "     24/200      6.71G      1.391      1.145      1.568          2        640: 100%|██████████| 137/137 [00:25<00:00,  5.35it/s]\n",
      "                 Class     Images  Instances      Box(P          R      mAP50  mAP50-95): 100%|██████████| 8/8 [00:01<00:00,  5.79it/s]"
     ]
    },
    {
     "name": "stdout",
     "output_type": "stream",
     "text": [
      "                   all        256        349      0.845      0.857      0.887      0.565\n"
     ]
    },
    {
     "name": "stderr",
     "output_type": "stream",
     "text": [
      "\n"
     ]
    },
    {
     "name": "stdout",
     "output_type": "stream",
     "text": [
      "\n",
      "      Epoch    GPU_mem   box_loss   cls_loss   dfl_loss  Instances       Size\n"
     ]
    },
    {
     "name": "stderr",
     "output_type": "stream",
     "text": [
      "     25/200      6.82G      1.354      1.092      1.543          5        640: 100%|██████████| 137/137 [00:25<00:00,  5.38it/s]\n",
      "                 Class     Images  Instances      Box(P          R      mAP50  mAP50-95): 100%|██████████| 8/8 [00:01<00:00,  5.84it/s]"
     ]
    },
    {
     "name": "stdout",
     "output_type": "stream",
     "text": [
      "                   all        256        349      0.849      0.817      0.894       0.57\n"
     ]
    },
    {
     "name": "stderr",
     "output_type": "stream",
     "text": [
      "\n"
     ]
    },
    {
     "name": "stdout",
     "output_type": "stream",
     "text": [
      "\n",
      "      Epoch    GPU_mem   box_loss   cls_loss   dfl_loss  Instances       Size\n"
     ]
    },
    {
     "name": "stderr",
     "output_type": "stream",
     "text": [
      "     26/200       6.8G       1.37      1.097      1.553          5        640: 100%|██████████| 137/137 [00:25<00:00,  5.35it/s]\n",
      "                 Class     Images  Instances      Box(P          R      mAP50  mAP50-95): 100%|██████████| 8/8 [00:01<00:00,  5.90it/s]"
     ]
    },
    {
     "name": "stdout",
     "output_type": "stream",
     "text": [
      "                   all        256        349      0.814      0.828      0.878      0.544\n"
     ]
    },
    {
     "name": "stderr",
     "output_type": "stream",
     "text": [
      "\n"
     ]
    },
    {
     "name": "stdout",
     "output_type": "stream",
     "text": [
      "\n",
      "      Epoch    GPU_mem   box_loss   cls_loss   dfl_loss  Instances       Size\n"
     ]
    },
    {
     "name": "stderr",
     "output_type": "stream",
     "text": [
      "     27/200      6.81G      1.348       1.09      1.548          0        640: 100%|██████████| 137/137 [00:25<00:00,  5.35it/s]\n",
      "                 Class     Images  Instances      Box(P          R      mAP50  mAP50-95): 100%|██████████| 8/8 [00:01<00:00,  5.91it/s]"
     ]
    },
    {
     "name": "stdout",
     "output_type": "stream",
     "text": [
      "                   all        256        349       0.85      0.808      0.878      0.536\n"
     ]
    },
    {
     "name": "stderr",
     "output_type": "stream",
     "text": [
      "\n"
     ]
    },
    {
     "name": "stdout",
     "output_type": "stream",
     "text": [
      "\n",
      "      Epoch    GPU_mem   box_loss   cls_loss   dfl_loss  Instances       Size\n"
     ]
    },
    {
     "name": "stderr",
     "output_type": "stream",
     "text": [
      "     28/200      6.71G      1.331      1.064      1.536          2        640: 100%|██████████| 137/137 [00:25<00:00,  5.35it/s]\n",
      "                 Class     Images  Instances      Box(P          R      mAP50  mAP50-95): 100%|██████████| 8/8 [00:01<00:00,  5.76it/s]"
     ]
    },
    {
     "name": "stdout",
     "output_type": "stream",
     "text": [
      "                   all        256        349      0.813      0.831      0.875      0.566\n"
     ]
    },
    {
     "name": "stderr",
     "output_type": "stream",
     "text": [
      "\n"
     ]
    },
    {
     "name": "stdout",
     "output_type": "stream",
     "text": [
      "\n",
      "      Epoch    GPU_mem   box_loss   cls_loss   dfl_loss  Instances       Size\n"
     ]
    },
    {
     "name": "stderr",
     "output_type": "stream",
     "text": [
      "     29/200      6.83G       1.34      1.069      1.545          5        640: 100%|██████████| 137/137 [00:25<00:00,  5.35it/s]\n",
      "                 Class     Images  Instances      Box(P          R      mAP50  mAP50-95): 100%|██████████| 8/8 [00:01<00:00,  5.99it/s]"
     ]
    },
    {
     "name": "stdout",
     "output_type": "stream",
     "text": [
      "                   all        256        349       0.84       0.86      0.902      0.564\n"
     ]
    },
    {
     "name": "stderr",
     "output_type": "stream",
     "text": [
      "\n"
     ]
    },
    {
     "name": "stdout",
     "output_type": "stream",
     "text": [
      "\n",
      "      Epoch    GPU_mem   box_loss   cls_loss   dfl_loss  Instances       Size\n"
     ]
    },
    {
     "name": "stderr",
     "output_type": "stream",
     "text": [
      "     30/200      6.81G      1.326      1.058      1.529          5        640: 100%|██████████| 137/137 [00:25<00:00,  5.36it/s]\n",
      "                 Class     Images  Instances      Box(P          R      mAP50  mAP50-95): 100%|██████████| 8/8 [00:01<00:00,  5.62it/s]"
     ]
    },
    {
     "name": "stdout",
     "output_type": "stream",
     "text": [
      "                   all        256        349      0.857      0.819      0.884      0.559\n"
     ]
    },
    {
     "name": "stderr",
     "output_type": "stream",
     "text": [
      "\n"
     ]
    },
    {
     "name": "stdout",
     "output_type": "stream",
     "text": [
      "\n",
      "      Epoch    GPU_mem   box_loss   cls_loss   dfl_loss  Instances       Size\n"
     ]
    },
    {
     "name": "stderr",
     "output_type": "stream",
     "text": [
      "     31/200       6.8G      1.315      1.067      1.526          7        640: 100%|██████████| 137/137 [00:25<00:00,  5.36it/s]\n",
      "                 Class     Images  Instances      Box(P          R      mAP50  mAP50-95): 100%|██████████| 8/8 [00:01<00:00,  5.72it/s]"
     ]
    },
    {
     "name": "stdout",
     "output_type": "stream",
     "text": [
      "                   all        256        349      0.829      0.802      0.886      0.584\n"
     ]
    },
    {
     "name": "stderr",
     "output_type": "stream",
     "text": [
      "\n"
     ]
    },
    {
     "name": "stdout",
     "output_type": "stream",
     "text": [
      "\n",
      "      Epoch    GPU_mem   box_loss   cls_loss   dfl_loss  Instances       Size\n"
     ]
    },
    {
     "name": "stderr",
     "output_type": "stream",
     "text": [
      "     32/200      6.71G      1.335       1.04      1.538          2        640: 100%|██████████| 137/137 [00:25<00:00,  5.36it/s]\n",
      "                 Class     Images  Instances      Box(P          R      mAP50  mAP50-95): 100%|██████████| 8/8 [00:01<00:00,  5.72it/s]"
     ]
    },
    {
     "name": "stdout",
     "output_type": "stream",
     "text": [
      "                   all        256        349      0.803      0.797      0.862      0.542\n"
     ]
    },
    {
     "name": "stderr",
     "output_type": "stream",
     "text": [
      "\n"
     ]
    },
    {
     "name": "stdout",
     "output_type": "stream",
     "text": [
      "\n",
      "      Epoch    GPU_mem   box_loss   cls_loss   dfl_loss  Instances       Size\n"
     ]
    },
    {
     "name": "stderr",
     "output_type": "stream",
     "text": [
      "     33/200      6.84G      1.312      1.009      1.528          3        640: 100%|██████████| 137/137 [00:25<00:00,  5.34it/s]\n",
      "                 Class     Images  Instances      Box(P          R      mAP50  mAP50-95): 100%|██████████| 8/8 [00:01<00:00,  5.93it/s]"
     ]
    },
    {
     "name": "stdout",
     "output_type": "stream",
     "text": [
      "                   all        256        349      0.869      0.839      0.915      0.598\n"
     ]
    },
    {
     "name": "stderr",
     "output_type": "stream",
     "text": [
      "\n"
     ]
    },
    {
     "name": "stdout",
     "output_type": "stream",
     "text": [
      "\n",
      "      Epoch    GPU_mem   box_loss   cls_loss   dfl_loss  Instances       Size\n"
     ]
    },
    {
     "name": "stderr",
     "output_type": "stream",
     "text": [
      "     34/200      6.82G      1.292      0.987      1.501          5        640: 100%|██████████| 137/137 [00:25<00:00,  5.36it/s]\n",
      "                 Class     Images  Instances      Box(P          R      mAP50  mAP50-95): 100%|██████████| 8/8 [00:01<00:00,  5.94it/s]"
     ]
    },
    {
     "name": "stdout",
     "output_type": "stream",
     "text": [
      "                   all        256        349       0.87      0.819      0.895      0.595\n"
     ]
    },
    {
     "name": "stderr",
     "output_type": "stream",
     "text": [
      "\n"
     ]
    },
    {
     "name": "stdout",
     "output_type": "stream",
     "text": [
      "\n",
      "      Epoch    GPU_mem   box_loss   cls_loss   dfl_loss  Instances       Size\n"
     ]
    },
    {
     "name": "stderr",
     "output_type": "stream",
     "text": [
      "     35/200      6.81G      1.273      0.976      1.507          6        640: 100%|██████████| 137/137 [00:25<00:00,  5.34it/s]\n",
      "                 Class     Images  Instances      Box(P          R      mAP50  mAP50-95): 100%|██████████| 8/8 [00:01<00:00,  5.88it/s]"
     ]
    },
    {
     "name": "stdout",
     "output_type": "stream",
     "text": [
      "                   all        256        349      0.865      0.848      0.902      0.568\n"
     ]
    },
    {
     "name": "stderr",
     "output_type": "stream",
     "text": [
      "\n"
     ]
    },
    {
     "name": "stdout",
     "output_type": "stream",
     "text": [
      "\n",
      "      Epoch    GPU_mem   box_loss   cls_loss   dfl_loss  Instances       Size\n"
     ]
    },
    {
     "name": "stderr",
     "output_type": "stream",
     "text": [
      "     36/200      6.71G      1.296     0.9932      1.516          2        640: 100%|██████████| 137/137 [00:25<00:00,  5.38it/s]\n",
      "                 Class     Images  Instances      Box(P          R      mAP50  mAP50-95): 100%|██████████| 8/8 [00:01<00:00,  5.90it/s]"
     ]
    },
    {
     "name": "stdout",
     "output_type": "stream",
     "text": [
      "                   all        256        349      0.842      0.865      0.912      0.583\n"
     ]
    },
    {
     "name": "stderr",
     "output_type": "stream",
     "text": [
      "\n"
     ]
    },
    {
     "name": "stdout",
     "output_type": "stream",
     "text": [
      "\n",
      "      Epoch    GPU_mem   box_loss   cls_loss   dfl_loss  Instances       Size\n"
     ]
    },
    {
     "name": "stderr",
     "output_type": "stream",
     "text": [
      "     37/200      6.83G      1.288     0.9812      1.504          7        640: 100%|██████████| 137/137 [00:25<00:00,  5.37it/s]\n",
      "                 Class     Images  Instances      Box(P          R      mAP50  mAP50-95): 100%|██████████| 8/8 [00:01<00:00,  5.94it/s]"
     ]
    },
    {
     "name": "stdout",
     "output_type": "stream",
     "text": [
      "                   all        256        349      0.876      0.868      0.919      0.602\n"
     ]
    },
    {
     "name": "stderr",
     "output_type": "stream",
     "text": [
      "\n"
     ]
    },
    {
     "name": "stdout",
     "output_type": "stream",
     "text": [
      "\n",
      "      Epoch    GPU_mem   box_loss   cls_loss   dfl_loss  Instances       Size\n"
     ]
    },
    {
     "name": "stderr",
     "output_type": "stream",
     "text": [
      "     38/200      6.83G      1.281       0.95      1.498          4        640: 100%|██████████| 137/137 [00:25<00:00,  5.39it/s]\n",
      "                 Class     Images  Instances      Box(P          R      mAP50  mAP50-95): 100%|██████████| 8/8 [00:01<00:00,  5.85it/s]"
     ]
    },
    {
     "name": "stdout",
     "output_type": "stream",
     "text": [
      "                   all        256        349      0.863      0.871       0.91        0.6\n"
     ]
    },
    {
     "name": "stderr",
     "output_type": "stream",
     "text": [
      "\n"
     ]
    },
    {
     "name": "stdout",
     "output_type": "stream",
     "text": [
      "\n",
      "      Epoch    GPU_mem   box_loss   cls_loss   dfl_loss  Instances       Size\n"
     ]
    },
    {
     "name": "stderr",
     "output_type": "stream",
     "text": [
      "     39/200      6.81G      1.263     0.9209      1.496          5        640: 100%|██████████| 137/137 [00:25<00:00,  5.38it/s]\n",
      "                 Class     Images  Instances      Box(P          R      mAP50  mAP50-95): 100%|██████████| 8/8 [00:01<00:00,  5.91it/s]"
     ]
    },
    {
     "name": "stdout",
     "output_type": "stream",
     "text": [
      "                   all        256        349      0.817      0.834      0.878      0.578\n"
     ]
    },
    {
     "name": "stderr",
     "output_type": "stream",
     "text": [
      "\n"
     ]
    },
    {
     "name": "stdout",
     "output_type": "stream",
     "text": [
      "\n",
      "      Epoch    GPU_mem   box_loss   cls_loss   dfl_loss  Instances       Size\n"
     ]
    },
    {
     "name": "stderr",
     "output_type": "stream",
     "text": [
      "     40/200      6.72G      1.255     0.9396       1.47          6        640: 100%|██████████| 137/137 [00:25<00:00,  5.35it/s]\n",
      "                 Class     Images  Instances      Box(P          R      mAP50  mAP50-95): 100%|██████████| 8/8 [00:01<00:00,  5.96it/s]"
     ]
    },
    {
     "name": "stdout",
     "output_type": "stream",
     "text": [
      "                   all        256        349      0.845      0.848      0.913      0.611\n"
     ]
    },
    {
     "name": "stderr",
     "output_type": "stream",
     "text": [
      "\n"
     ]
    },
    {
     "name": "stdout",
     "output_type": "stream",
     "text": [
      "\n",
      "      Epoch    GPU_mem   box_loss   cls_loss   dfl_loss  Instances       Size\n"
     ]
    },
    {
     "name": "stderr",
     "output_type": "stream",
     "text": [
      "     41/200      6.84G      1.259     0.9337      1.491          6        640: 100%|██████████| 137/137 [00:25<00:00,  5.38it/s]\n",
      "                 Class     Images  Instances      Box(P          R      mAP50  mAP50-95): 100%|██████████| 8/8 [00:01<00:00,  6.02it/s]"
     ]
    },
    {
     "name": "stdout",
     "output_type": "stream",
     "text": [
      "                   all        256        349      0.884      0.855      0.918      0.604\n"
     ]
    },
    {
     "name": "stderr",
     "output_type": "stream",
     "text": [
      "\n"
     ]
    },
    {
     "name": "stdout",
     "output_type": "stream",
     "text": [
      "\n",
      "      Epoch    GPU_mem   box_loss   cls_loss   dfl_loss  Instances       Size\n"
     ]
    },
    {
     "name": "stderr",
     "output_type": "stream",
     "text": [
      "     42/200      6.81G      1.243     0.9227       1.48          4        640: 100%|██████████| 137/137 [00:25<00:00,  5.37it/s]\n",
      "                 Class     Images  Instances      Box(P          R      mAP50  mAP50-95): 100%|██████████| 8/8 [00:01<00:00,  6.01it/s]"
     ]
    },
    {
     "name": "stdout",
     "output_type": "stream",
     "text": [
      "                   all        256        349      0.872      0.868      0.921      0.627\n"
     ]
    },
    {
     "name": "stderr",
     "output_type": "stream",
     "text": [
      "\n"
     ]
    },
    {
     "name": "stdout",
     "output_type": "stream",
     "text": [
      "\n",
      "      Epoch    GPU_mem   box_loss   cls_loss   dfl_loss  Instances       Size\n"
     ]
    },
    {
     "name": "stderr",
     "output_type": "stream",
     "text": [
      "     43/200      6.81G       1.24     0.9036      1.479          3        640: 100%|██████████| 137/137 [00:25<00:00,  5.38it/s]\n",
      "                 Class     Images  Instances      Box(P          R      mAP50  mAP50-95): 100%|██████████| 8/8 [00:01<00:00,  5.91it/s]"
     ]
    },
    {
     "name": "stdout",
     "output_type": "stream",
     "text": [
      "                   all        256        349      0.856      0.857      0.894      0.602\n"
     ]
    },
    {
     "name": "stderr",
     "output_type": "stream",
     "text": [
      "\n"
     ]
    },
    {
     "name": "stdout",
     "output_type": "stream",
     "text": [
      "\n",
      "      Epoch    GPU_mem   box_loss   cls_loss   dfl_loss  Instances       Size\n"
     ]
    },
    {
     "name": "stderr",
     "output_type": "stream",
     "text": [
      "     44/200      6.72G      1.239     0.9052      1.473         12        640: 100%|██████████| 137/137 [00:25<00:00,  5.36it/s]\n",
      "                 Class     Images  Instances      Box(P          R      mAP50  mAP50-95): 100%|██████████| 8/8 [00:01<00:00,  5.91it/s]"
     ]
    },
    {
     "name": "stdout",
     "output_type": "stream",
     "text": [
      "                   all        256        349       0.85      0.885      0.904      0.611\n"
     ]
    },
    {
     "name": "stderr",
     "output_type": "stream",
     "text": [
      "\n"
     ]
    },
    {
     "name": "stdout",
     "output_type": "stream",
     "text": [
      "\n",
      "      Epoch    GPU_mem   box_loss   cls_loss   dfl_loss  Instances       Size\n"
     ]
    },
    {
     "name": "stderr",
     "output_type": "stream",
     "text": [
      "     45/200      6.84G      1.246     0.8969      1.485          3        640: 100%|██████████| 137/137 [00:25<00:00,  5.38it/s]\n",
      "                 Class     Images  Instances      Box(P          R      mAP50  mAP50-95): 100%|██████████| 8/8 [00:01<00:00,  6.04it/s]"
     ]
    },
    {
     "name": "stdout",
     "output_type": "stream",
     "text": [
      "                   all        256        349      0.879      0.877       0.92      0.618\n"
     ]
    },
    {
     "name": "stderr",
     "output_type": "stream",
     "text": [
      "\n"
     ]
    },
    {
     "name": "stdout",
     "output_type": "stream",
     "text": [
      "\n",
      "      Epoch    GPU_mem   box_loss   cls_loss   dfl_loss  Instances       Size\n"
     ]
    },
    {
     "name": "stderr",
     "output_type": "stream",
     "text": [
      "     46/200       6.8G      1.212     0.8825      1.452          6        640: 100%|██████████| 137/137 [00:25<00:00,  5.38it/s]\n",
      "                 Class     Images  Instances      Box(P          R      mAP50  mAP50-95): 100%|██████████| 8/8 [00:01<00:00,  5.96it/s]"
     ]
    },
    {
     "name": "stdout",
     "output_type": "stream",
     "text": [
      "                   all        256        349      0.882       0.86      0.928      0.597\n"
     ]
    },
    {
     "name": "stderr",
     "output_type": "stream",
     "text": [
      "\n"
     ]
    },
    {
     "name": "stdout",
     "output_type": "stream",
     "text": [
      "\n",
      "      Epoch    GPU_mem   box_loss   cls_loss   dfl_loss  Instances       Size\n"
     ]
    },
    {
     "name": "stderr",
     "output_type": "stream",
     "text": [
      "     47/200      6.79G      1.212     0.8532      1.456          4        640: 100%|██████████| 137/137 [00:25<00:00,  5.36it/s]\n",
      "                 Class     Images  Instances      Box(P          R      mAP50  mAP50-95): 100%|██████████| 8/8 [00:01<00:00,  6.01it/s]"
     ]
    },
    {
     "name": "stdout",
     "output_type": "stream",
     "text": [
      "                   all        256        349       0.93      0.848      0.934      0.636\n"
     ]
    },
    {
     "name": "stderr",
     "output_type": "stream",
     "text": [
      "\n"
     ]
    },
    {
     "name": "stdout",
     "output_type": "stream",
     "text": [
      "\n",
      "      Epoch    GPU_mem   box_loss   cls_loss   dfl_loss  Instances       Size\n"
     ]
    },
    {
     "name": "stderr",
     "output_type": "stream",
     "text": [
      "     48/200       6.7G      1.189     0.8712      1.447         12        640: 100%|██████████| 137/137 [00:25<00:00,  5.37it/s]\n",
      "                 Class     Images  Instances      Box(P          R      mAP50  mAP50-95): 100%|██████████| 8/8 [00:01<00:00,  5.90it/s]"
     ]
    },
    {
     "name": "stdout",
     "output_type": "stream",
     "text": [
      "                   all        256        349      0.889      0.891      0.932      0.617\n"
     ]
    },
    {
     "name": "stderr",
     "output_type": "stream",
     "text": [
      "\n"
     ]
    },
    {
     "name": "stdout",
     "output_type": "stream",
     "text": [
      "\n",
      "      Epoch    GPU_mem   box_loss   cls_loss   dfl_loss  Instances       Size\n"
     ]
    },
    {
     "name": "stderr",
     "output_type": "stream",
     "text": [
      "     49/200      6.85G      1.204     0.8768      1.463         10        640: 100%|██████████| 137/137 [00:25<00:00,  5.37it/s]\n",
      "                 Class     Images  Instances      Box(P          R      mAP50  mAP50-95): 100%|██████████| 8/8 [00:01<00:00,  5.90it/s]"
     ]
    },
    {
     "name": "stdout",
     "output_type": "stream",
     "text": [
      "                   all        256        349      0.879      0.856      0.927      0.638\n"
     ]
    },
    {
     "name": "stderr",
     "output_type": "stream",
     "text": [
      "\n"
     ]
    },
    {
     "name": "stdout",
     "output_type": "stream",
     "text": [
      "\n",
      "      Epoch    GPU_mem   box_loss   cls_loss   dfl_loss  Instances       Size\n"
     ]
    },
    {
     "name": "stderr",
     "output_type": "stream",
     "text": [
      "     50/200       6.8G      1.188     0.8329      1.453          2        640: 100%|██████████| 137/137 [00:25<00:00,  5.38it/s]\n",
      "                 Class     Images  Instances      Box(P          R      mAP50  mAP50-95): 100%|██████████| 8/8 [00:01<00:00,  5.91it/s]"
     ]
    },
    {
     "name": "stdout",
     "output_type": "stream",
     "text": [
      "                   all        256        349      0.899      0.877      0.922      0.624\n"
     ]
    },
    {
     "name": "stderr",
     "output_type": "stream",
     "text": [
      "\n"
     ]
    },
    {
     "name": "stdout",
     "output_type": "stream",
     "text": [
      "\n",
      "      Epoch    GPU_mem   box_loss   cls_loss   dfl_loss  Instances       Size\n"
     ]
    },
    {
     "name": "stderr",
     "output_type": "stream",
     "text": [
      "     51/200       6.8G      1.206     0.8212      1.445          2        640: 100%|██████████| 137/137 [00:25<00:00,  5.39it/s]\n",
      "                 Class     Images  Instances      Box(P          R      mAP50  mAP50-95): 100%|██████████| 8/8 [00:01<00:00,  5.85it/s]"
     ]
    },
    {
     "name": "stdout",
     "output_type": "stream",
     "text": [
      "                   all        256        349      0.839      0.864      0.906      0.602\n"
     ]
    },
    {
     "name": "stderr",
     "output_type": "stream",
     "text": [
      "\n"
     ]
    },
    {
     "name": "stdout",
     "output_type": "stream",
     "text": [
      "\n",
      "      Epoch    GPU_mem   box_loss   cls_loss   dfl_loss  Instances       Size\n"
     ]
    },
    {
     "name": "stderr",
     "output_type": "stream",
     "text": [
      "     52/200       6.7G      1.207     0.8454      1.452          3        640: 100%|██████████| 137/137 [00:25<00:00,  5.39it/s]\n",
      "                 Class     Images  Instances      Box(P          R      mAP50  mAP50-95): 100%|██████████| 8/8 [00:01<00:00,  5.91it/s]"
     ]
    },
    {
     "name": "stdout",
     "output_type": "stream",
     "text": [
      "                   all        256        349      0.874      0.891       0.93      0.638\n"
     ]
    },
    {
     "name": "stderr",
     "output_type": "stream",
     "text": [
      "\n"
     ]
    },
    {
     "name": "stdout",
     "output_type": "stream",
     "text": [
      "\n",
      "      Epoch    GPU_mem   box_loss   cls_loss   dfl_loss  Instances       Size\n"
     ]
    },
    {
     "name": "stderr",
     "output_type": "stream",
     "text": [
      "     53/200      6.84G       1.17      0.812      1.423          2        640: 100%|██████████| 137/137 [00:25<00:00,  5.37it/s]\n",
      "                 Class     Images  Instances      Box(P          R      mAP50  mAP50-95): 100%|██████████| 8/8 [00:01<00:00,  5.97it/s]"
     ]
    },
    {
     "name": "stdout",
     "output_type": "stream",
     "text": [
      "                   all        256        349      0.867      0.875      0.915      0.611\n"
     ]
    },
    {
     "name": "stderr",
     "output_type": "stream",
     "text": [
      "\n"
     ]
    },
    {
     "name": "stdout",
     "output_type": "stream",
     "text": [
      "\n",
      "      Epoch    GPU_mem   box_loss   cls_loss   dfl_loss  Instances       Size\n"
     ]
    },
    {
     "name": "stderr",
     "output_type": "stream",
     "text": [
      "     54/200      6.81G      1.144     0.7884      1.407          2        640: 100%|██████████| 137/137 [00:25<00:00,  5.36it/s]\n",
      "                 Class     Images  Instances      Box(P          R      mAP50  mAP50-95): 100%|██████████| 8/8 [00:01<00:00,  5.98it/s]"
     ]
    },
    {
     "name": "stdout",
     "output_type": "stream",
     "text": [
      "                   all        256        349      0.875      0.919      0.941      0.656\n"
     ]
    },
    {
     "name": "stderr",
     "output_type": "stream",
     "text": [
      "\n"
     ]
    },
    {
     "name": "stdout",
     "output_type": "stream",
     "text": [
      "\n",
      "      Epoch    GPU_mem   box_loss   cls_loss   dfl_loss  Instances       Size\n"
     ]
    },
    {
     "name": "stderr",
     "output_type": "stream",
     "text": [
      "     55/200       6.8G      1.156     0.7939      1.425          6        640: 100%|██████████| 137/137 [00:25<00:00,  5.37it/s]\n",
      "                 Class     Images  Instances      Box(P          R      mAP50  mAP50-95): 100%|██████████| 8/8 [00:01<00:00,  5.92it/s]"
     ]
    },
    {
     "name": "stdout",
     "output_type": "stream",
     "text": [
      "                   all        256        349      0.909      0.886      0.935       0.63\n"
     ]
    },
    {
     "name": "stderr",
     "output_type": "stream",
     "text": [
      "\n"
     ]
    },
    {
     "name": "stdout",
     "output_type": "stream",
     "text": [
      "\n",
      "      Epoch    GPU_mem   box_loss   cls_loss   dfl_loss  Instances       Size\n"
     ]
    },
    {
     "name": "stderr",
     "output_type": "stream",
     "text": [
      "     56/200      6.71G      1.178     0.7871      1.424          3        640: 100%|██████████| 137/137 [00:25<00:00,  5.37it/s]\n",
      "                 Class     Images  Instances      Box(P          R      mAP50  mAP50-95): 100%|██████████| 8/8 [00:01<00:00,  6.04it/s]"
     ]
    },
    {
     "name": "stdout",
     "output_type": "stream",
     "text": [
      "                   all        256        349      0.919      0.905      0.948      0.662\n"
     ]
    },
    {
     "name": "stderr",
     "output_type": "stream",
     "text": [
      "\n"
     ]
    },
    {
     "name": "stdout",
     "output_type": "stream",
     "text": [
      "\n",
      "      Epoch    GPU_mem   box_loss   cls_loss   dfl_loss  Instances       Size\n"
     ]
    },
    {
     "name": "stderr",
     "output_type": "stream",
     "text": [
      "     57/200      6.85G      1.153     0.7831      1.415          3        640: 100%|██████████| 137/137 [00:25<00:00,  5.38it/s]\n",
      "                 Class     Images  Instances      Box(P          R      mAP50  mAP50-95): 100%|██████████| 8/8 [00:01<00:00,  6.06it/s]"
     ]
    },
    {
     "name": "stdout",
     "output_type": "stream",
     "text": [
      "                   all        256        349      0.895      0.874      0.925      0.611\n"
     ]
    },
    {
     "name": "stderr",
     "output_type": "stream",
     "text": [
      "\n"
     ]
    },
    {
     "name": "stdout",
     "output_type": "stream",
     "text": [
      "\n",
      "      Epoch    GPU_mem   box_loss   cls_loss   dfl_loss  Instances       Size\n"
     ]
    },
    {
     "name": "stderr",
     "output_type": "stream",
     "text": [
      "     58/200       6.8G       1.13     0.7575      1.394          5        640: 100%|██████████| 137/137 [00:25<00:00,  5.39it/s]\n",
      "                 Class     Images  Instances      Box(P          R      mAP50  mAP50-95): 100%|██████████| 8/8 [00:01<00:00,  5.96it/s]"
     ]
    },
    {
     "name": "stdout",
     "output_type": "stream",
     "text": [
      "                   all        256        349      0.908      0.894      0.937      0.631\n"
     ]
    },
    {
     "name": "stderr",
     "output_type": "stream",
     "text": [
      "\n"
     ]
    },
    {
     "name": "stdout",
     "output_type": "stream",
     "text": [
      "\n",
      "      Epoch    GPU_mem   box_loss   cls_loss   dfl_loss  Instances       Size\n"
     ]
    },
    {
     "name": "stderr",
     "output_type": "stream",
     "text": [
      "     59/200      6.81G      1.145     0.7793       1.41          3        640: 100%|██████████| 137/137 [00:25<00:00,  5.37it/s]\n",
      "                 Class     Images  Instances      Box(P          R      mAP50  mAP50-95): 100%|██████████| 8/8 [00:01<00:00,  5.94it/s]"
     ]
    },
    {
     "name": "stdout",
     "output_type": "stream",
     "text": [
      "                   all        256        349      0.877        0.9      0.922      0.643\n"
     ]
    },
    {
     "name": "stderr",
     "output_type": "stream",
     "text": [
      "\n"
     ]
    },
    {
     "name": "stdout",
     "output_type": "stream",
     "text": [
      "\n",
      "      Epoch    GPU_mem   box_loss   cls_loss   dfl_loss  Instances       Size\n"
     ]
    },
    {
     "name": "stderr",
     "output_type": "stream",
     "text": [
      "     60/200      6.72G      1.147     0.7644      1.404          3        640: 100%|██████████| 137/137 [00:25<00:00,  5.37it/s]\n",
      "                 Class     Images  Instances      Box(P          R      mAP50  mAP50-95): 100%|██████████| 8/8 [00:01<00:00,  5.98it/s]"
     ]
    },
    {
     "name": "stdout",
     "output_type": "stream",
     "text": [
      "                   all        256        349      0.894      0.896      0.919      0.637\n"
     ]
    },
    {
     "name": "stderr",
     "output_type": "stream",
     "text": [
      "\n"
     ]
    },
    {
     "name": "stdout",
     "output_type": "stream",
     "text": [
      "\n",
      "      Epoch    GPU_mem   box_loss   cls_loss   dfl_loss  Instances       Size\n"
     ]
    },
    {
     "name": "stderr",
     "output_type": "stream",
     "text": [
      "     61/200      6.82G      1.139     0.7464      1.401          2        640: 100%|██████████| 137/137 [00:25<00:00,  5.39it/s]\n",
      "                 Class     Images  Instances      Box(P          R      mAP50  mAP50-95): 100%|██████████| 8/8 [00:01<00:00,  5.84it/s]\n"
     ]
    },
    {
     "name": "stdout",
     "output_type": "stream",
     "text": [
      "                   all        256        349        0.9      0.875       0.91       0.59\n",
      "\n",
      "      Epoch    GPU_mem   box_loss   cls_loss   dfl_loss  Instances       Size\n"
     ]
    },
    {
     "name": "stderr",
     "output_type": "stream",
     "text": [
      "     62/200      6.82G      1.125     0.7448      1.396          5        640: 100%|██████████| 137/137 [00:25<00:00,  5.38it/s]\n",
      "                 Class     Images  Instances      Box(P          R      mAP50  mAP50-95): 100%|██████████| 8/8 [00:01<00:00,  6.05it/s]"
     ]
    },
    {
     "name": "stdout",
     "output_type": "stream",
     "text": [
      "                   all        256        349      0.914      0.894      0.942      0.654\n"
     ]
    },
    {
     "name": "stderr",
     "output_type": "stream",
     "text": [
      "\n"
     ]
    },
    {
     "name": "stdout",
     "output_type": "stream",
     "text": [
      "\n",
      "      Epoch    GPU_mem   box_loss   cls_loss   dfl_loss  Instances       Size\n"
     ]
    },
    {
     "name": "stderr",
     "output_type": "stream",
     "text": [
      "     63/200       6.8G      1.101     0.7381      1.375          5        640: 100%|██████████| 137/137 [00:25<00:00,  5.37it/s]\n",
      "                 Class     Images  Instances      Box(P          R      mAP50  mAP50-95): 100%|██████████| 8/8 [00:01<00:00,  5.88it/s]"
     ]
    },
    {
     "name": "stdout",
     "output_type": "stream",
     "text": [
      "                   all        256        349      0.903      0.909      0.942      0.661\n"
     ]
    },
    {
     "name": "stderr",
     "output_type": "stream",
     "text": [
      "\n"
     ]
    },
    {
     "name": "stdout",
     "output_type": "stream",
     "text": [
      "\n",
      "      Epoch    GPU_mem   box_loss   cls_loss   dfl_loss  Instances       Size\n"
     ]
    },
    {
     "name": "stderr",
     "output_type": "stream",
     "text": [
      "     64/200      6.71G        1.1     0.7307      1.369          4        640: 100%|██████████| 137/137 [00:25<00:00,  5.37it/s]\n",
      "                 Class     Images  Instances      Box(P          R      mAP50  mAP50-95): 100%|██████████| 8/8 [00:01<00:00,  5.89it/s]"
     ]
    },
    {
     "name": "stdout",
     "output_type": "stream",
     "text": [
      "                   all        256        349       0.89      0.885      0.927      0.615\n"
     ]
    },
    {
     "name": "stderr",
     "output_type": "stream",
     "text": [
      "\n"
     ]
    },
    {
     "name": "stdout",
     "output_type": "stream",
     "text": [
      "\n",
      "      Epoch    GPU_mem   box_loss   cls_loss   dfl_loss  Instances       Size\n"
     ]
    },
    {
     "name": "stderr",
     "output_type": "stream",
     "text": [
      "     65/200      6.84G      1.122     0.7429      1.385          6        640: 100%|██████████| 137/137 [00:25<00:00,  5.36it/s]\n",
      "                 Class     Images  Instances      Box(P          R      mAP50  mAP50-95): 100%|██████████| 8/8 [00:01<00:00,  6.00it/s]"
     ]
    },
    {
     "name": "stdout",
     "output_type": "stream",
     "text": [
      "                   all        256        349      0.922      0.887      0.941      0.662\n"
     ]
    },
    {
     "name": "stderr",
     "output_type": "stream",
     "text": [
      "\n"
     ]
    },
    {
     "name": "stdout",
     "output_type": "stream",
     "text": [
      "\n",
      "      Epoch    GPU_mem   box_loss   cls_loss   dfl_loss  Instances       Size\n"
     ]
    },
    {
     "name": "stderr",
     "output_type": "stream",
     "text": [
      "     66/200      6.81G      1.123     0.7528      1.386          5        640: 100%|██████████| 137/137 [00:25<00:00,  5.38it/s]\n",
      "                 Class     Images  Instances      Box(P          R      mAP50  mAP50-95): 100%|██████████| 8/8 [00:01<00:00,  5.89it/s]"
     ]
    },
    {
     "name": "stdout",
     "output_type": "stream",
     "text": [
      "                   all        256        349      0.915      0.908       0.94      0.667\n"
     ]
    },
    {
     "name": "stderr",
     "output_type": "stream",
     "text": [
      "\n"
     ]
    },
    {
     "name": "stdout",
     "output_type": "stream",
     "text": [
      "\n",
      "      Epoch    GPU_mem   box_loss   cls_loss   dfl_loss  Instances       Size\n"
     ]
    },
    {
     "name": "stderr",
     "output_type": "stream",
     "text": [
      "     67/200       6.8G      1.093     0.7191      1.369          6        640: 100%|██████████| 137/137 [00:25<00:00,  5.37it/s]\n",
      "                 Class     Images  Instances      Box(P          R      mAP50  mAP50-95): 100%|██████████| 8/8 [00:01<00:00,  6.02it/s]"
     ]
    },
    {
     "name": "stdout",
     "output_type": "stream",
     "text": [
      "                   all        256        349      0.907      0.925      0.944      0.673\n"
     ]
    },
    {
     "name": "stderr",
     "output_type": "stream",
     "text": [
      "\n"
     ]
    },
    {
     "name": "stdout",
     "output_type": "stream",
     "text": [
      "\n",
      "      Epoch    GPU_mem   box_loss   cls_loss   dfl_loss  Instances       Size\n"
     ]
    },
    {
     "name": "stderr",
     "output_type": "stream",
     "text": [
      "     68/200      6.71G      1.077      0.703      1.349          6        640: 100%|██████████| 137/137 [00:25<00:00,  5.40it/s]\n",
      "                 Class     Images  Instances      Box(P          R      mAP50  mAP50-95): 100%|██████████| 8/8 [00:01<00:00,  5.89it/s]"
     ]
    },
    {
     "name": "stdout",
     "output_type": "stream",
     "text": [
      "                   all        256        349      0.908      0.914      0.942      0.672\n"
     ]
    },
    {
     "name": "stderr",
     "output_type": "stream",
     "text": [
      "\n"
     ]
    },
    {
     "name": "stdout",
     "output_type": "stream",
     "text": [
      "\n",
      "      Epoch    GPU_mem   box_loss   cls_loss   dfl_loss  Instances       Size\n"
     ]
    },
    {
     "name": "stderr",
     "output_type": "stream",
     "text": [
      "     69/200      6.84G      1.078     0.7168      1.355          5        640: 100%|██████████| 137/137 [00:25<00:00,  5.39it/s]\n",
      "                 Class     Images  Instances      Box(P          R      mAP50  mAP50-95): 100%|██████████| 8/8 [00:01<00:00,  5.94it/s]"
     ]
    },
    {
     "name": "stdout",
     "output_type": "stream",
     "text": [
      "                   all        256        349       0.92      0.921      0.953      0.701\n"
     ]
    },
    {
     "name": "stderr",
     "output_type": "stream",
     "text": [
      "\n"
     ]
    },
    {
     "name": "stdout",
     "output_type": "stream",
     "text": [
      "\n",
      "      Epoch    GPU_mem   box_loss   cls_loss   dfl_loss  Instances       Size\n"
     ]
    },
    {
     "name": "stderr",
     "output_type": "stream",
     "text": [
      "     70/200       6.8G      1.075     0.7015      1.348          3        640: 100%|██████████| 137/137 [00:25<00:00,  5.38it/s]\n",
      "                 Class     Images  Instances      Box(P          R      mAP50  mAP50-95): 100%|██████████| 8/8 [00:01<00:00,  5.92it/s]"
     ]
    },
    {
     "name": "stdout",
     "output_type": "stream",
     "text": [
      "                   all        256        349      0.916      0.905      0.942       0.65\n"
     ]
    },
    {
     "name": "stderr",
     "output_type": "stream",
     "text": [
      "\n"
     ]
    },
    {
     "name": "stdout",
     "output_type": "stream",
     "text": [
      "\n",
      "      Epoch    GPU_mem   box_loss   cls_loss   dfl_loss  Instances       Size\n"
     ]
    },
    {
     "name": "stderr",
     "output_type": "stream",
     "text": [
      "     71/200      6.79G       1.07     0.6909      1.348          3        640: 100%|██████████| 137/137 [00:25<00:00,  5.39it/s]\n",
      "                 Class     Images  Instances      Box(P          R      mAP50  mAP50-95): 100%|██████████| 8/8 [00:01<00:00,  6.10it/s]"
     ]
    },
    {
     "name": "stdout",
     "output_type": "stream",
     "text": [
      "                   all        256        349      0.902      0.928      0.945       0.69\n"
     ]
    },
    {
     "name": "stderr",
     "output_type": "stream",
     "text": [
      "\n"
     ]
    },
    {
     "name": "stdout",
     "output_type": "stream",
     "text": [
      "\n",
      "      Epoch    GPU_mem   box_loss   cls_loss   dfl_loss  Instances       Size\n"
     ]
    },
    {
     "name": "stderr",
     "output_type": "stream",
     "text": [
      "     72/200      6.71G      1.073     0.6963      1.342          4        640: 100%|██████████| 137/137 [00:25<00:00,  5.37it/s]\n",
      "                 Class     Images  Instances      Box(P          R      mAP50  mAP50-95): 100%|██████████| 8/8 [00:01<00:00,  6.02it/s]"
     ]
    },
    {
     "name": "stdout",
     "output_type": "stream",
     "text": [
      "                   all        256        349      0.928      0.911      0.954       0.68\n"
     ]
    },
    {
     "name": "stderr",
     "output_type": "stream",
     "text": [
      "\n"
     ]
    },
    {
     "name": "stdout",
     "output_type": "stream",
     "text": [
      "\n",
      "      Epoch    GPU_mem   box_loss   cls_loss   dfl_loss  Instances       Size\n"
     ]
    },
    {
     "name": "stderr",
     "output_type": "stream",
     "text": [
      "     73/200      6.84G      1.056     0.6797      1.338          4        640: 100%|██████████| 137/137 [00:25<00:00,  5.38it/s]\n",
      "                 Class     Images  Instances      Box(P          R      mAP50  mAP50-95): 100%|██████████| 8/8 [00:01<00:00,  5.94it/s]"
     ]
    },
    {
     "name": "stdout",
     "output_type": "stream",
     "text": [
      "                   all        256        349      0.939      0.932      0.963      0.696\n"
     ]
    },
    {
     "name": "stderr",
     "output_type": "stream",
     "text": [
      "\n"
     ]
    },
    {
     "name": "stdout",
     "output_type": "stream",
     "text": [
      "\n",
      "      Epoch    GPU_mem   box_loss   cls_loss   dfl_loss  Instances       Size\n"
     ]
    },
    {
     "name": "stderr",
     "output_type": "stream",
     "text": [
      "     74/200      6.82G      1.063     0.6773      1.347          1        640: 100%|██████████| 137/137 [00:25<00:00,  5.39it/s]\n",
      "                 Class     Images  Instances      Box(P          R      mAP50  mAP50-95): 100%|██████████| 8/8 [00:01<00:00,  5.97it/s]"
     ]
    },
    {
     "name": "stdout",
     "output_type": "stream",
     "text": [
      "                   all        256        349      0.922      0.918      0.953      0.686\n"
     ]
    },
    {
     "name": "stderr",
     "output_type": "stream",
     "text": [
      "\n"
     ]
    },
    {
     "name": "stdout",
     "output_type": "stream",
     "text": [
      "\n",
      "      Epoch    GPU_mem   box_loss   cls_loss   dfl_loss  Instances       Size\n"
     ]
    },
    {
     "name": "stderr",
     "output_type": "stream",
     "text": [
      "     75/200      6.81G      1.058     0.6716      1.324          4        640: 100%|██████████| 137/137 [00:25<00:00,  5.37it/s]\n",
      "                 Class     Images  Instances      Box(P          R      mAP50  mAP50-95): 100%|██████████| 8/8 [00:01<00:00,  6.02it/s]"
     ]
    },
    {
     "name": "stdout",
     "output_type": "stream",
     "text": [
      "                   all        256        349      0.947      0.923      0.957      0.714\n"
     ]
    },
    {
     "name": "stderr",
     "output_type": "stream",
     "text": [
      "\n"
     ]
    },
    {
     "name": "stdout",
     "output_type": "stream",
     "text": [
      "\n",
      "      Epoch    GPU_mem   box_loss   cls_loss   dfl_loss  Instances       Size\n"
     ]
    },
    {
     "name": "stderr",
     "output_type": "stream",
     "text": [
      "     76/200      6.72G      1.045     0.6768      1.336          5        640: 100%|██████████| 137/137 [00:25<00:00,  5.37it/s]\n",
      "                 Class     Images  Instances      Box(P          R      mAP50  mAP50-95): 100%|██████████| 8/8 [00:01<00:00,  5.96it/s]"
     ]
    },
    {
     "name": "stdout",
     "output_type": "stream",
     "text": [
      "                   all        256        349      0.937      0.933      0.957      0.696\n"
     ]
    },
    {
     "name": "stderr",
     "output_type": "stream",
     "text": [
      "\n"
     ]
    },
    {
     "name": "stdout",
     "output_type": "stream",
     "text": [
      "\n",
      "      Epoch    GPU_mem   box_loss   cls_loss   dfl_loss  Instances       Size\n"
     ]
    },
    {
     "name": "stderr",
     "output_type": "stream",
     "text": [
      "     77/200      6.85G      1.028     0.6673      1.313          5        640: 100%|██████████| 137/137 [00:25<00:00,  5.39it/s]\n",
      "                 Class     Images  Instances      Box(P          R      mAP50  mAP50-95): 100%|██████████| 8/8 [00:01<00:00,  5.97it/s]"
     ]
    },
    {
     "name": "stdout",
     "output_type": "stream",
     "text": [
      "                   all        256        349      0.938      0.916      0.951      0.672\n"
     ]
    },
    {
     "name": "stderr",
     "output_type": "stream",
     "text": [
      "\n"
     ]
    },
    {
     "name": "stdout",
     "output_type": "stream",
     "text": [
      "\n",
      "      Epoch    GPU_mem   box_loss   cls_loss   dfl_loss  Instances       Size\n"
     ]
    },
    {
     "name": "stderr",
     "output_type": "stream",
     "text": [
      "     78/200       6.8G      1.027      0.665      1.309          5        640: 100%|██████████| 137/137 [00:25<00:00,  5.38it/s]\n",
      "                 Class     Images  Instances      Box(P          R      mAP50  mAP50-95): 100%|██████████| 8/8 [00:01<00:00,  6.03it/s]"
     ]
    },
    {
     "name": "stdout",
     "output_type": "stream",
     "text": [
      "                   all        256        349      0.931      0.911      0.948      0.687\n"
     ]
    },
    {
     "name": "stderr",
     "output_type": "stream",
     "text": [
      "\n"
     ]
    },
    {
     "name": "stdout",
     "output_type": "stream",
     "text": [
      "\n",
      "      Epoch    GPU_mem   box_loss   cls_loss   dfl_loss  Instances       Size\n"
     ]
    },
    {
     "name": "stderr",
     "output_type": "stream",
     "text": [
      "     79/200       6.8G       1.02     0.6599      1.308          5        640: 100%|██████████| 137/137 [00:25<00:00,  5.38it/s]\n",
      "                 Class     Images  Instances      Box(P          R      mAP50  mAP50-95): 100%|██████████| 8/8 [00:01<00:00,  5.97it/s]"
     ]
    },
    {
     "name": "stdout",
     "output_type": "stream",
     "text": [
      "                   all        256        349      0.917      0.911       0.94      0.686\n"
     ]
    },
    {
     "name": "stderr",
     "output_type": "stream",
     "text": [
      "\n"
     ]
    },
    {
     "name": "stdout",
     "output_type": "stream",
     "text": [
      "\n",
      "      Epoch    GPU_mem   box_loss   cls_loss   dfl_loss  Instances       Size\n"
     ]
    },
    {
     "name": "stderr",
     "output_type": "stream",
     "text": [
      "     80/200      6.71G      1.005     0.6453      1.304          2        640: 100%|██████████| 137/137 [00:25<00:00,  5.39it/s]\n",
      "                 Class     Images  Instances      Box(P          R      mAP50  mAP50-95): 100%|██████████| 8/8 [00:01<00:00,  5.98it/s]"
     ]
    },
    {
     "name": "stdout",
     "output_type": "stream",
     "text": [
      "                   all        256        349      0.949      0.904      0.957        0.7\n"
     ]
    },
    {
     "name": "stderr",
     "output_type": "stream",
     "text": [
      "\n"
     ]
    },
    {
     "name": "stdout",
     "output_type": "stream",
     "text": [
      "\n",
      "      Epoch    GPU_mem   box_loss   cls_loss   dfl_loss  Instances       Size\n"
     ]
    },
    {
     "name": "stderr",
     "output_type": "stream",
     "text": [
      "     81/200      6.83G      1.004     0.6511      1.285          4        640: 100%|██████████| 137/137 [00:25<00:00,  5.39it/s]\n",
      "                 Class     Images  Instances      Box(P          R      mAP50  mAP50-95): 100%|██████████| 8/8 [00:01<00:00,  6.00it/s]"
     ]
    },
    {
     "name": "stdout",
     "output_type": "stream",
     "text": [
      "                   all        256        349      0.919       0.92      0.943      0.692\n"
     ]
    },
    {
     "name": "stderr",
     "output_type": "stream",
     "text": [
      "\n"
     ]
    },
    {
     "name": "stdout",
     "output_type": "stream",
     "text": [
      "\n",
      "      Epoch    GPU_mem   box_loss   cls_loss   dfl_loss  Instances       Size\n"
     ]
    },
    {
     "name": "stderr",
     "output_type": "stream",
     "text": [
      "     82/200       6.8G      1.012      0.639      1.303          9        640: 100%|██████████| 137/137 [00:25<00:00,  5.38it/s]\n",
      "                 Class     Images  Instances      Box(P          R      mAP50  mAP50-95): 100%|██████████| 8/8 [00:01<00:00,  5.97it/s]"
     ]
    },
    {
     "name": "stdout",
     "output_type": "stream",
     "text": [
      "                   all        256        349      0.931      0.943      0.962       0.71\n"
     ]
    },
    {
     "name": "stderr",
     "output_type": "stream",
     "text": [
      "\n"
     ]
    },
    {
     "name": "stdout",
     "output_type": "stream",
     "text": [
      "\n",
      "      Epoch    GPU_mem   box_loss   cls_loss   dfl_loss  Instances       Size\n"
     ]
    },
    {
     "name": "stderr",
     "output_type": "stream",
     "text": [
      "     83/200      6.81G      1.002     0.6292      1.306          3        640: 100%|██████████| 137/137 [00:25<00:00,  5.37it/s]\n",
      "                 Class     Images  Instances      Box(P          R      mAP50  mAP50-95): 100%|██████████| 8/8 [00:01<00:00,  6.02it/s]"
     ]
    },
    {
     "name": "stdout",
     "output_type": "stream",
     "text": [
      "                   all        256        349      0.917      0.945      0.961      0.713\n"
     ]
    },
    {
     "name": "stderr",
     "output_type": "stream",
     "text": [
      "\n"
     ]
    },
    {
     "name": "stdout",
     "output_type": "stream",
     "text": [
      "\n",
      "      Epoch    GPU_mem   box_loss   cls_loss   dfl_loss  Instances       Size\n"
     ]
    },
    {
     "name": "stderr",
     "output_type": "stream",
     "text": [
      "     84/200      6.71G     0.9777     0.6171       1.28          4        640: 100%|██████████| 137/137 [00:25<00:00,  5.38it/s]\n",
      "                 Class     Images  Instances      Box(P          R      mAP50  mAP50-95): 100%|██████████| 8/8 [00:01<00:00,  6.04it/s]"
     ]
    },
    {
     "name": "stdout",
     "output_type": "stream",
     "text": [
      "                   all        256        349       0.93      0.928      0.943      0.709\n"
     ]
    },
    {
     "name": "stderr",
     "output_type": "stream",
     "text": [
      "\n"
     ]
    },
    {
     "name": "stdout",
     "output_type": "stream",
     "text": [
      "\n",
      "      Epoch    GPU_mem   box_loss   cls_loss   dfl_loss  Instances       Size\n"
     ]
    },
    {
     "name": "stderr",
     "output_type": "stream",
     "text": [
      "     85/200      6.84G     0.9875     0.6145      1.281          8        640: 100%|██████████| 137/137 [00:25<00:00,  5.36it/s]\n",
      "                 Class     Images  Instances      Box(P          R      mAP50  mAP50-95): 100%|██████████| 8/8 [00:01<00:00,  6.08it/s]"
     ]
    },
    {
     "name": "stdout",
     "output_type": "stream",
     "text": [
      "                   all        256        349       0.94      0.926      0.944      0.695\n"
     ]
    },
    {
     "name": "stderr",
     "output_type": "stream",
     "text": [
      "\n"
     ]
    },
    {
     "name": "stdout",
     "output_type": "stream",
     "text": [
      "\n",
      "      Epoch    GPU_mem   box_loss   cls_loss   dfl_loss  Instances       Size\n"
     ]
    },
    {
     "name": "stderr",
     "output_type": "stream",
     "text": [
      "     86/200      6.81G     0.9762     0.6146      1.275          3        640: 100%|██████████| 137/137 [00:25<00:00,  5.40it/s]\n",
      "                 Class     Images  Instances      Box(P          R      mAP50  mAP50-95): 100%|██████████| 8/8 [00:01<00:00,  5.83it/s]"
     ]
    },
    {
     "name": "stdout",
     "output_type": "stream",
     "text": [
      "                   all        256        349      0.939      0.923      0.948      0.724\n"
     ]
    },
    {
     "name": "stderr",
     "output_type": "stream",
     "text": [
      "\n"
     ]
    },
    {
     "name": "stdout",
     "output_type": "stream",
     "text": [
      "\n",
      "      Epoch    GPU_mem   box_loss   cls_loss   dfl_loss  Instances       Size\n"
     ]
    },
    {
     "name": "stderr",
     "output_type": "stream",
     "text": [
      "     87/200      6.81G     0.9763      0.616      1.278          4        640: 100%|██████████| 137/137 [00:25<00:00,  5.38it/s]\n",
      "                 Class     Images  Instances      Box(P          R      mAP50  mAP50-95): 100%|██████████| 8/8 [00:01<00:00,  6.07it/s]"
     ]
    },
    {
     "name": "stdout",
     "output_type": "stream",
     "text": [
      "                   all        256        349      0.924      0.931      0.939      0.703\n"
     ]
    },
    {
     "name": "stderr",
     "output_type": "stream",
     "text": [
      "\n"
     ]
    },
    {
     "name": "stdout",
     "output_type": "stream",
     "text": [
      "\n",
      "      Epoch    GPU_mem   box_loss   cls_loss   dfl_loss  Instances       Size\n"
     ]
    },
    {
     "name": "stderr",
     "output_type": "stream",
     "text": [
      "     88/200      6.72G     0.9702     0.6043      1.279          4        640: 100%|██████████| 137/137 [00:25<00:00,  5.36it/s]\n",
      "                 Class     Images  Instances      Box(P          R      mAP50  mAP50-95): 100%|██████████| 8/8 [00:01<00:00,  6.02it/s]"
     ]
    },
    {
     "name": "stdout",
     "output_type": "stream",
     "text": [
      "                   all        256        349      0.947      0.925      0.944      0.715\n"
     ]
    },
    {
     "name": "stderr",
     "output_type": "stream",
     "text": [
      "\n"
     ]
    },
    {
     "name": "stdout",
     "output_type": "stream",
     "text": [
      "\n",
      "      Epoch    GPU_mem   box_loss   cls_loss   dfl_loss  Instances       Size\n"
     ]
    },
    {
     "name": "stderr",
     "output_type": "stream",
     "text": [
      "     89/200      6.83G     0.9663     0.6073      1.279          3        640: 100%|██████████| 137/137 [00:25<00:00,  5.38it/s]\n",
      "                 Class     Images  Instances      Box(P          R      mAP50  mAP50-95): 100%|██████████| 8/8 [00:01<00:00,  6.03it/s]"
     ]
    },
    {
     "name": "stdout",
     "output_type": "stream",
     "text": [
      "                   all        256        349      0.947      0.917       0.95       0.72\n"
     ]
    },
    {
     "name": "stderr",
     "output_type": "stream",
     "text": [
      "\n"
     ]
    },
    {
     "name": "stdout",
     "output_type": "stream",
     "text": [
      "\n",
      "      Epoch    GPU_mem   box_loss   cls_loss   dfl_loss  Instances       Size\n"
     ]
    },
    {
     "name": "stderr",
     "output_type": "stream",
     "text": [
      "     90/200       6.8G     0.9632     0.6069      1.263          2        640: 100%|██████████| 137/137 [00:25<00:00,  5.37it/s]\n",
      "                 Class     Images  Instances      Box(P          R      mAP50  mAP50-95): 100%|██████████| 8/8 [00:01<00:00,  5.99it/s]"
     ]
    },
    {
     "name": "stdout",
     "output_type": "stream",
     "text": [
      "                   all        256        349      0.947       0.94      0.949      0.736\n"
     ]
    },
    {
     "name": "stderr",
     "output_type": "stream",
     "text": [
      "\n"
     ]
    },
    {
     "name": "stdout",
     "output_type": "stream",
     "text": [
      "\n",
      "      Epoch    GPU_mem   box_loss   cls_loss   dfl_loss  Instances       Size\n"
     ]
    },
    {
     "name": "stderr",
     "output_type": "stream",
     "text": [
      "     91/200       6.8G     0.9589     0.5932      1.266          4        640: 100%|██████████| 137/137 [00:25<00:00,  5.37it/s]\n",
      "                 Class     Images  Instances      Box(P          R      mAP50  mAP50-95): 100%|██████████| 8/8 [00:01<00:00,  5.85it/s]"
     ]
    },
    {
     "name": "stdout",
     "output_type": "stream",
     "text": [
      "                   all        256        349       0.95      0.922      0.943      0.691\n"
     ]
    },
    {
     "name": "stderr",
     "output_type": "stream",
     "text": [
      "\n"
     ]
    },
    {
     "name": "stdout",
     "output_type": "stream",
     "text": [
      "\n",
      "      Epoch    GPU_mem   box_loss   cls_loss   dfl_loss  Instances       Size\n"
     ]
    },
    {
     "name": "stderr",
     "output_type": "stream",
     "text": [
      "     92/200      6.72G     0.9559     0.5869       1.26          5        640: 100%|██████████| 137/137 [00:25<00:00,  5.38it/s]\n",
      "                 Class     Images  Instances      Box(P          R      mAP50  mAP50-95): 100%|██████████| 8/8 [00:01<00:00,  6.04it/s]"
     ]
    },
    {
     "name": "stdout",
     "output_type": "stream",
     "text": [
      "                   all        256        349      0.945      0.928      0.948      0.721\n"
     ]
    },
    {
     "name": "stderr",
     "output_type": "stream",
     "text": [
      "\n"
     ]
    },
    {
     "name": "stdout",
     "output_type": "stream",
     "text": [
      "\n",
      "      Epoch    GPU_mem   box_loss   cls_loss   dfl_loss  Instances       Size\n"
     ]
    },
    {
     "name": "stderr",
     "output_type": "stream",
     "text": [
      "     93/200      6.83G     0.9406     0.5811      1.237          5        640: 100%|██████████| 137/137 [00:25<00:00,  5.39it/s]\n",
      "                 Class     Images  Instances      Box(P          R      mAP50  mAP50-95): 100%|██████████| 8/8 [00:01<00:00,  6.04it/s]"
     ]
    },
    {
     "name": "stdout",
     "output_type": "stream",
     "text": [
      "                   all        256        349       0.93       0.94      0.948      0.716\n"
     ]
    },
    {
     "name": "stderr",
     "output_type": "stream",
     "text": [
      "\n"
     ]
    },
    {
     "name": "stdout",
     "output_type": "stream",
     "text": [
      "\n",
      "      Epoch    GPU_mem   box_loss   cls_loss   dfl_loss  Instances       Size\n"
     ]
    },
    {
     "name": "stderr",
     "output_type": "stream",
     "text": [
      "     94/200      6.81G     0.9306     0.5794      1.242          8        640: 100%|██████████| 137/137 [00:25<00:00,  5.36it/s]\n",
      "                 Class     Images  Instances      Box(P          R      mAP50  mAP50-95): 100%|██████████| 8/8 [00:01<00:00,  5.99it/s]"
     ]
    },
    {
     "name": "stdout",
     "output_type": "stream",
     "text": [
      "                   all        256        349      0.938      0.946      0.958      0.728\n"
     ]
    },
    {
     "name": "stderr",
     "output_type": "stream",
     "text": [
      "\n"
     ]
    },
    {
     "name": "stdout",
     "output_type": "stream",
     "text": [
      "\n",
      "      Epoch    GPU_mem   box_loss   cls_loss   dfl_loss  Instances       Size\n"
     ]
    },
    {
     "name": "stderr",
     "output_type": "stream",
     "text": [
      "     95/200      6.81G     0.9348     0.5732      1.245          2        640: 100%|██████████| 137/137 [00:25<00:00,  5.38it/s]\n",
      "                 Class     Images  Instances      Box(P          R      mAP50  mAP50-95): 100%|██████████| 8/8 [00:01<00:00,  5.95it/s]"
     ]
    },
    {
     "name": "stdout",
     "output_type": "stream",
     "text": [
      "                   all        256        349      0.946      0.911       0.95      0.718\n"
     ]
    },
    {
     "name": "stderr",
     "output_type": "stream",
     "text": [
      "\n"
     ]
    },
    {
     "name": "stdout",
     "output_type": "stream",
     "text": [
      "\n",
      "      Epoch    GPU_mem   box_loss   cls_loss   dfl_loss  Instances       Size\n"
     ]
    },
    {
     "name": "stderr",
     "output_type": "stream",
     "text": [
      "     96/200      6.72G     0.9157     0.5729      1.234          2        640: 100%|██████████| 137/137 [00:25<00:00,  5.38it/s]\n",
      "                 Class     Images  Instances      Box(P          R      mAP50  mAP50-95): 100%|██████████| 8/8 [00:01<00:00,  6.04it/s]"
     ]
    },
    {
     "name": "stdout",
     "output_type": "stream",
     "text": [
      "                   all        256        349      0.934      0.938      0.957      0.726\n"
     ]
    },
    {
     "name": "stderr",
     "output_type": "stream",
     "text": [
      "\n"
     ]
    },
    {
     "name": "stdout",
     "output_type": "stream",
     "text": [
      "\n",
      "      Epoch    GPU_mem   box_loss   cls_loss   dfl_loss  Instances       Size\n"
     ]
    },
    {
     "name": "stderr",
     "output_type": "stream",
     "text": [
      "     97/200      6.84G     0.9199     0.5749      1.228          2        640: 100%|██████████| 137/137 [00:25<00:00,  5.37it/s]\n",
      "                 Class     Images  Instances      Box(P          R      mAP50  mAP50-95): 100%|██████████| 8/8 [00:01<00:00,  5.93it/s]"
     ]
    },
    {
     "name": "stdout",
     "output_type": "stream",
     "text": [
      "                   all        256        349      0.944      0.925      0.953      0.713\n"
     ]
    },
    {
     "name": "stderr",
     "output_type": "stream",
     "text": [
      "\n"
     ]
    },
    {
     "name": "stdout",
     "output_type": "stream",
     "text": [
      "\n",
      "      Epoch    GPU_mem   box_loss   cls_loss   dfl_loss  Instances       Size\n"
     ]
    },
    {
     "name": "stderr",
     "output_type": "stream",
     "text": [
      "     98/200      6.82G     0.9118     0.5631      1.235          6        640: 100%|██████████| 137/137 [00:25<00:00,  5.37it/s]\n",
      "                 Class     Images  Instances      Box(P          R      mAP50  mAP50-95): 100%|██████████| 8/8 [00:01<00:00,  5.94it/s]"
     ]
    },
    {
     "name": "stdout",
     "output_type": "stream",
     "text": [
      "                   all        256        349       0.93      0.934       0.95      0.703\n"
     ]
    },
    {
     "name": "stderr",
     "output_type": "stream",
     "text": [
      "\n"
     ]
    },
    {
     "name": "stdout",
     "output_type": "stream",
     "text": [
      "\n",
      "      Epoch    GPU_mem   box_loss   cls_loss   dfl_loss  Instances       Size\n"
     ]
    },
    {
     "name": "stderr",
     "output_type": "stream",
     "text": [
      "     99/200      6.81G      0.916     0.5653      1.229          2        640: 100%|██████████| 137/137 [00:25<00:00,  5.37it/s]\n",
      "                 Class     Images  Instances      Box(P          R      mAP50  mAP50-95): 100%|██████████| 8/8 [00:01<00:00,  5.99it/s]"
     ]
    },
    {
     "name": "stdout",
     "output_type": "stream",
     "text": [
      "                   all        256        349      0.956      0.935      0.955      0.717\n"
     ]
    },
    {
     "name": "stderr",
     "output_type": "stream",
     "text": [
      "\n"
     ]
    },
    {
     "name": "stdout",
     "output_type": "stream",
     "text": [
      "\n",
      "      Epoch    GPU_mem   box_loss   cls_loss   dfl_loss  Instances       Size\n"
     ]
    },
    {
     "name": "stderr",
     "output_type": "stream",
     "text": [
      "    100/200      6.71G     0.8934     0.5638      1.225          3        640: 100%|██████████| 137/137 [00:25<00:00,  5.36it/s]\n",
      "                 Class     Images  Instances      Box(P          R      mAP50  mAP50-95): 100%|██████████| 8/8 [00:01<00:00,  5.99it/s]"
     ]
    },
    {
     "name": "stdout",
     "output_type": "stream",
     "text": [
      "                   all        256        349      0.962      0.946      0.963      0.737\n"
     ]
    },
    {
     "name": "stderr",
     "output_type": "stream",
     "text": [
      "\n"
     ]
    },
    {
     "name": "stdout",
     "output_type": "stream",
     "text": [
      "\n",
      "      Epoch    GPU_mem   box_loss   cls_loss   dfl_loss  Instances       Size\n"
     ]
    },
    {
     "name": "stderr",
     "output_type": "stream",
     "text": [
      "    101/200      6.85G     0.9044     0.5555      1.212          5        640: 100%|██████████| 137/137 [00:25<00:00,  5.38it/s]\n",
      "                 Class     Images  Instances      Box(P          R      mAP50  mAP50-95): 100%|██████████| 8/8 [00:01<00:00,  5.97it/s]"
     ]
    },
    {
     "name": "stdout",
     "output_type": "stream",
     "text": [
      "                   all        256        349      0.954      0.937      0.957      0.733\n"
     ]
    },
    {
     "name": "stderr",
     "output_type": "stream",
     "text": [
      "\n"
     ]
    },
    {
     "name": "stdout",
     "output_type": "stream",
     "text": [
      "\n",
      "      Epoch    GPU_mem   box_loss   cls_loss   dfl_loss  Instances       Size\n"
     ]
    },
    {
     "name": "stderr",
     "output_type": "stream",
     "text": [
      "    102/200       6.8G     0.8813      0.545      1.212          2        640: 100%|██████████| 137/137 [00:25<00:00,  5.40it/s]\n",
      "                 Class     Images  Instances      Box(P          R      mAP50  mAP50-95): 100%|██████████| 8/8 [00:01<00:00,  6.09it/s]"
     ]
    },
    {
     "name": "stdout",
     "output_type": "stream",
     "text": [
      "                   all        256        349      0.937      0.943      0.954      0.731\n"
     ]
    },
    {
     "name": "stderr",
     "output_type": "stream",
     "text": [
      "\n"
     ]
    },
    {
     "name": "stdout",
     "output_type": "stream",
     "text": [
      "\n",
      "      Epoch    GPU_mem   box_loss   cls_loss   dfl_loss  Instances       Size\n"
     ]
    },
    {
     "name": "stderr",
     "output_type": "stream",
     "text": [
      "    103/200      6.81G     0.8792     0.5464      1.192          3        640: 100%|██████████| 137/137 [00:25<00:00,  5.35it/s]\n",
      "                 Class     Images  Instances      Box(P          R      mAP50  mAP50-95): 100%|██████████| 8/8 [00:01<00:00,  5.95it/s]"
     ]
    },
    {
     "name": "stdout",
     "output_type": "stream",
     "text": [
      "                   all        256        349      0.957      0.945      0.965       0.76\n"
     ]
    },
    {
     "name": "stderr",
     "output_type": "stream",
     "text": [
      "\n"
     ]
    },
    {
     "name": "stdout",
     "output_type": "stream",
     "text": [
      "\n",
      "      Epoch    GPU_mem   box_loss   cls_loss   dfl_loss  Instances       Size\n"
     ]
    },
    {
     "name": "stderr",
     "output_type": "stream",
     "text": [
      "    104/200      6.72G     0.8792      0.541      1.206          4        640: 100%|██████████| 137/137 [00:25<00:00,  5.40it/s]\n",
      "                 Class     Images  Instances      Box(P          R      mAP50  mAP50-95): 100%|██████████| 8/8 [00:01<00:00,  5.87it/s]"
     ]
    },
    {
     "name": "stdout",
     "output_type": "stream",
     "text": [
      "                   all        256        349      0.946      0.951      0.955      0.745\n"
     ]
    },
    {
     "name": "stderr",
     "output_type": "stream",
     "text": [
      "\n"
     ]
    },
    {
     "name": "stdout",
     "output_type": "stream",
     "text": [
      "\n",
      "      Epoch    GPU_mem   box_loss   cls_loss   dfl_loss  Instances       Size\n"
     ]
    },
    {
     "name": "stderr",
     "output_type": "stream",
     "text": [
      "    105/200      6.84G     0.8746     0.5409      1.203          6        640: 100%|██████████| 137/137 [00:25<00:00,  5.38it/s]\n",
      "                 Class     Images  Instances      Box(P          R      mAP50  mAP50-95): 100%|██████████| 8/8 [00:01<00:00,  5.93it/s]"
     ]
    },
    {
     "name": "stdout",
     "output_type": "stream",
     "text": [
      "                   all        256        349      0.951      0.944      0.961      0.741\n"
     ]
    },
    {
     "name": "stderr",
     "output_type": "stream",
     "text": [
      "\n"
     ]
    },
    {
     "name": "stdout",
     "output_type": "stream",
     "text": [
      "\n",
      "      Epoch    GPU_mem   box_loss   cls_loss   dfl_loss  Instances       Size\n"
     ]
    },
    {
     "name": "stderr",
     "output_type": "stream",
     "text": [
      "    106/200       6.8G     0.8556     0.5337      1.197          3        640: 100%|██████████| 137/137 [00:25<00:00,  5.40it/s]\n",
      "                 Class     Images  Instances      Box(P          R      mAP50  mAP50-95): 100%|██████████| 8/8 [00:01<00:00,  6.05it/s]"
     ]
    },
    {
     "name": "stdout",
     "output_type": "stream",
     "text": [
      "                   all        256        349       0.94      0.951      0.959      0.741\n"
     ]
    },
    {
     "name": "stderr",
     "output_type": "stream",
     "text": [
      "\n"
     ]
    },
    {
     "name": "stdout",
     "output_type": "stream",
     "text": [
      "\n",
      "      Epoch    GPU_mem   box_loss   cls_loss   dfl_loss  Instances       Size\n"
     ]
    },
    {
     "name": "stderr",
     "output_type": "stream",
     "text": [
      "    107/200       6.8G     0.8551     0.5352      1.185          5        640: 100%|██████████| 137/137 [00:25<00:00,  5.37it/s]\n",
      "                 Class     Images  Instances      Box(P          R      mAP50  mAP50-95): 100%|██████████| 8/8 [00:01<00:00,  5.95it/s]"
     ]
    },
    {
     "name": "stdout",
     "output_type": "stream",
     "text": [
      "                   all        256        349      0.948      0.951      0.961      0.761\n"
     ]
    },
    {
     "name": "stderr",
     "output_type": "stream",
     "text": [
      "\n"
     ]
    },
    {
     "name": "stdout",
     "output_type": "stream",
     "text": [
      "\n",
      "      Epoch    GPU_mem   box_loss   cls_loss   dfl_loss  Instances       Size\n"
     ]
    },
    {
     "name": "stderr",
     "output_type": "stream",
     "text": [
      "    108/200      6.71G     0.8559     0.5246      1.199          5        640: 100%|██████████| 137/137 [00:25<00:00,  5.38it/s]\n",
      "                 Class     Images  Instances      Box(P          R      mAP50  mAP50-95): 100%|██████████| 8/8 [00:01<00:00,  5.88it/s]"
     ]
    },
    {
     "name": "stdout",
     "output_type": "stream",
     "text": [
      "                   all        256        349      0.955      0.934      0.957      0.757\n"
     ]
    },
    {
     "name": "stderr",
     "output_type": "stream",
     "text": [
      "\n"
     ]
    },
    {
     "name": "stdout",
     "output_type": "stream",
     "text": [
      "\n",
      "      Epoch    GPU_mem   box_loss   cls_loss   dfl_loss  Instances       Size\n"
     ]
    },
    {
     "name": "stderr",
     "output_type": "stream",
     "text": [
      "    109/200      6.84G     0.8493     0.5214      1.183          6        640: 100%|██████████| 137/137 [00:25<00:00,  5.38it/s]\n",
      "                 Class     Images  Instances      Box(P          R      mAP50  mAP50-95): 100%|██████████| 8/8 [00:01<00:00,  5.94it/s]"
     ]
    },
    {
     "name": "stdout",
     "output_type": "stream",
     "text": [
      "                   all        256        349      0.959      0.936      0.959      0.764\n"
     ]
    },
    {
     "name": "stderr",
     "output_type": "stream",
     "text": [
      "\n"
     ]
    },
    {
     "name": "stdout",
     "output_type": "stream",
     "text": [
      "\n",
      "      Epoch    GPU_mem   box_loss   cls_loss   dfl_loss  Instances       Size\n"
     ]
    },
    {
     "name": "stderr",
     "output_type": "stream",
     "text": [
      "    110/200      6.81G     0.8402     0.5228      1.182          8        640: 100%|██████████| 137/137 [00:25<00:00,  5.39it/s]\n",
      "                 Class     Images  Instances      Box(P          R      mAP50  mAP50-95): 100%|██████████| 8/8 [00:01<00:00,  5.81it/s]"
     ]
    },
    {
     "name": "stdout",
     "output_type": "stream",
     "text": [
      "                   all        256        349      0.965      0.942      0.966      0.766\n"
     ]
    },
    {
     "name": "stderr",
     "output_type": "stream",
     "text": [
      "\n"
     ]
    },
    {
     "name": "stdout",
     "output_type": "stream",
     "text": [
      "\n",
      "      Epoch    GPU_mem   box_loss   cls_loss   dfl_loss  Instances       Size\n"
     ]
    },
    {
     "name": "stderr",
     "output_type": "stream",
     "text": [
      "    111/200      6.79G     0.8379     0.5197      1.181          7        640: 100%|██████████| 137/137 [00:25<00:00,  5.37it/s]\n",
      "                 Class     Images  Instances      Box(P          R      mAP50  mAP50-95): 100%|██████████| 8/8 [00:01<00:00,  5.91it/s]"
     ]
    },
    {
     "name": "stdout",
     "output_type": "stream",
     "text": [
      "                   all        256        349      0.954      0.942      0.962      0.765\n"
     ]
    },
    {
     "name": "stderr",
     "output_type": "stream",
     "text": [
      "\n"
     ]
    },
    {
     "name": "stdout",
     "output_type": "stream",
     "text": [
      "\n",
      "      Epoch    GPU_mem   box_loss   cls_loss   dfl_loss  Instances       Size\n"
     ]
    },
    {
     "name": "stderr",
     "output_type": "stream",
     "text": [
      "    112/200      6.71G     0.8309     0.5127       1.17          2        640: 100%|██████████| 137/137 [00:25<00:00,  5.39it/s]\n",
      "                 Class     Images  Instances      Box(P          R      mAP50  mAP50-95): 100%|██████████| 8/8 [00:01<00:00,  5.85it/s]"
     ]
    },
    {
     "name": "stdout",
     "output_type": "stream",
     "text": [
      "                   all        256        349      0.963      0.928       0.96      0.763\n"
     ]
    },
    {
     "name": "stderr",
     "output_type": "stream",
     "text": [
      "\n"
     ]
    },
    {
     "name": "stdout",
     "output_type": "stream",
     "text": [
      "\n",
      "      Epoch    GPU_mem   box_loss   cls_loss   dfl_loss  Instances       Size\n"
     ]
    },
    {
     "name": "stderr",
     "output_type": "stream",
     "text": [
      "    113/200      6.85G     0.8432     0.5166      1.189          2        640: 100%|██████████| 137/137 [00:25<00:00,  5.38it/s]\n",
      "                 Class     Images  Instances      Box(P          R      mAP50  mAP50-95): 100%|██████████| 8/8 [00:01<00:00,  5.99it/s]"
     ]
    },
    {
     "name": "stdout",
     "output_type": "stream",
     "text": [
      "                   all        256        349      0.948      0.947      0.959      0.776\n"
     ]
    },
    {
     "name": "stderr",
     "output_type": "stream",
     "text": [
      "\n"
     ]
    },
    {
     "name": "stdout",
     "output_type": "stream",
     "text": [
      "\n",
      "      Epoch    GPU_mem   box_loss   cls_loss   dfl_loss  Instances       Size\n"
     ]
    },
    {
     "name": "stderr",
     "output_type": "stream",
     "text": [
      "    114/200       6.8G     0.8233     0.5056      1.177          8        640: 100%|██████████| 137/137 [00:25<00:00,  5.40it/s]\n",
      "                 Class     Images  Instances      Box(P          R      mAP50  mAP50-95): 100%|██████████| 8/8 [00:01<00:00,  6.09it/s]"
     ]
    },
    {
     "name": "stdout",
     "output_type": "stream",
     "text": [
      "                   all        256        349      0.966      0.931       0.96      0.766\n"
     ]
    },
    {
     "name": "stderr",
     "output_type": "stream",
     "text": [
      "\n"
     ]
    },
    {
     "name": "stdout",
     "output_type": "stream",
     "text": [
      "\n",
      "      Epoch    GPU_mem   box_loss   cls_loss   dfl_loss  Instances       Size\n"
     ]
    },
    {
     "name": "stderr",
     "output_type": "stream",
     "text": [
      "    115/200      6.81G     0.7928     0.4881      1.145          6        640: 100%|██████████| 137/137 [00:25<00:00,  5.37it/s]\n",
      "                 Class     Images  Instances      Box(P          R      mAP50  mAP50-95): 100%|██████████| 8/8 [00:01<00:00,  6.01it/s]"
     ]
    },
    {
     "name": "stdout",
     "output_type": "stream",
     "text": [
      "                   all        256        349       0.97      0.932      0.963      0.773\n"
     ]
    },
    {
     "name": "stderr",
     "output_type": "stream",
     "text": [
      "\n"
     ]
    },
    {
     "name": "stdout",
     "output_type": "stream",
     "text": [
      "\n",
      "      Epoch    GPU_mem   box_loss   cls_loss   dfl_loss  Instances       Size\n"
     ]
    },
    {
     "name": "stderr",
     "output_type": "stream",
     "text": [
      "    116/200      6.71G     0.8094     0.4949      1.155          7        640: 100%|██████████| 137/137 [00:25<00:00,  5.36it/s]\n",
      "                 Class     Images  Instances      Box(P          R      mAP50  mAP50-95): 100%|██████████| 8/8 [00:01<00:00,  6.03it/s]"
     ]
    },
    {
     "name": "stdout",
     "output_type": "stream",
     "text": [
      "                   all        256        349      0.962      0.943      0.969      0.765\n"
     ]
    },
    {
     "name": "stderr",
     "output_type": "stream",
     "text": [
      "\n"
     ]
    },
    {
     "name": "stdout",
     "output_type": "stream",
     "text": [
      "\n",
      "      Epoch    GPU_mem   box_loss   cls_loss   dfl_loss  Instances       Size\n"
     ]
    },
    {
     "name": "stderr",
     "output_type": "stream",
     "text": [
      "    117/200      6.83G     0.7818     0.4826      1.138          2        640: 100%|██████████| 137/137 [00:25<00:00,  5.37it/s]\n",
      "                 Class     Images  Instances      Box(P          R      mAP50  mAP50-95): 100%|██████████| 8/8 [00:01<00:00,  5.87it/s]"
     ]
    },
    {
     "name": "stdout",
     "output_type": "stream",
     "text": [
      "                   all        256        349      0.968      0.934      0.962      0.768\n"
     ]
    },
    {
     "name": "stderr",
     "output_type": "stream",
     "text": [
      "\n"
     ]
    },
    {
     "name": "stdout",
     "output_type": "stream",
     "text": [
      "\n",
      "      Epoch    GPU_mem   box_loss   cls_loss   dfl_loss  Instances       Size\n"
     ]
    },
    {
     "name": "stderr",
     "output_type": "stream",
     "text": [
      "    118/200       6.8G     0.7933     0.4873      1.144          4        640: 100%|██████████| 137/137 [00:25<00:00,  5.37it/s]\n",
      "                 Class     Images  Instances      Box(P          R      mAP50  mAP50-95): 100%|██████████| 8/8 [00:01<00:00,  6.00it/s]"
     ]
    },
    {
     "name": "stdout",
     "output_type": "stream",
     "text": [
      "                   all        256        349      0.953      0.946      0.961      0.777\n"
     ]
    },
    {
     "name": "stderr",
     "output_type": "stream",
     "text": [
      "\n"
     ]
    },
    {
     "name": "stdout",
     "output_type": "stream",
     "text": [
      "\n",
      "      Epoch    GPU_mem   box_loss   cls_loss   dfl_loss  Instances       Size\n"
     ]
    },
    {
     "name": "stderr",
     "output_type": "stream",
     "text": [
      "    119/200       6.8G     0.7847     0.4834      1.136          6        640: 100%|██████████| 137/137 [00:25<00:00,  5.39it/s]\n",
      "                 Class     Images  Instances      Box(P          R      mAP50  mAP50-95): 100%|██████████| 8/8 [00:01<00:00,  5.94it/s]"
     ]
    },
    {
     "name": "stdout",
     "output_type": "stream",
     "text": [
      "                   all        256        349      0.949      0.951      0.965      0.772\n"
     ]
    },
    {
     "name": "stderr",
     "output_type": "stream",
     "text": [
      "\n"
     ]
    },
    {
     "name": "stdout",
     "output_type": "stream",
     "text": [
      "\n",
      "      Epoch    GPU_mem   box_loss   cls_loss   dfl_loss  Instances       Size\n"
     ]
    },
    {
     "name": "stderr",
     "output_type": "stream",
     "text": [
      "    120/200      6.72G     0.7785     0.4791      1.139          5        640: 100%|██████████| 137/137 [00:25<00:00,  5.38it/s]\n",
      "                 Class     Images  Instances      Box(P          R      mAP50  mAP50-95): 100%|██████████| 8/8 [00:01<00:00,  6.05it/s]"
     ]
    },
    {
     "name": "stdout",
     "output_type": "stream",
     "text": [
      "                   all        256        349      0.966      0.943      0.966      0.771\n"
     ]
    },
    {
     "name": "stderr",
     "output_type": "stream",
     "text": [
      "\n"
     ]
    },
    {
     "name": "stdout",
     "output_type": "stream",
     "text": [
      "\n",
      "      Epoch    GPU_mem   box_loss   cls_loss   dfl_loss  Instances       Size\n"
     ]
    },
    {
     "name": "stderr",
     "output_type": "stream",
     "text": [
      "    121/200      6.84G     0.7766     0.4737      1.132          6        640: 100%|██████████| 137/137 [00:25<00:00,  5.38it/s]\n",
      "                 Class     Images  Instances      Box(P          R      mAP50  mAP50-95): 100%|██████████| 8/8 [00:01<00:00,  5.89it/s]"
     ]
    },
    {
     "name": "stdout",
     "output_type": "stream",
     "text": [
      "                   all        256        349      0.963      0.948       0.97      0.781\n"
     ]
    },
    {
     "name": "stderr",
     "output_type": "stream",
     "text": [
      "\n"
     ]
    },
    {
     "name": "stdout",
     "output_type": "stream",
     "text": [
      "\n",
      "      Epoch    GPU_mem   box_loss   cls_loss   dfl_loss  Instances       Size\n"
     ]
    },
    {
     "name": "stderr",
     "output_type": "stream",
     "text": [
      "    122/200      6.82G     0.7641      0.462      1.127          3        640: 100%|██████████| 137/137 [00:25<00:00,  5.38it/s]\n",
      "                 Class     Images  Instances      Box(P          R      mAP50  mAP50-95): 100%|██████████| 8/8 [00:01<00:00,  6.08it/s]"
     ]
    },
    {
     "name": "stdout",
     "output_type": "stream",
     "text": [
      "                   all        256        349      0.962      0.955      0.966      0.776\n"
     ]
    },
    {
     "name": "stderr",
     "output_type": "stream",
     "text": [
      "\n"
     ]
    },
    {
     "name": "stdout",
     "output_type": "stream",
     "text": [
      "\n",
      "      Epoch    GPU_mem   box_loss   cls_loss   dfl_loss  Instances       Size\n"
     ]
    },
    {
     "name": "stderr",
     "output_type": "stream",
     "text": [
      "    123/200       6.8G     0.7678     0.4761      1.133          2        640: 100%|██████████| 137/137 [00:25<00:00,  5.37it/s]\n",
      "                 Class     Images  Instances      Box(P          R      mAP50  mAP50-95): 100%|██████████| 8/8 [00:01<00:00,  5.97it/s]"
     ]
    },
    {
     "name": "stdout",
     "output_type": "stream",
     "text": [
      "                   all        256        349      0.962      0.948      0.967      0.786\n"
     ]
    },
    {
     "name": "stderr",
     "output_type": "stream",
     "text": [
      "\n"
     ]
    },
    {
     "name": "stdout",
     "output_type": "stream",
     "text": [
      "\n",
      "      Epoch    GPU_mem   box_loss   cls_loss   dfl_loss  Instances       Size\n"
     ]
    },
    {
     "name": "stderr",
     "output_type": "stream",
     "text": [
      "    124/200      6.71G     0.7687     0.4687      1.135          5        640: 100%|██████████| 137/137 [00:25<00:00,  5.40it/s]\n",
      "                 Class     Images  Instances      Box(P          R      mAP50  mAP50-95): 100%|██████████| 8/8 [00:01<00:00,  6.01it/s]"
     ]
    },
    {
     "name": "stdout",
     "output_type": "stream",
     "text": [
      "                   all        256        349      0.959      0.946      0.967      0.793\n"
     ]
    },
    {
     "name": "stderr",
     "output_type": "stream",
     "text": [
      "\n"
     ]
    },
    {
     "name": "stdout",
     "output_type": "stream",
     "text": [
      "\n",
      "      Epoch    GPU_mem   box_loss   cls_loss   dfl_loss  Instances       Size\n"
     ]
    },
    {
     "name": "stderr",
     "output_type": "stream",
     "text": [
      "    125/200      6.83G     0.7604      0.468      1.127          3        640: 100%|██████████| 137/137 [00:25<00:00,  5.39it/s]\n",
      "                 Class     Images  Instances      Box(P          R      mAP50  mAP50-95): 100%|██████████| 8/8 [00:01<00:00,  5.84it/s]"
     ]
    },
    {
     "name": "stdout",
     "output_type": "stream",
     "text": [
      "                   all        256        349      0.965      0.936      0.964       0.79\n"
     ]
    },
    {
     "name": "stderr",
     "output_type": "stream",
     "text": [
      "\n"
     ]
    },
    {
     "name": "stdout",
     "output_type": "stream",
     "text": [
      "\n",
      "      Epoch    GPU_mem   box_loss   cls_loss   dfl_loss  Instances       Size\n"
     ]
    },
    {
     "name": "stderr",
     "output_type": "stream",
     "text": [
      "    126/200      6.81G     0.7504     0.4545      1.117          4        640: 100%|██████████| 137/137 [00:25<00:00,  5.39it/s]\n",
      "                 Class     Images  Instances      Box(P          R      mAP50  mAP50-95): 100%|██████████| 8/8 [00:01<00:00,  5.98it/s]"
     ]
    },
    {
     "name": "stdout",
     "output_type": "stream",
     "text": [
      "                   all        256        349      0.965      0.951       0.97      0.797\n"
     ]
    },
    {
     "name": "stderr",
     "output_type": "stream",
     "text": [
      "\n"
     ]
    },
    {
     "name": "stdout",
     "output_type": "stream",
     "text": [
      "\n",
      "      Epoch    GPU_mem   box_loss   cls_loss   dfl_loss  Instances       Size\n"
     ]
    },
    {
     "name": "stderr",
     "output_type": "stream",
     "text": [
      "    127/200      6.78G      0.754     0.4543      1.119          1        640: 100%|██████████| 137/137 [00:25<00:00,  5.39it/s]\n",
      "                 Class     Images  Instances      Box(P          R      mAP50  mAP50-95): 100%|██████████| 8/8 [00:01<00:00,  5.86it/s]"
     ]
    },
    {
     "name": "stdout",
     "output_type": "stream",
     "text": [
      "                   all        256        349      0.951      0.951      0.973      0.792\n"
     ]
    },
    {
     "name": "stderr",
     "output_type": "stream",
     "text": [
      "\n"
     ]
    },
    {
     "name": "stdout",
     "output_type": "stream",
     "text": [
      "\n",
      "      Epoch    GPU_mem   box_loss   cls_loss   dfl_loss  Instances       Size\n"
     ]
    },
    {
     "name": "stderr",
     "output_type": "stream",
     "text": [
      "    128/200      6.71G     0.7528     0.4648      1.117          6        640: 100%|██████████| 137/137 [00:25<00:00,  5.38it/s]\n",
      "                 Class     Images  Instances      Box(P          R      mAP50  mAP50-95): 100%|██████████| 8/8 [00:01<00:00,  5.99it/s]"
     ]
    },
    {
     "name": "stdout",
     "output_type": "stream",
     "text": [
      "                   all        256        349      0.976       0.93      0.961      0.779\n"
     ]
    },
    {
     "name": "stderr",
     "output_type": "stream",
     "text": [
      "\n"
     ]
    },
    {
     "name": "stdout",
     "output_type": "stream",
     "text": [
      "\n",
      "      Epoch    GPU_mem   box_loss   cls_loss   dfl_loss  Instances       Size\n"
     ]
    },
    {
     "name": "stderr",
     "output_type": "stream",
     "text": [
      "    129/200      6.82G     0.7549     0.4617      1.123          3        640: 100%|██████████| 137/137 [00:25<00:00,  5.37it/s]\n",
      "                 Class     Images  Instances      Box(P          R      mAP50  mAP50-95): 100%|██████████| 8/8 [00:01<00:00,  6.04it/s]"
     ]
    },
    {
     "name": "stdout",
     "output_type": "stream",
     "text": [
      "                   all        256        349      0.968      0.948      0.972      0.803\n"
     ]
    },
    {
     "name": "stderr",
     "output_type": "stream",
     "text": [
      "\n"
     ]
    },
    {
     "name": "stdout",
     "output_type": "stream",
     "text": [
      "\n",
      "      Epoch    GPU_mem   box_loss   cls_loss   dfl_loss  Instances       Size\n"
     ]
    },
    {
     "name": "stderr",
     "output_type": "stream",
     "text": [
      "    130/200      6.81G     0.7458     0.4479      1.102          8        640: 100%|██████████| 137/137 [00:25<00:00,  5.38it/s]\n",
      "                 Class     Images  Instances      Box(P          R      mAP50  mAP50-95): 100%|██████████| 8/8 [00:01<00:00,  6.02it/s]"
     ]
    },
    {
     "name": "stdout",
     "output_type": "stream",
     "text": [
      "                   all        256        349       0.97      0.936      0.965      0.796\n"
     ]
    },
    {
     "name": "stderr",
     "output_type": "stream",
     "text": [
      "\n"
     ]
    },
    {
     "name": "stdout",
     "output_type": "stream",
     "text": [
      "\n",
      "      Epoch    GPU_mem   box_loss   cls_loss   dfl_loss  Instances       Size\n"
     ]
    },
    {
     "name": "stderr",
     "output_type": "stream",
     "text": [
      "    131/200      6.82G     0.7398     0.4521      1.123          1        640: 100%|██████████| 137/137 [00:25<00:00,  5.35it/s]\n",
      "                 Class     Images  Instances      Box(P          R      mAP50  mAP50-95): 100%|██████████| 8/8 [00:01<00:00,  5.91it/s]"
     ]
    },
    {
     "name": "stdout",
     "output_type": "stream",
     "text": [
      "                   all        256        349      0.971      0.945      0.966      0.786\n"
     ]
    },
    {
     "name": "stderr",
     "output_type": "stream",
     "text": [
      "\n"
     ]
    },
    {
     "name": "stdout",
     "output_type": "stream",
     "text": [
      "\n",
      "      Epoch    GPU_mem   box_loss   cls_loss   dfl_loss  Instances       Size\n"
     ]
    },
    {
     "name": "stderr",
     "output_type": "stream",
     "text": [
      "    132/200       6.7G      0.735     0.4459       1.11          2        640: 100%|██████████| 137/137 [00:25<00:00,  5.39it/s]\n",
      "                 Class     Images  Instances      Box(P          R      mAP50  mAP50-95): 100%|██████████| 8/8 [00:01<00:00,  6.04it/s]"
     ]
    },
    {
     "name": "stdout",
     "output_type": "stream",
     "text": [
      "                   all        256        349      0.959       0.95      0.963      0.799\n"
     ]
    },
    {
     "name": "stderr",
     "output_type": "stream",
     "text": [
      "\n"
     ]
    },
    {
     "name": "stdout",
     "output_type": "stream",
     "text": [
      "\n",
      "      Epoch    GPU_mem   box_loss   cls_loss   dfl_loss  Instances       Size\n"
     ]
    },
    {
     "name": "stderr",
     "output_type": "stream",
     "text": [
      "    133/200      6.84G     0.7284     0.4455       1.11          4        640: 100%|██████████| 137/137 [00:25<00:00,  5.36it/s]\n",
      "                 Class     Images  Instances      Box(P          R      mAP50  mAP50-95): 100%|██████████| 8/8 [00:01<00:00,  6.08it/s]"
     ]
    },
    {
     "name": "stdout",
     "output_type": "stream",
     "text": [
      "                   all        256        349      0.973      0.957      0.964      0.796\n"
     ]
    },
    {
     "name": "stderr",
     "output_type": "stream",
     "text": [
      "\n"
     ]
    },
    {
     "name": "stdout",
     "output_type": "stream",
     "text": [
      "\n",
      "      Epoch    GPU_mem   box_loss   cls_loss   dfl_loss  Instances       Size\n"
     ]
    },
    {
     "name": "stderr",
     "output_type": "stream",
     "text": [
      "    134/200      6.81G     0.7148     0.4368      1.093          5        640: 100%|██████████| 137/137 [00:25<00:00,  5.38it/s]\n",
      "                 Class     Images  Instances      Box(P          R      mAP50  mAP50-95): 100%|██████████| 8/8 [00:01<00:00,  6.01it/s]"
     ]
    },
    {
     "name": "stdout",
     "output_type": "stream",
     "text": [
      "                   all        256        349       0.96      0.954      0.966        0.8\n"
     ]
    },
    {
     "name": "stderr",
     "output_type": "stream",
     "text": [
      "\n"
     ]
    },
    {
     "name": "stdout",
     "output_type": "stream",
     "text": [
      "\n",
      "      Epoch    GPU_mem   box_loss   cls_loss   dfl_loss  Instances       Size\n"
     ]
    },
    {
     "name": "stderr",
     "output_type": "stream",
     "text": [
      "    135/200       6.8G     0.7093     0.4296      1.088          9        640: 100%|██████████| 137/137 [00:25<00:00,  5.37it/s]\n",
      "                 Class     Images  Instances      Box(P          R      mAP50  mAP50-95): 100%|██████████| 8/8 [00:01<00:00,  6.08it/s]"
     ]
    },
    {
     "name": "stdout",
     "output_type": "stream",
     "text": [
      "                   all        256        349      0.976      0.948      0.969      0.805\n"
     ]
    },
    {
     "name": "stderr",
     "output_type": "stream",
     "text": [
      "\n"
     ]
    },
    {
     "name": "stdout",
     "output_type": "stream",
     "text": [
      "\n",
      "      Epoch    GPU_mem   box_loss   cls_loss   dfl_loss  Instances       Size\n"
     ]
    },
    {
     "name": "stderr",
     "output_type": "stream",
     "text": [
      "    136/200       6.7G     0.7182     0.4365      1.095          5        640: 100%|██████████| 137/137 [00:25<00:00,  5.40it/s]\n",
      "                 Class     Images  Instances      Box(P          R      mAP50  mAP50-95): 100%|██████████| 8/8 [00:01<00:00,  6.03it/s]"
     ]
    },
    {
     "name": "stdout",
     "output_type": "stream",
     "text": [
      "                   all        256        349      0.973      0.954      0.972      0.802\n"
     ]
    },
    {
     "name": "stderr",
     "output_type": "stream",
     "text": [
      "\n"
     ]
    },
    {
     "name": "stdout",
     "output_type": "stream",
     "text": [
      "\n",
      "      Epoch    GPU_mem   box_loss   cls_loss   dfl_loss  Instances       Size\n"
     ]
    },
    {
     "name": "stderr",
     "output_type": "stream",
     "text": [
      "    137/200      6.83G     0.6991     0.4322      1.081          9        640: 100%|██████████| 137/137 [00:25<00:00,  5.39it/s]\n",
      "                 Class     Images  Instances      Box(P          R      mAP50  mAP50-95): 100%|██████████| 8/8 [00:01<00:00,  5.81it/s]"
     ]
    },
    {
     "name": "stdout",
     "output_type": "stream",
     "text": [
      "                   all        256        349      0.966      0.951      0.969      0.802\n"
     ]
    },
    {
     "name": "stderr",
     "output_type": "stream",
     "text": [
      "\n"
     ]
    },
    {
     "name": "stdout",
     "output_type": "stream",
     "text": [
      "\n",
      "      Epoch    GPU_mem   box_loss   cls_loss   dfl_loss  Instances       Size\n"
     ]
    },
    {
     "name": "stderr",
     "output_type": "stream",
     "text": [
      "    138/200       6.8G     0.7275     0.4388      1.109          4        640: 100%|██████████| 137/137 [00:25<00:00,  5.40it/s]\n",
      "                 Class     Images  Instances      Box(P          R      mAP50  mAP50-95): 100%|██████████| 8/8 [00:01<00:00,  6.00it/s]"
     ]
    },
    {
     "name": "stdout",
     "output_type": "stream",
     "text": [
      "                   all        256        349      0.968      0.952      0.969      0.803\n"
     ]
    },
    {
     "name": "stderr",
     "output_type": "stream",
     "text": [
      "\n"
     ]
    },
    {
     "name": "stdout",
     "output_type": "stream",
     "text": [
      "\n",
      "      Epoch    GPU_mem   box_loss   cls_loss   dfl_loss  Instances       Size\n"
     ]
    },
    {
     "name": "stderr",
     "output_type": "stream",
     "text": [
      "    139/200       6.8G     0.6874      0.416      1.076          8        640: 100%|██████████| 137/137 [00:25<00:00,  5.38it/s]\n",
      "                 Class     Images  Instances      Box(P          R      mAP50  mAP50-95): 100%|██████████| 8/8 [00:01<00:00,  6.02it/s]"
     ]
    },
    {
     "name": "stdout",
     "output_type": "stream",
     "text": [
      "                   all        256        349      0.977      0.948      0.967      0.811\n"
     ]
    },
    {
     "name": "stderr",
     "output_type": "stream",
     "text": [
      "\n"
     ]
    },
    {
     "name": "stdout",
     "output_type": "stream",
     "text": [
      "\n",
      "      Epoch    GPU_mem   box_loss   cls_loss   dfl_loss  Instances       Size\n"
     ]
    },
    {
     "name": "stderr",
     "output_type": "stream",
     "text": [
      "    140/200       6.7G     0.6945     0.4248      1.078          4        640: 100%|██████████| 137/137 [00:25<00:00,  5.39it/s]\n",
      "                 Class     Images  Instances      Box(P          R      mAP50  mAP50-95): 100%|██████████| 8/8 [00:01<00:00,  6.07it/s]"
     ]
    },
    {
     "name": "stdout",
     "output_type": "stream",
     "text": [
      "                   all        256        349      0.974      0.953      0.971      0.807\n"
     ]
    },
    {
     "name": "stderr",
     "output_type": "stream",
     "text": [
      "\n"
     ]
    },
    {
     "name": "stdout",
     "output_type": "stream",
     "text": [
      "\n",
      "      Epoch    GPU_mem   box_loss   cls_loss   dfl_loss  Instances       Size\n"
     ]
    },
    {
     "name": "stderr",
     "output_type": "stream",
     "text": [
      "    141/200      6.84G     0.7051     0.4349      1.092          2        640: 100%|██████████| 137/137 [00:25<00:00,  5.37it/s]\n",
      "                 Class     Images  Instances      Box(P          R      mAP50  mAP50-95): 100%|██████████| 8/8 [00:01<00:00,  6.10it/s]"
     ]
    },
    {
     "name": "stdout",
     "output_type": "stream",
     "text": [
      "                   all        256        349      0.962       0.96      0.964      0.803\n"
     ]
    },
    {
     "name": "stderr",
     "output_type": "stream",
     "text": [
      "\n"
     ]
    },
    {
     "name": "stdout",
     "output_type": "stream",
     "text": [
      "\n",
      "      Epoch    GPU_mem   box_loss   cls_loss   dfl_loss  Instances       Size\n"
     ]
    },
    {
     "name": "stderr",
     "output_type": "stream",
     "text": [
      "    142/200      6.81G     0.6928     0.4186      1.083          6        640: 100%|██████████| 137/137 [00:25<00:00,  5.38it/s]\n",
      "                 Class     Images  Instances      Box(P          R      mAP50  mAP50-95): 100%|██████████| 8/8 [00:01<00:00,  6.05it/s]"
     ]
    },
    {
     "name": "stdout",
     "output_type": "stream",
     "text": [
      "                   all        256        349      0.969      0.943      0.961      0.807\n"
     ]
    },
    {
     "name": "stderr",
     "output_type": "stream",
     "text": [
      "\n"
     ]
    },
    {
     "name": "stdout",
     "output_type": "stream",
     "text": [
      "\n",
      "      Epoch    GPU_mem   box_loss   cls_loss   dfl_loss  Instances       Size\n"
     ]
    },
    {
     "name": "stderr",
     "output_type": "stream",
     "text": [
      "    143/200      6.81G     0.6845     0.4187      1.076          2        640: 100%|██████████| 137/137 [00:25<00:00,  5.37it/s]\n",
      "                 Class     Images  Instances      Box(P          R      mAP50  mAP50-95): 100%|██████████| 8/8 [00:01<00:00,  5.80it/s]"
     ]
    },
    {
     "name": "stdout",
     "output_type": "stream",
     "text": [
      "                   all        256        349      0.975       0.94      0.963      0.811\n"
     ]
    },
    {
     "name": "stderr",
     "output_type": "stream",
     "text": [
      "\n"
     ]
    },
    {
     "name": "stdout",
     "output_type": "stream",
     "text": [
      "\n",
      "      Epoch    GPU_mem   box_loss   cls_loss   dfl_loss  Instances       Size\n"
     ]
    },
    {
     "name": "stderr",
     "output_type": "stream",
     "text": [
      "    144/200       6.7G     0.6918     0.4225      1.078          2        640: 100%|██████████| 137/137 [00:25<00:00,  5.38it/s]\n",
      "                 Class     Images  Instances      Box(P          R      mAP50  mAP50-95): 100%|██████████| 8/8 [00:01<00:00,  6.02it/s]"
     ]
    },
    {
     "name": "stdout",
     "output_type": "stream",
     "text": [
      "                   all        256        349      0.975      0.946      0.965      0.818\n"
     ]
    },
    {
     "name": "stderr",
     "output_type": "stream",
     "text": [
      "\n"
     ]
    },
    {
     "name": "stdout",
     "output_type": "stream",
     "text": [
      "\n",
      "      Epoch    GPU_mem   box_loss   cls_loss   dfl_loss  Instances       Size\n"
     ]
    },
    {
     "name": "stderr",
     "output_type": "stream",
     "text": [
      "    145/200      6.83G     0.6751     0.4138      1.071          2        640: 100%|██████████| 137/137 [00:25<00:00,  5.39it/s]\n",
      "                 Class     Images  Instances      Box(P          R      mAP50  mAP50-95): 100%|██████████| 8/8 [00:01<00:00,  6.07it/s]"
     ]
    },
    {
     "name": "stdout",
     "output_type": "stream",
     "text": [
      "                   all        256        349      0.973      0.954      0.968      0.811\n"
     ]
    },
    {
     "name": "stderr",
     "output_type": "stream",
     "text": [
      "\n"
     ]
    },
    {
     "name": "stdout",
     "output_type": "stream",
     "text": [
      "\n",
      "      Epoch    GPU_mem   box_loss   cls_loss   dfl_loss  Instances       Size\n"
     ]
    },
    {
     "name": "stderr",
     "output_type": "stream",
     "text": [
      "    146/200      6.81G      0.673     0.4128      1.061          6        640: 100%|██████████| 137/137 [00:25<00:00,  5.42it/s]\n",
      "                 Class     Images  Instances      Box(P          R      mAP50  mAP50-95): 100%|██████████| 8/8 [00:01<00:00,  5.82it/s]"
     ]
    },
    {
     "name": "stdout",
     "output_type": "stream",
     "text": [
      "                   all        256        349      0.984      0.948      0.965      0.805\n"
     ]
    },
    {
     "name": "stderr",
     "output_type": "stream",
     "text": [
      "\n"
     ]
    },
    {
     "name": "stdout",
     "output_type": "stream",
     "text": [
      "\n",
      "      Epoch    GPU_mem   box_loss   cls_loss   dfl_loss  Instances       Size\n"
     ]
    },
    {
     "name": "stderr",
     "output_type": "stream",
     "text": [
      "    147/200      6.81G     0.6684     0.4085      1.066          4        640: 100%|██████████| 137/137 [00:25<00:00,  5.38it/s]\n",
      "                 Class     Images  Instances      Box(P          R      mAP50  mAP50-95): 100%|██████████| 8/8 [00:01<00:00,  5.98it/s]"
     ]
    },
    {
     "name": "stdout",
     "output_type": "stream",
     "text": [
      "                   all        256        349      0.985      0.939      0.968       0.81\n"
     ]
    },
    {
     "name": "stderr",
     "output_type": "stream",
     "text": [
      "\n"
     ]
    },
    {
     "name": "stdout",
     "output_type": "stream",
     "text": [
      "\n",
      "      Epoch    GPU_mem   box_loss   cls_loss   dfl_loss  Instances       Size\n"
     ]
    },
    {
     "name": "stderr",
     "output_type": "stream",
     "text": [
      "    148/200      6.71G     0.6583     0.3955      1.057          2        640: 100%|██████████| 137/137 [00:25<00:00,  5.39it/s]\n",
      "                 Class     Images  Instances      Box(P          R      mAP50  mAP50-95): 100%|██████████| 8/8 [00:01<00:00,  6.06it/s]"
     ]
    },
    {
     "name": "stdout",
     "output_type": "stream",
     "text": [
      "                   all        256        349      0.976      0.948      0.971       0.82\n"
     ]
    },
    {
     "name": "stderr",
     "output_type": "stream",
     "text": [
      "\n"
     ]
    },
    {
     "name": "stdout",
     "output_type": "stream",
     "text": [
      "\n",
      "      Epoch    GPU_mem   box_loss   cls_loss   dfl_loss  Instances       Size\n"
     ]
    },
    {
     "name": "stderr",
     "output_type": "stream",
     "text": [
      "    149/200      6.83G     0.6594     0.4053      1.058          4        640: 100%|██████████| 137/137 [00:25<00:00,  5.40it/s]\n",
      "                 Class     Images  Instances      Box(P          R      mAP50  mAP50-95): 100%|██████████| 8/8 [00:01<00:00,  5.87it/s]"
     ]
    },
    {
     "name": "stdout",
     "output_type": "stream",
     "text": [
      "                   all        256        349      0.979      0.947      0.976      0.811\n"
     ]
    },
    {
     "name": "stderr",
     "output_type": "stream",
     "text": [
      "\n"
     ]
    },
    {
     "name": "stdout",
     "output_type": "stream",
     "text": [
      "\n",
      "      Epoch    GPU_mem   box_loss   cls_loss   dfl_loss  Instances       Size\n"
     ]
    },
    {
     "name": "stderr",
     "output_type": "stream",
     "text": [
      "    150/200       6.8G     0.6637     0.4067      1.063          2        640: 100%|██████████| 137/137 [00:25<00:00,  5.41it/s]\n",
      "                 Class     Images  Instances      Box(P          R      mAP50  mAP50-95): 100%|██████████| 8/8 [00:01<00:00,  5.89it/s]"
     ]
    },
    {
     "name": "stdout",
     "output_type": "stream",
     "text": [
      "                   all        256        349      0.977       0.96      0.971      0.813\n"
     ]
    },
    {
     "name": "stderr",
     "output_type": "stream",
     "text": [
      "\n"
     ]
    },
    {
     "name": "stdout",
     "output_type": "stream",
     "text": [
      "\n",
      "      Epoch    GPU_mem   box_loss   cls_loss   dfl_loss  Instances       Size\n"
     ]
    },
    {
     "name": "stderr",
     "output_type": "stream",
     "text": [
      "    151/200      6.79G     0.6622     0.4061      1.062          6        640: 100%|██████████| 137/137 [00:25<00:00,  5.38it/s]\n",
      "                 Class     Images  Instances      Box(P          R      mAP50  mAP50-95): 100%|██████████| 8/8 [00:01<00:00,  6.02it/s]"
     ]
    },
    {
     "name": "stdout",
     "output_type": "stream",
     "text": [
      "                   all        256        349      0.988      0.947      0.972      0.816\n"
     ]
    },
    {
     "name": "stderr",
     "output_type": "stream",
     "text": [
      "\n"
     ]
    },
    {
     "name": "stdout",
     "output_type": "stream",
     "text": [
      "\n",
      "      Epoch    GPU_mem   box_loss   cls_loss   dfl_loss  Instances       Size\n"
     ]
    },
    {
     "name": "stderr",
     "output_type": "stream",
     "text": [
      "    152/200      6.71G     0.6574     0.4014      1.062          5        640: 100%|██████████| 137/137 [00:25<00:00,  5.41it/s]\n",
      "                 Class     Images  Instances      Box(P          R      mAP50  mAP50-95): 100%|██████████| 8/8 [00:01<00:00,  6.07it/s]"
     ]
    },
    {
     "name": "stdout",
     "output_type": "stream",
     "text": [
      "                   all        256        349      0.979      0.963       0.97      0.819\n"
     ]
    },
    {
     "name": "stderr",
     "output_type": "stream",
     "text": [
      "\n"
     ]
    },
    {
     "name": "stdout",
     "output_type": "stream",
     "text": [
      "\n",
      "      Epoch    GPU_mem   box_loss   cls_loss   dfl_loss  Instances       Size\n"
     ]
    },
    {
     "name": "stderr",
     "output_type": "stream",
     "text": [
      "    153/200      6.83G     0.6533     0.4096      1.055          3        640: 100%|██████████| 137/137 [00:25<00:00,  5.36it/s]\n",
      "                 Class     Images  Instances      Box(P          R      mAP50  mAP50-95): 100%|██████████| 8/8 [00:01<00:00,  6.14it/s]"
     ]
    },
    {
     "name": "stdout",
     "output_type": "stream",
     "text": [
      "                   all        256        349      0.974      0.957      0.971      0.819\n"
     ]
    },
    {
     "name": "stderr",
     "output_type": "stream",
     "text": [
      "\n"
     ]
    },
    {
     "name": "stdout",
     "output_type": "stream",
     "text": [
      "\n",
      "      Epoch    GPU_mem   box_loss   cls_loss   dfl_loss  Instances       Size\n"
     ]
    },
    {
     "name": "stderr",
     "output_type": "stream",
     "text": [
      "    154/200       6.8G      0.654     0.3925      1.054          3        640: 100%|██████████| 137/137 [00:25<00:00,  5.37it/s]\n",
      "                 Class     Images  Instances      Box(P          R      mAP50  mAP50-95): 100%|██████████| 8/8 [00:01<00:00,  6.03it/s]"
     ]
    },
    {
     "name": "stdout",
     "output_type": "stream",
     "text": [
      "                   all        256        349      0.976       0.96      0.972       0.82\n"
     ]
    },
    {
     "name": "stderr",
     "output_type": "stream",
     "text": [
      "\n"
     ]
    },
    {
     "name": "stdout",
     "output_type": "stream",
     "text": [
      "\n",
      "      Epoch    GPU_mem   box_loss   cls_loss   dfl_loss  Instances       Size\n"
     ]
    },
    {
     "name": "stderr",
     "output_type": "stream",
     "text": [
      "    155/200      6.81G     0.6437     0.3988      1.055          3        640: 100%|██████████| 137/137 [00:25<00:00,  5.37it/s]\n",
      "                 Class     Images  Instances      Box(P          R      mAP50  mAP50-95): 100%|██████████| 8/8 [00:01<00:00,  6.06it/s]"
     ]
    },
    {
     "name": "stdout",
     "output_type": "stream",
     "text": [
      "                   all        256        349       0.98       0.96      0.967      0.817\n"
     ]
    },
    {
     "name": "stderr",
     "output_type": "stream",
     "text": [
      "\n"
     ]
    },
    {
     "name": "stdout",
     "output_type": "stream",
     "text": [
      "\n",
      "      Epoch    GPU_mem   box_loss   cls_loss   dfl_loss  Instances       Size\n"
     ]
    },
    {
     "name": "stderr",
     "output_type": "stream",
     "text": [
      "    156/200      6.71G     0.6384     0.3855      1.041          5        640: 100%|██████████| 137/137 [00:25<00:00,  5.39it/s]\n",
      "                 Class     Images  Instances      Box(P          R      mAP50  mAP50-95): 100%|██████████| 8/8 [00:01<00:00,  6.04it/s]"
     ]
    },
    {
     "name": "stdout",
     "output_type": "stream",
     "text": [
      "                   all        256        349      0.982       0.96      0.971      0.822\n"
     ]
    },
    {
     "name": "stderr",
     "output_type": "stream",
     "text": [
      "\n"
     ]
    },
    {
     "name": "stdout",
     "output_type": "stream",
     "text": [
      "\n",
      "      Epoch    GPU_mem   box_loss   cls_loss   dfl_loss  Instances       Size\n"
     ]
    },
    {
     "name": "stderr",
     "output_type": "stream",
     "text": [
      "    157/200      6.84G     0.6449     0.3961      1.057          7        640: 100%|██████████| 137/137 [00:25<00:00,  5.36it/s]\n",
      "                 Class     Images  Instances      Box(P          R      mAP50  mAP50-95): 100%|██████████| 8/8 [00:01<00:00,  6.08it/s]"
     ]
    },
    {
     "name": "stdout",
     "output_type": "stream",
     "text": [
      "                   all        256        349      0.983       0.96      0.975      0.833\n"
     ]
    },
    {
     "name": "stderr",
     "output_type": "stream",
     "text": [
      "\n"
     ]
    },
    {
     "name": "stdout",
     "output_type": "stream",
     "text": [
      "\n",
      "      Epoch    GPU_mem   box_loss   cls_loss   dfl_loss  Instances       Size\n"
     ]
    },
    {
     "name": "stderr",
     "output_type": "stream",
     "text": [
      "    158/200      6.82G     0.6447     0.3968      1.055          3        640: 100%|██████████| 137/137 [00:25<00:00,  5.39it/s]\n",
      "                 Class     Images  Instances      Box(P          R      mAP50  mAP50-95): 100%|██████████| 8/8 [00:01<00:00,  5.98it/s]"
     ]
    },
    {
     "name": "stdout",
     "output_type": "stream",
     "text": [
      "                   all        256        349      0.975      0.954      0.974      0.822\n"
     ]
    },
    {
     "name": "stderr",
     "output_type": "stream",
     "text": [
      "\n"
     ]
    },
    {
     "name": "stdout",
     "output_type": "stream",
     "text": [
      "\n",
      "      Epoch    GPU_mem   box_loss   cls_loss   dfl_loss  Instances       Size\n"
     ]
    },
    {
     "name": "stderr",
     "output_type": "stream",
     "text": [
      "    159/200       6.8G     0.6249     0.3764      1.038          3        640: 100%|██████████| 137/137 [00:25<00:00,  5.37it/s]\n",
      "                 Class     Images  Instances      Box(P          R      mAP50  mAP50-95): 100%|██████████| 8/8 [00:01<00:00,  6.04it/s]"
     ]
    },
    {
     "name": "stdout",
     "output_type": "stream",
     "text": [
      "                   all        256        349      0.976      0.947      0.974      0.821\n"
     ]
    },
    {
     "name": "stderr",
     "output_type": "stream",
     "text": [
      "\n"
     ]
    },
    {
     "name": "stdout",
     "output_type": "stream",
     "text": [
      "\n",
      "      Epoch    GPU_mem   box_loss   cls_loss   dfl_loss  Instances       Size\n"
     ]
    },
    {
     "name": "stderr",
     "output_type": "stream",
     "text": [
      "    160/200      6.71G     0.6334     0.3929      1.037          5        640: 100%|██████████| 137/137 [00:25<00:00,  5.40it/s]\n",
      "                 Class     Images  Instances      Box(P          R      mAP50  mAP50-95): 100%|██████████| 8/8 [00:01<00:00,  6.03it/s]"
     ]
    },
    {
     "name": "stdout",
     "output_type": "stream",
     "text": [
      "                   all        256        349      0.976      0.947      0.971      0.823\n"
     ]
    },
    {
     "name": "stderr",
     "output_type": "stream",
     "text": [
      "\n"
     ]
    },
    {
     "name": "stdout",
     "output_type": "stream",
     "text": [
      "\n",
      "      Epoch    GPU_mem   box_loss   cls_loss   dfl_loss  Instances       Size\n"
     ]
    },
    {
     "name": "stderr",
     "output_type": "stream",
     "text": [
      "    161/200      6.84G     0.6329     0.3869       1.05          5        640: 100%|██████████| 137/137 [00:25<00:00,  5.37it/s]\n",
      "                 Class     Images  Instances      Box(P          R      mAP50  mAP50-95): 100%|██████████| 8/8 [00:01<00:00,  6.06it/s]"
     ]
    },
    {
     "name": "stdout",
     "output_type": "stream",
     "text": [
      "                   all        256        349      0.982      0.963      0.973      0.829\n"
     ]
    },
    {
     "name": "stderr",
     "output_type": "stream",
     "text": [
      "\n"
     ]
    },
    {
     "name": "stdout",
     "output_type": "stream",
     "text": [
      "\n",
      "      Epoch    GPU_mem   box_loss   cls_loss   dfl_loss  Instances       Size\n"
     ]
    },
    {
     "name": "stderr",
     "output_type": "stream",
     "text": [
      "    162/200      6.81G     0.6173     0.3827      1.039          6        640: 100%|██████████| 137/137 [00:25<00:00,  5.39it/s]\n",
      "                 Class     Images  Instances      Box(P          R      mAP50  mAP50-95): 100%|██████████| 8/8 [00:01<00:00,  6.00it/s]"
     ]
    },
    {
     "name": "stdout",
     "output_type": "stream",
     "text": [
      "                   all        256        349       0.98      0.962      0.975      0.826\n"
     ]
    },
    {
     "name": "stderr",
     "output_type": "stream",
     "text": [
      "\n"
     ]
    },
    {
     "name": "stdout",
     "output_type": "stream",
     "text": [
      "\n",
      "      Epoch    GPU_mem   box_loss   cls_loss   dfl_loss  Instances       Size\n"
     ]
    },
    {
     "name": "stderr",
     "output_type": "stream",
     "text": [
      "    163/200       6.8G     0.6019     0.3749      1.025          5        640: 100%|██████████| 137/137 [00:25<00:00,  5.36it/s]\n",
      "                 Class     Images  Instances      Box(P          R      mAP50  mAP50-95): 100%|██████████| 8/8 [00:01<00:00,  5.99it/s]"
     ]
    },
    {
     "name": "stdout",
     "output_type": "stream",
     "text": [
      "                   all        256        349      0.977      0.954      0.974      0.832\n"
     ]
    },
    {
     "name": "stderr",
     "output_type": "stream",
     "text": [
      "\n"
     ]
    },
    {
     "name": "stdout",
     "output_type": "stream",
     "text": [
      "\n",
      "      Epoch    GPU_mem   box_loss   cls_loss   dfl_loss  Instances       Size\n"
     ]
    },
    {
     "name": "stderr",
     "output_type": "stream",
     "text": [
      "    164/200      6.72G     0.6013     0.3738      1.021          2        640: 100%|██████████| 137/137 [00:25<00:00,  5.38it/s]\n",
      "                 Class     Images  Instances      Box(P          R      mAP50  mAP50-95): 100%|██████████| 8/8 [00:01<00:00,  5.96it/s]"
     ]
    },
    {
     "name": "stdout",
     "output_type": "stream",
     "text": [
      "                   all        256        349      0.985      0.955      0.973      0.829\n"
     ]
    },
    {
     "name": "stderr",
     "output_type": "stream",
     "text": [
      "\n"
     ]
    },
    {
     "name": "stdout",
     "output_type": "stream",
     "text": [
      "\n",
      "      Epoch    GPU_mem   box_loss   cls_loss   dfl_loss  Instances       Size\n"
     ]
    },
    {
     "name": "stderr",
     "output_type": "stream",
     "text": [
      "    165/200      6.84G     0.6055     0.3782      1.027          3        640: 100%|██████████| 137/137 [00:25<00:00,  5.38it/s]\n",
      "                 Class     Images  Instances      Box(P          R      mAP50  mAP50-95): 100%|██████████| 8/8 [00:01<00:00,  5.99it/s]"
     ]
    },
    {
     "name": "stdout",
     "output_type": "stream",
     "text": [
      "                   all        256        349      0.988      0.951      0.974       0.83\n"
     ]
    },
    {
     "name": "stderr",
     "output_type": "stream",
     "text": [
      "\n"
     ]
    },
    {
     "name": "stdout",
     "output_type": "stream",
     "text": [
      "\n",
      "      Epoch    GPU_mem   box_loss   cls_loss   dfl_loss  Instances       Size\n"
     ]
    },
    {
     "name": "stderr",
     "output_type": "stream",
     "text": [
      "    166/200      6.81G     0.6087     0.3778       1.03          2        640: 100%|██████████| 137/137 [00:25<00:00,  5.39it/s]\n",
      "                 Class     Images  Instances      Box(P          R      mAP50  mAP50-95): 100%|██████████| 8/8 [00:01<00:00,  6.04it/s]"
     ]
    },
    {
     "name": "stdout",
     "output_type": "stream",
     "text": [
      "                   all        256        349      0.983      0.948      0.965      0.834\n"
     ]
    },
    {
     "name": "stderr",
     "output_type": "stream",
     "text": [
      "\n"
     ]
    },
    {
     "name": "stdout",
     "output_type": "stream",
     "text": [
      "\n",
      "      Epoch    GPU_mem   box_loss   cls_loss   dfl_loss  Instances       Size\n"
     ]
    },
    {
     "name": "stderr",
     "output_type": "stream",
     "text": [
      "    167/200      6.79G     0.5958     0.3645      1.026          4        640: 100%|██████████| 137/137 [00:25<00:00,  5.37it/s]\n",
      "                 Class     Images  Instances      Box(P          R      mAP50  mAP50-95): 100%|██████████| 8/8 [00:01<00:00,  6.06it/s]"
     ]
    },
    {
     "name": "stdout",
     "output_type": "stream",
     "text": [
      "                   all        256        349      0.988      0.954      0.968      0.831\n"
     ]
    },
    {
     "name": "stderr",
     "output_type": "stream",
     "text": [
      "\n"
     ]
    },
    {
     "name": "stdout",
     "output_type": "stream",
     "text": [
      "\n",
      "      Epoch    GPU_mem   box_loss   cls_loss   dfl_loss  Instances       Size\n"
     ]
    },
    {
     "name": "stderr",
     "output_type": "stream",
     "text": [
      "    168/200      6.72G     0.5974     0.3658      1.017          5        640: 100%|██████████| 137/137 [00:25<00:00,  5.39it/s]\n",
      "                 Class     Images  Instances      Box(P          R      mAP50  mAP50-95): 100%|██████████| 8/8 [00:01<00:00,  6.10it/s]"
     ]
    },
    {
     "name": "stdout",
     "output_type": "stream",
     "text": [
      "                   all        256        349      0.974       0.96       0.97      0.828\n"
     ]
    },
    {
     "name": "stderr",
     "output_type": "stream",
     "text": [
      "\n"
     ]
    },
    {
     "name": "stdout",
     "output_type": "stream",
     "text": [
      "\n",
      "      Epoch    GPU_mem   box_loss   cls_loss   dfl_loss  Instances       Size\n"
     ]
    },
    {
     "name": "stderr",
     "output_type": "stream",
     "text": [
      "    169/200      6.83G     0.6034     0.3723      1.023          4        640: 100%|██████████| 137/137 [00:25<00:00,  5.37it/s]\n",
      "                 Class     Images  Instances      Box(P          R      mAP50  mAP50-95): 100%|██████████| 8/8 [00:01<00:00,  6.07it/s]"
     ]
    },
    {
     "name": "stdout",
     "output_type": "stream",
     "text": [
      "                   all        256        349      0.971      0.965      0.972      0.834\n"
     ]
    },
    {
     "name": "stderr",
     "output_type": "stream",
     "text": [
      "\n"
     ]
    },
    {
     "name": "stdout",
     "output_type": "stream",
     "text": [
      "\n",
      "      Epoch    GPU_mem   box_loss   cls_loss   dfl_loss  Instances       Size\n"
     ]
    },
    {
     "name": "stderr",
     "output_type": "stream",
     "text": [
      "    170/200       6.8G     0.6074     0.3734      1.025          3        640: 100%|██████████| 137/137 [00:25<00:00,  5.40it/s]\n",
      "                 Class     Images  Instances      Box(P          R      mAP50  mAP50-95): 100%|██████████| 8/8 [00:01<00:00,  5.93it/s]"
     ]
    },
    {
     "name": "stdout",
     "output_type": "stream",
     "text": [
      "                   all        256        349      0.971      0.964      0.971      0.835\n"
     ]
    },
    {
     "name": "stderr",
     "output_type": "stream",
     "text": [
      "\n"
     ]
    },
    {
     "name": "stdout",
     "output_type": "stream",
     "text": [
      "\n",
      "      Epoch    GPU_mem   box_loss   cls_loss   dfl_loss  Instances       Size\n"
     ]
    },
    {
     "name": "stderr",
     "output_type": "stream",
     "text": [
      "    171/200      6.81G     0.6064      0.374       1.03          3        640: 100%|██████████| 137/137 [00:25<00:00,  5.41it/s]\n",
      "                 Class     Images  Instances      Box(P          R      mAP50  mAP50-95): 100%|██████████| 8/8 [00:01<00:00,  5.98it/s]"
     ]
    },
    {
     "name": "stdout",
     "output_type": "stream",
     "text": [
      "                   all        256        349      0.982      0.953       0.97      0.839\n"
     ]
    },
    {
     "name": "stderr",
     "output_type": "stream",
     "text": [
      "\n"
     ]
    },
    {
     "name": "stdout",
     "output_type": "stream",
     "text": [
      "\n",
      "      Epoch    GPU_mem   box_loss   cls_loss   dfl_loss  Instances       Size\n"
     ]
    },
    {
     "name": "stderr",
     "output_type": "stream",
     "text": [
      "    172/200      6.71G      0.601     0.3684      1.024          5        640: 100%|██████████| 137/137 [00:25<00:00,  5.40it/s]\n",
      "                 Class     Images  Instances      Box(P          R      mAP50  mAP50-95): 100%|██████████| 8/8 [00:01<00:00,  6.00it/s]"
     ]
    },
    {
     "name": "stdout",
     "output_type": "stream",
     "text": [
      "                   all        256        349      0.971      0.961      0.974       0.84\n"
     ]
    },
    {
     "name": "stderr",
     "output_type": "stream",
     "text": [
      "\n"
     ]
    },
    {
     "name": "stdout",
     "output_type": "stream",
     "text": [
      "\n",
      "      Epoch    GPU_mem   box_loss   cls_loss   dfl_loss  Instances       Size\n"
     ]
    },
    {
     "name": "stderr",
     "output_type": "stream",
     "text": [
      "    173/200      6.83G     0.5836      0.358      1.014          5        640: 100%|██████████| 137/137 [00:25<00:00,  5.40it/s]\n",
      "                 Class     Images  Instances      Box(P          R      mAP50  mAP50-95): 100%|██████████| 8/8 [00:01<00:00,  6.13it/s]"
     ]
    },
    {
     "name": "stdout",
     "output_type": "stream",
     "text": [
      "                   all        256        349      0.976       0.96      0.973      0.837\n"
     ]
    },
    {
     "name": "stderr",
     "output_type": "stream",
     "text": [
      "\n"
     ]
    },
    {
     "name": "stdout",
     "output_type": "stream",
     "text": [
      "\n",
      "      Epoch    GPU_mem   box_loss   cls_loss   dfl_loss  Instances       Size\n"
     ]
    },
    {
     "name": "stderr",
     "output_type": "stream",
     "text": [
      "    174/200      6.82G     0.5946     0.3661      1.024          5        640: 100%|██████████| 137/137 [00:25<00:00,  5.40it/s]\n",
      "                 Class     Images  Instances      Box(P          R      mAP50  mAP50-95): 100%|██████████| 8/8 [00:01<00:00,  6.03it/s]"
     ]
    },
    {
     "name": "stdout",
     "output_type": "stream",
     "text": [
      "                   all        256        349      0.979      0.954      0.973      0.835\n"
     ]
    },
    {
     "name": "stderr",
     "output_type": "stream",
     "text": [
      "\n"
     ]
    },
    {
     "name": "stdout",
     "output_type": "stream",
     "text": [
      "\n",
      "      Epoch    GPU_mem   box_loss   cls_loss   dfl_loss  Instances       Size\n"
     ]
    },
    {
     "name": "stderr",
     "output_type": "stream",
     "text": [
      "    175/200       6.8G     0.5954     0.3671      1.016          3        640: 100%|██████████| 137/137 [00:25<00:00,  5.37it/s]\n",
      "                 Class     Images  Instances      Box(P          R      mAP50  mAP50-95): 100%|██████████| 8/8 [00:01<00:00,  6.09it/s]"
     ]
    },
    {
     "name": "stdout",
     "output_type": "stream",
     "text": [
      "                   all        256        349      0.988      0.951      0.974      0.837\n"
     ]
    },
    {
     "name": "stderr",
     "output_type": "stream",
     "text": [
      "\n"
     ]
    },
    {
     "name": "stdout",
     "output_type": "stream",
     "text": [
      "\n",
      "      Epoch    GPU_mem   box_loss   cls_loss   dfl_loss  Instances       Size\n"
     ]
    },
    {
     "name": "stderr",
     "output_type": "stream",
     "text": [
      "    176/200       6.7G       0.58     0.3545      1.013          3        640: 100%|██████████| 137/137 [00:25<00:00,  5.39it/s]\n",
      "                 Class     Images  Instances      Box(P          R      mAP50  mAP50-95): 100%|██████████| 8/8 [00:01<00:00,  6.04it/s]"
     ]
    },
    {
     "name": "stdout",
     "output_type": "stream",
     "text": [
      "                   all        256        349      0.987      0.954      0.972       0.84\n"
     ]
    },
    {
     "name": "stderr",
     "output_type": "stream",
     "text": [
      "\n"
     ]
    },
    {
     "name": "stdout",
     "output_type": "stream",
     "text": [
      "\n",
      "      Epoch    GPU_mem   box_loss   cls_loss   dfl_loss  Instances       Size\n"
     ]
    },
    {
     "name": "stderr",
     "output_type": "stream",
     "text": [
      "    177/200      6.83G     0.5912     0.3614      1.017          2        640: 100%|██████████| 137/137 [00:25<00:00,  5.37it/s]\n",
      "                 Class     Images  Instances      Box(P          R      mAP50  mAP50-95): 100%|██████████| 8/8 [00:01<00:00,  6.07it/s]"
     ]
    },
    {
     "name": "stdout",
     "output_type": "stream",
     "text": [
      "                   all        256        349      0.982      0.952      0.972       0.84\n"
     ]
    },
    {
     "name": "stderr",
     "output_type": "stream",
     "text": [
      "\n"
     ]
    },
    {
     "name": "stdout",
     "output_type": "stream",
     "text": [
      "\n",
      "      Epoch    GPU_mem   box_loss   cls_loss   dfl_loss  Instances       Size\n"
     ]
    },
    {
     "name": "stderr",
     "output_type": "stream",
     "text": [
      "    178/200       6.8G     0.5832     0.3544      1.023          2        640: 100%|██████████| 137/137 [00:25<00:00,  5.41it/s]\n",
      "                 Class     Images  Instances      Box(P          R      mAP50  mAP50-95): 100%|██████████| 8/8 [00:01<00:00,  5.92it/s]"
     ]
    },
    {
     "name": "stdout",
     "output_type": "stream",
     "text": [
      "                   all        256        349      0.982      0.959      0.971      0.841\n"
     ]
    },
    {
     "name": "stderr",
     "output_type": "stream",
     "text": [
      "\n"
     ]
    },
    {
     "name": "stdout",
     "output_type": "stream",
     "text": [
      "\n",
      "      Epoch    GPU_mem   box_loss   cls_loss   dfl_loss  Instances       Size\n"
     ]
    },
    {
     "name": "stderr",
     "output_type": "stream",
     "text": [
      "    179/200      6.81G     0.5769     0.3564      1.009          3        640: 100%|██████████| 137/137 [00:25<00:00,  5.40it/s]\n",
      "                 Class     Images  Instances      Box(P          R      mAP50  mAP50-95): 100%|██████████| 8/8 [00:01<00:00,  6.01it/s]"
     ]
    },
    {
     "name": "stdout",
     "output_type": "stream",
     "text": [
      "                   all        256        349      0.982      0.956      0.972      0.841\n"
     ]
    },
    {
     "name": "stderr",
     "output_type": "stream",
     "text": [
      "\n"
     ]
    },
    {
     "name": "stdout",
     "output_type": "stream",
     "text": [
      "\n",
      "      Epoch    GPU_mem   box_loss   cls_loss   dfl_loss  Instances       Size\n"
     ]
    },
    {
     "name": "stderr",
     "output_type": "stream",
     "text": [
      "    180/200       6.7G     0.5724       0.35      1.007          5        640: 100%|██████████| 137/137 [00:25<00:00,  5.39it/s]\n",
      "                 Class     Images  Instances      Box(P          R      mAP50  mAP50-95): 100%|██████████| 8/8 [00:01<00:00,  5.85it/s]"
     ]
    },
    {
     "name": "stdout",
     "output_type": "stream",
     "text": [
      "                   all        256        349      0.982      0.956      0.973      0.843\n"
     ]
    },
    {
     "name": "stderr",
     "output_type": "stream",
     "text": [
      "\n"
     ]
    },
    {
     "name": "stdout",
     "output_type": "stream",
     "text": [
      "\n",
      "      Epoch    GPU_mem   box_loss   cls_loss   dfl_loss  Instances       Size\n"
     ]
    },
    {
     "name": "stderr",
     "output_type": "stream",
     "text": [
      "    181/200      6.83G     0.5804     0.3566      1.014          3        640: 100%|██████████| 137/137 [00:25<00:00,  5.41it/s]\n",
      "                 Class     Images  Instances      Box(P          R      mAP50  mAP50-95): 100%|██████████| 8/8 [00:01<00:00,  6.08it/s]"
     ]
    },
    {
     "name": "stdout",
     "output_type": "stream",
     "text": [
      "                   all        256        349      0.981      0.957       0.97      0.842\n"
     ]
    },
    {
     "name": "stderr",
     "output_type": "stream",
     "text": [
      "\n"
     ]
    },
    {
     "name": "stdout",
     "output_type": "stream",
     "text": [
      "\n",
      "      Epoch    GPU_mem   box_loss   cls_loss   dfl_loss  Instances       Size\n"
     ]
    },
    {
     "name": "stderr",
     "output_type": "stream",
     "text": [
      "    182/200      6.82G     0.5746     0.3578      1.007          2        640: 100%|██████████| 137/137 [00:25<00:00,  5.38it/s]\n",
      "                 Class     Images  Instances      Box(P          R      mAP50  mAP50-95): 100%|██████████| 8/8 [00:01<00:00,  6.09it/s]"
     ]
    },
    {
     "name": "stdout",
     "output_type": "stream",
     "text": [
      "                   all        256        349      0.978       0.96       0.97      0.843\n"
     ]
    },
    {
     "name": "stderr",
     "output_type": "stream",
     "text": [
      "\n"
     ]
    },
    {
     "name": "stdout",
     "output_type": "stream",
     "text": [
      "\n",
      "      Epoch    GPU_mem   box_loss   cls_loss   dfl_loss  Instances       Size\n"
     ]
    },
    {
     "name": "stderr",
     "output_type": "stream",
     "text": [
      "    183/200       6.8G     0.5749     0.3548      1.009          2        640: 100%|██████████| 137/137 [00:25<00:00,  5.38it/s]\n",
      "                 Class     Images  Instances      Box(P          R      mAP50  mAP50-95): 100%|██████████| 8/8 [00:01<00:00,  5.96it/s]"
     ]
    },
    {
     "name": "stdout",
     "output_type": "stream",
     "text": [
      "                   all        256        349      0.976       0.96      0.968      0.841\n"
     ]
    },
    {
     "name": "stderr",
     "output_type": "stream",
     "text": [
      "\n"
     ]
    },
    {
     "name": "stdout",
     "output_type": "stream",
     "text": [
      "\n",
      "      Epoch    GPU_mem   box_loss   cls_loss   dfl_loss  Instances       Size\n"
     ]
    },
    {
     "name": "stderr",
     "output_type": "stream",
     "text": [
      "    184/200      6.71G     0.5731     0.3512      1.006         10        640: 100%|██████████| 137/137 [00:25<00:00,  5.40it/s]\n",
      "                 Class     Images  Instances      Box(P          R      mAP50  mAP50-95): 100%|██████████| 8/8 [00:01<00:00,  5.99it/s]"
     ]
    },
    {
     "name": "stdout",
     "output_type": "stream",
     "text": [
      "                   all        256        349      0.978       0.96      0.971      0.841\n"
     ]
    },
    {
     "name": "stderr",
     "output_type": "stream",
     "text": [
      "\n"
     ]
    },
    {
     "name": "stdout",
     "output_type": "stream",
     "text": [
      "\n",
      "      Epoch    GPU_mem   box_loss   cls_loss   dfl_loss  Instances       Size\n"
     ]
    },
    {
     "name": "stderr",
     "output_type": "stream",
     "text": [
      "    185/200      6.83G     0.5782     0.3591      1.011          2        640: 100%|██████████| 137/137 [00:25<00:00,  5.37it/s]\n",
      "                 Class     Images  Instances      Box(P          R      mAP50  mAP50-95): 100%|██████████| 8/8 [00:01<00:00,  6.03it/s]"
     ]
    },
    {
     "name": "stdout",
     "output_type": "stream",
     "text": [
      "                   all        256        349      0.984       0.96       0.97      0.836\n"
     ]
    },
    {
     "name": "stderr",
     "output_type": "stream",
     "text": [
      "\n"
     ]
    },
    {
     "name": "stdout",
     "output_type": "stream",
     "text": [
      "\n",
      "      Epoch    GPU_mem   box_loss   cls_loss   dfl_loss  Instances       Size\n"
     ]
    },
    {
     "name": "stderr",
     "output_type": "stream",
     "text": [
      "    186/200      6.82G     0.5717     0.3501      1.017          3        640: 100%|██████████| 137/137 [00:25<00:00,  5.41it/s]\n",
      "                 Class     Images  Instances      Box(P          R      mAP50  mAP50-95): 100%|██████████| 8/8 [00:01<00:00,  6.04it/s]"
     ]
    },
    {
     "name": "stdout",
     "output_type": "stream",
     "text": [
      "                   all        256        349      0.982       0.96      0.971       0.84\n"
     ]
    },
    {
     "name": "stderr",
     "output_type": "stream",
     "text": [
      "\n"
     ]
    },
    {
     "name": "stdout",
     "output_type": "stream",
     "text": [
      "\n",
      "      Epoch    GPU_mem   box_loss   cls_loss   dfl_loss  Instances       Size\n"
     ]
    },
    {
     "name": "stderr",
     "output_type": "stream",
     "text": [
      "    187/200       6.8G      0.573     0.3521       1.01          8        640: 100%|██████████| 137/137 [00:25<00:00,  5.36it/s]\n",
      "                 Class     Images  Instances      Box(P          R      mAP50  mAP50-95): 100%|██████████| 8/8 [00:01<00:00,  6.02it/s]"
     ]
    },
    {
     "name": "stdout",
     "output_type": "stream",
     "text": [
      "                   all        256        349      0.982       0.96      0.972      0.841\n"
     ]
    },
    {
     "name": "stderr",
     "output_type": "stream",
     "text": [
      "\n"
     ]
    },
    {
     "name": "stdout",
     "output_type": "stream",
     "text": [
      "\n",
      "      Epoch    GPU_mem   box_loss   cls_loss   dfl_loss  Instances       Size\n"
     ]
    },
    {
     "name": "stderr",
     "output_type": "stream",
     "text": [
      "    188/200      6.72G     0.5671     0.3489      0.997          4        640: 100%|██████████| 137/137 [00:25<00:00,  5.40it/s]\n",
      "                 Class     Images  Instances      Box(P          R      mAP50  mAP50-95): 100%|██████████| 8/8 [00:01<00:00,  5.90it/s]"
     ]
    },
    {
     "name": "stdout",
     "output_type": "stream",
     "text": [
      "                   all        256        349      0.982      0.959      0.969      0.842\n"
     ]
    },
    {
     "name": "stderr",
     "output_type": "stream",
     "text": [
      "\n"
     ]
    },
    {
     "name": "stdout",
     "output_type": "stream",
     "text": [
      "\n",
      "      Epoch    GPU_mem   box_loss   cls_loss   dfl_loss  Instances       Size\n"
     ]
    },
    {
     "name": "stderr",
     "output_type": "stream",
     "text": [
      "    189/200      6.83G     0.5712     0.3524      1.004          8        640: 100%|██████████| 137/137 [00:25<00:00,  5.38it/s]\n",
      "                 Class     Images  Instances      Box(P          R      mAP50  mAP50-95): 100%|██████████| 8/8 [00:01<00:00,  6.11it/s]"
     ]
    },
    {
     "name": "stdout",
     "output_type": "stream",
     "text": [
      "                   all        256        349      0.982      0.959      0.971      0.844\n"
     ]
    },
    {
     "name": "stderr",
     "output_type": "stream",
     "text": [
      "\n"
     ]
    },
    {
     "name": "stdout",
     "output_type": "stream",
     "text": [
      "\n",
      "      Epoch    GPU_mem   box_loss   cls_loss   dfl_loss  Instances       Size\n"
     ]
    },
    {
     "name": "stderr",
     "output_type": "stream",
     "text": [
      "    190/200       6.8G     0.5726     0.3541      1.007          3        640: 100%|██████████| 137/137 [00:25<00:00,  5.39it/s]\n",
      "                 Class     Images  Instances      Box(P          R      mAP50  mAP50-95): 100%|██████████| 8/8 [00:01<00:00,  6.07it/s]"
     ]
    },
    {
     "name": "stdout",
     "output_type": "stream",
     "text": [
      "                   all        256        349      0.982      0.956      0.973      0.845\n"
     ]
    },
    {
     "name": "stderr",
     "output_type": "stream",
     "text": [
      "\n"
     ]
    },
    {
     "name": "stdout",
     "output_type": "stream",
     "text": [
      "Closing dataloader mosaic\n",
      "\n",
      "      Epoch    GPU_mem   box_loss   cls_loss   dfl_loss  Instances       Size\n"
     ]
    },
    {
     "name": "stderr",
     "output_type": "stream",
     "text": [
      "    191/200      6.81G     0.4951     0.2794     0.9503          2        640: 100%|██████████| 137/137 [00:25<00:00,  5.31it/s]\n",
      "                 Class     Images  Instances      Box(P          R      mAP50  mAP50-95): 100%|██████████| 8/8 [00:01<00:00,  6.03it/s]"
     ]
    },
    {
     "name": "stdout",
     "output_type": "stream",
     "text": [
      "                   all        256        349       0.98      0.959      0.973       0.84\n"
     ]
    },
    {
     "name": "stderr",
     "output_type": "stream",
     "text": [
      "\n"
     ]
    },
    {
     "name": "stdout",
     "output_type": "stream",
     "text": [
      "\n",
      "      Epoch    GPU_mem   box_loss   cls_loss   dfl_loss  Instances       Size\n"
     ]
    },
    {
     "name": "stderr",
     "output_type": "stream",
     "text": [
      "    192/200      6.69G     0.4826     0.2702     0.9478          2        640: 100%|██████████| 137/137 [00:25<00:00,  5.38it/s]\n",
      "                 Class     Images  Instances      Box(P          R      mAP50  mAP50-95): 100%|██████████| 8/8 [00:01<00:00,  6.03it/s]"
     ]
    },
    {
     "name": "stdout",
     "output_type": "stream",
     "text": [
      "                   all        256        349      0.979       0.96      0.973      0.841\n"
     ]
    },
    {
     "name": "stderr",
     "output_type": "stream",
     "text": [
      "\n"
     ]
    },
    {
     "name": "stdout",
     "output_type": "stream",
     "text": [
      "\n",
      "      Epoch    GPU_mem   box_loss   cls_loss   dfl_loss  Instances       Size\n"
     ]
    },
    {
     "name": "stderr",
     "output_type": "stream",
     "text": [
      "    193/200      6.82G      0.473     0.2627     0.9386          4        640: 100%|██████████| 137/137 [00:25<00:00,  5.38it/s]\n",
      "                 Class     Images  Instances      Box(P          R      mAP50  mAP50-95): 100%|██████████| 8/8 [00:01<00:00,  5.84it/s]"
     ]
    },
    {
     "name": "stdout",
     "output_type": "stream",
     "text": [
      "                   all        256        349      0.981      0.957      0.973       0.84\n"
     ]
    },
    {
     "name": "stderr",
     "output_type": "stream",
     "text": [
      "\n"
     ]
    },
    {
     "name": "stdout",
     "output_type": "stream",
     "text": [
      "\n",
      "      Epoch    GPU_mem   box_loss   cls_loss   dfl_loss  Instances       Size\n"
     ]
    },
    {
     "name": "stderr",
     "output_type": "stream",
     "text": [
      "    194/200      6.81G     0.4713     0.2603     0.9385          2        640: 100%|██████████| 137/137 [00:25<00:00,  5.40it/s]\n",
      "                 Class     Images  Instances      Box(P          R      mAP50  mAP50-95): 100%|██████████| 8/8 [00:01<00:00,  6.03it/s]"
     ]
    },
    {
     "name": "stdout",
     "output_type": "stream",
     "text": [
      "                   all        256        349      0.982       0.96      0.973      0.843\n"
     ]
    },
    {
     "name": "stderr",
     "output_type": "stream",
     "text": [
      "\n"
     ]
    },
    {
     "name": "stdout",
     "output_type": "stream",
     "text": [
      "\n",
      "      Epoch    GPU_mem   box_loss   cls_loss   dfl_loss  Instances       Size\n"
     ]
    },
    {
     "name": "stderr",
     "output_type": "stream",
     "text": [
      "    195/200      6.81G     0.4764     0.2663     0.9397          6        640: 100%|██████████| 137/137 [00:25<00:00,  5.38it/s]\n",
      "                 Class     Images  Instances      Box(P          R      mAP50  mAP50-95): 100%|██████████| 8/8 [00:01<00:00,  5.99it/s]"
     ]
    },
    {
     "name": "stdout",
     "output_type": "stream",
     "text": [
      "                   all        256        349      0.982       0.96      0.973       0.84\n"
     ]
    },
    {
     "name": "stderr",
     "output_type": "stream",
     "text": [
      "\n"
     ]
    },
    {
     "name": "stdout",
     "output_type": "stream",
     "text": [
      "\n",
      "      Epoch    GPU_mem   box_loss   cls_loss   dfl_loss  Instances       Size\n"
     ]
    },
    {
     "name": "stderr",
     "output_type": "stream",
     "text": [
      "    196/200      6.71G      0.464     0.2598     0.9336          2        640: 100%|██████████| 137/137 [00:25<00:00,  5.38it/s]\n",
      "                 Class     Images  Instances      Box(P          R      mAP50  mAP50-95): 100%|██████████| 8/8 [00:01<00:00,  6.10it/s]"
     ]
    },
    {
     "name": "stdout",
     "output_type": "stream",
     "text": [
      "                   all        256        349      0.982       0.96      0.972      0.841\n"
     ]
    },
    {
     "name": "stderr",
     "output_type": "stream",
     "text": [
      "\n"
     ]
    },
    {
     "name": "stdout",
     "output_type": "stream",
     "text": [
      "\n",
      "      Epoch    GPU_mem   box_loss   cls_loss   dfl_loss  Instances       Size\n"
     ]
    },
    {
     "name": "stderr",
     "output_type": "stream",
     "text": [
      "    197/200      6.84G     0.4677     0.2629     0.9396          4        640: 100%|██████████| 137/137 [00:25<00:00,  5.40it/s]\n",
      "                 Class     Images  Instances      Box(P          R      mAP50  mAP50-95): 100%|██████████| 8/8 [00:01<00:00,  6.08it/s]"
     ]
    },
    {
     "name": "stdout",
     "output_type": "stream",
     "text": [
      "                   all        256        349      0.982       0.96      0.972      0.843\n"
     ]
    },
    {
     "name": "stderr",
     "output_type": "stream",
     "text": [
      "\n"
     ]
    },
    {
     "name": "stdout",
     "output_type": "stream",
     "text": [
      "\n",
      "      Epoch    GPU_mem   box_loss   cls_loss   dfl_loss  Instances       Size\n"
     ]
    },
    {
     "name": "stderr",
     "output_type": "stream",
     "text": [
      "    198/200      6.81G     0.4656     0.2635     0.9312          3        640: 100%|██████████| 137/137 [00:25<00:00,  5.40it/s]\n",
      "                 Class     Images  Instances      Box(P          R      mAP50  mAP50-95): 100%|██████████| 8/8 [00:01<00:00,  5.95it/s]"
     ]
    },
    {
     "name": "stdout",
     "output_type": "stream",
     "text": [
      "                   all        256        349      0.982       0.96      0.972      0.844\n"
     ]
    },
    {
     "name": "stderr",
     "output_type": "stream",
     "text": [
      "\n"
     ]
    },
    {
     "name": "stdout",
     "output_type": "stream",
     "text": [
      "\n",
      "      Epoch    GPU_mem   box_loss   cls_loss   dfl_loss  Instances       Size\n"
     ]
    },
    {
     "name": "stderr",
     "output_type": "stream",
     "text": [
      "    199/200       6.8G     0.4664     0.2673     0.9379          2        640: 100%|██████████| 137/137 [00:25<00:00,  5.38it/s]\n",
      "                 Class     Images  Instances      Box(P          R      mAP50  mAP50-95): 100%|██████████| 8/8 [00:01<00:00,  6.00it/s]"
     ]
    },
    {
     "name": "stdout",
     "output_type": "stream",
     "text": [
      "                   all        256        349      0.982       0.96      0.973      0.842\n"
     ]
    },
    {
     "name": "stderr",
     "output_type": "stream",
     "text": [
      "\n"
     ]
    },
    {
     "name": "stdout",
     "output_type": "stream",
     "text": [
      "\n",
      "      Epoch    GPU_mem   box_loss   cls_loss   dfl_loss  Instances       Size\n"
     ]
    },
    {
     "name": "stderr",
     "output_type": "stream",
     "text": [
      "    200/200       6.7G     0.4675     0.2604     0.9402          2        640: 100%|██████████| 137/137 [00:25<00:00,  5.40it/s]\n",
      "                 Class     Images  Instances      Box(P          R      mAP50  mAP50-95): 100%|██████████| 8/8 [00:01<00:00,  6.02it/s]"
     ]
    },
    {
     "name": "stdout",
     "output_type": "stream",
     "text": [
      "                   all        256        349      0.982       0.96      0.973      0.844\n"
     ]
    },
    {
     "name": "stderr",
     "output_type": "stream",
     "text": [
      "\n"
     ]
    },
    {
     "name": "stdout",
     "output_type": "stream",
     "text": [
      "\n",
      "200 epochs completed in 1.684 hours.\n",
      "Optimizer stripped from Uni-Wood/Mixed_YOLO_d2+sf1_test_1/weights/last.pt, 52.1MB\n",
      "Optimizer stripped from Uni-Wood/Mixed_YOLO_d2+sf1_test_1/weights/best.pt, 52.1MB\n",
      "\n",
      "Validating Uni-Wood/Mixed_YOLO_d2+sf1_test_1/weights/best.pt...\n",
      "Ultralytics YOLOv8.2.41 🚀 Python-3.12.2 torch-2.3.1+cu121 CUDA:0 (NVIDIA RTX A5000, 24241MiB)\n",
      "YOLOv8m summary (fused): 218 layers, 25840918 parameters, 0 gradients, 78.7 GFLOPs\n"
     ]
    },
    {
     "name": "stderr",
     "output_type": "stream",
     "text": [
      "                 Class     Images  Instances      Box(P          R      mAP50  mAP50-95): 100%|██████████| 8/8 [00:01<00:00,  5.48it/s]\n"
     ]
    },
    {
     "name": "stdout",
     "output_type": "stream",
     "text": [
      "                   all        256        349       0.98      0.957      0.973      0.844\n",
      "             wood_knot        255        349       0.98      0.957      0.973      0.844\n",
      "Speed: 0.1ms preprocess, 3.0ms inference, 0.0ms loss, 0.8ms postprocess per image\n",
      "Results saved to \u001b[1mUni-Wood/Mixed_YOLO_d2+sf1_test_1\u001b[0m\n"
     ]
    }
   ],
   "source": [
    "from ultralytics import YOLO\n",
    "\n",
    "model = YOLO(model)\n",
    "\n",
    "results = model.train(project=project, name=name, exist_ok=exist_ok, data=data, imgsz=imgsz, task=task, device=device, epochs=epochs, batch=batch, lr0=lr0, cos_lr=cos_lr, weight_decay=weight_decay, dropout=dropout, optimizer=optimizer, momentum=momentum, seed=seed, plots=plots)\n",
    "\n",
    "cl_task.close()"
   ]
  },
  {
   "cell_type": "markdown",
   "metadata": {},
   "source": [
    "# 3 testing"
   ]
  },
  {
   "cell_type": "markdown",
   "metadata": {},
   "source": [
    "## 3.1 path"
   ]
  },
  {
   "cell_type": "code",
   "execution_count": 5,
   "metadata": {},
   "outputs": [],
   "source": [
    "from ultralytics import YOLO\n",
    "import cv2\n",
    "import os\n",
    "\n",
    "model_path = \"/Users/holmes/Documents/UNI-Bamberg/4.Semester_MA/Masterthesis/xAI_Masterthesis_Pan/Code/Detection/YOLO/202407_Mixed_tests/Uni-Wood/Mixed_YOLO_d1+sf1_test_1/weights/best.pt\"\n",
    "\n",
    "image_folder = \"/Users/holmes/Documents/UNI-Bamberg/Arbeiten/Datensatz/Selfmade/4_Maria_0710/2024_07_09_10_43_56\"\n",
    "\n",
    "save_path = \"/Users/holmes/Documents/UNI-Bamberg/Arbeiten/Datensatz/Selfmade/4_Maria_0710/2024_07_09_10_43_56/test\"\n",
    "\n"
   ]
  },
  {
   "cell_type": "markdown",
   "metadata": {},
   "source": [
    "## 3.2 resize"
   ]
  },
  {
   "cell_type": "code",
   "execution_count": null,
   "metadata": {},
   "outputs": [],
   "source": [
    "# Resize images\n",
    "resized_image_folder = os.path.join(image_folder, \"resized\")\n",
    "os.makedirs(resized_image_folder, exist_ok=True)\n",
    "\n",
    "for file in os.listdir(image_folder):\n",
    "    if file.endswith(('.jpg', '.JPG', '.jpeg', '.png', '.bmp')):\n",
    "        img_path = os.path.join(image_folder, file)\n",
    "        img = cv2.imread(img_path)\n",
    "        img_resized = cv2.resize(img, (640, 640))\n",
    "        resized_img_path = os.path.join(resized_image_folder, os.path.splitext(file)[0] + \"_resize\" + os.path.splitext(file)[1])\n",
    "        cv2.imwrite(resized_img_path, img_resized)\n",
    "image_folder = resized_image_folder\n"
   ]
  },
  {
   "cell_type": "markdown",
   "metadata": {},
   "source": []
  },
  {
   "cell_type": "markdown",
   "metadata": {},
   "source": [
    "## 3.3 test"
   ]
  },
  {
   "cell_type": "markdown",
   "metadata": {},
   "source": []
  },
  {
   "cell_type": "code",
   "execution_count": 6,
   "metadata": {},
   "outputs": [
    {
     "name": "stdout",
     "output_type": "stream",
     "text": [
      "\n",
      "image 1/1 /Users/holmes/Documents/UNI-Bamberg/Arbeiten/Datensatz/Selfmade/4_Maria_0710/2024_07_09_10_43_56/IMG_0170.jpeg: 640x480 1 wood_dowel, 308.5ms\n",
      "Speed: 2.7ms preprocess, 308.5ms inference, 0.4ms postprocess per image at shape (1, 3, 640, 480)\n",
      "Image saved: /Users/holmes/Documents/UNI-Bamberg/Arbeiten/Datensatz/Selfmade/4_Maria_0710/2024_07_09_10_43_56/test/IMG_0170.jpeg\n",
      "\n",
      "image 1/1 /Users/holmes/Documents/UNI-Bamberg/Arbeiten/Datensatz/Selfmade/4_Maria_0710/2024_07_09_10_43_56/IMG_0035.jpeg: 640x480 1 wood_knot, 351.6ms\n",
      "Speed: 2.3ms preprocess, 351.6ms inference, 0.5ms postprocess per image at shape (1, 3, 640, 480)\n",
      "Image saved: /Users/holmes/Documents/UNI-Bamberg/Arbeiten/Datensatz/Selfmade/4_Maria_0710/2024_07_09_10_43_56/test/IMG_0035.jpeg\n",
      "\n",
      "image 1/1 /Users/holmes/Documents/UNI-Bamberg/Arbeiten/Datensatz/Selfmade/4_Maria_0710/2024_07_09_10_43_56/thumb_00000.jpg: 640x512 (no detections), 331.7ms\n",
      "Speed: 2.5ms preprocess, 331.7ms inference, 0.2ms postprocess per image at shape (1, 3, 640, 512)\n",
      "Image saved: /Users/holmes/Documents/UNI-Bamberg/Arbeiten/Datensatz/Selfmade/4_Maria_0710/2024_07_09_10_43_56/test/thumb_00000.jpg\n",
      "\n",
      "image 1/1 /Users/holmes/Documents/UNI-Bamberg/Arbeiten/Datensatz/Selfmade/4_Maria_0710/2024_07_09_10_43_56/IMG_0127.jpeg: 640x480 1 wood_knot, 306.8ms\n",
      "Speed: 2.5ms preprocess, 306.8ms inference, 0.4ms postprocess per image at shape (1, 3, 640, 480)\n",
      "Image saved: /Users/holmes/Documents/UNI-Bamberg/Arbeiten/Datensatz/Selfmade/4_Maria_0710/2024_07_09_10_43_56/test/IMG_0127.jpeg\n",
      "\n",
      "image 1/1 /Users/holmes/Documents/UNI-Bamberg/Arbeiten/Datensatz/Selfmade/4_Maria_0710/2024_07_09_10_43_56/IMG_0062.jpeg: 640x480 1 wood_knot, 303.6ms\n",
      "Speed: 2.1ms preprocess, 303.6ms inference, 0.4ms postprocess per image at shape (1, 3, 640, 480)\n",
      "Image saved: /Users/holmes/Documents/UNI-Bamberg/Arbeiten/Datensatz/Selfmade/4_Maria_0710/2024_07_09_10_43_56/test/IMG_0062.jpeg\n",
      "\n",
      "image 1/1 /Users/holmes/Documents/UNI-Bamberg/Arbeiten/Datensatz/Selfmade/4_Maria_0710/2024_07_09_10_43_56/IMG_0218.jpeg: 640x480 (no detections), 307.7ms\n",
      "Speed: 2.4ms preprocess, 307.7ms inference, 0.3ms postprocess per image at shape (1, 3, 640, 480)\n",
      "Image saved: /Users/holmes/Documents/UNI-Bamberg/Arbeiten/Datensatz/Selfmade/4_Maria_0710/2024_07_09_10_43_56/test/IMG_0218.jpeg\n",
      "\n",
      "image 1/1 /Users/holmes/Documents/UNI-Bamberg/Arbeiten/Datensatz/Selfmade/4_Maria_0710/2024_07_09_10_43_56/IMG_0131.jpeg: 640x480 1 wood_knot, 293.0ms\n",
      "Speed: 2.5ms preprocess, 293.0ms inference, 0.6ms postprocess per image at shape (1, 3, 640, 480)\n",
      "Image saved: /Users/holmes/Documents/UNI-Bamberg/Arbeiten/Datensatz/Selfmade/4_Maria_0710/2024_07_09_10_43_56/test/IMG_0131.jpeg\n",
      "\n",
      "image 1/1 /Users/holmes/Documents/UNI-Bamberg/Arbeiten/Datensatz/Selfmade/4_Maria_0710/2024_07_09_10_43_56/IMG_0074.jpeg: 640x480 (no detections), 303.1ms\n",
      "Speed: 2.6ms preprocess, 303.1ms inference, 0.2ms postprocess per image at shape (1, 3, 640, 480)\n",
      "Image saved: /Users/holmes/Documents/UNI-Bamberg/Arbeiten/Datensatz/Selfmade/4_Maria_0710/2024_07_09_10_43_56/test/IMG_0074.jpeg\n",
      "\n",
      "image 1/1 /Users/holmes/Documents/UNI-Bamberg/Arbeiten/Datensatz/Selfmade/4_Maria_0710/2024_07_09_10_43_56/IMG_0166.jpeg: 640x480 (no detections), 315.5ms\n",
      "Speed: 2.1ms preprocess, 315.5ms inference, 0.2ms postprocess per image at shape (1, 3, 640, 480)\n",
      "Image saved: /Users/holmes/Documents/UNI-Bamberg/Arbeiten/Datensatz/Selfmade/4_Maria_0710/2024_07_09_10_43_56/test/IMG_0166.jpeg\n",
      "\n",
      "image 1/1 /Users/holmes/Documents/UNI-Bamberg/Arbeiten/Datensatz/Selfmade/4_Maria_0710/2024_07_09_10_43_56/IMG_0023.jpeg: 640x480 (no detections), 306.5ms\n",
      "Speed: 2.5ms preprocess, 306.5ms inference, 0.2ms postprocess per image at shape (1, 3, 640, 480)\n",
      "Image saved: /Users/holmes/Documents/UNI-Bamberg/Arbeiten/Datensatz/Selfmade/4_Maria_0710/2024_07_09_10_43_56/test/IMG_0023.jpeg\n",
      "\n",
      "image 1/1 /Users/holmes/Documents/UNI-Bamberg/Arbeiten/Datensatz/Selfmade/4_Maria_0710/2024_07_09_10_43_56/IMG_0189.jpeg: 640x480 (no detections), 307.5ms\n",
      "Speed: 2.3ms preprocess, 307.5ms inference, 0.2ms postprocess per image at shape (1, 3, 640, 480)\n",
      "Image saved: /Users/holmes/Documents/UNI-Bamberg/Arbeiten/Datensatz/Selfmade/4_Maria_0710/2024_07_09_10_43_56/test/IMG_0189.jpeg\n",
      "\n",
      "image 1/1 /Users/holmes/Documents/UNI-Bamberg/Arbeiten/Datensatz/Selfmade/4_Maria_0710/2024_07_09_10_43_56/IMG_0234.jpeg: 640x480 1 wood_dowel, 299.4ms\n",
      "Speed: 2.2ms preprocess, 299.4ms inference, 0.4ms postprocess per image at shape (1, 3, 640, 480)\n",
      "Image saved: /Users/holmes/Documents/UNI-Bamberg/Arbeiten/Datensatz/Selfmade/4_Maria_0710/2024_07_09_10_43_56/test/IMG_0234.jpeg\n",
      "\n",
      "image 1/1 /Users/holmes/Documents/UNI-Bamberg/Arbeiten/Datensatz/Selfmade/4_Maria_0710/2024_07_09_10_43_56/IMG_0058.jpeg: 640x480 (no detections), 314.8ms\n",
      "Speed: 2.2ms preprocess, 314.8ms inference, 0.2ms postprocess per image at shape (1, 3, 640, 480)\n",
      "Image saved: /Users/holmes/Documents/UNI-Bamberg/Arbeiten/Datensatz/Selfmade/4_Maria_0710/2024_07_09_10_43_56/test/IMG_0058.jpeg\n",
      "\n",
      "image 1/1 /Users/holmes/Documents/UNI-Bamberg/Arbeiten/Datensatz/Selfmade/4_Maria_0710/2024_07_09_10_43_56/IMG_0019.jpeg: 640x480 (no detections), 304.9ms\n",
      "Speed: 2.4ms preprocess, 304.9ms inference, 0.2ms postprocess per image at shape (1, 3, 640, 480)\n",
      "Image saved: /Users/holmes/Documents/UNI-Bamberg/Arbeiten/Datensatz/Selfmade/4_Maria_0710/2024_07_09_10_43_56/test/IMG_0019.jpeg\n",
      "\n",
      "image 1/1 /Users/holmes/Documents/UNI-Bamberg/Arbeiten/Datensatz/Selfmade/4_Maria_0710/2024_07_09_10_43_56/IMG_0222.jpeg: 640x480 (no detections), 320.4ms\n",
      "Speed: 2.6ms preprocess, 320.4ms inference, 0.2ms postprocess per image at shape (1, 3, 640, 480)\n",
      "Image saved: /Users/holmes/Documents/UNI-Bamberg/Arbeiten/Datensatz/Selfmade/4_Maria_0710/2024_07_09_10_43_56/test/IMG_0222.jpeg\n",
      "\n",
      "image 1/1 /Users/holmes/Documents/UNI-Bamberg/Arbeiten/Datensatz/Selfmade/4_Maria_0710/2024_07_09_10_43_56/IMG_0039.jpeg: 640x480 (no detections), 300.8ms\n",
      "Speed: 2.6ms preprocess, 300.8ms inference, 0.2ms postprocess per image at shape (1, 3, 640, 480)\n",
      "Image saved: /Users/holmes/Documents/UNI-Bamberg/Arbeiten/Datensatz/Selfmade/4_Maria_0710/2024_07_09_10_43_56/test/IMG_0039.jpeg\n",
      "\n",
      "image 1/1 /Users/holmes/Documents/UNI-Bamberg/Arbeiten/Datensatz/Selfmade/4_Maria_0710/2024_07_09_10_43_56/IMG_0193.jpeg: 640x480 (no detections), 312.1ms\n",
      "Speed: 2.5ms preprocess, 312.1ms inference, 0.2ms postprocess per image at shape (1, 3, 640, 480)\n",
      "Image saved: /Users/holmes/Documents/UNI-Bamberg/Arbeiten/Datensatz/Selfmade/4_Maria_0710/2024_07_09_10_43_56/test/IMG_0193.jpeg\n",
      "\n",
      "image 1/1 /Users/holmes/Documents/UNI-Bamberg/Arbeiten/Datensatz/Selfmade/4_Maria_0710/2024_07_09_10_43_56/IMG_0081.jpeg: 640x480 5 wood_knots, 307.0ms\n",
      "Speed: 2.4ms preprocess, 307.0ms inference, 0.4ms postprocess per image at shape (1, 3, 640, 480)\n",
      "Image saved: /Users/holmes/Documents/UNI-Bamberg/Arbeiten/Datensatz/Selfmade/4_Maria_0710/2024_07_09_10_43_56/test/IMG_0081.jpeg\n",
      "\n",
      "image 1/1 /Users/holmes/Documents/UNI-Bamberg/Arbeiten/Datensatz/Selfmade/4_Maria_0710/2024_07_09_10_43_56/IMG_0202.jpeg: 640x480 (no detections), 296.9ms\n",
      "Speed: 2.2ms preprocess, 296.9ms inference, 0.2ms postprocess per image at shape (1, 3, 640, 480)\n",
      "Image saved: /Users/holmes/Documents/UNI-Bamberg/Arbeiten/Datensatz/Selfmade/4_Maria_0710/2024_07_09_10_43_56/test/IMG_0202.jpeg\n",
      "\n",
      "image 1/1 /Users/holmes/Documents/UNI-Bamberg/Arbeiten/Datensatz/Selfmade/4_Maria_0710/2024_07_09_10_43_56/IMG_0097.jpeg: 640x480 1 wood_knot, 298.9ms\n",
      "Speed: 2.2ms preprocess, 298.9ms inference, 0.4ms postprocess per image at shape (1, 3, 640, 480)\n",
      "Image saved: /Users/holmes/Documents/UNI-Bamberg/Arbeiten/Datensatz/Selfmade/4_Maria_0710/2024_07_09_10_43_56/test/IMG_0097.jpeg\n",
      "\n",
      "image 1/1 /Users/holmes/Documents/UNI-Bamberg/Arbeiten/Datensatz/Selfmade/4_Maria_0710/2024_07_09_10_43_56/IMG_0078.jpeg: 640x480 1 wood_knot, 311.1ms\n",
      "Speed: 2.8ms preprocess, 311.1ms inference, 0.4ms postprocess per image at shape (1, 3, 640, 480)\n",
      "Image saved: /Users/holmes/Documents/UNI-Bamberg/Arbeiten/Datensatz/Selfmade/4_Maria_0710/2024_07_09_10_43_56/test/IMG_0078.jpeg\n",
      "\n",
      "image 1/1 /Users/holmes/Documents/UNI-Bamberg/Arbeiten/Datensatz/Selfmade/4_Maria_0710/2024_07_09_10_43_56/IMG_0214.jpeg: 640x480 (no detections), 303.1ms\n",
      "Speed: 2.1ms preprocess, 303.1ms inference, 0.3ms postprocess per image at shape (1, 3, 640, 480)\n",
      "Image saved: /Users/holmes/Documents/UNI-Bamberg/Arbeiten/Datensatz/Selfmade/4_Maria_0710/2024_07_09_10_43_56/test/IMG_0214.jpeg\n",
      "\n",
      "image 1/1 /Users/holmes/Documents/UNI-Bamberg/Arbeiten/Datensatz/Selfmade/4_Maria_0710/2024_07_09_10_43_56/IMG_0185.jpeg: 640x480 (no detections), 302.9ms\n",
      "Speed: 2.6ms preprocess, 302.9ms inference, 0.3ms postprocess per image at shape (1, 3, 640, 480)\n",
      "Image saved: /Users/holmes/Documents/UNI-Bamberg/Arbeiten/Datensatz/Selfmade/4_Maria_0710/2024_07_09_10_43_56/test/IMG_0185.jpeg\n",
      "\n",
      "image 1/1 /Users/holmes/Documents/UNI-Bamberg/Arbeiten/Datensatz/Selfmade/4_Maria_0710/2024_07_09_10_43_56/IMG_0243.jpeg: 640x480 (no detections), 301.9ms\n",
      "Speed: 2.1ms preprocess, 301.9ms inference, 0.2ms postprocess per image at shape (1, 3, 640, 480)\n",
      "Image saved: /Users/holmes/Documents/UNI-Bamberg/Arbeiten/Datensatz/Selfmade/4_Maria_0710/2024_07_09_10_43_56/test/IMG_0243.jpeg\n",
      "\n",
      "image 1/1 /Users/holmes/Documents/UNI-Bamberg/Arbeiten/Datensatz/Selfmade/4_Maria_0710/2024_07_09_10_43_56/IMG_0054.jpeg: 640x480 1 wood_knot, 298.9ms\n",
      "Speed: 2.2ms preprocess, 298.9ms inference, 0.4ms postprocess per image at shape (1, 3, 640, 480)\n",
      "Image saved: /Users/holmes/Documents/UNI-Bamberg/Arbeiten/Datensatz/Selfmade/4_Maria_0710/2024_07_09_10_43_56/test/IMG_0054.jpeg\n",
      "\n",
      "image 1/1 /Users/holmes/Documents/UNI-Bamberg/Arbeiten/Datensatz/Selfmade/4_Maria_0710/2024_07_09_10_43_56/IMG_0111.jpeg: 640x480 1 wood_knot, 305.7ms\n",
      "Speed: 2.4ms preprocess, 305.7ms inference, 0.4ms postprocess per image at shape (1, 3, 640, 480)\n",
      "Image saved: /Users/holmes/Documents/UNI-Bamberg/Arbeiten/Datensatz/Selfmade/4_Maria_0710/2024_07_09_10_43_56/test/IMG_0111.jpeg\n",
      "\n",
      "image 1/1 /Users/holmes/Documents/UNI-Bamberg/Arbeiten/Datensatz/Selfmade/4_Maria_0710/2024_07_09_10_43_56/IMG_0238.jpeg: 640x480 (no detections), 305.0ms\n",
      "Speed: 2.3ms preprocess, 305.0ms inference, 0.2ms postprocess per image at shape (1, 3, 640, 480)\n",
      "Image saved: /Users/holmes/Documents/UNI-Bamberg/Arbeiten/Datensatz/Selfmade/4_Maria_0710/2024_07_09_10_43_56/test/IMG_0238.jpeg\n",
      "\n",
      "image 1/1 /Users/holmes/Documents/UNI-Bamberg/Arbeiten/Datensatz/Selfmade/4_Maria_0710/2024_07_09_10_43_56/IMG_0003.jpeg: 640x480 (no detections), 304.1ms\n",
      "Speed: 2.5ms preprocess, 304.1ms inference, 0.2ms postprocess per image at shape (1, 3, 640, 480)\n",
      "Image saved: /Users/holmes/Documents/UNI-Bamberg/Arbeiten/Datensatz/Selfmade/4_Maria_0710/2024_07_09_10_43_56/test/IMG_0003.jpeg\n",
      "\n",
      "image 1/1 /Users/holmes/Documents/UNI-Bamberg/Arbeiten/Datensatz/Selfmade/4_Maria_0710/2024_07_09_10_43_56/IMG_0146.jpeg: 640x480 (no detections), 307.7ms\n",
      "Speed: 2.7ms preprocess, 307.7ms inference, 0.2ms postprocess per image at shape (1, 3, 640, 480)\n",
      "Image saved: /Users/holmes/Documents/UNI-Bamberg/Arbeiten/Datensatz/Selfmade/4_Maria_0710/2024_07_09_10_43_56/test/IMG_0146.jpeg\n",
      "\n",
      "image 1/1 /Users/holmes/Documents/UNI-Bamberg/Arbeiten/Datensatz/Selfmade/4_Maria_0710/2024_07_09_10_43_56/IMG_0015.jpeg: 640x480 1 wood_knot, 300.7ms\n",
      "Speed: 2.1ms preprocess, 300.7ms inference, 0.4ms postprocess per image at shape (1, 3, 640, 480)\n",
      "Image saved: /Users/holmes/Documents/UNI-Bamberg/Arbeiten/Datensatz/Selfmade/4_Maria_0710/2024_07_09_10_43_56/test/IMG_0015.jpeg\n",
      "\n",
      "image 1/1 /Users/holmes/Documents/UNI-Bamberg/Arbeiten/Datensatz/Selfmade/4_Maria_0710/2024_07_09_10_43_56/IMG_0150.jpeg: 640x480 1 wood_knot, 306.6ms\n",
      "Speed: 2.5ms preprocess, 306.6ms inference, 0.4ms postprocess per image at shape (1, 3, 640, 480)\n",
      "Image saved: /Users/holmes/Documents/UNI-Bamberg/Arbeiten/Datensatz/Selfmade/4_Maria_0710/2024_07_09_10_43_56/test/IMG_0150.jpeg\n",
      "\n",
      "image 1/1 /Users/holmes/Documents/UNI-Bamberg/Arbeiten/Datensatz/Selfmade/4_Maria_0710/2024_07_09_10_43_56/IMG_0042.jpeg: 640x480 (no detections), 319.5ms\n",
      "Speed: 2.4ms preprocess, 319.5ms inference, 0.2ms postprocess per image at shape (1, 3, 640, 480)\n",
      "Image saved: /Users/holmes/Documents/UNI-Bamberg/Arbeiten/Datensatz/Selfmade/4_Maria_0710/2024_07_09_10_43_56/test/IMG_0042.jpeg\n",
      "\n",
      "image 1/1 /Users/holmes/Documents/UNI-Bamberg/Arbeiten/Datensatz/Selfmade/4_Maria_0710/2024_07_09_10_43_56/IMG_0107.jpeg: 640x480 1 wood_knot, 304.1ms\n",
      "Speed: 2.6ms preprocess, 304.1ms inference, 0.4ms postprocess per image at shape (1, 3, 640, 480)\n",
      "Image saved: /Users/holmes/Documents/UNI-Bamberg/Arbeiten/Datensatz/Selfmade/4_Maria_0710/2024_07_09_10_43_56/test/IMG_0107.jpeg\n",
      "\n",
      "image 1/1 /Users/holmes/Documents/UNI-Bamberg/Arbeiten/Datensatz/Selfmade/4_Maria_0710/2024_07_09_10_43_56/IMG_0043.jpeg: 640x480 (no detections), 298.7ms\n",
      "Speed: 2.2ms preprocess, 298.7ms inference, 0.6ms postprocess per image at shape (1, 3, 640, 480)\n",
      "Image saved: /Users/holmes/Documents/UNI-Bamberg/Arbeiten/Datensatz/Selfmade/4_Maria_0710/2024_07_09_10_43_56/test/IMG_0043.jpeg\n",
      "\n",
      "image 1/1 /Users/holmes/Documents/UNI-Bamberg/Arbeiten/Datensatz/Selfmade/4_Maria_0710/2024_07_09_10_43_56/IMG_0106.jpeg: 640x480 1 wood_knot, 307.4ms\n",
      "Speed: 2.4ms preprocess, 307.4ms inference, 0.3ms postprocess per image at shape (1, 3, 640, 480)\n",
      "Image saved: /Users/holmes/Documents/UNI-Bamberg/Arbeiten/Datensatz/Selfmade/4_Maria_0710/2024_07_09_10_43_56/test/IMG_0106.jpeg\n",
      "\n",
      "image 1/1 /Users/holmes/Documents/UNI-Bamberg/Arbeiten/Datensatz/Selfmade/4_Maria_0710/2024_07_09_10_43_56/IMG_0014.jpeg: 640x480 (no detections), 305.0ms\n",
      "Speed: 2.2ms preprocess, 305.0ms inference, 0.2ms postprocess per image at shape (1, 3, 640, 480)\n",
      "Image saved: /Users/holmes/Documents/UNI-Bamberg/Arbeiten/Datensatz/Selfmade/4_Maria_0710/2024_07_09_10_43_56/test/IMG_0014.jpeg\n",
      "\n",
      "image 1/1 /Users/holmes/Documents/UNI-Bamberg/Arbeiten/Datensatz/Selfmade/4_Maria_0710/2024_07_09_10_43_56/IMG_0151.jpeg: 640x480 1 wood_knot, 303.6ms\n",
      "Speed: 2.4ms preprocess, 303.6ms inference, 0.4ms postprocess per image at shape (1, 3, 640, 480)\n",
      "Image saved: /Users/holmes/Documents/UNI-Bamberg/Arbeiten/Datensatz/Selfmade/4_Maria_0710/2024_07_09_10_43_56/test/IMG_0151.jpeg\n",
      "\n",
      "image 1/1 /Users/holmes/Documents/UNI-Bamberg/Arbeiten/Datensatz/Selfmade/4_Maria_0710/2024_07_09_10_43_56/IMG_0002.jpeg: 640x480 (no detections), 319.8ms\n",
      "Speed: 2.8ms preprocess, 319.8ms inference, 0.2ms postprocess per image at shape (1, 3, 640, 480)\n",
      "Image saved: /Users/holmes/Documents/UNI-Bamberg/Arbeiten/Datensatz/Selfmade/4_Maria_0710/2024_07_09_10_43_56/test/IMG_0002.jpeg\n",
      "\n",
      "image 1/1 /Users/holmes/Documents/UNI-Bamberg/Arbeiten/Datensatz/Selfmade/4_Maria_0710/2024_07_09_10_43_56/IMG_0147.jpeg: 640x480 1 wood_knot, 305.5ms\n",
      "Speed: 2.8ms preprocess, 305.5ms inference, 0.4ms postprocess per image at shape (1, 3, 640, 480)\n",
      "Image saved: /Users/holmes/Documents/UNI-Bamberg/Arbeiten/Datensatz/Selfmade/4_Maria_0710/2024_07_09_10_43_56/test/IMG_0147.jpeg\n",
      "\n",
      "image 1/1 /Users/holmes/Documents/UNI-Bamberg/Arbeiten/Datensatz/Selfmade/4_Maria_0710/2024_07_09_10_43_56/IMG_0239.jpeg: 640x480 (no detections), 329.4ms\n",
      "Speed: 2.1ms preprocess, 329.4ms inference, 0.2ms postprocess per image at shape (1, 3, 640, 480)\n",
      "Image saved: /Users/holmes/Documents/UNI-Bamberg/Arbeiten/Datensatz/Selfmade/4_Maria_0710/2024_07_09_10_43_56/test/IMG_0239.jpeg\n",
      "\n",
      "image 1/1 /Users/holmes/Documents/UNI-Bamberg/Arbeiten/Datensatz/Selfmade/4_Maria_0710/2024_07_09_10_43_56/IMG_0055.jpeg: 640x480 1 wood_knot, 298.0ms\n",
      "Speed: 2.7ms preprocess, 298.0ms inference, 0.4ms postprocess per image at shape (1, 3, 640, 480)\n",
      "Image saved: /Users/holmes/Documents/UNI-Bamberg/Arbeiten/Datensatz/Selfmade/4_Maria_0710/2024_07_09_10_43_56/test/IMG_0055.jpeg\n",
      "\n",
      "image 1/1 /Users/holmes/Documents/UNI-Bamberg/Arbeiten/Datensatz/Selfmade/4_Maria_0710/2024_07_09_10_43_56/IMG_0110.jpeg: 640x480 1 wood_knot, 299.6ms\n",
      "Speed: 2.6ms preprocess, 299.6ms inference, 0.4ms postprocess per image at shape (1, 3, 640, 480)\n",
      "Image saved: /Users/holmes/Documents/UNI-Bamberg/Arbeiten/Datensatz/Selfmade/4_Maria_0710/2024_07_09_10_43_56/test/IMG_0110.jpeg\n",
      "\n",
      "image 1/1 /Users/holmes/Documents/UNI-Bamberg/Arbeiten/Datensatz/Selfmade/4_Maria_0710/2024_07_09_10_43_56/IMG_0242.jpeg: 640x480 (no detections), 303.2ms\n",
      "Speed: 2.7ms preprocess, 303.2ms inference, 0.4ms postprocess per image at shape (1, 3, 640, 480)\n",
      "Image saved: /Users/holmes/Documents/UNI-Bamberg/Arbeiten/Datensatz/Selfmade/4_Maria_0710/2024_07_09_10_43_56/test/IMG_0242.jpeg\n",
      "\n",
      "image 1/1 /Users/holmes/Documents/UNI-Bamberg/Arbeiten/Datensatz/Selfmade/4_Maria_0710/2024_07_09_10_43_56/IMG_0184.jpeg: 640x480 (no detections), 304.2ms\n",
      "Speed: 2.2ms preprocess, 304.2ms inference, 0.2ms postprocess per image at shape (1, 3, 640, 480)\n",
      "Image saved: /Users/holmes/Documents/UNI-Bamberg/Arbeiten/Datensatz/Selfmade/4_Maria_0710/2024_07_09_10_43_56/test/IMG_0184.jpeg\n",
      "\n",
      "image 1/1 /Users/holmes/Documents/UNI-Bamberg/Arbeiten/Datensatz/Selfmade/4_Maria_0710/2024_07_09_10_43_56/IMG_0215.jpeg: 640x480 (no detections), 300.0ms\n",
      "Speed: 2.1ms preprocess, 300.0ms inference, 0.2ms postprocess per image at shape (1, 3, 640, 480)\n",
      "Image saved: /Users/holmes/Documents/UNI-Bamberg/Arbeiten/Datensatz/Selfmade/4_Maria_0710/2024_07_09_10_43_56/test/IMG_0215.jpeg\n",
      "\n",
      "image 1/1 /Users/holmes/Documents/UNI-Bamberg/Arbeiten/Datensatz/Selfmade/4_Maria_0710/2024_07_09_10_43_56/IMG_0096.jpeg: 640x480 1 wood_knot, 304.5ms\n",
      "Speed: 2.5ms preprocess, 304.5ms inference, 0.4ms postprocess per image at shape (1, 3, 640, 480)\n",
      "Image saved: /Users/holmes/Documents/UNI-Bamberg/Arbeiten/Datensatz/Selfmade/4_Maria_0710/2024_07_09_10_43_56/test/IMG_0096.jpeg\n",
      "\n",
      "image 1/1 /Users/holmes/Documents/UNI-Bamberg/Arbeiten/Datensatz/Selfmade/4_Maria_0710/2024_07_09_10_43_56/IMG_0079.jpeg: 640x480 3 wood_knots, 305.1ms\n",
      "Speed: 2.2ms preprocess, 305.1ms inference, 0.4ms postprocess per image at shape (1, 3, 640, 480)\n",
      "Image saved: /Users/holmes/Documents/UNI-Bamberg/Arbeiten/Datensatz/Selfmade/4_Maria_0710/2024_07_09_10_43_56/test/IMG_0079.jpeg\n",
      "\n",
      "image 1/1 /Users/holmes/Documents/UNI-Bamberg/Arbeiten/Datensatz/Selfmade/4_Maria_0710/2024_07_09_10_43_56/IMG_0203.jpeg: 640x480 (no detections), 302.8ms\n",
      "Speed: 2.8ms preprocess, 302.8ms inference, 0.2ms postprocess per image at shape (1, 3, 640, 480)\n",
      "Image saved: /Users/holmes/Documents/UNI-Bamberg/Arbeiten/Datensatz/Selfmade/4_Maria_0710/2024_07_09_10_43_56/test/IMG_0203.jpeg\n",
      "\n",
      "image 1/1 /Users/holmes/Documents/UNI-Bamberg/Arbeiten/Datensatz/Selfmade/4_Maria_0710/2024_07_09_10_43_56/IMG_0080.jpeg: 640x480 12 wood_knots, 301.5ms\n",
      "Speed: 2.2ms preprocess, 301.5ms inference, 0.4ms postprocess per image at shape (1, 3, 640, 480)\n",
      "Image saved: /Users/holmes/Documents/UNI-Bamberg/Arbeiten/Datensatz/Selfmade/4_Maria_0710/2024_07_09_10_43_56/test/IMG_0080.jpeg\n",
      "\n",
      "image 1/1 /Users/holmes/Documents/UNI-Bamberg/Arbeiten/Datensatz/Selfmade/4_Maria_0710/2024_07_09_10_43_56/IMG_0038.jpeg: 640x480 (no detections), 298.0ms\n",
      "Speed: 2.8ms preprocess, 298.0ms inference, 0.2ms postprocess per image at shape (1, 3, 640, 480)\n",
      "Image saved: /Users/holmes/Documents/UNI-Bamberg/Arbeiten/Datensatz/Selfmade/4_Maria_0710/2024_07_09_10_43_56/test/IMG_0038.jpeg\n",
      "\n",
      "image 1/1 /Users/holmes/Documents/UNI-Bamberg/Arbeiten/Datensatz/Selfmade/4_Maria_0710/2024_07_09_10_43_56/IMG_0192.jpeg: 640x480 (no detections), 305.6ms\n",
      "Speed: 2.3ms preprocess, 305.6ms inference, 0.2ms postprocess per image at shape (1, 3, 640, 480)\n",
      "Image saved: /Users/holmes/Documents/UNI-Bamberg/Arbeiten/Datensatz/Selfmade/4_Maria_0710/2024_07_09_10_43_56/test/IMG_0192.jpeg\n",
      "\n",
      "image 1/1 /Users/holmes/Documents/UNI-Bamberg/Arbeiten/Datensatz/Selfmade/4_Maria_0710/2024_07_09_10_43_56/IMG_0223.jpeg: 640x480 (no detections), 297.9ms\n",
      "Speed: 2.1ms preprocess, 297.9ms inference, 0.2ms postprocess per image at shape (1, 3, 640, 480)\n",
      "Image saved: /Users/holmes/Documents/UNI-Bamberg/Arbeiten/Datensatz/Selfmade/4_Maria_0710/2024_07_09_10_43_56/test/IMG_0223.jpeg\n",
      "\n",
      "image 1/1 /Users/holmes/Documents/UNI-Bamberg/Arbeiten/Datensatz/Selfmade/4_Maria_0710/2024_07_09_10_43_56/IMG_0018.jpeg: 640x480 (no detections), 302.3ms\n",
      "Speed: 2.4ms preprocess, 302.3ms inference, 0.3ms postprocess per image at shape (1, 3, 640, 480)\n",
      "Image saved: /Users/holmes/Documents/UNI-Bamberg/Arbeiten/Datensatz/Selfmade/4_Maria_0710/2024_07_09_10_43_56/test/IMG_0018.jpeg\n",
      "\n",
      "image 1/1 /Users/holmes/Documents/UNI-Bamberg/Arbeiten/Datensatz/Selfmade/4_Maria_0710/2024_07_09_10_43_56/IMG_0059.jpeg: 640x480 (no detections), 307.5ms\n",
      "Speed: 2.2ms preprocess, 307.5ms inference, 0.2ms postprocess per image at shape (1, 3, 640, 480)\n",
      "Image saved: /Users/holmes/Documents/UNI-Bamberg/Arbeiten/Datensatz/Selfmade/4_Maria_0710/2024_07_09_10_43_56/test/IMG_0059.jpeg\n",
      "\n",
      "image 1/1 /Users/holmes/Documents/UNI-Bamberg/Arbeiten/Datensatz/Selfmade/4_Maria_0710/2024_07_09_10_43_56/IMG_0235.jpeg: 640x480 1 wood_knot, 307.3ms\n",
      "Speed: 2.1ms preprocess, 307.3ms inference, 0.4ms postprocess per image at shape (1, 3, 640, 480)\n",
      "Image saved: /Users/holmes/Documents/UNI-Bamberg/Arbeiten/Datensatz/Selfmade/4_Maria_0710/2024_07_09_10_43_56/test/IMG_0235.jpeg\n",
      "\n",
      "image 1/1 /Users/holmes/Documents/UNI-Bamberg/Arbeiten/Datensatz/Selfmade/4_Maria_0710/2024_07_09_10_43_56/IMG_0167.jpeg: 640x480 (no detections), 295.4ms\n",
      "Speed: 2.2ms preprocess, 295.4ms inference, 0.2ms postprocess per image at shape (1, 3, 640, 480)\n",
      "Image saved: /Users/holmes/Documents/UNI-Bamberg/Arbeiten/Datensatz/Selfmade/4_Maria_0710/2024_07_09_10_43_56/test/IMG_0167.jpeg\n",
      "\n",
      "image 1/1 /Users/holmes/Documents/UNI-Bamberg/Arbeiten/Datensatz/Selfmade/4_Maria_0710/2024_07_09_10_43_56/IMG_0022.jpeg: 640x480 (no detections), 302.3ms\n",
      "Speed: 2.4ms preprocess, 302.3ms inference, 0.3ms postprocess per image at shape (1, 3, 640, 480)\n",
      "Image saved: /Users/holmes/Documents/UNI-Bamberg/Arbeiten/Datensatz/Selfmade/4_Maria_0710/2024_07_09_10_43_56/test/IMG_0022.jpeg\n",
      "\n",
      "image 1/1 /Users/holmes/Documents/UNI-Bamberg/Arbeiten/Datensatz/Selfmade/4_Maria_0710/2024_07_09_10_43_56/IMG_0188.jpeg: 640x480 (no detections), 302.4ms\n",
      "Speed: 2.5ms preprocess, 302.4ms inference, 0.2ms postprocess per image at shape (1, 3, 640, 480)\n",
      "Image saved: /Users/holmes/Documents/UNI-Bamberg/Arbeiten/Datensatz/Selfmade/4_Maria_0710/2024_07_09_10_43_56/test/IMG_0188.jpeg\n",
      "\n",
      "image 1/1 /Users/holmes/Documents/UNI-Bamberg/Arbeiten/Datensatz/Selfmade/4_Maria_0710/2024_07_09_10_43_56/IMG_0130.jpeg: 640x480 1 wood_knot, 298.6ms\n",
      "Speed: 2.2ms preprocess, 298.6ms inference, 0.7ms postprocess per image at shape (1, 3, 640, 480)\n",
      "Image saved: /Users/holmes/Documents/UNI-Bamberg/Arbeiten/Datensatz/Selfmade/4_Maria_0710/2024_07_09_10_43_56/test/IMG_0130.jpeg\n",
      "\n",
      "image 1/1 /Users/holmes/Documents/UNI-Bamberg/Arbeiten/Datensatz/Selfmade/4_Maria_0710/2024_07_09_10_43_56/IMG_0075.jpeg: 640x480 1 wood_knot, 306.4ms\n",
      "Speed: 2.2ms preprocess, 306.4ms inference, 0.4ms postprocess per image at shape (1, 3, 640, 480)\n",
      "Image saved: /Users/holmes/Documents/UNI-Bamberg/Arbeiten/Datensatz/Selfmade/4_Maria_0710/2024_07_09_10_43_56/test/IMG_0075.jpeg\n",
      "\n",
      "image 1/1 /Users/holmes/Documents/UNI-Bamberg/Arbeiten/Datensatz/Selfmade/4_Maria_0710/2024_07_09_10_43_56/IMG_0219.jpeg: 640x480 1 wood_knot, 306.4ms\n",
      "Speed: 2.5ms preprocess, 306.4ms inference, 0.4ms postprocess per image at shape (1, 3, 640, 480)\n",
      "Image saved: /Users/holmes/Documents/UNI-Bamberg/Arbeiten/Datensatz/Selfmade/4_Maria_0710/2024_07_09_10_43_56/test/IMG_0219.jpeg\n",
      "\n",
      "image 1/1 /Users/holmes/Documents/UNI-Bamberg/Arbeiten/Datensatz/Selfmade/4_Maria_0710/2024_07_09_10_43_56/IMG_0126.jpeg: 640x480 (no detections), 295.0ms\n",
      "Speed: 2.1ms preprocess, 295.0ms inference, 0.2ms postprocess per image at shape (1, 3, 640, 480)\n",
      "Image saved: /Users/holmes/Documents/UNI-Bamberg/Arbeiten/Datensatz/Selfmade/4_Maria_0710/2024_07_09_10_43_56/test/IMG_0126.jpeg\n",
      "\n",
      "image 1/1 /Users/holmes/Documents/UNI-Bamberg/Arbeiten/Datensatz/Selfmade/4_Maria_0710/2024_07_09_10_43_56/IMG_0063.jpeg: 640x480 1 wood_knot, 311.1ms\n",
      "Speed: 2.6ms preprocess, 311.1ms inference, 0.4ms postprocess per image at shape (1, 3, 640, 480)\n",
      "Image saved: /Users/holmes/Documents/UNI-Bamberg/Arbeiten/Datensatz/Selfmade/4_Maria_0710/2024_07_09_10_43_56/test/IMG_0063.jpeg\n",
      "\n",
      "image 1/1 /Users/holmes/Documents/UNI-Bamberg/Arbeiten/Datensatz/Selfmade/4_Maria_0710/2024_07_09_10_43_56/IMG_0171.jpeg: 640x480 (no detections), 309.3ms\n",
      "Speed: 2.2ms preprocess, 309.3ms inference, 0.2ms postprocess per image at shape (1, 3, 640, 480)\n",
      "Image saved: /Users/holmes/Documents/UNI-Bamberg/Arbeiten/Datensatz/Selfmade/4_Maria_0710/2024_07_09_10_43_56/test/IMG_0171.jpeg\n",
      "\n",
      "image 1/1 /Users/holmes/Documents/UNI-Bamberg/Arbeiten/Datensatz/Selfmade/4_Maria_0710/2024_07_09_10_43_56/IMG_0034.jpeg: 640x480 (no detections), 302.4ms\n",
      "Speed: 2.4ms preprocess, 302.4ms inference, 0.5ms postprocess per image at shape (1, 3, 640, 480)\n",
      "Image saved: /Users/holmes/Documents/UNI-Bamberg/Arbeiten/Datensatz/Selfmade/4_Maria_0710/2024_07_09_10_43_56/test/IMG_0034.jpeg\n",
      "\n",
      "image 1/1 /Users/holmes/Documents/UNI-Bamberg/Arbeiten/Datensatz/Selfmade/4_Maria_0710/2024_07_09_10_43_56/IMG_0195.jpeg: 640x480 1 wood_knot, 301.1ms\n",
      "Speed: 2.2ms preprocess, 301.1ms inference, 0.4ms postprocess per image at shape (1, 3, 640, 480)\n",
      "Image saved: /Users/holmes/Documents/UNI-Bamberg/Arbeiten/Datensatz/Selfmade/4_Maria_0710/2024_07_09_10_43_56/test/IMG_0195.jpeg\n",
      "\n",
      "image 1/1 /Users/holmes/Documents/UNI-Bamberg/Arbeiten/Datensatz/Selfmade/4_Maria_0710/2024_07_09_10_43_56/IMG_0087.jpeg: 640x480 6 wood_knots, 305.3ms\n",
      "Speed: 2.7ms preprocess, 305.3ms inference, 0.4ms postprocess per image at shape (1, 3, 640, 480)\n",
      "Image saved: /Users/holmes/Documents/UNI-Bamberg/Arbeiten/Datensatz/Selfmade/4_Maria_0710/2024_07_09_10_43_56/test/IMG_0087.jpeg\n",
      "\n",
      "image 1/1 /Users/holmes/Documents/UNI-Bamberg/Arbeiten/Datensatz/Selfmade/4_Maria_0710/2024_07_09_10_43_56/IMG_0068.jpeg: 640x480 1 wood_knot, 298.7ms\n",
      "Speed: 2.8ms preprocess, 298.7ms inference, 0.5ms postprocess per image at shape (1, 3, 640, 480)\n",
      "Image saved: /Users/holmes/Documents/UNI-Bamberg/Arbeiten/Datensatz/Selfmade/4_Maria_0710/2024_07_09_10_43_56/test/IMG_0068.jpeg\n",
      "\n",
      "image 1/1 /Users/holmes/Documents/UNI-Bamberg/Arbeiten/Datensatz/Selfmade/4_Maria_0710/2024_07_09_10_43_56/IMG_0204.jpeg: 640x480 (no detections), 307.2ms\n",
      "Speed: 2.4ms preprocess, 307.2ms inference, 0.2ms postprocess per image at shape (1, 3, 640, 480)\n",
      "Image saved: /Users/holmes/Documents/UNI-Bamberg/Arbeiten/Datensatz/Selfmade/4_Maria_0710/2024_07_09_10_43_56/test/IMG_0204.jpeg\n",
      "\n",
      "image 1/1 /Users/holmes/Documents/UNI-Bamberg/Arbeiten/Datensatz/Selfmade/4_Maria_0710/2024_07_09_10_43_56/IMG_0091.jpeg: 640x480 2 wood_knots, 314.7ms\n",
      "Speed: 2.8ms preprocess, 314.7ms inference, 0.5ms postprocess per image at shape (1, 3, 640, 480)\n",
      "Image saved: /Users/holmes/Documents/UNI-Bamberg/Arbeiten/Datensatz/Selfmade/4_Maria_0710/2024_07_09_10_43_56/test/IMG_0091.jpeg\n",
      "\n",
      "image 1/1 /Users/holmes/Documents/UNI-Bamberg/Arbeiten/Datensatz/Selfmade/4_Maria_0710/2024_07_09_10_43_56/IMG_0212.jpeg: 640x480 1 wood_knot, 301.2ms\n",
      "Speed: 2.1ms preprocess, 301.2ms inference, 0.4ms postprocess per image at shape (1, 3, 640, 480)\n",
      "Image saved: /Users/holmes/Documents/UNI-Bamberg/Arbeiten/Datensatz/Selfmade/4_Maria_0710/2024_07_09_10_43_56/test/IMG_0212.jpeg\n",
      "\n",
      "image 1/1 /Users/holmes/Documents/UNI-Bamberg/Arbeiten/Datensatz/Selfmade/4_Maria_0710/2024_07_09_10_43_56/IMG_0183.jpeg: 640x480 (no detections), 305.2ms\n",
      "Speed: 2.4ms preprocess, 305.2ms inference, 0.5ms postprocess per image at shape (1, 3, 640, 480)\n",
      "Image saved: /Users/holmes/Documents/UNI-Bamberg/Arbeiten/Datensatz/Selfmade/4_Maria_0710/2024_07_09_10_43_56/test/IMG_0183.jpeg\n",
      "\n",
      "image 1/1 /Users/holmes/Documents/UNI-Bamberg/Arbeiten/Datensatz/Selfmade/4_Maria_0710/2024_07_09_10_43_56/IMG_0029.jpeg: 640x480 (no detections), 300.1ms\n",
      "Speed: 2.2ms preprocess, 300.1ms inference, 0.2ms postprocess per image at shape (1, 3, 640, 480)\n",
      "Image saved: /Users/holmes/Documents/UNI-Bamberg/Arbeiten/Datensatz/Selfmade/4_Maria_0710/2024_07_09_10_43_56/test/IMG_0029.jpeg\n",
      "\n",
      "image 1/1 /Users/holmes/Documents/UNI-Bamberg/Arbeiten/Datensatz/Selfmade/4_Maria_0710/2024_07_09_10_43_56/IMG_0245.jpeg: 640x480 (no detections), 302.7ms\n",
      "Speed: 2.3ms preprocess, 302.7ms inference, 0.2ms postprocess per image at shape (1, 3, 640, 480)\n",
      "Image saved: /Users/holmes/Documents/UNI-Bamberg/Arbeiten/Datensatz/Selfmade/4_Maria_0710/2024_07_09_10_43_56/test/IMG_0245.jpeg\n",
      "\n",
      "image 1/1 /Users/holmes/Documents/UNI-Bamberg/Arbeiten/Datensatz/Selfmade/4_Maria_0710/2024_07_09_10_43_56/IMG_0052.jpeg: 640x480 1 wood_knot, 304.0ms\n",
      "Speed: 2.2ms preprocess, 304.0ms inference, 0.4ms postprocess per image at shape (1, 3, 640, 480)\n",
      "Image saved: /Users/holmes/Documents/UNI-Bamberg/Arbeiten/Datensatz/Selfmade/4_Maria_0710/2024_07_09_10_43_56/test/IMG_0052.jpeg\n",
      "\n",
      "image 1/1 /Users/holmes/Documents/UNI-Bamberg/Arbeiten/Datensatz/Selfmade/4_Maria_0710/2024_07_09_10_43_56/IMG_0117.jpeg: 640x480 (no detections), 299.0ms\n",
      "Speed: 2.4ms preprocess, 299.0ms inference, 0.3ms postprocess per image at shape (1, 3, 640, 480)\n",
      "Image saved: /Users/holmes/Documents/UNI-Bamberg/Arbeiten/Datensatz/Selfmade/4_Maria_0710/2024_07_09_10_43_56/test/IMG_0117.jpeg\n",
      "\n",
      "image 1/1 /Users/holmes/Documents/UNI-Bamberg/Arbeiten/Datensatz/Selfmade/4_Maria_0710/2024_07_09_10_43_56/IMG_0005.jpeg: 640x480 (no detections), 301.4ms\n",
      "Speed: 2.1ms preprocess, 301.4ms inference, 0.2ms postprocess per image at shape (1, 3, 640, 480)\n",
      "Image saved: /Users/holmes/Documents/UNI-Bamberg/Arbeiten/Datensatz/Selfmade/4_Maria_0710/2024_07_09_10_43_56/test/IMG_0005.jpeg\n",
      "\n",
      "image 1/1 /Users/holmes/Documents/UNI-Bamberg/Arbeiten/Datensatz/Selfmade/4_Maria_0710/2024_07_09_10_43_56/IMG_0140.jpeg: 640x480 2 wood_knots, 305.6ms\n",
      "Speed: 2.4ms preprocess, 305.6ms inference, 0.5ms postprocess per image at shape (1, 3, 640, 480)\n",
      "Image saved: /Users/holmes/Documents/UNI-Bamberg/Arbeiten/Datensatz/Selfmade/4_Maria_0710/2024_07_09_10_43_56/test/IMG_0140.jpeg\n",
      "\n",
      "image 1/1 /Users/holmes/Documents/UNI-Bamberg/Arbeiten/Datensatz/Selfmade/4_Maria_0710/2024_07_09_10_43_56/IMG_0013.jpeg: 640x480 (no detections), 293.1ms\n",
      "Speed: 2.4ms preprocess, 293.1ms inference, 0.2ms postprocess per image at shape (1, 3, 640, 480)\n",
      "Image saved: /Users/holmes/Documents/UNI-Bamberg/Arbeiten/Datensatz/Selfmade/4_Maria_0710/2024_07_09_10_43_56/test/IMG_0013.jpeg\n",
      "\n",
      "image 1/1 /Users/holmes/Documents/UNI-Bamberg/Arbeiten/Datensatz/Selfmade/4_Maria_0710/2024_07_09_10_43_56/IMG_0156.jpeg: 640x480 (no detections), 297.0ms\n",
      "Speed: 2.1ms preprocess, 297.0ms inference, 0.5ms postprocess per image at shape (1, 3, 640, 480)\n",
      "Image saved: /Users/holmes/Documents/UNI-Bamberg/Arbeiten/Datensatz/Selfmade/4_Maria_0710/2024_07_09_10_43_56/test/IMG_0156.jpeg\n",
      "\n",
      "image 1/1 /Users/holmes/Documents/UNI-Bamberg/Arbeiten/Datensatz/Selfmade/4_Maria_0710/2024_07_09_10_43_56/IMG_0044.jpeg: 640x480 (no detections), 298.0ms\n",
      "Speed: 2.4ms preprocess, 298.0ms inference, 0.2ms postprocess per image at shape (1, 3, 640, 480)\n",
      "Image saved: /Users/holmes/Documents/UNI-Bamberg/Arbeiten/Datensatz/Selfmade/4_Maria_0710/2024_07_09_10_43_56/test/IMG_0044.jpeg\n",
      "\n",
      "image 1/1 /Users/holmes/Documents/UNI-Bamberg/Arbeiten/Datensatz/Selfmade/4_Maria_0710/2024_07_09_10_43_56/IMG_0101.jpeg: 640x480 2 wood_knots, 299.7ms\n",
      "Speed: 2.1ms preprocess, 299.7ms inference, 0.4ms postprocess per image at shape (1, 3, 640, 480)\n",
      "Image saved: /Users/holmes/Documents/UNI-Bamberg/Arbeiten/Datensatz/Selfmade/4_Maria_0710/2024_07_09_10_43_56/test/IMG_0101.jpeg\n",
      "\n",
      "image 1/1 /Users/holmes/Documents/UNI-Bamberg/Arbeiten/Datensatz/Selfmade/4_Maria_0710/2024_07_09_10_43_56/IMG_0228.jpeg: 640x480 (no detections), 302.0ms\n",
      "Speed: 2.2ms preprocess, 302.0ms inference, 0.2ms postprocess per image at shape (1, 3, 640, 480)\n",
      "Image saved: /Users/holmes/Documents/UNI-Bamberg/Arbeiten/Datensatz/Selfmade/4_Maria_0710/2024_07_09_10_43_56/test/IMG_0228.jpeg\n",
      "\n",
      "image 1/1 /Users/holmes/Documents/UNI-Bamberg/Arbeiten/Datensatz/Selfmade/4_Maria_0710/2024_07_09_10_43_56/IMG_0176.jpeg: 640x480 1 wood_knot, 300.7ms\n",
      "Speed: 2.3ms preprocess, 300.7ms inference, 0.4ms postprocess per image at shape (1, 3, 640, 480)\n",
      "Image saved: /Users/holmes/Documents/UNI-Bamberg/Arbeiten/Datensatz/Selfmade/4_Maria_0710/2024_07_09_10_43_56/test/IMG_0176.jpeg\n",
      "\n",
      "image 1/1 /Users/holmes/Documents/UNI-Bamberg/Arbeiten/Datensatz/Selfmade/4_Maria_0710/2024_07_09_10_43_56/IMG_0199.jpeg: 640x480 (no detections), 300.0ms\n",
      "Speed: 2.6ms preprocess, 300.0ms inference, 0.2ms postprocess per image at shape (1, 3, 640, 480)\n",
      "Image saved: /Users/holmes/Documents/UNI-Bamberg/Arbeiten/Datensatz/Selfmade/4_Maria_0710/2024_07_09_10_43_56/test/IMG_0199.jpeg\n",
      "\n",
      "image 1/1 /Users/holmes/Documents/UNI-Bamberg/Arbeiten/Datensatz/Selfmade/4_Maria_0710/2024_07_09_10_43_56/IMG_0033.jpeg: 640x480 (no detections), 306.0ms\n",
      "Speed: 2.1ms preprocess, 306.0ms inference, 0.2ms postprocess per image at shape (1, 3, 640, 480)\n",
      "Image saved: /Users/holmes/Documents/UNI-Bamberg/Arbeiten/Datensatz/Selfmade/4_Maria_0710/2024_07_09_10_43_56/test/IMG_0033.jpeg\n",
      "\n",
      "image 1/1 /Users/holmes/Documents/UNI-Bamberg/Arbeiten/Datensatz/Selfmade/4_Maria_0710/2024_07_09_10_43_56/IMG_0208.jpeg: 640x480 (no detections), 299.1ms\n",
      "Speed: 2.1ms preprocess, 299.1ms inference, 0.2ms postprocess per image at shape (1, 3, 640, 480)\n",
      "Image saved: /Users/holmes/Documents/UNI-Bamberg/Arbeiten/Datensatz/Selfmade/4_Maria_0710/2024_07_09_10_43_56/test/IMG_0208.jpeg\n",
      "\n",
      "image 1/1 /Users/holmes/Documents/UNI-Bamberg/Arbeiten/Datensatz/Selfmade/4_Maria_0710/2024_07_09_10_43_56/IMG_0121.jpeg: 640x480 1 wood_knot, 303.4ms\n",
      "Speed: 2.1ms preprocess, 303.4ms inference, 0.4ms postprocess per image at shape (1, 3, 640, 480)\n",
      "Image saved: /Users/holmes/Documents/UNI-Bamberg/Arbeiten/Datensatz/Selfmade/4_Maria_0710/2024_07_09_10_43_56/test/IMG_0121.jpeg\n",
      "\n",
      "image 1/1 /Users/holmes/Documents/UNI-Bamberg/Arbeiten/Datensatz/Selfmade/4_Maria_0710/2024_07_09_10_43_56/IMG_0064.jpeg: 640x480 1 wood_knot, 298.0ms\n",
      "Speed: 2.1ms preprocess, 298.0ms inference, 0.4ms postprocess per image at shape (1, 3, 640, 480)\n",
      "Image saved: /Users/holmes/Documents/UNI-Bamberg/Arbeiten/Datensatz/Selfmade/4_Maria_0710/2024_07_09_10_43_56/test/IMG_0064.jpeg\n",
      "\n",
      "image 1/1 /Users/holmes/Documents/UNI-Bamberg/Arbeiten/Datensatz/Selfmade/4_Maria_0710/2024_07_09_10_43_56/IMG_0137.jpeg: 640x480 1 wood_knot, 296.9ms\n",
      "Speed: 2.4ms preprocess, 296.9ms inference, 0.4ms postprocess per image at shape (1, 3, 640, 480)\n",
      "Image saved: /Users/holmes/Documents/UNI-Bamberg/Arbeiten/Datensatz/Selfmade/4_Maria_0710/2024_07_09_10_43_56/test/IMG_0137.jpeg\n",
      "\n",
      "image 1/1 /Users/holmes/Documents/UNI-Bamberg/Arbeiten/Datensatz/Selfmade/4_Maria_0710/2024_07_09_10_43_56/IMG_0072.jpeg: 640x480 (no detections), 299.8ms\n",
      "Speed: 2.2ms preprocess, 299.8ms inference, 0.3ms postprocess per image at shape (1, 3, 640, 480)\n",
      "Image saved: /Users/holmes/Documents/UNI-Bamberg/Arbeiten/Datensatz/Selfmade/4_Maria_0710/2024_07_09_10_43_56/test/IMG_0072.jpeg\n",
      "\n",
      "image 1/1 /Users/holmes/Documents/UNI-Bamberg/Arbeiten/Datensatz/Selfmade/4_Maria_0710/2024_07_09_10_43_56/IMG_0249.jpeg: 640x480 1 wood_knot, 297.9ms\n",
      "Speed: 2.4ms preprocess, 297.9ms inference, 0.4ms postprocess per image at shape (1, 3, 640, 480)\n",
      "Image saved: /Users/holmes/Documents/UNI-Bamberg/Arbeiten/Datensatz/Selfmade/4_Maria_0710/2024_07_09_10_43_56/test/IMG_0249.jpeg\n",
      "\n",
      "image 1/1 /Users/holmes/Documents/UNI-Bamberg/Arbeiten/Datensatz/Selfmade/4_Maria_0710/2024_07_09_10_43_56/IMG_0160.jpeg: 640x480 (no detections), 305.2ms\n",
      "Speed: 2.2ms preprocess, 305.2ms inference, 0.2ms postprocess per image at shape (1, 3, 640, 480)\n",
      "Image saved: /Users/holmes/Documents/UNI-Bamberg/Arbeiten/Datensatz/Selfmade/4_Maria_0710/2024_07_09_10_43_56/test/IMG_0160.jpeg\n",
      "\n",
      "image 1/1 /Users/holmes/Documents/UNI-Bamberg/Arbeiten/Datensatz/Selfmade/4_Maria_0710/2024_07_09_10_43_56/IMG_0025.jpeg: 640x480 1 wood_knot, 304.4ms\n",
      "Speed: 2.1ms preprocess, 304.4ms inference, 0.4ms postprocess per image at shape (1, 3, 640, 480)\n",
      "Image saved: /Users/holmes/Documents/UNI-Bamberg/Arbeiten/Datensatz/Selfmade/4_Maria_0710/2024_07_09_10_43_56/test/IMG_0025.jpeg\n",
      "\n",
      "image 1/1 /Users/holmes/Documents/UNI-Bamberg/Arbeiten/Datensatz/Selfmade/4_Maria_0710/2024_07_09_10_43_56/IMG_0232.jpeg: 640x480 1 wood_knot, 300.0ms\n",
      "Speed: 2.2ms preprocess, 300.0ms inference, 0.4ms postprocess per image at shape (1, 3, 640, 480)\n",
      "Image saved: /Users/holmes/Documents/UNI-Bamberg/Arbeiten/Datensatz/Selfmade/4_Maria_0710/2024_07_09_10_43_56/test/IMG_0232.jpeg\n",
      "\n",
      "image 1/1 /Users/holmes/Documents/UNI-Bamberg/Arbeiten/Datensatz/Selfmade/4_Maria_0710/2024_07_09_10_43_56/IMG_0009.jpeg: 640x480 (no detections), 296.7ms\n",
      "Speed: 2.5ms preprocess, 296.7ms inference, 0.2ms postprocess per image at shape (1, 3, 640, 480)\n",
      "Image saved: /Users/holmes/Documents/UNI-Bamberg/Arbeiten/Datensatz/Selfmade/4_Maria_0710/2024_07_09_10_43_56/test/IMG_0009.jpeg\n",
      "\n",
      "image 1/1 /Users/holmes/Documents/UNI-Bamberg/Arbeiten/Datensatz/Selfmade/4_Maria_0710/2024_07_09_10_43_56/IMG_0224.jpeg: 640x480 1 wood_knot, 301.6ms\n",
      "Speed: 2.2ms preprocess, 301.6ms inference, 0.4ms postprocess per image at shape (1, 3, 640, 480)\n",
      "Image saved: /Users/holmes/Documents/UNI-Bamberg/Arbeiten/Datensatz/Selfmade/4_Maria_0710/2024_07_09_10_43_56/test/IMG_0224.jpeg\n",
      "\n",
      "image 1/1 /Users/holmes/Documents/UNI-Bamberg/Arbeiten/Datensatz/Selfmade/4_Maria_0710/2024_07_09_10_43_56/IMG_0048.jpeg: 640x480 1 wood_knot, 302.1ms\n",
      "Speed: 2.1ms preprocess, 302.1ms inference, 0.4ms postprocess per image at shape (1, 3, 640, 480)\n",
      "Image saved: /Users/holmes/Documents/UNI-Bamberg/Arbeiten/Datensatz/Selfmade/4_Maria_0710/2024_07_09_10_43_56/test/IMG_0048.jpeg\n",
      "\n",
      "image 1/1 /Users/holmes/Documents/UNI-Bamberg/Arbeiten/Datensatz/Selfmade/4_Maria_0710/2024_07_09_10_43_56/IMG_0049.jpeg: 640x480 (no detections), 299.4ms\n",
      "Speed: 3.0ms preprocess, 299.4ms inference, 0.2ms postprocess per image at shape (1, 3, 640, 480)\n",
      "Image saved: /Users/holmes/Documents/UNI-Bamberg/Arbeiten/Datensatz/Selfmade/4_Maria_0710/2024_07_09_10_43_56/test/IMG_0049.jpeg\n",
      "\n",
      "image 1/1 /Users/holmes/Documents/UNI-Bamberg/Arbeiten/Datensatz/Selfmade/4_Maria_0710/2024_07_09_10_43_56/IMG_0225.jpeg: 640x480 1 wood_knot, 301.5ms\n",
      "Speed: 2.4ms preprocess, 301.5ms inference, 0.4ms postprocess per image at shape (1, 3, 640, 480)\n",
      "Image saved: /Users/holmes/Documents/UNI-Bamberg/Arbeiten/Datensatz/Selfmade/4_Maria_0710/2024_07_09_10_43_56/test/IMG_0225.jpeg\n",
      "\n",
      "image 1/1 /Users/holmes/Documents/UNI-Bamberg/Arbeiten/Datensatz/Selfmade/4_Maria_0710/2024_07_09_10_43_56/IMG_0008.jpeg: 640x480 (no detections), 300.0ms\n",
      "Speed: 2.1ms preprocess, 300.0ms inference, 0.3ms postprocess per image at shape (1, 3, 640, 480)\n",
      "Image saved: /Users/holmes/Documents/UNI-Bamberg/Arbeiten/Datensatz/Selfmade/4_Maria_0710/2024_07_09_10_43_56/test/IMG_0008.jpeg\n",
      "\n",
      "image 1/1 /Users/holmes/Documents/UNI-Bamberg/Arbeiten/Datensatz/Selfmade/4_Maria_0710/2024_07_09_10_43_56/IMG_0233.jpeg: 640x480 (no detections), 307.6ms\n",
      "Speed: 2.5ms preprocess, 307.6ms inference, 0.4ms postprocess per image at shape (1, 3, 640, 480)\n",
      "Image saved: /Users/holmes/Documents/UNI-Bamberg/Arbeiten/Datensatz/Selfmade/4_Maria_0710/2024_07_09_10_43_56/test/IMG_0233.jpeg\n",
      "\n",
      "image 1/1 /Users/holmes/Documents/UNI-Bamberg/Arbeiten/Datensatz/Selfmade/4_Maria_0710/2024_07_09_10_43_56/IMG_0161.jpeg: 640x480 (no detections), 305.4ms\n",
      "Speed: 2.2ms preprocess, 305.4ms inference, 0.2ms postprocess per image at shape (1, 3, 640, 480)\n",
      "Image saved: /Users/holmes/Documents/UNI-Bamberg/Arbeiten/Datensatz/Selfmade/4_Maria_0710/2024_07_09_10_43_56/test/IMG_0161.jpeg\n",
      "\n",
      "image 1/1 /Users/holmes/Documents/UNI-Bamberg/Arbeiten/Datensatz/Selfmade/4_Maria_0710/2024_07_09_10_43_56/IMG_0024.jpeg: 640x480 (no detections), 302.3ms\n",
      "Speed: 2.7ms preprocess, 302.3ms inference, 0.2ms postprocess per image at shape (1, 3, 640, 480)\n",
      "Image saved: /Users/holmes/Documents/UNI-Bamberg/Arbeiten/Datensatz/Selfmade/4_Maria_0710/2024_07_09_10_43_56/test/IMG_0024.jpeg\n",
      "\n",
      "image 1/1 /Users/holmes/Documents/UNI-Bamberg/Arbeiten/Datensatz/Selfmade/4_Maria_0710/2024_07_09_10_43_56/IMG_0248.jpeg: 640x480 (no detections), 311.2ms\n",
      "Speed: 2.4ms preprocess, 311.2ms inference, 0.2ms postprocess per image at shape (1, 3, 640, 480)\n",
      "Image saved: /Users/holmes/Documents/UNI-Bamberg/Arbeiten/Datensatz/Selfmade/4_Maria_0710/2024_07_09_10_43_56/test/IMG_0248.jpeg\n",
      "\n",
      "image 1/1 /Users/holmes/Documents/UNI-Bamberg/Arbeiten/Datensatz/Selfmade/4_Maria_0710/2024_07_09_10_43_56/IMG_0136.jpeg: 640x480 (no detections), 306.0ms\n",
      "Speed: 2.4ms preprocess, 306.0ms inference, 0.2ms postprocess per image at shape (1, 3, 640, 480)\n",
      "Image saved: /Users/holmes/Documents/UNI-Bamberg/Arbeiten/Datensatz/Selfmade/4_Maria_0710/2024_07_09_10_43_56/test/IMG_0136.jpeg\n",
      "\n",
      "image 1/1 /Users/holmes/Documents/UNI-Bamberg/Arbeiten/Datensatz/Selfmade/4_Maria_0710/2024_07_09_10_43_56/IMG_0073.jpeg: 640x480 (no detections), 299.7ms\n",
      "Speed: 2.5ms preprocess, 299.7ms inference, 0.2ms postprocess per image at shape (1, 3, 640, 480)\n",
      "Image saved: /Users/holmes/Documents/UNI-Bamberg/Arbeiten/Datensatz/Selfmade/4_Maria_0710/2024_07_09_10_43_56/test/IMG_0073.jpeg\n",
      "\n",
      "image 1/1 /Users/holmes/Documents/UNI-Bamberg/Arbeiten/Datensatz/Selfmade/4_Maria_0710/2024_07_09_10_43_56/IMG_0120.jpeg: 640x480 1 wood_knot, 304.1ms\n",
      "Speed: 2.5ms preprocess, 304.1ms inference, 0.4ms postprocess per image at shape (1, 3, 640, 480)\n",
      "Image saved: /Users/holmes/Documents/UNI-Bamberg/Arbeiten/Datensatz/Selfmade/4_Maria_0710/2024_07_09_10_43_56/test/IMG_0120.jpeg\n",
      "\n",
      "image 1/1 /Users/holmes/Documents/UNI-Bamberg/Arbeiten/Datensatz/Selfmade/4_Maria_0710/2024_07_09_10_43_56/IMG_0065.jpeg: 640x480 1 wood_knot, 298.7ms\n",
      "Speed: 3.0ms preprocess, 298.7ms inference, 0.5ms postprocess per image at shape (1, 3, 640, 480)\n",
      "Image saved: /Users/holmes/Documents/UNI-Bamberg/Arbeiten/Datensatz/Selfmade/4_Maria_0710/2024_07_09_10_43_56/test/IMG_0065.jpeg\n",
      "\n",
      "image 1/1 /Users/holmes/Documents/UNI-Bamberg/Arbeiten/Datensatz/Selfmade/4_Maria_0710/2024_07_09_10_43_56/IMG_0209.jpeg: 640x480 1 wood_knot, 304.9ms\n",
      "Speed: 2.3ms preprocess, 304.9ms inference, 0.7ms postprocess per image at shape (1, 3, 640, 480)\n",
      "Image saved: /Users/holmes/Documents/UNI-Bamberg/Arbeiten/Datensatz/Selfmade/4_Maria_0710/2024_07_09_10_43_56/test/IMG_0209.jpeg\n",
      "\n",
      "image 1/1 /Users/holmes/Documents/UNI-Bamberg/Arbeiten/Datensatz/Selfmade/4_Maria_0710/2024_07_09_10_43_56/IMG_0177.jpeg: 640x480 (no detections), 303.0ms\n",
      "Speed: 2.4ms preprocess, 303.0ms inference, 0.2ms postprocess per image at shape (1, 3, 640, 480)\n",
      "Image saved: /Users/holmes/Documents/UNI-Bamberg/Arbeiten/Datensatz/Selfmade/4_Maria_0710/2024_07_09_10_43_56/test/IMG_0177.jpeg\n",
      "\n",
      "image 1/1 /Users/holmes/Documents/UNI-Bamberg/Arbeiten/Datensatz/Selfmade/4_Maria_0710/2024_07_09_10_43_56/IMG_0198.jpeg: 640x480 (no detections), 292.9ms\n",
      "Speed: 2.1ms preprocess, 292.9ms inference, 0.2ms postprocess per image at shape (1, 3, 640, 480)\n",
      "Image saved: /Users/holmes/Documents/UNI-Bamberg/Arbeiten/Datensatz/Selfmade/4_Maria_0710/2024_07_09_10_43_56/test/IMG_0198.jpeg\n",
      "\n",
      "image 1/1 /Users/holmes/Documents/UNI-Bamberg/Arbeiten/Datensatz/Selfmade/4_Maria_0710/2024_07_09_10_43_56/IMG_0032.jpeg: 640x480 (no detections), 301.7ms\n",
      "Speed: 2.9ms preprocess, 301.7ms inference, 0.5ms postprocess per image at shape (1, 3, 640, 480)\n",
      "Image saved: /Users/holmes/Documents/UNI-Bamberg/Arbeiten/Datensatz/Selfmade/4_Maria_0710/2024_07_09_10_43_56/test/IMG_0032.jpeg\n",
      "\n",
      "image 1/1 /Users/holmes/Documents/UNI-Bamberg/Arbeiten/Datensatz/Selfmade/4_Maria_0710/2024_07_09_10_43_56/IMG_0229.jpeg: 640x480 (no detections), 300.2ms\n",
      "Speed: 2.6ms preprocess, 300.2ms inference, 0.2ms postprocess per image at shape (1, 3, 640, 480)\n",
      "Image saved: /Users/holmes/Documents/UNI-Bamberg/Arbeiten/Datensatz/Selfmade/4_Maria_0710/2024_07_09_10_43_56/test/IMG_0229.jpeg\n",
      "\n",
      "image 1/1 /Users/holmes/Documents/UNI-Bamberg/Arbeiten/Datensatz/Selfmade/4_Maria_0710/2024_07_09_10_43_56/IMG_0045.jpeg: 640x480 1 wood_knot, 312.3ms\n",
      "Speed: 2.5ms preprocess, 312.3ms inference, 0.4ms postprocess per image at shape (1, 3, 640, 480)\n",
      "Image saved: /Users/holmes/Documents/UNI-Bamberg/Arbeiten/Datensatz/Selfmade/4_Maria_0710/2024_07_09_10_43_56/test/IMG_0045.jpeg\n",
      "\n",
      "image 1/1 /Users/holmes/Documents/UNI-Bamberg/Arbeiten/Datensatz/Selfmade/4_Maria_0710/2024_07_09_10_43_56/IMG_0100.jpeg: 640x480 (no detections), 296.7ms\n",
      "Speed: 3.0ms preprocess, 296.7ms inference, 0.5ms postprocess per image at shape (1, 3, 640, 480)\n",
      "Image saved: /Users/holmes/Documents/UNI-Bamberg/Arbeiten/Datensatz/Selfmade/4_Maria_0710/2024_07_09_10_43_56/test/IMG_0100.jpeg\n",
      "\n",
      "image 1/1 /Users/holmes/Documents/UNI-Bamberg/Arbeiten/Datensatz/Selfmade/4_Maria_0710/2024_07_09_10_43_56/IMG_0012.jpeg: 640x480 1 wood_knot, 294.6ms\n",
      "Speed: 2.2ms preprocess, 294.6ms inference, 0.4ms postprocess per image at shape (1, 3, 640, 480)\n",
      "Image saved: /Users/holmes/Documents/UNI-Bamberg/Arbeiten/Datensatz/Selfmade/4_Maria_0710/2024_07_09_10_43_56/test/IMG_0012.jpeg\n",
      "\n",
      "image 1/1 /Users/holmes/Documents/UNI-Bamberg/Arbeiten/Datensatz/Selfmade/4_Maria_0710/2024_07_09_10_43_56/IMG_0157.jpeg: 640x480 1 wood_dowel, 2 wood_knots, 304.8ms\n",
      "Speed: 2.4ms preprocess, 304.8ms inference, 0.4ms postprocess per image at shape (1, 3, 640, 480)\n",
      "Image saved: /Users/holmes/Documents/UNI-Bamberg/Arbeiten/Datensatz/Selfmade/4_Maria_0710/2024_07_09_10_43_56/test/IMG_0157.jpeg\n",
      "\n",
      "image 1/1 /Users/holmes/Documents/UNI-Bamberg/Arbeiten/Datensatz/Selfmade/4_Maria_0710/2024_07_09_10_43_56/IMG_0004.jpeg: 640x480 (no detections), 296.9ms\n",
      "Speed: 2.4ms preprocess, 296.9ms inference, 0.2ms postprocess per image at shape (1, 3, 640, 480)\n",
      "Image saved: /Users/holmes/Documents/UNI-Bamberg/Arbeiten/Datensatz/Selfmade/4_Maria_0710/2024_07_09_10_43_56/test/IMG_0004.jpeg\n",
      "\n",
      "image 1/1 /Users/holmes/Documents/UNI-Bamberg/Arbeiten/Datensatz/Selfmade/4_Maria_0710/2024_07_09_10_43_56/IMG_0141.jpeg: 640x480 (no detections), 295.2ms\n",
      "Speed: 2.3ms preprocess, 295.2ms inference, 0.2ms postprocess per image at shape (1, 3, 640, 480)\n",
      "Image saved: /Users/holmes/Documents/UNI-Bamberg/Arbeiten/Datensatz/Selfmade/4_Maria_0710/2024_07_09_10_43_56/test/IMG_0141.jpeg\n",
      "\n",
      "image 1/1 /Users/holmes/Documents/UNI-Bamberg/Arbeiten/Datensatz/Selfmade/4_Maria_0710/2024_07_09_10_43_56/IMG_0053.jpeg: 640x480 1 wood_knot, 296.7ms\n",
      "Speed: 2.4ms preprocess, 296.7ms inference, 0.4ms postprocess per image at shape (1, 3, 640, 480)\n",
      "Image saved: /Users/holmes/Documents/UNI-Bamberg/Arbeiten/Datensatz/Selfmade/4_Maria_0710/2024_07_09_10_43_56/test/IMG_0053.jpeg\n",
      "\n",
      "image 1/1 /Users/holmes/Documents/UNI-Bamberg/Arbeiten/Datensatz/Selfmade/4_Maria_0710/2024_07_09_10_43_56/IMG_0116.jpeg: 640x480 1 wood_knot, 294.2ms\n",
      "Speed: 4.6ms preprocess, 294.2ms inference, 0.4ms postprocess per image at shape (1, 3, 640, 480)\n",
      "Image saved: /Users/holmes/Documents/UNI-Bamberg/Arbeiten/Datensatz/Selfmade/4_Maria_0710/2024_07_09_10_43_56/test/IMG_0116.jpeg\n",
      "\n",
      "image 1/1 /Users/holmes/Documents/UNI-Bamberg/Arbeiten/Datensatz/Selfmade/4_Maria_0710/2024_07_09_10_43_56/IMG_0244.jpeg: 640x480 (no detections), 310.0ms\n",
      "Speed: 2.2ms preprocess, 310.0ms inference, 0.3ms postprocess per image at shape (1, 3, 640, 480)\n",
      "Image saved: /Users/holmes/Documents/UNI-Bamberg/Arbeiten/Datensatz/Selfmade/4_Maria_0710/2024_07_09_10_43_56/test/IMG_0244.jpeg\n",
      "\n",
      "image 1/1 /Users/holmes/Documents/UNI-Bamberg/Arbeiten/Datensatz/Selfmade/4_Maria_0710/2024_07_09_10_43_56/IMG_0182.jpeg: 640x480 (no detections), 296.6ms\n",
      "Speed: 2.6ms preprocess, 296.6ms inference, 0.2ms postprocess per image at shape (1, 3, 640, 480)\n",
      "Image saved: /Users/holmes/Documents/UNI-Bamberg/Arbeiten/Datensatz/Selfmade/4_Maria_0710/2024_07_09_10_43_56/test/IMG_0182.jpeg\n",
      "\n",
      "image 1/1 /Users/holmes/Documents/UNI-Bamberg/Arbeiten/Datensatz/Selfmade/4_Maria_0710/2024_07_09_10_43_56/IMG_0028.jpeg: 640x480 (no detections), 293.3ms\n",
      "Speed: 2.8ms preprocess, 293.3ms inference, 0.2ms postprocess per image at shape (1, 3, 640, 480)\n",
      "Image saved: /Users/holmes/Documents/UNI-Bamberg/Arbeiten/Datensatz/Selfmade/4_Maria_0710/2024_07_09_10_43_56/test/IMG_0028.jpeg\n",
      "\n",
      "image 1/1 /Users/holmes/Documents/UNI-Bamberg/Arbeiten/Datensatz/Selfmade/4_Maria_0710/2024_07_09_10_43_56/IMG_0213.jpeg: 640x480 (no detections), 296.8ms\n",
      "Speed: 2.8ms preprocess, 296.8ms inference, 0.2ms postprocess per image at shape (1, 3, 640, 480)\n",
      "Image saved: /Users/holmes/Documents/UNI-Bamberg/Arbeiten/Datensatz/Selfmade/4_Maria_0710/2024_07_09_10_43_56/test/IMG_0213.jpeg\n",
      "\n",
      "image 1/1 /Users/holmes/Documents/UNI-Bamberg/Arbeiten/Datensatz/Selfmade/4_Maria_0710/2024_07_09_10_43_56/IMG_0090.jpeg: 640x480 (no detections), 300.9ms\n",
      "Speed: 2.1ms preprocess, 300.9ms inference, 0.2ms postprocess per image at shape (1, 3, 640, 480)\n",
      "Image saved: /Users/holmes/Documents/UNI-Bamberg/Arbeiten/Datensatz/Selfmade/4_Maria_0710/2024_07_09_10_43_56/test/IMG_0090.jpeg\n",
      "\n",
      "image 1/1 /Users/holmes/Documents/UNI-Bamberg/Arbeiten/Datensatz/Selfmade/4_Maria_0710/2024_07_09_10_43_56/IMG_0205.jpeg: 640x480 (no detections), 303.7ms\n",
      "Speed: 2.5ms preprocess, 303.7ms inference, 0.2ms postprocess per image at shape (1, 3, 640, 480)\n",
      "Image saved: /Users/holmes/Documents/UNI-Bamberg/Arbeiten/Datensatz/Selfmade/4_Maria_0710/2024_07_09_10_43_56/test/IMG_0205.jpeg\n",
      "\n",
      "image 1/1 /Users/holmes/Documents/UNI-Bamberg/Arbeiten/Datensatz/Selfmade/4_Maria_0710/2024_07_09_10_43_56/IMG_0086.jpeg: 640x480 (no detections), 302.6ms\n",
      "Speed: 2.1ms preprocess, 302.6ms inference, 0.2ms postprocess per image at shape (1, 3, 640, 480)\n",
      "Image saved: /Users/holmes/Documents/UNI-Bamberg/Arbeiten/Datensatz/Selfmade/4_Maria_0710/2024_07_09_10_43_56/test/IMG_0086.jpeg\n",
      "\n",
      "image 1/1 /Users/holmes/Documents/UNI-Bamberg/Arbeiten/Datensatz/Selfmade/4_Maria_0710/2024_07_09_10_43_56/IMG_0069.jpeg: 640x480 1 wood_knot, 303.8ms\n",
      "Speed: 2.4ms preprocess, 303.8ms inference, 0.4ms postprocess per image at shape (1, 3, 640, 480)\n",
      "Image saved: /Users/holmes/Documents/UNI-Bamberg/Arbeiten/Datensatz/Selfmade/4_Maria_0710/2024_07_09_10_43_56/test/IMG_0069.jpeg\n",
      "\n",
      "image 1/1 /Users/holmes/Documents/UNI-Bamberg/Arbeiten/Datensatz/Selfmade/4_Maria_0710/2024_07_09_10_43_56/IMG_0194.jpeg: 640x480 (no detections), 304.6ms\n",
      "Speed: 2.1ms preprocess, 304.6ms inference, 0.2ms postprocess per image at shape (1, 3, 640, 480)\n",
      "Image saved: /Users/holmes/Documents/UNI-Bamberg/Arbeiten/Datensatz/Selfmade/4_Maria_0710/2024_07_09_10_43_56/test/IMG_0194.jpeg\n",
      "\n",
      "image 1/1 /Users/holmes/Documents/UNI-Bamberg/Arbeiten/Datensatz/Selfmade/4_Maria_0710/2024_07_09_10_43_56/IMG_0103.jpeg: 640x480 (no detections), 300.8ms\n",
      "Speed: 2.5ms preprocess, 300.8ms inference, 0.2ms postprocess per image at shape (1, 3, 640, 480)\n",
      "Image saved: /Users/holmes/Documents/UNI-Bamberg/Arbeiten/Datensatz/Selfmade/4_Maria_0710/2024_07_09_10_43_56/test/IMG_0103.jpeg\n",
      "\n",
      "image 1/1 /Users/holmes/Documents/UNI-Bamberg/Arbeiten/Datensatz/Selfmade/4_Maria_0710/2024_07_09_10_43_56/IMG_0046.jpeg: 640x480 1 wood_knot, 307.7ms\n",
      "Speed: 4.1ms preprocess, 307.7ms inference, 0.3ms postprocess per image at shape (1, 3, 640, 480)\n",
      "Image saved: /Users/holmes/Documents/UNI-Bamberg/Arbeiten/Datensatz/Selfmade/4_Maria_0710/2024_07_09_10_43_56/test/IMG_0046.jpeg\n",
      "\n",
      "image 1/1 /Users/holmes/Documents/UNI-Bamberg/Arbeiten/Datensatz/Selfmade/4_Maria_0710/2024_07_09_10_43_56/IMG_0154.jpeg: 640x480 (no detections), 297.4ms\n",
      "Speed: 2.5ms preprocess, 297.4ms inference, 0.2ms postprocess per image at shape (1, 3, 640, 480)\n",
      "Image saved: /Users/holmes/Documents/UNI-Bamberg/Arbeiten/Datensatz/Selfmade/4_Maria_0710/2024_07_09_10_43_56/test/IMG_0154.jpeg\n",
      "\n",
      "image 1/1 /Users/holmes/Documents/UNI-Bamberg/Arbeiten/Datensatz/Selfmade/4_Maria_0710/2024_07_09_10_43_56/IMG_0011.jpeg: 640x480 2 wood_knots, 301.1ms\n",
      "Speed: 2.4ms preprocess, 301.1ms inference, 0.4ms postprocess per image at shape (1, 3, 640, 480)\n",
      "Image saved: /Users/holmes/Documents/UNI-Bamberg/Arbeiten/Datensatz/Selfmade/4_Maria_0710/2024_07_09_10_43_56/test/IMG_0011.jpeg\n",
      "\n",
      "image 1/1 /Users/holmes/Documents/UNI-Bamberg/Arbeiten/Datensatz/Selfmade/4_Maria_0710/2024_07_09_10_43_56/IMG_0142.jpeg: 640x480 (no detections), 299.1ms\n",
      "Speed: 2.1ms preprocess, 299.1ms inference, 0.2ms postprocess per image at shape (1, 3, 640, 480)\n",
      "Image saved: /Users/holmes/Documents/UNI-Bamberg/Arbeiten/Datensatz/Selfmade/4_Maria_0710/2024_07_09_10_43_56/test/IMG_0142.jpeg\n",
      "\n",
      "image 1/1 /Users/holmes/Documents/UNI-Bamberg/Arbeiten/Datensatz/Selfmade/4_Maria_0710/2024_07_09_10_43_56/IMG_0007.jpeg: 640x480 1 wood_dowel, 1 wood_knot, 326.7ms\n",
      "Speed: 2.1ms preprocess, 326.7ms inference, 0.4ms postprocess per image at shape (1, 3, 640, 480)\n",
      "Image saved: /Users/holmes/Documents/UNI-Bamberg/Arbeiten/Datensatz/Selfmade/4_Maria_0710/2024_07_09_10_43_56/test/IMG_0007.jpeg\n",
      "\n",
      "image 1/1 /Users/holmes/Documents/UNI-Bamberg/Arbeiten/Datensatz/Selfmade/4_Maria_0710/2024_07_09_10_43_56/IMG_0115.jpeg: 640x480 (no detections), 291.2ms\n",
      "Speed: 2.6ms preprocess, 291.2ms inference, 0.2ms postprocess per image at shape (1, 3, 640, 480)\n",
      "Image saved: /Users/holmes/Documents/UNI-Bamberg/Arbeiten/Datensatz/Selfmade/4_Maria_0710/2024_07_09_10_43_56/test/IMG_0115.jpeg\n",
      "\n",
      "image 1/1 /Users/holmes/Documents/UNI-Bamberg/Arbeiten/Datensatz/Selfmade/4_Maria_0710/2024_07_09_10_43_56/IMG_0050.jpeg: 640x480 (no detections), 298.9ms\n",
      "Speed: 3.5ms preprocess, 298.9ms inference, 0.2ms postprocess per image at shape (1, 3, 640, 480)\n",
      "Image saved: /Users/holmes/Documents/UNI-Bamberg/Arbeiten/Datensatz/Selfmade/4_Maria_0710/2024_07_09_10_43_56/test/IMG_0050.jpeg\n",
      "\n",
      "image 1/1 /Users/holmes/Documents/UNI-Bamberg/Arbeiten/Datensatz/Selfmade/4_Maria_0710/2024_07_09_10_43_56/IMG_0247.jpeg: 640x480 (no detections), 317.8ms\n",
      "Speed: 2.5ms preprocess, 317.8ms inference, 0.2ms postprocess per image at shape (1, 3, 640, 480)\n",
      "Image saved: /Users/holmes/Documents/UNI-Bamberg/Arbeiten/Datensatz/Selfmade/4_Maria_0710/2024_07_09_10_43_56/test/IMG_0247.jpeg\n",
      "\n",
      "image 1/1 /Users/holmes/Documents/UNI-Bamberg/Arbeiten/Datensatz/Selfmade/4_Maria_0710/2024_07_09_10_43_56/IMG_0181.jpeg: 640x480 (no detections), 305.5ms\n",
      "Speed: 2.1ms preprocess, 305.5ms inference, 0.2ms postprocess per image at shape (1, 3, 640, 480)\n",
      "Image saved: /Users/holmes/Documents/UNI-Bamberg/Arbeiten/Datensatz/Selfmade/4_Maria_0710/2024_07_09_10_43_56/test/IMG_0181.jpeg\n",
      "\n",
      "image 1/1 /Users/holmes/Documents/UNI-Bamberg/Arbeiten/Datensatz/Selfmade/4_Maria_0710/2024_07_09_10_43_56/IMG_0210.jpeg: 640x480 3 wood_knots, 303.3ms\n",
      "Speed: 2.5ms preprocess, 303.3ms inference, 0.7ms postprocess per image at shape (1, 3, 640, 480)\n",
      "Image saved: /Users/holmes/Documents/UNI-Bamberg/Arbeiten/Datensatz/Selfmade/4_Maria_0710/2024_07_09_10_43_56/test/IMG_0210.jpeg\n",
      "\n",
      "image 1/1 /Users/holmes/Documents/UNI-Bamberg/Arbeiten/Datensatz/Selfmade/4_Maria_0710/2024_07_09_10_43_56/IMG_0139.jpeg: 640x480 (no detections), 297.6ms\n",
      "Speed: 2.2ms preprocess, 297.6ms inference, 0.2ms postprocess per image at shape (1, 3, 640, 480)\n",
      "Image saved: /Users/holmes/Documents/UNI-Bamberg/Arbeiten/Datensatz/Selfmade/4_Maria_0710/2024_07_09_10_43_56/test/IMG_0139.jpeg\n",
      "\n",
      "image 1/1 /Users/holmes/Documents/UNI-Bamberg/Arbeiten/Datensatz/Selfmade/4_Maria_0710/2024_07_09_10_43_56/IMG_0093.jpeg: 640x480 2 wood_knots, 309.4ms\n",
      "Speed: 3.2ms preprocess, 309.4ms inference, 0.6ms postprocess per image at shape (1, 3, 640, 480)\n",
      "Image saved: /Users/holmes/Documents/UNI-Bamberg/Arbeiten/Datensatz/Selfmade/4_Maria_0710/2024_07_09_10_43_56/test/IMG_0093.jpeg\n",
      "\n",
      "image 1/1 /Users/holmes/Documents/UNI-Bamberg/Arbeiten/Datensatz/Selfmade/4_Maria_0710/2024_07_09_10_43_56/IMG_0206.jpeg: 640x480 (no detections), 303.1ms\n",
      "Speed: 2.1ms preprocess, 303.1ms inference, 0.5ms postprocess per image at shape (1, 3, 640, 480)\n",
      "Image saved: /Users/holmes/Documents/UNI-Bamberg/Arbeiten/Datensatz/Selfmade/4_Maria_0710/2024_07_09_10_43_56/test/IMG_0206.jpeg\n",
      "\n",
      "image 1/1 /Users/holmes/Documents/UNI-Bamberg/Arbeiten/Datensatz/Selfmade/4_Maria_0710/2024_07_09_10_43_56/IMG_0085.jpeg: 640x480 (no detections), 292.6ms\n",
      "Speed: 2.4ms preprocess, 292.6ms inference, 0.3ms postprocess per image at shape (1, 3, 640, 480)\n",
      "Image saved: /Users/holmes/Documents/UNI-Bamberg/Arbeiten/Datensatz/Selfmade/4_Maria_0710/2024_07_09_10_43_56/test/IMG_0085.jpeg\n",
      "\n",
      "image 1/1 /Users/holmes/Documents/UNI-Bamberg/Arbeiten/Datensatz/Selfmade/4_Maria_0710/2024_07_09_10_43_56/IMG_0197.jpeg: 640x480 (no detections), 301.9ms\n",
      "Speed: 2.2ms preprocess, 301.9ms inference, 0.2ms postprocess per image at shape (1, 3, 640, 480)\n",
      "Image saved: /Users/holmes/Documents/UNI-Bamberg/Arbeiten/Datensatz/Selfmade/4_Maria_0710/2024_07_09_10_43_56/test/IMG_0197.jpeg\n",
      "\n",
      "image 1/1 /Users/holmes/Documents/UNI-Bamberg/Arbeiten/Datensatz/Selfmade/4_Maria_0710/2024_07_09_10_43_56/IMG_0178.jpeg: 640x480 (no detections), 298.2ms\n",
      "Speed: 2.8ms preprocess, 298.2ms inference, 0.2ms postprocess per image at shape (1, 3, 640, 480)\n",
      "Image saved: /Users/holmes/Documents/UNI-Bamberg/Arbeiten/Datensatz/Selfmade/4_Maria_0710/2024_07_09_10_43_56/test/IMG_0178.jpeg\n",
      "\n",
      "image 1/1 /Users/holmes/Documents/UNI-Bamberg/Arbeiten/Datensatz/Selfmade/4_Maria_0710/2024_07_09_10_43_56/IMG_0226.jpeg: 640x480 1 wood_knot, 294.5ms\n",
      "Speed: 2.4ms preprocess, 294.5ms inference, 0.4ms postprocess per image at shape (1, 3, 640, 480)\n",
      "Image saved: /Users/holmes/Documents/UNI-Bamberg/Arbeiten/Datensatz/Selfmade/4_Maria_0710/2024_07_09_10_43_56/test/IMG_0226.jpeg\n",
      "\n",
      "image 1/1 /Users/holmes/Documents/UNI-Bamberg/Arbeiten/Datensatz/Selfmade/4_Maria_0710/2024_07_09_10_43_56/IMG_0158.jpeg: 640x480 1 wood_dowel, 303.5ms\n",
      "Speed: 2.2ms preprocess, 303.5ms inference, 0.4ms postprocess per image at shape (1, 3, 640, 480)\n",
      "Image saved: /Users/holmes/Documents/UNI-Bamberg/Arbeiten/Datensatz/Selfmade/4_Maria_0710/2024_07_09_10_43_56/test/IMG_0158.jpeg\n",
      "\n",
      "image 1/1 /Users/holmes/Documents/UNI-Bamberg/Arbeiten/Datensatz/Selfmade/4_Maria_0710/2024_07_09_10_43_56/IMG_0119.jpeg: 640x480 1 wood_knot, 305.3ms\n",
      "Speed: 2.1ms preprocess, 305.3ms inference, 0.7ms postprocess per image at shape (1, 3, 640, 480)\n",
      "Image saved: /Users/holmes/Documents/UNI-Bamberg/Arbeiten/Datensatz/Selfmade/4_Maria_0710/2024_07_09_10_43_56/test/IMG_0119.jpeg\n",
      "\n",
      "image 1/1 /Users/holmes/Documents/UNI-Bamberg/Arbeiten/Datensatz/Selfmade/4_Maria_0710/2024_07_09_10_43_56/IMG_0230.jpeg: 640x480 1 wood_knot, 290.4ms\n",
      "Speed: 2.3ms preprocess, 290.4ms inference, 0.4ms postprocess per image at shape (1, 3, 640, 480)\n",
      "Image saved: /Users/holmes/Documents/UNI-Bamberg/Arbeiten/Datensatz/Selfmade/4_Maria_0710/2024_07_09_10_43_56/test/IMG_0230.jpeg\n",
      "\n",
      "image 1/1 /Users/holmes/Documents/UNI-Bamberg/Arbeiten/Datensatz/Selfmade/4_Maria_0710/2024_07_09_10_43_56/IMG_0027.jpeg: 640x480 (no detections), 303.0ms\n",
      "Speed: 2.3ms preprocess, 303.0ms inference, 0.2ms postprocess per image at shape (1, 3, 640, 480)\n",
      "Image saved: /Users/holmes/Documents/UNI-Bamberg/Arbeiten/Datensatz/Selfmade/4_Maria_0710/2024_07_09_10_43_56/test/IMG_0027.jpeg\n",
      "\n",
      "image 1/1 /Users/holmes/Documents/UNI-Bamberg/Arbeiten/Datensatz/Selfmade/4_Maria_0710/2024_07_09_10_43_56/IMG_0162.jpeg: 640x480 1 wood_knot, 295.7ms\n",
      "Speed: 2.2ms preprocess, 295.7ms inference, 0.4ms postprocess per image at shape (1, 3, 640, 480)\n",
      "Image saved: /Users/holmes/Documents/UNI-Bamberg/Arbeiten/Datensatz/Selfmade/4_Maria_0710/2024_07_09_10_43_56/test/IMG_0162.jpeg\n",
      "\n",
      "image 1/1 /Users/holmes/Documents/UNI-Bamberg/Arbeiten/Datensatz/Selfmade/4_Maria_0710/2024_07_09_10_43_56/IMG_0070.jpeg: 640x480 (no detections), 297.9ms\n",
      "Speed: 2.6ms preprocess, 297.9ms inference, 0.2ms postprocess per image at shape (1, 3, 640, 480)\n",
      "Image saved: /Users/holmes/Documents/UNI-Bamberg/Arbeiten/Datensatz/Selfmade/4_Maria_0710/2024_07_09_10_43_56/test/IMG_0070.jpeg\n",
      "\n",
      "image 1/1 /Users/holmes/Documents/UNI-Bamberg/Arbeiten/Datensatz/Selfmade/4_Maria_0710/2024_07_09_10_43_56/IMG_0135.jpeg: 640x480 (no detections), 321.6ms\n",
      "Speed: 2.5ms preprocess, 321.6ms inference, 0.5ms postprocess per image at shape (1, 3, 640, 480)\n",
      "Image saved: /Users/holmes/Documents/UNI-Bamberg/Arbeiten/Datensatz/Selfmade/4_Maria_0710/2024_07_09_10_43_56/test/IMG_0135.jpeg\n",
      "\n",
      "image 1/1 /Users/holmes/Documents/UNI-Bamberg/Arbeiten/Datensatz/Selfmade/4_Maria_0710/2024_07_09_10_43_56/IMG_0066.jpeg: 640x480 1 wood_knot, 304.9ms\n",
      "Speed: 2.2ms preprocess, 304.9ms inference, 0.4ms postprocess per image at shape (1, 3, 640, 480)\n",
      "Image saved: /Users/holmes/Documents/UNI-Bamberg/Arbeiten/Datensatz/Selfmade/4_Maria_0710/2024_07_09_10_43_56/test/IMG_0066.jpeg\n",
      "\n",
      "image 1/1 /Users/holmes/Documents/UNI-Bamberg/Arbeiten/Datensatz/Selfmade/4_Maria_0710/2024_07_09_10_43_56/IMG_0123.jpeg: 640x480 1 wood_knot, 292.4ms\n",
      "Speed: 2.2ms preprocess, 292.4ms inference, 0.4ms postprocess per image at shape (1, 3, 640, 480)\n",
      "Image saved: /Users/holmes/Documents/UNI-Bamberg/Arbeiten/Datensatz/Selfmade/4_Maria_0710/2024_07_09_10_43_56/test/IMG_0123.jpeg\n",
      "\n",
      "image 1/1 /Users/holmes/Documents/UNI-Bamberg/Arbeiten/Datensatz/Selfmade/4_Maria_0710/2024_07_09_10_43_56/IMG_0089.jpeg: 640x480 (no detections), 302.1ms\n",
      "Speed: 2.2ms preprocess, 302.1ms inference, 0.2ms postprocess per image at shape (1, 3, 640, 480)\n",
      "Image saved: /Users/holmes/Documents/UNI-Bamberg/Arbeiten/Datensatz/Selfmade/4_Maria_0710/2024_07_09_10_43_56/test/IMG_0089.jpeg\n",
      "\n",
      "image 1/1 /Users/holmes/Documents/UNI-Bamberg/Arbeiten/Datensatz/Selfmade/4_Maria_0710/2024_07_09_10_43_56/IMG_0031.jpeg: 640x480 (no detections), 304.6ms\n",
      "Speed: 2.1ms preprocess, 304.6ms inference, 0.2ms postprocess per image at shape (1, 3, 640, 480)\n",
      "Image saved: /Users/holmes/Documents/UNI-Bamberg/Arbeiten/Datensatz/Selfmade/4_Maria_0710/2024_07_09_10_43_56/test/IMG_0031.jpeg\n",
      "\n",
      "image 1/1 /Users/holmes/Documents/UNI-Bamberg/Arbeiten/Datensatz/Selfmade/4_Maria_0710/2024_07_09_10_43_56/IMG_0174.jpeg: 640x480 (no detections), 296.7ms\n",
      "Speed: 2.4ms preprocess, 296.7ms inference, 0.3ms postprocess per image at shape (1, 3, 640, 480)\n",
      "Image saved: /Users/holmes/Documents/UNI-Bamberg/Arbeiten/Datensatz/Selfmade/4_Maria_0710/2024_07_09_10_43_56/test/IMG_0174.jpeg\n",
      "\n",
      "image 1/1 /Users/holmes/Documents/UNI-Bamberg/Arbeiten/Datensatz/Selfmade/4_Maria_0710/2024_07_09_10_43_56/IMG_0030.jpeg: 640x480 (no detections), 303.0ms\n",
      "Speed: 2.5ms preprocess, 303.0ms inference, 0.4ms postprocess per image at shape (1, 3, 640, 480)\n",
      "Image saved: /Users/holmes/Documents/UNI-Bamberg/Arbeiten/Datensatz/Selfmade/4_Maria_0710/2024_07_09_10_43_56/test/IMG_0030.jpeg\n",
      "\n",
      "image 1/1 /Users/holmes/Documents/UNI-Bamberg/Arbeiten/Datensatz/Selfmade/4_Maria_0710/2024_07_09_10_43_56/IMG_0175.jpeg: 640x480 (no detections), 301.0ms\n",
      "Speed: 2.1ms preprocess, 301.0ms inference, 0.2ms postprocess per image at shape (1, 3, 640, 480)\n",
      "Image saved: /Users/holmes/Documents/UNI-Bamberg/Arbeiten/Datensatz/Selfmade/4_Maria_0710/2024_07_09_10_43_56/test/IMG_0175.jpeg\n",
      "\n",
      "image 1/1 /Users/holmes/Documents/UNI-Bamberg/Arbeiten/Datensatz/Selfmade/4_Maria_0710/2024_07_09_10_43_56/IMG_0067.jpeg: 640x480 2 wood_knots, 308.1ms\n",
      "Speed: 2.5ms preprocess, 308.1ms inference, 0.8ms postprocess per image at shape (1, 3, 640, 480)\n",
      "Image saved: /Users/holmes/Documents/UNI-Bamberg/Arbeiten/Datensatz/Selfmade/4_Maria_0710/2024_07_09_10_43_56/test/IMG_0067.jpeg\n",
      "\n",
      "image 1/1 /Users/holmes/Documents/UNI-Bamberg/Arbeiten/Datensatz/Selfmade/4_Maria_0710/2024_07_09_10_43_56/IMG_0122.jpeg: 640x480 1 wood_knot, 299.1ms\n",
      "Speed: 2.1ms preprocess, 299.1ms inference, 0.4ms postprocess per image at shape (1, 3, 640, 480)\n",
      "Image saved: /Users/holmes/Documents/UNI-Bamberg/Arbeiten/Datensatz/Selfmade/4_Maria_0710/2024_07_09_10_43_56/test/IMG_0122.jpeg\n",
      "\n",
      "image 1/1 /Users/holmes/Documents/UNI-Bamberg/Arbeiten/Datensatz/Selfmade/4_Maria_0710/2024_07_09_10_43_56/IMG_0088.jpeg: 640x480 (no detections), 293.2ms\n",
      "Speed: 2.2ms preprocess, 293.2ms inference, 0.3ms postprocess per image at shape (1, 3, 640, 480)\n",
      "Image saved: /Users/holmes/Documents/UNI-Bamberg/Arbeiten/Datensatz/Selfmade/4_Maria_0710/2024_07_09_10_43_56/test/IMG_0088.jpeg\n",
      "\n",
      "image 1/1 /Users/holmes/Documents/UNI-Bamberg/Arbeiten/Datensatz/Selfmade/4_Maria_0710/2024_07_09_10_43_56/IMG_0071.jpeg: 640x480 (no detections), 303.4ms\n",
      "Speed: 2.1ms preprocess, 303.4ms inference, 0.2ms postprocess per image at shape (1, 3, 640, 480)\n",
      "Image saved: /Users/holmes/Documents/UNI-Bamberg/Arbeiten/Datensatz/Selfmade/4_Maria_0710/2024_07_09_10_43_56/test/IMG_0071.jpeg\n",
      "\n",
      "image 1/1 /Users/holmes/Documents/UNI-Bamberg/Arbeiten/Datensatz/Selfmade/4_Maria_0710/2024_07_09_10_43_56/IMG_0134.jpeg: 640x480 (no detections), 293.8ms\n",
      "Speed: 2.1ms preprocess, 293.8ms inference, 0.2ms postprocess per image at shape (1, 3, 640, 480)\n",
      "Image saved: /Users/holmes/Documents/UNI-Bamberg/Arbeiten/Datensatz/Selfmade/4_Maria_0710/2024_07_09_10_43_56/test/IMG_0134.jpeg\n",
      "\n",
      "image 1/1 /Users/holmes/Documents/UNI-Bamberg/Arbeiten/Datensatz/Selfmade/4_Maria_0710/2024_07_09_10_43_56/IMG_0026.jpeg: 640x480 2 wood_knots, 298.8ms\n",
      "Speed: 2.3ms preprocess, 298.8ms inference, 0.4ms postprocess per image at shape (1, 3, 640, 480)\n",
      "Image saved: /Users/holmes/Documents/UNI-Bamberg/Arbeiten/Datensatz/Selfmade/4_Maria_0710/2024_07_09_10_43_56/test/IMG_0026.jpeg\n",
      "\n",
      "image 1/1 /Users/holmes/Documents/UNI-Bamberg/Arbeiten/Datensatz/Selfmade/4_Maria_0710/2024_07_09_10_43_56/IMG_0163.jpeg: 640x480 (no detections), 300.1ms\n",
      "Speed: 2.9ms preprocess, 300.1ms inference, 0.2ms postprocess per image at shape (1, 3, 640, 480)\n",
      "Image saved: /Users/holmes/Documents/UNI-Bamberg/Arbeiten/Datensatz/Selfmade/4_Maria_0710/2024_07_09_10_43_56/test/IMG_0163.jpeg\n",
      "\n",
      "image 1/1 /Users/holmes/Documents/UNI-Bamberg/Arbeiten/Datensatz/Selfmade/4_Maria_0710/2024_07_09_10_43_56/IMG_0231.jpeg: 640x480 1 wood_dowel, 2 wood_knots, 301.2ms\n",
      "Speed: 2.2ms preprocess, 301.2ms inference, 0.4ms postprocess per image at shape (1, 3, 640, 480)\n",
      "Image saved: /Users/holmes/Documents/UNI-Bamberg/Arbeiten/Datensatz/Selfmade/4_Maria_0710/2024_07_09_10_43_56/test/IMG_0231.jpeg\n",
      "\n",
      "image 1/1 /Users/holmes/Documents/UNI-Bamberg/Arbeiten/Datensatz/Selfmade/4_Maria_0710/2024_07_09_10_43_56/IMG_0118.jpeg: 640x480 (no detections), 298.5ms\n",
      "Speed: 2.3ms preprocess, 298.5ms inference, 0.2ms postprocess per image at shape (1, 3, 640, 480)\n",
      "Image saved: /Users/holmes/Documents/UNI-Bamberg/Arbeiten/Datensatz/Selfmade/4_Maria_0710/2024_07_09_10_43_56/test/IMG_0118.jpeg\n",
      "\n",
      "image 1/1 /Users/holmes/Documents/UNI-Bamberg/Arbeiten/Datensatz/Selfmade/4_Maria_0710/2024_07_09_10_43_56/IMG_0159.jpeg: 640x480 1 wood_knot, 299.6ms\n",
      "Speed: 2.1ms preprocess, 299.6ms inference, 0.4ms postprocess per image at shape (1, 3, 640, 480)\n",
      "Image saved: /Users/holmes/Documents/UNI-Bamberg/Arbeiten/Datensatz/Selfmade/4_Maria_0710/2024_07_09_10_43_56/test/IMG_0159.jpeg\n",
      "\n",
      "image 1/1 /Users/holmes/Documents/UNI-Bamberg/Arbeiten/Datensatz/Selfmade/4_Maria_0710/2024_07_09_10_43_56/IMG_0227.jpeg: 640x480 (no detections), 299.7ms\n",
      "Speed: 2.1ms preprocess, 299.7ms inference, 0.2ms postprocess per image at shape (1, 3, 640, 480)\n",
      "Image saved: /Users/holmes/Documents/UNI-Bamberg/Arbeiten/Datensatz/Selfmade/4_Maria_0710/2024_07_09_10_43_56/test/IMG_0227.jpeg\n",
      "\n",
      "image 1/1 /Users/holmes/Documents/UNI-Bamberg/Arbeiten/Datensatz/Selfmade/4_Maria_0710/2024_07_09_10_43_56/IMG_0196.jpeg: 640x480 (no detections), 299.4ms\n",
      "Speed: 2.1ms preprocess, 299.4ms inference, 0.2ms postprocess per image at shape (1, 3, 640, 480)\n",
      "Image saved: /Users/holmes/Documents/UNI-Bamberg/Arbeiten/Datensatz/Selfmade/4_Maria_0710/2024_07_09_10_43_56/test/IMG_0196.jpeg\n",
      "\n",
      "image 1/1 /Users/holmes/Documents/UNI-Bamberg/Arbeiten/Datensatz/Selfmade/4_Maria_0710/2024_07_09_10_43_56/IMG_0179.jpeg: 640x480 (no detections), 302.1ms\n",
      "Speed: 2.3ms preprocess, 302.1ms inference, 0.2ms postprocess per image at shape (1, 3, 640, 480)\n",
      "Image saved: /Users/holmes/Documents/UNI-Bamberg/Arbeiten/Datensatz/Selfmade/4_Maria_0710/2024_07_09_10_43_56/test/IMG_0179.jpeg\n",
      "\n",
      "image 1/1 /Users/holmes/Documents/UNI-Bamberg/Arbeiten/Datensatz/Selfmade/4_Maria_0710/2024_07_09_10_43_56/IMG_0250.jpeg: 640x480 1 wood_knot, 302.0ms\n",
      "Speed: 2.1ms preprocess, 302.0ms inference, 0.4ms postprocess per image at shape (1, 3, 640, 480)\n",
      "Image saved: /Users/holmes/Documents/UNI-Bamberg/Arbeiten/Datensatz/Selfmade/4_Maria_0710/2024_07_09_10_43_56/test/IMG_0250.jpeg\n",
      "\n",
      "image 1/1 /Users/holmes/Documents/UNI-Bamberg/Arbeiten/Datensatz/Selfmade/4_Maria_0710/2024_07_09_10_43_56/IMG_0084.jpeg: 640x480 (no detections), 300.3ms\n",
      "Speed: 2.1ms preprocess, 300.3ms inference, 0.2ms postprocess per image at shape (1, 3, 640, 480)\n",
      "Image saved: /Users/holmes/Documents/UNI-Bamberg/Arbeiten/Datensatz/Selfmade/4_Maria_0710/2024_07_09_10_43_56/test/IMG_0084.jpeg\n",
      "\n",
      "image 1/1 /Users/holmes/Documents/UNI-Bamberg/Arbeiten/Datensatz/Selfmade/4_Maria_0710/2024_07_09_10_43_56/IMG_0207.jpeg: 640x480 1 wood_knot, 301.9ms\n",
      "Speed: 2.2ms preprocess, 301.9ms inference, 0.4ms postprocess per image at shape (1, 3, 640, 480)\n",
      "Image saved: /Users/holmes/Documents/UNI-Bamberg/Arbeiten/Datensatz/Selfmade/4_Maria_0710/2024_07_09_10_43_56/test/IMG_0207.jpeg\n",
      "\n",
      "image 1/1 /Users/holmes/Documents/UNI-Bamberg/Arbeiten/Datensatz/Selfmade/4_Maria_0710/2024_07_09_10_43_56/IMG_0138.jpeg: 640x480 1 wood_dowel, 305.9ms\n",
      "Speed: 2.3ms preprocess, 305.9ms inference, 0.7ms postprocess per image at shape (1, 3, 640, 480)\n",
      "Image saved: /Users/holmes/Documents/UNI-Bamberg/Arbeiten/Datensatz/Selfmade/4_Maria_0710/2024_07_09_10_43_56/test/IMG_0138.jpeg\n",
      "\n",
      "image 1/1 /Users/holmes/Documents/UNI-Bamberg/Arbeiten/Datensatz/Selfmade/4_Maria_0710/2024_07_09_10_43_56/IMG_0092.jpeg: 640x480 3 wood_knots, 302.4ms\n",
      "Speed: 2.6ms preprocess, 302.4ms inference, 0.4ms postprocess per image at shape (1, 3, 640, 480)\n",
      "Image saved: /Users/holmes/Documents/UNI-Bamberg/Arbeiten/Datensatz/Selfmade/4_Maria_0710/2024_07_09_10_43_56/test/IMG_0092.jpeg\n",
      "\n",
      "image 1/1 /Users/holmes/Documents/UNI-Bamberg/Arbeiten/Datensatz/Selfmade/4_Maria_0710/2024_07_09_10_43_56/IMG_0211.jpeg: 640x480 (no detections), 298.1ms\n",
      "Speed: 2.3ms preprocess, 298.1ms inference, 0.2ms postprocess per image at shape (1, 3, 640, 480)\n",
      "Image saved: /Users/holmes/Documents/UNI-Bamberg/Arbeiten/Datensatz/Selfmade/4_Maria_0710/2024_07_09_10_43_56/test/IMG_0211.jpeg\n",
      "\n",
      "image 1/1 /Users/holmes/Documents/UNI-Bamberg/Arbeiten/Datensatz/Selfmade/4_Maria_0710/2024_07_09_10_43_56/IMG_0180.jpeg: 640x480 (no detections), 299.8ms\n",
      "Speed: 2.1ms preprocess, 299.8ms inference, 0.2ms postprocess per image at shape (1, 3, 640, 480)\n",
      "Image saved: /Users/holmes/Documents/UNI-Bamberg/Arbeiten/Datensatz/Selfmade/4_Maria_0710/2024_07_09_10_43_56/test/IMG_0180.jpeg\n",
      "\n",
      "image 1/1 /Users/holmes/Documents/UNI-Bamberg/Arbeiten/Datensatz/Selfmade/4_Maria_0710/2024_07_09_10_43_56/IMG_0246.jpeg: 640x480 (no detections), 303.3ms\n",
      "Speed: 2.2ms preprocess, 303.3ms inference, 0.2ms postprocess per image at shape (1, 3, 640, 480)\n",
      "Image saved: /Users/holmes/Documents/UNI-Bamberg/Arbeiten/Datensatz/Selfmade/4_Maria_0710/2024_07_09_10_43_56/test/IMG_0246.jpeg\n",
      "\n",
      "image 1/1 /Users/holmes/Documents/UNI-Bamberg/Arbeiten/Datensatz/Selfmade/4_Maria_0710/2024_07_09_10_43_56/IMG_0114.jpeg: 640x480 (no detections), 305.2ms\n",
      "Speed: 2.9ms preprocess, 305.2ms inference, 0.2ms postprocess per image at shape (1, 3, 640, 480)\n",
      "Image saved: /Users/holmes/Documents/UNI-Bamberg/Arbeiten/Datensatz/Selfmade/4_Maria_0710/2024_07_09_10_43_56/test/IMG_0114.jpeg\n",
      "\n",
      "image 1/1 /Users/holmes/Documents/UNI-Bamberg/Arbeiten/Datensatz/Selfmade/4_Maria_0710/2024_07_09_10_43_56/IMG_0051.jpeg: 640x480 (no detections), 304.6ms\n",
      "Speed: 2.3ms preprocess, 304.6ms inference, 0.2ms postprocess per image at shape (1, 3, 640, 480)\n",
      "Image saved: /Users/holmes/Documents/UNI-Bamberg/Arbeiten/Datensatz/Selfmade/4_Maria_0710/2024_07_09_10_43_56/test/IMG_0051.jpeg\n",
      "\n",
      "image 1/1 /Users/holmes/Documents/UNI-Bamberg/Arbeiten/Datensatz/Selfmade/4_Maria_0710/2024_07_09_10_43_56/IMG_0143.jpeg: 640x480 (no detections), 298.5ms\n",
      "Speed: 2.2ms preprocess, 298.5ms inference, 0.2ms postprocess per image at shape (1, 3, 640, 480)\n",
      "Image saved: /Users/holmes/Documents/UNI-Bamberg/Arbeiten/Datensatz/Selfmade/4_Maria_0710/2024_07_09_10_43_56/test/IMG_0143.jpeg\n",
      "\n",
      "image 1/1 /Users/holmes/Documents/UNI-Bamberg/Arbeiten/Datensatz/Selfmade/4_Maria_0710/2024_07_09_10_43_56/IMG_0006.jpeg: 640x480 1 wood_knot, 311.2ms\n",
      "Speed: 2.4ms preprocess, 311.2ms inference, 0.4ms postprocess per image at shape (1, 3, 640, 480)\n",
      "Image saved: /Users/holmes/Documents/UNI-Bamberg/Arbeiten/Datensatz/Selfmade/4_Maria_0710/2024_07_09_10_43_56/test/IMG_0006.jpeg\n",
      "\n",
      "image 1/1 /Users/holmes/Documents/UNI-Bamberg/Arbeiten/Datensatz/Selfmade/4_Maria_0710/2024_07_09_10_43_56/IMG_0155.jpeg: 640x480 (no detections), 300.0ms\n",
      "Speed: 2.5ms preprocess, 300.0ms inference, 0.2ms postprocess per image at shape (1, 3, 640, 480)\n",
      "Image saved: /Users/holmes/Documents/UNI-Bamberg/Arbeiten/Datensatz/Selfmade/4_Maria_0710/2024_07_09_10_43_56/test/IMG_0155.jpeg\n",
      "\n",
      "image 1/1 /Users/holmes/Documents/UNI-Bamberg/Arbeiten/Datensatz/Selfmade/4_Maria_0710/2024_07_09_10_43_56/IMG_0010.jpeg: 640x480 1 wood_knot, 295.4ms\n",
      "Speed: 2.4ms preprocess, 295.4ms inference, 0.4ms postprocess per image at shape (1, 3, 640, 480)\n",
      "Image saved: /Users/holmes/Documents/UNI-Bamberg/Arbeiten/Datensatz/Selfmade/4_Maria_0710/2024_07_09_10_43_56/test/IMG_0010.jpeg\n",
      "\n",
      "image 1/1 /Users/holmes/Documents/UNI-Bamberg/Arbeiten/Datensatz/Selfmade/4_Maria_0710/2024_07_09_10_43_56/IMG_0102.jpeg: 640x480 1 wood_knot, 303.9ms\n",
      "Speed: 2.2ms preprocess, 303.9ms inference, 0.8ms postprocess per image at shape (1, 3, 640, 480)\n",
      "Image saved: /Users/holmes/Documents/UNI-Bamberg/Arbeiten/Datensatz/Selfmade/4_Maria_0710/2024_07_09_10_43_56/test/IMG_0102.jpeg\n",
      "\n",
      "image 1/1 /Users/holmes/Documents/UNI-Bamberg/Arbeiten/Datensatz/Selfmade/4_Maria_0710/2024_07_09_10_43_56/IMG_0047.jpeg: 640x480 2 wood_knots, 301.6ms\n",
      "Speed: 2.1ms preprocess, 301.6ms inference, 0.7ms postprocess per image at shape (1, 3, 640, 480)\n",
      "Image saved: /Users/holmes/Documents/UNI-Bamberg/Arbeiten/Datensatz/Selfmade/4_Maria_0710/2024_07_09_10_43_56/test/IMG_0047.jpeg\n",
      "\n",
      "image 1/1 /Users/holmes/Documents/UNI-Bamberg/Arbeiten/Datensatz/Selfmade/4_Maria_0710/2024_07_09_10_43_56/IMG_0109.jpeg: 640x480 2 wood_knots, 305.2ms\n",
      "Speed: 2.2ms preprocess, 305.2ms inference, 0.4ms postprocess per image at shape (1, 3, 640, 480)\n",
      "Image saved: /Users/holmes/Documents/UNI-Bamberg/Arbeiten/Datensatz/Selfmade/4_Maria_0710/2024_07_09_10_43_56/test/IMG_0109.jpeg\n",
      "\n",
      "image 1/1 /Users/holmes/Documents/UNI-Bamberg/Arbeiten/Datensatz/Selfmade/4_Maria_0710/2024_07_09_10_43_56/IMG_0220.jpeg: 640x480 1 wood_knot, 304.0ms\n",
      "Speed: 2.7ms preprocess, 304.0ms inference, 0.4ms postprocess per image at shape (1, 3, 640, 480)\n",
      "Image saved: /Users/holmes/Documents/UNI-Bamberg/Arbeiten/Datensatz/Selfmade/4_Maria_0710/2024_07_09_10_43_56/test/IMG_0220.jpeg\n",
      "\n",
      "image 1/1 /Users/holmes/Documents/UNI-Bamberg/Arbeiten/Datensatz/Selfmade/4_Maria_0710/2024_07_09_10_43_56/IMG_0148.jpeg: 640x480 1 wood_knot, 307.0ms\n",
      "Speed: 2.2ms preprocess, 307.0ms inference, 0.7ms postprocess per image at shape (1, 3, 640, 480)\n",
      "Image saved: /Users/holmes/Documents/UNI-Bamberg/Arbeiten/Datensatz/Selfmade/4_Maria_0710/2024_07_09_10_43_56/test/IMG_0148.jpeg\n",
      "\n",
      "image 1/1 /Users/holmes/Documents/UNI-Bamberg/Arbeiten/Datensatz/Selfmade/4_Maria_0710/2024_07_09_10_43_56/IMG_0236.jpeg: 640x480 (no detections), 301.1ms\n",
      "Speed: 2.1ms preprocess, 301.1ms inference, 0.2ms postprocess per image at shape (1, 3, 640, 480)\n",
      "Image saved: /Users/holmes/Documents/UNI-Bamberg/Arbeiten/Datensatz/Selfmade/4_Maria_0710/2024_07_09_10_43_56/test/IMG_0236.jpeg\n",
      "\n",
      "image 1/1 /Users/holmes/Documents/UNI-Bamberg/Arbeiten/Datensatz/Selfmade/4_Maria_0710/2024_07_09_10_43_56/IMG_0021.jpeg: 640x480 (no detections), 307.3ms\n",
      "Speed: 2.4ms preprocess, 307.3ms inference, 0.2ms postprocess per image at shape (1, 3, 640, 480)\n",
      "Image saved: /Users/holmes/Documents/UNI-Bamberg/Arbeiten/Datensatz/Selfmade/4_Maria_0710/2024_07_09_10_43_56/test/IMG_0021.jpeg\n",
      "\n",
      "image 1/1 /Users/holmes/Documents/UNI-Bamberg/Arbeiten/Datensatz/Selfmade/4_Maria_0710/2024_07_09_10_43_56/IMG_0164.jpeg: 640x480 1 wood_knot, 305.6ms\n",
      "Speed: 2.5ms preprocess, 305.6ms inference, 0.4ms postprocess per image at shape (1, 3, 640, 480)\n",
      "Image saved: /Users/holmes/Documents/UNI-Bamberg/Arbeiten/Datensatz/Selfmade/4_Maria_0710/2024_07_09_10_43_56/test/IMG_0164.jpeg\n",
      "\n",
      "image 1/1 /Users/holmes/Documents/UNI-Bamberg/Arbeiten/Datensatz/Selfmade/4_Maria_0710/2024_07_09_10_43_56/IMG_0076.jpeg: 640x480 (no detections), 303.9ms\n",
      "Speed: 3.3ms preprocess, 303.9ms inference, 0.2ms postprocess per image at shape (1, 3, 640, 480)\n",
      "Image saved: /Users/holmes/Documents/UNI-Bamberg/Arbeiten/Datensatz/Selfmade/4_Maria_0710/2024_07_09_10_43_56/test/IMG_0076.jpeg\n",
      "\n",
      "image 1/1 /Users/holmes/Documents/UNI-Bamberg/Arbeiten/Datensatz/Selfmade/4_Maria_0710/2024_07_09_10_43_56/IMG_0099.jpeg: 640x480 (no detections), 306.7ms\n",
      "Speed: 2.3ms preprocess, 306.7ms inference, 0.2ms postprocess per image at shape (1, 3, 640, 480)\n",
      "Image saved: /Users/holmes/Documents/UNI-Bamberg/Arbeiten/Datensatz/Selfmade/4_Maria_0710/2024_07_09_10_43_56/test/IMG_0099.jpeg\n",
      "\n",
      "image 1/1 /Users/holmes/Documents/UNI-Bamberg/Arbeiten/Datensatz/Selfmade/4_Maria_0710/2024_07_09_10_43_56/IMG_0133.jpeg: 640x480 (no detections), 306.6ms\n",
      "Speed: 2.2ms preprocess, 306.6ms inference, 0.3ms postprocess per image at shape (1, 3, 640, 480)\n",
      "Image saved: /Users/holmes/Documents/UNI-Bamberg/Arbeiten/Datensatz/Selfmade/4_Maria_0710/2024_07_09_10_43_56/test/IMG_0133.jpeg\n",
      "\n",
      "image 1/1 /Users/holmes/Documents/UNI-Bamberg/Arbeiten/Datensatz/Selfmade/4_Maria_0710/2024_07_09_10_43_56/IMG_0060.jpeg: 640x480 1 wood_knot, 299.6ms\n",
      "Speed: 2.4ms preprocess, 299.6ms inference, 0.4ms postprocess per image at shape (1, 3, 640, 480)\n",
      "Image saved: /Users/holmes/Documents/UNI-Bamberg/Arbeiten/Datensatz/Selfmade/4_Maria_0710/2024_07_09_10_43_56/test/IMG_0060.jpeg\n",
      "\n",
      "image 1/1 /Users/holmes/Documents/UNI-Bamberg/Arbeiten/Datensatz/Selfmade/4_Maria_0710/2024_07_09_10_43_56/IMG_0125.jpeg: 640x480 1 wood_knot, 304.9ms\n",
      "Speed: 2.4ms preprocess, 304.9ms inference, 0.4ms postprocess per image at shape (1, 3, 640, 480)\n",
      "Image saved: /Users/holmes/Documents/UNI-Bamberg/Arbeiten/Datensatz/Selfmade/4_Maria_0710/2024_07_09_10_43_56/test/IMG_0125.jpeg\n",
      "\n",
      "image 1/1 /Users/holmes/Documents/UNI-Bamberg/Arbeiten/Datensatz/Selfmade/4_Maria_0710/2024_07_09_10_43_56/IMG_0037.jpeg: 640x480 (no detections), 306.8ms\n",
      "Speed: 2.5ms preprocess, 306.8ms inference, 0.2ms postprocess per image at shape (1, 3, 640, 480)\n",
      "Image saved: /Users/holmes/Documents/UNI-Bamberg/Arbeiten/Datensatz/Selfmade/4_Maria_0710/2024_07_09_10_43_56/test/IMG_0037.jpeg\n",
      "\n",
      "image 1/1 /Users/holmes/Documents/UNI-Bamberg/Arbeiten/Datensatz/Selfmade/4_Maria_0710/2024_07_09_10_43_56/IMG_0172.jpeg: 640x480 (no detections), 303.2ms\n",
      "Speed: 2.2ms preprocess, 303.2ms inference, 0.6ms postprocess per image at shape (1, 3, 640, 480)\n",
      "Image saved: /Users/holmes/Documents/UNI-Bamberg/Arbeiten/Datensatz/Selfmade/4_Maria_0710/2024_07_09_10_43_56/test/IMG_0172.jpeg\n",
      "\n",
      "image 1/1 /Users/holmes/Documents/UNI-Bamberg/Arbeiten/Datensatz/Selfmade/4_Maria_0710/2024_07_09_10_43_56/IMG_0105.jpeg: 640x480 1 wood_knot, 313.3ms\n",
      "Speed: 5.2ms preprocess, 313.3ms inference, 0.8ms postprocess per image at shape (1, 3, 640, 480)\n",
      "Image saved: /Users/holmes/Documents/UNI-Bamberg/Arbeiten/Datensatz/Selfmade/4_Maria_0710/2024_07_09_10_43_56/test/IMG_0105.jpeg\n",
      "\n",
      "image 1/1 /Users/holmes/Documents/UNI-Bamberg/Arbeiten/Datensatz/Selfmade/4_Maria_0710/2024_07_09_10_43_56/IMG_0040.jpeg: 640x480 1 wood_knot, 298.5ms\n",
      "Speed: 4.7ms preprocess, 298.5ms inference, 0.4ms postprocess per image at shape (1, 3, 640, 480)\n",
      "Image saved: /Users/holmes/Documents/UNI-Bamberg/Arbeiten/Datensatz/Selfmade/4_Maria_0710/2024_07_09_10_43_56/test/IMG_0040.jpeg\n",
      "\n",
      "image 1/1 /Users/holmes/Documents/UNI-Bamberg/Arbeiten/Datensatz/Selfmade/4_Maria_0710/2024_07_09_10_43_56/IMG_0152.jpeg: 640x480 1 wood_knot, 300.8ms\n",
      "Speed: 2.8ms preprocess, 300.8ms inference, 0.5ms postprocess per image at shape (1, 3, 640, 480)\n",
      "Image saved: /Users/holmes/Documents/UNI-Bamberg/Arbeiten/Datensatz/Selfmade/4_Maria_0710/2024_07_09_10_43_56/test/IMG_0152.jpeg\n",
      "\n",
      "image 1/1 /Users/holmes/Documents/UNI-Bamberg/Arbeiten/Datensatz/Selfmade/4_Maria_0710/2024_07_09_10_43_56/IMG_0017.jpeg: 640x480 1 wood_knot, 296.4ms\n",
      "Speed: 2.4ms preprocess, 296.4ms inference, 0.7ms postprocess per image at shape (1, 3, 640, 480)\n",
      "Image saved: /Users/holmes/Documents/UNI-Bamberg/Arbeiten/Datensatz/Selfmade/4_Maria_0710/2024_07_09_10_43_56/test/IMG_0017.jpeg\n",
      "\n",
      "image 1/1 /Users/holmes/Documents/UNI-Bamberg/Arbeiten/Datensatz/Selfmade/4_Maria_0710/2024_07_09_10_43_56/IMG_0144.jpeg: 640x480 (no detections), 306.1ms\n",
      "Speed: 2.7ms preprocess, 306.1ms inference, 0.2ms postprocess per image at shape (1, 3, 640, 480)\n",
      "Image saved: /Users/holmes/Documents/UNI-Bamberg/Arbeiten/Datensatz/Selfmade/4_Maria_0710/2024_07_09_10_43_56/test/IMG_0144.jpeg\n",
      "\n",
      "image 1/1 /Users/holmes/Documents/UNI-Bamberg/Arbeiten/Datensatz/Selfmade/4_Maria_0710/2024_07_09_10_43_56/IMG_0001.jpeg: 640x480 2 wood_knots, 293.5ms\n",
      "Speed: 2.2ms preprocess, 293.5ms inference, 0.4ms postprocess per image at shape (1, 3, 640, 480)\n",
      "Image saved: /Users/holmes/Documents/UNI-Bamberg/Arbeiten/Datensatz/Selfmade/4_Maria_0710/2024_07_09_10_43_56/test/IMG_0001.jpeg\n",
      "\n",
      "image 1/1 /Users/holmes/Documents/UNI-Bamberg/Arbeiten/Datensatz/Selfmade/4_Maria_0710/2024_07_09_10_43_56/IMG_0113.jpeg: 640x480 1 wood_knot, 299.1ms\n",
      "Speed: 2.4ms preprocess, 299.1ms inference, 0.6ms postprocess per image at shape (1, 3, 640, 480)\n",
      "Image saved: /Users/holmes/Documents/UNI-Bamberg/Arbeiten/Datensatz/Selfmade/4_Maria_0710/2024_07_09_10_43_56/test/IMG_0113.jpeg\n",
      "\n",
      "image 1/1 /Users/holmes/Documents/UNI-Bamberg/Arbeiten/Datensatz/Selfmade/4_Maria_0710/2024_07_09_10_43_56/IMG_0056.jpeg: 640x480 1 wood_knot, 299.7ms\n",
      "Speed: 2.2ms preprocess, 299.7ms inference, 0.6ms postprocess per image at shape (1, 3, 640, 480)\n",
      "Image saved: /Users/holmes/Documents/UNI-Bamberg/Arbeiten/Datensatz/Selfmade/4_Maria_0710/2024_07_09_10_43_56/test/IMG_0056.jpeg\n",
      "\n",
      "image 1/1 /Users/holmes/Documents/UNI-Bamberg/Arbeiten/Datensatz/Selfmade/4_Maria_0710/2024_07_09_10_43_56/IMG_0241.jpeg: 640x480 1 wood_knot, 306.6ms\n",
      "Speed: 2.4ms preprocess, 306.6ms inference, 0.4ms postprocess per image at shape (1, 3, 640, 480)\n",
      "Image saved: /Users/holmes/Documents/UNI-Bamberg/Arbeiten/Datensatz/Selfmade/4_Maria_0710/2024_07_09_10_43_56/test/IMG_0241.jpeg\n",
      "\n",
      "image 1/1 /Users/holmes/Documents/UNI-Bamberg/Arbeiten/Datensatz/Selfmade/4_Maria_0710/2024_07_09_10_43_56/IMG_0187.jpeg: 640x480 1 wood_knot, 293.2ms\n",
      "Speed: 2.2ms preprocess, 293.2ms inference, 0.4ms postprocess per image at shape (1, 3, 640, 480)\n",
      "Image saved: /Users/holmes/Documents/UNI-Bamberg/Arbeiten/Datensatz/Selfmade/4_Maria_0710/2024_07_09_10_43_56/test/IMG_0187.jpeg\n",
      "\n",
      "image 1/1 /Users/holmes/Documents/UNI-Bamberg/Arbeiten/Datensatz/Selfmade/4_Maria_0710/2024_07_09_10_43_56/IMG_0168.jpeg: 640x480 (no detections), 306.3ms\n",
      "Speed: 2.5ms preprocess, 306.3ms inference, 0.2ms postprocess per image at shape (1, 3, 640, 480)\n",
      "Image saved: /Users/holmes/Documents/UNI-Bamberg/Arbeiten/Datensatz/Selfmade/4_Maria_0710/2024_07_09_10_43_56/test/IMG_0168.jpeg\n",
      "\n",
      "image 1/1 /Users/holmes/Documents/UNI-Bamberg/Arbeiten/Datensatz/Selfmade/4_Maria_0710/2024_07_09_10_43_56/IMG_0216.jpeg: 640x480 1 wood_knot, 300.8ms\n",
      "Speed: 2.3ms preprocess, 300.8ms inference, 0.4ms postprocess per image at shape (1, 3, 640, 480)\n",
      "Image saved: /Users/holmes/Documents/UNI-Bamberg/Arbeiten/Datensatz/Selfmade/4_Maria_0710/2024_07_09_10_43_56/test/IMG_0216.jpeg\n",
      "\n",
      "image 1/1 /Users/holmes/Documents/UNI-Bamberg/Arbeiten/Datensatz/Selfmade/4_Maria_0710/2024_07_09_10_43_56/IMG_0095.jpeg: 640x480 2 wood_knots, 298.8ms\n",
      "Speed: 2.3ms preprocess, 298.8ms inference, 0.6ms postprocess per image at shape (1, 3, 640, 480)\n",
      "Image saved: /Users/holmes/Documents/UNI-Bamberg/Arbeiten/Datensatz/Selfmade/4_Maria_0710/2024_07_09_10_43_56/test/IMG_0095.jpeg\n",
      "\n",
      "image 1/1 /Users/holmes/Documents/UNI-Bamberg/Arbeiten/Datensatz/Selfmade/4_Maria_0710/2024_07_09_10_43_56/IMG_0200.jpeg: 640x480 (no detections), 298.5ms\n",
      "Speed: 2.5ms preprocess, 298.5ms inference, 0.2ms postprocess per image at shape (1, 3, 640, 480)\n",
      "Image saved: /Users/holmes/Documents/UNI-Bamberg/Arbeiten/Datensatz/Selfmade/4_Maria_0710/2024_07_09_10_43_56/test/IMG_0200.jpeg\n",
      "\n",
      "image 1/1 /Users/holmes/Documents/UNI-Bamberg/Arbeiten/Datensatz/Selfmade/4_Maria_0710/2024_07_09_10_43_56/IMG_0083.jpeg: 640x480 6 wood_knots, 312.0ms\n",
      "Speed: 2.9ms preprocess, 312.0ms inference, 0.7ms postprocess per image at shape (1, 3, 640, 480)\n",
      "Image saved: /Users/holmes/Documents/UNI-Bamberg/Arbeiten/Datensatz/Selfmade/4_Maria_0710/2024_07_09_10_43_56/test/IMG_0083.jpeg\n",
      "\n",
      "image 1/1 /Users/holmes/Documents/UNI-Bamberg/Arbeiten/Datensatz/Selfmade/4_Maria_0710/2024_07_09_10_43_56/IMG_0129.jpeg: 640x480 1 wood_knot, 298.5ms\n",
      "Speed: 3.0ms preprocess, 298.5ms inference, 0.4ms postprocess per image at shape (1, 3, 640, 480)\n",
      "Image saved: /Users/holmes/Documents/UNI-Bamberg/Arbeiten/Datensatz/Selfmade/4_Maria_0710/2024_07_09_10_43_56/test/IMG_0129.jpeg\n",
      "\n",
      "image 1/1 /Users/holmes/Documents/UNI-Bamberg/Arbeiten/Datensatz/Selfmade/4_Maria_0710/2024_07_09_10_43_56/IMG_0191.jpeg: 640x480 (no detections), 300.4ms\n",
      "Speed: 2.4ms preprocess, 300.4ms inference, 0.2ms postprocess per image at shape (1, 3, 640, 480)\n",
      "Image saved: /Users/holmes/Documents/UNI-Bamberg/Arbeiten/Datensatz/Selfmade/4_Maria_0710/2024_07_09_10_43_56/test/IMG_0191.jpeg\n",
      "\n",
      "image 1/1 /Users/holmes/Documents/UNI-Bamberg/Arbeiten/Datensatz/Selfmade/4_Maria_0710/2024_07_09_10_43_56/IMG_0190.jpeg: 640x480 1 wood_knot, 303.5ms\n",
      "Speed: 2.5ms preprocess, 303.5ms inference, 0.4ms postprocess per image at shape (1, 3, 640, 480)\n",
      "Image saved: /Users/holmes/Documents/UNI-Bamberg/Arbeiten/Datensatz/Selfmade/4_Maria_0710/2024_07_09_10_43_56/test/IMG_0190.jpeg\n",
      "\n",
      "image 1/1 /Users/holmes/Documents/UNI-Bamberg/Arbeiten/Datensatz/Selfmade/4_Maria_0710/2024_07_09_10_43_56/IMG_0082.jpeg: 640x480 8 wood_knots, 304.9ms\n",
      "Speed: 2.5ms preprocess, 304.9ms inference, 0.4ms postprocess per image at shape (1, 3, 640, 480)\n",
      "Image saved: /Users/holmes/Documents/UNI-Bamberg/Arbeiten/Datensatz/Selfmade/4_Maria_0710/2024_07_09_10_43_56/test/IMG_0082.jpeg\n",
      "\n",
      "image 1/1 /Users/holmes/Documents/UNI-Bamberg/Arbeiten/Datensatz/Selfmade/4_Maria_0710/2024_07_09_10_43_56/IMG_0128.jpeg: 640x480 (no detections), 302.6ms\n",
      "Speed: 2.4ms preprocess, 302.6ms inference, 0.2ms postprocess per image at shape (1, 3, 640, 480)\n",
      "Image saved: /Users/holmes/Documents/UNI-Bamberg/Arbeiten/Datensatz/Selfmade/4_Maria_0710/2024_07_09_10_43_56/test/IMG_0128.jpeg\n",
      "\n",
      "image 1/1 /Users/holmes/Documents/UNI-Bamberg/Arbeiten/Datensatz/Selfmade/4_Maria_0710/2024_07_09_10_43_56/IMG_0201.jpeg: 640x480 (no detections), 301.0ms\n",
      "Speed: 2.1ms preprocess, 301.0ms inference, 0.2ms postprocess per image at shape (1, 3, 640, 480)\n",
      "Image saved: /Users/holmes/Documents/UNI-Bamberg/Arbeiten/Datensatz/Selfmade/4_Maria_0710/2024_07_09_10_43_56/test/IMG_0201.jpeg\n",
      "\n",
      "image 1/1 /Users/holmes/Documents/UNI-Bamberg/Arbeiten/Datensatz/Selfmade/4_Maria_0710/2024_07_09_10_43_56/IMG_0094.jpeg: 640x480 1 wood_knot, 303.7ms\n",
      "Speed: 2.1ms preprocess, 303.7ms inference, 0.6ms postprocess per image at shape (1, 3, 640, 480)\n",
      "Image saved: /Users/holmes/Documents/UNI-Bamberg/Arbeiten/Datensatz/Selfmade/4_Maria_0710/2024_07_09_10_43_56/test/IMG_0094.jpeg\n",
      "\n",
      "image 1/1 /Users/holmes/Documents/UNI-Bamberg/Arbeiten/Datensatz/Selfmade/4_Maria_0710/2024_07_09_10_43_56/IMG_0217.jpeg: 640x480 1 wood_knot, 306.5ms\n",
      "Speed: 2.5ms preprocess, 306.5ms inference, 0.6ms postprocess per image at shape (1, 3, 640, 480)\n",
      "Image saved: /Users/holmes/Documents/UNI-Bamberg/Arbeiten/Datensatz/Selfmade/4_Maria_0710/2024_07_09_10_43_56/test/IMG_0217.jpeg\n",
      "\n",
      "image 1/1 /Users/holmes/Documents/UNI-Bamberg/Arbeiten/Datensatz/Selfmade/4_Maria_0710/2024_07_09_10_43_56/IMG_0186.jpeg: 640x480 (no detections), 304.9ms\n",
      "Speed: 2.1ms preprocess, 304.9ms inference, 0.2ms postprocess per image at shape (1, 3, 640, 480)\n",
      "Image saved: /Users/holmes/Documents/UNI-Bamberg/Arbeiten/Datensatz/Selfmade/4_Maria_0710/2024_07_09_10_43_56/test/IMG_0186.jpeg\n",
      "\n",
      "image 1/1 /Users/holmes/Documents/UNI-Bamberg/Arbeiten/Datensatz/Selfmade/4_Maria_0710/2024_07_09_10_43_56/IMG_0169.jpeg: 640x480 (no detections), 302.1ms\n",
      "Speed: 2.2ms preprocess, 302.1ms inference, 0.4ms postprocess per image at shape (1, 3, 640, 480)\n",
      "Image saved: /Users/holmes/Documents/UNI-Bamberg/Arbeiten/Datensatz/Selfmade/4_Maria_0710/2024_07_09_10_43_56/test/IMG_0169.jpeg\n",
      "\n",
      "image 1/1 /Users/holmes/Documents/UNI-Bamberg/Arbeiten/Datensatz/Selfmade/4_Maria_0710/2024_07_09_10_43_56/IMG_0240.jpeg: 640x480 (no detections), 307.1ms\n",
      "Speed: 2.1ms preprocess, 307.1ms inference, 0.2ms postprocess per image at shape (1, 3, 640, 480)\n",
      "Image saved: /Users/holmes/Documents/UNI-Bamberg/Arbeiten/Datensatz/Selfmade/4_Maria_0710/2024_07_09_10_43_56/test/IMG_0240.jpeg\n",
      "\n",
      "image 1/1 /Users/holmes/Documents/UNI-Bamberg/Arbeiten/Datensatz/Selfmade/4_Maria_0710/2024_07_09_10_43_56/IMG_0112.jpeg: 640x480 1 wood_knot, 303.6ms\n",
      "Speed: 2.4ms preprocess, 303.6ms inference, 0.4ms postprocess per image at shape (1, 3, 640, 480)\n",
      "Image saved: /Users/holmes/Documents/UNI-Bamberg/Arbeiten/Datensatz/Selfmade/4_Maria_0710/2024_07_09_10_43_56/test/IMG_0112.jpeg\n",
      "\n",
      "image 1/1 /Users/holmes/Documents/UNI-Bamberg/Arbeiten/Datensatz/Selfmade/4_Maria_0710/2024_07_09_10_43_56/IMG_0057.jpeg: 640x480 1 wood_knot, 311.5ms\n",
      "Speed: 2.4ms preprocess, 311.5ms inference, 0.4ms postprocess per image at shape (1, 3, 640, 480)\n",
      "Image saved: /Users/holmes/Documents/UNI-Bamberg/Arbeiten/Datensatz/Selfmade/4_Maria_0710/2024_07_09_10_43_56/test/IMG_0057.jpeg\n",
      "\n",
      "image 1/1 /Users/holmes/Documents/UNI-Bamberg/Arbeiten/Datensatz/Selfmade/4_Maria_0710/2024_07_09_10_43_56/IMG_0145.jpeg: 640x480 1 wood_knot, 314.2ms\n",
      "Speed: 2.1ms preprocess, 314.2ms inference, 0.6ms postprocess per image at shape (1, 3, 640, 480)\n",
      "Image saved: /Users/holmes/Documents/UNI-Bamberg/Arbeiten/Datensatz/Selfmade/4_Maria_0710/2024_07_09_10_43_56/test/IMG_0145.jpeg\n",
      "\n",
      "image 1/1 /Users/holmes/Documents/UNI-Bamberg/Arbeiten/Datensatz/Selfmade/4_Maria_0710/2024_07_09_10_43_56/IMG_0153.jpeg: 640x480 2 wood_knots, 303.7ms\n",
      "Speed: 2.2ms preprocess, 303.7ms inference, 0.4ms postprocess per image at shape (1, 3, 640, 480)\n",
      "Image saved: /Users/holmes/Documents/UNI-Bamberg/Arbeiten/Datensatz/Selfmade/4_Maria_0710/2024_07_09_10_43_56/test/IMG_0153.jpeg\n",
      "\n",
      "image 1/1 /Users/holmes/Documents/UNI-Bamberg/Arbeiten/Datensatz/Selfmade/4_Maria_0710/2024_07_09_10_43_56/IMG_0016.jpeg: 640x480 (no detections), 300.0ms\n",
      "Speed: 2.2ms preprocess, 300.0ms inference, 0.2ms postprocess per image at shape (1, 3, 640, 480)\n",
      "Image saved: /Users/holmes/Documents/UNI-Bamberg/Arbeiten/Datensatz/Selfmade/4_Maria_0710/2024_07_09_10_43_56/test/IMG_0016.jpeg\n",
      "\n",
      "image 1/1 /Users/holmes/Documents/UNI-Bamberg/Arbeiten/Datensatz/Selfmade/4_Maria_0710/2024_07_09_10_43_56/IMG_0104.jpeg: 640x480 1 wood_knot, 305.4ms\n",
      "Speed: 2.2ms preprocess, 305.4ms inference, 0.4ms postprocess per image at shape (1, 3, 640, 480)\n",
      "Image saved: /Users/holmes/Documents/UNI-Bamberg/Arbeiten/Datensatz/Selfmade/4_Maria_0710/2024_07_09_10_43_56/test/IMG_0104.jpeg\n",
      "\n",
      "image 1/1 /Users/holmes/Documents/UNI-Bamberg/Arbeiten/Datensatz/Selfmade/4_Maria_0710/2024_07_09_10_43_56/IMG_0041.jpeg: 640x480 (no detections), 303.7ms\n",
      "Speed: 2.4ms preprocess, 303.7ms inference, 0.3ms postprocess per image at shape (1, 3, 640, 480)\n",
      "Image saved: /Users/holmes/Documents/UNI-Bamberg/Arbeiten/Datensatz/Selfmade/4_Maria_0710/2024_07_09_10_43_56/test/IMG_0041.jpeg\n",
      "\n",
      "image 1/1 /Users/holmes/Documents/UNI-Bamberg/Arbeiten/Datensatz/Selfmade/4_Maria_0710/2024_07_09_10_43_56/IMG_0036.jpeg: 640x480 1 wood_knot, 307.6ms\n",
      "Speed: 2.6ms preprocess, 307.6ms inference, 0.4ms postprocess per image at shape (1, 3, 640, 480)\n",
      "Image saved: /Users/holmes/Documents/UNI-Bamberg/Arbeiten/Datensatz/Selfmade/4_Maria_0710/2024_07_09_10_43_56/test/IMG_0036.jpeg\n",
      "\n",
      "image 1/1 /Users/holmes/Documents/UNI-Bamberg/Arbeiten/Datensatz/Selfmade/4_Maria_0710/2024_07_09_10_43_56/IMG_0173.jpeg: 640x480 2 wood_knots, 302.1ms\n",
      "Speed: 2.1ms preprocess, 302.1ms inference, 0.4ms postprocess per image at shape (1, 3, 640, 480)\n",
      "Image saved: /Users/holmes/Documents/UNI-Bamberg/Arbeiten/Datensatz/Selfmade/4_Maria_0710/2024_07_09_10_43_56/test/IMG_0173.jpeg\n",
      "\n",
      "image 1/1 /Users/holmes/Documents/UNI-Bamberg/Arbeiten/Datensatz/Selfmade/4_Maria_0710/2024_07_09_10_43_56/IMG_0061.jpeg: 640x480 1 wood_knot, 304.7ms\n",
      "Speed: 2.4ms preprocess, 304.7ms inference, 0.4ms postprocess per image at shape (1, 3, 640, 480)\n",
      "Image saved: /Users/holmes/Documents/UNI-Bamberg/Arbeiten/Datensatz/Selfmade/4_Maria_0710/2024_07_09_10_43_56/test/IMG_0061.jpeg\n",
      "\n",
      "image 1/1 /Users/holmes/Documents/UNI-Bamberg/Arbeiten/Datensatz/Selfmade/4_Maria_0710/2024_07_09_10_43_56/IMG_0124.jpeg: 640x480 1 wood_knot, 306.1ms\n",
      "Speed: 2.1ms preprocess, 306.1ms inference, 0.8ms postprocess per image at shape (1, 3, 640, 480)\n",
      "Image saved: /Users/holmes/Documents/UNI-Bamberg/Arbeiten/Datensatz/Selfmade/4_Maria_0710/2024_07_09_10_43_56/test/IMG_0124.jpeg\n",
      "\n",
      "image 1/1 /Users/holmes/Documents/UNI-Bamberg/Arbeiten/Datensatz/Selfmade/4_Maria_0710/2024_07_09_10_43_56/IMG_0077.jpeg: 640x480 (no detections), 302.2ms\n",
      "Speed: 2.4ms preprocess, 302.2ms inference, 0.2ms postprocess per image at shape (1, 3, 640, 480)\n",
      "Image saved: /Users/holmes/Documents/UNI-Bamberg/Arbeiten/Datensatz/Selfmade/4_Maria_0710/2024_07_09_10_43_56/test/IMG_0077.jpeg\n",
      "\n",
      "image 1/1 /Users/holmes/Documents/UNI-Bamberg/Arbeiten/Datensatz/Selfmade/4_Maria_0710/2024_07_09_10_43_56/IMG_0098.jpeg: 640x480 (no detections), 305.5ms\n",
      "Speed: 2.4ms preprocess, 305.5ms inference, 0.2ms postprocess per image at shape (1, 3, 640, 480)\n",
      "Image saved: /Users/holmes/Documents/UNI-Bamberg/Arbeiten/Datensatz/Selfmade/4_Maria_0710/2024_07_09_10_43_56/test/IMG_0098.jpeg\n",
      "\n",
      "image 1/1 /Users/holmes/Documents/UNI-Bamberg/Arbeiten/Datensatz/Selfmade/4_Maria_0710/2024_07_09_10_43_56/IMG_0132.jpeg: 640x480 (no detections), 299.7ms\n",
      "Speed: 2.2ms preprocess, 299.7ms inference, 0.2ms postprocess per image at shape (1, 3, 640, 480)\n",
      "Image saved: /Users/holmes/Documents/UNI-Bamberg/Arbeiten/Datensatz/Selfmade/4_Maria_0710/2024_07_09_10_43_56/test/IMG_0132.jpeg\n",
      "\n",
      "image 1/1 /Users/holmes/Documents/UNI-Bamberg/Arbeiten/Datensatz/Selfmade/4_Maria_0710/2024_07_09_10_43_56/IMG_0020.jpeg: 640x480 (no detections), 300.7ms\n",
      "Speed: 2.1ms preprocess, 300.7ms inference, 0.2ms postprocess per image at shape (1, 3, 640, 480)\n",
      "Image saved: /Users/holmes/Documents/UNI-Bamberg/Arbeiten/Datensatz/Selfmade/4_Maria_0710/2024_07_09_10_43_56/test/IMG_0020.jpeg\n",
      "\n",
      "image 1/1 /Users/holmes/Documents/UNI-Bamberg/Arbeiten/Datensatz/Selfmade/4_Maria_0710/2024_07_09_10_43_56/IMG_0165.jpeg: 640x480 (no detections), 300.6ms\n",
      "Speed: 2.1ms preprocess, 300.6ms inference, 0.3ms postprocess per image at shape (1, 3, 640, 480)\n",
      "Image saved: /Users/holmes/Documents/UNI-Bamberg/Arbeiten/Datensatz/Selfmade/4_Maria_0710/2024_07_09_10_43_56/test/IMG_0165.jpeg\n",
      "\n",
      "image 1/1 /Users/holmes/Documents/UNI-Bamberg/Arbeiten/Datensatz/Selfmade/4_Maria_0710/2024_07_09_10_43_56/IMG_0237.jpeg: 640x480 (no detections), 302.5ms\n",
      "Speed: 2.3ms preprocess, 302.5ms inference, 0.3ms postprocess per image at shape (1, 3, 640, 480)\n",
      "Image saved: /Users/holmes/Documents/UNI-Bamberg/Arbeiten/Datensatz/Selfmade/4_Maria_0710/2024_07_09_10_43_56/test/IMG_0237.jpeg\n",
      "\n",
      "image 1/1 /Users/holmes/Documents/UNI-Bamberg/Arbeiten/Datensatz/Selfmade/4_Maria_0710/2024_07_09_10_43_56/IMG_0149.jpeg: 640x480 (no detections), 298.4ms\n",
      "Speed: 2.4ms preprocess, 298.4ms inference, 0.2ms postprocess per image at shape (1, 3, 640, 480)\n",
      "Image saved: /Users/holmes/Documents/UNI-Bamberg/Arbeiten/Datensatz/Selfmade/4_Maria_0710/2024_07_09_10_43_56/test/IMG_0149.jpeg\n",
      "\n",
      "image 1/1 /Users/holmes/Documents/UNI-Bamberg/Arbeiten/Datensatz/Selfmade/4_Maria_0710/2024_07_09_10_43_56/IMG_0221.jpeg: 640x480 (no detections), 302.7ms\n",
      "Speed: 2.3ms preprocess, 302.7ms inference, 0.2ms postprocess per image at shape (1, 3, 640, 480)\n",
      "Image saved: /Users/holmes/Documents/UNI-Bamberg/Arbeiten/Datensatz/Selfmade/4_Maria_0710/2024_07_09_10_43_56/test/IMG_0221.jpeg\n",
      "\n",
      "image 1/1 /Users/holmes/Documents/UNI-Bamberg/Arbeiten/Datensatz/Selfmade/4_Maria_0710/2024_07_09_10_43_56/IMG_0108.jpeg: 640x480 1 wood_knot, 300.1ms\n",
      "Speed: 2.3ms preprocess, 300.1ms inference, 0.4ms postprocess per image at shape (1, 3, 640, 480)\n",
      "Image saved: /Users/holmes/Documents/UNI-Bamberg/Arbeiten/Datensatz/Selfmade/4_Maria_0710/2024_07_09_10_43_56/test/IMG_0108.jpeg\n"
     ]
    }
   ],
   "source": [
    "model = YOLO(model_path)\n",
    "\n",
    "if not os.path.exists(save_path):\n",
    "    os.makedirs(save_path)\n",
    "\n",
    "image_files = [os.path.join(image_folder, file) for file in os.listdir(image_folder) if file.endswith(('.jpg', '.jpeg', '.JPG', '.png', '.bmp'))]\n",
    "\n",
    "for img_path in image_files:\n",
    "    results = model(img_path)\n",
    "    img = cv2.imread(img_path)\n",
    "\n",
    "    for result in results:\n",
    "        boxes = result.boxes.cpu().numpy()\n",
    "        for box in boxes:\n",
    "            # box contains prediction information\n",
    "            confidence = box.conf[0]\n",
    "            if confidence > 0.4:\n",
    "                xyxy = box.xyxy[0].astype(int)\n",
    "                confidence_text = f\"{confidence:.2f}\"\n",
    "\n",
    "                cv2.rectangle(img, (xyxy[0], xyxy[1]), (xyxy[2], xyxy[3]), (0, 0, 255), 2)\n",
    "                cv2.putText(img, confidence_text, (xyxy[0], xyxy[1]-10), cv2.FONT_HERSHEY_SIMPLEX, 0.7, (0,0,255), 2)\n",
    "\n",
    "    unique_save_path = os.path.join(save_path, os.path.basename(img_path))\n",
    "    cv2.imwrite(unique_save_path, img)\n",
    "    print(f\"Image saved: {unique_save_path}\")\n"
   ]
  },
  {
   "cell_type": "code",
   "execution_count": null,
   "metadata": {},
   "outputs": [],
   "source": []
  }
 ],
 "metadata": {
  "kernelspec": {
   "display_name": "Python 3 (ipykernel)",
   "language": "python",
   "name": "python3"
  },
  "language_info": {
   "codemirror_mode": {
    "name": "ipython",
    "version": 3
   },
   "file_extension": ".py",
   "mimetype": "text/x-python",
   "name": "python",
   "nbconvert_exporter": "python",
   "pygments_lexer": "ipython3",
   "version": "3.12.2"
  }
 },
 "nbformat": 4,
 "nbformat_minor": 2
}

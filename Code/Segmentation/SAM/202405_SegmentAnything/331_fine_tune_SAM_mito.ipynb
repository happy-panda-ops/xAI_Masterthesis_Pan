{
  "cells": [
    {
      "cell_type": "markdown",
      "metadata": {
        "colab_type": "text",
        "id": "view-in-github"
      },
      "source": [
        "<a href=\"https://colab.research.google.com/github/bnsreenu/python_for_microscopists/blob/master/331_fine_tune_SAM_mito.ipynb\" target=\"_parent\"><img src=\"https://colab.research.google.com/assets/colab-badge.svg\" alt=\"Open In Colab\"/></a>"
      ]
    },
    {
      "cell_type": "markdown",
      "metadata": {
        "id": "ekbl6wXaNLxT"
      },
      "source": [
        "https://youtu.be/83tnWs_YBRQ"
      ]
    },
    {
      "cell_type": "markdown",
      "metadata": {
        "id": "VCm5afA7UaQu"
      },
      "source": [
        "**This notebook walks you through the process of fine-tuning a Segment Anything Model (SAM) using custom data**.\n",
        "<p>\n",
        "\n",
        "**What is SAM?**\n",
        "<br>\n",
        "SAM is an image segmentation model developed by Meta AI. It was trained over 11 billion segmentation masks from millions of images. It is designed to take human prompts, in the form of points, bounding boxes or even a text prompt describing what should be segmented.\n",
        "<p>\n",
        "\n",
        "**What are the key features of SAM?**\n",
        "<br>\n",
        "\n",
        "* **Zero-shot generalization:** SAM can be used to segment objects that it has never seen before, without the need for additional training.\n",
        "\n",
        "* **Flexible prompting:** SAM can be prompted with a variety of input, including points, boxes, and text descriptions.\n",
        "\n",
        "* **Real-time mask computation:** SAM can generate masks for objects in real time. This makes SAM ideal for applications where it is necessary to segment objects quickly, such as autonomous driving and robotics.\n",
        "\n",
        "* **Ambiguity awareness:** SAM is aware of the ambiguity of objects in images. This means that SAM can generate masks for objects even when they are partially occluded or overlapping with other objects.\n",
        "\n",
        "<p>\n",
        "\n",
        "**How does SAM work?**\n",
        "<br>\n",
        "SAM works by first encoding the image into a high-dimensional vector representation. The prompt is encoded into a separate vector representation. The two vector representations are then combined and passed to a mask decoder, which outputs a mask for the object specified by the prompt.\n",
        "<p>\n",
        "The image encoder is a vision transformer (ViT-H) model, which is a large language model that has been pre-trained on a massive dataset of images. The prompt encoder is a simple text encoder that converts the input prompt into a vector representation. The mask decoder is a lightweight transformer model that predicts the object mask from the image and prompt embeddings.\n",
        "<p>\n",
        "\n",
        "**SAM paper:** https://arxiv.org/pdf/2304.02643.pdf​\n",
        "<p>\n",
        "\n",
        "**Link to the dataset used in this demonstration:** https://www.epfl.ch/labs/cvlab/data/data-em/\n",
        "<br>Courtesy: EPFL\n",
        "<p>\n",
        "\n",
        "This code has been heavily adapted from this notebook but modified to work with a truly custom dataset where we have a bunch of images and binary masks.\n",
        "https://github.com/NielsRogge/Transformers-Tutorials/blob/master/SAM/Fine_tune_SAM_(segment_anything)_on_a_custom_dataset.ipynb\n",
        "\n"
      ]
    },
    {
      "cell_type": "code",
      "execution_count": 1,
      "metadata": {
        "id": "NSkTx6N-Mtyd"
      },
      "outputs": [
        {
          "name": "stdout",
          "output_type": "stream",
          "text": [
            "Collecting git+https://github.com/facebookresearch/segment-anything.git\n",
            "  Cloning https://github.com/facebookresearch/segment-anything.git to /tmp/pip-req-build-l06w6jeh\n",
            "  Running command git clone --filter=blob:none --quiet https://github.com/facebookresearch/segment-anything.git /tmp/pip-req-build-l06w6jeh\n",
            "  Resolved https://github.com/facebookresearch/segment-anything.git to commit 6fdee8f2727f4506cfbbe553e23b895e27956588\n",
            "  Preparing metadata (setup.py) ... \u001b[?25ldone\n",
            "\u001b[?25hRequirement already satisfied: datasets in /home/jpan/miniconda3/lib/python3.12/site-packages (2.19.2)\n",
            "Requirement already satisfied: filelock in /home/jpan/miniconda3/lib/python3.12/site-packages (from datasets) (3.14.0)\n",
            "Requirement already satisfied: numpy>=1.17 in /home/jpan/miniconda3/lib/python3.12/site-packages (from datasets) (1.26.4)\n",
            "Requirement already satisfied: pyarrow>=12.0.0 in /home/jpan/miniconda3/lib/python3.12/site-packages (from datasets) (16.1.0)\n",
            "Requirement already satisfied: pyarrow-hotfix in /home/jpan/miniconda3/lib/python3.12/site-packages (from datasets) (0.6)\n",
            "Requirement already satisfied: dill<0.3.9,>=0.3.0 in /home/jpan/miniconda3/lib/python3.12/site-packages (from datasets) (0.3.8)\n",
            "Requirement already satisfied: pandas in /home/jpan/miniconda3/lib/python3.12/site-packages (from datasets) (2.2.2)\n",
            "Requirement already satisfied: requests>=2.32.1 in /home/jpan/miniconda3/lib/python3.12/site-packages (from datasets) (2.32.3)\n",
            "Requirement already satisfied: tqdm>=4.62.1 in /home/jpan/miniconda3/lib/python3.12/site-packages (from datasets) (4.66.2)\n",
            "Requirement already satisfied: xxhash in /home/jpan/miniconda3/lib/python3.12/site-packages (from datasets) (3.4.1)\n",
            "Requirement already satisfied: multiprocess in /home/jpan/miniconda3/lib/python3.12/site-packages (from datasets) (0.70.16)\n",
            "Requirement already satisfied: fsspec<=2024.3.1,>=2023.1.0 in /home/jpan/miniconda3/lib/python3.12/site-packages (from fsspec[http]<=2024.3.1,>=2023.1.0->datasets) (2024.3.1)\n",
            "Requirement already satisfied: aiohttp in /home/jpan/miniconda3/lib/python3.12/site-packages (from datasets) (3.9.5)\n",
            "Requirement already satisfied: huggingface-hub>=0.21.2 in /home/jpan/miniconda3/lib/python3.12/site-packages (from datasets) (0.23.3)\n",
            "Requirement already satisfied: packaging in /home/jpan/miniconda3/lib/python3.12/site-packages (from datasets) (23.2)\n",
            "Requirement already satisfied: pyyaml>=5.1 in /home/jpan/miniconda3/lib/python3.12/site-packages (from datasets) (5.1)\n",
            "Requirement already satisfied: aiosignal>=1.1.2 in /home/jpan/miniconda3/lib/python3.12/site-packages (from aiohttp->datasets) (1.3.1)\n",
            "Requirement already satisfied: attrs>=17.3.0 in /home/jpan/miniconda3/lib/python3.12/site-packages (from aiohttp->datasets) (23.2.0)\n",
            "Requirement already satisfied: frozenlist>=1.1.1 in /home/jpan/miniconda3/lib/python3.12/site-packages (from aiohttp->datasets) (1.4.1)\n",
            "Requirement already satisfied: multidict<7.0,>=4.5 in /home/jpan/miniconda3/lib/python3.12/site-packages (from aiohttp->datasets) (6.0.5)\n",
            "Requirement already satisfied: yarl<2.0,>=1.0 in /home/jpan/miniconda3/lib/python3.12/site-packages (from aiohttp->datasets) (1.9.4)\n",
            "Requirement already satisfied: typing-extensions>=3.7.4.3 in /home/jpan/miniconda3/lib/python3.12/site-packages (from huggingface-hub>=0.21.2->datasets) (4.12.1)\n",
            "Requirement already satisfied: charset-normalizer<4,>=2 in /home/jpan/miniconda3/lib/python3.12/site-packages (from requests>=2.32.1->datasets) (2.0.4)\n",
            "Requirement already satisfied: idna<4,>=2.5 in /home/jpan/miniconda3/lib/python3.12/site-packages (from requests>=2.32.1->datasets) (3.7)\n",
            "Requirement already satisfied: urllib3<3,>=1.21.1 in /home/jpan/miniconda3/lib/python3.12/site-packages (from requests>=2.32.1->datasets) (2.1.0)\n",
            "Requirement already satisfied: certifi>=2017.4.17 in /home/jpan/miniconda3/lib/python3.12/site-packages (from requests>=2.32.1->datasets) (2024.2.2)\n",
            "Requirement already satisfied: python-dateutil>=2.8.2 in /home/jpan/miniconda3/lib/python3.12/site-packages (from pandas->datasets) (2.9.0)\n",
            "Requirement already satisfied: pytz>=2020.1 in /home/jpan/miniconda3/lib/python3.12/site-packages (from pandas->datasets) (2024.1)\n",
            "Requirement already satisfied: tzdata>=2022.7 in /home/jpan/miniconda3/lib/python3.12/site-packages (from pandas->datasets) (2024.1)\n",
            "Requirement already satisfied: six>=1.5 in /home/jpan/miniconda3/lib/python3.12/site-packages (from python-dateutil>=2.8.2->pandas->datasets) (1.16.0)\n",
            "Requirement already satisfied: patchify in /home/jpan/miniconda3/lib/python3.12/site-packages (0.2.3)\n",
            "Requirement already satisfied: numpy<2,>=1 in /home/jpan/miniconda3/lib/python3.12/site-packages (from patchify) (1.26.4)\n"
          ]
        }
      ],
      "source": [
        "# Install the required libraries\n",
        "#SAM\n",
        "!pip install git+https://github.com/facebookresearch/segment-anything.git\n",
        "#Transformers\n",
        "!pip install -q git+https://github.com/huggingface/transformers.git\n",
        "#Datasets to prepare data and monai if you want to use special loss functions\n",
        "!pip install datasets\n",
        "!pip install -q monai\n",
        "#Patchify to divide large images into smaller patches for training. (Not necessary for smaller images)\n",
        "!pip install patchify"
      ]
    },
    {
      "cell_type": "code",
      "execution_count": 10,
      "metadata": {
        "id": "aTXUX7xyCEGT"
      },
      "outputs": [],
      "source": [
        "import numpy as np\n",
        "import matplotlib.pyplot as plt\n",
        "# import tifffile\n",
        "import os\n",
        "from patchify import patchify  #Only to handle large images\n",
        "import random\n",
        "from scipy import ndimage \n",
        "from pycocotools import mask as maskUtils"
      ]
    },
    {
      "cell_type": "code",
      "execution_count": 3,
      "metadata": {},
      "outputs": [
        {
          "name": "stderr",
          "output_type": "stream",
          "text": [
            "/home/jpan/miniconda3/lib/python3.12/site-packages/torch/cuda/__init__.py:619: UserWarning: Can't initialize NVML\n",
            "  warnings.warn(\"Can't initialize NVML\")\n"
          ]
        },
        {
          "name": "stdout",
          "output_type": "stream",
          "text": [
            "loading annotations into memory...\n",
            "Done (t=0.08s)\n",
            "creating index...\n",
            "index created!\n",
            "loading annotations into memory...\n",
            "Done (t=0.01s)\n",
            "creating index...\n",
            "index created!\n",
            "loading annotations into memory...\n",
            "Done (t=0.01s)\n",
            "creating index...\n",
            "index created!\n"
          ]
        }
      ],
      "source": [
        "import torch\n",
        "from torchvision.datasets import CocoDetection\n",
        "from torchvision.transforms import ToTensor\n",
        "from torch.utils.data import DataLoader\n",
        "from segment_anything import SamPredictor, sam_model_registry\n",
        "import torchvision.transforms.functional as F\n",
        "\n",
        "# Load the COCO dataset\n",
        "train_dataset = CocoDetection(\n",
        "    root=\"/mnt/data/backup_pan/Dataset/Seg-dominik-iphone/Dominik-seg.v4i.coco-segmentation/train\",\n",
        "    annFile=\"/mnt/data/backup_pan/Dataset/Seg-dominik-iphone/Dominik-seg.v4i.coco-segmentation/train/_annotations.coco.json\",\n",
        "    transform = ToTensor()\n",
        ")\n",
        "\n",
        "val_dataset = CocoDetection(\n",
        "    root=\"/mnt/data/backup_pan/Dataset/Seg-dominik-iphone/Dominik-seg.v4i.coco-segmentation/valid\",\n",
        "    annFile=\"/mnt/data/backup_pan/Dataset/Seg-dominik-iphone/Dominik-seg.v4i.coco-segmentation/valid/_annotations.coco.json\",\n",
        "    transform=ToTensor()\n",
        ")\n",
        "\n",
        "test_dataset = CocoDetection(\n",
        "    root=\"/mnt/data/backup_pan/Dataset/Seg-dominik-iphone/Dominik-seg.v4i.coco-segmentation/test\",\n",
        "    annFile=\"/mnt/data/backup_pan/Dataset/Seg-dominik-iphone/Dominik-seg.v4i.coco-segmentation/test/_annotations.coco.json\",\n",
        "    transform=ToTensor()\n",
        ")\n",
        "\n",
        "# Load the data into a DataLoader\n",
        "train_loader = DataLoader(train_dataset, batch_size=1, shuffle=False)\n",
        "val_loader = DataLoader(val_dataset, batch_size=1, shuffle=False)\n",
        "test_loader = DataLoader(test_dataset, batch_size=1, shuffle=False)"
      ]
    },
    {
      "cell_type": "code",
      "execution_count": 4,
      "metadata": {},
      "outputs": [
        {
          "name": "stdout",
          "output_type": "stream",
          "text": [
            "Image shape: torch.Size([3, 1024, 1024])\n",
            "Number of targets: 1\n",
            "Annotations: [{'id': tensor([0]), 'image_id': tensor([0]), 'category_id': tensor([1]), 'bbox': [tensor([259]), tensor([0]), tensor([461.3330], dtype=torch.float64), tensor([1024])], 'area': tensor([472405.3330], dtype=torch.float64), 'segmentation': [[tensor([270.6670], dtype=torch.float64), tensor([0]), tensor([269.3330], dtype=torch.float64), tensor([1]), tensor([269.3330], dtype=torch.float64), tensor([7]), tensor([266.6670], dtype=torch.float64), tensor([9]), tensor([266.6670], dtype=torch.float64), tensor([83]), tensor([269.3330], dtype=torch.float64), tensor([85]), tensor([269.3330], dtype=torch.float64), tensor([95]), tensor([266.6670], dtype=torch.float64), tensor([97]), tensor([266.6670], dtype=torch.float64), tensor([99]), tensor([269.3330], dtype=torch.float64), tensor([101]), tensor([269.3330], dtype=torch.float64), tensor([207]), tensor([266.6670], dtype=torch.float64), tensor([209]), tensor([266.6670], dtype=torch.float64), tensor([449]), tensor([264]), tensor([451]), tensor([264]), tensor([503]), tensor([261.3330], dtype=torch.float64), tensor([505]), tensor([261.3330], dtype=torch.float64), tensor([507]), tensor([264]), tensor([509]), tensor([264]), tensor([511]), tensor([261.3330], dtype=torch.float64), tensor([513]), tensor([261.3330], dtype=torch.float64), tensor([593]), tensor([258.6670], dtype=torch.float64), tensor([595]), tensor([258.6670], dtype=torch.float64), tensor([653]), tensor([261.3330], dtype=torch.float64), tensor([655]), tensor([261.3330], dtype=torch.float64), tensor([837]), tensor([258.6670], dtype=torch.float64), tensor([839]), tensor([258.6670], dtype=torch.float64), tensor([901]), tensor([261.3330], dtype=torch.float64), tensor([903]), tensor([261.3330], dtype=torch.float64), tensor([911]), tensor([258.6670], dtype=torch.float64), tensor([913]), tensor([258.6670], dtype=torch.float64), tensor([921]), tensor([261.3330], dtype=torch.float64), tensor([923]), tensor([261.3330], dtype=torch.float64), tensor([927]), tensor([258.6670], dtype=torch.float64), tensor([929]), tensor([258.6670], dtype=torch.float64), tensor([935]), tensor([261.3330], dtype=torch.float64), tensor([937]), tensor([261.3330], dtype=torch.float64), tensor([943]), tensor([258.6670], dtype=torch.float64), tensor([945]), tensor([258.6670], dtype=torch.float64), tensor([949]), tensor([261.3330], dtype=torch.float64), tensor([951]), tensor([261.3330], dtype=torch.float64), tensor([975]), tensor([258.6670], dtype=torch.float64), tensor([977]), tensor([258.6670], dtype=torch.float64), tensor([1023]), tensor([260]), tensor([1024]), tensor([713.3330], dtype=torch.float64), tensor([1024]), tensor([717.3330], dtype=torch.float64), tensor([1021]), tensor([717.3330], dtype=torch.float64), tensor([1015]), tensor([714.6670], dtype=torch.float64), tensor([1013]), tensor([714.6670], dtype=torch.float64), tensor([975]), tensor([717.3330], dtype=torch.float64), tensor([973]), tensor([717.3330], dtype=torch.float64), tensor([927]), tensor([720]), tensor([925]), tensor([720]), tensor([917]), tensor([717.3330], dtype=torch.float64), tensor([915]), tensor([720]), tensor([913]), tensor([720]), tensor([851]), tensor([717.3330], dtype=torch.float64), tensor([849]), tensor([717.3330], dtype=torch.float64), tensor([743]), tensor([714.6670], dtype=torch.float64), tensor([741]), tensor([714.6670], dtype=torch.float64), tensor([657]), tensor([712]), tensor([655]), tensor([712]), tensor([631]), tensor([709.3330], dtype=torch.float64), tensor([629]), tensor([709.3330], dtype=torch.float64), tensor([519]), tensor([706.6670], dtype=torch.float64), tensor([517]), tensor([706.6670], dtype=torch.float64), tensor([457]), tensor([704]), tensor([455]), tensor([704]), tensor([413]), tensor([701.3330], dtype=torch.float64), tensor([411]), tensor([701.3330], dtype=torch.float64), tensor([409]), tensor([704]), tensor([407]), tensor([704]), tensor([405]), tensor([701.3330], dtype=torch.float64), tensor([403]), tensor([701.3330], dtype=torch.float64), tensor([351]), tensor([704]), tensor([349]), tensor([704]), tensor([325]), tensor([701.3330], dtype=torch.float64), tensor([323]), tensor([701.3330], dtype=torch.float64), tensor([213]), tensor([698.6670], dtype=torch.float64), tensor([211]), tensor([698.6670], dtype=torch.float64), tensor([151]), tensor([696]), tensor([149]), tensor([696]), tensor([83]), tensor([693.3330], dtype=torch.float64), tensor([81]), tensor([693.3330], dtype=torch.float64), tensor([49]), tensor([690.6670], dtype=torch.float64), tensor([47]), tensor([690.6670], dtype=torch.float64), tensor([15]), tensor([688]), tensor([13]), tensor([688]), tensor([5]), tensor([685.3330], dtype=torch.float64), tensor([3]), tensor([684]), tensor([0]), tensor([270.6670], dtype=torch.float64), tensor([0])]], 'iscrowd': tensor([0])}]\n"
          ]
        },
        {
          "data": {
            "image/png": "[encoded data removed]",
            "text/plain": [
              "<Figure size 640x480 with 1 Axes>"
            ]
          },
          "metadata": {},
          "output_type": "display_data"
        }
      ],
      "source": [
        "# Process the images\n",
        "for images, targets in train_loader:\n",
        "    # Since batch_size=1, we need to access images[0] and targets[0]\n",
        "    image = images[0]\n",
        "    target = targets[0]\n",
        "\n",
        "    print(f\"Image shape: {image.shape}\")\n",
        "    print(f\"Number of targets: {len(targets)}\")\n",
        "    print(f\"Annotations: {targets}\")\n",
        "\n",
        "    # Display the image\n",
        "    plt.imshow(np.transpose(image.numpy(), (1, 2, 0)))\n",
        "    plt.show()\n",
        "\n",
        "    break  # Only display the first item\n"
      ]
    },
    {
      "cell_type": "code",
      "execution_count": 14,
      "metadata": {},
      "outputs": [],
      "source": [
        "checkpoint_path = \"sam_vit_b_01ec64.pth\"\n",
        "assert os.path.isfile(checkpoint_path), f\"File {checkpoint_path} does not exist or is not a file.\"\n",
        "sam = sam_model_registry[\"vit_b\"](checkpoint=checkpoint_path)\n",
        "predictor = SamPredictor(sam)\n",
        "\n",
        "sam.train()\n",
        "\n",
        "# loss and optimizer\n",
        "criterion = torch.nn.CrossEntropyLoss()\n",
        "optimizer = torch.optim.Adam(sam.parameters(), lr=1e-4)\n",
        "\n",
        "def get_bounding_box(target):\n",
        "    bboxes = target['bbox']\n",
        "    num_boxes = len(bboxes) // 4\n",
        "    bboxes = [float(val) for val in bboxes]\n",
        "    bboxes = np.array(bboxes).reshape(num_boxes, 4)\n",
        "    return bboxes\n",
        "\n",
        "def get_segmentation_mask(target, image_size):\n",
        "    segmentation = target['segmentation']\n",
        "    \n",
        "    # Ensure segmentation is a list of lists\n",
        "    if not isinstance(segmentation, list) or not all(isinstance(poly, list) for poly in segmentation):\n",
        "        raise ValueError(f\"Invalid segmentation format: {segmentation}\")\n",
        "\n",
        "    rle = maskUtils.frPyObjects(segmentation, image_size[0], image_size[1])\n",
        "    mask = maskUtils.decode(rle)\n",
        "    if len(mask.shape) == 3:\n",
        "        mask = np.any(mask, axis=2).astype(np.uint8)\n",
        "    return torch.tensor(mask, dtype=torch.long)\n"
      ]
    },
    {
      "cell_type": "code",
      "execution_count": 15,
      "metadata": {},
      "outputs": [
        {
          "ename": "ValueError",
          "evalue": "Buffer has wrong number of dimensions (expected 1, got 2)",
          "output_type": "error",
          "traceback": [
            "\u001b[0;31m---------------------------------------------------------------------------\u001b[0m",
            "\u001b[0;31mValueError\u001b[0m                                Traceback (most recent call last)",
            "Cell \u001b[0;32mIn[15], line 25\u001b[0m\n\u001b[1;32m     23\u001b[0m \u001b[38;5;66;03m# Convert masks to tensor\u001b[39;00m\n\u001b[1;32m     24\u001b[0m masks \u001b[38;5;241m=\u001b[39m torch\u001b[38;5;241m.\u001b[39mtensor(masks, dtype\u001b[38;5;241m=\u001b[39mtorch\u001b[38;5;241m.\u001b[39mfloat32)\n\u001b[0;32m---> 25\u001b[0m target_mask \u001b[38;5;241m=\u001b[39m \u001b[43mget_segmentation_mask\u001b[49m\u001b[43m(\u001b[49m\u001b[43mtarget\u001b[49m\u001b[43m,\u001b[49m\u001b[43m \u001b[49m\u001b[43mimage\u001b[49m\u001b[38;5;241;43m.\u001b[39;49m\u001b[43mshape\u001b[49m\u001b[43m[\u001b[49m\u001b[43m:\u001b[49m\u001b[38;5;241;43m2\u001b[39;49m\u001b[43m]\u001b[49m\u001b[43m)\u001b[49m\n\u001b[1;32m     27\u001b[0m \u001b[38;5;66;03m# Ensure masks and target_mask are the same shape\u001b[39;00m\n\u001b[1;32m     28\u001b[0m \u001b[38;5;28;01mif\u001b[39;00m masks\u001b[38;5;241m.\u001b[39mshape[\u001b[38;5;241m1\u001b[39m:] \u001b[38;5;241m!=\u001b[39m target_mask\u001b[38;5;241m.\u001b[39mshape:\n",
            "Cell \u001b[0;32mIn[14], line 26\u001b[0m, in \u001b[0;36mget_segmentation_mask\u001b[0;34m(target, image_size)\u001b[0m\n\u001b[1;32m     23\u001b[0m \u001b[38;5;28;01mif\u001b[39;00m \u001b[38;5;129;01mnot\u001b[39;00m \u001b[38;5;28misinstance\u001b[39m(segmentation, \u001b[38;5;28mlist\u001b[39m) \u001b[38;5;129;01mor\u001b[39;00m \u001b[38;5;129;01mnot\u001b[39;00m \u001b[38;5;28mall\u001b[39m(\u001b[38;5;28misinstance\u001b[39m(poly, \u001b[38;5;28mlist\u001b[39m) \u001b[38;5;28;01mfor\u001b[39;00m poly \u001b[38;5;129;01min\u001b[39;00m segmentation):\n\u001b[1;32m     24\u001b[0m     \u001b[38;5;28;01mraise\u001b[39;00m \u001b[38;5;167;01mValueError\u001b[39;00m(\u001b[38;5;124mf\u001b[39m\u001b[38;5;124m\"\u001b[39m\u001b[38;5;124mInvalid segmentation format: \u001b[39m\u001b[38;5;132;01m{\u001b[39;00msegmentation\u001b[38;5;132;01m}\u001b[39;00m\u001b[38;5;124m\"\u001b[39m)\n\u001b[0;32m---> 26\u001b[0m rle \u001b[38;5;241m=\u001b[39m \u001b[43mmaskUtils\u001b[49m\u001b[38;5;241;43m.\u001b[39;49m\u001b[43mfrPyObjects\u001b[49m\u001b[43m(\u001b[49m\u001b[43msegmentation\u001b[49m\u001b[43m,\u001b[49m\u001b[43m \u001b[49m\u001b[43mimage_size\u001b[49m\u001b[43m[\u001b[49m\u001b[38;5;241;43m0\u001b[39;49m\u001b[43m]\u001b[49m\u001b[43m,\u001b[49m\u001b[43m \u001b[49m\u001b[43mimage_size\u001b[49m\u001b[43m[\u001b[49m\u001b[38;5;241;43m1\u001b[39;49m\u001b[43m]\u001b[49m\u001b[43m)\u001b[49m\n\u001b[1;32m     27\u001b[0m mask \u001b[38;5;241m=\u001b[39m maskUtils\u001b[38;5;241m.\u001b[39mdecode(rle)\n\u001b[1;32m     28\u001b[0m \u001b[38;5;28;01mif\u001b[39;00m \u001b[38;5;28mlen\u001b[39m(mask\u001b[38;5;241m.\u001b[39mshape) \u001b[38;5;241m==\u001b[39m \u001b[38;5;241m3\u001b[39m:\n",
            "File \u001b[0;32mpycocotools/_mask.pyx:297\u001b[0m, in \u001b[0;36mpycocotools._mask.frPyObjects\u001b[0;34m()\u001b[0m\n",
            "File \u001b[0;32mpycocotools/_mask.pyx:267\u001b[0m, in \u001b[0;36mpycocotools._mask.frPoly\u001b[0;34m()\u001b[0m\n",
            "\u001b[0;31mValueError\u001b[0m: Buffer has wrong number of dimensions (expected 1, got 2)"
          ]
        }
      ],
      "source": [
        "num_epochs = 1\n",
        "\n",
        "for epoch in range(num_epochs):\n",
        "    sam.train()\n",
        "    train_loss = 0\n",
        "    for images, targets in train_loader:\n",
        "        image = images[0]\n",
        "        image = F.to_pil_image(image)\n",
        "        image = np.array(image)\n",
        "\n",
        "        for target in targets:\n",
        "            bboxes = get_bounding_box(target)\n",
        "\n",
        "            for bbox in bboxes:\n",
        "                x_min, y_min, width, height = bbox\n",
        "                x_max = x_min + width\n",
        "                y_max = y_min + height\n",
        "                input_bbox = np.array([x_min, y_min, x_max, y_max])\n",
        "\n",
        "                predictor.set_image(image)\n",
        "                masks, _, _ = predictor.predict(box=input_bbox, point_coords=None, point_labels=None, multimask_output=False)\n",
        "\n",
        "                # Convert masks to tensor\n",
        "                masks = torch.tensor(masks, dtype=torch.float32)\n",
        "                target_mask = get_segmentation_mask(target, image.shape[:2])\n",
        "\n",
        "                # Ensure masks and target_mask are the same shape\n",
        "                if masks.shape[1:] != target_mask.shape:\n",
        "                    masks = F.resize(masks, target_mask.shape)\n",
        "\n",
        "                loss = criterion(masks, target_mask)\n",
        "\n",
        "                # Backpropagation and optimizing\n",
        "                optimizer.zero_grad()\n",
        "                loss.backward()\n",
        "                optimizer.step()\n",
        "\n",
        "                train_loss += loss.item()\n",
        "\n",
        "    avg_train_loss = train_loss / len(train_loader)\n",
        "    print(f\"Epoch [{epoch+1}/{num_epochs}], Train Loss: {avg_train_loss:.4f}\")\n",
        "\n",
        "    # Validation\n",
        "    sam.eval()\n",
        "    val_loss = 0\n",
        "    with torch.no_grad():\n",
        "        for images, targets in val_loader:\n",
        "            image = images[0]\n",
        "            image = F.to_pil_image(image)\n",
        "            image = np.array(image)\n",
        "\n",
        "            for target in targets:\n",
        "                bboxes = get_bounding_box(target)\n",
        "\n",
        "                for bbox in bboxes:\n",
        "                    x_min, y_min, width, height = bbox\n",
        "                    x_max = x_min + width\n",
        "                    y_max = y_min + height\n",
        "                    input_bbox = np.array([x_min, y_min, x_max, y_max])\n",
        "\n",
        "                    predictor.set_image(image)\n",
        "                    masks, _, _ = predictor.predict(box=input_bbox, point_coords=None, point_labels=None, multimask_output=False)\n",
        "\n",
        "                    # Convert masks to tensor\n",
        "                    masks = torch.tensor(masks, dtype=torch.float32)\n",
        "                    target_mask = get_segmentation_mask(target, image.shape[:2])\n",
        "\n",
        "                    # Ensure masks and target_mask are the same shape\n",
        "                    if masks.shape[1:] != target_mask.shape:\n",
        "                        masks = F.resize(masks, target_mask.shape)\n",
        "\n",
        "                    loss = criterion(masks, target_mask)\n",
        "                    val_loss += loss.item()\n",
        "\n",
        "    avg_val_loss = val_loss / len(val_loader)\n",
        "    print(f\"Epoch [{epoch+1}/{num_epochs}], Val Loss: {avg_val_loss:.4f}\")\n",
        "\n",
        "print(\"Finished Fine-tuning\")\n"
      ]
    },
    {
      "cell_type": "markdown",
      "metadata": {
        "id": "SH5wSwpVf51x"
      },
      "source": [
        "Load data into numpy arrays. Here we are importing a tiff stack containing 165 images of size 768x1024. You can use glob to import multiple images from a directory or any other method. The goal is to end up with a numpy array for images and an array for masks."
      ]
    },
    {
      "cell_type": "code",
      "execution_count": null,
      "metadata": {
        "id": "2B2KjUVkGMYM"
      },
      "outputs": [],
      "source": [
        "# Load tiff stack images and masks\n",
        "\n",
        "#165 large images as tiff image stack\n",
        "large_images = tifffile.imread(\"/content/drive/MyDrive/ColabNotebooks/data/mitochondria/full_dataset/images/mitochondria_train_01.tif\")\n",
        "large_masks = tifffile.imread(\"/content/drive/MyDrive/ColabNotebooks/data/mitochondria/full_dataset/masks/mitochondria_train_masks_01.tif\")\n"
      ]
    },
    {
      "cell_type": "code",
      "execution_count": null,
      "metadata": {
        "colab": {
          "base_uri": "https://localhost:8080/"
        },
        "id": "dwN2LFUX59TM",
        "outputId": "cdd962cc-69d8-49e6-e20f-2cc72741ce5f"
      },
      "outputs": [],
      "source": [
        "large_images.shape"
      ]
    },
    {
      "cell_type": "markdown",
      "metadata": {
        "id": "BE6O7-O4gO6X"
      },
      "source": [
        "Now. let us divide these large images into smaller patches for training. We can use patchify or write custom code."
      ]
    },
    {
      "cell_type": "code",
      "execution_count": null,
      "metadata": {
        "id": "tbENtOpbbb7q"
      },
      "outputs": [],
      "source": [
        "#Desired patch size for smaller images and step size.\n",
        "patch_size = 256\n",
        "step = 256"
      ]
    },
    {
      "cell_type": "code",
      "execution_count": null,
      "metadata": {
        "id": "6HwyzYG9KHqq"
      },
      "outputs": [],
      "source": [
        "all_img_patches = []\n",
        "for img in range(large_images.shape[0]):\n",
        "    large_image = large_images[img]\n",
        "    patches_img = patchify(large_image, (patch_size, patch_size), step=step)  #Step=256 for 256 patches means no overlap\n",
        "\n",
        "    for i in range(patches_img.shape[0]):\n",
        "        for j in range(patches_img.shape[1]):\n",
        "\n",
        "            single_patch_img = patches_img[i,j,:,:]\n",
        "            all_img_patches.append(single_patch_img)\n",
        "\n",
        "images = np.array(all_img_patches)\n",
        "\n",
        "#Let us do the same for masks\n",
        "all_mask_patches = []\n",
        "for img in range(large_masks.shape[0]):\n",
        "    large_mask = large_masks[img]\n",
        "    patches_mask = patchify(large_mask, (patch_size, patch_size), step=step)  #Step=256 for 256 patches means no overlap\n",
        "\n",
        "    for i in range(patches_mask.shape[0]):\n",
        "        for j in range(patches_mask.shape[1]):\n",
        "\n",
        "            single_patch_mask = patches_mask[i,j,:,:]\n",
        "            single_patch_mask = (single_patch_mask / 255.).astype(np.uint8)\n",
        "            all_mask_patches.append(single_patch_mask)\n",
        "\n",
        "masks = np.array(all_mask_patches)"
      ]
    },
    {
      "cell_type": "code",
      "execution_count": null,
      "metadata": {
        "colab": {
          "base_uri": "https://localhost:8080/"
        },
        "id": "C6yCILU0DvU8",
        "outputId": "dda7ef54-8811-4579-dd24-9d75ff9170bb"
      },
      "outputs": [],
      "source": [
        "images.shape"
      ]
    },
    {
      "cell_type": "markdown",
      "metadata": {
        "id": "09UD2FcbTubl"
      },
      "source": [
        "Now, let us delete empty masks as they may cause issues later on during training. If a batch contains empty masks then the loss function will throw an error as it may not know how to handle empty tensors."
      ]
    },
    {
      "cell_type": "code",
      "execution_count": null,
      "metadata": {
        "colab": {
          "base_uri": "https://localhost:8080/"
        },
        "id": "rtswt5WRSEJz",
        "outputId": "fa0dea5a-5510-4bda-ac76-a81fb6f4f270"
      },
      "outputs": [],
      "source": [
        "# Create a list to store the indices of non-empty masks\n",
        "valid_indices = [i for i, mask in enumerate(masks) if mask.max() != 0]\n",
        "# Filter the image and mask arrays to keep only the non-empty pairs\n",
        "filtered_images = images[valid_indices]\n",
        "filtered_masks = masks[valid_indices]\n",
        "print(\"Image shape:\", filtered_images.shape)  # e.g., (num_frames, height, width, num_channels)\n",
        "print(\"Mask shape:\", filtered_masks.shape)"
      ]
    },
    {
      "cell_type": "markdown",
      "metadata": {
        "id": "Pkbouhweg9cT"
      },
      "source": [
        "Let us create a 'dataset' that serves us input images and masks for the rest of our journey."
      ]
    },
    {
      "cell_type": "code",
      "execution_count": null,
      "metadata": {
        "id": "5hAoOYN2_s7l"
      },
      "outputs": [],
      "source": [
        "from datasets import Dataset\n",
        "from PIL import Image\n",
        "\n",
        "# Convert the NumPy arrays to Pillow images and store them in a dictionary\n",
        "dataset_dict = {\n",
        "    \"image\": [Image.fromarray(img) for img in filtered_images],\n",
        "    \"label\": [Image.fromarray(mask) for mask in filtered_masks],\n",
        "}\n",
        "\n",
        "# Create the dataset using the datasets.Dataset class\n",
        "dataset = Dataset.from_dict(dataset_dict)"
      ]
    },
    {
      "cell_type": "code",
      "execution_count": null,
      "metadata": {
        "colab": {
          "base_uri": "https://localhost:8080/"
        },
        "id": "fISBbWMRBfV3",
        "outputId": "efd0898c-36e4-4e5a-e6ca-66500d4f6610"
      },
      "outputs": [],
      "source": [
        "dataset"
      ]
    },
    {
      "cell_type": "markdown",
      "metadata": {
        "id": "NSPSMTIAhVWN"
      },
      "source": [
        "Let us make sure out images and masks (labels) are loading appropriately"
      ]
    },
    {
      "cell_type": "code",
      "execution_count": null,
      "metadata": {
        "colab": {
          "base_uri": "https://localhost:8080/",
          "height": 411
        },
        "id": "CAiRRfJhGmVs",
        "outputId": "bdd33e42-bb51-4f59-cbc4-e3dafe59953a"
      },
      "outputs": [],
      "source": [
        "img_num = random.randint(0, filtered_images.shape[0]-1)\n",
        "example_image = dataset[img_num][\"image\"]\n",
        "example_mask = dataset[img_num][\"label\"]\n",
        "\n",
        "fig, axes = plt.subplots(1, 2, figsize=(10, 5))\n",
        "\n",
        "# Plot the first image on the left\n",
        "axes[0].imshow(np.array(example_image), cmap='gray')  # Assuming the first image is grayscale\n",
        "axes[0].set_title(\"Image\")\n",
        "\n",
        "# Plot the second image on the right\n",
        "axes[1].imshow(example_mask, cmap='gray')  # Assuming the second image is grayscale\n",
        "axes[1].set_title(\"Mask\")\n",
        "\n",
        "# Hide axis ticks and labels\n",
        "for ax in axes:\n",
        "    ax.set_xticks([])\n",
        "    ax.set_yticks([])\n",
        "    ax.set_xticklabels([])\n",
        "    ax.set_yticklabels([])\n",
        "\n",
        "# Display the images side by side\n",
        "plt.show()"
      ]
    },
    {
      "cell_type": "markdown",
      "metadata": {
        "id": "CffHur2PhiOJ"
      },
      "source": [
        "Get bounding boxes from masks. You can get here directly if you are working with coco style annotations where bounding boxes are captured in a JSON file."
      ]
    },
    {
      "cell_type": "code",
      "execution_count": null,
      "metadata": {
        "id": "LYmrZ9hWCpKV"
      },
      "outputs": [],
      "source": [
        "#Get bounding boxes from mask.\n",
        "def get_bounding_box(ground_truth_map):\n",
        "  # get bounding box from mask\n",
        "  y_indices, x_indices = np.where(ground_truth_map > 0)\n",
        "  x_min, x_max = np.min(x_indices), np.max(x_indices)\n",
        "  y_min, y_max = np.min(y_indices), np.max(y_indices)\n",
        "  # add perturbation to bounding box coordinates\n",
        "  H, W = ground_truth_map.shape\n",
        "  x_min = max(0, x_min - np.random.randint(0, 20))\n",
        "  x_max = min(W, x_max + np.random.randint(0, 20))\n",
        "  y_min = max(0, y_min - np.random.randint(0, 20))\n",
        "  y_max = min(H, y_max + np.random.randint(0, 20))\n",
        "  bbox = [x_min, y_min, x_max, y_max]\n",
        "\n",
        "  return bbox"
      ]
    },
    {
      "cell_type": "code",
      "execution_count": null,
      "metadata": {
        "id": "dQVNaYYbDKf6"
      },
      "outputs": [],
      "source": [
        "from torch.utils.data import Dataset\n",
        "\n",
        "class SAMDataset(Dataset):\n",
        "  \"\"\"\n",
        "  This class is used to create a dataset that serves input images and masks.\n",
        "  It takes a dataset and a processor as input and overrides the __len__ and __getitem__ methods of the Dataset class.\n",
        "  \"\"\"\n",
        "  def __init__(self, dataset, processor):\n",
        "    self.dataset = dataset\n",
        "    self.processor = processor\n",
        "\n",
        "  def __len__(self):\n",
        "    return len(self.dataset)\n",
        "\n",
        "  def __getitem__(self, idx):\n",
        "    item = self.dataset[idx]\n",
        "    image = item[\"image\"]\n",
        "    ground_truth_mask = np.array(item[\"label\"])\n",
        "\n",
        "    # get bounding box prompt\n",
        "    prompt = get_bounding_box(ground_truth_mask)\n",
        "\n",
        "    # prepare image and prompt for the model\n",
        "    inputs = self.processor(image, input_boxes=[[prompt]], return_tensors=\"pt\")\n",
        "\n",
        "    # remove batch dimension which the processor adds by default\n",
        "    inputs = {k:v.squeeze(0) for k,v in inputs.items()}\n",
        "\n",
        "    # add ground truth segmentation\n",
        "    inputs[\"ground_truth_mask\"] = ground_truth_mask\n",
        "\n",
        "    return inputs"
      ]
    },
    {
      "cell_type": "code",
      "execution_count": null,
      "metadata": {
        "colab": {
          "base_uri": "https://localhost:8080/",
          "height": 49,
          "referenced_widgets": [
            "959191b121bc45e38b94e88c30fdf555",
            "caa8bf49992d49fd9f5434541d2c9aec",
            "5d54405619fc4f86b8863f9c2b23ba0f",
            "8ecd7932d6fa42e0b62608279787f49e",
            "be402d4dad8347eb93f576164522b81c",
            "c984ce7758b94e2eb5f8d68af75719b2",
            "9c7cc659690d41ffb171b59c1b08f684",
            "ee41d7dbf5cc47318e4461adab2c3aac",
            "db8e98e0e8264b7aa27bcdface298a17",
            "6ade485d62144949a2825699bc68ceb4",
            "d41546154b4049d7806224f4189f4d7c"
          ]
        },
        "id": "5IVksPItDOYg",
        "outputId": "f6014e36-0dc7-4983-d28e-d0fdc09ad245"
      },
      "outputs": [],
      "source": [
        "# Initialize the processor\n",
        "from transformers import SamProcessor\n",
        "processor = SamProcessor.from_pretrained(\"facebook/sam-vit-base\")"
      ]
    },
    {
      "cell_type": "code",
      "execution_count": null,
      "metadata": {
        "id": "aU59Asl5DQCF"
      },
      "outputs": [],
      "source": [
        "# Create an instance of the SAMDataset\n",
        "train_dataset = SAMDataset(dataset=dataset, processor=processor)"
      ]
    },
    {
      "cell_type": "code",
      "execution_count": null,
      "metadata": {
        "colab": {
          "base_uri": "https://localhost:8080/"
        },
        "id": "qMUQO3fCDTyV",
        "outputId": "4a73313a-a51b-4ab0-f824-e5d960c8aff1"
      },
      "outputs": [],
      "source": [
        "example = train_dataset[0]\n",
        "for k,v in example.items():\n",
        "  print(k,v.shape)\n"
      ]
    },
    {
      "cell_type": "code",
      "execution_count": null,
      "metadata": {
        "id": "G694dS0RDWdl"
      },
      "outputs": [],
      "source": [
        "# Create a DataLoader instance for the training dataset\n",
        "from torch.utils.data import DataLoader\n",
        "train_dataloader = DataLoader(train_dataset, batch_size=2, shuffle=True, drop_last=False)"
      ]
    },
    {
      "cell_type": "code",
      "execution_count": null,
      "metadata": {
        "colab": {
          "base_uri": "https://localhost:8080/"
        },
        "id": "oAHAY4LxDYCt",
        "outputId": "67caba6c-e8ea-4c35-a8dd-910e6e9b5edb"
      },
      "outputs": [],
      "source": [
        "batch = next(iter(train_dataloader))\n",
        "for k,v in batch.items():\n",
        "  print(k,v.shape)"
      ]
    },
    {
      "cell_type": "code",
      "execution_count": null,
      "metadata": {
        "colab": {
          "base_uri": "https://localhost:8080/"
        },
        "id": "l0G55sGADaJ3",
        "outputId": "2c90fbbc-1c49-43f5-8cdf-597ba1def065"
      },
      "outputs": [],
      "source": [
        "batch[\"ground_truth_mask\"].shape"
      ]
    },
    {
      "cell_type": "code",
      "execution_count": null,
      "metadata": {
        "colab": {
          "base_uri": "https://localhost:8080/",
          "height": 81,
          "referenced_widgets": [
            "93e482eaec584f37a2543dc14a9f8a92",
            "ff6ec0b6e4fa47108d4624ae771dea93",
            "1139ff3d65544177a81fa2b141ae791d",
            "139f11edfb3047ff80625779d41f78bb",
            "ea6a7d5f61c44b7e8f5c07e9a5740c87",
            "0f3107ddc2c34ce597d966c1464b2e2d",
            "15dff2b958f04d828861978c2592a74a",
            "eb8df011eb6146bea7b0eb30acb61270",
            "3d7f35d61fa0448aa81a2ffde37961be",
            "5f55abbba905408e8dcb85e9b36785ef",
            "feb550b167e2492fa35fa4788e603c6b",
            "4d368d534a0349c2a0a28d9ca5bc9057",
            "db4ba3b7497c4ac1a93119beda49fe79",
            "8d72da00f0154e9f93bf75178ee37b1f",
            "880f9ead62064074bbfe2a9af583868b",
            "d9cd7849d1ff4609bc9d43c6096d3474",
            "fda70db0b82f4ef2ab30e2ecb6fb9616",
            "9c70d1f1253047ca8355946eca6f9982",
            "094140fa4b0a42d59bc144177cbecfba",
            "261d0da2d0144d04a30a8cf35f142199",
            "7663f3bafcbf4b66b782c0fa51d8f7c4",
            "6d12aceba50743a49c4e4d7c62e4fa3e"
          ]
        },
        "id": "7fUTkHq3DcVV",
        "outputId": "3c84e0d0-27e7-4d24-91a5-1b2829499302"
      },
      "outputs": [],
      "source": [
        "# Load the model\n",
        "from transformers import SamModel\n",
        "model = SamModel.from_pretrained(\"facebook/sam-vit-base\")\n",
        "\n",
        "# make sure we only compute gradients for mask decoder\n",
        "for name, param in model.named_parameters():\n",
        "  if name.startswith(\"vision_encoder\") or name.startswith(\"prompt_encoder\"):\n",
        "    param.requires_grad_(False)"
      ]
    },
    {
      "cell_type": "code",
      "execution_count": null,
      "metadata": {
        "id": "NUQFybjODebi"
      },
      "outputs": [],
      "source": [
        "from torch.optim import Adam\n",
        "import monai\n",
        "# Initialize the optimizer and the loss function\n",
        "optimizer = Adam(model.mask_decoder.parameters(), lr=1e-5, weight_decay=0)\n",
        "#Try DiceFocalLoss, FocalLoss, DiceCELoss\n",
        "seg_loss = monai.losses.DiceCELoss(sigmoid=True, squared_pred=True, reduction='mean')"
      ]
    },
    {
      "cell_type": "code",
      "execution_count": null,
      "metadata": {
        "id": "XbD2PQlPDgFF"
      },
      "outputs": [],
      "source": [
        "from tqdm import tqdm\n",
        "from statistics import mean\n",
        "import torch\n",
        "from torch.nn.functional import threshold, normalize\n",
        "\n",
        "#Training loop\n",
        "num_epochs = 1\n",
        "\n",
        "device = \"cuda\" if torch.cuda.is_available() else \"cpu\"\n",
        "model.to(device)\n",
        "\n",
        "model.train()\n",
        "for epoch in range(num_epochs):\n",
        "    epoch_losses = []\n",
        "    for batch in tqdm(train_dataloader):\n",
        "      # forward pass\n",
        "      outputs = model(pixel_values=batch[\"pixel_values\"].to(device),\n",
        "                      input_boxes=batch[\"input_boxes\"].to(device),\n",
        "                      multimask_output=False)\n",
        "\n",
        "      # compute loss\n",
        "      predicted_masks = outputs.pred_masks.squeeze(1)\n",
        "      ground_truth_masks = batch[\"ground_truth_mask\"].float().to(device)\n",
        "      loss = seg_loss(predicted_masks, ground_truth_masks.unsqueeze(1))\n",
        "\n",
        "      # backward pass (compute gradients of parameters w.r.t. loss)\n",
        "      optimizer.zero_grad()\n",
        "      loss.backward()\n",
        "\n",
        "      # optimize\n",
        "      optimizer.step()\n",
        "      epoch_losses.append(loss.item())\n",
        "\n",
        "    print(f'EPOCH: {epoch}')\n",
        "    print(f'Mean loss: {mean(epoch_losses)}')"
      ]
    },
    {
      "cell_type": "code",
      "execution_count": null,
      "metadata": {
        "id": "7zm89g_tbcdN"
      },
      "outputs": [],
      "source": [
        "# Save the model's state dictionary to a file\n",
        "torch.save(model.state_dict(), \"/content/drive/MyDrive/ColabNotebooks/models/SAM/mito_model_checkpoint.pth\")"
      ]
    },
    {
      "cell_type": "markdown",
      "metadata": {
        "id": "zEcD7ScIIJlt"
      },
      "source": [
        "**Inference**"
      ]
    },
    {
      "cell_type": "code",
      "execution_count": null,
      "metadata": {
        "id": "8XrMxADfcK3F"
      },
      "outputs": [],
      "source": [
        "from transformers import SamModel, SamConfig, SamProcessor\n",
        "import torch"
      ]
    },
    {
      "cell_type": "code",
      "execution_count": null,
      "metadata": {
        "colab": {
          "base_uri": "https://localhost:8080/"
        },
        "id": "S_btfQPQcKww",
        "outputId": "d05c7d1a-5da6-4ca7-c495-a63fab0409ad"
      },
      "outputs": [],
      "source": [
        "# Load the model configuration\n",
        "model_config = SamConfig.from_pretrained(\"facebook/sam-vit-base\")\n",
        "processor = SamProcessor.from_pretrained(\"facebook/sam-vit-base\")\n",
        "\n",
        "# Create an instance of the model architecture with the loaded configuration\n",
        "my_mito_model = SamModel(config=model_config)\n",
        "#Update the model by loading the weights from saved file.\n",
        "my_mito_model.load_state_dict(torch.load(\"/content/drive/MyDrive/ColabNotebooks/models/SAM/mito_full_data_10_epochs_model_checkpoint.pth\"))"
      ]
    },
    {
      "cell_type": "code",
      "execution_count": null,
      "metadata": {
        "colab": {
          "base_uri": "https://localhost:8080/"
        },
        "id": "HCF1o3BVTVic",
        "outputId": "99f87f46-7bf1-407b-c2ee-20167206bf42"
      },
      "outputs": [],
      "source": [
        "# set the device to cuda if available, otherwise use cpu\n",
        "device = \"cuda\" if torch.cuda.is_available() else \"cpu\"\n",
        "my_mito_model.to(device)"
      ]
    },
    {
      "cell_type": "code",
      "execution_count": null,
      "metadata": {
        "colab": {
          "base_uri": "https://localhost:8080/",
          "height": 363
        },
        "id": "c5tPMMIBeBxv",
        "outputId": "31534223-5b09-437f-a666-f752b23a2b0e"
      },
      "outputs": [],
      "source": [
        "import numpy as np\n",
        "import random\n",
        "import torch\n",
        "import matplotlib.pyplot as plt\n",
        "\n",
        "# let's take a random training example\n",
        "idx = random.randint(0, filtered_images.shape[0]-1)\n",
        "\n",
        "# load image\n",
        "test_image = dataset[idx][\"image\"]\n",
        "\n",
        "# get box prompt based on ground truth segmentation map\n",
        "ground_truth_mask = np.array(dataset[idx][\"label\"])\n",
        "prompt = get_bounding_box(ground_truth_mask)\n",
        "\n",
        "# prepare image + box prompt for the model\n",
        "inputs = processor(test_image, input_boxes=[[prompt]], return_tensors=\"pt\")\n",
        "\n",
        "# Move the input tensor to the GPU if it's not already there\n",
        "inputs = {k: v.to(device) for k, v in inputs.items()}\n",
        "\n",
        "my_mito_model.eval()\n",
        "\n",
        "# forward pass\n",
        "with torch.no_grad():\n",
        "    outputs = my_mito_model(**inputs, multimask_output=False)\n",
        "\n",
        "# apply sigmoid\n",
        "medsam_seg_prob = torch.sigmoid(outputs.pred_masks.squeeze(1))\n",
        "# convert soft mask to hard mask\n",
        "medsam_seg_prob = medsam_seg_prob.cpu().numpy().squeeze()\n",
        "medsam_seg = (medsam_seg_prob > 0.5).astype(np.uint8)\n",
        "\n",
        "\n",
        "fig, axes = plt.subplots(1, 3, figsize=(15, 5))\n",
        "\n",
        "# Plot the first image on the left\n",
        "axes[0].imshow(np.array(test_image), cmap='gray')  # Assuming the first image is grayscale\n",
        "axes[0].set_title(\"Image\")\n",
        "\n",
        "# Plot the second image on the right\n",
        "axes[1].imshow(medsam_seg, cmap='gray')  # Assuming the second image is grayscale\n",
        "axes[1].set_title(\"Mask\")\n",
        "\n",
        "# Plot the second image on the right\n",
        "axes[2].imshow(medsam_seg_prob)  # Assuming the second image is grayscale\n",
        "axes[2].set_title(\"Probability Map\")\n",
        "\n",
        "# Hide axis ticks and labels\n",
        "for ax in axes:\n",
        "    ax.set_xticks([])\n",
        "    ax.set_yticks([])\n",
        "    ax.set_xticklabels([])\n",
        "    ax.set_yticklabels([])\n",
        "\n",
        "# Display the images side by side\n",
        "plt.show()\n"
      ]
    },
    {
      "cell_type": "markdown",
      "metadata": {
        "id": "IMlaxunPfP0h"
      },
      "source": [
        "Now, let us load a new image and segment it using our trained model. NOte that we need to provide some prompt. Since we do not know where the objects are going to be we cannot supply bounding boxes. So let us provide a grid of points as our prompt."
      ]
    },
    {
      "cell_type": "code",
      "execution_count": null,
      "metadata": {
        "id": "VN3AXZpTAW85"
      },
      "outputs": [],
      "source": [
        "#Apply a trained model on large image\n",
        "large_test_images = tifffile.imread(\"/content/drive/MyDrive/ColabNotebooks/data/mitochondria/small_dataset_for_training/images/12_training_mito_images.tif\")\n",
        "large_test_image = large_test_images[1]\n",
        "patches = patchify(large_test_image, (256, 256), step=256)  #Step=256 for 256 patches means no overlap\n"
      ]
    },
    {
      "cell_type": "code",
      "execution_count": null,
      "metadata": {
        "id": "LjzkvN07fiXN"
      },
      "outputs": [],
      "source": [
        "\"\"\"\n",
        "input_points (torch.FloatTensor of shape (batch_size, num_points, 2)) —\n",
        "Input 2D spatial points, this is used by the prompt encoder to encode the prompt.\n",
        "Generally yields to much better results. The points can be obtained by passing a\n",
        "list of list of list to the processor that will create corresponding torch tensors\n",
        "of dimension 4. The first dimension is the image batch size, the second dimension\n",
        "is the point batch size (i.e. how many segmentation masks do we want the model to\n",
        "predict per input point), the third dimension is the number of points per segmentation\n",
        "mask (it is possible to pass multiple points for a single mask), and the last dimension\n",
        "is the x (vertical) and y (horizontal) coordinates of the point. If a different number\n",
        "of points is passed either for each image, or for each mask, the processor will create\n",
        "“PAD” points that will correspond to the (0, 0) coordinate, and the computation of the\n",
        "embedding will be skipped for these points using the labels.\n",
        "\n",
        "\"\"\"\n",
        "# Define the size of your array\n",
        "array_size = 256\n",
        "\n",
        "# Define the size of your grid\n",
        "grid_size = 10\n",
        "\n",
        "# Generate the grid points\n",
        "x = np.linspace(0, array_size-1, grid_size)\n",
        "y = np.linspace(0, array_size-1, grid_size)\n",
        "\n",
        "# Generate a grid of coordinates\n",
        "xv, yv = np.meshgrid(x, y)\n",
        "\n",
        "# Convert the numpy arrays to lists\n",
        "xv_list = xv.tolist()\n",
        "yv_list = yv.tolist()\n",
        "\n",
        "# Combine the x and y coordinates into a list of list of lists\n",
        "input_points = [[[int(x), int(y)] for x, y in zip(x_row, y_row)] for x_row, y_row in zip(xv_list, yv_list)]\n",
        "\n",
        "#We need to reshape our nxn grid to the expected shape of the input_points tensor\n",
        "# (batch_size, point_batch_size, num_points_per_image, 2),\n",
        "# where the last dimension of 2 represents the x and y coordinates of each point.\n",
        "#batch_size: The number of images you're processing at once.\n",
        "#point_batch_size: The number of point sets you have for each image.\n",
        "#num_points_per_image: The number of points in each set.\n",
        "input_points = torch.tensor(input_points).view(1, 1, grid_size*grid_size, 2)"
      ]
    },
    {
      "cell_type": "code",
      "execution_count": null,
      "metadata": {
        "colab": {
          "base_uri": "https://localhost:8080/"
        },
        "id": "bklL6QTjfmke",
        "outputId": "60f2ba61-899b-432d-e5b6-a4422bb70d8b"
      },
      "outputs": [],
      "source": [
        "print(np.array(input_points).shape)"
      ]
    },
    {
      "cell_type": "code",
      "execution_count": null,
      "metadata": {
        "colab": {
          "base_uri": "https://localhost:8080/"
        },
        "id": "hh5IldI8fo9d",
        "outputId": "419c48d8-bd81-4b6a-b801-4a4dcdd2ccec"
      },
      "outputs": [],
      "source": [
        "patches.shape"
      ]
    },
    {
      "cell_type": "code",
      "execution_count": null,
      "metadata": {
        "colab": {
          "base_uri": "https://localhost:8080/",
          "height": 363
        },
        "id": "ge99sIzCfqqZ",
        "outputId": "d090218f-de75-471a-d354-0e5c26b87589"
      },
      "outputs": [],
      "source": [
        "# Select a random patch for segmentation\n",
        "\n",
        "# Compute the total number of 256x256 arrays\n",
        "#num_arrays = patches.shape[0] * patches.shape[1]\n",
        "# Select a random index\n",
        "#index = np.random.choice(num_arrays)\n",
        "# Compute the indices in the original array\n",
        "#i = index // patches.shape[1]\n",
        "#j = index % patches.shape[1]\n",
        "\n",
        "#Or pick a specific patch for study.\n",
        "i, j = 1, 2\n",
        "\n",
        "# Selectelected patch for segmentation\n",
        "random_array = patches[i, j]\n",
        "\n",
        "\n",
        "single_patch = Image.fromarray(random_array)\n",
        "# prepare image for the model\n",
        "\n",
        "#First try without providing any prompt (no bounding box or input_points)\n",
        "#inputs = processor(single_patch, return_tensors=\"pt\")\n",
        "#Now try with bounding boxes. Remember to uncomment.\n",
        "inputs = processor(single_patch, input_points=input_points, return_tensors=\"pt\")\n",
        "\n",
        "# Move the input tensor to the GPU if it's not already there\n",
        "inputs = {k: v.to(device) for k, v in inputs.items()}\n",
        "my_mito_model.eval()\n",
        "\n",
        "\n",
        "# forward pass\n",
        "with torch.no_grad():\n",
        "  outputs = my_mito_model(**inputs, multimask_output=False)\n",
        "\n",
        "# apply sigmoid\n",
        "single_patch_prob = torch.sigmoid(outputs.pred_masks.squeeze(1))\n",
        "# convert soft mask to hard mask\n",
        "single_patch_prob = single_patch_prob.cpu().numpy().squeeze()\n",
        "single_patch_prediction = (single_patch_prob > 0.5).astype(np.uint8)\n",
        "\n",
        "\n",
        "fig, axes = plt.subplots(1, 3, figsize=(15, 5))\n",
        "\n",
        "# Plot the first image on the left\n",
        "axes[0].imshow(np.array(single_patch), cmap='gray')  # Assuming the first image is grayscale\n",
        "axes[0].set_title(\"Image\")\n",
        "\n",
        "# Plot the second image on the right\n",
        "axes[1].imshow(single_patch_prob)  # Assuming the second image is grayscale\n",
        "axes[1].set_title(\"Probability Map\")\n",
        "\n",
        "# Plot the second image on the right\n",
        "axes[2].imshow(single_patch_prediction, cmap='gray')  # Assuming the second image is grayscale\n",
        "axes[2].set_title(\"Prediction\")\n",
        "\n",
        "# Hide axis ticks and labels\n",
        "for ax in axes:\n",
        "    ax.set_xticks([])\n",
        "    ax.set_yticks([])\n",
        "    ax.set_xticklabels([])\n",
        "    ax.set_yticklabels([])\n",
        "\n",
        "# Display the images side by side\n",
        "plt.show()"
      ]
    }
  ],
  "metadata": {
    "accelerator": "GPU",
    "colab": {
      "authorship_tag": "ABX9TyN9OzjHxQWts2l1sdeOykUE",
      "gpuType": "T4",
      "include_colab_link": true,
      "mount_file_id": "1RNJ_BNqGtTHbakzHreEd4FlSatotXurW",
      "provenance": []
    },
    "kernelspec": {
      "display_name": "Python 3",
      "name": "python3"
    },
    "language_info": {
      "codemirror_mode": {
        "name": "ipython",
        "version": 3
      },
      "file_extension": ".py",
      "mimetype": "text/x-python",
      "name": "python",
      "nbconvert_exporter": "python",
      "pygments_lexer": "ipython3",
      "version": "3.12.2"
    },
    "widgets": {
      "application/vnd.jupyter.widget-state+json": {
        "094140fa4b0a42d59bc144177cbecfba": {
          "model_module": "@jupyter-widgets/base",
          "model_module_version": "1.2.0",
          "model_name": "LayoutModel",
          "state": {
            "_model_module": "@jupyter-widgets/base",
            "_model_module_version": "1.2.0",
            "_model_name": "LayoutModel",
            "_view_count": null,
            "_view_module": "@jupyter-widgets/base",
            "_view_module_version": "1.2.0",
            "_view_name": "LayoutView",
            "align_content": null,
            "align_items": null,
            "align_self": null,
            "border": null,
            "bottom": null,
            "display": null,
            "flex": null,
            "flex_flow": null,
            "grid_area": null,
            "grid_auto_columns": null,
            "grid_auto_flow": null,
            "grid_auto_rows": null,
            "grid_column": null,
            "grid_gap": null,
            "grid_row": null,
            "grid_template_areas": null,
            "grid_template_columns": null,
            "grid_template_rows": null,
            "height": null,
            "justify_content": null,
            "justify_items": null,
            "left": null,
            "margin": null,
            "max_height": null,
            "max_width": null,
            "min_height": null,
            "min_width": null,
            "object_fit": null,
            "object_position": null,
            "order": null,
            "overflow": null,
            "overflow_x": null,
            "overflow_y": null,
            "padding": null,
            "right": null,
            "top": null,
            "visibility": null,
            "width": null
          }
        },
        "0f3107ddc2c34ce597d966c1464b2e2d": {
          "model_module": "@jupyter-widgets/base",
          "model_module_version": "1.2.0",
          "model_name": "LayoutModel",
          "state": {
            "_model_module": "@jupyter-widgets/base",
            "_model_module_version": "1.2.0",
            "_model_name": "LayoutModel",
            "_view_count": null,
            "_view_module": "@jupyter-widgets/base",
            "_view_module_version": "1.2.0",
            "_view_name": "LayoutView",
            "align_content": null,
            "align_items": null,
            "align_self": null,
            "border": null,
            "bottom": null,
            "display": null,
            "flex": null,
            "flex_flow": null,
            "grid_area": null,
            "grid_auto_columns": null,
            "grid_auto_flow": null,
            "grid_auto_rows": null,
            "grid_column": null,
            "grid_gap": null,
            "grid_row": null,
            "grid_template_areas": null,
            "grid_template_columns": null,
            "grid_template_rows": null,
            "height": null,
            "justify_content": null,
            "justify_items": null,
            "left": null,
            "margin": null,
            "max_height": null,
            "max_width": null,
            "min_height": null,
            "min_width": null,
            "object_fit": null,
            "object_position": null,
            "order": null,
            "overflow": null,
            "overflow_x": null,
            "overflow_y": null,
            "padding": null,
            "right": null,
            "top": null,
            "visibility": null,
            "width": null
          }
        },
        "1139ff3d65544177a81fa2b141ae791d": {
          "model_module": "@jupyter-widgets/controls",
          "model_module_version": "1.5.0",
          "model_name": "FloatProgressModel",
          "state": {
            "_dom_classes": [],
            "_model_module": "@jupyter-widgets/controls",
            "_model_module_version": "1.5.0",
            "_model_name": "FloatProgressModel",
            "_view_count": null,
            "_view_module": "@jupyter-widgets/controls",
            "_view_module_version": "1.5.0",
            "_view_name": "ProgressView",
            "bar_style": "success",
            "description": "",
            "description_tooltip": null,
            "layout": "IPY_MODEL_eb8df011eb6146bea7b0eb30acb61270",
            "max": 6566,
            "min": 0,
            "orientation": "horizontal",
            "style": "IPY_MODEL_3d7f35d61fa0448aa81a2ffde37961be",
            "value": 6566
          }
        },
        "139f11edfb3047ff80625779d41f78bb": {
          "model_module": "@jupyter-widgets/controls",
          "model_module_version": "1.5.0",
          "model_name": "HTMLModel",
          "state": {
            "_dom_classes": [],
            "_model_module": "@jupyter-widgets/controls",
            "_model_module_version": "1.5.0",
            "_model_name": "HTMLModel",
            "_view_count": null,
            "_view_module": "@jupyter-widgets/controls",
            "_view_module_version": "1.5.0",
            "_view_name": "HTMLView",
            "description": "",
            "description_tooltip": null,
            "layout": "IPY_MODEL_5f55abbba905408e8dcb85e9b36785ef",
            "placeholder": "​",
            "style": "IPY_MODEL_feb550b167e2492fa35fa4788e603c6b",
            "value": " 6.57k/6.57k [00:00&lt;00:00, 214kB/s]"
          }
        },
        "15dff2b958f04d828861978c2592a74a": {
          "model_module": "@jupyter-widgets/controls",
          "model_module_version": "1.5.0",
          "model_name": "DescriptionStyleModel",
          "state": {
            "_model_module": "@jupyter-widgets/controls",
            "_model_module_version": "1.5.0",
            "_model_name": "DescriptionStyleModel",
            "_view_count": null,
            "_view_module": "@jupyter-widgets/base",
            "_view_module_version": "1.2.0",
            "_view_name": "StyleView",
            "description_width": ""
          }
        },
        "261d0da2d0144d04a30a8cf35f142199": {
          "model_module": "@jupyter-widgets/controls",
          "model_module_version": "1.5.0",
          "model_name": "ProgressStyleModel",
          "state": {
            "_model_module": "@jupyter-widgets/controls",
            "_model_module_version": "1.5.0",
            "_model_name": "ProgressStyleModel",
            "_view_count": null,
            "_view_module": "@jupyter-widgets/base",
            "_view_module_version": "1.2.0",
            "_view_name": "StyleView",
            "bar_color": null,
            "description_width": ""
          }
        },
        "3d7f35d61fa0448aa81a2ffde37961be": {
          "model_module": "@jupyter-widgets/controls",
          "model_module_version": "1.5.0",
          "model_name": "ProgressStyleModel",
          "state": {
            "_model_module": "@jupyter-widgets/controls",
            "_model_module_version": "1.5.0",
            "_model_name": "ProgressStyleModel",
            "_view_count": null,
            "_view_module": "@jupyter-widgets/base",
            "_view_module_version": "1.2.0",
            "_view_name": "StyleView",
            "bar_color": null,
            "description_width": ""
          }
        },
        "4d368d534a0349c2a0a28d9ca5bc9057": {
          "model_module": "@jupyter-widgets/controls",
          "model_module_version": "1.5.0",
          "model_name": "HBoxModel",
          "state": {
            "_dom_classes": [],
            "_model_module": "@jupyter-widgets/controls",
            "_model_module_version": "1.5.0",
            "_model_name": "HBoxModel",
            "_view_count": null,
            "_view_module": "@jupyter-widgets/controls",
            "_view_module_version": "1.5.0",
            "_view_name": "HBoxView",
            "box_style": "",
            "children": [
              "IPY_MODEL_db4ba3b7497c4ac1a93119beda49fe79",
              "IPY_MODEL_8d72da00f0154e9f93bf75178ee37b1f",
              "IPY_MODEL_880f9ead62064074bbfe2a9af583868b"
            ],
            "layout": "IPY_MODEL_d9cd7849d1ff4609bc9d43c6096d3474"
          }
        },
        "5d54405619fc4f86b8863f9c2b23ba0f": {
          "model_module": "@jupyter-widgets/controls",
          "model_module_version": "1.5.0",
          "model_name": "FloatProgressModel",
          "state": {
            "_dom_classes": [],
            "_model_module": "@jupyter-widgets/controls",
            "_model_module_version": "1.5.0",
            "_model_name": "FloatProgressModel",
            "_view_count": null,
            "_view_module": "@jupyter-widgets/controls",
            "_view_module_version": "1.5.0",
            "_view_name": "ProgressView",
            "bar_style": "success",
            "description": "",
            "description_tooltip": null,
            "layout": "IPY_MODEL_ee41d7dbf5cc47318e4461adab2c3aac",
            "max": 466,
            "min": 0,
            "orientation": "horizontal",
            "style": "IPY_MODEL_db8e98e0e8264b7aa27bcdface298a17",
            "value": 466
          }
        },
        "5f55abbba905408e8dcb85e9b36785ef": {
          "model_module": "@jupyter-widgets/base",
          "model_module_version": "1.2.0",
          "model_name": "LayoutModel",
          "state": {
            "_model_module": "@jupyter-widgets/base",
            "_model_module_version": "1.2.0",
            "_model_name": "LayoutModel",
            "_view_count": null,
            "_view_module": "@jupyter-widgets/base",
            "_view_module_version": "1.2.0",
            "_view_name": "LayoutView",
            "align_content": null,
            "align_items": null,
            "align_self": null,
            "border": null,
            "bottom": null,
            "display": null,
            "flex": null,
            "flex_flow": null,
            "grid_area": null,
            "grid_auto_columns": null,
            "grid_auto_flow": null,
            "grid_auto_rows": null,
            "grid_column": null,
            "grid_gap": null,
            "grid_row": null,
            "grid_template_areas": null,
            "grid_template_columns": null,
            "grid_template_rows": null,
            "height": null,
            "justify_content": null,
            "justify_items": null,
            "left": null,
            "margin": null,
            "max_height": null,
            "max_width": null,
            "min_height": null,
            "min_width": null,
            "object_fit": null,
            "object_position": null,
            "order": null,
            "overflow": null,
            "overflow_x": null,
            "overflow_y": null,
            "padding": null,
            "right": null,
            "top": null,
            "visibility": null,
            "width": null
          }
        },
        "6ade485d62144949a2825699bc68ceb4": {
          "model_module": "@jupyter-widgets/base",
          "model_module_version": "1.2.0",
          "model_name": "LayoutModel",
          "state": {
            "_model_module": "@jupyter-widgets/base",
            "_model_module_version": "1.2.0",
            "_model_name": "LayoutModel",
            "_view_count": null,
            "_view_module": "@jupyter-widgets/base",
            "_view_module_version": "1.2.0",
            "_view_name": "LayoutView",
            "align_content": null,
            "align_items": null,
            "align_self": null,
            "border": null,
            "bottom": null,
            "display": null,
            "flex": null,
            "flex_flow": null,
            "grid_area": null,
            "grid_auto_columns": null,
            "grid_auto_flow": null,
            "grid_auto_rows": null,
            "grid_column": null,
            "grid_gap": null,
            "grid_row": null,
            "grid_template_areas": null,
            "grid_template_columns": null,
            "grid_template_rows": null,
            "height": null,
            "justify_content": null,
            "justify_items": null,
            "left": null,
            "margin": null,
            "max_height": null,
            "max_width": null,
            "min_height": null,
            "min_width": null,
            "object_fit": null,
            "object_position": null,
            "order": null,
            "overflow": null,
            "overflow_x": null,
            "overflow_y": null,
            "padding": null,
            "right": null,
            "top": null,
            "visibility": null,
            "width": null
          }
        },
        "6d12aceba50743a49c4e4d7c62e4fa3e": {
          "model_module": "@jupyter-widgets/controls",
          "model_module_version": "1.5.0",
          "model_name": "DescriptionStyleModel",
          "state": {
            "_model_module": "@jupyter-widgets/controls",
            "_model_module_version": "1.5.0",
            "_model_name": "DescriptionStyleModel",
            "_view_count": null,
            "_view_module": "@jupyter-widgets/base",
            "_view_module_version": "1.2.0",
            "_view_name": "StyleView",
            "description_width": ""
          }
        },
        "7663f3bafcbf4b66b782c0fa51d8f7c4": {
          "model_module": "@jupyter-widgets/base",
          "model_module_version": "1.2.0",
          "model_name": "LayoutModel",
          "state": {
            "_model_module": "@jupyter-widgets/base",
            "_model_module_version": "1.2.0",
            "_model_name": "LayoutModel",
            "_view_count": null,
            "_view_module": "@jupyter-widgets/base",
            "_view_module_version": "1.2.0",
            "_view_name": "LayoutView",
            "align_content": null,
            "align_items": null,
            "align_self": null,
            "border": null,
            "bottom": null,
            "display": null,
            "flex": null,
            "flex_flow": null,
            "grid_area": null,
            "grid_auto_columns": null,
            "grid_auto_flow": null,
            "grid_auto_rows": null,
            "grid_column": null,
            "grid_gap": null,
            "grid_row": null,
            "grid_template_areas": null,
            "grid_template_columns": null,
            "grid_template_rows": null,
            "height": null,
            "justify_content": null,
            "justify_items": null,
            "left": null,
            "margin": null,
            "max_height": null,
            "max_width": null,
            "min_height": null,
            "min_width": null,
            "object_fit": null,
            "object_position": null,
            "order": null,
            "overflow": null,
            "overflow_x": null,
            "overflow_y": null,
            "padding": null,
            "right": null,
            "top": null,
            "visibility": null,
            "width": null
          }
        },
        "880f9ead62064074bbfe2a9af583868b": {
          "model_module": "@jupyter-widgets/controls",
          "model_module_version": "1.5.0",
          "model_name": "HTMLModel",
          "state": {
            "_dom_classes": [],
            "_model_module": "@jupyter-widgets/controls",
            "_model_module_version": "1.5.0",
            "_model_name": "HTMLModel",
            "_view_count": null,
            "_view_module": "@jupyter-widgets/controls",
            "_view_module_version": "1.5.0",
            "_view_name": "HTMLView",
            "description": "",
            "description_tooltip": null,
            "layout": "IPY_MODEL_7663f3bafcbf4b66b782c0fa51d8f7c4",
            "placeholder": "​",
            "style": "IPY_MODEL_6d12aceba50743a49c4e4d7c62e4fa3e",
            "value": " 375M/375M [00:04&lt;00:00, 95.4MB/s]"
          }
        },
        "8d72da00f0154e9f93bf75178ee37b1f": {
          "model_module": "@jupyter-widgets/controls",
          "model_module_version": "1.5.0",
          "model_name": "FloatProgressModel",
          "state": {
            "_dom_classes": [],
            "_model_module": "@jupyter-widgets/controls",
            "_model_module_version": "1.5.0",
            "_model_name": "FloatProgressModel",
            "_view_count": null,
            "_view_module": "@jupyter-widgets/controls",
            "_view_module_version": "1.5.0",
            "_view_name": "ProgressView",
            "bar_style": "success",
            "description": "",
            "description_tooltip": null,
            "layout": "IPY_MODEL_094140fa4b0a42d59bc144177cbecfba",
            "max": 375050165,
            "min": 0,
            "orientation": "horizontal",
            "style": "IPY_MODEL_261d0da2d0144d04a30a8cf35f142199",
            "value": 375050165
          }
        },
        "8ecd7932d6fa42e0b62608279787f49e": {
          "model_module": "@jupyter-widgets/controls",
          "model_module_version": "1.5.0",
          "model_name": "HTMLModel",
          "state": {
            "_dom_classes": [],
            "_model_module": "@jupyter-widgets/controls",
            "_model_module_version": "1.5.0",
            "_model_name": "HTMLModel",
            "_view_count": null,
            "_view_module": "@jupyter-widgets/controls",
            "_view_module_version": "1.5.0",
            "_view_name": "HTMLView",
            "description": "",
            "description_tooltip": null,
            "layout": "IPY_MODEL_6ade485d62144949a2825699bc68ceb4",
            "placeholder": "​",
            "style": "IPY_MODEL_d41546154b4049d7806224f4189f4d7c",
            "value": " 466/466 [00:00&lt;00:00, 22.6kB/s]"
          }
        },
        "93e482eaec584f37a2543dc14a9f8a92": {
          "model_module": "@jupyter-widgets/controls",
          "model_module_version": "1.5.0",
          "model_name": "HBoxModel",
          "state": {
            "_dom_classes": [],
            "_model_module": "@jupyter-widgets/controls",
            "_model_module_version": "1.5.0",
            "_model_name": "HBoxModel",
            "_view_count": null,
            "_view_module": "@jupyter-widgets/controls",
            "_view_module_version": "1.5.0",
            "_view_name": "HBoxView",
            "box_style": "",
            "children": [
              "IPY_MODEL_ff6ec0b6e4fa47108d4624ae771dea93",
              "IPY_MODEL_1139ff3d65544177a81fa2b141ae791d",
              "IPY_MODEL_139f11edfb3047ff80625779d41f78bb"
            ],
            "layout": "IPY_MODEL_ea6a7d5f61c44b7e8f5c07e9a5740c87"
          }
        },
        "959191b121bc45e38b94e88c30fdf555": {
          "model_module": "@jupyter-widgets/controls",
          "model_module_version": "1.5.0",
          "model_name": "HBoxModel",
          "state": {
            "_dom_classes": [],
            "_model_module": "@jupyter-widgets/controls",
            "_model_module_version": "1.5.0",
            "_model_name": "HBoxModel",
            "_view_count": null,
            "_view_module": "@jupyter-widgets/controls",
            "_view_module_version": "1.5.0",
            "_view_name": "HBoxView",
            "box_style": "",
            "children": [
              "IPY_MODEL_caa8bf49992d49fd9f5434541d2c9aec",
              "IPY_MODEL_5d54405619fc4f86b8863f9c2b23ba0f",
              "IPY_MODEL_8ecd7932d6fa42e0b62608279787f49e"
            ],
            "layout": "IPY_MODEL_be402d4dad8347eb93f576164522b81c"
          }
        },
        "9c70d1f1253047ca8355946eca6f9982": {
          "model_module": "@jupyter-widgets/controls",
          "model_module_version": "1.5.0",
          "model_name": "DescriptionStyleModel",
          "state": {
            "_model_module": "@jupyter-widgets/controls",
            "_model_module_version": "1.5.0",
            "_model_name": "DescriptionStyleModel",
            "_view_count": null,
            "_view_module": "@jupyter-widgets/base",
            "_view_module_version": "1.2.0",
            "_view_name": "StyleView",
            "description_width": ""
          }
        },
        "9c7cc659690d41ffb171b59c1b08f684": {
          "model_module": "@jupyter-widgets/controls",
          "model_module_version": "1.5.0",
          "model_name": "DescriptionStyleModel",
          "state": {
            "_model_module": "@jupyter-widgets/controls",
            "_model_module_version": "1.5.0",
            "_model_name": "DescriptionStyleModel",
            "_view_count": null,
            "_view_module": "@jupyter-widgets/base",
            "_view_module_version": "1.2.0",
            "_view_name": "StyleView",
            "description_width": ""
          }
        },
        "be402d4dad8347eb93f576164522b81c": {
          "model_module": "@jupyter-widgets/base",
          "model_module_version": "1.2.0",
          "model_name": "LayoutModel",
          "state": {
            "_model_module": "@jupyter-widgets/base",
            "_model_module_version": "1.2.0",
            "_model_name": "LayoutModel",
            "_view_count": null,
            "_view_module": "@jupyter-widgets/base",
            "_view_module_version": "1.2.0",
            "_view_name": "LayoutView",
            "align_content": null,
            "align_items": null,
            "align_self": null,
            "border": null,
            "bottom": null,
            "display": null,
            "flex": null,
            "flex_flow": null,
            "grid_area": null,
            "grid_auto_columns": null,
            "grid_auto_flow": null,
            "grid_auto_rows": null,
            "grid_column": null,
            "grid_gap": null,
            "grid_row": null,
            "grid_template_areas": null,
            "grid_template_columns": null,
            "grid_template_rows": null,
            "height": null,
            "justify_content": null,
            "justify_items": null,
            "left": null,
            "margin": null,
            "max_height": null,
            "max_width": null,
            "min_height": null,
            "min_width": null,
            "object_fit": null,
            "object_position": null,
            "order": null,
            "overflow": null,
            "overflow_x": null,
            "overflow_y": null,
            "padding": null,
            "right": null,
            "top": null,
            "visibility": null,
            "width": null
          }
        },
        "c984ce7758b94e2eb5f8d68af75719b2": {
          "model_module": "@jupyter-widgets/base",
          "model_module_version": "1.2.0",
          "model_name": "LayoutModel",
          "state": {
            "_model_module": "@jupyter-widgets/base",
            "_model_module_version": "1.2.0",
            "_model_name": "LayoutModel",
            "_view_count": null,
            "_view_module": "@jupyter-widgets/base",
            "_view_module_version": "1.2.0",
            "_view_name": "LayoutView",
            "align_content": null,
            "align_items": null,
            "align_self": null,
            "border": null,
            "bottom": null,
            "display": null,
            "flex": null,
            "flex_flow": null,
            "grid_area": null,
            "grid_auto_columns": null,
            "grid_auto_flow": null,
            "grid_auto_rows": null,
            "grid_column": null,
            "grid_gap": null,
            "grid_row": null,
            "grid_template_areas": null,
            "grid_template_columns": null,
            "grid_template_rows": null,
            "height": null,
            "justify_content": null,
            "justify_items": null,
            "left": null,
            "margin": null,
            "max_height": null,
            "max_width": null,
            "min_height": null,
            "min_width": null,
            "object_fit": null,
            "object_position": null,
            "order": null,
            "overflow": null,
            "overflow_x": null,
            "overflow_y": null,
            "padding": null,
            "right": null,
            "top": null,
            "visibility": null,
            "width": null
          }
        },
        "caa8bf49992d49fd9f5434541d2c9aec": {
          "model_module": "@jupyter-widgets/controls",
          "model_module_version": "1.5.0",
          "model_name": "HTMLModel",
          "state": {
            "_dom_classes": [],
            "_model_module": "@jupyter-widgets/controls",
            "_model_module_version": "1.5.0",
            "_model_name": "HTMLModel",
            "_view_count": null,
            "_view_module": "@jupyter-widgets/controls",
            "_view_module_version": "1.5.0",
            "_view_name": "HTMLView",
            "description": "",
            "description_tooltip": null,
            "layout": "IPY_MODEL_c984ce7758b94e2eb5f8d68af75719b2",
            "placeholder": "​",
            "style": "IPY_MODEL_9c7cc659690d41ffb171b59c1b08f684",
            "value": "Downloading (…)rocessor_config.json: 100%"
          }
        },
        "d41546154b4049d7806224f4189f4d7c": {
          "model_module": "@jupyter-widgets/controls",
          "model_module_version": "1.5.0",
          "model_name": "DescriptionStyleModel",
          "state": {
            "_model_module": "@jupyter-widgets/controls",
            "_model_module_version": "1.5.0",
            "_model_name": "DescriptionStyleModel",
            "_view_count": null,
            "_view_module": "@jupyter-widgets/base",
            "_view_module_version": "1.2.0",
            "_view_name": "StyleView",
            "description_width": ""
          }
        },
        "d9cd7849d1ff4609bc9d43c6096d3474": {
          "model_module": "@jupyter-widgets/base",
          "model_module_version": "1.2.0",
          "model_name": "LayoutModel",
          "state": {
            "_model_module": "@jupyter-widgets/base",
            "_model_module_version": "1.2.0",
            "_model_name": "LayoutModel",
            "_view_count": null,
            "_view_module": "@jupyter-widgets/base",
            "_view_module_version": "1.2.0",
            "_view_name": "LayoutView",
            "align_content": null,
            "align_items": null,
            "align_self": null,
            "border": null,
            "bottom": null,
            "display": null,
            "flex": null,
            "flex_flow": null,
            "grid_area": null,
            "grid_auto_columns": null,
            "grid_auto_flow": null,
            "grid_auto_rows": null,
            "grid_column": null,
            "grid_gap": null,
            "grid_row": null,
            "grid_template_areas": null,
            "grid_template_columns": null,
            "grid_template_rows": null,
            "height": null,
            "justify_content": null,
            "justify_items": null,
            "left": null,
            "margin": null,
            "max_height": null,
            "max_width": null,
            "min_height": null,
            "min_width": null,
            "object_fit": null,
            "object_position": null,
            "order": null,
            "overflow": null,
            "overflow_x": null,
            "overflow_y": null,
            "padding": null,
            "right": null,
            "top": null,
            "visibility": null,
            "width": null
          }
        },
        "db4ba3b7497c4ac1a93119beda49fe79": {
          "model_module": "@jupyter-widgets/controls",
          "model_module_version": "1.5.0",
          "model_name": "HTMLModel",
          "state": {
            "_dom_classes": [],
            "_model_module": "@jupyter-widgets/controls",
            "_model_module_version": "1.5.0",
            "_model_name": "HTMLModel",
            "_view_count": null,
            "_view_module": "@jupyter-widgets/controls",
            "_view_module_version": "1.5.0",
            "_view_name": "HTMLView",
            "description": "",
            "description_tooltip": null,
            "layout": "IPY_MODEL_fda70db0b82f4ef2ab30e2ecb6fb9616",
            "placeholder": "​",
            "style": "IPY_MODEL_9c70d1f1253047ca8355946eca6f9982",
            "value": "Downloading pytorch_model.bin: 100%"
          }
        },
        "db8e98e0e8264b7aa27bcdface298a17": {
          "model_module": "@jupyter-widgets/controls",
          "model_module_version": "1.5.0",
          "model_name": "ProgressStyleModel",
          "state": {
            "_model_module": "@jupyter-widgets/controls",
            "_model_module_version": "1.5.0",
            "_model_name": "ProgressStyleModel",
            "_view_count": null,
            "_view_module": "@jupyter-widgets/base",
            "_view_module_version": "1.2.0",
            "_view_name": "StyleView",
            "bar_color": null,
            "description_width": ""
          }
        },
        "ea6a7d5f61c44b7e8f5c07e9a5740c87": {
          "model_module": "@jupyter-widgets/base",
          "model_module_version": "1.2.0",
          "model_name": "LayoutModel",
          "state": {
            "_model_module": "@jupyter-widgets/base",
            "_model_module_version": "1.2.0",
            "_model_name": "LayoutModel",
            "_view_count": null,
            "_view_module": "@jupyter-widgets/base",
            "_view_module_version": "1.2.0",
            "_view_name": "LayoutView",
            "align_content": null,
            "align_items": null,
            "align_self": null,
            "border": null,
            "bottom": null,
            "display": null,
            "flex": null,
            "flex_flow": null,
            "grid_area": null,
            "grid_auto_columns": null,
            "grid_auto_flow": null,
            "grid_auto_rows": null,
            "grid_column": null,
            "grid_gap": null,
            "grid_row": null,
            "grid_template_areas": null,
            "grid_template_columns": null,
            "grid_template_rows": null,
            "height": null,
            "justify_content": null,
            "justify_items": null,
            "left": null,
            "margin": null,
            "max_height": null,
            "max_width": null,
            "min_height": null,
            "min_width": null,
            "object_fit": null,
            "object_position": null,
            "order": null,
            "overflow": null,
            "overflow_x": null,
            "overflow_y": null,
            "padding": null,
            "right": null,
            "top": null,
            "visibility": null,
            "width": null
          }
        },
        "eb8df011eb6146bea7b0eb30acb61270": {
          "model_module": "@jupyter-widgets/base",
          "model_module_version": "1.2.0",
          "model_name": "LayoutModel",
          "state": {
            "_model_module": "@jupyter-widgets/base",
            "_model_module_version": "1.2.0",
            "_model_name": "LayoutModel",
            "_view_count": null,
            "_view_module": "@jupyter-widgets/base",
            "_view_module_version": "1.2.0",
            "_view_name": "LayoutView",
            "align_content": null,
            "align_items": null,
            "align_self": null,
            "border": null,
            "bottom": null,
            "display": null,
            "flex": null,
            "flex_flow": null,
            "grid_area": null,
            "grid_auto_columns": null,
            "grid_auto_flow": null,
            "grid_auto_rows": null,
            "grid_column": null,
            "grid_gap": null,
            "grid_row": null,
            "grid_template_areas": null,
            "grid_template_columns": null,
            "grid_template_rows": null,
            "height": null,
            "justify_content": null,
            "justify_items": null,
            "left": null,
            "margin": null,
            "max_height": null,
            "max_width": null,
            "min_height": null,
            "min_width": null,
            "object_fit": null,
            "object_position": null,
            "order": null,
            "overflow": null,
            "overflow_x": null,
            "overflow_y": null,
            "padding": null,
            "right": null,
            "top": null,
            "visibility": null,
            "width": null
          }
        },
        "ee41d7dbf5cc47318e4461adab2c3aac": {
          "model_module": "@jupyter-widgets/base",
          "model_module_version": "1.2.0",
          "model_name": "LayoutModel",
          "state": {
            "_model_module": "@jupyter-widgets/base",
            "_model_module_version": "1.2.0",
            "_model_name": "LayoutModel",
            "_view_count": null,
            "_view_module": "@jupyter-widgets/base",
            "_view_module_version": "1.2.0",
            "_view_name": "LayoutView",
            "align_content": null,
            "align_items": null,
            "align_self": null,
            "border": null,
            "bottom": null,
            "display": null,
            "flex": null,
            "flex_flow": null,
            "grid_area": null,
            "grid_auto_columns": null,
            "grid_auto_flow": null,
            "grid_auto_rows": null,
            "grid_column": null,
            "grid_gap": null,
            "grid_row": null,
            "grid_template_areas": null,
            "grid_template_columns": null,
            "grid_template_rows": null,
            "height": null,
            "justify_content": null,
            "justify_items": null,
            "left": null,
            "margin": null,
            "max_height": null,
            "max_width": null,
            "min_height": null,
            "min_width": null,
            "object_fit": null,
            "object_position": null,
            "order": null,
            "overflow": null,
            "overflow_x": null,
            "overflow_y": null,
            "padding": null,
            "right": null,
            "top": null,
            "visibility": null,
            "width": null
          }
        },
        "fda70db0b82f4ef2ab30e2ecb6fb9616": {
          "model_module": "@jupyter-widgets/base",
          "model_module_version": "1.2.0",
          "model_name": "LayoutModel",
          "state": {
            "_model_module": "@jupyter-widgets/base",
            "_model_module_version": "1.2.0",
            "_model_name": "LayoutModel",
            "_view_count": null,
            "_view_module": "@jupyter-widgets/base",
            "_view_module_version": "1.2.0",
            "_view_name": "LayoutView",
            "align_content": null,
            "align_items": null,
            "align_self": null,
            "border": null,
            "bottom": null,
            "display": null,
            "flex": null,
            "flex_flow": null,
            "grid_area": null,
            "grid_auto_columns": null,
            "grid_auto_flow": null,
            "grid_auto_rows": null,
            "grid_column": null,
            "grid_gap": null,
            "grid_row": null,
            "grid_template_areas": null,
            "grid_template_columns": null,
            "grid_template_rows": null,
            "height": null,
            "justify_content": null,
            "justify_items": null,
            "left": null,
            "margin": null,
            "max_height": null,
            "max_width": null,
            "min_height": null,
            "min_width": null,
            "object_fit": null,
            "object_position": null,
            "order": null,
            "overflow": null,
            "overflow_x": null,
            "overflow_y": null,
            "padding": null,
            "right": null,
            "top": null,
            "visibility": null,
            "width": null
          }
        },
        "feb550b167e2492fa35fa4788e603c6b": {
          "model_module": "@jupyter-widgets/controls",
          "model_module_version": "1.5.0",
          "model_name": "DescriptionStyleModel",
          "state": {
            "_model_module": "@jupyter-widgets/controls",
            "_model_module_version": "1.5.0",
            "_model_name": "DescriptionStyleModel",
            "_view_count": null,
            "_view_module": "@jupyter-widgets/base",
            "_view_module_version": "1.2.0",
            "_view_name": "StyleView",
            "description_width": ""
          }
        },
        "ff6ec0b6e4fa47108d4624ae771dea93": {
          "model_module": "@jupyter-widgets/controls",
          "model_module_version": "1.5.0",
          "model_name": "HTMLModel",
          "state": {
            "_dom_classes": [],
            "_model_module": "@jupyter-widgets/controls",
            "_model_module_version": "1.5.0",
            "_model_name": "HTMLModel",
            "_view_count": null,
            "_view_module": "@jupyter-widgets/controls",
            "_view_module_version": "1.5.0",
            "_view_name": "HTMLView",
            "description": "",
            "description_tooltip": null,
            "layout": "IPY_MODEL_0f3107ddc2c34ce597d966c1464b2e2d",
            "placeholder": "​",
            "style": "IPY_MODEL_15dff2b958f04d828861978c2592a74a",
            "value": "Downloading (…)lve/main/config.json: 100%"
          }
        }
      }
    }
  },
  "nbformat": 4,
  "nbformat_minor": 0
}

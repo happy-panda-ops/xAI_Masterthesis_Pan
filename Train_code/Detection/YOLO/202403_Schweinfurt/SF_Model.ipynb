{
 "cells": [
  {
   "cell_type": "markdown",
   "metadata": {},
   "source": [
    "# 1 Processing"
   ]
  },
  {
   "cell_type": "code",
   "execution_count": null,
   "metadata": {},
   "outputs": [],
   "source": [
    "import os\n",
    "HOME = os.getcwd()\n",
    "print(HOME)\n",
    "\n",
    "os.environ['KMP_DUPLICATE_LIB_OK']='TRUE'"
   ]
  },
  {
   "cell_type": "code",
   "execution_count": null,
   "metadata": {},
   "outputs": [],
   "source": [
    "#clearml mac\n",
    "# %env CLEARML_WEB_HOST=https://app.clear.ml\n",
    "# %env CLEARML_API_HOST=https://api.clear.ml\n",
    "# %env CLEARML_FILES_HOST=https://files.clear.ml\n",
    "# %env CLEARML_API_ACCESS_KEY=QO1VBBX9J2S2VYILQTGI\n",
    "# %env CLEARML_API_SECRET_KEY=ERuc1S6o5SirQGugvYXDFjH9b9aNi0u8S3rpALzXMa8YPSLDMW\n",
    "\n",
    "# clearml win\n",
    "%env CLEARML_WEB_HOST=https://app.clear.ml\n",
    "%env CLEARML_API_HOST=https://api.clear.ml\n",
    "%env CLEARML_FILES_HOST=https://files.clear.ml\n",
    "%env CLEARML_API_ACCESS_KEY=Z4YDBU13VPOFHBHF8667\n",
    "%env CLEARML_API_SECRET_KEY=JMzvRXn76AT83WuFJfS0FBGCY8c5TccbH5XboTYztrWqwzDdyn"
   ]
  },
  {
   "cell_type": "code",
   "execution_count": null,
   "metadata": {},
   "outputs": [],
   "source": [
    "# Pip install method (recommended)\n",
    "\n",
    "!pip install ultralytics\n",
    "\n",
    "from IPython import display\n",
    "display.clear_output()\n",
    "\n",
    "import ultralytics\n",
    "ultralytics.checks()"
   ]
  },
  {
   "cell_type": "code",
   "execution_count": null,
   "metadata": {},
   "outputs": [],
   "source": [
    "# read config file\n",
    "import yaml\n",
    "\n",
    "def load_config(config_file):\n",
    "    with open(config_file, 'r') as f:\n",
    "        config = yaml.safe_load(f)\n",
    "    return config\n",
    "\n",
    "config = load_config('SF_config_7.yaml')\n",
    "\n",
    "print(config)\n",
    "\n",
    "# project\n",
    "project = config['project']\n",
    "name = config['name']\n",
    "exist_ok = config['exist_ok']\n",
    "\n",
    "# dataset\n",
    "# data = config['data_mac']\n",
    "data = config['data_win']\n",
    "test_data = config['test_data']\n",
    "imgsz = config['imgsz']\n",
    "\n",
    "# model\n",
    "model = config['model']\n",
    "task = config['task']\n",
    "mode = config['mode']\n",
    "# device = config['device_mac']\n",
    "device = config['device_win']\n",
    "\n",
    "# Training parameters\n",
    "epochs = config['epochs']\n",
    "batch = config['batch']\n",
    "lr0 = config['lr0']\n",
    "cos_lr = config['cos_lr']\n",
    "weight_decay = config['weight_decay']\n",
    "dropout = config['dropout']\n",
    "optimizer = config['optimizer']\n",
    "momentum = config['momentum']\n",
    "seed = config['seed']\n",
    "\n",
    "# Output configuration\n",
    "# save = config['save']\n",
    "# save_period = config['save_period']\n",
    "plots = config['plots']\n",
    "test_output = config['test_output']\n"
   ]
  },
  {
   "cell_type": "code",
   "execution_count": null,
   "metadata": {},
   "outputs": [],
   "source": [
    "from clearml import Task\n",
    "\n",
    "#Clear ML Initialization\n",
    "cl_task = Task.init(project_name=project,task_name=name)\n",
    "logger = cl_task.get_logger()"
   ]
  },
  {
   "cell_type": "markdown",
   "metadata": {},
   "source": [
    "# 2 Training"
   ]
  },
  {
   "cell_type": "code",
   "execution_count": null,
   "metadata": {},
   "outputs": [],
   "source": [
    "from ultralytics import YOLO\n",
    "\n",
    "model = YOLO(model)\n",
    "\n",
    "results = model.train(project=project, name=name, exist_ok=exist_ok, data=data, imgsz=imgsz, task=task, device=device, epochs=epochs, batch=batch, lr0=lr0, cos_lr=cos_lr, weight_decay=weight_decay, dropout=dropout, optimizer=optimizer, momentum=momentum, seed=seed, plots=plots)\n",
    "\n",
    "cl_task.close()"
   ]
  },
  {
   "cell_type": "markdown",
   "metadata": {},
   "source": [
    "# 3 testing"
   ]
  },
  {
   "cell_type": "markdown",
   "metadata": {},
   "source": [
    "## 3.1 path"
   ]
  },
  {
   "cell_type": "code",
   "execution_count": 7,
   "metadata": {},
   "outputs": [],
   "source": [
    "from ultralytics import YOLO\n",
    "import cv2\n",
    "import os\n",
    "\n",
    "model_path = \"/Users/holmes/Documents/UNI-Bamberg/4.Semester_MA/Masterthesis/xAI_Masterthesis_Pan/Code/Detection/YOLO/202403_Schweinfurt/Uni-Wood/Schweinfurt-Yolo-Aug-Test-5/weights/best.pt\"\n",
    "\n",
    "image_folder = \"/Users/holmes/Desktop/probe\"\n",
    "\n",
    "test_data= \"/Users/holmes/Desktop/probe/warped_image.png\"\n",
    "\n",
    "save_path = \"/Users/holmes/Desktop/probe\"\n",
    "\n"
   ]
  },
  {
   "cell_type": "markdown",
   "metadata": {},
   "source": [
    "## 3.2 resize"
   ]
  },
  {
   "cell_type": "code",
   "execution_count": 8,
   "metadata": {},
   "outputs": [],
   "source": [
    "# Resize images\n",
    "resized_image_folder = os.path.join(image_folder, \"resized\")\n",
    "os.makedirs(resized_image_folder, exist_ok=True)\n",
    "\n",
    "for file in os.listdir(image_folder):\n",
    "    if file.endswith(('.jpg', '.JPG', '.jpeg', '.png', '.bmp')):\n",
    "        img_path = os.path.join(image_folder, file)\n",
    "        img = cv2.imread(img_path)\n",
    "        img_resized = cv2.resize(img, (640, 640))\n",
    "        resized_img_path = os.path.join(resized_image_folder, os.path.splitext(file)[0] + \"_resize\" + os.path.splitext(file)[1])\n",
    "        cv2.imwrite(resized_img_path, img_resized)\n",
    "image_folder = resized_image_folder\n"
   ]
  },
  {
   "cell_type": "markdown",
   "metadata": {},
   "source": []
  },
  {
   "cell_type": "markdown",
   "metadata": {},
   "source": [
    "## 3.3 test"
   ]
  },
  {
   "cell_type": "markdown",
   "metadata": {},
   "source": []
  },
  {
   "cell_type": "code",
   "execution_count": 2,
   "metadata": {},
   "outputs": [
    {
     "name": "stdout",
     "output_type": "stream",
     "text": [
      "\n",
      "image 1/1 /Users/holmes/Desktop/probe/warped_image.png: 640x640 (no detections), 394.4ms\n",
      "Speed: 3.6ms preprocess, 394.4ms inference, 0.3ms postprocess per image at shape (1, 3, 640, 640)\n",
      "Image saved: /Users/holmes/Desktop/probe/1_warped_image.png\n"
     ]
    }
   ],
   "source": [
    "model = YOLO(model_path)\n",
    "\n",
    "if not os.path.exists(save_path):\n",
    "    os.makedirs(save_path)\n",
    "\n",
    "image_files = [os.path.join(image_folder, file) for file in os.listdir(image_folder) if file.endswith(('.jpg', '.jpeg', '.JPG', '.png', '.bmp'))]\n",
    "\n",
    "# 处理每张图片\n",
    "for img_path in image_files:\n",
    "    results = model(img_path)\n",
    "    img = cv2.imread(img_path)\n",
    "\n",
    "    for result in results:\n",
    "        boxes = result.boxes.cpu().numpy()\n",
    "        for box in boxes:\n",
    "            # 获取预测信息\n",
    "            confidence = box.conf[0]\n",
    "            if confidence > 0.4:\n",
    "                xyxy = box.xyxy[0].astype(int)\n",
    "                confidence_text = f\"{confidence:.2f}\"\n",
    "\n",
    "                # 画出边界框和置信度\n",
    "                cv2.rectangle(img, (xyxy[0], xyxy[1]), (xyxy[2], xyxy[3]), (0, 0, 255), 2)\n",
    "                cv2.putText(img, confidence_text, (xyxy[0], xyxy[1]-10), cv2.FONT_HERSHEY_SIMPLEX, 0.7, (0,0,255), 2)\n",
    "\n",
    "    # 生成唯一的文件名\n",
    "    unique_save_path = os.path.join(save_path, f\"1_{os.path.basename(img_path)}\")\n",
    "    cv2.imwrite(unique_save_path, img)\n",
    "    print(f\"Image saved: {unique_save_path}\")"
   ]
  },
  {
   "cell_type": "code",
   "execution_count": 14,
   "metadata": {},
   "outputs": [
    {
     "name": "stdout",
     "output_type": "stream",
     "text": [
      "\n",
      "image 1/1 /Users/holmes/Desktop/probe/warped_image.png: 640x640 1 wood_knot, 400.6ms\n",
      "Speed: 3.1ms preprocess, 400.6ms inference, 1.2ms postprocess per image at shape (1, 3, 640, 640)\n",
      "[345.9314880371094, 288.6927795410156, 409.6512756347656, 346.50323486328125]\n"
     ]
    }
   ],
   "source": [
    "model = YOLO(model_path)\n",
    "\n",
    "results = model(test_data, save_dir=save_path)\n",
    "\n",
    "for r in results:\n",
    "\n",
    "    for box in r.boxes:\n",
    "\n",
    "        coordinates = (box.xyxy).tolist()[0]\n",
    "\n",
    "        print(coordinates)\n",
    "\n",
    "        left, top, right, bottom = coordinates[0], coordinates[1], coordinates[2], coordinates[3]\n",
    "\n",
    "        cv2.rectangle(img, (int(left), int(top)), (int(right), int(bottom)), (255, 0, 0), 2)\n",
    "\n",
    "        cv2.imshow('window', img)\n"
   ]
  },
  {
   "cell_type": "code",
   "execution_count": 1,
   "metadata": {},
   "outputs": [
    {
     "name": "stdout",
     "output_type": "stream",
     "text": [
      "\n",
      "image 1/1 /Users/holmes/Desktop/probe/warped_image.png: 640x640 1 wood_knot, 403.9ms\n",
      "Speed: 3.0ms preprocess, 403.9ms inference, 0.7ms postprocess per image at shape (1, 3, 640, 640)\n",
      "Image saved: /Users/holmes/Desktop/probe/warped_image_with_boxes.png\n"
     ]
    }
   ],
   "source": [
    "from ultralytics import YOLO\n",
    "import cv2\n",
    "import os\n",
    "\n",
    "model_path = \"/Users/holmes/Documents/UNI-Bamberg/4.Semester_MA/Masterthesis/xAI_Masterthesis_Pan/Code/Detection/YOLO/202403_Schweinfurt/Uni-Wood/Schweinfurt-Yolo-Aug-Test-5/weights/best.pt\"\n",
    "\n",
    "image_folder = \"/Users/holmes/Desktop/probe\"\n",
    "test_data = \"/Users/holmes/Desktop/probe/warped_image.png\"\n",
    "\n",
    "save_path = \"/Users/holmes/Desktop/probe\"\n",
    "if not os.path.exists(save_path):\n",
    "    os.makedirs(save_path)\n",
    "\n",
    "# 加载模型\n",
    "model = YOLO(model_path)\n",
    "\n",
    "results = model(test_data)\n",
    "\n",
    "img = cv2.imread(test_data)\n",
    "\n",
    "for r in results:\n",
    "    for box in r.boxes:\n",
    "        coordinates = (box.xyxy).tolist()[0]\n",
    "        left, top, right, bottom = coordinates[0], coordinates[1], coordinates[2], coordinates[3]\n",
    "\n",
    "        cv2.rectangle(img, (int(left), int(top)), (int(right), int(bottom)), (0, 255, 0), 2)\n",
    "\n",
    "        confidence = box.conf[0]\n",
    "        confidence_text = f\"{confidence:.2f}\"\n",
    "        cv2.putText(img, confidence_text, (int(left), int(top) - 10), cv2.FONT_HERSHEY_SIMPLEX, 0.7, (0, 255, 0), 2)\n",
    "\n",
    "output_filename = os.path.join(save_path, \"warped_image_with_boxes.png\")\n",
    "cv2.imwrite(output_filename, img)\n",
    "print(f\"Image saved: {output_filename}\")\n",
    "\n",
    "# cv2.imshow('Detected Image', img)\n",
    "cv2.waitKey(0)\n",
    "cv2.destroyAllWindows()"
   ]
  },
  {
   "cell_type": "code",
   "execution_count": null,
   "metadata": {},
   "outputs": [],
   "source": []
  }
 ],
 "metadata": {
  "kernelspec": {
   "display_name": "Python 3 (ipykernel)",
   "language": "python",
   "name": "python3"
  },
  "language_info": {
   "codemirror_mode": {
    "name": "ipython",
    "version": 3
   },
   "file_extension": ".py",
   "mimetype": "text/x-python",
   "name": "python",
   "nbconvert_exporter": "python",
   "pygments_lexer": "ipython3",
   "version": "3.11.5"
  }
 },
 "nbformat": 4,
 "nbformat_minor": 2
}
